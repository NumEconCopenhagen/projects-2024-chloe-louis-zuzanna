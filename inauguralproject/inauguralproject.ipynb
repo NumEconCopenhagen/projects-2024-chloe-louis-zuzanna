{
 "cells": [
  {
   "cell_type": "markdown",
   "metadata": {},
   "source": [
    "# Inaugural Project"
   ]
  },
  {
   "attachments": {},
   "cell_type": "markdown",
   "metadata": {},
   "source": [
    "> **Note the following:** \n",
    "> 1. This is an example of how to structure your **inaugural project**.\n",
    "> 1. Remember the general advice on structuring and commenting your code\n",
    "> 1. The `inauguralproject.py` file includes a function which can be used multiple times in this notebook."
   ]
  },
  {
   "cell_type": "markdown",
   "metadata": {},
   "source": [
    "Imports and set magics:"
   ]
  },
  {
   "cell_type": "markdown",
   "metadata": {},
   "source": [
    "# Question 1"
   ]
  },
  {
   "cell_type": "markdown",
   "metadata": {},
   "source": [
    "**Explain how you solve the model**"
   ]
  },
  {
   "cell_type": "markdown",
   "metadata": {},
   "source": [
    "**Defined variables and equasions**"
   ]
  },
  {
   "cell_type": "code",
   "execution_count": 8,
   "metadata": {},
   "outputs": [],
   "source": [
    "import numpy as np\n",
    "import matplotlib.pyplot as plt\n",
    "\n",
    "#defined variables and equasions\n",
    "\n",
    "def omega1B(omega1A):\n",
    "    return 1 - omega1A\n",
    "\n",
    "def omega2B(omega2A):\n",
    "    return 1 - omega2A\n",
    "\n",
    "#preferences\n",
    "alpha = 1/3\n",
    "beta = 2/3\n",
    "\n",
    "#endowment\n",
    "omega1A = 0.8\n",
    "omega2A = 0.3\n",
    "\n",
    "\n",
    "#utility functions\n",
    "def utility_A(x1A, x2A, alpha):\n",
    "    return x1A**alpha * x2A**(1-alpha)\n",
    "\n",
    "def utility_B(x1B, x2B, beta):\n",
    "    return x1B**beta * x2B**(1-beta)\n",
    "\n",
    "#demand functions\n",
    "def demand_1A(p1, p2, omega1A, omega2A):\n",
    "    return alpha * ((p1 * omega1A + p2 * omega2A)/p1)\n",
    "\n",
    "def demand_2A(p1, p2, omega1A, omega2A):\n",
    "    return (1-alpha)*((p1 * omega1A + p2 * omega2A)/p2)\n",
    "\n",
    "def demand_1B(p1, p2, omega1B, omega2B):\n",
    "    return beta*((p1*omega1B + p2*omega2B)/p1)\n",
    "\n",
    "def demand_2B(p1, p2, omega1B, omega2B):\n",
    "    return (1-beta)*((p1 * omega1B + p2 * omega2B)/p2)\n",
    "\n",
    "#market clearing\n",
    "def check_market_clearing1(alpha, p1, p2, omega1A, omega1B):\n",
    "    return demand_1A(p1, p2, omega1A, omega2A) + demand_1B(p1, p2, omega1B, omega2B) == omega1A + omega1B\n",
    "def check_market_clearing2(beta, p1, p2, omega2A, omega2B):\n",
    "    return demand_2A(p1, p2, omega1A, omega2A) + demand_2B(p1, p2, omega1B, omega2B) == omega2A + omega2B\n",
    "\n",
    "def eps1(p1, p2, demand_1A, omega1A, demand_1B, omega1B):\n",
    "    return demand_1A(p1, p2, omega1A, omega2A) - omega1A + demand_1B(p1, p2, omega1B, omega2B) - omega1B\n",
    "def eps2(p1,p2, demand_2A, omega2A, demand_2B, omega2B):\n",
    "    return demand_2A(p1, p2, omega1A, omega2A) - omega2A + demand_2B(p1, p2, omega1B, omega2B) - omega2B\n",
    "  "
   ]
  },
  {
   "cell_type": "code",
   "execution_count": 9,
   "metadata": {},
   "outputs": [
    {
     "data": {
      "image/png": "[encoded data removed]",
      "text/plain": [
       "<Figure size 600x600 with 3 Axes>"
      ]
     },
     "metadata": {},
     "output_type": "display_data"
    }
   ],
   "source": [
    "#task 1\n",
    "import numpy as np\n",
    "import matplotlib.pyplot as plt\n",
    "\n",
    "# a. total endowment\n",
    "omega1bar = 1.0\n",
    "omega2bar = 1.0\n",
    "\n",
    "# b. figure set up\n",
    "fig = plt.figure(frameon=False,figsize=(6,6), dpi=100)\n",
    "ax_A = fig.add_subplot(1, 1, 1)\n",
    "\n",
    "ax_A.set_xlabel(\"$x_1^A$\")\n",
    "ax_A.set_ylabel(\"$x_2^A$\")\n",
    "\n",
    "temp = ax_A.twinx()\n",
    "temp.set_ylabel(\"$x_2^B$\")\n",
    "ax_B = temp.twiny()\n",
    "ax_B.set_xlabel(\"$x_1^B$\")\n",
    "ax_B.invert_xaxis()\n",
    "ax_B.invert_yaxis()\n",
    "\n",
    "#endowment\n",
    "omega1A = 0.8\n",
    "omega2A = 0.3\n",
    "\n",
    "# A\n",
    "ax_A.scatter(omega1A,omega2A,marker='s',color='black',label='endowment')\n",
    "ax_A.text(omega1A, omega2A, f'({omega1A}, {omega2A})', verticalalignment='bottom')\n",
    "\n",
    "# Define range for xA1 and xA2\n",
    "N = 75\n",
    "x1A_range = np.linspace(0, 1, N+1)\n",
    "x2A_range = np.linspace(0, 1, N+1)\n",
    "\n",
    "# Find combinations that satisfy the conditions\n",
    "satisfying_combinations = []\n",
    "for x1A in x1A_range:\n",
    "    for x2A in x2A_range:\n",
    "        if utility_A(x1A, x2A, alpha) >= utility_A(omega1A, omega2A, alpha) and utility_B(1 - x1A, 1 - x2A, beta) >= utility_B(1 - omega1A, 1 - omega2A, beta):\n",
    "            satisfying_combinations.append((1 - x1A, 1 - x2A)) # Convert to B's coordinates\n",
    "\n",
    "# Extract x1B and x2B for plotting\n",
    "x1B_values, x2B_values = zip(*satisfying_combinations)\n",
    "\n",
    "# Plot satisfying combinations\n",
    "ax_B.scatter(x1B_values, x2B_values, marker='o', color = 'blue', label='Satisfying Combinations')\n",
    "\n",
    "# limits\n",
    "ax_A.plot([0,omega1bar],[0,0],lw=2,color='black')\n",
    "ax_A.plot([0,omega1bar],[omega2bar,omega2bar],lw=2,color='black')\n",
    "ax_A.plot([0,0],[0,omega2bar],lw=2,color='black')\n",
    "ax_A.plot([omega1bar,omega1bar],[0,omega2bar],lw=2,color='black')\n",
    "\n",
    "ax_A.set_xlim([-0.1, omega1bar + 0.1])\n",
    "ax_A.set_ylim([-0.1, omega2bar + 0.1])    \n",
    "ax_B.set_xlim([omega1bar + 0.1, -0.1])\n",
    "ax_B.set_ylim([omega2bar + 0.1, -0.1])\n",
    "\n",
    "# Mesh\n",
    "x = np.linspace(0, omega1bar, 10)\n",
    "y = np.linspace(0, omega2bar, 10)\n",
    "X, Y = np.meshgrid(x, y)\n",
    "Z = np.zeros_like(X)\n",
    "\n",
    "ax_A.contourf(X, Y, Z, 20, cmap='RdGy', alpha=0.1)\n",
    "\n",
    "# Scale\n",
    "ax_A.set_xticks(np.arange(0, omega1bar+0.1, 0.2))\n",
    "ax_A.set_yticks(np.arange(0, omega2bar+0.1, 0.2))\n",
    "ax_B.set_xticks(np.arange(0, omega1bar+0.1, 0.2))\n",
    "ax_B.set_yticks(np.arange(0, omega2bar+0.1, 0.2))\n",
    "\n",
    "ax_A.grid(True)\n",
    "\n",
    "ax_A.set_xlim([-0.1, omega1bar + 0.1])\n",
    "ax_A.set_ylim([-0.1, omega2bar + 0.1])    \n",
    "ax_B.set_xlim([omega1bar + 0.1, -0.1])\n",
    "ax_B.set_ylim([omega2bar + 0.1, -0.1])\n",
    "\n",
    "ax_A.legend(frameon=True, loc='upper right', bbox_to_anchor=(1.6, 1.0))\n",
    "\n",
    "plt.show()"
   ]
  },
  {
   "cell_type": "markdown",
   "metadata": {},
   "source": [
    "# Question 2"
   ]
  },
  {
   "cell_type": "markdown",
   "metadata": {},
   "source": [
    "Explain your code and procedure"
   ]
  },
  {
   "cell_type": "code",
   "execution_count": 10,
   "metadata": {},
   "outputs": [
    {
     "ename": "NameError",
     "evalue": "name 'ExchangeEconomyClass' is not defined",
     "output_type": "error",
     "traceback": [
      "\u001b[1;31m---------------------------------------------------------------------------\u001b[0m",
      "\u001b[1;31mNameError\u001b[0m                                 Traceback (most recent call last)",
      "Cell \u001b[1;32mIn[10], line 1\u001b[0m\n\u001b[1;32m----> 1\u001b[0m \u001b[38;5;28;01mclass\u001b[39;00m \u001b[38;5;21;01mExtendedExchangeEconomy\u001b[39;00m(ExchangeEconomyClass):\n\u001b[0;32m      3\u001b[0m     \u001b[38;5;28;01mdef\u001b[39;00m \u001b[38;5;21mcal_market_clearing_errors\u001b[39m(\u001b[38;5;28mself\u001b[39m, p1_values):\n\u001b[0;32m      5\u001b[0m         errors \u001b[38;5;241m=\u001b[39m []\n",
      "\u001b[1;31mNameError\u001b[0m: name 'ExchangeEconomyClass' is not defined"
     ]
    }
   ],
   "source": [
    "class ExtendedExchangeEconomy(ExchangeEconomyClass):\n",
    "\n",
    "    def cal_market_clearing_errors(self, p1_values):\n",
    "    \n",
    "        errors = []\n",
    "        for p1 in p1_values:\n",
    "            eps1, eps2 = self.check_market_clearing(p1)\n",
    "            errors.append((eps1, eps2))\n",
    "        return np.array(errors)\n",
    "\n",
    "    def market_clearing_price(self, p1_values):\n",
    "        \"\"\"Find the p1 value that minimizes the sum of absolute market clearing errors.\"\"\"\n",
    "        errors = self.cal_market_clearing_errors(p1_values)\n",
    "        absolute_errors = np.sum(np.abs(errors), axis=1)\n",
    "        min_error_index = np.argmin(absolute_errors)\n",
    "        return p1_values[min_error_index], errors[min_error_index]\n",
    "\n",
    "# Define the range of prices p1\n",
    "P1 = np.linspace(0.5, 2.5, 75)\n",
    "\n",
    "# Create an instance of the extended exchange economy class\n",
    "extended_economy = ExtendedExchangeEconomy()\n",
    "\n",
    "# Calculate market clearing errors for the range of p1 values\n",
    "market_clearing_errors = extended_economy.cal_market_clearing_errors(P1)\n",
    "\n",
    "# Find the market clearing price\n",
    "market_clearing_price, min_error = extended_economy.market_clearing_price(P1)\n",
    "\n",
    "print(market_clearing_price, min_error)\n"
   ]
  },
  {
   "cell_type": "markdown",
   "metadata": {},
   "source": [
    "# Question 3"
   ]
  },
  {
   "cell_type": "markdown",
   "metadata": {},
   "source": [
    "Explain your code and procedure"
   ]
  },
  {
   "cell_type": "code",
   "execution_count": null,
   "metadata": {},
   "outputs": [
    {
     "name": "stdout",
     "output_type": "stream",
     "text": [
      "Optimal consumption for A (xA1, xA2): (0.26692358585244436, 0.5330764141475557)\n",
      "Market clearing price for x1: 2.9971124411697394\n",
      "Market clearing price for x2: 1\n"
     ]
    }
   ],
   "source": [
    "#finding the market clearingg price\n",
    "#A is maximizing their own utility \n",
    "\n",
    "# Numerical search for market clearing price\n",
    "\n",
    "\n",
    "import numpy as np\n",
    "from scipy.optimize import minimize\n",
    "\n",
    "# Total endowment\n",
    "omega1A = 0.8\n",
    "omega2A = 0.3\n",
    "omega1B = 1 - omega1A\n",
    "omega2B = 1 - omega2A\n",
    "\n",
    "# Parameters\n",
    "alpha = 1/3 # From the problem statement\n",
    "beta = 2/3 # From the problem statement\n",
    "p2 = 1\n",
    "market_clearing_price_x2 = p2\n",
    "\n",
    "# Define utility functions\n",
    "def utility_A(x1A, x2A):\n",
    "    return x1A**alpha * x2A**(1-alpha)\n",
    "\n",
    "def utility_B(x1B, x2B):\n",
    "    return x1B**beta * x2B**(1-beta)\n",
    "\n",
    "# Define A's budget constraint\n",
    "def budget_constraint_A(x, p1):\n",
    "    x1A, x2A = x\n",
    "    return omega1A * p1 - (p1 * x1A + x2A)\n",
    "\n",
    "# Define A's objective function (negative utility to maximize)\n",
    "def objective_A(x):\n",
    "    x1A, x2A = x\n",
    "    return -utility_A(x1A, x2A)\n",
    "\n",
    "# Initial guess for A's consumption\n",
    "initial_guess_A = [0.5, 0.5]\n",
    "\n",
    "# Optimization problem for A\n",
    "result_A = minimize(objective_A, initial_guess_A, constraints={'type': 'eq', 'fun': budget_constraint_A, 'args': (1,)}, bounds=[(0, None), (0, None)])\n",
    "\n",
    "# Extract optimal consumption for A\n",
    "x1A_optimal, x2A_optimal = result_A.x\n",
    "print(\"Optimal consumption for A (xA1, xA2):\", (x1A_optimal, x2A_optimal))\n",
    "\n",
    "# Calculate B's consumption\n",
    "x1B_optimal = omega1B - x1A_optimal\n",
    "x2B_optimal = omega2B - x2A_optimal\n",
    "x1B_optimal = max(0, x1B_optimal) # Ensure B's consumption is non-negative\n",
    "x2B_optimal = max(0, x2B_optimal) # Ensure B's consumption is non-negative\n",
    "\n",
    "# Calculate total demand for each good\n",
    "total_demand_x1 = x1A_optimal + x1B_optimal\n",
    "total_demand_x2 = x2A_optimal + x2B_optimal\n",
    "\n",
    "# Calculate market clearing price for x1\n",
    "market_clearing_price_x1 = omega1A / total_demand_x1\n",
    "print(\"Market clearing price for x1:\", market_clearing_price_x1)\n",
    "print(\"Market clearing price for x2:\", market_clearing_price_x2)\n"
   ]
  },
  {
   "cell_type": "markdown",
   "metadata": {},
   "source": [
    "# Question 4"
   ]
  },
  {
   "cell_type": "code",
   "execution_count": 41,
   "metadata": {},
   "outputs": [
    {
     "name": "stdout",
     "output_type": "stream",
     "text": [
      "Optimal p1: 1.0\n",
      "Optimal consumption for A: (1, 0.6000000000000001)\n",
      "Optimal consumption for B: (0, 0.39999999999999997)\n",
      "Maximum utility for A: 0.7113786608980126\n"
     ]
    }
   ],
   "source": [
    "import numpy as np\n",
    "from scipy.optimize import minimize\n",
    "\n",
    "# Total endowment\n",
    "omega1A = 0.8\n",
    "omega2A = 0.3\n",
    "omega1B = 1 - omega1A\n",
    "omega2B = 1 - omega2A\n",
    "\n",
    "# Parameters\n",
    "alpha = 1/3 # From the problem statement\n",
    "beta = 2/3 # From the problem statement\n",
    "\n",
    "# Define utility function for consumer A\n",
    "def u_A(x1, x2):\n",
    "    return x1**alpha * x2**(1-alpha)\n",
    "\n",
    "# Define the objective function to maximize for consumer A\n",
    "def objective_A(p1):\n",
    "    # Calculate xB1 and xB2 based on p1\n",
    "    xB1 = omega1B - (omega1A * p1) / p1\n",
    "    xB2 = omega2B - (omega2A * p1) / p1\n",
    "    # Ensure non-negative consumption for B\n",
    "    xB1 = max(0, xB1)\n",
    "    xB2 = max(0, xB2)\n",
    "    # Calculate the utility for consumer A\n",
    "    utility = u_A(1 - xB1, 1 - xB2)\n",
    "    return -utility # We want to maximize utility, so return negative of utility\n",
    "\n",
    "# Define the penalty function for the constraint p1 in P1\n",
    "def penalty_function(p1):\n",
    "    if p1 < 0.5 or p1 > 2.5:\n",
    "        return 1e6 # Penalty factor for violating constraint\n",
    "    else:\n",
    "        return 0\n",
    "\n",
    "# Define the total objective function (negative utility + penalty)\n",
    "def total_objective_A(p1):\n",
    "    return objective_A(p1) + penalty_function(p1)\n",
    "\n",
    "# Find the optimal p1 using penalty approach\n",
    "result = minimize(total_objective_A, x0=1, bounds=[(0.5, 2.5)])\n",
    "\n",
    "# Extract the optimal p1\n",
    "optimal_p1 = result.x[0]\n",
    "\n",
    "# Calculate xB1 and xB2 based on the optimal p1\n",
    "xB1 = omega1B - (omega1A * optimal_p1) / optimal_p1\n",
    "xB2 = omega2B - (omega2A * optimal_p1) / optimal_p1\n",
    "\n",
    "# Ensure non-negative consumption for B\n",
    "xB1 = max(0, xB1)\n",
    "xB2 = max(0, xB2)\n",
    "\n",
    "# Calculate the consumption for A\n",
    "xA1 = 1 - xB1\n",
    "xA2 = 1 - xB2\n",
    "\n",
    "# Calculate the utility for A\n",
    "max_utility = -result.fun\n",
    "\n",
    "# Output the result\n",
    "print(\"Optimal p1:\", optimal_p1)\n",
    "print(\"Optimal consumption for A:\", (xA1, xA2))\n",
    "print(\"Optimal consumption for B:\", (xB1, xB2))\n",
    "print(\"Maximum utility for A:\", max_utility)"
   ]
  },
  {
   "cell_type": "markdown",
   "metadata": {},
   "source": [
    "# Question 5"
   ]
  },
  {
   "cell_type": "code",
   "execution_count": 35,
   "metadata": {},
   "outputs": [
    {
     "name": "stdout",
     "output_type": "stream",
     "text": [
      "Best Allocation (xA1, xA2): (1.0, 1.0)\n",
      "Max Utility: 1.3036588971875662\n"
     ]
    }
   ],
   "source": [
    "def utility_A(x1A, x2A, alpha):\n",
    "    return x1A**alpha * x2A**(1-alpha)\n",
    "\n",
    "def utility_B(x1B, x2B, beta):\n",
    "    return x1B**beta * x2B**(1-beta)\n",
    "\n",
    "def omega1B(omega1A):\n",
    "    return 1 - omega1A\n",
    "\n",
    "def omega2B(omega2A):\n",
    "    return 1 - omega2A\n",
    "\n",
    "alpha = 1/3  # New value for alpha\n",
    "beta = 2/3   # New value for beta\n",
    "omega_A1 = 0.8  # New value for omega_A1\n",
    "omega_A2 = 0.3  # New value for omega_A2\n",
    "N = 75  # Example value for N\n",
    "\n",
    "best_allocation = None\n",
    "max_utility = float('-inf')\n",
    "\n",
    "for x1A in range(N + 1):\n",
    "    for x2A in range(N + 1):\n",
    "        x1B = omega1B(omega_A1)\n",
    "        x2B = omega2B(omega_A2)\n",
    "        \n",
    "        # Check if the allocation is within the constraint set\n",
    "        if (utility_A(x1A/N, x2A/N, alpha) >= utility_A(omega_A1, omega_A2, alpha) and\n",
    "            utility_B(x1B, x2B, beta) >= utility_B(omega1B(omega_A1), omega2B(omega_A2), beta)):\n",
    "            \n",
    "            # Calculate the utility for player A and B\n",
    "            utility = utility_A(x1A/N, x2A/N, alpha) + utility_B(x1B, x2B, beta)\n",
    "            \n",
    "            # Update the best allocation if the current utility is greater\n",
    "            if utility > max_utility:\n",
    "                max_utility = utility\n",
    "                best_allocation = (x1A/N, x2A/N)\n",
    "\n",
    "print(\"Best Allocation (xA1, xA2):\", best_allocation)\n",
    "print(\"Max Utility:\", max_utility)\n"
   ]
  },
  {
   "cell_type": "code",
   "execution_count": 39,
   "metadata": {},
   "outputs": [
    {
     "name": "stdout",
     "output_type": "stream",
     "text": [
      "Optimal Allocation (xA1, xA2): [0.68087076 0.72506828]\n",
      "Max Utility for Player A: 0.7100258610697728\n",
      "Optimal Allocation (xB1, xB2): [0.31912924 0.27493172]\n",
      "Max Utility for Player B: 0.30365889718756617\n"
     ]
    }
   ],
   "source": [
    "from scipy.optimize import minimize\n",
    "\n",
    "def utility_A(x1A, x2A, alpha):\n",
    "    return x1A**alpha * x2A**(1-alpha)\n",
    "\n",
    "def utility_B(x1B, x2B, beta):\n",
    "    return x1B**beta * x2B**(1-beta)\n",
    "\n",
    "def omega1B(omega1A):\n",
    "    return 1 - omega1A\n",
    "\n",
    "def omega2B(omega2A):\n",
    "    return 1 - omega2A\n",
    "\n",
    "alpha = 1/3  # Value for alpha\n",
    "beta = 2/3   # Value for beta\n",
    "omega1A = 0.8  # Value for omega1A\n",
    "omega2A = 0.3  # Value for omega2A\n",
    "\n",
    "def constraint(x):\n",
    "    x1A, x2A = x\n",
    "    return utility_B(1 - x1A, 1 - x2A, beta) - utility_B(omega1B(omega1A), omega2B(omega2A), beta)\n",
    "\n",
    "# Initial guess for xA1 and xA2\n",
    "x0 = [0.5, 0.5]\n",
    "\n",
    "# Define bounds for xA1 and xA2\n",
    "bounds = [(0, 1), (0, 1)]\n",
    "\n",
    "# Define the optimization problem\n",
    "optimization_result = minimize(lambda x: -utility_A(x[0], x[1], alpha), x0, bounds=bounds, constraints={'type': 'ineq', 'fun': constraint})\n",
    "\n",
    "# Extract the optimal allocation\n",
    "optimal_allocation = optimization_result.x\n",
    "max_utility_A = -optimization_result.fun\n",
    "optimal_allocationB =1-optimal_allocation\n",
    "\n",
    "\n",
    "print(\"Optimal Allocation (xA1, xA2):\", optimal_allocation)\n",
    "print(\"Max Utility for Player A:\", max_utility_A)\n",
    "print(\"Optimal Allocation (xB1, xB2):\", optimal_allocationB)\n",
    "# Calculate optimal allocation for player A\n",
    "optimal_allocation_A = optimization_result.x\n",
    "x1A_optimal, x2A_optimal = optimal_allocation_A\n",
    "\n",
    "# Calculate allocation for player B using endowment functions\n",
    "x1B_optimal = omega1B(omega1A)\n",
    "x2B_optimal = omega2B(omega2A)\n",
    "\n",
    "# Calculate maximal utility for player B\n",
    "max_utility_B = utility_B(x1B_optimal, x2B_optimal, beta)\n",
    "\n",
    "print(\"Max Utility for Player B:\", max_utility_B)\n",
    "\n"
   ]
  },
  {
   "cell_type": "markdown",
   "metadata": {},
   "source": [
    "# Question 6"
   ]
  },
  {
   "cell_type": "code",
   "execution_count": 50,
   "metadata": {},
   "outputs": [
    {
     "name": "stdout",
     "output_type": "stream",
     "text": [
      "Optimal consumption for A: (0.33341166147388446, 0.6665883190561481)\n",
      "Optimal consumption for B: (0.6665883385261155, 0.3334116809438519)\n",
      "Total utility: 1.0582673533675457\n"
     ]
    }
   ],
   "source": [
    "from scipy.optimize import minimize\n",
    "\n",
    "# Define the utility functions for A and B\n",
    "def u_A(xA1, xA2):\n",
    "    return xA1 ** alpha * xA2 ** (1 - alpha)\n",
    "\n",
    "def u_B(xB1, xB2):\n",
    "    return xB1 ** beta * xB2 ** (1 - beta)\n",
    "\n",
    "# Define the objective function to maximize (aggregate utility)\n",
    "def objective(x):\n",
    "    xA1, xA2 = x\n",
    "    xB1 = 1 - xA1\n",
    "    xB2 = 1 - xA2\n",
    "    return -(u_A(xA1, xA2) + u_B(xB1, xB2)) # We want to maximize aggregate utility\n",
    "\n",
    "# Define the constraints (consumption must be within [0, 1])\n",
    "constraint = ({'type': 'ineq', 'fun': lambda x: x[0]}, # xA1 >= 0\n",
    "                {'type': 'ineq', 'fun': lambda x: x[1]}, # xA2 >= 0\n",
    "                {'type': 'ineq', 'fun': lambda x: 1 - x[0]}, # xA1 <= 1\n",
    "                {'type': 'ineq', 'fun': lambda x: 1 - x[1]}) # xA2 <= 1\n",
    "\n",
    "# Initial guess for A's consumption\n",
    "initial_guess = [0.5, 0.5]\n",
    "\n",
    "# Optimization problem\n",
    "result = minimize(objective, initial_guess, constraints=constraint)\n",
    "\n",
    "# Extract optimal consumption for A and B\n",
    "xA1_optimal, xA2_optimal = result.x\n",
    "xB1_optimal = 1 - xA1_optimal\n",
    "xB2_optimal = 1 - xA2_optimal\n",
    "\n",
    "# Calculate the total utility\n",
    "total_utility = -result.fun\n",
    "\n",
    "# Output the result\n",
    "print(\"Optimal consumption for A:\", (xA1_optimal, xA2_optimal))\n",
    "print(\"Optimal consumption for B:\", (xB1_optimal, xB2_optimal))\n",
    "print(\"Total utility:\", total_utility)\n"
   ]
  },
  {
   "cell_type": "markdown",
   "metadata": {},
   "source": [
    "# Question 7"
   ]
  },
  {
   "cell_type": "code",
   "execution_count": 55,
   "metadata": {},
   "outputs": [
    {
     "data": {
      "image/png": "[encoded data removed]",
      "text/plain": [
       "<Figure size 800x600 with 1 Axes>"
      ]
     },
     "metadata": {},
     "output_type": "display_data"
    }
   ],
   "source": [
    "import numpy as np\n",
    "import matplotlib.pyplot as plt\n",
    "\n",
    "# Define the number of elements\n",
    "num_elements = 50\n",
    "\n",
    "# Generate random values for omega_A1 and omega_A2\n",
    "omega_A1 = np.random.uniform(0, 1, num_elements)\n",
    "omega_A2 = np.random.uniform(0, 1, num_elements)\n",
    "\n",
    "# Create the set W\n",
    "W = [(omega_A1[i], omega_A2[i]) for i in range(num_elements)]\n",
    "\n",
    "# Extract x and y values\n",
    "x_values = [pair[0] for pair in W]\n",
    "y_values = [pair[1] for pair in W]\n",
    "\n",
    "# Plot the set W\n",
    "plt.figure(figsize=(8, 6))\n",
    "plt.scatter(x_values, y_values, color='blue', marker='o')\n",
    "plt.title('Set W with 50 Elements')\n",
    "plt.xlabel('omega_A1')\n",
    "plt.ylabel('omega_A2')\n",
    "plt.grid(True)\n",
    "plt.show()"
   ]
  },
  {
   "cell_type": "markdown",
   "metadata": {},
   "source": [
    "# Question 8"
   ]
  },
  {
   "cell_type": "code",
   "execution_count": null,
   "metadata": {},
   "outputs": [],
   "source": []
  },
  {
   "cell_type": "markdown",
   "metadata": {},
   "source": [
    "ADD CONCISE CONLUSION."
   ]
  }
 ],
 "metadata": {
  "kernelspec": {
   "display_name": "base",
   "language": "python",
   "name": "python3"
  },
  "language_info": {
   "codemirror_mode": {
    "name": "ipython",
    "version": 3
   },
   "file_extension": ".py",
   "mimetype": "text/x-python",
   "name": "python",
   "nbconvert_exporter": "python",
   "pygments_lexer": "ipython3",
   "version": "3.11.5"
  },
  "toc-autonumbering": true,
  "vscode": {
   "interpreter": {
    "hash": "47ef90cdf3004d3f859f1fb202523c65c07ba7c22eefd261b181f4744e2d0403"
   }
  }
 },
 "nbformat": 4,
 "nbformat_minor": 4
}
