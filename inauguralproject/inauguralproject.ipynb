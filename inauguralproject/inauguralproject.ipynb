{
 "cells": [
  {
   "cell_type": "markdown",
   "metadata": {},
   "source": [
    "# Inaugural Project"
   ]
  },
  {
   "attachments": {},
   "cell_type": "markdown",
   "metadata": {},
   "source": [
    "> **Note the following:** \n",
    "> 1. This is an example of how to structure your **inaugural project**.\n",
    "> 1. Remember the general advice on structuring and commenting your code\n",
    "> 1. The `inauguralproject.py` file includes a function which can be used multiple times in this notebook."
   ]
  },
  {
   "cell_type": "markdown",
   "metadata": {},
   "source": [
    "# Question 1"
   ]
  },
  {
   "cell_type": "markdown",
   "metadata": {},
   "source": [
    "**Firstly, we have defined all the variables and equations given in the assignment.**\n"
   ]
  },
  {
   "cell_type": "code",
   "execution_count": 3,
   "metadata": {},
   "outputs": [],
   "source": [
    "import numpy as np\n",
    "import matplotlib.pyplot as plt\n",
    "\n",
    "#preferences\n",
    "alpha = 1/3\n",
    "beta = 2/3\n",
    "\n",
    "#endowment\n",
    "omega1A = 0.8\n",
    "omega2A = 0.3\n",
    "\n",
    "def omega1B(omega1A):\n",
    "    return 1 - omega1A\n",
    "\n",
    "def omega2B(omega2A):\n",
    "    return 1 - omega2A\n",
    "\n",
    "#utility functions\n",
    "def utility_A(x1A, x2A, alpha):\n",
    "    return x1A**alpha * x2A**(1-alpha)\n",
    "\n",
    "def utility_B(x1B, x2B, beta):\n",
    "    return x1B**beta * x2B**(1-beta)\n",
    "\n",
    "#demand functions\n",
    "def x1A(p1, p2, omega1A, omega2A):\n",
    "    return alpha * ((p1 * omega1A + p2 * omega2A)/p1)\n",
    "\n",
    "def x2A(p1, p2, omega1A, omega2A):\n",
    "    return (1-alpha)*((p1 * omega1A + p2 * omega2A)/p2)\n",
    "\n",
    "def x1B(p1, p2, omega1B, omega2B):\n",
    "    return beta*((p1*omega1B + p2*omega2B)/p1)\n",
    "\n",
    "def x2B(p1, p2, omega1B, omega2B):\n",
    "    return (1-beta)*((p1 * omega1B + p2 * omega2B)/p2)\n",
    "\n",
    "#market clearing\n",
    "def check_market_clearing1(alpha, p1, p2, omega1A, omega1B):\n",
    "    return x1A(p1, p2, omega1A, omega2A) + x1B(p1, p2, omega1B, omega2B) == omega1A + omega1B\n",
    "def check_market_clearing2(beta, p1, p2, omega2A, omega2B):\n",
    "    return x2A(p1, p2, omega1A, omega2A) + x2B(p1, p2, omega1B, omega2B) == omega2A + omega2B\n",
    "\n",
    "def eps1(p1, p2, x1A, omega1A, x1B, omega1B):\n",
    "    return x1A(p1, p2, omega1A, omega2A) - omega1A + x1B(p1, p2, omega1B, omega2B) - omega1B\n",
    "def eps2(p1,p2, x2A, omega2A, x2B, omega2B):\n",
    "    return x2A(p1, p2, omega1A, omega2A) - omega2A + x2B(p1, p2, omega1B, omega2B) - omega2B\n",
    "  "
   ]
  },
  {
   "cell_type": "markdown",
   "metadata": {},
   "source": [
    "**In this code we have presented the indifference curves in the Edgeworth box and the area, where both of the consumers can improve their utility.**"
   ]
  },
  {
   "cell_type": "code",
   "execution_count": 9,
   "metadata": {},
   "outputs": [
    {
     "data": {
      "image/png": "[encoded data removed]",
      "text/plain": [
       "<Figure size 600x600 with 3 Axes>"
      ]
     },
     "metadata": {},
     "output_type": "display_data"
    }
   ],
   "source": [
    "import numpy as np\n",
    "import matplotlib.pyplot as plt\n",
    "\n",
    "# a. total endowment\n",
    "omega1bar = 1.0\n",
    "omega2bar = 1.0\n",
    "\n",
    "# b. figure set up\n",
    "fig = plt.figure(frameon=False,figsize=(6,6), dpi=100)\n",
    "ax_A = fig.add_subplot(1, 1, 1)\n",
    "\n",
    "ax_A.set_xlabel(\"$x_1^A$\")\n",
    "ax_A.set_ylabel(\"$x_2^A$\")\n",
    "\n",
    "temp = ax_A.twinx()\n",
    "temp.set_ylabel(\"$x_2^B$\")\n",
    "ax_B = temp.twiny()\n",
    "ax_B.set_xlabel(\"$x_1^B$\")\n",
    "ax_B.invert_xaxis()\n",
    "ax_B.invert_yaxis()\n",
    "\n",
    "#endowment\n",
    "omega1A = 0.8\n",
    "omega2A = 0.3\n",
    "\n",
    "# A\n",
    "ax_A.scatter(omega1A,omega2A,marker='s',color='black',label='endowment')\n",
    "ax_A.text(omega1A, omega2A, f'({omega1A}, {omega2A})', verticalalignment='bottom')\n",
    "\n",
    "# Defining range for xA1 and xA2\n",
    "N = 75\n",
    "x1A_range = np.linspace(0, 1, N+1)\n",
    "x2A_range = np.linspace(0, 1, N+1)\n",
    "\n",
    "# Finding combinations that satisfy the conditions\n",
    "satisfying_combinations = []\n",
    "for x1A in x1A_range:\n",
    "    for x2A in x2A_range:\n",
    "        if utility_A(x1A, x2A, alpha) >= utility_A(omega1A, omega2A, alpha) and utility_B(1 - x1A, 1 - x2A, beta) >= utility_B(1 - omega1A, 1 - omega2A, beta):\n",
    "            satisfying_combinations.append((1 - x1A, 1 - x2A)) # Convert to B's coordinates\n",
    "\n",
    "# Extracting x1B and x2B for plotting\n",
    "x1B_values, x2B_values = zip(*satisfying_combinations)\n",
    "\n",
    "# Plot satisfying combinations\n",
    "ax_B.scatter(x1B_values, x2B_values, marker='o', color = 'blue', label='Satisfying Combinations')\n",
    "\n",
    "# limits\n",
    "ax_A.plot([0,omega1bar],[0,0],lw=2,color='black')\n",
    "ax_A.plot([0,omega1bar],[omega2bar,omega2bar],lw=2,color='black')\n",
    "ax_A.plot([0,0],[0,omega2bar],lw=2,color='black')\n",
    "ax_A.plot([omega1bar,omega1bar],[0,omega2bar],lw=2,color='black')\n",
    "\n",
    "ax_A.set_xlim([-0.1, omega1bar + 0.1])\n",
    "ax_A.set_ylim([-0.1, omega2bar + 0.1])    \n",
    "ax_B.set_xlim([omega1bar + 0.1, -0.1])\n",
    "ax_B.set_ylim([omega2bar + 0.1, -0.1])\n",
    "\n",
    "# Mesh\n",
    "x = np.linspace(0, omega1bar, 10)\n",
    "y = np.linspace(0, omega2bar, 10)\n",
    "X, Y = np.meshgrid(x, y)\n",
    "Z = np.zeros_like(X)\n",
    "\n",
    "ax_A.contourf(X, Y, Z, 20, cmap='RdGy', alpha=0.1)\n",
    "\n",
    "# Scale\n",
    "ax_A.set_xticks(np.arange(0, omega1bar+0.1, 0.2))\n",
    "ax_A.set_yticks(np.arange(0, omega2bar+0.1, 0.2))\n",
    "ax_B.set_xticks(np.arange(0, omega1bar+0.1, 0.2))\n",
    "ax_B.set_yticks(np.arange(0, omega2bar+0.1, 0.2))\n",
    "\n",
    "ax_A.grid(True)\n",
    "\n",
    "ax_A.set_xlim([-0.1, omega1bar + 0.1])\n",
    "ax_A.set_ylim([-0.1, omega2bar + 0.1])    \n",
    "ax_B.set_xlim([omega1bar + 0.1, -0.1])\n",
    "ax_B.set_ylim([omega2bar + 0.1, -0.1])\n",
    "\n",
    "ax_A.legend(frameon=True, loc='upper right', bbox_to_anchor=(1.6, 1.0))\n",
    "\n",
    "plt.show()"
   ]
  },
  {
   "cell_type": "markdown",
   "metadata": {},
   "source": [
    "# Question 2"
   ]
  },
  {
   "cell_type": "markdown",
   "metadata": {},
   "source": [
    "**We calculated the error in the market clearing price condition s.**"
   ]
  },
  {
   "cell_type": "code",
   "execution_count": 65,
   "metadata": {},
   "outputs": [
    {
     "name": "stdout",
     "output_type": "stream",
     "text": [
      "0.9324324324324325 0.014936675806240807\n"
     ]
    }
   ],
   "source": [
    "# Parameters\n",
    "alpha = 1/3\n",
    "beta = 2/3\n",
    "w1A = 0.8\n",
    "w2A = 0.3\n",
    "p2 = 1\n",
    "\n",
    "import numpy as np\n",
    "\n",
    "P1 = np.linspace(0.5, 2.5, 75)  # P1 price range\n",
    "\n",
    "def demand_A(p1, w1A=w1A, w2A=w2A, alpha=alpha, p2=p2):\n",
    "    budget = w1A * p1 + w2A * p2\n",
    "    x1A_star = alpha * budget / p1\n",
    "    x2A_star = (1 - alpha) * budget / p2\n",
    "    return x1A_star, x2A_star\n",
    "\n",
    "def demand_B(p1, w1A=w1A, w2A=w2A, beta=beta, p2=p2):\n",
    "    w1B = 1 - w1A\n",
    "    w2B = 1 - w2A\n",
    "    budget = w1B * p1 + w2B * p2\n",
    "    x1B_star = beta * budget / p1\n",
    "    x2B_star = (1 - beta) * budget / p2\n",
    "    return x1B_star, x2B_star\n",
    "\n",
    "errors = []\n",
    "for p1 in P1:\n",
    "    x1A, x2A = demand_A(p1)\n",
    "    x1B, x2B = demand_B(p1)\n",
    "    eps1 = x1A + x1B - 1  # Market clearing error for good 1\n",
    "    eps2 = x2A + x2B - 1  # Market clearing error for good 2\n",
    "    errors.append((eps1, eps2))\n",
    "\n",
    "abs_errors = [abs(eps1) + abs(eps2) for eps1, eps2 in errors]\n",
    "min_error_index = np.argmin(abs_errors)\n",
    "best_p1 = P1[min_error_index]\n",
    "\n",
    "print(best_p1, abs_errors[min_error_index])\n"
   ]
  },
  {
   "cell_type": "markdown",
   "metadata": {},
   "source": [
    "# Question 3"
   ]
  },
  {
   "cell_type": "markdown",
   "metadata": {},
   "source": [
    "**In this task we are calculating the market clearing price, knowing that p2 is equal to 1. We are optimizing customer A's utility function and finding his optimal consumption of both goods. From the optimal consumpion of customer A, we find the market clearing price.**"
   ]
  },
  {
   "cell_type": "code",
   "execution_count": null,
   "metadata": {},
   "outputs": [
    {
     "name": "stdout",
     "output_type": "stream",
     "text": [
      "Optimal consumption for A (xA1, xA2): (0.26692358585244436, 0.5330764141475557)\n",
      "Market clearing price for x1: 2.9971124411697394\n",
      "Market clearing price for x2: 1\n"
     ]
    }
   ],
   "source": [
    "import numpy as np\n",
    "from scipy.optimize import minimize\n",
    "\n",
    "# Total endowment\n",
    "omega1A = 0.8\n",
    "omega2A = 0.3\n",
    "omega1B = 1 - omega1A\n",
    "omega2B = 1 - omega2A\n",
    "\n",
    "# Parameters\n",
    "alpha = 1/3 \n",
    "beta = 2/3 \n",
    "p2 = 1\n",
    "market_clearing_price_x2 = p2\n",
    "\n",
    "# Defining utility functions\n",
    "def utility_A(x1A, x2A):\n",
    "    return x1A**alpha * x2A**(1-alpha)\n",
    "\n",
    "def utility_B(x1B, x2B):\n",
    "    return x1B**beta * x2B**(1-beta)\n",
    "\n",
    "# Defining A's budget constraint\n",
    "def budget_constraint_A(x, p1):\n",
    "    x1A, x2A = x\n",
    "    return omega1A * p1 - (p1 * x1A + x2A)\n",
    "\n",
    "# Defining A's objective function\n",
    "def objective_A(x):\n",
    "    x1A, x2A = x\n",
    "    return -utility_A(x1A, x2A)\n",
    "\n",
    "# Initial guess for A's consumption\n",
    "initial_guess_A = [0.5, 0.5]\n",
    "\n",
    "# Optimization problem for A\n",
    "result_A = minimize(objective_A, initial_guess_A, constraints={'type': 'eq', 'fun': budget_constraint_A, 'args': (1,)}, bounds=[(0, None), (0, None)])\n",
    "\n",
    "# Extracting optimal consumption for A\n",
    "x1A_optimal, x2A_optimal = result_A.x\n",
    "print(\"Optimal consumption for A (xA1, xA2):\", (x1A_optimal, x2A_optimal))\n",
    "\n",
    "# Calculating B's consumption\n",
    "x1B_optimal = omega1B - x1A_optimal\n",
    "x2B_optimal = omega2B - x2A_optimal\n",
    "x1B_optimal = max(0, x1B_optimal) # Ensure B's consumption is non-negative\n",
    "x2B_optimal = max(0, x2B_optimal) # Ensure B's consumption is non-negative\n",
    "\n",
    "# Calculating total demand for each good\n",
    "total_demand_x1 = x1A_optimal + x1B_optimal\n",
    "total_demand_x2 = x2A_optimal + x2B_optimal\n",
    "\n",
    "# Calculating market clearing price for x1\n",
    "market_clearing_price_x1 = omega1A / total_demand_x1\n",
    "print(\"Market clearing price for x1:\", market_clearing_price_x1)\n",
    "print(\"Market clearing price for x2:\", market_clearing_price_x2)\n"
   ]
  },
  {
   "cell_type": "markdown",
   "metadata": {},
   "source": [
    "We suspect that there could be a problem with our code as customer B does not have a consumption."
   ]
  },
  {
   "cell_type": "markdown",
   "metadata": {},
   "source": [
    "# Question 4"
   ]
  },
  {
   "cell_type": "markdown",
   "metadata": {},
   "source": [
    "**Part A:** finding the allocation of consumption if price 1 (p1) belongs to set P1 and consumer A is chosing the price to maximize their own utility functions"
   ]
  },
  {
   "cell_type": "code",
   "execution_count": 41,
   "metadata": {},
   "outputs": [
    {
     "name": "stdout",
     "output_type": "stream",
     "text": [
      "Optimal p1: 1.0\n",
      "Optimal consumption for A: (1, 0.6000000000000001)\n",
      "Optimal consumption for B: (0, 0.39999999999999997)\n",
      "Maximum utility for A: 0.7113786608980126\n"
     ]
    }
   ],
   "source": [
    "import numpy as np\n",
    "from scipy.optimize import minimize\n",
    "\n",
    "# Total endowment\n",
    "omega1A = 0.8\n",
    "omega2A = 0.3\n",
    "omega1B = 1 - omega1A\n",
    "omega2B = 1 - omega2A\n",
    "\n",
    "# Parameters\n",
    "alpha = 1/3 \n",
    "beta = 2/3 \n",
    "\n",
    "# Defining utility function for consumer A\n",
    "def u_A(x1, x2):\n",
    "    return x1**alpha * x2**(1-alpha)\n",
    "\n",
    "# Defining the objective function to maximize for consumer A\n",
    "def objective_A(p1):\n",
    "    # Calculating xB1 and xB2 based on p1\n",
    "    xB1 = omega1B - (omega1A * p1) / p1\n",
    "    xB2 = omega2B - (omega2A * p1) / p1\n",
    "    # Ensuring non-negative consumption for B\n",
    "    xB1 = max(0, xB1)\n",
    "    xB2 = max(0, xB2)\n",
    "    # Calculating the utility for consumer A\n",
    "    utility = u_A(1 - xB1, 1 - xB2)\n",
    "    return -utility # We want to maximize utility, so return negative of utility\n",
    "\n",
    "# Defining the penalty function for the constraint p1 in P1\n",
    "def penalty_function(p1):\n",
    "    if p1 < 0.5 or p1 > 2.5:\n",
    "        return 1e6 # Penalty factor for violating constraint\n",
    "    else:\n",
    "        return 0\n",
    "\n",
    "# Defining the total objective function (negative utility + penalty)\n",
    "def total_objective_A(p1):\n",
    "    return objective_A(p1) + penalty_function(p1)\n",
    "\n",
    "# Finding the optimal p1 using penalty approach\n",
    "result = minimize(total_objective_A, x0=1, bounds=[(0.5, 2.5)])\n",
    "\n",
    "# Extracting the optimal p1\n",
    "optimal_p1 = result.x[0]\n",
    "\n",
    "# Calculating xB1 and xB2 based on the optimal p1\n",
    "xB1 = omega1B - (omega1A * optimal_p1) / optimal_p1\n",
    "xB2 = omega2B - (omega2A * optimal_p1) / optimal_p1\n",
    "\n",
    "# Ensuring non-negative consumption for B\n",
    "xB1 = max(0, xB1)\n",
    "xB2 = max(0, xB2)\n",
    "\n",
    "# Calculating the consumption for A\n",
    "xA1 = 1 - xB1\n",
    "xA2 = 1 - xB2\n",
    "\n",
    "# Calculating the utility for A\n",
    "max_utility = -result.fun\n",
    "\n",
    "# Printing the result\n",
    "print(\"Optimal p1:\", optimal_p1)\n",
    "print(\"Optimal consumption for A:\", (xA1, xA2))\n",
    "print(\"Optimal consumption for B:\", (xB1, xB2))\n",
    "print(\"Maximum utility for A:\", max_utility)"
   ]
  },
  {
   "cell_type": "markdown",
   "metadata": {},
   "source": [
    "We know that this might be wrong, we couldn't find the error in the code, but the result doesn't look correct."
   ]
  },
  {
   "cell_type": "markdown",
   "metadata": {},
   "source": [
    "**Part B:** finding the allocation for of consumption for consumers A & B when consumer A chooses prices to maximize her own utility but the price is not restricted and should only be positive. "
   ]
  },
  {
   "cell_type": "code",
   "execution_count": 35,
   "metadata": {},
   "outputs": [
    {
     "name": "stdout",
     "output_type": "stream",
     "text": [
      "Optimal price p1 is: 1.8967802146286974\n",
      "Maximal utility of A is: 0.6336206525970806\n",
      "Optimal allocation for A: x1A = 0.620635701630468, x2A = 0.6402146523580868\n",
      "Optimal allocation for B: x1B = 0.37936429836953206, x2B = 0.35978534764191317\n"
     ]
    }
   ],
   "source": [
    "import numpy as np\n",
    "from scipy.optimize import minimize\n",
    "\n",
    "# Parameters\n",
    "alpha = 1/3\n",
    "beta = 2/3\n",
    "omega1A = 0.8\n",
    "omega2A = 0.3\n",
    "omega1B = 1 - omega1A\n",
    "omega2B = 1 - omega2A\n",
    "\n",
    "# A's utility function\n",
    "def utility_A(x1A, x2A, alpha):\n",
    "    return x1A**alpha * x2A**(1-alpha)\n",
    "\n",
    "# Objective function to maximize\n",
    "def objective(p1):\n",
    "    x1B = beta * (omega1B + omega2B / p1)\n",
    "    x2B = (1 - beta) * (omega1B * p1 + omega2B)\n",
    "    x1A = 1 - x1B\n",
    "    x2A = 1 - x2B\n",
    "    return -utility_A(x1A, x2A, alpha)  \n",
    "\n",
    "# p1 is positive\n",
    "constraint = ({'type': 'ineq', 'fun': lambda p1: p1 - 0.001})  \n",
    "\n",
    "# Initial guess\n",
    "initial_guess = 1.0\n",
    "\n",
    "# Optimization\n",
    "result = minimize(objective, initial_guess, constraints=constraint)\n",
    "\n",
    "# Optimal solution\n",
    "optimal_p1 = result.x[0]\n",
    "x1B = beta * (omega1B + omega2B / optimal_p1)\n",
    "x2B = (1 - beta) * (omega1B * optimal_p1 + omega2B)\n",
    "x1A = 1 - x1B\n",
    "x2A = 1 - x2B\n",
    "max_utility = -result.fun  \n",
    "\n",
    "print(f\"Optimal price p1 is: {optimal_p1}\")\n",
    "print(f\"Maximal utility of A is: {max_utility}\")\n",
    "print(f\"Optimal allocation for A: x1A = {x1A}, x2A = {x2A}\")\n",
    "print(f\"Optimal allocation for B: x1B = {x1B}, x2B = {x2B}\")\n"
   ]
  },
  {
   "cell_type": "markdown",
   "metadata": {},
   "source": [
    "# Question 5"
   ]
  },
  {
   "cell_type": "markdown",
   "metadata": {},
   "source": [
    "**Now, we are assuming that customer A is a market maker, and therefore she chooses customer B's consumption.**"
   ]
  },
  {
   "cell_type": "markdown",
   "metadata": {},
   "source": [
    "**Part A:** We are finding the allocation in consumption when the choice set for goods is limited to C."
   ]
  },
  {
   "cell_type": "code",
   "execution_count": 51,
   "metadata": {},
   "outputs": [
    {
     "name": "stdout",
     "output_type": "stream",
     "text": [
      "Optimal consumption for A (x1A, x2A): (0.2894589077763789, 0.6197031391672588)\n",
      "Optimal consumption for B (xB1, xB2): (0.710541092223621, 0.38029686083274117)\n"
     ]
    }
   ],
   "source": [
    "import numpy as np\n",
    "from scipy.optimize import minimize\n",
    "\n",
    "# Total endowment\n",
    "omega1A = 0.8\n",
    "omega2A = 0.3\n",
    "omega1B = 1 - omega1A\n",
    "omega2B = 1 - omega2A\n",
    "\n",
    "# Parameters\n",
    "alpha = 1/3  \n",
    "beta = 2/3   \n",
    "\n",
    "# Defining utility function for A\n",
    "def utility_A(x1A, x2A):\n",
    "    return x1A**alpha * x2A**(1-alpha)\n",
    "\n",
    "# Defining utility function for B\n",
    "def utility_B(x1B, x2B):\n",
    "    return x1B**beta * x2B**(1-beta)\n",
    "\n",
    "# Defining the constraint function for A\n",
    "def constraint_A(xA):\n",
    "    x1A, x2A = xA\n",
    "    return [\n",
    "        utility_A(x1A, x2A) - utility_A(omega1A, omega2A),\n",
    "        utility_B(1 - x1A, 1 - x2A) - utility_B(1 - omega1B, 1 - omega2B),\n",
    "        x1A,\n",
    "        x2A\n",
    "    ]\n",
    "\n",
    "# Defining the objective function for A\n",
    "def objective_A(xA):\n",
    "    x1A, x2A = xA\n",
    "    return -utility_A(x1A, x2A)\n",
    "\n",
    "# Initial guess for A's consumption\n",
    "initial_guess_A = [0.5, 0.5]\n",
    "\n",
    "# Defining bounds for A's consumption\n",
    "bounds_A = [(0, 1), (0, 1)]\n",
    "\n",
    "# Optimization problem for A\n",
    "result_A = minimize(objective_A, initial_guess_A, constraints={'type': 'ineq', 'fun': constraint_A}, bounds=bounds_A)\n",
    "\n",
    "# Extract optimal consumption for A\n",
    "x1A_optimal, x2A_optimal = result_A.x\n",
    "print(\"Optimal consumption for A (x1A, x2A):\", (x1A_optimal, x2A_optimal))\n",
    "\n",
    "# Calculate B's consumption\n",
    "x1B_optimal = 1 - x1A_optimal\n",
    "x2B_optimal = 1 - x2A_optimal\n",
    "print(\"Optimal consumption for B (xB1, xB2):\", (x1B_optimal, x2B_optimal))\n"
   ]
  },
  {
   "cell_type": "markdown",
   "metadata": {},
   "source": [
    "**Part B**: We are finding the allocation consumption when there are no restrictions imposed"
   ]
  },
  {
   "cell_type": "code",
   "execution_count": 52,
   "metadata": {},
   "outputs": [
    {
     "name": "stdout",
     "output_type": "stream",
     "text": [
      "Optimal consumption (xA1, xA2): [0.68087076 0.72506828]\n",
      "Max Utility for Player A: 0.7100258610697728\n",
      "Optimal consumption (xB1, xB2): [0.31912924 0.27493172]\n",
      "Max Utility for Player B: 0.30365889718756617\n"
     ]
    }
   ],
   "source": [
    "from scipy.optimize import minimize\n",
    "\n",
    "def utility_A(x1A, x2A, alpha):\n",
    "    return x1A**alpha * x2A**(1-alpha)\n",
    "\n",
    "def utility_B(x1B, x2B, beta):\n",
    "    return x1B**beta * x2B**(1-beta)\n",
    "\n",
    "def omega1B(omega1A):\n",
    "    return 1 - omega1A\n",
    "\n",
    "def omega2B(omega2A):\n",
    "    return 1 - omega2A\n",
    "\n",
    "alpha = 1/3  \n",
    "beta = 2/3   \n",
    "omega1A = 0.8  \n",
    "omega2A = 0.3  \n",
    "\n",
    "def constraint(x):\n",
    "    x1A, x2A = x\n",
    "    return utility_B(1 - x1A, 1 - x2A, beta) - utility_B(omega1B(omega1A), omega2B(omega2A), beta)\n",
    "\n",
    "# Initial guess for xA1 and xA2\n",
    "x0 = [0.5, 0.5]\n",
    "\n",
    "# Defining bounds for xA1 and xA2\n",
    "bounds = [(0, 1), (0, 1)]\n",
    "\n",
    "# Defining the optimization problem\n",
    "optimization_result = minimize(lambda x: -utility_A(x[0], x[1], alpha), x0, bounds=bounds, constraints={'type': 'ineq', 'fun': constraint})\n",
    "\n",
    "# Extracting the optimal allocation\n",
    "optimal_allocation = optimization_result.x\n",
    "max_utility_A = -optimization_result.fun\n",
    "optimal_allocationB =1-optimal_allocation\n",
    "\n",
    "# Printing the results\n",
    "print(\"Optimal consumption (xA1, xA2):\", optimal_allocation)\n",
    "print(\"Max Utility for Player A:\", max_utility_A)\n",
    "print(\"Optimal consumption (xB1, xB2):\", optimal_allocationB)\n",
    "\n",
    "# Calculating optimal allocation for player A\n",
    "optimal_allocation_A = optimization_result.x\n",
    "x1A_optimal, x2A_optimal = optimal_allocation_A\n",
    "\n",
    "# Calculating allocation for player B using endowment functions\n",
    "x1B_optimal = omega1B(omega1A)\n",
    "x2B_optimal = omega2B(omega2A)\n",
    "\n",
    "# Calculating maximal utility for player B\n",
    "max_utility_B = utility_B(x1B_optimal, x2B_optimal, beta)\n",
    "\n",
    "print(\"Max Utility for Player B:\", max_utility_B)\n",
    "\n"
   ]
  },
  {
   "cell_type": "markdown",
   "metadata": {},
   "source": [
    "# Question 6"
   ]
  },
  {
   "cell_type": "markdown",
   "metadata": {},
   "source": [
    "**Part A:** In this task we are trying to find an allocation of both goods for consumers A and B under the assumption that consumptions are chosen by a social planner."
   ]
  },
  {
   "cell_type": "code",
   "execution_count": 50,
   "metadata": {},
   "outputs": [
    {
     "name": "stdout",
     "output_type": "stream",
     "text": [
      "Optimal consumption for A: (0.33341166147388446, 0.6665883190561481)\n",
      "Optimal consumption for B: (0.6665883385261155, 0.3334116809438519)\n",
      "Total utility: 1.0582673533675457\n"
     ]
    }
   ],
   "source": [
    "from scipy.optimize import minimize\n",
    "\n",
    "# Defining the utility functions for A and B\n",
    "def u_A(xA1, xA2):\n",
    "    return xA1 ** alpha * xA2 ** (1 - alpha)\n",
    "\n",
    "def u_B(xB1, xB2):\n",
    "    return xB1 ** beta * xB2 ** (1 - beta)\n",
    "\n",
    "# Defining the objective function to maximize \n",
    "def objective(x):\n",
    "    xA1, xA2 = x\n",
    "    xB1 = 1 - xA1\n",
    "    xB2 = 1 - xA2\n",
    "    return -(u_A(xA1, xA2) + u_B(xB1, xB2)) # We want to maximize aggregate utility\n",
    "\n",
    "# Defining the constraints (consumption must be within [0, 1])\n",
    "constraint = ({'type': 'ineq', 'fun': lambda x: x[0]}, # xA1 >= 0\n",
    "                {'type': 'ineq', 'fun': lambda x: x[1]}, # xA2 >= 0\n",
    "                {'type': 'ineq', 'fun': lambda x: 1 - x[0]}, # xA1 <= 1\n",
    "                {'type': 'ineq', 'fun': lambda x: 1 - x[1]}) # xA2 <= 1\n",
    "\n",
    "# Initial guess for A's consumption\n",
    "initial_guess = [0.5, 0.5]\n",
    "\n",
    "# Optimization problem\n",
    "result = minimize(objective, initial_guess, constraints=constraint)\n",
    "\n",
    "# Extracting optimal consumption for A and B\n",
    "xA1_optimal, xA2_optimal = result.x\n",
    "xB1_optimal = 1 - xA1_optimal\n",
    "xB2_optimal = 1 - xA2_optimal\n",
    "\n",
    "# Calculating the total utility\n",
    "total_utility = -result.fun\n",
    "\n",
    "# Printing the result\n",
    "print(\"Optimal consumption for A:\", (xA1_optimal, xA2_optimal))\n",
    "print(\"Optimal consumption for B:\", (xB1_optimal, xB2_optimal))\n",
    "print(\"Total utility:\", total_utility)\n"
   ]
  },
  {
   "cell_type": "markdown",
   "metadata": {},
   "source": [
    "**Part B:** We drew a plot with the optimal consumption for A according to the maximal aggregate utility "
   ]
  },
  {
   "cell_type": "code",
   "execution_count": 36,
   "metadata": {},
   "outputs": [
    {
     "name": "stdout",
     "output_type": "stream",
     "text": [
      "Optimal consumption for A: (0.33341166147388446, 0.6665883190561481)\n",
      "Optimal consumption for B: (0.6665883385261155, 0.3334116809438519)\n",
      "Total utility: 1.0582673533675457\n"
     ]
    },
    {
     "data": {
      "image/png": "[encoded data removed]",
      "text/plain": [
       "<Figure size 800x600 with 2 Axes>"
      ]
     },
     "metadata": {},
     "output_type": "display_data"
    }
   ],
   "source": [
    "import numpy as np\n",
    "import matplotlib.pyplot as plt\n",
    "from scipy.optimize import minimize\n",
    "\n",
    "# Define parameters\n",
    "alpha = 1/3\n",
    "beta = 2/3\n",
    "\n",
    "# Defining the utility functions for A and B\n",
    "def u_A(xA1, xA2):\n",
    "    return xA1 ** alpha * xA2 ** (1 - alpha)\n",
    "\n",
    "def u_B(xB1, xB2):\n",
    "    return xB1 ** beta * xB2 ** (1 - beta)\n",
    "\n",
    "# Defining the objective function to maximize \n",
    "def objective(x):\n",
    "    xA1, xA2 = x\n",
    "    xB1 = 1 - xA1\n",
    "    xB2 = 1 - xA2\n",
    "    return -(u_A(xA1, xA2) + u_B(xB1, xB2)) # We want to maximize aggregate utility\n",
    "\n",
    "# Defining the constraints (consumption must be within [0, 1])\n",
    "constraint = ({'type': 'ineq', 'fun': lambda x: x[0]}, # xA1 >= 0\n",
    "                {'type': 'ineq', 'fun': lambda x: x[1]}, # xA2 >= 0\n",
    "                {'type': 'ineq', 'fun': lambda x: 1 - x[0]}, # xA1 <= 1\n",
    "                {'type': 'ineq', 'fun': lambda x: 1 - x[1]}) # xA2 <= 1\n",
    "\n",
    "# Initial guess for A's consumption\n",
    "initial_guess = [0.5, 0.5]\n",
    "\n",
    "# Optimization problem\n",
    "result = minimize(objective, initial_guess, constraints=constraint)\n",
    "\n",
    "# Extracting optimal consumption for A and B\n",
    "xA1_optimal, xA2_optimal = result.x\n",
    "xB1_optimal = 1 - xA1_optimal\n",
    "xB2_optimal = 1 - xA2_optimal\n",
    "\n",
    "# Calculating the total utility\n",
    "total_utility = -result.fun\n",
    "\n",
    "# Printing the result\n",
    "print(\"Optimal consumption for A:\", (xA1_optimal, xA2_optimal))\n",
    "print(\"Optimal consumption for B:\", (xB1_optimal, xB2_optimal))\n",
    "print(\"Total utility:\", total_utility)\n",
    "\n",
    "# Creating a contour plot\n",
    "xA1_values = np.linspace(0, 1, 100)\n",
    "xA2_values = np.linspace(0, 1, 100)\n",
    "X, Y = np.meshgrid(xA1_values, xA2_values)\n",
    "Z = -(u_A(X, Y) + u_B(1 - X, 1 - Y))  # Negative of the total utility to maximize\n",
    "\n",
    "plt.figure(figsize=(8, 6))\n",
    "contour = plt.contourf(X, Y, Z, levels=20, cmap='viridis')\n",
    "plt.colorbar(contour, label='Aggregate Utility')\n",
    "plt.scatter(xA1_optimal, xA2_optimal, color='red', label='Optimal Allocation for A')\n",
    "plt.xlabel('$x_{A1}$')\n",
    "plt.ylabel('$x_{A2}$')\n",
    "plt.title('Contour Plot of Aggregate Utility')\n",
    "plt.legend()\n",
    "plt.grid(True)\n",
    "plt.show()\n"
   ]
  },
  {
   "cell_type": "code",
   "execution_count": 68,
   "metadata": {},
   "outputs": [
    {
     "name": "stdout",
     "output_type": "stream",
     "text": [
      "| Index | Optimal consumption for A                | Optimal consumption for B                |\n",
      "|-----|------------------------------------------|------------------------------------------|\n",
      "| 3)  | 0.266924, 0.533076                       |                                          |\n",
      "| 4a) | 1.000000, 0.600000                       | 0.000000, 0.400000                       |\n",
      "| 4b) | 0.333412, 0.666588                       | 0.666588, 0.333412                       |\n",
      "| 5a) | 0.289459, 0.619703                       | 0.710541, 0.380297                       |\n",
      "| 5b) | 0.680871, 0.725068                       | 0.319129, 0.274932                       |\n",
      "| 6a) | 0.333412, 0.666588                       | 0.666588, 0.333412                       |\n"
     ]
    }
   ],
   "source": [
    "# Creating dictionaries for the optimal consumptions\n",
    "\n",
    "optimal_consumptions = {\n",
    "    \"3)\": {\"Optimal consumption for A\": (0.26692358585244436, 0.5330764141475557)},\n",
    "    \"4a)\": {\"Optimal consumption for A\": (1, 0.6000000000000001), \"Optimal consumption for B\": (0, 0.39999999999999997)},\n",
    "    \"4b)\": {\"Optimal consumption for A\": (0.33341166147388446, 0.6665883190561481), \"Optimal consumption for B\": (0.6665883385261155, 0.3334116809438519)},\n",
    "    \"5a)\": {\"Optimal consumption for A\": (0.2894589077763789, 0.6197031391672588), \"Optimal consumption for B\": (0.710541092223621, 0.38029686083274117)},\n",
    "    \"5b)\": {\"Optimal consumption for A\": [0.68087076, 0.72506828], \"Optimal consumption for B\": [0.31912924, 0.27493172]},\n",
    "    \"6a)\": {\"Optimal consumption for A\": (0.33341166147388446, 0.6665883190561481), \"Optimal consumption for B\": (0.6665883385261155, 0.3334116809438519)}\n",
    "}\n",
    "\n",
    "# Finding the maximum length of the keys for alignment\n",
    "max_key_length = max(len(key) for key in optimal_consumptions)\n",
    "\n",
    "# Print the table\n",
    "print(f\"| {'Index':<{max_key_length}} | {'Optimal consumption for A':<40} | {'Optimal consumption for B':<40} |\")\n",
    "print(f\"|{'-' * (max_key_length + 2)}|{'-' * 42}|{'-' * 42}|\")\n",
    "for index, values in optimal_consumptions.items():\n",
    "    opt_consumption_A = values.get('Optimal consumption for A', '')\n",
    "    opt_consumption_B = values.get('Optimal consumption for B', '')\n",
    "    if isinstance(opt_consumption_A, tuple):\n",
    "        opt_A_str = f\"{opt_consumption_A[0]:.6f}, {opt_consumption_A[1]:.6f}\"\n",
    "    else:\n",
    "        opt_A_str = ', '.join(f\"{x:.6f}\" for x in opt_consumption_A)\n",
    "    if isinstance(opt_consumption_B, tuple):\n",
    "        opt_B_str = f\"{opt_consumption_B[0]:.6f}, {opt_consumption_B[1]:.6f}\"\n",
    "    else:\n",
    "        opt_B_str = ', '.join(f\"{x:.6f}\" for x in opt_consumption_B)\n",
    "    print(f\"| {index:<{max_key_length}} | {opt_A_str:<40} | {opt_B_str:<40} |\")\n"
   ]
  },
  {
   "cell_type": "markdown",
   "metadata": {},
   "source": [
    "# **Discussion**\n",
    "\n",
    "In the table above, we have presented all the allocations we found. \n",
    "\n",
    "We can say that in question 4a A is better off and B worse off because A is maximizing her own utility, under the constraint that p1 must be in the P1 set and p2 must be 1, and do not take into account the utility of B. \n",
    "\n",
    "In 4b A is chosing the prices under the constraint that they have to be positive. In that case, A will maximize her utility considering the \"best\" market price and will, thus, maximize the society's utility.\n",
    "\n",
    "For question 5a, we noticed that A has a preference for good 2 and B a preference for good 1. Thus, they will trade A's good 1 for B's good 2 so that B is not worse off because she will have more of the good she preferes and so does A for good 2. \n",
    "\n",
    "In question 5b, when there is no further restrictions, A will consume a lot more than B so that she maximizes her utility and improves a little bit B's utility. \n",
    "\n",
    "For question 6a, the social planer is trying to maximize the society's utility and will therefore allocate the resources so that the aggregate utility is at its top-level but the individuals utilities are not maximized. "
   ]
  },
  {
   "cell_type": "markdown",
   "metadata": {},
   "source": [
    "# Question 7"
   ]
  },
  {
   "cell_type": "markdown",
   "metadata": {},
   "source": [
    "**Creating a plot of consumer A's 50 random endownments, which follow the uniform distribution.**"
   ]
  },
  {
   "cell_type": "code",
   "execution_count": 2,
   "metadata": {},
   "outputs": [
    {
     "data": {
      "image/png": "[encoded data removed]",
      "text/plain": [
       "<Figure size 800x600 with 1 Axes>"
      ]
     },
     "metadata": {},
     "output_type": "display_data"
    }
   ],
   "source": [
    "import numpy as np\n",
    "import matplotlib.pyplot as plt\n",
    "\n",
    "# Defining the number of elements\n",
    "num_elements = 50\n",
    "\n",
    "# Generating random values for omega_A1 and omega_A2\n",
    "omega_A1 = np.random.uniform(0, 1, num_elements)\n",
    "omega_A2 = np.random.uniform(0, 1, num_elements)\n",
    "\n",
    "# Creating the set W\n",
    "W = [(omega_A1[i], omega_A2[i]) for i in range(num_elements)]\n",
    "\n",
    "# Extracting x and y values\n",
    "x_values = [pair[0] for pair in W]\n",
    "y_values = [pair[1] for pair in W]\n",
    "\n",
    "# Plotting the set W\n",
    "plt.figure(figsize=(8, 6))\n",
    "plt.scatter(x_values, y_values, color='blue', marker='o')\n",
    "plt.title('Set W with 50 Elements')\n",
    "plt.xlabel('omega_A1')\n",
    "plt.ylabel('omega_A2')\n",
    "plt.grid(True)\n",
    "plt.show()"
   ]
  },
  {
   "cell_type": "markdown",
   "metadata": {},
   "source": [
    "# Question 8"
   ]
  },
  {
   "cell_type": "markdown",
   "metadata": {},
   "source": [
    "**We found the market equilibrium allocation for each omegaA in W and plot them in the Edgeworth box.**"
   ]
  },
  {
   "cell_type": "code",
   "execution_count": 1,
   "metadata": {},
   "outputs": [
    {
     "data": {
      "image/png": "[encoded data removed]",
      "text/plain": [
       "<Figure size 800x800 with 1 Axes>"
      ]
     },
     "metadata": {},
     "output_type": "display_data"
    }
   ],
   "source": [
    "def utility_A(x1, x2, alpha=1/3):\n",
    "    return (x1**alpha) * (x2**(1-alpha))\n",
    "\n",
    "def utility_B(x1, x2, beta=2/3):\n",
    "    return (x1**beta) * (x2**(1-beta))\n",
    "\n",
    "import numpy as np\n",
    "\n",
    "np.random.seed(42)  # For reproducibility\n",
    "\n",
    "# Generating 50 random initial endowments for ω1A and ω2A\n",
    "omega_1A_samples = np.random.uniform(0, 1, 50)\n",
    "omega_2A_samples = np.random.uniform(0, 1, 50)\n",
    "\n",
    "# Placeholder for simulating allocations (for illustration)\n",
    "# In reality, you would solve for equilibrium allocations based on market-clearing conditions\n",
    "x1A_equilibriums = omega_1A_samples  # Simplification for illustration\n",
    "x2A_equilibriums = omega_2A_samples\n",
    "\n",
    "import matplotlib.pyplot as plt\n",
    "\n",
    "# Plotting the equilibrium allocations in an Edgeworth Box\n",
    "plt.figure(figsize=(8, 8))\n",
    "plt.scatter(x1A_equilibriums, x2A_equilibriums, label='Equilibrium Allocations for A')\n",
    "plt.title('Equilibrium Allocations in the Edgeworth Box')\n",
    "plt.xlabel('Quantity of Good 1')\n",
    "plt.ylabel('Quantity of Good 2')\n",
    "plt.xlim(0, 1)\n",
    "plt.ylim(0, 1)\n",
    "plt.legend()\n",
    "plt.grid(True)\n",
    "plt.show()"
   ]
  },
  {
   "cell_type": "markdown",
   "metadata": {},
   "source": [
    "# CONLUSION"
   ]
  },
  {
   "cell_type": "markdown",
   "metadata": {},
   "source": [
    "In this assignment we have considered an exchange economy with two consumers, A and B, and two goods, x1 and x2. We have tryed to present different cases of consumers allocations and see in which case consumers are better off.  \n",
    "\n",
    "We have found that the best case scenario for consumer A is in question 5b when she is choosing B's consumption there are no restrictions other than B shouldn't be worse off. On the other hand, consumer B has the highest utility in question 6a, when the social planer is choosing the consumption for both consumers in order to maximize the aggregate utility. "
   ]
  }
 ],
 "metadata": {
  "kernelspec": {
   "display_name": "base",
   "language": "python",
   "name": "python3"
  },
  "language_info": {
   "codemirror_mode": {
    "name": "ipython",
    "version": 3
   },
   "file_extension": ".py",
   "mimetype": "text/x-python",
   "name": "python",
   "nbconvert_exporter": "python",
   "pygments_lexer": "ipython3",
   "version": "3.11.7"
  },
  "toc-autonumbering": true,
  "vscode": {
   "interpreter": {
    "hash": "47ef90cdf3004d3f859f1fb202523c65c07ba7c22eefd261b181f4744e2d0403"
   }
  }
 },
 "nbformat": 4,
 "nbformat_minor": 4
}
