{
 "cells": [
  {
   "cell_type": "markdown",
   "metadata": {},
   "source": [
    "# Inaugural Project"
   ]
  },
  {
   "attachments": {},
   "cell_type": "markdown",
   "metadata": {},
   "source": [
    "> **Note the following:** \n",
    "> 1. This is an example of how to structure your **inaugural project**.\n",
    "> 1. Remember the general advice on structuring and commenting your code\n",
    "> 1. The `inauguralproject.py` file includes a function which can be used multiple times in this notebook."
   ]
  },
  {
   "cell_type": "markdown",
   "metadata": {},
   "source": [
    "Imports and set magics:"
   ]
  },
  {
   "cell_type": "markdown",
   "metadata": {},
   "source": [
    "# Question 1"
   ]
  },
  {
   "cell_type": "markdown",
   "metadata": {},
   "source": [
    "**Explain how you solve the model**"
   ]
  },
  {
   "cell_type": "markdown",
   "metadata": {},
   "source": [
    "**Defined variables and equasions**"
   ]
  },
  {
   "cell_type": "code",
   "execution_count": 21,
   "metadata": {},
   "outputs": [],
   "source": [
    "import numpy as np\n",
    "import matplotlib.pyplot as plt\n",
    "\n",
    "#defined variables and equasions\n",
    "\n",
    "def omega1B(omega1A):\n",
    "    return 1 - omega1A\n",
    "\n",
    "def omega2B(omega2A):\n",
    "    return 1 - omega2A\n",
    "\n",
    "#preferences\n",
    "alpha = 1/3\n",
    "beta = 2/3\n",
    "\n",
    "#endowment\n",
    "omega1A = 0.8\n",
    "omega2A = 0.3\n",
    "\n",
    "\n",
    "#utility functions\n",
    "def utility_A(x1A, x2A, alpha):\n",
    "    return x1A**alpha * x2A**(1-alpha)\n",
    "\n",
    "def utility_B(x1B, x2B, beta):\n",
    "    return x1B**beta * x2B**(1-beta)\n",
    "\n",
    "#demand functions\n",
    "def demand_1A(p1, p2, omega1A, omega2A):\n",
    "    return alpha * ((p1 * omega1A + p2 * omega2A)/p1)\n",
    "\n",
    "def demand_2A(p1, p2, omega1A, omega2A):\n",
    "    return (1-alpha)*((p1 * omega1A + p2 * omega2A)/p2)\n",
    "\n",
    "def demand_1B(p1, p2, omega1B, omega2B):\n",
    "    return beta*((p1*omega1B + p2*omega2B)/p1)\n",
    "\n",
    "def demand_2B(p1, p2, omega1B, omega2B):\n",
    "    return (1-beta)*((p1 * omega1B + p2 * omega2B)/p2)\n",
    "\n",
    "#market clearing\n",
    "def check_market_clearing1(alpha, p1, p2, omega1A, omega1B):\n",
    "    return demand_1A(p1, p2, omega1A, omega2A) + demand_1B(p1, p2, omega1B, omega2B) == omega1A + omega1B\n",
    "def check_market_clearing2(beta, p1, p2, omega2A, omega2B):\n",
    "    return demand_2A(p1, p2, omega1A, omega2A) + demand_2B(p1, p2, omega1B, omega2B) == omega2A + omega2B\n",
    "\n",
    "def eps1(p1, p2, demand_1A, omega1A, demand_1B, omega1B):\n",
    "    return demand_1A(p1, p2, omega1A, omega2A) - omega1A + demand_1B(p1, p2, omega1B, omega2B) - omega1B\n",
    "def eps2(p1,p2, demand_2A, omega2A, demand_2B, omega2B):\n",
    "    return demand_2A(p1, p2, omega1A, omega2A) - omega2A + demand_2B(p1, p2, omega1B, omega2B) - omega2B\n",
    "  "
   ]
  },
  {
   "cell_type": "code",
   "execution_count": 22,
   "metadata": {},
   "outputs": [
    {
     "data": {
      "image/png": "[encoded data removed]",
      "text/plain": [
       "<Figure size 600x600 with 3 Axes>"
      ]
     },
     "metadata": {},
     "output_type": "display_data"
    }
   ],
   "source": [
    "#task 1\n",
    "import numpy as np\n",
    "import matplotlib.pyplot as plt\n",
    "\n",
    "# a. total endowment\n",
    "omega1bar = 1.0\n",
    "omega2bar = 1.0\n",
    "\n",
    "# b. figure set up\n",
    "fig = plt.figure(frameon=False,figsize=(6,6), dpi=100)\n",
    "ax_A = fig.add_subplot(1, 1, 1)\n",
    "\n",
    "ax_A.set_xlabel(\"$x_1^A$\")\n",
    "ax_A.set_ylabel(\"$x_2^A$\")\n",
    "\n",
    "temp = ax_A.twinx()\n",
    "temp.set_ylabel(\"$x_2^B$\")\n",
    "ax_B = temp.twiny()\n",
    "ax_B.set_xlabel(\"$x_1^B$\")\n",
    "ax_B.invert_xaxis()\n",
    "ax_B.invert_yaxis()\n",
    "\n",
    "#endowment\n",
    "omega1A = 0.8\n",
    "omega2A = 0.3\n",
    "\n",
    "# A\n",
    "ax_A.scatter(omega1A,omega2A,marker='s',color='black',label='endowment')\n",
    "ax_A.text(omega1A, omega2A, f'({omega1A}, {omega2A})', verticalalignment='bottom')\n",
    "\n",
    "# Define range for xA1 and xA2\n",
    "N = 75\n",
    "x1A_range = np.linspace(0, 1, N+1)\n",
    "x2A_range = np.linspace(0, 1, N+1)\n",
    "\n",
    "# Find combinations that satisfy the conditions\n",
    "satisfying_combinations = []\n",
    "for x1A in x1A_range:\n",
    "    for x2A in x2A_range:\n",
    "        if utility_A(x1A, x2A, alpha) >= utility_A(omega1A, omega2A, alpha) and utility_B(1 - x1A, 1 - x2A, beta) >= utility_B(1 - omega1A, 1 - omega2A, beta):\n",
    "            satisfying_combinations.append((1 - x1A, 1 - x2A)) # Convert to B's coordinates\n",
    "\n",
    "# Extract x1B and x2B for plotting\n",
    "x1B_values, x2B_values = zip(*satisfying_combinations)\n",
    "\n",
    "# Plot satisfying combinations\n",
    "ax_B.scatter(x1B_values, x2B_values, marker='o', color = 'blue', label='Satisfying Combinations')\n",
    "\n",
    "# limits\n",
    "ax_A.plot([0,omega1bar],[0,0],lw=2,color='black')\n",
    "ax_A.plot([0,omega1bar],[omega2bar,omega2bar],lw=2,color='black')\n",
    "ax_A.plot([0,0],[0,omega2bar],lw=2,color='black')\n",
    "ax_A.plot([omega1bar,omega1bar],[0,omega2bar],lw=2,color='black')\n",
    "\n",
    "ax_A.set_xlim([-0.1, omega1bar + 0.1])\n",
    "ax_A.set_ylim([-0.1, omega2bar + 0.1])    \n",
    "ax_B.set_xlim([omega1bar + 0.1, -0.1])\n",
    "ax_B.set_ylim([omega2bar + 0.1, -0.1])\n",
    "\n",
    "# Mesh\n",
    "x = np.linspace(0, omega1bar, 10)\n",
    "y = np.linspace(0, omega2bar, 10)\n",
    "X, Y = np.meshgrid(x, y)\n",
    "Z = np.zeros_like(X)\n",
    "\n",
    "ax_A.contourf(X, Y, Z, 20, cmap='RdGy', alpha=0.1)\n",
    "\n",
    "# Scale\n",
    "ax_A.set_xticks(np.arange(0, omega1bar+0.1, 0.2))\n",
    "ax_A.set_yticks(np.arange(0, omega2bar+0.1, 0.2))\n",
    "ax_B.set_xticks(np.arange(0, omega1bar+0.1, 0.2))\n",
    "ax_B.set_yticks(np.arange(0, omega2bar+0.1, 0.2))\n",
    "\n",
    "\n",
    "\n",
    "ax_A.grid(True)\n",
    "\n",
    "ax_A.set_xlim([-0.1, omega1bar + 0.1])\n",
    "ax_A.set_ylim([-0.1, omega2bar + 0.1])    \n",
    "ax_B.set_xlim([omega1bar + 0.1, -0.1])\n",
    "ax_B.set_ylim([omega2bar + 0.1, -0.1])\n",
    "\n",
    "ax_A.legend(frameon=True, loc='upper right', bbox_to_anchor=(1.6, 1.0))\n",
    "\n",
    "plt.show()"
   ]
  },
  {
   "cell_type": "markdown",
   "metadata": {},
   "source": [
    "# Question 2"
   ]
  },
  {
   "cell_type": "markdown",
   "metadata": {},
   "source": [
    "Explain your code and procedure"
   ]
  },
  {
   "cell_type": "code",
   "execution_count": 23,
   "metadata": {},
   "outputs": [
    {
     "ename": "NameError",
     "evalue": "name 'ExchangeEconomyClass' is not defined",
     "output_type": "error",
     "traceback": [
      "\u001b[1;31m---------------------------------------------------------------------------\u001b[0m",
      "\u001b[1;31mNameError\u001b[0m                                 Traceback (most recent call last)",
      "Cell \u001b[1;32mIn[23], line 1\u001b[0m\n\u001b[1;32m----> 1\u001b[0m \u001b[38;5;28;01mclass\u001b[39;00m \u001b[38;5;21;01mExtendedExchangeEconomy\u001b[39;00m(ExchangeEconomyClass):\n\u001b[0;32m      3\u001b[0m     \u001b[38;5;28;01mdef\u001b[39;00m \u001b[38;5;21mcal_market_clearing_errors\u001b[39m(\u001b[38;5;28mself\u001b[39m, p1_values):\n\u001b[0;32m      5\u001b[0m         errors \u001b[38;5;241m=\u001b[39m []\n",
      "\u001b[1;31mNameError\u001b[0m: name 'ExchangeEconomyClass' is not defined"
     ]
    }
   ],
   "source": [
    "class ExtendedExchangeEconomy(ExchangeEconomyClass):\n",
    "\n",
    "    def cal_market_clearing_errors(self, p1_values):\n",
    "    \n",
    "        errors = []\n",
    "        for p1 in p1_values:\n",
    "            eps1, eps2 = self.check_market_clearing(p1)\n",
    "            errors.append((eps1, eps2))\n",
    "        return np.array(errors)\n",
    "\n",
    "    def market_clearing_price(self, p1_values):\n",
    "        \"\"\"Find the p1 value that minimizes the sum of absolute market clearing errors.\"\"\"\n",
    "        errors = self.cal_market_clearing_errors(p1_values)\n",
    "        absolute_errors = np.sum(np.abs(errors), axis=1)\n",
    "        min_error_index = np.argmin(absolute_errors)\n",
    "        return p1_values[min_error_index], errors[min_error_index]\n",
    "\n",
    "# Define the range of prices p1\n",
    "P1 = np.linspace(0.5, 2.5, 75)\n",
    "\n",
    "# Create an instance of the extended exchange economy class\n",
    "extended_economy = ExtendedExchangeEconomy()\n",
    "\n",
    "# Calculate market clearing errors for the range of p1 values\n",
    "market_clearing_errors = extended_economy.cal_market_clearing_errors(P1)\n",
    "\n",
    "# Find the market clearing price\n",
    "market_clearing_price, min_error = extended_economy.market_clearing_price(P1)\n",
    "\n",
    "print(market_clearing_price, min_error)\n"
   ]
  },
  {
   "cell_type": "markdown",
   "metadata": {},
   "source": [
    "# Question 3"
   ]
  },
  {
   "cell_type": "markdown",
   "metadata": {},
   "source": [
    "Explain your code and procedure"
   ]
  },
  {
   "cell_type": "code",
   "execution_count": 31,
   "metadata": {},
   "outputs": [
    {
     "name": "stdout",
     "output_type": "stream",
     "text": [
      "Optimal consumption for A (xA1, xA2): (0.26692358585244436, 0.5330764141475557)\n",
      "Market clearing price for x1: 2.9971124411697394\n",
      "Market clearing price for x2: 1\n"
     ]
    }
   ],
   "source": [
    "#finding the market clearingg price\n",
    "#A is maximizing their own utility \n",
    "\n",
    "# Numerical search for market clearing price\n",
    "\n",
    "\n",
    "import numpy as np\n",
    "from scipy.optimize import minimize\n",
    "\n",
    "# Total endowment\n",
    "omega1A = 0.8\n",
    "omega2A = 0.3\n",
    "omega1B = 1 - omega1A\n",
    "omega2B = 1 - omega2A\n",
    "\n",
    "# Parameters\n",
    "alpha = 1/3 # From the problem statement\n",
    "beta = 2/3 # From the problem statement\n",
    "p2 = 1\n",
    "market_clearing_price_x2 = p2\n",
    "\n",
    "# Define utility functions\n",
    "def utility_A(x1A, x2A):\n",
    "    return x1A**alpha * x2A**(1-alpha)\n",
    "\n",
    "def utility_B(x1B, x2B):\n",
    "    return x1B**beta * x2B**(1-beta)\n",
    "\n",
    "# Define A's budget constraint\n",
    "def budget_constraint_A(x, p1):\n",
    "    x1A, x2A = x\n",
    "    return omega1A * p1 - (p1 * x1A + x2A)\n",
    "\n",
    "# Define A's objective function (negative utility to maximize)\n",
    "def objective_A(x):\n",
    "    x1A, x2A = x\n",
    "    return -utility_A(x1A, x2A)\n",
    "\n",
    "# Initial guess for A's consumption\n",
    "initial_guess_A = [0.5, 0.5]\n",
    "\n",
    "# Optimization problem for A\n",
    "result_A = minimize(objective_A, initial_guess_A, constraints={'type': 'eq', 'fun': budget_constraint_A, 'args': (1,)}, bounds=[(0, None), (0, None)])\n",
    "\n",
    "# Extract optimal consumption for A\n",
    "x1A_optimal, x2A_optimal = result_A.x\n",
    "print(\"Optimal consumption for A (xA1, xA2):\", (x1A_optimal, x2A_optimal))\n",
    "\n",
    "# Calculate B's consumption\n",
    "x1B_optimal = omega1B - x1A_optimal\n",
    "x2B_optimal = omega2B - x2A_optimal\n",
    "x1B_optimal = max(0, x1B_optimal) # Ensure B's consumption is non-negative\n",
    "x2B_optimal = max(0, x2B_optimal) # Ensure B's consumption is non-negative\n",
    "\n",
    "# Calculate total demand for each good\n",
    "total_demand_x1 = x1A_optimal + x1B_optimal\n",
    "total_demand_x2 = x2A_optimal + x2B_optimal\n",
    "\n",
    "# Calculate market clearing price for x1\n",
    "market_clearing_price_x1 = omega1A / total_demand_x1\n",
    "print(\"Market clearing price for x1:\", market_clearing_price_x1)\n",
    "print(\"Market clearing price for x2:\", market_clearing_price_x2)\n"
   ]
  },
  {
   "cell_type": "markdown",
   "metadata": {},
   "source": [
    "ADD CONCISE CONLUSION."
   ]
  }
 ],
 "metadata": {
  "kernelspec": {
   "display_name": "base",
   "language": "python",
   "name": "python3"
  },
  "language_info": {
   "codemirror_mode": {
    "name": "ipython",
    "version": 3
   },
   "file_extension": ".py",
   "mimetype": "text/x-python",
   "name": "python",
   "nbconvert_exporter": "python",
   "pygments_lexer": "ipython3",
   "version": "3.11.5"
  },
  "toc-autonumbering": true,
  "vscode": {
   "interpreter": {
    "hash": "47ef90cdf3004d3f859f1fb202523c65c07ba7c22eefd261b181f4744e2d0403"
   }
  }
 },
 "nbformat": 4,
 "nbformat_minor": 4
}
