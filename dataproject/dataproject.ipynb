{
 "cells": [
  {
   "cell_type": "markdown",
   "metadata": {},
   "source": [
    "# YOUR PROJECT TITLE"
   ]
  },
  {
   "attachments": {},
   "cell_type": "markdown",
   "metadata": {},
   "source": [
    "> **Note the following:** \n",
    "> 1. This is *not* meant to be an example of an actual **data analysis project**, just an example of how to structure such a project.\n",
    "> 1. Remember the general advice on structuring and commenting your code\n",
    "> 1. The `dataproject.py` file includes a function which can be used multiple times in this notebook."
   ]
  },
  {
   "cell_type": "markdown",
   "metadata": {},
   "source": [
    "Imports and set magics:"
   ]
  },
  {
   "cell_type": "code",
   "execution_count": 38,
   "metadata": {},
   "outputs": [],
   "source": [
    "import pandas as pd\n",
    "import numpy as np\n",
    "import matplotlib.pyplot as plt\n",
    "import ipywidgets as widgets\n",
    "\n",
    "\n",
    "# autoreload modules when code is run\n",
    "%load_ext autoreload\n",
    "%autoreload 2\n",
    "\n",
    "# user written modules\n",
    "import dataproject\n"
   ]
  },
  {
   "cell_type": "markdown",
   "metadata": {},
   "source": [
    "# Read and clean data"
   ]
  },
  {
   "cell_type": "markdown",
   "metadata": {},
   "source": [
    "We imported data on the population of the world between 1950 and 2021. Then, we decided to only keep data on the continents and the world itself. \n",
    "The table is    "
   ]
  },
  {
   "cell_type": "code",
   "execution_count": 63,
   "metadata": {},
   "outputs": [
    {
     "data": {
      "text/html": [
       "<div>\n",
       "<style scoped>\n",
       "    .dataframe tbody tr th:only-of-type {\n",
       "        vertical-align: middle;\n",
       "    }\n",
       "\n",
       "    .dataframe tbody tr th {\n",
       "        vertical-align: top;\n",
       "    }\n",
       "\n",
       "    .dataframe thead th {\n",
       "        text-align: right;\n",
       "    }\n",
       "</style>\n",
       "<table border=\"1\" class=\"dataframe\">\n",
       "  <thead>\n",
       "    <tr style=\"text-align: right;\">\n",
       "      <th></th>\n",
       "      <th>Continents and World</th>\n",
       "      <th>Year</th>\n",
       "      <th>Population</th>\n",
       "      <th>Population of children under the age of 1</th>\n",
       "      <th>Population aged 1 to 4 years</th>\n",
       "      <th>Population aged 5 to 9 years</th>\n",
       "      <th>Population aged 10 to 14 years</th>\n",
       "      <th>Population aged 15 to 19 years</th>\n",
       "      <th>Population aged 20 to 29 years</th>\n",
       "      <th>Population aged 30 to 39 years</th>\n",
       "      <th>Population aged 40 to 49 years</th>\n",
       "      <th>Population aged 50 to 59 years</th>\n",
       "      <th>Population aged 60 to 69 years</th>\n",
       "      <th>Population aged 70 to 79 years</th>\n",
       "      <th>Population aged 80 to 89 years</th>\n",
       "      <th>Population aged 90 to 99 years</th>\n",
       "      <th>Population older than 100 years</th>\n",
       "    </tr>\n",
       "  </thead>\n",
       "  <tbody>\n",
       "    <tr>\n",
       "      <th>1</th>\n",
       "      <td>Africa (UN)</td>\n",
       "      <td>1950</td>\n",
       "      <td>227549260</td>\n",
       "      <td>9393661.0</td>\n",
       "      <td>29672912.0</td>\n",
       "      <td>29653958</td>\n",
       "      <td>25792740</td>\n",
       "      <td>23087212</td>\n",
       "      <td>37677212</td>\n",
       "      <td>27422540</td>\n",
       "      <td>19586988</td>\n",
       "      <td>13178286</td>\n",
       "      <td>7893063</td>\n",
       "      <td>3445317</td>\n",
       "      <td>700903</td>\n",
       "      <td>43862</td>\n",
       "      <td>615.0</td>\n",
       "    </tr>\n",
       "    <tr>\n",
       "      <th>2</th>\n",
       "      <td>Africa (UN)</td>\n",
       "      <td>1951</td>\n",
       "      <td>232484000</td>\n",
       "      <td>9684508.0</td>\n",
       "      <td>30318004.0</td>\n",
       "      <td>30523140</td>\n",
       "      <td>26205760</td>\n",
       "      <td>23471334</td>\n",
       "      <td>38505124</td>\n",
       "      <td>28050804</td>\n",
       "      <td>19993920</td>\n",
       "      <td>13463632</td>\n",
       "      <td>8015908</td>\n",
       "      <td>3499692</td>\n",
       "      <td>709683</td>\n",
       "      <td>41884</td>\n",
       "      <td>602.0</td>\n",
       "    </tr>\n",
       "    <tr>\n",
       "      <th>3</th>\n",
       "      <td>Africa (UN)</td>\n",
       "      <td>1952</td>\n",
       "      <td>237586060</td>\n",
       "      <td>9921448.0</td>\n",
       "      <td>31046300.0</td>\n",
       "      <td>31460048</td>\n",
       "      <td>26651612</td>\n",
       "      <td>23855340</td>\n",
       "      <td>39329870</td>\n",
       "      <td>28694808</td>\n",
       "      <td>20406358</td>\n",
       "      <td>13754924</td>\n",
       "      <td>8147429</td>\n",
       "      <td>3558314</td>\n",
       "      <td>718430</td>\n",
       "      <td>40599</td>\n",
       "      <td>582.0</td>\n",
       "    </tr>\n",
       "    <tr>\n",
       "      <th>4</th>\n",
       "      <td>Africa (UN)</td>\n",
       "      <td>1953</td>\n",
       "      <td>242837440</td>\n",
       "      <td>10167668.0</td>\n",
       "      <td>31877272.0</td>\n",
       "      <td>32368278</td>\n",
       "      <td>27171188</td>\n",
       "      <td>24225864</td>\n",
       "      <td>40120050</td>\n",
       "      <td>29340532</td>\n",
       "      <td>20827816</td>\n",
       "      <td>14056554</td>\n",
       "      <td>8291982</td>\n",
       "      <td>3621039</td>\n",
       "      <td>728561</td>\n",
       "      <td>40087</td>\n",
       "      <td>557.0</td>\n",
       "    </tr>\n",
       "    <tr>\n",
       "      <th>5</th>\n",
       "      <td>Africa (UN)</td>\n",
       "      <td>1954</td>\n",
       "      <td>248244770</td>\n",
       "      <td>10409928.0</td>\n",
       "      <td>32848608.0</td>\n",
       "      <td>33192114</td>\n",
       "      <td>27802460</td>\n",
       "      <td>24585024</td>\n",
       "      <td>40875776</td>\n",
       "      <td>29989164</td>\n",
       "      <td>21257012</td>\n",
       "      <td>14365597</td>\n",
       "      <td>8451841</td>\n",
       "      <td>3685246</td>\n",
       "      <td>741198</td>\n",
       "      <td>40304</td>\n",
       "      <td>499.0</td>\n",
       "    </tr>\n",
       "    <tr>\n",
       "      <th>...</th>\n",
       "      <td>...</td>\n",
       "      <td>...</td>\n",
       "      <td>...</td>\n",
       "      <td>...</td>\n",
       "      <td>...</td>\n",
       "      <td>...</td>\n",
       "      <td>...</td>\n",
       "      <td>...</td>\n",
       "      <td>...</td>\n",
       "      <td>...</td>\n",
       "      <td>...</td>\n",
       "      <td>...</td>\n",
       "      <td>...</td>\n",
       "      <td>...</td>\n",
       "      <td>...</td>\n",
       "      <td>...</td>\n",
       "      <td>...</td>\n",
       "    </tr>\n",
       "    <tr>\n",
       "      <th>500</th>\n",
       "      <td>World</td>\n",
       "      <td>2017</td>\n",
       "      <td>7599822300</td>\n",
       "      <td>139420590.0</td>\n",
       "      <td>550940160.0</td>\n",
       "      <td>668653200</td>\n",
       "      <td>631596500</td>\n",
       "      <td>607785800</td>\n",
       "      <td>1207877900</td>\n",
       "      <td>1092995100</td>\n",
       "      <td>953971900</td>\n",
       "      <td>772621950</td>\n",
       "      <td>549785660</td>\n",
       "      <td>285532670</td>\n",
       "      <td>119566930</td>\n",
       "      <td>18615136</td>\n",
       "      <td>459150.0</td>\n",
       "    </tr>\n",
       "    <tr>\n",
       "      <th>501</th>\n",
       "      <td>World</td>\n",
       "      <td>2018</td>\n",
       "      <td>7683790000</td>\n",
       "      <td>137690030.0</td>\n",
       "      <td>550970400.0</td>\n",
       "      <td>674324740</td>\n",
       "      <td>638451460</td>\n",
       "      <td>611398340</td>\n",
       "      <td>1204281300</td>\n",
       "      <td>1114043900</td>\n",
       "      <td>958684500</td>\n",
       "      <td>788847800</td>\n",
       "      <td>566538940</td>\n",
       "      <td>295304100</td>\n",
       "      <td>123199544</td>\n",
       "      <td>19578904</td>\n",
       "      <td>475921.0</td>\n",
       "    </tr>\n",
       "    <tr>\n",
       "      <th>502</th>\n",
       "      <td>World</td>\n",
       "      <td>2019</td>\n",
       "      <td>7764951000</td>\n",
       "      <td>135471330.0</td>\n",
       "      <td>549401300.0</td>\n",
       "      <td>678417150</td>\n",
       "      <td>645915800</td>\n",
       "      <td>615536000</td>\n",
       "      <td>1200389900</td>\n",
       "      <td>1133424100</td>\n",
       "      <td>963090600</td>\n",
       "      <td>809066200</td>\n",
       "      <td>579960400</td>\n",
       "      <td>306498750</td>\n",
       "      <td>126700504</td>\n",
       "      <td>20575482</td>\n",
       "      <td>503572.0</td>\n",
       "    </tr>\n",
       "    <tr>\n",
       "      <th>503</th>\n",
       "      <td>World</td>\n",
       "      <td>2020</td>\n",
       "      <td>7840953000</td>\n",
       "      <td>133345180.0</td>\n",
       "      <td>545801000.0</td>\n",
       "      <td>681410500</td>\n",
       "      <td>653182000</td>\n",
       "      <td>619493500</td>\n",
       "      <td>1196254600</td>\n",
       "      <td>1151358000</td>\n",
       "      <td>969082800</td>\n",
       "      <td>830432400</td>\n",
       "      <td>590299300</td>\n",
       "      <td>318539100</td>\n",
       "      <td>129707720</td>\n",
       "      <td>21499228</td>\n",
       "      <td>547543.0</td>\n",
       "    </tr>\n",
       "    <tr>\n",
       "      <th>504</th>\n",
       "      <td>World</td>\n",
       "      <td>2021</td>\n",
       "      <td>7909295000</td>\n",
       "      <td>131409180.0</td>\n",
       "      <td>540068100.0</td>\n",
       "      <td>683611800</td>\n",
       "      <td>659934300</td>\n",
       "      <td>623560800</td>\n",
       "      <td>1194528500</td>\n",
       "      <td>1165207300</td>\n",
       "      <td>976407200</td>\n",
       "      <td>851356900</td>\n",
       "      <td>598067140</td>\n",
       "      <td>330491170</td>\n",
       "      <td>131835590</td>\n",
       "      <td>22223974</td>\n",
       "      <td>593166.0</td>\n",
       "    </tr>\n",
       "  </tbody>\n",
       "</table>\n",
       "<p>504 rows × 17 columns</p>\n",
       "</div>"
      ],
      "text/plain": [
       "    Continents and World  Year  Population  \\\n",
       "1            Africa (UN)  1950   227549260   \n",
       "2            Africa (UN)  1951   232484000   \n",
       "3            Africa (UN)  1952   237586060   \n",
       "4            Africa (UN)  1953   242837440   \n",
       "5            Africa (UN)  1954   248244770   \n",
       "..                   ...   ...         ...   \n",
       "500                World  2017  7599822300   \n",
       "501                World  2018  7683790000   \n",
       "502                World  2019  7764951000   \n",
       "503                World  2020  7840953000   \n",
       "504                World  2021  7909295000   \n",
       "\n",
       "     Population of children under the age of 1  Population aged 1 to 4 years  \\\n",
       "1                                    9393661.0                    29672912.0   \n",
       "2                                    9684508.0                    30318004.0   \n",
       "3                                    9921448.0                    31046300.0   \n",
       "4                                   10167668.0                    31877272.0   \n",
       "5                                   10409928.0                    32848608.0   \n",
       "..                                         ...                           ...   \n",
       "500                                139420590.0                   550940160.0   \n",
       "501                                137690030.0                   550970400.0   \n",
       "502                                135471330.0                   549401300.0   \n",
       "503                                133345180.0                   545801000.0   \n",
       "504                                131409180.0                   540068100.0   \n",
       "\n",
       "     Population aged 5 to 9 years  Population aged 10 to 14 years  \\\n",
       "1                        29653958                        25792740   \n",
       "2                        30523140                        26205760   \n",
       "3                        31460048                        26651612   \n",
       "4                        32368278                        27171188   \n",
       "5                        33192114                        27802460   \n",
       "..                            ...                             ...   \n",
       "500                     668653200                       631596500   \n",
       "501                     674324740                       638451460   \n",
       "502                     678417150                       645915800   \n",
       "503                     681410500                       653182000   \n",
       "504                     683611800                       659934300   \n",
       "\n",
       "     Population aged 15 to 19 years  Population aged 20 to 29 years  \\\n",
       "1                          23087212                        37677212   \n",
       "2                          23471334                        38505124   \n",
       "3                          23855340                        39329870   \n",
       "4                          24225864                        40120050   \n",
       "5                          24585024                        40875776   \n",
       "..                              ...                             ...   \n",
       "500                       607785800                      1207877900   \n",
       "501                       611398340                      1204281300   \n",
       "502                       615536000                      1200389900   \n",
       "503                       619493500                      1196254600   \n",
       "504                       623560800                      1194528500   \n",
       "\n",
       "     Population aged 30 to 39 years  Population aged 40 to 49 years  \\\n",
       "1                          27422540                        19586988   \n",
       "2                          28050804                        19993920   \n",
       "3                          28694808                        20406358   \n",
       "4                          29340532                        20827816   \n",
       "5                          29989164                        21257012   \n",
       "..                              ...                             ...   \n",
       "500                      1092995100                       953971900   \n",
       "501                      1114043900                       958684500   \n",
       "502                      1133424100                       963090600   \n",
       "503                      1151358000                       969082800   \n",
       "504                      1165207300                       976407200   \n",
       "\n",
       "     Population aged 50 to 59 years  Population aged 60 to 69 years  \\\n",
       "1                          13178286                         7893063   \n",
       "2                          13463632                         8015908   \n",
       "3                          13754924                         8147429   \n",
       "4                          14056554                         8291982   \n",
       "5                          14365597                         8451841   \n",
       "..                              ...                             ...   \n",
       "500                       772621950                       549785660   \n",
       "501                       788847800                       566538940   \n",
       "502                       809066200                       579960400   \n",
       "503                       830432400                       590299300   \n",
       "504                       851356900                       598067140   \n",
       "\n",
       "     Population aged 70 to 79 years  Population aged 80 to 89 years  \\\n",
       "1                           3445317                          700903   \n",
       "2                           3499692                          709683   \n",
       "3                           3558314                          718430   \n",
       "4                           3621039                          728561   \n",
       "5                           3685246                          741198   \n",
       "..                              ...                             ...   \n",
       "500                       285532670                       119566930   \n",
       "501                       295304100                       123199544   \n",
       "502                       306498750                       126700504   \n",
       "503                       318539100                       129707720   \n",
       "504                       330491170                       131835590   \n",
       "\n",
       "     Population aged 90 to 99 years  Population older than 100 years  \n",
       "1                             43862                            615.0  \n",
       "2                             41884                            602.0  \n",
       "3                             40599                            582.0  \n",
       "4                             40087                            557.0  \n",
       "5                             40304                            499.0  \n",
       "..                              ...                              ...  \n",
       "500                        18615136                         459150.0  \n",
       "501                        19578904                         475921.0  \n",
       "502                        20575482                         503572.0  \n",
       "503                        21499228                         547543.0  \n",
       "504                        22223974                         593166.0  \n",
       "\n",
       "[504 rows x 17 columns]"
      ]
     },
     "execution_count": 63,
     "metadata": {},
     "output_type": "execute_result"
    }
   ],
   "source": [
    "pop = pd.read_csv('population-and-demography.csv')\n",
    "\n",
    "continents = ['Africa (UN)', 'Europe (UN)', 'Asia (UN)', 'World', 'Northern America (UN)', 'Latin America and the Caribbean (UN)', 'Oceania (UN)']\n",
    "\n",
    "filtered_pop = pop[pop['Country name'].isin(continents)]\n",
    "\n",
    "\n",
    "filtered_pop.head(504)\n",
    "\n",
    "drop_these = ['Population at age 1','Population of children under the age of 5', 'Population of children under the age of 15', 'Population under the age of 25', 'Population aged 15 to 64 years', 'Population older than 15 years', 'Population older than 18 years', 'population__all__20_24__records', 'population__all__25_29__records', 'population__all__30_34__records', 'population__all__35_39__records', 'population__all__40_44__records', 'population__all__45_49__records', 'population__all__50_54__records', 'population__all__55_59__records', 'population__all__60_64__records', 'population__all__65_69__records', 'population__all__70_74__records', 'population__all__75_79__records', 'population__all__80_84__records', 'population__all__85_89__records', 'population__all__90_94__records', 'population__all__95_99__records' ]\n",
    "\n",
    "filtered_pop = filtered_pop.drop(drop_these, axis = 1)\n",
    "\n",
    "new_index = range(1,505)\n",
    "\n",
    "filtered_pop.index = new_index\n",
    "\n",
    "filtered_pop.head(504)\n",
    "\n",
    "filtered_pop.rename(columns = {'Country name' : 'Continents and World'}, inplace = True)\n",
    "filtered_pop.head(504)"
   ]
  },
  {
   "cell_type": "markdown",
   "metadata": {},
   "source": [
    "## Plots"
   ]
  },
  {
   "cell_type": "markdown",
   "metadata": {},
   "source": [
    "**1**"
   ]
  },
  {
   "cell_type": "code",
   "execution_count": 70,
   "metadata": {},
   "outputs": [
    {
     "data": {
      "image/png": "[encoded data removed]",
      "text/plain": [
       "<Figure size 640x480 with 1 Axes>"
      ]
     },
     "metadata": {},
     "output_type": "display_data"
    }
   ],
   "source": [
    "\n",
    "# Selecting only the desired columns\n",
    "selected_columns = filtered_pop[['Continents and World', 'Year', 'Population']]\n",
    "\n",
    "# Plotting the data\n",
    "for continent, data in selected_columns.groupby('Continents and World'):\n",
    "    plt.plot(data['Year'], data['Population'], label=continent)\n",
    "\n",
    "# Adding labels and title\n",
    "plt.xlabel('Year')\n",
    "plt.ylabel('Population in million')\n",
    "plt.title('Population growth in the World and whithin the continents between 1950 and 2021')\n",
    "\n",
    "# Adding legend\n",
    "plt.legend(fontsize = '8')\n",
    "\n",
    "# Displaying the plot\n",
    "plt.show()"
   ]
  },
  {
   "cell_type": "markdown",
   "metadata": {},
   "source": [
    "**2**"
   ]
  },
  {
   "cell_type": "code",
   "execution_count": null,
   "metadata": {},
   "outputs": [],
   "source": []
  },
  {
   "cell_type": "markdown",
   "metadata": {},
   "source": [
    "## Explore each data set"
   ]
  },
  {
   "cell_type": "markdown",
   "metadata": {},
   "source": [
    "In order to be able to **explore the raw data**, you may provide **static** and **interactive plots** to show important developments "
   ]
  },
  {
   "cell_type": "markdown",
   "metadata": {},
   "source": [
    "**Interactive plot** :"
   ]
  },
  {
   "cell_type": "code",
   "execution_count": 2,
   "metadata": {},
   "outputs": [
    {
     "data": {
      "application/vnd.jupyter.widget-view+json": {
       "model_id": "5c351241b05b4b5ea0d12c18d1cd9d85",
       "version_major": 2,
       "version_minor": 0
      },
      "text/plain": [
       "interactive(children=(Output(),), _dom_classes=('widget-interact',))"
      ]
     },
     "metadata": {},
     "output_type": "display_data"
    }
   ],
   "source": [
    "def plot_func():\n",
    "    # Function that operates on data set\n",
    "    pass\n",
    "\n",
    "widgets.interact(plot_func, \n",
    "    # Let the widget interact with data through plot_func()    \n",
    "); \n"
   ]
  },
  {
   "cell_type": "markdown",
   "metadata": {},
   "source": [
    "Explain what you see when moving elements of the interactive plot around. "
   ]
  },
  {
   "cell_type": "markdown",
   "metadata": {},
   "source": [
    "# Merge data sets"
   ]
  },
  {
   "cell_type": "markdown",
   "metadata": {},
   "source": [
    "Now you create combinations of your loaded data sets. Remember the illustration of a (inner) **merge**:"
   ]
  },
  {
   "cell_type": "code",
   "execution_count": 3,
   "metadata": {},
   "outputs": [
    {
     "data": {
      "image/png": "[encoded data removed]",
      "text/plain": [
       "<Figure size 1080x504 with 1 Axes>"
      ]
     },
     "metadata": {},
     "output_type": "display_data"
    }
   ],
   "source": [
    "plt.figure(figsize=(15,7))\n",
    "v = venn2(subsets = (4, 4, 10), set_labels = ('Data X', 'Data Y'))\n",
    "v.get_label_by_id('100').set_text('dropped')\n",
    "v.get_label_by_id('010').set_text('dropped' )\n",
    "v.get_label_by_id('110').set_text('included')\n",
    "plt.show()"
   ]
  },
  {
   "cell_type": "markdown",
   "metadata": {},
   "source": [
    "Here we are dropping elements from both data set X and data set Y. A left join would keep all observations in data X intact and subset only from Y. \n",
    "\n",
    "Make sure that your resulting data sets have the correct number of rows and columns. That is, be clear about which observations are thrown away. \n",
    "\n",
    "**Note:** Don't make Venn diagrams in your own data project. It is just for exposition. "
   ]
  },
  {
   "cell_type": "markdown",
   "metadata": {},
   "source": [
    "# Analysis"
   ]
  },
  {
   "cell_type": "markdown",
   "metadata": {},
   "source": [
    "To get a quick overview of the data, we show some **summary statistics** on a meaningful aggregation. "
   ]
  },
  {
   "cell_type": "markdown",
   "metadata": {},
   "source": [
    "MAKE FURTHER ANALYSIS. EXPLAIN THE CODE BRIEFLY AND SUMMARIZE THE RESULTS."
   ]
  },
  {
   "cell_type": "markdown",
   "metadata": {},
   "source": [
    "# Conclusion"
   ]
  },
  {
   "cell_type": "markdown",
   "metadata": {},
   "source": [
    "ADD CONCISE CONLUSION."
   ]
  }
 ],
 "metadata": {
  "kernelspec": {
   "display_name": "base",
   "language": "python",
   "name": "python3"
  },
  "language_info": {
   "codemirror_mode": {
    "name": "ipython",
    "version": 3
   },
   "file_extension": ".py",
   "mimetype": "text/x-python",
   "name": "python",
   "nbconvert_exporter": "python",
   "pygments_lexer": "ipython3",
   "version": "3.11.7"
  },
  "toc-autonumbering": true,
  "vscode": {
   "interpreter": {
    "hash": "47ef90cdf3004d3f859f1fb202523c65c07ba7c22eefd261b181f4744e2d0403"
   }
  }
 },
 "nbformat": 4,
 "nbformat_minor": 4
}
