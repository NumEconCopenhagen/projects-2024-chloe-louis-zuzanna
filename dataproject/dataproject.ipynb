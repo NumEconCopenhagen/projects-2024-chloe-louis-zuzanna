{
 "cells": [
  {
   "cell_type": "markdown",
   "metadata": {},
   "source": [
    "# Work on population around the world between 1950 and 2021 "
   ]
  },
  {
   "attachments": {},
   "cell_type": "markdown",
   "metadata": {},
   "source": [
    "> **Note the following:** \n",
    "> 1. This is *not* meant to be an example of an actual **data analysis project**, just an example of how to structure such a project.\n",
    "> 1. Remember the general advice on structuring and commenting your code\n",
    "> 1. The `dataproject.py` file includes a function which can be used multiple times in this notebook."
   ]
  },
  {
   "cell_type": "markdown",
   "metadata": {},
   "source": [
    "Imports and set magics:"
   ]
  },
  {
   "cell_type": "code",
   "execution_count": 181,
   "metadata": {},
   "outputs": [
    {
     "name": "stdout",
     "output_type": "stream",
     "text": [
      "The autoreload extension is already loaded. To reload it, use:\n",
      "  %reload_ext autoreload\n"
     ]
    }
   ],
   "source": [
    "import pandas as pd\n",
    "import numpy as np\n",
    "import matplotlib.pyplot as plt\n",
    "import ipywidgets as widgets\n",
    "import plotly.express as px\n",
    "import plotly.graph_objects as go\n",
    "from IPython.display import display\n",
    "from prophet import Prophet\n",
    "\n",
    "\n",
    "\n",
    "# autoreload modules when code is run\n",
    "%load_ext autoreload\n",
    "%autoreload 2\n",
    "\n",
    "# user written modules\n",
    "import dataproject\n"
   ]
  },
  {
   "cell_type": "markdown",
   "metadata": {},
   "source": [
    "# Read and clean data"
   ]
  },
  {
   "cell_type": "markdown",
   "metadata": {},
   "source": [
    "We imported data on the population of the world between 1950 and 2021. Then, we decided to only keep data on the continents and the world itself. \n",
    "For the columns we made the call to kept the global population of each continent and the population of different groups of people"
   ]
  },
  {
   "cell_type": "markdown",
   "metadata": {},
   "source": [
    "Global data"
   ]
  },
  {
   "cell_type": "code",
   "execution_count": 22,
   "metadata": {},
   "outputs": [
    {
     "data": {
      "text/html": [
       "<div>\n",
       "<style scoped>\n",
       "    .dataframe tbody tr th:only-of-type {\n",
       "        vertical-align: middle;\n",
       "    }\n",
       "\n",
       "    .dataframe tbody tr th {\n",
       "        vertical-align: top;\n",
       "    }\n",
       "\n",
       "    .dataframe thead th {\n",
       "        text-align: right;\n",
       "    }\n",
       "</style>\n",
       "<table border=\"1\" class=\"dataframe\">\n",
       "  <thead>\n",
       "    <tr style=\"text-align: right;\">\n",
       "      <th></th>\n",
       "      <th>Continents and World</th>\n",
       "      <th>Year</th>\n",
       "      <th>Population</th>\n",
       "      <th>Population of children under the age of 1</th>\n",
       "      <th>Population aged 1 to 4 years</th>\n",
       "      <th>Population aged 5 to 9 years</th>\n",
       "      <th>Population aged 10 to 14 years</th>\n",
       "      <th>Population aged 15 to 19 years</th>\n",
       "      <th>Population aged 20 to 29 years</th>\n",
       "      <th>Population aged 30 to 39 years</th>\n",
       "      <th>Population aged 40 to 49 years</th>\n",
       "      <th>Population aged 50 to 59 years</th>\n",
       "      <th>Population aged 60 to 69 years</th>\n",
       "      <th>Population aged 70 to 79 years</th>\n",
       "      <th>Population aged 80 to 89 years</th>\n",
       "      <th>Population aged 90 to 99 years</th>\n",
       "      <th>Population older than 100 years</th>\n",
       "    </tr>\n",
       "  </thead>\n",
       "  <tbody>\n",
       "    <tr>\n",
       "      <th>1</th>\n",
       "      <td>Africa (UN)</td>\n",
       "      <td>1950</td>\n",
       "      <td>227549260</td>\n",
       "      <td>9393661.0</td>\n",
       "      <td>29672912.0</td>\n",
       "      <td>29653958</td>\n",
       "      <td>25792740</td>\n",
       "      <td>23087212</td>\n",
       "      <td>37677212</td>\n",
       "      <td>27422540</td>\n",
       "      <td>19586988</td>\n",
       "      <td>13178286</td>\n",
       "      <td>7893063</td>\n",
       "      <td>3445317</td>\n",
       "      <td>700903</td>\n",
       "      <td>43862</td>\n",
       "      <td>615.0</td>\n",
       "    </tr>\n",
       "    <tr>\n",
       "      <th>2</th>\n",
       "      <td>Africa (UN)</td>\n",
       "      <td>1951</td>\n",
       "      <td>232484000</td>\n",
       "      <td>9684508.0</td>\n",
       "      <td>30318004.0</td>\n",
       "      <td>30523140</td>\n",
       "      <td>26205760</td>\n",
       "      <td>23471334</td>\n",
       "      <td>38505124</td>\n",
       "      <td>28050804</td>\n",
       "      <td>19993920</td>\n",
       "      <td>13463632</td>\n",
       "      <td>8015908</td>\n",
       "      <td>3499692</td>\n",
       "      <td>709683</td>\n",
       "      <td>41884</td>\n",
       "      <td>602.0</td>\n",
       "    </tr>\n",
       "    <tr>\n",
       "      <th>3</th>\n",
       "      <td>Africa (UN)</td>\n",
       "      <td>1952</td>\n",
       "      <td>237586060</td>\n",
       "      <td>9921448.0</td>\n",
       "      <td>31046300.0</td>\n",
       "      <td>31460048</td>\n",
       "      <td>26651612</td>\n",
       "      <td>23855340</td>\n",
       "      <td>39329870</td>\n",
       "      <td>28694808</td>\n",
       "      <td>20406358</td>\n",
       "      <td>13754924</td>\n",
       "      <td>8147429</td>\n",
       "      <td>3558314</td>\n",
       "      <td>718430</td>\n",
       "      <td>40599</td>\n",
       "      <td>582.0</td>\n",
       "    </tr>\n",
       "    <tr>\n",
       "      <th>4</th>\n",
       "      <td>Africa (UN)</td>\n",
       "      <td>1953</td>\n",
       "      <td>242837440</td>\n",
       "      <td>10167668.0</td>\n",
       "      <td>31877272.0</td>\n",
       "      <td>32368278</td>\n",
       "      <td>27171188</td>\n",
       "      <td>24225864</td>\n",
       "      <td>40120050</td>\n",
       "      <td>29340532</td>\n",
       "      <td>20827816</td>\n",
       "      <td>14056554</td>\n",
       "      <td>8291982</td>\n",
       "      <td>3621039</td>\n",
       "      <td>728561</td>\n",
       "      <td>40087</td>\n",
       "      <td>557.0</td>\n",
       "    </tr>\n",
       "    <tr>\n",
       "      <th>5</th>\n",
       "      <td>Africa (UN)</td>\n",
       "      <td>1954</td>\n",
       "      <td>248244770</td>\n",
       "      <td>10409928.0</td>\n",
       "      <td>32848608.0</td>\n",
       "      <td>33192114</td>\n",
       "      <td>27802460</td>\n",
       "      <td>24585024</td>\n",
       "      <td>40875776</td>\n",
       "      <td>29989164</td>\n",
       "      <td>21257012</td>\n",
       "      <td>14365597</td>\n",
       "      <td>8451841</td>\n",
       "      <td>3685246</td>\n",
       "      <td>741198</td>\n",
       "      <td>40304</td>\n",
       "      <td>499.0</td>\n",
       "    </tr>\n",
       "    <tr>\n",
       "      <th>...</th>\n",
       "      <td>...</td>\n",
       "      <td>...</td>\n",
       "      <td>...</td>\n",
       "      <td>...</td>\n",
       "      <td>...</td>\n",
       "      <td>...</td>\n",
       "      <td>...</td>\n",
       "      <td>...</td>\n",
       "      <td>...</td>\n",
       "      <td>...</td>\n",
       "      <td>...</td>\n",
       "      <td>...</td>\n",
       "      <td>...</td>\n",
       "      <td>...</td>\n",
       "      <td>...</td>\n",
       "      <td>...</td>\n",
       "      <td>...</td>\n",
       "    </tr>\n",
       "    <tr>\n",
       "      <th>500</th>\n",
       "      <td>World</td>\n",
       "      <td>2017</td>\n",
       "      <td>7599822300</td>\n",
       "      <td>139420590.0</td>\n",
       "      <td>550940160.0</td>\n",
       "      <td>668653200</td>\n",
       "      <td>631596500</td>\n",
       "      <td>607785800</td>\n",
       "      <td>1207877900</td>\n",
       "      <td>1092995100</td>\n",
       "      <td>953971900</td>\n",
       "      <td>772621950</td>\n",
       "      <td>549785660</td>\n",
       "      <td>285532670</td>\n",
       "      <td>119566930</td>\n",
       "      <td>18615136</td>\n",
       "      <td>459150.0</td>\n",
       "    </tr>\n",
       "    <tr>\n",
       "      <th>501</th>\n",
       "      <td>World</td>\n",
       "      <td>2018</td>\n",
       "      <td>7683790000</td>\n",
       "      <td>137690030.0</td>\n",
       "      <td>550970400.0</td>\n",
       "      <td>674324740</td>\n",
       "      <td>638451460</td>\n",
       "      <td>611398340</td>\n",
       "      <td>1204281300</td>\n",
       "      <td>1114043900</td>\n",
       "      <td>958684500</td>\n",
       "      <td>788847800</td>\n",
       "      <td>566538940</td>\n",
       "      <td>295304100</td>\n",
       "      <td>123199544</td>\n",
       "      <td>19578904</td>\n",
       "      <td>475921.0</td>\n",
       "    </tr>\n",
       "    <tr>\n",
       "      <th>502</th>\n",
       "      <td>World</td>\n",
       "      <td>2019</td>\n",
       "      <td>7764951000</td>\n",
       "      <td>135471330.0</td>\n",
       "      <td>549401300.0</td>\n",
       "      <td>678417150</td>\n",
       "      <td>645915800</td>\n",
       "      <td>615536000</td>\n",
       "      <td>1200389900</td>\n",
       "      <td>1133424100</td>\n",
       "      <td>963090600</td>\n",
       "      <td>809066200</td>\n",
       "      <td>579960400</td>\n",
       "      <td>306498750</td>\n",
       "      <td>126700504</td>\n",
       "      <td>20575482</td>\n",
       "      <td>503572.0</td>\n",
       "    </tr>\n",
       "    <tr>\n",
       "      <th>503</th>\n",
       "      <td>World</td>\n",
       "      <td>2020</td>\n",
       "      <td>7840953000</td>\n",
       "      <td>133345180.0</td>\n",
       "      <td>545801000.0</td>\n",
       "      <td>681410500</td>\n",
       "      <td>653182000</td>\n",
       "      <td>619493500</td>\n",
       "      <td>1196254600</td>\n",
       "      <td>1151358000</td>\n",
       "      <td>969082800</td>\n",
       "      <td>830432400</td>\n",
       "      <td>590299300</td>\n",
       "      <td>318539100</td>\n",
       "      <td>129707720</td>\n",
       "      <td>21499228</td>\n",
       "      <td>547543.0</td>\n",
       "    </tr>\n",
       "    <tr>\n",
       "      <th>504</th>\n",
       "      <td>World</td>\n",
       "      <td>2021</td>\n",
       "      <td>7909295000</td>\n",
       "      <td>131409180.0</td>\n",
       "      <td>540068100.0</td>\n",
       "      <td>683611800</td>\n",
       "      <td>659934300</td>\n",
       "      <td>623560800</td>\n",
       "      <td>1194528500</td>\n",
       "      <td>1165207300</td>\n",
       "      <td>976407200</td>\n",
       "      <td>851356900</td>\n",
       "      <td>598067140</td>\n",
       "      <td>330491170</td>\n",
       "      <td>131835590</td>\n",
       "      <td>22223974</td>\n",
       "      <td>593166.0</td>\n",
       "    </tr>\n",
       "  </tbody>\n",
       "</table>\n",
       "<p>504 rows × 17 columns</p>\n",
       "</div>"
      ],
      "text/plain": [
       "    Continents and World  Year  Population  \\\n",
       "1            Africa (UN)  1950   227549260   \n",
       "2            Africa (UN)  1951   232484000   \n",
       "3            Africa (UN)  1952   237586060   \n",
       "4            Africa (UN)  1953   242837440   \n",
       "5            Africa (UN)  1954   248244770   \n",
       "..                   ...   ...         ...   \n",
       "500                World  2017  7599822300   \n",
       "501                World  2018  7683790000   \n",
       "502                World  2019  7764951000   \n",
       "503                World  2020  7840953000   \n",
       "504                World  2021  7909295000   \n",
       "\n",
       "     Population of children under the age of 1  Population aged 1 to 4 years  \\\n",
       "1                                    9393661.0                    29672912.0   \n",
       "2                                    9684508.0                    30318004.0   \n",
       "3                                    9921448.0                    31046300.0   \n",
       "4                                   10167668.0                    31877272.0   \n",
       "5                                   10409928.0                    32848608.0   \n",
       "..                                         ...                           ...   \n",
       "500                                139420590.0                   550940160.0   \n",
       "501                                137690030.0                   550970400.0   \n",
       "502                                135471330.0                   549401300.0   \n",
       "503                                133345180.0                   545801000.0   \n",
       "504                                131409180.0                   540068100.0   \n",
       "\n",
       "     Population aged 5 to 9 years  Population aged 10 to 14 years  \\\n",
       "1                        29653958                        25792740   \n",
       "2                        30523140                        26205760   \n",
       "3                        31460048                        26651612   \n",
       "4                        32368278                        27171188   \n",
       "5                        33192114                        27802460   \n",
       "..                            ...                             ...   \n",
       "500                     668653200                       631596500   \n",
       "501                     674324740                       638451460   \n",
       "502                     678417150                       645915800   \n",
       "503                     681410500                       653182000   \n",
       "504                     683611800                       659934300   \n",
       "\n",
       "     Population aged 15 to 19 years  Population aged 20 to 29 years  \\\n",
       "1                          23087212                        37677212   \n",
       "2                          23471334                        38505124   \n",
       "3                          23855340                        39329870   \n",
       "4                          24225864                        40120050   \n",
       "5                          24585024                        40875776   \n",
       "..                              ...                             ...   \n",
       "500                       607785800                      1207877900   \n",
       "501                       611398340                      1204281300   \n",
       "502                       615536000                      1200389900   \n",
       "503                       619493500                      1196254600   \n",
       "504                       623560800                      1194528500   \n",
       "\n",
       "     Population aged 30 to 39 years  Population aged 40 to 49 years  \\\n",
       "1                          27422540                        19586988   \n",
       "2                          28050804                        19993920   \n",
       "3                          28694808                        20406358   \n",
       "4                          29340532                        20827816   \n",
       "5                          29989164                        21257012   \n",
       "..                              ...                             ...   \n",
       "500                      1092995100                       953971900   \n",
       "501                      1114043900                       958684500   \n",
       "502                      1133424100                       963090600   \n",
       "503                      1151358000                       969082800   \n",
       "504                      1165207300                       976407200   \n",
       "\n",
       "     Population aged 50 to 59 years  Population aged 60 to 69 years  \\\n",
       "1                          13178286                         7893063   \n",
       "2                          13463632                         8015908   \n",
       "3                          13754924                         8147429   \n",
       "4                          14056554                         8291982   \n",
       "5                          14365597                         8451841   \n",
       "..                              ...                             ...   \n",
       "500                       772621950                       549785660   \n",
       "501                       788847800                       566538940   \n",
       "502                       809066200                       579960400   \n",
       "503                       830432400                       590299300   \n",
       "504                       851356900                       598067140   \n",
       "\n",
       "     Population aged 70 to 79 years  Population aged 80 to 89 years  \\\n",
       "1                           3445317                          700903   \n",
       "2                           3499692                          709683   \n",
       "3                           3558314                          718430   \n",
       "4                           3621039                          728561   \n",
       "5                           3685246                          741198   \n",
       "..                              ...                             ...   \n",
       "500                       285532670                       119566930   \n",
       "501                       295304100                       123199544   \n",
       "502                       306498750                       126700504   \n",
       "503                       318539100                       129707720   \n",
       "504                       330491170                       131835590   \n",
       "\n",
       "     Population aged 90 to 99 years  Population older than 100 years  \n",
       "1                             43862                            615.0  \n",
       "2                             41884                            602.0  \n",
       "3                             40599                            582.0  \n",
       "4                             40087                            557.0  \n",
       "5                             40304                            499.0  \n",
       "..                              ...                              ...  \n",
       "500                        18615136                         459150.0  \n",
       "501                        19578904                         475921.0  \n",
       "502                        20575482                         503572.0  \n",
       "503                        21499228                         547543.0  \n",
       "504                        22223974                         593166.0  \n",
       "\n",
       "[504 rows x 17 columns]"
      ]
     },
     "execution_count": 22,
     "metadata": {},
     "output_type": "execute_result"
    }
   ],
   "source": [
    "pop = pd.read_csv('population-and-demography.csv')\n",
    "\n",
    "continents = ['Africa (UN)', 'Europe (UN)', 'Asia (UN)', 'World', 'Northern America (UN)', 'Latin America and the Caribbean (UN)', 'Oceania (UN)']\n",
    "\n",
    "filtered_pop = pop[pop['Country name'].isin(continents)]\n",
    "\n",
    "drop_these = ['Population at age 1','Population of children under the age of 5', 'Population of children under the age of 15', 'Population under the age of 25', 'Population aged 15 to 64 years', 'Population older than 15 years', 'Population older than 18 years', 'population__all__20_24__records', 'population__all__25_29__records', 'population__all__30_34__records', 'population__all__35_39__records', 'population__all__40_44__records', 'population__all__45_49__records', 'population__all__50_54__records', 'population__all__55_59__records', 'population__all__60_64__records', 'population__all__65_69__records', 'population__all__70_74__records', 'population__all__75_79__records', 'population__all__80_84__records', 'population__all__85_89__records', 'population__all__90_94__records', 'population__all__95_99__records' ]\n",
    "\n",
    "filtered_pop = filtered_pop.drop(drop_these, axis = 1)\n",
    "\n",
    "\n",
    "new_index = range(1,505)\n",
    "\n",
    "filtered_pop.index = new_index\n",
    "\n",
    "filtered_pop.rename(columns = {'Country name' : 'Continents and World'}, inplace = True)\n",
    "filtered_pop.head(504)"
   ]
  },
  {
   "cell_type": "markdown",
   "metadata": {},
   "source": [
    "merged data"
   ]
  },
  {
   "cell_type": "code",
   "execution_count": 40,
   "metadata": {},
   "outputs": [
    {
     "name": "stderr",
     "output_type": "stream",
     "text": [
      "/var/folders/6y/310dzt4d7bg099w9sbh0rx7m0000gn/T/ipykernel_48739/907476582.py:12: SettingWithCopyWarning: \n",
      "A value is trying to be set on a copy of a slice from a DataFrame\n",
      "\n",
      "See the caveats in the documentation: https://pandas.pydata.org/pandas-docs/stable/user_guide/indexing.html#returning-a-view-versus-a-copy\n",
      "  filtered_selected_data.rename(columns = {'Country name_x' : 'Continents and World'}, inplace = True)\n"
     ]
    }
   ],
   "source": [
    "female_data = pd.read_csv('population-and-demography female data.csv')\n",
    "male_data = pd.read_csv('population-and-demography for male.csv')\n",
    "\n",
    "merged_data = pd.merge(female_data, male_data, on = 'Year', how = 'inner')\n",
    "\n",
    "selected_data = merged_data[['Country name_x', 'Year', 'Female population', 'Male population']]\n",
    "\n",
    "continents = ['Africa (UN)', 'Europe (UN)', 'Asia (UN)', 'World', 'Northern America (UN)', 'Latin America and the Caribbean (UN)', 'Oceania (UN)']\n",
    "\n",
    "filtered_selected_data = selected_data[selected_data['Country name_x'].isin(continents)]\n",
    "\n",
    "filtered_selected_data.rename(columns = {'Country name_x' : 'Continents and World'}, inplace = True)\n",
    "\n",
    "filtered_selected_data.set_index('Continents and World', inplace=True)\n"
   ]
  },
  {
   "cell_type": "markdown",
   "metadata": {},
   "source": [
    "## **Plots**"
   ]
  },
  {
   "cell_type": "markdown",
   "metadata": {},
   "source": [
    "We tried to plot all the data we have so that it is more readable "
   ]
  },
  {
   "cell_type": "markdown",
   "metadata": {},
   "source": [
    "## 1"
   ]
  },
  {
   "cell_type": "markdown",
   "metadata": {},
   "source": [
    "## 2.1 :  Global population"
   ]
  },
  {
   "cell_type": "code",
   "execution_count": 183,
   "metadata": {},
   "outputs": [
    {
     "data": {
      "application/vnd.plotly.v1+json": {
       "config": {
        "plotlyServerURL": "https://plot.ly"
       },
       "data": [
        {
         "hovertemplate": "Continents and World=Africa (UN)<br>Year=%{x}<br>Population in billion=%{y}<extra></extra>",
         "legendgroup": "Africa (UN)",
         "line": {
          "color": "#636efa",
          "dash": "solid"
         },
         "marker": {
          "symbol": "circle"
         },
         "mode": "lines",
         "name": "Africa (UN)",
         "orientation": "v",
         "showlegend": true,
         "type": "scatter",
         "x": [
          1950,
          1951,
          1952,
          1953,
          1954,
          1955,
          1956,
          1957,
          1958,
          1959,
          1960,
          1961,
          1962,
          1963,
          1964,
          1965,
          1966,
          1967,
          1968,
          1969,
          1970,
          1971,
          1972,
          1973,
          1974,
          1975,
          1976,
          1977,
          1978,
          1979,
          1980,
          1981,
          1982,
          1983,
          1984,
          1985,
          1986,
          1987,
          1988,
          1989,
          1990,
          1991,
          1992,
          1993,
          1994,
          1995,
          1996,
          1997,
          1998,
          1999,
          2000,
          2001,
          2002,
          2003,
          2004,
          2005,
          2006,
          2007,
          2008,
          2009,
          2010,
          2011,
          2012,
          2013,
          2014,
          2015,
          2016,
          2017,
          2018,
          2019,
          2020,
          2021
         ],
         "xaxis": "x",
         "y": [
          227549260,
          232484000,
          237586060,
          242837440,
          248244770,
          253847730,
          259631400,
          265515230,
          271429570,
          277648200,
          284287840,
          291177570,
          298334050,
          305755230,
          313465700,
          321446980,
          329658050,
          338159580,
          346980000,
          356070240,
          365450100,
          375085860,
          384930400,
          395212030,
          406068830,
          417556640,
          429572930,
          441701400,
          454462700,
          467975870,
          481542800,
          495655330,
          510540220,
          525335040,
          540182800,
          555652600,
          571646400,
          588079700,
          604511200,
          621167600,
          638157250,
          655040500,
          671931500,
          689140000,
          706488260,
          724331650,
          742764740,
          761224450,
          779908030,
          799099300,
          818952060,
          839463900,
          860611460,
          882349250,
          904781300,
          927898100,
          951740300,
          976461440,
          1001981300,
          1028200260,
          1055233400,
          1082675800,
          1110797200,
          1140180600,
          1170299000,
          1201108000,
          1232111600,
          1263333800,
          1295265000,
          1327701100,
          1360677200,
          1393676400
         ],
         "yaxis": "y"
        },
        {
         "hovertemplate": "Continents and World=Asia (UN)<br>Year=%{x}<br>Population in billion=%{y}<extra></extra>",
         "legendgroup": "Asia (UN)",
         "line": {
          "color": "#EF553B",
          "dash": "solid"
         },
         "marker": {
          "symbol": "circle"
         },
         "mode": "lines",
         "name": "Asia (UN)",
         "orientation": "v",
         "showlegend": true,
         "type": "scatter",
         "x": [
          1950,
          1951,
          1952,
          1953,
          1954,
          1955,
          1956,
          1957,
          1958,
          1959,
          1960,
          1961,
          1962,
          1963,
          1964,
          1965,
          1966,
          1967,
          1968,
          1969,
          1970,
          1971,
          1972,
          1973,
          1974,
          1975,
          1976,
          1977,
          1978,
          1979,
          1980,
          1981,
          1982,
          1983,
          1984,
          1985,
          1986,
          1987,
          1988,
          1989,
          1990,
          1991,
          1992,
          1993,
          1994,
          1995,
          1996,
          1997,
          1998,
          1999,
          2000,
          2001,
          2002,
          2003,
          2004,
          2005,
          2006,
          2007,
          2008,
          2009,
          2010,
          2011,
          2012,
          2013,
          2014,
          2015,
          2016,
          2017,
          2018,
          2019,
          2020,
          2021
         ],
         "xaxis": "x",
         "y": [
          1379048300,
          1405644000,
          1435002800,
          1466384300,
          1498736600,
          1532902800,
          1567477800,
          1603627300,
          1640462500,
          1672747900,
          1699525100,
          1725898900,
          1761233700,
          1807331300,
          1855494700,
          1902211800,
          1948659200,
          1994854000,
          2043393500,
          2094302300,
          2145547100,
          2196067800,
          2246224600,
          2297244400,
          2347595000,
          2396020700,
          2443330300,
          2490528500,
          2537447400,
          2585588200,
          2636013600,
          2688480000,
          2743289600,
          2798588700,
          2853889500,
          2910588000,
          2969038000,
          3029379300,
          3089991000,
          3150480100,
          3211352000,
          3269853000,
          3325187800,
          3379061200,
          3432015400,
          3484179000,
          3535424000,
          3586095600,
          3636357400,
          3686164200,
          3736038000,
          3786179800,
          3835669500,
          3884310800,
          3932421000,
          3980365800,
          4028347100,
          4076071700,
          4123883000,
          4172450300,
          4221171000,
          4269624000,
          4318321700,
          4366454000,
          4413673500,
          4459437600,
          4504153600,
          4548303400,
          4590021600,
          4628967400,
          4664324000,
          4694576000
         ],
         "yaxis": "y"
        },
        {
         "hovertemplate": "Continents and World=Europe (UN)<br>Year=%{x}<br>Population in billion=%{y}<extra></extra>",
         "legendgroup": "Europe (UN)",
         "line": {
          "color": "#00cc96",
          "dash": "solid"
         },
         "marker": {
          "symbol": "circle"
         },
         "mode": "lines",
         "name": "Europe (UN)",
         "orientation": "v",
         "showlegend": true,
         "type": "scatter",
         "x": [
          1950,
          1951,
          1952,
          1953,
          1954,
          1955,
          1956,
          1957,
          1958,
          1959,
          1960,
          1961,
          1962,
          1963,
          1964,
          1965,
          1966,
          1967,
          1968,
          1969,
          1970,
          1971,
          1972,
          1973,
          1974,
          1975,
          1976,
          1977,
          1978,
          1979,
          1980,
          1981,
          1982,
          1983,
          1984,
          1985,
          1986,
          1987,
          1988,
          1989,
          1990,
          1991,
          1992,
          1993,
          1994,
          1995,
          1996,
          1997,
          1998,
          1999,
          2000,
          2001,
          2002,
          2003,
          2004,
          2005,
          2006,
          2007,
          2008,
          2009,
          2010,
          2011,
          2012,
          2013,
          2014,
          2015,
          2016,
          2017,
          2018,
          2019,
          2020,
          2021
         ],
         "xaxis": "x",
         "y": [
          549721700,
          554559500,
          559609900,
          565058600,
          570671000,
          576304960,
          581975500,
          587711600,
          593669300,
          599684860,
          605629900,
          611711040,
          617672200,
          623336000,
          628944900,
          634267600,
          639264450,
          644114400,
          648610200,
          652740600,
          656521400,
          660476000,
          664799700,
          668909000,
          672912960,
          676770900,
          680361150,
          683848700,
          687149600,
          690287700,
          693437250,
          696429200,
          699220350,
          702014800,
          704798600,
          707516300,
          710385100,
          713465340,
          716444400,
          719107900,
          721497300,
          723602900,
          725259500,
          726441900,
          727063200,
          727300400,
          727453600,
          727566460,
          727445600,
          727100000,
          726968450,
          726878340,
          726939300,
          727425000,
          728163260,
          728950460,
          729857700,
          731393150,
          733256200,
          734902800,
          736276800,
          737589600,
          738907600,
          740013800,
          741014140,
          742107460,
          743318600,
          744449340,
          745359100,
          746189630,
          746225340,
          745173760
         ],
         "yaxis": "y"
        },
        {
         "hovertemplate": "Continents and World=Latin America and the Caribbean (UN)<br>Year=%{x}<br>Population in billion=%{y}<extra></extra>",
         "legendgroup": "Latin America and the Caribbean (UN)",
         "line": {
          "color": "#ab63fa",
          "dash": "solid"
         },
         "marker": {
          "symbol": "circle"
         },
         "mode": "lines",
         "name": "Latin America and the Caribbean (UN)",
         "orientation": "v",
         "showlegend": true,
         "type": "scatter",
         "x": [
          1950,
          1951,
          1952,
          1953,
          1954,
          1955,
          1956,
          1957,
          1958,
          1959,
          1960,
          1961,
          1962,
          1963,
          1964,
          1965,
          1966,
          1967,
          1968,
          1969,
          1970,
          1971,
          1972,
          1973,
          1974,
          1975,
          1976,
          1977,
          1978,
          1979,
          1980,
          1981,
          1982,
          1983,
          1984,
          1985,
          1986,
          1987,
          1988,
          1989,
          1990,
          1991,
          1992,
          1993,
          1994,
          1995,
          1996,
          1997,
          1998,
          1999,
          2000,
          2001,
          2002,
          2003,
          2004,
          2005,
          2006,
          2007,
          2008,
          2009,
          2010,
          2011,
          2012,
          2013,
          2014,
          2015,
          2016,
          2017,
          2018,
          2019,
          2020,
          2021
         ],
         "xaxis": "x",
         "y": [
          168335840,
          172783140,
          177354130,
          182056290,
          186910160,
          191936400,
          197136640,
          202519700,
          208049440,
          213778340,
          219754160,
          225927490,
          232266370,
          238750450,
          245366830,
          252093550,
          258880180,
          265713490,
          272595800,
          279527940,
          286525540,
          293609380,
          300799300,
          308110200,
          315529200,
          323032400,
          330600060,
          338342340,
          346288960,
          354316500,
          362332600,
          370214140,
          378073950,
          386071040,
          394125300,
          402164060,
          410179800,
          418193800,
          426258530,
          434345570,
          442565120,
          450839600,
          459026880,
          467183200,
          475330400,
          483431600,
          491423970,
          499347550,
          507199400,
          514937060,
          522512130,
          529912670,
          537159500,
          544202050,
          551122100,
          557964000,
          564664770,
          571246600,
          577692600,
          584072300,
          590547000,
          597179840,
          603818800,
          610323400,
          616734100,
          623076500,
          629341000,
          635448200,
          641303740,
          646846800,
          651836100,
          656098100
         ],
         "yaxis": "y"
        },
        {
         "hovertemplate": "Continents and World=Northern America (UN)<br>Year=%{x}<br>Population in billion=%{y}<extra></extra>",
         "legendgroup": "Northern America (UN)",
         "line": {
          "color": "#FFA15A",
          "dash": "solid"
         },
         "marker": {
          "symbol": "circle"
         },
         "mode": "lines",
         "name": "Northern America (UN)",
         "orientation": "v",
         "showlegend": true,
         "type": "scatter",
         "x": [
          1950,
          1951,
          1952,
          1953,
          1954,
          1955,
          1956,
          1957,
          1958,
          1959,
          1960,
          1961,
          1962,
          1963,
          1964,
          1965,
          1966,
          1967,
          1968,
          1969,
          1970,
          1971,
          1972,
          1973,
          1974,
          1975,
          1976,
          1977,
          1978,
          1979,
          1980,
          1981,
          1982,
          1983,
          1984,
          1985,
          1986,
          1987,
          1988,
          1989,
          1990,
          1991,
          1992,
          1993,
          1994,
          1995,
          1996,
          1997,
          1998,
          1999,
          2000,
          2001,
          2002,
          2003,
          2004,
          2005,
          2006,
          2007,
          2008,
          2009,
          2010,
          2011,
          2012,
          2013,
          2014,
          2015,
          2016,
          2017,
          2018,
          2019,
          2020,
          2021
         ],
         "xaxis": "x",
         "y": [
          162089340,
          164749840,
          167494180,
          170420530,
          173598030,
          176940530,
          180302050,
          183672450,
          187335600,
          190926580,
          194177010,
          197442200,
          200623680,
          203706750,
          206691980,
          209482860,
          211979520,
          214286320,
          216573650,
          218993970,
          221865900,
          224901250,
          227566320,
          229923520,
          232198030,
          234519140,
          236821070,
          239261920,
          241953380,
          244791540,
          247761310,
          250580510,
          253214700,
          255863570,
          258482370,
          261105170,
          263744850,
          266406960,
          269220740,
          272317220,
          275860320,
          279695840,
          283643360,
          287568770,
          291376000,
          295071650,
          298700400,
          302400860,
          306102900,
          309704740,
          313205700,
          316597660,
          319797600,
          322854660,
          325985300,
          329184540,
          332410940,
          335731780,
          339039330,
          342231800,
          345272100,
          348326000,
          351469000,
          354564450,
          357563870,
          360464930,
          363448670,
          366470720,
          369300740,
          371967900,
          373956670,
          375278940
         ],
         "yaxis": "y"
        },
        {
         "hovertemplate": "Continents and World=Oceania (UN)<br>Year=%{x}<br>Population in billion=%{y}<extra></extra>",
         "legendgroup": "Oceania (UN)",
         "line": {
          "color": "#19d3f3",
          "dash": "solid"
         },
         "marker": {
          "symbol": "circle"
         },
         "mode": "lines",
         "name": "Oceania (UN)",
         "orientation": "v",
         "showlegend": true,
         "type": "scatter",
         "x": [
          1950,
          1951,
          1952,
          1953,
          1954,
          1955,
          1956,
          1957,
          1958,
          1959,
          1960,
          1961,
          1962,
          1963,
          1964,
          1965,
          1966,
          1967,
          1968,
          1969,
          1970,
          1971,
          1972,
          1973,
          1974,
          1975,
          1976,
          1977,
          1978,
          1979,
          1980,
          1981,
          1982,
          1983,
          1984,
          1985,
          1986,
          1987,
          1988,
          1989,
          1990,
          1991,
          1992,
          1993,
          1994,
          1995,
          1996,
          1997,
          1998,
          1999,
          2000,
          2001,
          2002,
          2003,
          2004,
          2005,
          2006,
          2007,
          2008,
          2009,
          2010,
          2011,
          2012,
          2013,
          2014,
          2015,
          2016,
          2017,
          2018,
          2019,
          2020,
          2021
         ],
         "xaxis": "x",
         "y": [
          12577612,
          12909941,
          13223877,
          13521601,
          13818801,
          14139693,
          14479261,
          14820529,
          15161741,
          15506332,
          15859370,
          16213462,
          16556685,
          16899484,
          17248330,
          17609084,
          17975666,
          18320280,
          18657606,
          19020176,
          19480276,
          20022644,
          20480652,
          20852372,
          21212944,
          21537422,
          21820378,
          22089510,
          22355636,
          22623048,
          22920234,
          23268486,
          23646050,
          24011052,
          24357388,
          24704544,
          25069192,
          25459316,
          25868238,
          26285792,
          26743822,
          27214102,
          27637108,
          28038404,
          28454926,
          28905124,
          29378682,
          29846364,
          30299182,
          30753172,
          31222778,
          31714600,
          32230004,
          32756470,
          33278444,
          33813024,
          34395532,
          35043844,
          35744784,
          36448270,
          37102764,
          37730132,
          38383410,
          39057444,
          39728976,
          40403290,
          41100876,
          41816932,
          42539676,
          43278150,
          43933424,
          44491724
         ],
         "yaxis": "y"
        },
        {
         "hovertemplate": "Continents and World=World<br>Year=%{x}<br>Population in billion=%{y}<extra></extra>",
         "legendgroup": "World",
         "line": {
          "color": "#FF6692",
          "dash": "solid"
         },
         "marker": {
          "symbol": "circle"
         },
         "mode": "lines",
         "name": "World",
         "orientation": "v",
         "showlegend": true,
         "type": "scatter",
         "x": [
          1950,
          1951,
          1952,
          1953,
          1954,
          1955,
          1956,
          1957,
          1958,
          1959,
          1960,
          1961,
          1962,
          1963,
          1964,
          1965,
          1966,
          1967,
          1968,
          1969,
          1970,
          1971,
          1972,
          1973,
          1974,
          1975,
          1976,
          1977,
          1978,
          1979,
          1980,
          1981,
          1982,
          1983,
          1984,
          1985,
          1986,
          1987,
          1988,
          1989,
          1990,
          1991,
          1992,
          1993,
          1994,
          1995,
          1996,
          1997,
          1998,
          1999,
          2000,
          2001,
          2002,
          2003,
          2004,
          2005,
          2006,
          2007,
          2008,
          2009,
          2010,
          2011,
          2012,
          2013,
          2014,
          2015,
          2016,
          2017,
          2018,
          2019,
          2020,
          2021
         ],
         "xaxis": "x",
         "y": [
          2499322000,
          2543130400,
          2590271000,
          2640278800,
          2691979300,
          2746072000,
          2801002800,
          2857866800,
          2916108000,
          2970292200,
          3019233500,
          3068370700,
          3126686700,
          3195779300,
          3267212300,
          3337112000,
          3406417000,
          3475448000,
          3546811000,
          3620655400,
          3695390200,
          3770163200,
          3844800800,
          3920251400,
          3995517000,
          4069437200,
          4142505700,
          4215772400,
          4289657600,
          4365583000,
          4444008000,
          4524627500,
          4607984600,
          4691884000,
          4775836000,
          4861731000,
          4950063000,
          5040984600,
          5132294000,
          5223704000,
          5316176000,
          5406246000,
          5492686300,
          5577433600,
          5660728000,
          5743219700,
          5825145300,
          5906481000,
          5987312600,
          6067758600,
          6148899000,
          6230747000,
          6312407600,
          6393898500,
          6475751400,
          6558176000,
          6641416000,
          6725948400,
          6811597300,
          6898306000,
          6985603000,
          7073125400,
          7161698000,
          7250593300,
          7339013600,
          7426597400,
          7513474000,
          7599822300,
          7683790000,
          7764951000,
          7840953000,
          7909295000
         ],
         "yaxis": "y"
        }
       ],
       "layout": {
        "legend": {
         "title": {
          "text": "Continents and World"
         },
         "tracegroupgap": 0
        },
        "template": {
         "data": {
          "bar": [
           {
            "error_x": {
             "color": "#2a3f5f"
            },
            "error_y": {
             "color": "#2a3f5f"
            },
            "marker": {
             "line": {
              "color": "#E5ECF6",
              "width": 0.5
             },
             "pattern": {
              "fillmode": "overlay",
              "size": 10,
              "solidity": 0.2
             }
            },
            "type": "bar"
           }
          ],
          "barpolar": [
           {
            "marker": {
             "line": {
              "color": "#E5ECF6",
              "width": 0.5
             },
             "pattern": {
              "fillmode": "overlay",
              "size": 10,
              "solidity": 0.2
             }
            },
            "type": "barpolar"
           }
          ],
          "carpet": [
           {
            "aaxis": {
             "endlinecolor": "#2a3f5f",
             "gridcolor": "white",
             "linecolor": "white",
             "minorgridcolor": "white",
             "startlinecolor": "#2a3f5f"
            },
            "baxis": {
             "endlinecolor": "#2a3f5f",
             "gridcolor": "white",
             "linecolor": "white",
             "minorgridcolor": "white",
             "startlinecolor": "#2a3f5f"
            },
            "type": "carpet"
           }
          ],
          "choropleth": [
           {
            "colorbar": {
             "outlinewidth": 0,
             "ticks": ""
            },
            "type": "choropleth"
           }
          ],
          "contour": [
           {
            "colorbar": {
             "outlinewidth": 0,
             "ticks": ""
            },
            "colorscale": [
             [
              0,
              "#0d0887"
             ],
             [
              0.1111111111111111,
              "#46039f"
             ],
             [
              0.2222222222222222,
              "#7201a8"
             ],
             [
              0.3333333333333333,
              "#9c179e"
             ],
             [
              0.4444444444444444,
              "#bd3786"
             ],
             [
              0.5555555555555556,
              "#d8576b"
             ],
             [
              0.6666666666666666,
              "#ed7953"
             ],
             [
              0.7777777777777778,
              "#fb9f3a"
             ],
             [
              0.8888888888888888,
              "#fdca26"
             ],
             [
              1,
              "#f0f921"
             ]
            ],
            "type": "contour"
           }
          ],
          "contourcarpet": [
           {
            "colorbar": {
             "outlinewidth": 0,
             "ticks": ""
            },
            "type": "contourcarpet"
           }
          ],
          "heatmap": [
           {
            "colorbar": {
             "outlinewidth": 0,
             "ticks": ""
            },
            "colorscale": [
             [
              0,
              "#0d0887"
             ],
             [
              0.1111111111111111,
              "#46039f"
             ],
             [
              0.2222222222222222,
              "#7201a8"
             ],
             [
              0.3333333333333333,
              "#9c179e"
             ],
             [
              0.4444444444444444,
              "#bd3786"
             ],
             [
              0.5555555555555556,
              "#d8576b"
             ],
             [
              0.6666666666666666,
              "#ed7953"
             ],
             [
              0.7777777777777778,
              "#fb9f3a"
             ],
             [
              0.8888888888888888,
              "#fdca26"
             ],
             [
              1,
              "#f0f921"
             ]
            ],
            "type": "heatmap"
           }
          ],
          "heatmapgl": [
           {
            "colorbar": {
             "outlinewidth": 0,
             "ticks": ""
            },
            "colorscale": [
             [
              0,
              "#0d0887"
             ],
             [
              0.1111111111111111,
              "#46039f"
             ],
             [
              0.2222222222222222,
              "#7201a8"
             ],
             [
              0.3333333333333333,
              "#9c179e"
             ],
             [
              0.4444444444444444,
              "#bd3786"
             ],
             [
              0.5555555555555556,
              "#d8576b"
             ],
             [
              0.6666666666666666,
              "#ed7953"
             ],
             [
              0.7777777777777778,
              "#fb9f3a"
             ],
             [
              0.8888888888888888,
              "#fdca26"
             ],
             [
              1,
              "#f0f921"
             ]
            ],
            "type": "heatmapgl"
           }
          ],
          "histogram": [
           {
            "marker": {
             "pattern": {
              "fillmode": "overlay",
              "size": 10,
              "solidity": 0.2
             }
            },
            "type": "histogram"
           }
          ],
          "histogram2d": [
           {
            "colorbar": {
             "outlinewidth": 0,
             "ticks": ""
            },
            "colorscale": [
             [
              0,
              "#0d0887"
             ],
             [
              0.1111111111111111,
              "#46039f"
             ],
             [
              0.2222222222222222,
              "#7201a8"
             ],
             [
              0.3333333333333333,
              "#9c179e"
             ],
             [
              0.4444444444444444,
              "#bd3786"
             ],
             [
              0.5555555555555556,
              "#d8576b"
             ],
             [
              0.6666666666666666,
              "#ed7953"
             ],
             [
              0.7777777777777778,
              "#fb9f3a"
             ],
             [
              0.8888888888888888,
              "#fdca26"
             ],
             [
              1,
              "#f0f921"
             ]
            ],
            "type": "histogram2d"
           }
          ],
          "histogram2dcontour": [
           {
            "colorbar": {
             "outlinewidth": 0,
             "ticks": ""
            },
            "colorscale": [
             [
              0,
              "#0d0887"
             ],
             [
              0.1111111111111111,
              "#46039f"
             ],
             [
              0.2222222222222222,
              "#7201a8"
             ],
             [
              0.3333333333333333,
              "#9c179e"
             ],
             [
              0.4444444444444444,
              "#bd3786"
             ],
             [
              0.5555555555555556,
              "#d8576b"
             ],
             [
              0.6666666666666666,
              "#ed7953"
             ],
             [
              0.7777777777777778,
              "#fb9f3a"
             ],
             [
              0.8888888888888888,
              "#fdca26"
             ],
             [
              1,
              "#f0f921"
             ]
            ],
            "type": "histogram2dcontour"
           }
          ],
          "mesh3d": [
           {
            "colorbar": {
             "outlinewidth": 0,
             "ticks": ""
            },
            "type": "mesh3d"
           }
          ],
          "parcoords": [
           {
            "line": {
             "colorbar": {
              "outlinewidth": 0,
              "ticks": ""
             }
            },
            "type": "parcoords"
           }
          ],
          "pie": [
           {
            "automargin": true,
            "type": "pie"
           }
          ],
          "scatter": [
           {
            "fillpattern": {
             "fillmode": "overlay",
             "size": 10,
             "solidity": 0.2
            },
            "type": "scatter"
           }
          ],
          "scatter3d": [
           {
            "line": {
             "colorbar": {
              "outlinewidth": 0,
              "ticks": ""
             }
            },
            "marker": {
             "colorbar": {
              "outlinewidth": 0,
              "ticks": ""
             }
            },
            "type": "scatter3d"
           }
          ],
          "scattercarpet": [
           {
            "marker": {
             "colorbar": {
              "outlinewidth": 0,
              "ticks": ""
             }
            },
            "type": "scattercarpet"
           }
          ],
          "scattergeo": [
           {
            "marker": {
             "colorbar": {
              "outlinewidth": 0,
              "ticks": ""
             }
            },
            "type": "scattergeo"
           }
          ],
          "scattergl": [
           {
            "marker": {
             "colorbar": {
              "outlinewidth": 0,
              "ticks": ""
             }
            },
            "type": "scattergl"
           }
          ],
          "scattermapbox": [
           {
            "marker": {
             "colorbar": {
              "outlinewidth": 0,
              "ticks": ""
             }
            },
            "type": "scattermapbox"
           }
          ],
          "scatterpolar": [
           {
            "marker": {
             "colorbar": {
              "outlinewidth": 0,
              "ticks": ""
             }
            },
            "type": "scatterpolar"
           }
          ],
          "scatterpolargl": [
           {
            "marker": {
             "colorbar": {
              "outlinewidth": 0,
              "ticks": ""
             }
            },
            "type": "scatterpolargl"
           }
          ],
          "scatterternary": [
           {
            "marker": {
             "colorbar": {
              "outlinewidth": 0,
              "ticks": ""
             }
            },
            "type": "scatterternary"
           }
          ],
          "surface": [
           {
            "colorbar": {
             "outlinewidth": 0,
             "ticks": ""
            },
            "colorscale": [
             [
              0,
              "#0d0887"
             ],
             [
              0.1111111111111111,
              "#46039f"
             ],
             [
              0.2222222222222222,
              "#7201a8"
             ],
             [
              0.3333333333333333,
              "#9c179e"
             ],
             [
              0.4444444444444444,
              "#bd3786"
             ],
             [
              0.5555555555555556,
              "#d8576b"
             ],
             [
              0.6666666666666666,
              "#ed7953"
             ],
             [
              0.7777777777777778,
              "#fb9f3a"
             ],
             [
              0.8888888888888888,
              "#fdca26"
             ],
             [
              1,
              "#f0f921"
             ]
            ],
            "type": "surface"
           }
          ],
          "table": [
           {
            "cells": {
             "fill": {
              "color": "#EBF0F8"
             },
             "line": {
              "color": "white"
             }
            },
            "header": {
             "fill": {
              "color": "#C8D4E3"
             },
             "line": {
              "color": "white"
             }
            },
            "type": "table"
           }
          ]
         },
         "layout": {
          "annotationdefaults": {
           "arrowcolor": "#2a3f5f",
           "arrowhead": 0,
           "arrowwidth": 1
          },
          "autotypenumbers": "strict",
          "coloraxis": {
           "colorbar": {
            "outlinewidth": 0,
            "ticks": ""
           }
          },
          "colorscale": {
           "diverging": [
            [
             0,
             "#8e0152"
            ],
            [
             0.1,
             "#c51b7d"
            ],
            [
             0.2,
             "#de77ae"
            ],
            [
             0.3,
             "#f1b6da"
            ],
            [
             0.4,
             "#fde0ef"
            ],
            [
             0.5,
             "#f7f7f7"
            ],
            [
             0.6,
             "#e6f5d0"
            ],
            [
             0.7,
             "#b8e186"
            ],
            [
             0.8,
             "#7fbc41"
            ],
            [
             0.9,
             "#4d9221"
            ],
            [
             1,
             "#276419"
            ]
           ],
           "sequential": [
            [
             0,
             "#0d0887"
            ],
            [
             0.1111111111111111,
             "#46039f"
            ],
            [
             0.2222222222222222,
             "#7201a8"
            ],
            [
             0.3333333333333333,
             "#9c179e"
            ],
            [
             0.4444444444444444,
             "#bd3786"
            ],
            [
             0.5555555555555556,
             "#d8576b"
            ],
            [
             0.6666666666666666,
             "#ed7953"
            ],
            [
             0.7777777777777778,
             "#fb9f3a"
            ],
            [
             0.8888888888888888,
             "#fdca26"
            ],
            [
             1,
             "#f0f921"
            ]
           ],
           "sequentialminus": [
            [
             0,
             "#0d0887"
            ],
            [
             0.1111111111111111,
             "#46039f"
            ],
            [
             0.2222222222222222,
             "#7201a8"
            ],
            [
             0.3333333333333333,
             "#9c179e"
            ],
            [
             0.4444444444444444,
             "#bd3786"
            ],
            [
             0.5555555555555556,
             "#d8576b"
            ],
            [
             0.6666666666666666,
             "#ed7953"
            ],
            [
             0.7777777777777778,
             "#fb9f3a"
            ],
            [
             0.8888888888888888,
             "#fdca26"
            ],
            [
             1,
             "#f0f921"
            ]
           ]
          },
          "colorway": [
           "#636efa",
           "#EF553B",
           "#00cc96",
           "#ab63fa",
           "#FFA15A",
           "#19d3f3",
           "#FF6692",
           "#B6E880",
           "#FF97FF",
           "#FECB52"
          ],
          "font": {
           "color": "#2a3f5f"
          },
          "geo": {
           "bgcolor": "white",
           "lakecolor": "white",
           "landcolor": "#E5ECF6",
           "showlakes": true,
           "showland": true,
           "subunitcolor": "white"
          },
          "hoverlabel": {
           "align": "left"
          },
          "hovermode": "closest",
          "mapbox": {
           "style": "light"
          },
          "paper_bgcolor": "white",
          "plot_bgcolor": "#E5ECF6",
          "polar": {
           "angularaxis": {
            "gridcolor": "white",
            "linecolor": "white",
            "ticks": ""
           },
           "bgcolor": "#E5ECF6",
           "radialaxis": {
            "gridcolor": "white",
            "linecolor": "white",
            "ticks": ""
           }
          },
          "scene": {
           "xaxis": {
            "backgroundcolor": "#E5ECF6",
            "gridcolor": "white",
            "gridwidth": 2,
            "linecolor": "white",
            "showbackground": true,
            "ticks": "",
            "zerolinecolor": "white"
           },
           "yaxis": {
            "backgroundcolor": "#E5ECF6",
            "gridcolor": "white",
            "gridwidth": 2,
            "linecolor": "white",
            "showbackground": true,
            "ticks": "",
            "zerolinecolor": "white"
           },
           "zaxis": {
            "backgroundcolor": "#E5ECF6",
            "gridcolor": "white",
            "gridwidth": 2,
            "linecolor": "white",
            "showbackground": true,
            "ticks": "",
            "zerolinecolor": "white"
           }
          },
          "shapedefaults": {
           "line": {
            "color": "#2a3f5f"
           }
          },
          "ternary": {
           "aaxis": {
            "gridcolor": "white",
            "linecolor": "white",
            "ticks": ""
           },
           "baxis": {
            "gridcolor": "white",
            "linecolor": "white",
            "ticks": ""
           },
           "bgcolor": "#E5ECF6",
           "caxis": {
            "gridcolor": "white",
            "linecolor": "white",
            "ticks": ""
           }
          },
          "title": {
           "x": 0.05
          },
          "xaxis": {
           "automargin": true,
           "gridcolor": "white",
           "linecolor": "white",
           "ticks": "",
           "title": {
            "standoff": 15
           },
           "zerolinecolor": "white",
           "zerolinewidth": 2
          },
          "yaxis": {
           "automargin": true,
           "gridcolor": "white",
           "linecolor": "white",
           "ticks": "",
           "title": {
            "standoff": 15
           },
           "zerolinecolor": "white",
           "zerolinewidth": 2
          }
         }
        },
        "title": {
         "text": "Population growth in the World and within the continents between 1950 and 2021"
        },
        "xaxis": {
         "anchor": "y",
         "domain": [
          0,
          1
         ],
         "title": {
          "text": "Year"
         }
        },
        "yaxis": {
         "anchor": "x",
         "domain": [
          0,
          1
         ],
         "title": {
          "text": "Population in billion"
         }
        }
       }
      }
     },
     "metadata": {},
     "output_type": "display_data"
    }
   ],
   "source": [
    "# Selecting only the desired columns\n",
    "selected_columns = filtered_pop[['Continents and World', 'Year', 'Population']]\n",
    "\n",
    "# Create an interactive line plot using Plotly Express\n",
    "fig = px.line(selected_columns, x='Year', y='Population', color='Continents and World',\n",
    "              title='Population growth in the World and within the continents between 1950 and 2021',\n",
    "              labels={'Population': 'Population in billion', 'Year': 'Year'})\n",
    "\n",
    "# Show the interactive plot\n",
    "fig.show()\n"
   ]
  },
  {
   "cell_type": "markdown",
   "metadata": {},
   "source": [
    "## 2.2 : Male and Female population"
   ]
  },
  {
   "cell_type": "markdown",
   "metadata": {},
   "source": [
    "## 2"
   ]
  },
  {
   "cell_type": "markdown",
   "metadata": {},
   "source": [
    "## 2.1: Population of children under the age of 1"
   ]
  },
  {
   "cell_type": "code",
   "execution_count": 184,
   "metadata": {},
   "outputs": [
    {
     "data": {
      "application/vnd.plotly.v1+json": {
       "config": {
        "plotlyServerURL": "https://plot.ly"
       },
       "data": [
        {
         "hovertemplate": "Continent=Africa (UN)<br>Year=%{x}<br>Population of children under the age of 1=%{y}<extra></extra>",
         "legendgroup": "Africa (UN)",
         "line": {
          "color": "#636efa",
          "dash": "solid"
         },
         "marker": {
          "symbol": "circle"
         },
         "mode": "lines",
         "name": "Africa (UN)",
         "orientation": "v",
         "showlegend": true,
         "type": "scatter",
         "x": [
          1950,
          1951,
          1952,
          1953,
          1954,
          1955,
          1956,
          1957,
          1958,
          1959,
          1960,
          1961,
          1962,
          1963,
          1964,
          1965,
          1966,
          1967,
          1968,
          1969,
          1970,
          1971,
          1972,
          1973,
          1974,
          1975,
          1976,
          1977,
          1978,
          1979,
          1980,
          1981,
          1982,
          1983,
          1984,
          1985,
          1986,
          1987,
          1988,
          1989,
          1990,
          1991,
          1992,
          1993,
          1994,
          1995,
          1996,
          1997,
          1998,
          1999,
          2000,
          2001,
          2002,
          2003,
          2004,
          2005,
          2006,
          2007,
          2008,
          2009,
          2010,
          2011,
          2012,
          2013,
          2014,
          2015,
          2016,
          2017,
          2018,
          2019,
          2020,
          2021
         ],
         "xaxis": "x",
         "y": [
          9393661,
          9684508,
          9921448,
          10167668,
          10409928,
          10649021,
          10899017,
          11142341,
          11386122,
          11656239,
          11940970,
          12254153,
          12591513,
          12918469,
          13237831,
          13542896,
          13852487,
          14192101,
          14546244,
          14911588,
          15288155,
          15682671,
          16086462,
          16485404,
          16911458,
          17404738,
          17905042,
          18386460,
          18905576,
          19456118,
          19983808,
          20500578,
          21050260,
          21581688,
          22072876,
          22575868,
          23086980,
          23581914,
          23989244,
          24367404,
          24750820,
          25128872,
          25542832,
          25963164,
          26340292,
          26787130,
          27298976,
          27704506,
          28092308,
          28629486,
          29264746,
          29917160,
          30585526,
          31239192,
          31933734,
          32704952,
          33511882,
          34319510,
          35167750,
          35970776,
          36739270,
          37498870,
          38183570,
          38824220,
          39456324,
          40085576,
          40600428,
          41102304,
          41705100,
          42313264,
          42887228,
          43436140
         ],
         "yaxis": "y"
        },
        {
         "hovertemplate": "Continent=Asia (UN)<br>Year=%{x}<br>Population of children under the age of 1=%{y}<extra></extra>",
         "legendgroup": "Asia (UN)",
         "line": {
          "color": "#EF553B",
          "dash": "solid"
         },
         "marker": {
          "symbol": "circle"
         },
         "mode": "lines",
         "name": "Asia (UN)",
         "orientation": "v",
         "showlegend": true,
         "type": "scatter",
         "x": [
          1950,
          1951,
          1952,
          1953,
          1954,
          1955,
          1956,
          1957,
          1958,
          1959,
          1960,
          1961,
          1962,
          1963,
          1964,
          1965,
          1966,
          1967,
          1968,
          1969,
          1970,
          1971,
          1972,
          1973,
          1974,
          1975,
          1976,
          1977,
          1978,
          1979,
          1980,
          1981,
          1982,
          1983,
          1984,
          1985,
          1986,
          1987,
          1988,
          1989,
          1990,
          1991,
          1992,
          1993,
          1994,
          1995,
          1996,
          1997,
          1998,
          1999,
          2000,
          2001,
          2002,
          2003,
          2004,
          2005,
          2006,
          2007,
          2008,
          2009,
          2010,
          2011,
          2012,
          2013,
          2014,
          2015,
          2016,
          2017,
          2018,
          2019,
          2020,
          2021
         ],
         "xaxis": "x",
         "y": [
          49825476,
          51359204,
          53441104,
          55347424,
          56284908,
          57757990,
          58110908,
          59636172,
          60507990,
          57922388,
          55853252,
          55153172,
          60096892,
          68983830,
          71334500,
          70455304,
          70537490,
          70027020,
          72082160,
          74270296,
          74814690,
          75108210,
          74589144,
          74412560,
          73656800,
          71860680,
          70674560,
          69982230,
          69699980,
          71055660,
          72951170,
          74716180,
          76915120,
          77243250,
          77224990,
          78916550,
          80927896,
          83009704,
          83385340,
          83452500,
          84476710,
          82594240,
          79441270,
          78254616,
          77563896,
          77008630,
          76323860,
          75667976,
          75136824,
          74710630,
          75080290,
          75380880,
          75009576,
          74700600,
          74609200,
          74618210,
          74637590,
          75084800,
          75754290,
          76301656,
          76463960,
          76405970,
          77154540,
          77340280,
          76615304,
          75719480,
          75320540,
          75321700,
          73443680,
          71091990,
          68865680,
          66681124
         ],
         "yaxis": "y"
        },
        {
         "hovertemplate": "Continent=Europe (UN)<br>Year=%{x}<br>Population of children under the age of 1=%{y}<extra></extra>",
         "legendgroup": "Europe (UN)",
         "line": {
          "color": "#00cc96",
          "dash": "solid"
         },
         "marker": {
          "symbol": "circle"
         },
         "mode": "lines",
         "name": "Europe (UN)",
         "orientation": "v",
         "showlegend": true,
         "type": "scatter",
         "x": [
          1950,
          1951,
          1952,
          1953,
          1954,
          1955,
          1956,
          1957,
          1958,
          1959,
          1960,
          1961,
          1962,
          1963,
          1964,
          1965,
          1966,
          1967,
          1968,
          1969,
          1970,
          1971,
          1972,
          1973,
          1974,
          1975,
          1976,
          1977,
          1978,
          1979,
          1980,
          1981,
          1982,
          1983,
          1984,
          1985,
          1986,
          1987,
          1988,
          1989,
          1990,
          1991,
          1992,
          1993,
          1994,
          1995,
          1996,
          1997,
          1998,
          1999,
          2000,
          2001,
          2002,
          2003,
          2004,
          2005,
          2006,
          2007,
          2008,
          2009,
          2010,
          2011,
          2012,
          2013,
          2014,
          2015,
          2016,
          2017,
          2018,
          2019,
          2020,
          2021
         ],
         "xaxis": "x",
         "y": [
          12170502,
          11484118,
          11536346,
          11572475,
          11596178,
          11619363,
          11650667,
          11712063,
          11700410,
          11670309,
          11662204,
          11631280,
          11524830,
          11392612,
          11265987,
          11011934,
          10790954,
          10643654,
          10489877,
          10362757,
          10342039,
          10456686,
          10495558,
          10344862,
          10278977,
          10253440,
          10149814,
          10061097,
          9940310,
          9901383,
          9955606,
          9925815,
          9908768,
          9997515,
          9969975,
          9861947,
          9866908,
          9876125,
          9755479,
          9522637,
          9245622,
          8921501,
          8575298,
          8291427,
          8046499,
          7831901,
          7689417,
          7589877,
          7474295,
          7358082,
          7298640,
          7220797,
          7187967,
          7307752,
          7429646,
          7467549,
          7523196,
          7701108,
          7954353,
          8093596,
          8037432,
          7994474,
          8049207,
          8011766,
          7953775,
          7945178,
          7897989,
          7718792,
          7427380,
          7181025,
          6982498,
          6881596
         ],
         "yaxis": "y"
        },
        {
         "hovertemplate": "Continent=Latin America and the Caribbean (UN)<br>Year=%{x}<br>Population of children under the age of 1=%{y}<extra></extra>",
         "legendgroup": "Latin America and the Caribbean (UN)",
         "line": {
          "color": "#ab63fa",
          "dash": "solid"
         },
         "marker": {
          "symbol": "circle"
         },
         "mode": "lines",
         "name": "Latin America and the Caribbean (UN)",
         "orientation": "v",
         "showlegend": true,
         "type": "scatter",
         "x": [
          1950,
          1951,
          1952,
          1953,
          1954,
          1955,
          1956,
          1957,
          1958,
          1959,
          1960,
          1961,
          1962,
          1963,
          1964,
          1965,
          1966,
          1967,
          1968,
          1969,
          1970,
          1971,
          1972,
          1973,
          1974,
          1975,
          1976,
          1977,
          1978,
          1979,
          1980,
          1981,
          1982,
          1983,
          1984,
          1985,
          1986,
          1987,
          1988,
          1989,
          1990,
          1991,
          1992,
          1993,
          1994,
          1995,
          1996,
          1997,
          1998,
          1999,
          2000,
          2001,
          2002,
          2003,
          2004,
          2005,
          2006,
          2007,
          2008,
          2009,
          2010,
          2011,
          2012,
          2013,
          2014,
          2015,
          2016,
          2017,
          2018,
          2019,
          2020,
          2021
         ],
         "xaxis": "x",
         "y": [
          6527430,
          6700810,
          6884111,
          7068695,
          7255495,
          7441382,
          7631464,
          7829422,
          8022685,
          8211319.5,
          8405892,
          8605390,
          8806311,
          8996715,
          9159395,
          9286529,
          9390694,
          9483329,
          9568303,
          9666337,
          9780585,
          9914705,
          10043275,
          10159975,
          10276486,
          10401352,
          10549327,
          10695303,
          10833138,
          10948520,
          11059672,
          11183805,
          11285213,
          11352661,
          11396044,
          11430576,
          11462374,
          11498745,
          11532977,
          11548055,
          11573367,
          11589927,
          11561495,
          11544175,
          11548379,
          11539753,
          11498470,
          11441844,
          11407496,
          11368466,
          11325680,
          11262552,
          11156831,
          11032461,
          10954495,
          10924191,
          10868186,
          10796452,
          10732940,
          10700832,
          10687934,
          10679861,
          10646951,
          10571090,
          10523038,
          10503246,
          10390656,
          10265690,
          10170271,
          10004419,
          9820726,
          9661352
         ],
         "yaxis": "y"
        },
        {
         "hovertemplate": "Continent=Northern America (UN)<br>Year=%{x}<br>Population of children under the age of 1=%{y}<extra></extra>",
         "legendgroup": "Northern America (UN)",
         "line": {
          "color": "#FFA15A",
          "dash": "solid"
         },
         "marker": {
          "symbol": "circle"
         },
         "mode": "lines",
         "name": "Northern America (UN)",
         "orientation": "v",
         "showlegend": true,
         "type": "scatter",
         "x": [
          1950,
          1951,
          1952,
          1953,
          1954,
          1955,
          1956,
          1957,
          1958,
          1959,
          1960,
          1961,
          1962,
          1963,
          1964,
          1965,
          1966,
          1967,
          1968,
          1969,
          1970,
          1971,
          1972,
          1973,
          1974,
          1975,
          1976,
          1977,
          1978,
          1979,
          1980,
          1981,
          1982,
          1983,
          1984,
          1985,
          1986,
          1987,
          1988,
          1989,
          1990,
          1991,
          1992,
          1993,
          1994,
          1995,
          1996,
          1997,
          1998,
          1999,
          2000,
          2001,
          2002,
          2003,
          2004,
          2005,
          2006,
          2007,
          2008,
          2009,
          2010,
          2011,
          2012,
          2013,
          2014,
          2015,
          2016,
          2017,
          2018,
          2019,
          2020,
          2021
         ],
         "xaxis": "x",
         "y": [
          3466522,
          3892598,
          4014573,
          3806746,
          3941867,
          4040677,
          4157368.2,
          4289904,
          4379859,
          4422608,
          4466576,
          4496283,
          4461321,
          4389902,
          4285087,
          4118663,
          3921555,
          3761976,
          3684428,
          3698981,
          3773380,
          3768769,
          3600459,
          3417999,
          3365345,
          3388471,
          3428738,
          3515184,
          3618240,
          3719803,
          3825852,
          3902884,
          3941924,
          3934360,
          3927690,
          3971584,
          4022593,
          4050998,
          4097235.8,
          4201547,
          4316572,
          4379798,
          4365763,
          4298111,
          4233972,
          4188374,
          4155793,
          4138372,
          4143525,
          4175849,
          4254568,
          4332842,
          4348426,
          4357559,
          4383931,
          4402954,
          4452516,
          4518200,
          4513206,
          4435818,
          4377501,
          4368565,
          4366739,
          4359360,
          4363721,
          4373061,
          4364534,
          4326801,
          4261834,
          4195792,
          4103442,
          4064492
         ],
         "yaxis": "y"
        },
        {
         "hovertemplate": "Continent=Oceania (UN)<br>Year=%{x}<br>Population of children under the age of 1=%{y}<extra></extra>",
         "legendgroup": "Oceania (UN)",
         "line": {
          "color": "#19d3f3",
          "dash": "solid"
         },
         "marker": {
          "symbol": "circle"
         },
         "mode": "lines",
         "name": "Oceania (UN)",
         "orientation": "v",
         "showlegend": true,
         "type": "scatter",
         "x": [
          1950,
          1951,
          1952,
          1953,
          1954,
          1955,
          1956,
          1957,
          1958,
          1959,
          1960,
          1961,
          1962,
          1963,
          1964,
          1965,
          1966,
          1967,
          1968,
          1969,
          1970,
          1971,
          1972,
          1973,
          1974,
          1975,
          1976,
          1977,
          1978,
          1979,
          1980,
          1981,
          1982,
          1983,
          1984,
          1985,
          1986,
          1987,
          1988,
          1989,
          1990,
          1991,
          1992,
          1993,
          1994,
          1995,
          1996,
          1997,
          1998,
          1999,
          2000,
          2001,
          2002,
          2003,
          2004,
          2005,
          2006,
          2007,
          2008,
          2009,
          2010,
          2011,
          2012,
          2013,
          2014,
          2015,
          2016,
          2017,
          2018,
          2019,
          2020,
          2021
         ],
         "xaxis": "x",
         "y": [
          328084,
          337659,
          347157,
          355743,
          361964,
          369419,
          378784,
          388382,
          398418,
          407296,
          416134,
          425474,
          431060,
          432054,
          429782,
          426224,
          427190,
          433273,
          443053,
          455226,
          467264,
          480305,
          485799,
          477567,
          465724,
          456166,
          449495,
          447234,
          446427,
          445983,
          449512,
          457370,
          466075,
          473182,
          478532,
          482853,
          487412,
          494711,
          503635,
          512188,
          522056.03,
          529547,
          532640,
          535448,
          538730,
          541442,
          543870,
          546555,
          549303,
          553937,
          560127,
          564379,
          567495,
          573096,
          581207,
          591747,
          608159,
          627747,
          642973,
          652468,
          657311,
          661213,
          669866,
          677021,
          678462,
          683082,
          687995,
          685313,
          681756,
          684840,
          685613,
          684476
         ],
         "yaxis": "y"
        }
       ],
       "layout": {
        "legend": {
         "title": {
          "text": "Continent"
         },
         "tracegroupgap": 0
        },
        "template": {
         "data": {
          "bar": [
           {
            "error_x": {
             "color": "#2a3f5f"
            },
            "error_y": {
             "color": "#2a3f5f"
            },
            "marker": {
             "line": {
              "color": "#E5ECF6",
              "width": 0.5
             },
             "pattern": {
              "fillmode": "overlay",
              "size": 10,
              "solidity": 0.2
             }
            },
            "type": "bar"
           }
          ],
          "barpolar": [
           {
            "marker": {
             "line": {
              "color": "#E5ECF6",
              "width": 0.5
             },
             "pattern": {
              "fillmode": "overlay",
              "size": 10,
              "solidity": 0.2
             }
            },
            "type": "barpolar"
           }
          ],
          "carpet": [
           {
            "aaxis": {
             "endlinecolor": "#2a3f5f",
             "gridcolor": "white",
             "linecolor": "white",
             "minorgridcolor": "white",
             "startlinecolor": "#2a3f5f"
            },
            "baxis": {
             "endlinecolor": "#2a3f5f",
             "gridcolor": "white",
             "linecolor": "white",
             "minorgridcolor": "white",
             "startlinecolor": "#2a3f5f"
            },
            "type": "carpet"
           }
          ],
          "choropleth": [
           {
            "colorbar": {
             "outlinewidth": 0,
             "ticks": ""
            },
            "type": "choropleth"
           }
          ],
          "contour": [
           {
            "colorbar": {
             "outlinewidth": 0,
             "ticks": ""
            },
            "colorscale": [
             [
              0,
              "#0d0887"
             ],
             [
              0.1111111111111111,
              "#46039f"
             ],
             [
              0.2222222222222222,
              "#7201a8"
             ],
             [
              0.3333333333333333,
              "#9c179e"
             ],
             [
              0.4444444444444444,
              "#bd3786"
             ],
             [
              0.5555555555555556,
              "#d8576b"
             ],
             [
              0.6666666666666666,
              "#ed7953"
             ],
             [
              0.7777777777777778,
              "#fb9f3a"
             ],
             [
              0.8888888888888888,
              "#fdca26"
             ],
             [
              1,
              "#f0f921"
             ]
            ],
            "type": "contour"
           }
          ],
          "contourcarpet": [
           {
            "colorbar": {
             "outlinewidth": 0,
             "ticks": ""
            },
            "type": "contourcarpet"
           }
          ],
          "heatmap": [
           {
            "colorbar": {
             "outlinewidth": 0,
             "ticks": ""
            },
            "colorscale": [
             [
              0,
              "#0d0887"
             ],
             [
              0.1111111111111111,
              "#46039f"
             ],
             [
              0.2222222222222222,
              "#7201a8"
             ],
             [
              0.3333333333333333,
              "#9c179e"
             ],
             [
              0.4444444444444444,
              "#bd3786"
             ],
             [
              0.5555555555555556,
              "#d8576b"
             ],
             [
              0.6666666666666666,
              "#ed7953"
             ],
             [
              0.7777777777777778,
              "#fb9f3a"
             ],
             [
              0.8888888888888888,
              "#fdca26"
             ],
             [
              1,
              "#f0f921"
             ]
            ],
            "type": "heatmap"
           }
          ],
          "heatmapgl": [
           {
            "colorbar": {
             "outlinewidth": 0,
             "ticks": ""
            },
            "colorscale": [
             [
              0,
              "#0d0887"
             ],
             [
              0.1111111111111111,
              "#46039f"
             ],
             [
              0.2222222222222222,
              "#7201a8"
             ],
             [
              0.3333333333333333,
              "#9c179e"
             ],
             [
              0.4444444444444444,
              "#bd3786"
             ],
             [
              0.5555555555555556,
              "#d8576b"
             ],
             [
              0.6666666666666666,
              "#ed7953"
             ],
             [
              0.7777777777777778,
              "#fb9f3a"
             ],
             [
              0.8888888888888888,
              "#fdca26"
             ],
             [
              1,
              "#f0f921"
             ]
            ],
            "type": "heatmapgl"
           }
          ],
          "histogram": [
           {
            "marker": {
             "pattern": {
              "fillmode": "overlay",
              "size": 10,
              "solidity": 0.2
             }
            },
            "type": "histogram"
           }
          ],
          "histogram2d": [
           {
            "colorbar": {
             "outlinewidth": 0,
             "ticks": ""
            },
            "colorscale": [
             [
              0,
              "#0d0887"
             ],
             [
              0.1111111111111111,
              "#46039f"
             ],
             [
              0.2222222222222222,
              "#7201a8"
             ],
             [
              0.3333333333333333,
              "#9c179e"
             ],
             [
              0.4444444444444444,
              "#bd3786"
             ],
             [
              0.5555555555555556,
              "#d8576b"
             ],
             [
              0.6666666666666666,
              "#ed7953"
             ],
             [
              0.7777777777777778,
              "#fb9f3a"
             ],
             [
              0.8888888888888888,
              "#fdca26"
             ],
             [
              1,
              "#f0f921"
             ]
            ],
            "type": "histogram2d"
           }
          ],
          "histogram2dcontour": [
           {
            "colorbar": {
             "outlinewidth": 0,
             "ticks": ""
            },
            "colorscale": [
             [
              0,
              "#0d0887"
             ],
             [
              0.1111111111111111,
              "#46039f"
             ],
             [
              0.2222222222222222,
              "#7201a8"
             ],
             [
              0.3333333333333333,
              "#9c179e"
             ],
             [
              0.4444444444444444,
              "#bd3786"
             ],
             [
              0.5555555555555556,
              "#d8576b"
             ],
             [
              0.6666666666666666,
              "#ed7953"
             ],
             [
              0.7777777777777778,
              "#fb9f3a"
             ],
             [
              0.8888888888888888,
              "#fdca26"
             ],
             [
              1,
              "#f0f921"
             ]
            ],
            "type": "histogram2dcontour"
           }
          ],
          "mesh3d": [
           {
            "colorbar": {
             "outlinewidth": 0,
             "ticks": ""
            },
            "type": "mesh3d"
           }
          ],
          "parcoords": [
           {
            "line": {
             "colorbar": {
              "outlinewidth": 0,
              "ticks": ""
             }
            },
            "type": "parcoords"
           }
          ],
          "pie": [
           {
            "automargin": true,
            "type": "pie"
           }
          ],
          "scatter": [
           {
            "fillpattern": {
             "fillmode": "overlay",
             "size": 10,
             "solidity": 0.2
            },
            "type": "scatter"
           }
          ],
          "scatter3d": [
           {
            "line": {
             "colorbar": {
              "outlinewidth": 0,
              "ticks": ""
             }
            },
            "marker": {
             "colorbar": {
              "outlinewidth": 0,
              "ticks": ""
             }
            },
            "type": "scatter3d"
           }
          ],
          "scattercarpet": [
           {
            "marker": {
             "colorbar": {
              "outlinewidth": 0,
              "ticks": ""
             }
            },
            "type": "scattercarpet"
           }
          ],
          "scattergeo": [
           {
            "marker": {
             "colorbar": {
              "outlinewidth": 0,
              "ticks": ""
             }
            },
            "type": "scattergeo"
           }
          ],
          "scattergl": [
           {
            "marker": {
             "colorbar": {
              "outlinewidth": 0,
              "ticks": ""
             }
            },
            "type": "scattergl"
           }
          ],
          "scattermapbox": [
           {
            "marker": {
             "colorbar": {
              "outlinewidth": 0,
              "ticks": ""
             }
            },
            "type": "scattermapbox"
           }
          ],
          "scatterpolar": [
           {
            "marker": {
             "colorbar": {
              "outlinewidth": 0,
              "ticks": ""
             }
            },
            "type": "scatterpolar"
           }
          ],
          "scatterpolargl": [
           {
            "marker": {
             "colorbar": {
              "outlinewidth": 0,
              "ticks": ""
             }
            },
            "type": "scatterpolargl"
           }
          ],
          "scatterternary": [
           {
            "marker": {
             "colorbar": {
              "outlinewidth": 0,
              "ticks": ""
             }
            },
            "type": "scatterternary"
           }
          ],
          "surface": [
           {
            "colorbar": {
             "outlinewidth": 0,
             "ticks": ""
            },
            "colorscale": [
             [
              0,
              "#0d0887"
             ],
             [
              0.1111111111111111,
              "#46039f"
             ],
             [
              0.2222222222222222,
              "#7201a8"
             ],
             [
              0.3333333333333333,
              "#9c179e"
             ],
             [
              0.4444444444444444,
              "#bd3786"
             ],
             [
              0.5555555555555556,
              "#d8576b"
             ],
             [
              0.6666666666666666,
              "#ed7953"
             ],
             [
              0.7777777777777778,
              "#fb9f3a"
             ],
             [
              0.8888888888888888,
              "#fdca26"
             ],
             [
              1,
              "#f0f921"
             ]
            ],
            "type": "surface"
           }
          ],
          "table": [
           {
            "cells": {
             "fill": {
              "color": "#EBF0F8"
             },
             "line": {
              "color": "white"
             }
            },
            "header": {
             "fill": {
              "color": "#C8D4E3"
             },
             "line": {
              "color": "white"
             }
            },
            "type": "table"
           }
          ]
         },
         "layout": {
          "annotationdefaults": {
           "arrowcolor": "#2a3f5f",
           "arrowhead": 0,
           "arrowwidth": 1
          },
          "autotypenumbers": "strict",
          "coloraxis": {
           "colorbar": {
            "outlinewidth": 0,
            "ticks": ""
           }
          },
          "colorscale": {
           "diverging": [
            [
             0,
             "#8e0152"
            ],
            [
             0.1,
             "#c51b7d"
            ],
            [
             0.2,
             "#de77ae"
            ],
            [
             0.3,
             "#f1b6da"
            ],
            [
             0.4,
             "#fde0ef"
            ],
            [
             0.5,
             "#f7f7f7"
            ],
            [
             0.6,
             "#e6f5d0"
            ],
            [
             0.7,
             "#b8e186"
            ],
            [
             0.8,
             "#7fbc41"
            ],
            [
             0.9,
             "#4d9221"
            ],
            [
             1,
             "#276419"
            ]
           ],
           "sequential": [
            [
             0,
             "#0d0887"
            ],
            [
             0.1111111111111111,
             "#46039f"
            ],
            [
             0.2222222222222222,
             "#7201a8"
            ],
            [
             0.3333333333333333,
             "#9c179e"
            ],
            [
             0.4444444444444444,
             "#bd3786"
            ],
            [
             0.5555555555555556,
             "#d8576b"
            ],
            [
             0.6666666666666666,
             "#ed7953"
            ],
            [
             0.7777777777777778,
             "#fb9f3a"
            ],
            [
             0.8888888888888888,
             "#fdca26"
            ],
            [
             1,
             "#f0f921"
            ]
           ],
           "sequentialminus": [
            [
             0,
             "#0d0887"
            ],
            [
             0.1111111111111111,
             "#46039f"
            ],
            [
             0.2222222222222222,
             "#7201a8"
            ],
            [
             0.3333333333333333,
             "#9c179e"
            ],
            [
             0.4444444444444444,
             "#bd3786"
            ],
            [
             0.5555555555555556,
             "#d8576b"
            ],
            [
             0.6666666666666666,
             "#ed7953"
            ],
            [
             0.7777777777777778,
             "#fb9f3a"
            ],
            [
             0.8888888888888888,
             "#fdca26"
            ],
            [
             1,
             "#f0f921"
            ]
           ]
          },
          "colorway": [
           "#636efa",
           "#EF553B",
           "#00cc96",
           "#ab63fa",
           "#FFA15A",
           "#19d3f3",
           "#FF6692",
           "#B6E880",
           "#FF97FF",
           "#FECB52"
          ],
          "font": {
           "color": "#2a3f5f"
          },
          "geo": {
           "bgcolor": "white",
           "lakecolor": "white",
           "landcolor": "#E5ECF6",
           "showlakes": true,
           "showland": true,
           "subunitcolor": "white"
          },
          "hoverlabel": {
           "align": "left"
          },
          "hovermode": "closest",
          "mapbox": {
           "style": "light"
          },
          "paper_bgcolor": "white",
          "plot_bgcolor": "#E5ECF6",
          "polar": {
           "angularaxis": {
            "gridcolor": "white",
            "linecolor": "white",
            "ticks": ""
           },
           "bgcolor": "#E5ECF6",
           "radialaxis": {
            "gridcolor": "white",
            "linecolor": "white",
            "ticks": ""
           }
          },
          "scene": {
           "xaxis": {
            "backgroundcolor": "#E5ECF6",
            "gridcolor": "white",
            "gridwidth": 2,
            "linecolor": "white",
            "showbackground": true,
            "ticks": "",
            "zerolinecolor": "white"
           },
           "yaxis": {
            "backgroundcolor": "#E5ECF6",
            "gridcolor": "white",
            "gridwidth": 2,
            "linecolor": "white",
            "showbackground": true,
            "ticks": "",
            "zerolinecolor": "white"
           },
           "zaxis": {
            "backgroundcolor": "#E5ECF6",
            "gridcolor": "white",
            "gridwidth": 2,
            "linecolor": "white",
            "showbackground": true,
            "ticks": "",
            "zerolinecolor": "white"
           }
          },
          "shapedefaults": {
           "line": {
            "color": "#2a3f5f"
           }
          },
          "ternary": {
           "aaxis": {
            "gridcolor": "white",
            "linecolor": "white",
            "ticks": ""
           },
           "baxis": {
            "gridcolor": "white",
            "linecolor": "white",
            "ticks": ""
           },
           "bgcolor": "#E5ECF6",
           "caxis": {
            "gridcolor": "white",
            "linecolor": "white",
            "ticks": ""
           }
          },
          "title": {
           "x": 0.05
          },
          "xaxis": {
           "automargin": true,
           "gridcolor": "white",
           "linecolor": "white",
           "ticks": "",
           "title": {
            "standoff": 15
           },
           "zerolinecolor": "white",
           "zerolinewidth": 2
          },
          "yaxis": {
           "automargin": true,
           "gridcolor": "white",
           "linecolor": "white",
           "ticks": "",
           "title": {
            "standoff": 15
           },
           "zerolinecolor": "white",
           "zerolinewidth": 2
          }
         }
        },
        "title": {
         "text": "Population of children under the age of 1 in every continents between 1950 and 2021"
        },
        "xaxis": {
         "anchor": "y",
         "domain": [
          0,
          1
         ],
         "title": {
          "text": "Year"
         }
        },
        "yaxis": {
         "anchor": "x",
         "domain": [
          0,
          1
         ],
         "title": {
          "text": "Population of children under the age of 1"
         }
        }
       }
      }
     },
     "metadata": {},
     "output_type": "display_data"
    }
   ],
   "source": [
    "# Filter the DataFrame to select data related to other continents\n",
    "continents_data = filtered_pop[~filtered_pop['Continents and World'].isin(['World'])]\n",
    "\n",
    "# Columns to include in the plot\n",
    "columns_to_plot = ['Population of children under the age of 1']\n",
    "\n",
    "# Create an interactive line plot with multiple curves using Plotly Express\n",
    "fig = px.line(continents_data, x='Year', y='Population of children under the age of 1', color='Continents and World', \n",
    "              title='Population of children under the age of 1 in every continents between 1950 and 2021', \n",
    "              labels={'value': 'Population', 'Year': 'Year', 'Continents and World': 'Continent'})\n",
    "\n",
    "# Show the interactive line plot\n",
    "fig.show()\n"
   ]
  },
  {
   "cell_type": "markdown",
   "metadata": {},
   "source": [
    "## 2.2: Population between 1 and 4"
   ]
  },
  {
   "cell_type": "code",
   "execution_count": 185,
   "metadata": {},
   "outputs": [
    {
     "data": {
      "application/vnd.plotly.v1+json": {
       "config": {
        "plotlyServerURL": "https://plot.ly"
       },
       "data": [
        {
         "hovertemplate": "Continent=Africa (UN)<br>Year=%{x}<br>Population aged 1 to 4 years=%{y}<extra></extra>",
         "legendgroup": "Africa (UN)",
         "line": {
          "color": "#636efa",
          "dash": "solid"
         },
         "marker": {
          "symbol": "circle"
         },
         "mode": "lines",
         "name": "Africa (UN)",
         "orientation": "v",
         "showlegend": true,
         "type": "scatter",
         "x": [
          1950,
          1951,
          1952,
          1953,
          1954,
          1955,
          1956,
          1957,
          1958,
          1959,
          1960,
          1961,
          1962,
          1963,
          1964,
          1965,
          1966,
          1967,
          1968,
          1969,
          1970,
          1971,
          1972,
          1973,
          1974,
          1975,
          1976,
          1977,
          1978,
          1979,
          1980,
          1981,
          1982,
          1983,
          1984,
          1985,
          1986,
          1987,
          1988,
          1989,
          1990,
          1991,
          1992,
          1993,
          1994,
          1995,
          1996,
          1997,
          1998,
          1999,
          2000,
          2001,
          2002,
          2003,
          2004,
          2005,
          2006,
          2007,
          2008,
          2009,
          2010,
          2011,
          2012,
          2013,
          2014,
          2015,
          2016,
          2017,
          2018,
          2019,
          2020,
          2021
         ],
         "xaxis": "x",
         "y": [
          29672912,
          30318004,
          31046300,
          31877272,
          32848608,
          33836890,
          34786212,
          35723860,
          36632050,
          37578240,
          38602108,
          39659504,
          40767856,
          41945630,
          43170650,
          44425020,
          45659556,
          46865788,
          48090150,
          49347636,
          50658216,
          52023250,
          53438290,
          54924520,
          56470970,
          58132700,
          59923950,
          61710284,
          63574950,
          65567550,
          67505790,
          69538980,
          71723300,
          73820290,
          75842140,
          77888970,
          79926570,
          81960424,
          83877630,
          85699660,
          87494100,
          89100110,
          90583860,
          92125736,
          93647240,
          95231350,
          96992210,
          98770780,
          100498900,
          102271816,
          104206860,
          106325580,
          108711030,
          111368290,
          114152560,
          117013900,
          120005500,
          123152470,
          126444810,
          129865440,
          133309510,
          136685950,
          140030830,
          143262600,
          146313120,
          149207420,
          151954700,
          154502850,
          156894300,
          159249280,
          161600830,
          164013200
         ],
         "yaxis": "y"
        },
        {
         "hovertemplate": "Continent=Asia (UN)<br>Year=%{x}<br>Population aged 1 to 4 years=%{y}<extra></extra>",
         "legendgroup": "Asia (UN)",
         "line": {
          "color": "#EF553B",
          "dash": "solid"
         },
         "marker": {
          "symbol": "circle"
         },
         "mode": "lines",
         "name": "Asia (UN)",
         "orientation": "v",
         "showlegend": true,
         "type": "scatter",
         "x": [
          1950,
          1951,
          1952,
          1953,
          1954,
          1955,
          1956,
          1957,
          1958,
          1959,
          1960,
          1961,
          1962,
          1963,
          1964,
          1965,
          1966,
          1967,
          1968,
          1969,
          1970,
          1971,
          1972,
          1973,
          1974,
          1975,
          1976,
          1977,
          1978,
          1979,
          1980,
          1981,
          1982,
          1983,
          1984,
          1985,
          1986,
          1987,
          1988,
          1989,
          1990,
          1991,
          1992,
          1993,
          1994,
          1995,
          1996,
          1997,
          1998,
          1999,
          2000,
          2001,
          2002,
          2003,
          2004,
          2005,
          2006,
          2007,
          2008,
          2009,
          2010,
          2011,
          2012,
          2013,
          2014,
          2015,
          2016,
          2017,
          2018,
          2019,
          2020,
          2021
         ],
         "xaxis": "x",
         "y": [
          154260270,
          162549470,
          170581700,
          178860690,
          186858030,
          193265440,
          199662270,
          204496540,
          209054620,
          212631600,
          210872100,
          207318750,
          203879970,
          205773120,
          218555840,
          234434320,
          249152540,
          259202270,
          260656210,
          262016750,
          266158130,
          270571680,
          275863040,
          278871400,
          279643870,
          279128960,
          276611550,
          273473280,
          269760420,
          266443420,
          266107630,
          268718050,
          273843420,
          281484300,
          288075870,
          292659200,
          297052200,
          301248580,
          307223170,
          313630460,
          318303520,
          322011740,
          322069500,
          318726700,
          314089150,
          307665920,
          302472770,
          299707870,
          297450050,
          295412500,
          293518660,
          292684670,
          292962500,
          293363330,
          293677340,
          293426050,
          292880200,
          292775360,
          293529440,
          295090880,
          297137730,
          299294080,
          300924600,
          302617820,
          303929120,
          304294000,
          303787870,
          302134560,
          300313100,
          297334400,
          292883300,
          286596380
         ],
         "yaxis": "y"
        },
        {
         "hovertemplate": "Continent=Europe (UN)<br>Year=%{x}<br>Population aged 1 to 4 years=%{y}<extra></extra>",
         "legendgroup": "Europe (UN)",
         "line": {
          "color": "#00cc96",
          "dash": "solid"
         },
         "marker": {
          "symbol": "circle"
         },
         "mode": "lines",
         "name": "Europe (UN)",
         "orientation": "v",
         "showlegend": true,
         "type": "scatter",
         "x": [
          1950,
          1951,
          1952,
          1953,
          1954,
          1955,
          1956,
          1957,
          1958,
          1959,
          1960,
          1961,
          1962,
          1963,
          1964,
          1965,
          1966,
          1967,
          1968,
          1969,
          1970,
          1971,
          1972,
          1973,
          1974,
          1975,
          1976,
          1977,
          1978,
          1979,
          1980,
          1981,
          1982,
          1983,
          1984,
          1985,
          1986,
          1987,
          1988,
          1989,
          1990,
          1991,
          1992,
          1993,
          1994,
          1995,
          1996,
          1997,
          1998,
          1999,
          2000,
          2001,
          2002,
          2003,
          2004,
          2005,
          2006,
          2007,
          2008,
          2009,
          2010,
          2011,
          2012,
          2013,
          2014,
          2015,
          2016,
          2017,
          2018,
          2019,
          2020,
          2021
         ],
         "xaxis": "x",
         "y": [
          39244132,
          42353456,
          44012988,
          45307200,
          45391692,
          44955870,
          45180136,
          45408650,
          45402404,
          45291390,
          45419532,
          45665812,
          45861090,
          45896452,
          45733016,
          45373590,
          44796456,
          44129580,
          43435496,
          42723056,
          42169984,
          41782680,
          41570584,
          41490010,
          41337612,
          41175320,
          40942080,
          40579210,
          40279820,
          39992984,
          39738070,
          39629264,
          39584930,
          39584428,
          39666350,
          39680840,
          39619840,
          39599864,
          39514084,
          39300504,
          38947416,
          38296244,
          37340948,
          36207084,
          34978620,
          33746908,
          32600258,
          31639352,
          30891778,
          30307072,
          29821570,
          29426480,
          29109534,
          28979998,
          29101560,
          29314364,
          29562540,
          29880528,
          30278118,
          30815168,
          31400812,
          31861980,
          32159464,
          32287136,
          32260496,
          32235936,
          32227172,
          32104978,
          31838972,
          31337472,
          30571664,
          29623340
         ],
         "yaxis": "y"
        },
        {
         "hovertemplate": "Continent=Latin America and the Caribbean (UN)<br>Year=%{x}<br>Population aged 1 to 4 years=%{y}<extra></extra>",
         "legendgroup": "Latin America and the Caribbean (UN)",
         "line": {
          "color": "#ab63fa",
          "dash": "solid"
         },
         "marker": {
          "symbol": "circle"
         },
         "mode": "lines",
         "name": "Latin America and the Caribbean (UN)",
         "orientation": "v",
         "showlegend": true,
         "type": "scatter",
         "x": [
          1950,
          1951,
          1952,
          1953,
          1954,
          1955,
          1956,
          1957,
          1958,
          1959,
          1960,
          1961,
          1962,
          1963,
          1964,
          1965,
          1966,
          1967,
          1968,
          1969,
          1970,
          1971,
          1972,
          1973,
          1974,
          1975,
          1976,
          1977,
          1978,
          1979,
          1980,
          1981,
          1982,
          1983,
          1984,
          1985,
          1986,
          1987,
          1988,
          1989,
          1990,
          1991,
          1992,
          1993,
          1994,
          1995,
          1996,
          1997,
          1998,
          1999,
          2000,
          2001,
          2002,
          2003,
          2004,
          2005,
          2006,
          2007,
          2008,
          2009,
          2010,
          2011,
          2012,
          2013,
          2014,
          2015,
          2016,
          2017,
          2018,
          2019,
          2020,
          2021
         ],
         "xaxis": "x",
         "y": [
          21480708,
          22343328,
          23180048,
          23976630,
          24719496,
          25447838,
          26195488,
          26956188,
          27731356,
          28518584,
          29322794,
          30137598,
          30948552,
          31759260,
          32566862,
          33343884,
          34052524,
          34669800,
          35194550,
          35643656,
          36060924,
          36453104,
          36864536,
          37344356,
          37872736,
          38428790,
          38982460,
          39555216,
          40156556,
          40771548,
          41355332,
          41864796,
          42350170,
          42838920,
          43300456,
          43692330,
          43996080,
          44233704,
          44454428,
          44679370,
          44896972,
          45104370,
          45275570,
          45373640,
          45421290,
          45441576,
          45438716,
          45421664,
          45359380,
          45250188,
          45122884,
          45011296,
          44892760,
          44690784,
          44383696,
          44028480,
          43703784,
          43427556,
          43201670,
          42991620,
          42780584,
          42617620,
          42513570,
          42424704,
          42287336,
          42115510,
          41951064,
          41729544,
          41460340,
          41129468,
          40640776,
          40078330
         ],
         "yaxis": "y"
        },
        {
         "hovertemplate": "Continent=Northern America (UN)<br>Year=%{x}<br>Population aged 1 to 4 years=%{y}<extra></extra>",
         "legendgroup": "Northern America (UN)",
         "line": {
          "color": "#FFA15A",
          "dash": "solid"
         },
         "marker": {
          "symbol": "circle"
         },
         "mode": "lines",
         "name": "Northern America (UN)",
         "orientation": "v",
         "showlegend": true,
         "type": "scatter",
         "x": [
          1950,
          1951,
          1952,
          1953,
          1954,
          1955,
          1956,
          1957,
          1958,
          1959,
          1960,
          1961,
          1962,
          1963,
          1964,
          1965,
          1966,
          1967,
          1968,
          1969,
          1970,
          1971,
          1972,
          1973,
          1974,
          1975,
          1976,
          1977,
          1978,
          1979,
          1980,
          1981,
          1982,
          1983,
          1984,
          1985,
          1986,
          1987,
          1988,
          1989,
          1990,
          1991,
          1992,
          1993,
          1994,
          1995,
          1996,
          1997,
          1998,
          1999,
          2000,
          2001,
          2002,
          2003,
          2004,
          2005,
          2006,
          2007,
          2008,
          2009,
          2010,
          2011,
          2012,
          2013,
          2014,
          2015,
          2016,
          2017,
          2018,
          2019,
          2020,
          2021
         ],
         "xaxis": "x",
         "y": [
          14298529,
          14324675,
          14242286,
          14749768,
          15309210,
          16195013,
          16510579,
          16565870,
          16979294,
          17304148,
          17513308,
          17661008,
          17737126,
          17733140,
          17657064,
          17457672,
          17073116,
          16531002,
          15907726,
          15325963,
          14949067,
          14833418,
          14844870,
          14761100,
          14474477,
          14051370,
          13648175,
          13452882,
          13520976,
          13728194,
          13999726,
          14335807,
          14676722,
          14966169,
          15159672,
          15252677,
          15336550,
          15482144,
          15689481,
          15936748,
          16223273,
          16558744,
          16947554,
          17298290,
          17474104,
          17447720,
          17299084,
          17140564,
          17030584,
          16965554,
          16913064,
          16912296,
          17015508,
          17164284,
          17313198,
          17425376,
          17484442,
          17576884,
          17723206,
          17839764,
          17872992,
          17864942,
          17826536,
          17750166,
          17686552,
          17661828,
          17683648,
          17717612,
          17704002,
          17589526,
          17347230,
          17008376
         ],
         "yaxis": "y"
        },
        {
         "hovertemplate": "Continent=Oceania (UN)<br>Year=%{x}<br>Population aged 1 to 4 years=%{y}<extra></extra>",
         "legendgroup": "Oceania (UN)",
         "line": {
          "color": "#19d3f3",
          "dash": "solid"
         },
         "marker": {
          "symbol": "circle"
         },
         "mode": "lines",
         "name": "Oceania (UN)",
         "orientation": "v",
         "showlegend": true,
         "type": "scatter",
         "x": [
          1950,
          1951,
          1952,
          1953,
          1954,
          1955,
          1956,
          1957,
          1958,
          1959,
          1960,
          1961,
          1962,
          1963,
          1964,
          1965,
          1966,
          1967,
          1968,
          1969,
          1970,
          1971,
          1972,
          1973,
          1974,
          1975,
          1976,
          1977,
          1978,
          1979,
          1980,
          1981,
          1982,
          1983,
          1984,
          1985,
          1986,
          1987,
          1988,
          1989,
          1990,
          1991,
          1992,
          1993,
          1994,
          1995,
          1996,
          1997,
          1998,
          1999,
          2000,
          2001,
          2002,
          2003,
          2004,
          2005,
          2006,
          2007,
          2008,
          2009,
          2010,
          2011,
          2012,
          2013,
          2014,
          2015,
          2016,
          2017,
          2018,
          2019,
          2020,
          2021
         ],
         "xaxis": "x",
         "y": [
          1208571,
          1252927,
          1278768,
          1305243,
          1339003,
          1371865,
          1402711,
          1433420,
          1466287,
          1503897,
          1543407,
          1582008,
          1619626,
          1654164,
          1683471,
          1703849,
          1710262,
          1706675,
          1706279,
          1720543,
          1756548,
          1805671,
          1849002,
          1881337,
          1898642,
          1892269,
          1861851,
          1821165,
          1788357,
          1768402,
          1760294,
          1766265,
          1784515,
          1809105,
          1837030,
          1865084,
          1891292,
          1916324,
          1941772,
          1968339,
          1997643,
          2030277,
          2062603,
          2090366,
          2112779,
          2130420,
          2145998,
          2162164,
          2176046,
          2186554,
          2197955,
          2213125,
          2230627,
          2249153,
          2268256,
          2289374,
          2318942,
          2364523,
          2423431,
          2483902,
          2534785,
          2575931,
          2615232,
          2653434,
          2685784,
          2709670,
          2731289,
          2750610,
          2759703,
          2761157,
          2757208,
          2748497
         ],
         "yaxis": "y"
        }
       ],
       "layout": {
        "legend": {
         "title": {
          "text": "Continent"
         },
         "tracegroupgap": 0
        },
        "template": {
         "data": {
          "bar": [
           {
            "error_x": {
             "color": "#2a3f5f"
            },
            "error_y": {
             "color": "#2a3f5f"
            },
            "marker": {
             "line": {
              "color": "#E5ECF6",
              "width": 0.5
             },
             "pattern": {
              "fillmode": "overlay",
              "size": 10,
              "solidity": 0.2
             }
            },
            "type": "bar"
           }
          ],
          "barpolar": [
           {
            "marker": {
             "line": {
              "color": "#E5ECF6",
              "width": 0.5
             },
             "pattern": {
              "fillmode": "overlay",
              "size": 10,
              "solidity": 0.2
             }
            },
            "type": "barpolar"
           }
          ],
          "carpet": [
           {
            "aaxis": {
             "endlinecolor": "#2a3f5f",
             "gridcolor": "white",
             "linecolor": "white",
             "minorgridcolor": "white",
             "startlinecolor": "#2a3f5f"
            },
            "baxis": {
             "endlinecolor": "#2a3f5f",
             "gridcolor": "white",
             "linecolor": "white",
             "minorgridcolor": "white",
             "startlinecolor": "#2a3f5f"
            },
            "type": "carpet"
           }
          ],
          "choropleth": [
           {
            "colorbar": {
             "outlinewidth": 0,
             "ticks": ""
            },
            "type": "choropleth"
           }
          ],
          "contour": [
           {
            "colorbar": {
             "outlinewidth": 0,
             "ticks": ""
            },
            "colorscale": [
             [
              0,
              "#0d0887"
             ],
             [
              0.1111111111111111,
              "#46039f"
             ],
             [
              0.2222222222222222,
              "#7201a8"
             ],
             [
              0.3333333333333333,
              "#9c179e"
             ],
             [
              0.4444444444444444,
              "#bd3786"
             ],
             [
              0.5555555555555556,
              "#d8576b"
             ],
             [
              0.6666666666666666,
              "#ed7953"
             ],
             [
              0.7777777777777778,
              "#fb9f3a"
             ],
             [
              0.8888888888888888,
              "#fdca26"
             ],
             [
              1,
              "#f0f921"
             ]
            ],
            "type": "contour"
           }
          ],
          "contourcarpet": [
           {
            "colorbar": {
             "outlinewidth": 0,
             "ticks": ""
            },
            "type": "contourcarpet"
           }
          ],
          "heatmap": [
           {
            "colorbar": {
             "outlinewidth": 0,
             "ticks": ""
            },
            "colorscale": [
             [
              0,
              "#0d0887"
             ],
             [
              0.1111111111111111,
              "#46039f"
             ],
             [
              0.2222222222222222,
              "#7201a8"
             ],
             [
              0.3333333333333333,
              "#9c179e"
             ],
             [
              0.4444444444444444,
              "#bd3786"
             ],
             [
              0.5555555555555556,
              "#d8576b"
             ],
             [
              0.6666666666666666,
              "#ed7953"
             ],
             [
              0.7777777777777778,
              "#fb9f3a"
             ],
             [
              0.8888888888888888,
              "#fdca26"
             ],
             [
              1,
              "#f0f921"
             ]
            ],
            "type": "heatmap"
           }
          ],
          "heatmapgl": [
           {
            "colorbar": {
             "outlinewidth": 0,
             "ticks": ""
            },
            "colorscale": [
             [
              0,
              "#0d0887"
             ],
             [
              0.1111111111111111,
              "#46039f"
             ],
             [
              0.2222222222222222,
              "#7201a8"
             ],
             [
              0.3333333333333333,
              "#9c179e"
             ],
             [
              0.4444444444444444,
              "#bd3786"
             ],
             [
              0.5555555555555556,
              "#d8576b"
             ],
             [
              0.6666666666666666,
              "#ed7953"
             ],
             [
              0.7777777777777778,
              "#fb9f3a"
             ],
             [
              0.8888888888888888,
              "#fdca26"
             ],
             [
              1,
              "#f0f921"
             ]
            ],
            "type": "heatmapgl"
           }
          ],
          "histogram": [
           {
            "marker": {
             "pattern": {
              "fillmode": "overlay",
              "size": 10,
              "solidity": 0.2
             }
            },
            "type": "histogram"
           }
          ],
          "histogram2d": [
           {
            "colorbar": {
             "outlinewidth": 0,
             "ticks": ""
            },
            "colorscale": [
             [
              0,
              "#0d0887"
             ],
             [
              0.1111111111111111,
              "#46039f"
             ],
             [
              0.2222222222222222,
              "#7201a8"
             ],
             [
              0.3333333333333333,
              "#9c179e"
             ],
             [
              0.4444444444444444,
              "#bd3786"
             ],
             [
              0.5555555555555556,
              "#d8576b"
             ],
             [
              0.6666666666666666,
              "#ed7953"
             ],
             [
              0.7777777777777778,
              "#fb9f3a"
             ],
             [
              0.8888888888888888,
              "#fdca26"
             ],
             [
              1,
              "#f0f921"
             ]
            ],
            "type": "histogram2d"
           }
          ],
          "histogram2dcontour": [
           {
            "colorbar": {
             "outlinewidth": 0,
             "ticks": ""
            },
            "colorscale": [
             [
              0,
              "#0d0887"
             ],
             [
              0.1111111111111111,
              "#46039f"
             ],
             [
              0.2222222222222222,
              "#7201a8"
             ],
             [
              0.3333333333333333,
              "#9c179e"
             ],
             [
              0.4444444444444444,
              "#bd3786"
             ],
             [
              0.5555555555555556,
              "#d8576b"
             ],
             [
              0.6666666666666666,
              "#ed7953"
             ],
             [
              0.7777777777777778,
              "#fb9f3a"
             ],
             [
              0.8888888888888888,
              "#fdca26"
             ],
             [
              1,
              "#f0f921"
             ]
            ],
            "type": "histogram2dcontour"
           }
          ],
          "mesh3d": [
           {
            "colorbar": {
             "outlinewidth": 0,
             "ticks": ""
            },
            "type": "mesh3d"
           }
          ],
          "parcoords": [
           {
            "line": {
             "colorbar": {
              "outlinewidth": 0,
              "ticks": ""
             }
            },
            "type": "parcoords"
           }
          ],
          "pie": [
           {
            "automargin": true,
            "type": "pie"
           }
          ],
          "scatter": [
           {
            "fillpattern": {
             "fillmode": "overlay",
             "size": 10,
             "solidity": 0.2
            },
            "type": "scatter"
           }
          ],
          "scatter3d": [
           {
            "line": {
             "colorbar": {
              "outlinewidth": 0,
              "ticks": ""
             }
            },
            "marker": {
             "colorbar": {
              "outlinewidth": 0,
              "ticks": ""
             }
            },
            "type": "scatter3d"
           }
          ],
          "scattercarpet": [
           {
            "marker": {
             "colorbar": {
              "outlinewidth": 0,
              "ticks": ""
             }
            },
            "type": "scattercarpet"
           }
          ],
          "scattergeo": [
           {
            "marker": {
             "colorbar": {
              "outlinewidth": 0,
              "ticks": ""
             }
            },
            "type": "scattergeo"
           }
          ],
          "scattergl": [
           {
            "marker": {
             "colorbar": {
              "outlinewidth": 0,
              "ticks": ""
             }
            },
            "type": "scattergl"
           }
          ],
          "scattermapbox": [
           {
            "marker": {
             "colorbar": {
              "outlinewidth": 0,
              "ticks": ""
             }
            },
            "type": "scattermapbox"
           }
          ],
          "scatterpolar": [
           {
            "marker": {
             "colorbar": {
              "outlinewidth": 0,
              "ticks": ""
             }
            },
            "type": "scatterpolar"
           }
          ],
          "scatterpolargl": [
           {
            "marker": {
             "colorbar": {
              "outlinewidth": 0,
              "ticks": ""
             }
            },
            "type": "scatterpolargl"
           }
          ],
          "scatterternary": [
           {
            "marker": {
             "colorbar": {
              "outlinewidth": 0,
              "ticks": ""
             }
            },
            "type": "scatterternary"
           }
          ],
          "surface": [
           {
            "colorbar": {
             "outlinewidth": 0,
             "ticks": ""
            },
            "colorscale": [
             [
              0,
              "#0d0887"
             ],
             [
              0.1111111111111111,
              "#46039f"
             ],
             [
              0.2222222222222222,
              "#7201a8"
             ],
             [
              0.3333333333333333,
              "#9c179e"
             ],
             [
              0.4444444444444444,
              "#bd3786"
             ],
             [
              0.5555555555555556,
              "#d8576b"
             ],
             [
              0.6666666666666666,
              "#ed7953"
             ],
             [
              0.7777777777777778,
              "#fb9f3a"
             ],
             [
              0.8888888888888888,
              "#fdca26"
             ],
             [
              1,
              "#f0f921"
             ]
            ],
            "type": "surface"
           }
          ],
          "table": [
           {
            "cells": {
             "fill": {
              "color": "#EBF0F8"
             },
             "line": {
              "color": "white"
             }
            },
            "header": {
             "fill": {
              "color": "#C8D4E3"
             },
             "line": {
              "color": "white"
             }
            },
            "type": "table"
           }
          ]
         },
         "layout": {
          "annotationdefaults": {
           "arrowcolor": "#2a3f5f",
           "arrowhead": 0,
           "arrowwidth": 1
          },
          "autotypenumbers": "strict",
          "coloraxis": {
           "colorbar": {
            "outlinewidth": 0,
            "ticks": ""
           }
          },
          "colorscale": {
           "diverging": [
            [
             0,
             "#8e0152"
            ],
            [
             0.1,
             "#c51b7d"
            ],
            [
             0.2,
             "#de77ae"
            ],
            [
             0.3,
             "#f1b6da"
            ],
            [
             0.4,
             "#fde0ef"
            ],
            [
             0.5,
             "#f7f7f7"
            ],
            [
             0.6,
             "#e6f5d0"
            ],
            [
             0.7,
             "#b8e186"
            ],
            [
             0.8,
             "#7fbc41"
            ],
            [
             0.9,
             "#4d9221"
            ],
            [
             1,
             "#276419"
            ]
           ],
           "sequential": [
            [
             0,
             "#0d0887"
            ],
            [
             0.1111111111111111,
             "#46039f"
            ],
            [
             0.2222222222222222,
             "#7201a8"
            ],
            [
             0.3333333333333333,
             "#9c179e"
            ],
            [
             0.4444444444444444,
             "#bd3786"
            ],
            [
             0.5555555555555556,
             "#d8576b"
            ],
            [
             0.6666666666666666,
             "#ed7953"
            ],
            [
             0.7777777777777778,
             "#fb9f3a"
            ],
            [
             0.8888888888888888,
             "#fdca26"
            ],
            [
             1,
             "#f0f921"
            ]
           ],
           "sequentialminus": [
            [
             0,
             "#0d0887"
            ],
            [
             0.1111111111111111,
             "#46039f"
            ],
            [
             0.2222222222222222,
             "#7201a8"
            ],
            [
             0.3333333333333333,
             "#9c179e"
            ],
            [
             0.4444444444444444,
             "#bd3786"
            ],
            [
             0.5555555555555556,
             "#d8576b"
            ],
            [
             0.6666666666666666,
             "#ed7953"
            ],
            [
             0.7777777777777778,
             "#fb9f3a"
            ],
            [
             0.8888888888888888,
             "#fdca26"
            ],
            [
             1,
             "#f0f921"
            ]
           ]
          },
          "colorway": [
           "#636efa",
           "#EF553B",
           "#00cc96",
           "#ab63fa",
           "#FFA15A",
           "#19d3f3",
           "#FF6692",
           "#B6E880",
           "#FF97FF",
           "#FECB52"
          ],
          "font": {
           "color": "#2a3f5f"
          },
          "geo": {
           "bgcolor": "white",
           "lakecolor": "white",
           "landcolor": "#E5ECF6",
           "showlakes": true,
           "showland": true,
           "subunitcolor": "white"
          },
          "hoverlabel": {
           "align": "left"
          },
          "hovermode": "closest",
          "mapbox": {
           "style": "light"
          },
          "paper_bgcolor": "white",
          "plot_bgcolor": "#E5ECF6",
          "polar": {
           "angularaxis": {
            "gridcolor": "white",
            "linecolor": "white",
            "ticks": ""
           },
           "bgcolor": "#E5ECF6",
           "radialaxis": {
            "gridcolor": "white",
            "linecolor": "white",
            "ticks": ""
           }
          },
          "scene": {
           "xaxis": {
            "backgroundcolor": "#E5ECF6",
            "gridcolor": "white",
            "gridwidth": 2,
            "linecolor": "white",
            "showbackground": true,
            "ticks": "",
            "zerolinecolor": "white"
           },
           "yaxis": {
            "backgroundcolor": "#E5ECF6",
            "gridcolor": "white",
            "gridwidth": 2,
            "linecolor": "white",
            "showbackground": true,
            "ticks": "",
            "zerolinecolor": "white"
           },
           "zaxis": {
            "backgroundcolor": "#E5ECF6",
            "gridcolor": "white",
            "gridwidth": 2,
            "linecolor": "white",
            "showbackground": true,
            "ticks": "",
            "zerolinecolor": "white"
           }
          },
          "shapedefaults": {
           "line": {
            "color": "#2a3f5f"
           }
          },
          "ternary": {
           "aaxis": {
            "gridcolor": "white",
            "linecolor": "white",
            "ticks": ""
           },
           "baxis": {
            "gridcolor": "white",
            "linecolor": "white",
            "ticks": ""
           },
           "bgcolor": "#E5ECF6",
           "caxis": {
            "gridcolor": "white",
            "linecolor": "white",
            "ticks": ""
           }
          },
          "title": {
           "x": 0.05
          },
          "xaxis": {
           "automargin": true,
           "gridcolor": "white",
           "linecolor": "white",
           "ticks": "",
           "title": {
            "standoff": 15
           },
           "zerolinecolor": "white",
           "zerolinewidth": 2
          },
          "yaxis": {
           "automargin": true,
           "gridcolor": "white",
           "linecolor": "white",
           "ticks": "",
           "title": {
            "standoff": 15
           },
           "zerolinecolor": "white",
           "zerolinewidth": 2
          }
         }
        },
        "title": {
         "text": "Population aged 1 to 4 in every continents between 1950 and 2021"
        },
        "xaxis": {
         "anchor": "y",
         "domain": [
          0,
          1
         ],
         "title": {
          "text": "Year"
         }
        },
        "yaxis": {
         "anchor": "x",
         "domain": [
          0,
          1
         ],
         "title": {
          "text": "Population aged 1 to 4 years"
         }
        }
       }
      }
     },
     "metadata": {},
     "output_type": "display_data"
    }
   ],
   "source": [
    "# Filter the DataFrame to select data related to other continents\n",
    "continents_data = filtered_pop[~filtered_pop['Continents and World'].isin(['World'])]\n",
    "\n",
    "# Columns to include in the plot\n",
    "columns_to_plot = ['Population aged 1 to 4 years']\n",
    "\n",
    "# Create an interactive line plot with multiple curves using Plotly Express\n",
    "fig = px.line(continents_data, x='Year', y='Population aged 1 to 4 years', color='Continents and World', \n",
    "              title='Population aged 1 to 4 in every continents between 1950 and 2021', \n",
    "              labels={'value': 'Population', 'Year': 'Year', 'Continents and World': 'Continent'})\n",
    "\n",
    "# Show the interactive line plot\n",
    "fig.show()\n"
   ]
  },
  {
   "cell_type": "markdown",
   "metadata": {},
   "source": [
    "## 2.3: Population aged 5 and 9 years "
   ]
  },
  {
   "cell_type": "code",
   "execution_count": 186,
   "metadata": {},
   "outputs": [
    {
     "data": {
      "application/vnd.plotly.v1+json": {
       "config": {
        "plotlyServerURL": "https://plot.ly"
       },
       "data": [
        {
         "hovertemplate": "Continent=Africa (UN)<br>Year=%{x}<br>Population aged 5 to 9 years=%{y}<extra></extra>",
         "legendgroup": "Africa (UN)",
         "line": {
          "color": "#636efa",
          "dash": "solid"
         },
         "marker": {
          "symbol": "circle"
         },
         "mode": "lines",
         "name": "Africa (UN)",
         "orientation": "v",
         "showlegend": true,
         "type": "scatter",
         "x": [
          1950,
          1951,
          1952,
          1953,
          1954,
          1955,
          1956,
          1957,
          1958,
          1959,
          1960,
          1961,
          1962,
          1963,
          1964,
          1965,
          1966,
          1967,
          1968,
          1969,
          1970,
          1971,
          1972,
          1973,
          1974,
          1975,
          1976,
          1977,
          1978,
          1979,
          1980,
          1981,
          1982,
          1983,
          1984,
          1985,
          1986,
          1987,
          1988,
          1989,
          1990,
          1991,
          1992,
          1993,
          1994,
          1995,
          1996,
          1997,
          1998,
          1999,
          2000,
          2001,
          2002,
          2003,
          2004,
          2005,
          2006,
          2007,
          2008,
          2009,
          2010,
          2011,
          2012,
          2013,
          2014,
          2015,
          2016,
          2017,
          2018,
          2019,
          2020,
          2021
         ],
         "xaxis": "x",
         "y": [
          29653958,
          30523140,
          31460048,
          32368278,
          33192114,
          34038710,
          34945520,
          35874772,
          36906136,
          38071096,
          39240836,
          40360856,
          41489000,
          42647496,
          43852050,
          45119904,
          46468330,
          47900924,
          49379464,
          50874256,
          52379988,
          53876316,
          55357484,
          56859576,
          58427010,
          60138756,
          61996230,
          63833370,
          65700452,
          67689150,
          69713980,
          71833340,
          74070050,
          76341050,
          78700344,
          81164850,
          83783720,
          86512160,
          89128376,
          91625460,
          94050984,
          96442450,
          98804184,
          101111470,
          103202860,
          105156290,
          107168800,
          109140180,
          111036170,
          112905580,
          114931400,
          117149170,
          119392610,
          121651500,
          124104824,
          126772184,
          129628990,
          132780590,
          136207660,
          139793020,
          143545090,
          147477570,
          151582420,
          155896880,
          160286300,
          164655650,
          168979620,
          173164580,
          177108220,
          180855970,
          184460220,
          187800450
         ],
         "yaxis": "y"
        },
        {
         "hovertemplate": "Continent=Asia (UN)<br>Year=%{x}<br>Population aged 5 to 9 years=%{y}<extra></extra>",
         "legendgroup": "Asia (UN)",
         "line": {
          "color": "#EF553B",
          "dash": "solid"
         },
         "marker": {
          "symbol": "circle"
         },
         "mode": "lines",
         "name": "Asia (UN)",
         "orientation": "v",
         "showlegend": true,
         "type": "scatter",
         "x": [
          1950,
          1951,
          1952,
          1953,
          1954,
          1955,
          1956,
          1957,
          1958,
          1959,
          1960,
          1961,
          1962,
          1963,
          1964,
          1965,
          1966,
          1967,
          1968,
          1969,
          1970,
          1971,
          1972,
          1973,
          1974,
          1975,
          1976,
          1977,
          1978,
          1979,
          1980,
          1981,
          1982,
          1983,
          1984,
          1985,
          1986,
          1987,
          1988,
          1989,
          1990,
          1991,
          1992,
          1993,
          1994,
          1995,
          1996,
          1997,
          1998,
          1999,
          2000,
          2001,
          2002,
          2003,
          2004,
          2005,
          2006,
          2007,
          2008,
          2009,
          2010,
          2011,
          2012,
          2013,
          2014,
          2015,
          2016,
          2017,
          2018,
          2019,
          2020,
          2021
         ],
         "xaxis": "x",
         "y": [
          157936140,
          160249220,
          164268900,
          170093070,
          177671200,
          187179230,
          196973980,
          206942990,
          216913070,
          225555310,
          232718020,
          238637900,
          244153140,
          248495400,
          249615070,
          248256220,
          246741820,
          249014380,
          259213840,
          273903070,
          288899200,
          303688450,
          313227800,
          316795780,
          320361900,
          325291040,
          330607070,
          336053200,
          339331550,
          339842300,
          338137500,
          334817300,
          331217400,
          327630080,
          326115740,
          328070300,
          332865730,
          340485700,
          348583300,
          355248400,
          361509920,
          367964350,
          374524580,
          381210140,
          387915200,
          393923000,
          396192960,
          393404540,
          389048200,
          383973400,
          377353630,
          371873200,
          368950850,
          366727800,
          364690370,
          363538000,
          363267650,
          363079200,
          363066880,
          363435140,
          363486400,
          363337280,
          364071100,
          365867780,
          368352580,
          370925020,
          373224060,
          375643000,
          377517500,
          378118900,
          377687680,
          376914240
         ],
         "yaxis": "y"
        },
        {
         "hovertemplate": "Continent=Europe (UN)<br>Year=%{x}<br>Population aged 5 to 9 years=%{y}<extra></extra>",
         "legendgroup": "Europe (UN)",
         "line": {
          "color": "#00cc96",
          "dash": "solid"
         },
         "marker": {
          "symbol": "circle"
         },
         "mode": "lines",
         "name": "Europe (UN)",
         "orientation": "v",
         "showlegend": true,
         "type": "scatter",
         "x": [
          1950,
          1951,
          1952,
          1953,
          1954,
          1955,
          1956,
          1957,
          1958,
          1959,
          1960,
          1961,
          1962,
          1963,
          1964,
          1965,
          1966,
          1967,
          1968,
          1969,
          1970,
          1971,
          1972,
          1973,
          1974,
          1975,
          1976,
          1977,
          1978,
          1979,
          1980,
          1981,
          1982,
          1983,
          1984,
          1985,
          1986,
          1987,
          1988,
          1989,
          1990,
          1991,
          1992,
          1993,
          1994,
          1995,
          1996,
          1997,
          1998,
          1999,
          2000,
          2001,
          2002,
          2003,
          2004,
          2005,
          2006,
          2007,
          2008,
          2009,
          2010,
          2011,
          2012,
          2013,
          2014,
          2015,
          2016,
          2017,
          2018,
          2019,
          2020,
          2021
         ],
         "xaxis": "x",
         "y": [
          42463184,
          41676520,
          42334610,
          43771110,
          46604708,
          50145428,
          52733124,
          54543604,
          54830760,
          54524950,
          54834140,
          55210910,
          55611736,
          56040290,
          56435740,
          56769976,
          57077760,
          57171296,
          57073308,
          56814390,
          56158796,
          55326390,
          54597224,
          53881950,
          53194924,
          52683710,
          52432444,
          52221390,
          51850976,
          51538630,
          51317510,
          50979268,
          50535780,
          50182280,
          49926770,
          49743064,
          49627140,
          49588520,
          49688656,
          49749036,
          49679120,
          49629224,
          49647650,
          49507584,
          49106924,
          48506068,
          47573436,
          46270160,
          44730704,
          43110988,
          41538964,
          40106796,
          38921200,
          38104844,
          37578440,
          37219800,
          36984924,
          36852930,
          36882970,
          37037256,
          37208252,
          37451430,
          37902290,
          38515744,
          39159244,
          39723720,
          40224576,
          40636160,
          40786188,
          40772184,
          40783260,
          40727896
         ],
         "yaxis": "y"
        },
        {
         "hovertemplate": "Continent=Latin America and the Caribbean (UN)<br>Year=%{x}<br>Population aged 5 to 9 years=%{y}<extra></extra>",
         "legendgroup": "Latin America and the Caribbean (UN)",
         "line": {
          "color": "#ab63fa",
          "dash": "solid"
         },
         "marker": {
          "symbol": "circle"
         },
         "mode": "lines",
         "name": "Latin America and the Caribbean (UN)",
         "orientation": "v",
         "showlegend": true,
         "type": "scatter",
         "x": [
          1950,
          1951,
          1952,
          1953,
          1954,
          1955,
          1956,
          1957,
          1958,
          1959,
          1960,
          1961,
          1962,
          1963,
          1964,
          1965,
          1966,
          1967,
          1968,
          1969,
          1970,
          1971,
          1972,
          1973,
          1974,
          1975,
          1976,
          1977,
          1978,
          1979,
          1980,
          1981,
          1982,
          1983,
          1984,
          1985,
          1986,
          1987,
          1988,
          1989,
          1990,
          1991,
          1992,
          1993,
          1994,
          1995,
          1996,
          1997,
          1998,
          1999,
          2000,
          2001,
          2002,
          2003,
          2004,
          2005,
          2006,
          2007,
          2008,
          2009,
          2010,
          2011,
          2012,
          2013,
          2014,
          2015,
          2016,
          2017,
          2018,
          2019,
          2020,
          2021
         ],
         "xaxis": "x",
         "y": [
          22124388,
          22750836,
          23438040,
          24227996,
          25137120,
          26127232,
          27145572,
          28163348,
          29144612,
          30084392,
          31024104,
          31988212,
          32970240,
          33971710,
          34985504,
          36009656,
          37039004,
          38065970,
          39085290,
          40077456,
          40999350,
          41814212,
          42515532,
          43117060,
          43648084,
          44154850,
          44693176,
          45307410,
          46002816,
          46741564,
          47485120,
          48202016,
          48897852,
          49593828,
          50287372,
          50973110,
          51632452,
          52259110,
          52852196,
          53386304,
          53864588,
          54297744,
          54690540,
          55050452,
          55374804,
          55670136,
          55924776,
          56103412,
          56224600,
          56311080,
          56343144,
          56310828,
          56245060,
          56166304,
          56053028,
          55909644,
          55741668,
          55520564,
          55197310,
          54819664,
          54447316,
          54086484,
          53751584,
          53467596,
          53237864,
          53039136,
          52900670,
          52785016,
          52635650,
          52485100,
          52348616,
          52114870
         ],
         "yaxis": "y"
        },
        {
         "hovertemplate": "Continent=Northern America (UN)<br>Year=%{x}<br>Population aged 5 to 9 years=%{y}<extra></extra>",
         "legendgroup": "Northern America (UN)",
         "line": {
          "color": "#FFA15A",
          "dash": "solid"
         },
         "marker": {
          "symbol": "circle"
         },
         "mode": "lines",
         "name": "Northern America (UN)",
         "orientation": "v",
         "showlegend": true,
         "type": "scatter",
         "x": [
          1950,
          1951,
          1952,
          1953,
          1954,
          1955,
          1956,
          1957,
          1958,
          1959,
          1960,
          1961,
          1962,
          1963,
          1964,
          1965,
          1966,
          1967,
          1968,
          1969,
          1970,
          1971,
          1972,
          1973,
          1974,
          1975,
          1976,
          1977,
          1978,
          1979,
          1980,
          1981,
          1982,
          1983,
          1984,
          1985,
          1986,
          1987,
          1988,
          1989,
          1990,
          1991,
          1992,
          1993,
          1994,
          1995,
          1996,
          1997,
          1998,
          1999,
          2000,
          2001,
          2002,
          2003,
          2004,
          2005,
          2006,
          2007,
          2008,
          2009,
          2010,
          2011,
          2012,
          2013,
          2014,
          2015,
          2016,
          2017,
          2018,
          2019,
          2020,
          2021
         ],
         "xaxis": "x",
         "y": [
          14340768,
          15004730,
          15915659,
          16661560,
          17120336,
          17482940,
          18123568,
          18633204,
          18944284,
          19669356,
          20616960,
          20998820,
          21130712,
          21545862,
          21840288,
          22085092,
          22276562,
          22335388,
          22263564,
          22089142,
          21765988,
          21264452,
          20648174,
          20008332,
          19480044,
          19200200,
          19083944,
          18940320,
          18685230,
          18370608,
          18015794,
          17643728,
          17489322,
          17614928,
          17869220,
          18217576,
          18619858,
          18985704,
          19268014,
          19460156,
          19645574,
          19858624,
          20106604,
          20420680,
          20818968,
          21272916,
          21738314,
          22187512,
          22529528,
          22678580,
          22601360,
          22354618,
          22052814,
          21782412,
          21587280,
          21514940,
          21584160,
          21745988,
          21957672,
          22179176,
          22331938,
          22488316,
          22740932,
          22988620,
          23145904,
          23212816,
          23185214,
          23048734,
          22862628,
          22742118,
          22669780,
          22581546
         ],
         "yaxis": "y"
        },
        {
         "hovertemplate": "Continent=Oceania (UN)<br>Year=%{x}<br>Population aged 5 to 9 years=%{y}<extra></extra>",
         "legendgroup": "Oceania (UN)",
         "line": {
          "color": "#19d3f3",
          "dash": "solid"
         },
         "marker": {
          "symbol": "circle"
         },
         "mode": "lines",
         "name": "Oceania (UN)",
         "orientation": "v",
         "showlegend": true,
         "type": "scatter",
         "x": [
          1950,
          1951,
          1952,
          1953,
          1954,
          1955,
          1956,
          1957,
          1958,
          1959,
          1960,
          1961,
          1962,
          1963,
          1964,
          1965,
          1966,
          1967,
          1968,
          1969,
          1970,
          1971,
          1972,
          1973,
          1974,
          1975,
          1976,
          1977,
          1978,
          1979,
          1980,
          1981,
          1982,
          1983,
          1984,
          1985,
          1986,
          1987,
          1988,
          1989,
          1990,
          1991,
          1992,
          1993,
          1994,
          1995,
          1996,
          1997,
          1998,
          1999,
          2000,
          2001,
          2002,
          2003,
          2004,
          2005,
          2006,
          2007,
          2008,
          2009,
          2010,
          2011,
          2012,
          2013,
          2014,
          2015,
          2016,
          2017,
          2018,
          2019,
          2020,
          2021
         ],
         "xaxis": "x",
         "y": [
          1212132,
          1276554,
          1354872,
          1431065,
          1494928,
          1554657,
          1604242,
          1638588,
          1672775,
          1710472,
          1747918,
          1787054,
          1827616,
          1871474,
          1921054,
          1977307,
          2037053,
          2090035,
          2130062,
          2157665,
          2179405,
          2198129,
          2205221,
          2208366,
          2223467,
          2253186,
          2293036,
          2329653,
          2347104,
          2341516,
          2318654,
          2287280,
          2257346,
          2234063,
          2220124,
          2220138,
          2236356,
          2265308,
          2301486,
          2340700,
          2382394,
          2419867,
          2450224,
          2479050,
          2510604,
          2548889,
          2591670,
          2633417,
          2671209,
          2704367,
          2729729,
          2746276,
          2758526,
          2769823,
          2782584,
          2800294,
          2823635,
          2850914,
          2882175,
          2916731,
          2956260,
          3005663,
          3064965,
          3130781,
          3200208,
          3268808,
          3328281,
          3375690,
          3414516,
          3442889,
          3460945,
          3472790
         ],
         "yaxis": "y"
        }
       ],
       "layout": {
        "legend": {
         "title": {
          "text": "Continent"
         },
         "tracegroupgap": 0
        },
        "template": {
         "data": {
          "bar": [
           {
            "error_x": {
             "color": "#2a3f5f"
            },
            "error_y": {
             "color": "#2a3f5f"
            },
            "marker": {
             "line": {
              "color": "#E5ECF6",
              "width": 0.5
             },
             "pattern": {
              "fillmode": "overlay",
              "size": 10,
              "solidity": 0.2
             }
            },
            "type": "bar"
           }
          ],
          "barpolar": [
           {
            "marker": {
             "line": {
              "color": "#E5ECF6",
              "width": 0.5
             },
             "pattern": {
              "fillmode": "overlay",
              "size": 10,
              "solidity": 0.2
             }
            },
            "type": "barpolar"
           }
          ],
          "carpet": [
           {
            "aaxis": {
             "endlinecolor": "#2a3f5f",
             "gridcolor": "white",
             "linecolor": "white",
             "minorgridcolor": "white",
             "startlinecolor": "#2a3f5f"
            },
            "baxis": {
             "endlinecolor": "#2a3f5f",
             "gridcolor": "white",
             "linecolor": "white",
             "minorgridcolor": "white",
             "startlinecolor": "#2a3f5f"
            },
            "type": "carpet"
           }
          ],
          "choropleth": [
           {
            "colorbar": {
             "outlinewidth": 0,
             "ticks": ""
            },
            "type": "choropleth"
           }
          ],
          "contour": [
           {
            "colorbar": {
             "outlinewidth": 0,
             "ticks": ""
            },
            "colorscale": [
             [
              0,
              "#0d0887"
             ],
             [
              0.1111111111111111,
              "#46039f"
             ],
             [
              0.2222222222222222,
              "#7201a8"
             ],
             [
              0.3333333333333333,
              "#9c179e"
             ],
             [
              0.4444444444444444,
              "#bd3786"
             ],
             [
              0.5555555555555556,
              "#d8576b"
             ],
             [
              0.6666666666666666,
              "#ed7953"
             ],
             [
              0.7777777777777778,
              "#fb9f3a"
             ],
             [
              0.8888888888888888,
              "#fdca26"
             ],
             [
              1,
              "#f0f921"
             ]
            ],
            "type": "contour"
           }
          ],
          "contourcarpet": [
           {
            "colorbar": {
             "outlinewidth": 0,
             "ticks": ""
            },
            "type": "contourcarpet"
           }
          ],
          "heatmap": [
           {
            "colorbar": {
             "outlinewidth": 0,
             "ticks": ""
            },
            "colorscale": [
             [
              0,
              "#0d0887"
             ],
             [
              0.1111111111111111,
              "#46039f"
             ],
             [
              0.2222222222222222,
              "#7201a8"
             ],
             [
              0.3333333333333333,
              "#9c179e"
             ],
             [
              0.4444444444444444,
              "#bd3786"
             ],
             [
              0.5555555555555556,
              "#d8576b"
             ],
             [
              0.6666666666666666,
              "#ed7953"
             ],
             [
              0.7777777777777778,
              "#fb9f3a"
             ],
             [
              0.8888888888888888,
              "#fdca26"
             ],
             [
              1,
              "#f0f921"
             ]
            ],
            "type": "heatmap"
           }
          ],
          "heatmapgl": [
           {
            "colorbar": {
             "outlinewidth": 0,
             "ticks": ""
            },
            "colorscale": [
             [
              0,
              "#0d0887"
             ],
             [
              0.1111111111111111,
              "#46039f"
             ],
             [
              0.2222222222222222,
              "#7201a8"
             ],
             [
              0.3333333333333333,
              "#9c179e"
             ],
             [
              0.4444444444444444,
              "#bd3786"
             ],
             [
              0.5555555555555556,
              "#d8576b"
             ],
             [
              0.6666666666666666,
              "#ed7953"
             ],
             [
              0.7777777777777778,
              "#fb9f3a"
             ],
             [
              0.8888888888888888,
              "#fdca26"
             ],
             [
              1,
              "#f0f921"
             ]
            ],
            "type": "heatmapgl"
           }
          ],
          "histogram": [
           {
            "marker": {
             "pattern": {
              "fillmode": "overlay",
              "size": 10,
              "solidity": 0.2
             }
            },
            "type": "histogram"
           }
          ],
          "histogram2d": [
           {
            "colorbar": {
             "outlinewidth": 0,
             "ticks": ""
            },
            "colorscale": [
             [
              0,
              "#0d0887"
             ],
             [
              0.1111111111111111,
              "#46039f"
             ],
             [
              0.2222222222222222,
              "#7201a8"
             ],
             [
              0.3333333333333333,
              "#9c179e"
             ],
             [
              0.4444444444444444,
              "#bd3786"
             ],
             [
              0.5555555555555556,
              "#d8576b"
             ],
             [
              0.6666666666666666,
              "#ed7953"
             ],
             [
              0.7777777777777778,
              "#fb9f3a"
             ],
             [
              0.8888888888888888,
              "#fdca26"
             ],
             [
              1,
              "#f0f921"
             ]
            ],
            "type": "histogram2d"
           }
          ],
          "histogram2dcontour": [
           {
            "colorbar": {
             "outlinewidth": 0,
             "ticks": ""
            },
            "colorscale": [
             [
              0,
              "#0d0887"
             ],
             [
              0.1111111111111111,
              "#46039f"
             ],
             [
              0.2222222222222222,
              "#7201a8"
             ],
             [
              0.3333333333333333,
              "#9c179e"
             ],
             [
              0.4444444444444444,
              "#bd3786"
             ],
             [
              0.5555555555555556,
              "#d8576b"
             ],
             [
              0.6666666666666666,
              "#ed7953"
             ],
             [
              0.7777777777777778,
              "#fb9f3a"
             ],
             [
              0.8888888888888888,
              "#fdca26"
             ],
             [
              1,
              "#f0f921"
             ]
            ],
            "type": "histogram2dcontour"
           }
          ],
          "mesh3d": [
           {
            "colorbar": {
             "outlinewidth": 0,
             "ticks": ""
            },
            "type": "mesh3d"
           }
          ],
          "parcoords": [
           {
            "line": {
             "colorbar": {
              "outlinewidth": 0,
              "ticks": ""
             }
            },
            "type": "parcoords"
           }
          ],
          "pie": [
           {
            "automargin": true,
            "type": "pie"
           }
          ],
          "scatter": [
           {
            "fillpattern": {
             "fillmode": "overlay",
             "size": 10,
             "solidity": 0.2
            },
            "type": "scatter"
           }
          ],
          "scatter3d": [
           {
            "line": {
             "colorbar": {
              "outlinewidth": 0,
              "ticks": ""
             }
            },
            "marker": {
             "colorbar": {
              "outlinewidth": 0,
              "ticks": ""
             }
            },
            "type": "scatter3d"
           }
          ],
          "scattercarpet": [
           {
            "marker": {
             "colorbar": {
              "outlinewidth": 0,
              "ticks": ""
             }
            },
            "type": "scattercarpet"
           }
          ],
          "scattergeo": [
           {
            "marker": {
             "colorbar": {
              "outlinewidth": 0,
              "ticks": ""
             }
            },
            "type": "scattergeo"
           }
          ],
          "scattergl": [
           {
            "marker": {
             "colorbar": {
              "outlinewidth": 0,
              "ticks": ""
             }
            },
            "type": "scattergl"
           }
          ],
          "scattermapbox": [
           {
            "marker": {
             "colorbar": {
              "outlinewidth": 0,
              "ticks": ""
             }
            },
            "type": "scattermapbox"
           }
          ],
          "scatterpolar": [
           {
            "marker": {
             "colorbar": {
              "outlinewidth": 0,
              "ticks": ""
             }
            },
            "type": "scatterpolar"
           }
          ],
          "scatterpolargl": [
           {
            "marker": {
             "colorbar": {
              "outlinewidth": 0,
              "ticks": ""
             }
            },
            "type": "scatterpolargl"
           }
          ],
          "scatterternary": [
           {
            "marker": {
             "colorbar": {
              "outlinewidth": 0,
              "ticks": ""
             }
            },
            "type": "scatterternary"
           }
          ],
          "surface": [
           {
            "colorbar": {
             "outlinewidth": 0,
             "ticks": ""
            },
            "colorscale": [
             [
              0,
              "#0d0887"
             ],
             [
              0.1111111111111111,
              "#46039f"
             ],
             [
              0.2222222222222222,
              "#7201a8"
             ],
             [
              0.3333333333333333,
              "#9c179e"
             ],
             [
              0.4444444444444444,
              "#bd3786"
             ],
             [
              0.5555555555555556,
              "#d8576b"
             ],
             [
              0.6666666666666666,
              "#ed7953"
             ],
             [
              0.7777777777777778,
              "#fb9f3a"
             ],
             [
              0.8888888888888888,
              "#fdca26"
             ],
             [
              1,
              "#f0f921"
             ]
            ],
            "type": "surface"
           }
          ],
          "table": [
           {
            "cells": {
             "fill": {
              "color": "#EBF0F8"
             },
             "line": {
              "color": "white"
             }
            },
            "header": {
             "fill": {
              "color": "#C8D4E3"
             },
             "line": {
              "color": "white"
             }
            },
            "type": "table"
           }
          ]
         },
         "layout": {
          "annotationdefaults": {
           "arrowcolor": "#2a3f5f",
           "arrowhead": 0,
           "arrowwidth": 1
          },
          "autotypenumbers": "strict",
          "coloraxis": {
           "colorbar": {
            "outlinewidth": 0,
            "ticks": ""
           }
          },
          "colorscale": {
           "diverging": [
            [
             0,
             "#8e0152"
            ],
            [
             0.1,
             "#c51b7d"
            ],
            [
             0.2,
             "#de77ae"
            ],
            [
             0.3,
             "#f1b6da"
            ],
            [
             0.4,
             "#fde0ef"
            ],
            [
             0.5,
             "#f7f7f7"
            ],
            [
             0.6,
             "#e6f5d0"
            ],
            [
             0.7,
             "#b8e186"
            ],
            [
             0.8,
             "#7fbc41"
            ],
            [
             0.9,
             "#4d9221"
            ],
            [
             1,
             "#276419"
            ]
           ],
           "sequential": [
            [
             0,
             "#0d0887"
            ],
            [
             0.1111111111111111,
             "#46039f"
            ],
            [
             0.2222222222222222,
             "#7201a8"
            ],
            [
             0.3333333333333333,
             "#9c179e"
            ],
            [
             0.4444444444444444,
             "#bd3786"
            ],
            [
             0.5555555555555556,
             "#d8576b"
            ],
            [
             0.6666666666666666,
             "#ed7953"
            ],
            [
             0.7777777777777778,
             "#fb9f3a"
            ],
            [
             0.8888888888888888,
             "#fdca26"
            ],
            [
             1,
             "#f0f921"
            ]
           ],
           "sequentialminus": [
            [
             0,
             "#0d0887"
            ],
            [
             0.1111111111111111,
             "#46039f"
            ],
            [
             0.2222222222222222,
             "#7201a8"
            ],
            [
             0.3333333333333333,
             "#9c179e"
            ],
            [
             0.4444444444444444,
             "#bd3786"
            ],
            [
             0.5555555555555556,
             "#d8576b"
            ],
            [
             0.6666666666666666,
             "#ed7953"
            ],
            [
             0.7777777777777778,
             "#fb9f3a"
            ],
            [
             0.8888888888888888,
             "#fdca26"
            ],
            [
             1,
             "#f0f921"
            ]
           ]
          },
          "colorway": [
           "#636efa",
           "#EF553B",
           "#00cc96",
           "#ab63fa",
           "#FFA15A",
           "#19d3f3",
           "#FF6692",
           "#B6E880",
           "#FF97FF",
           "#FECB52"
          ],
          "font": {
           "color": "#2a3f5f"
          },
          "geo": {
           "bgcolor": "white",
           "lakecolor": "white",
           "landcolor": "#E5ECF6",
           "showlakes": true,
           "showland": true,
           "subunitcolor": "white"
          },
          "hoverlabel": {
           "align": "left"
          },
          "hovermode": "closest",
          "mapbox": {
           "style": "light"
          },
          "paper_bgcolor": "white",
          "plot_bgcolor": "#E5ECF6",
          "polar": {
           "angularaxis": {
            "gridcolor": "white",
            "linecolor": "white",
            "ticks": ""
           },
           "bgcolor": "#E5ECF6",
           "radialaxis": {
            "gridcolor": "white",
            "linecolor": "white",
            "ticks": ""
           }
          },
          "scene": {
           "xaxis": {
            "backgroundcolor": "#E5ECF6",
            "gridcolor": "white",
            "gridwidth": 2,
            "linecolor": "white",
            "showbackground": true,
            "ticks": "",
            "zerolinecolor": "white"
           },
           "yaxis": {
            "backgroundcolor": "#E5ECF6",
            "gridcolor": "white",
            "gridwidth": 2,
            "linecolor": "white",
            "showbackground": true,
            "ticks": "",
            "zerolinecolor": "white"
           },
           "zaxis": {
            "backgroundcolor": "#E5ECF6",
            "gridcolor": "white",
            "gridwidth": 2,
            "linecolor": "white",
            "showbackground": true,
            "ticks": "",
            "zerolinecolor": "white"
           }
          },
          "shapedefaults": {
           "line": {
            "color": "#2a3f5f"
           }
          },
          "ternary": {
           "aaxis": {
            "gridcolor": "white",
            "linecolor": "white",
            "ticks": ""
           },
           "baxis": {
            "gridcolor": "white",
            "linecolor": "white",
            "ticks": ""
           },
           "bgcolor": "#E5ECF6",
           "caxis": {
            "gridcolor": "white",
            "linecolor": "white",
            "ticks": ""
           }
          },
          "title": {
           "x": 0.05
          },
          "xaxis": {
           "automargin": true,
           "gridcolor": "white",
           "linecolor": "white",
           "ticks": "",
           "title": {
            "standoff": 15
           },
           "zerolinecolor": "white",
           "zerolinewidth": 2
          },
          "yaxis": {
           "automargin": true,
           "gridcolor": "white",
           "linecolor": "white",
           "ticks": "",
           "title": {
            "standoff": 15
           },
           "zerolinecolor": "white",
           "zerolinewidth": 2
          }
         }
        },
        "title": {
         "text": "Population aged 5 to 9 in every continents between 1950 and 2021"
        },
        "xaxis": {
         "anchor": "y",
         "domain": [
          0,
          1
         ],
         "title": {
          "text": "Year"
         }
        },
        "yaxis": {
         "anchor": "x",
         "domain": [
          0,
          1
         ],
         "title": {
          "text": "Population aged 5 to 9 years"
         }
        }
       }
      }
     },
     "metadata": {},
     "output_type": "display_data"
    }
   ],
   "source": [
    "# Filter the DataFrame to select data related to other continents\n",
    "continents_data = filtered_pop[~filtered_pop['Continents and World'].isin(['World'])]\n",
    "\n",
    "# Columns to include in the plot\n",
    "columns_to_plot = ['Population aged 5 to 9 years']\n",
    "\n",
    "# Create an interactive line plot with multiple curves using Plotly Express\n",
    "fig = px.line(continents_data, x='Year', y='Population aged 5 to 9 years', color='Continents and World', \n",
    "              title='Population aged 5 to 9 in every continents between 1950 and 2021', \n",
    "              labels={'value': 'Population', 'Year': 'Year', 'Continents and World': 'Continent'})\n",
    "\n",
    "# Show the interactive line plot\n",
    "fig.show()"
   ]
  },
  {
   "cell_type": "markdown",
   "metadata": {},
   "source": [
    "## 2.4: Population aged 10 to 14 years"
   ]
  },
  {
   "cell_type": "code",
   "execution_count": 187,
   "metadata": {},
   "outputs": [
    {
     "data": {
      "application/vnd.plotly.v1+json": {
       "config": {
        "plotlyServerURL": "https://plot.ly"
       },
       "data": [
        {
         "hovertemplate": "Continent=Africa (UN)<br>Year=%{x}<br>Population aged 10 to 14 years=%{y}<extra></extra>",
         "legendgroup": "Africa (UN)",
         "line": {
          "color": "#636efa",
          "dash": "solid"
         },
         "marker": {
          "symbol": "circle"
         },
         "mode": "lines",
         "name": "Africa (UN)",
         "orientation": "v",
         "showlegend": true,
         "type": "scatter",
         "x": [
          1950,
          1951,
          1952,
          1953,
          1954,
          1955,
          1956,
          1957,
          1958,
          1959,
          1960,
          1961,
          1962,
          1963,
          1964,
          1965,
          1966,
          1967,
          1968,
          1969,
          1970,
          1971,
          1972,
          1973,
          1974,
          1975,
          1976,
          1977,
          1978,
          1979,
          1980,
          1981,
          1982,
          1983,
          1984,
          1985,
          1986,
          1987,
          1988,
          1989,
          1990,
          1991,
          1992,
          1993,
          1994,
          1995,
          1996,
          1997,
          1998,
          1999,
          2000,
          2001,
          2002,
          2003,
          2004,
          2005,
          2006,
          2007,
          2008,
          2009,
          2010,
          2011,
          2012,
          2013,
          2014,
          2015,
          2016,
          2017,
          2018,
          2019,
          2020,
          2021
         ],
         "xaxis": "x",
         "y": [
          25792740,
          26205760,
          26651612,
          27171188,
          27802460,
          28555540,
          29410372,
          30317488,
          31189656,
          31985152,
          32786818,
          33620424,
          34471104,
          35425108,
          36510900,
          37633870,
          38766270,
          39934536,
          41124344,
          42353664,
          43646404,
          45007950,
          46427490,
          47886884,
          49365000,
          50826570,
          52306184,
          53795320,
          55306856,
          56891212,
          58545936,
          60319956,
          62167332,
          63988504,
          65817620,
          67731700,
          69676790,
          71706920,
          73939060,
          76362900,
          78911470,
          81516240,
          84145144,
          86797140,
          89274650,
          91655810,
          94130744,
          96540260,
          98808240,
          100965280,
          103009480,
          104943570,
          106835930,
          108737710,
          110665310,
          112719260,
          114924910,
          117154296,
          119394340,
          121799780,
          124439384,
          127294740,
          130470630,
          133983940,
          137680600,
          141542290,
          145583500,
          149753380,
          154062690,
          158424850,
          162779040,
          167081660
         ],
         "yaxis": "y"
        },
        {
         "hovertemplate": "Continent=Asia (UN)<br>Year=%{x}<br>Population aged 10 to 14 years=%{y}<extra></extra>",
         "legendgroup": "Asia (UN)",
         "line": {
          "color": "#EF553B",
          "dash": "solid"
         },
         "marker": {
          "symbol": "circle"
         },
         "mode": "lines",
         "name": "Asia (UN)",
         "orientation": "v",
         "showlegend": true,
         "type": "scatter",
         "x": [
          1950,
          1951,
          1952,
          1953,
          1954,
          1955,
          1956,
          1957,
          1958,
          1959,
          1960,
          1961,
          1962,
          1963,
          1964,
          1965,
          1966,
          1967,
          1968,
          1969,
          1970,
          1971,
          1972,
          1973,
          1974,
          1975,
          1976,
          1977,
          1978,
          1979,
          1980,
          1981,
          1982,
          1983,
          1984,
          1985,
          1986,
          1987,
          1988,
          1989,
          1990,
          1991,
          1992,
          1993,
          1994,
          1995,
          1996,
          1997,
          1998,
          1999,
          2000,
          2001,
          2002,
          2003,
          2004,
          2005,
          2006,
          2007,
          2008,
          2009,
          2010,
          2011,
          2012,
          2013,
          2014,
          2015,
          2016,
          2017,
          2018,
          2019,
          2020,
          2021
         ],
         "xaxis": "x",
         "y": [
          148914300,
          149779100,
          150584600,
          151206460,
          152363890,
          154119500,
          156545090,
          160615630,
          166489810,
          174001730,
          183047700,
          192263650,
          201810660,
          211453920,
          219997710,
          227565970,
          234070400,
          239798060,
          244169060,
          245406240,
          244206000,
          242854300,
          245221800,
          255378780,
          269905200,
          284606000,
          299051840,
          308422560,
          311983870,
          315602180,
          320676540,
          326138800,
          331729440,
          335278140,
          336061760,
          334539300,
          331415230,
          327966560,
          324436350,
          322967500,
          324833250,
          329511780,
          337222000,
          345480640,
          352207360,
          358610750,
          365202400,
          371639940,
          378109730,
          384729600,
          390751460,
          393140060,
          390692350,
          386755300,
          381968320,
          375595300,
          370302820,
          367302720,
          364925600,
          362849920,
          361675970,
          361465600,
          361516060,
          361757800,
          362360350,
          362619170,
          362575870,
          363380480,
          365179170,
          367539400,
          369965200,
          372222340
         ],
         "yaxis": "y"
        },
        {
         "hovertemplate": "Continent=Europe (UN)<br>Year=%{x}<br>Population aged 10 to 14 years=%{y}<extra></extra>",
         "legendgroup": "Europe (UN)",
         "line": {
          "color": "#00cc96",
          "dash": "solid"
         },
         "marker": {
          "symbol": "circle"
         },
         "mode": "lines",
         "name": "Europe (UN)",
         "orientation": "v",
         "showlegend": true,
         "type": "scatter",
         "x": [
          1950,
          1951,
          1952,
          1953,
          1954,
          1955,
          1956,
          1957,
          1958,
          1959,
          1960,
          1961,
          1962,
          1963,
          1964,
          1965,
          1966,
          1967,
          1968,
          1969,
          1970,
          1971,
          1972,
          1973,
          1974,
          1975,
          1976,
          1977,
          1978,
          1979,
          1980,
          1981,
          1982,
          1983,
          1984,
          1985,
          1986,
          1987,
          1988,
          1989,
          1990,
          1991,
          1992,
          1993,
          1994,
          1995,
          1996,
          1997,
          1998,
          1999,
          2000,
          2001,
          2002,
          2003,
          2004,
          2005,
          2006,
          2007,
          2008,
          2009,
          2010,
          2011,
          2012,
          2013,
          2014,
          2015,
          2016,
          2017,
          2018,
          2019,
          2020,
          2021
         ],
         "xaxis": "x",
         "y": [
          51116470,
          50203640,
          48357270,
          46072370,
          44012816,
          42339800,
          41563110,
          42263736,
          44854970,
          48217504,
          51104370,
          52955230,
          53685710,
          54082416,
          54304428,
          54601612,
          54965530,
          55409988,
          55931696,
          56384028,
          56612020,
          56746704,
          56816850,
          56736976,
          56515010,
          56010908,
          55310690,
          54653356,
          54010296,
          53345696,
          52835252,
          52540868,
          52290676,
          51942656,
          51632080,
          51392656,
          51066372,
          50645100,
          50342428,
          50142676,
          49985790,
          49889788,
          49880388,
          50046710,
          50203660,
          50211530,
          50236160,
          50274430,
          50070704,
          49624456,
          49019800,
          48097640,
          46789236,
          45225700,
          43601410,
          42044664,
          40661508,
          39567070,
          38777430,
          38218668,
          37841520,
          37576588,
          37371040,
          37321584,
          37420650,
          37566956,
          37814840,
          38285700,
          38927028,
          39610164,
          40202452,
          40706480
         ],
         "yaxis": "y"
        },
        {
         "hovertemplate": "Continent=Latin America and the Caribbean (UN)<br>Year=%{x}<br>Population aged 10 to 14 years=%{y}<extra></extra>",
         "legendgroup": "Latin America and the Caribbean (UN)",
         "line": {
          "color": "#ab63fa",
          "dash": "solid"
         },
         "marker": {
          "symbol": "circle"
         },
         "mode": "lines",
         "name": "Latin America and the Caribbean (UN)",
         "orientation": "v",
         "showlegend": true,
         "type": "scatter",
         "x": [
          1950,
          1951,
          1952,
          1953,
          1954,
          1955,
          1956,
          1957,
          1958,
          1959,
          1960,
          1961,
          1962,
          1963,
          1964,
          1965,
          1966,
          1967,
          1968,
          1969,
          1970,
          1971,
          1972,
          1973,
          1974,
          1975,
          1976,
          1977,
          1978,
          1979,
          1980,
          1981,
          1982,
          1983,
          1984,
          1985,
          1986,
          1987,
          1988,
          1989,
          1990,
          1991,
          1992,
          1993,
          1994,
          1995,
          1996,
          1997,
          1998,
          1999,
          2000,
          2001,
          2002,
          2003,
          2004,
          2005,
          2006,
          2007,
          2008,
          2009,
          2010,
          2011,
          2012,
          2013,
          2014,
          2015,
          2016,
          2017,
          2018,
          2019,
          2020,
          2021
         ],
         "xaxis": "x",
         "y": [
          19112236,
          19586116,
          20093378,
          20623386,
          21173296,
          21755636,
          22375128,
          23065166,
          23858260,
          24773136,
          25766724,
          26771180,
          27761192,
          28718084,
          29636586,
          30554882,
          31507568,
          32490116,
          33495616,
          34511716,
          35531970,
          36536464,
          37526424,
          38515884,
          39479588,
          40375420,
          41174720,
          41872040,
          42468744,
          43000750,
          43514210,
          44040172,
          44633856,
          45314290,
          46030876,
          46756504,
          47488790,
          48204284,
          48899650,
          49599650,
          50297970,
          50959984,
          51607420,
          52238560,
          52818690,
          53349144,
          53822650,
          54238268,
          54605430,
          54939370,
          55223410,
          55446096,
          55603390,
          55709868,
          55786468,
          55818296,
          55792780,
          55734412,
          55653772,
          55533464,
          55403770,
          55267200,
          55066440,
          54747040,
          54364510,
          53989696,
          53654708,
          53366310,
          53124068,
          52945470,
          52807704,
          52702180
         ],
         "yaxis": "y"
        },
        {
         "hovertemplate": "Continent=Northern America (UN)<br>Year=%{x}<br>Population aged 10 to 14 years=%{y}<extra></extra>",
         "legendgroup": "Northern America (UN)",
         "line": {
          "color": "#FFA15A",
          "dash": "solid"
         },
         "marker": {
          "symbol": "circle"
         },
         "mode": "lines",
         "name": "Northern America (UN)",
         "orientation": "v",
         "showlegend": true,
         "type": "scatter",
         "x": [
          1950,
          1951,
          1952,
          1953,
          1954,
          1955,
          1956,
          1957,
          1958,
          1959,
          1960,
          1961,
          1962,
          1963,
          1964,
          1965,
          1966,
          1967,
          1968,
          1969,
          1970,
          1971,
          1972,
          1973,
          1974,
          1975,
          1976,
          1977,
          1978,
          1979,
          1980,
          1981,
          1982,
          1983,
          1984,
          1985,
          1986,
          1987,
          1988,
          1989,
          1990,
          1991,
          1992,
          1993,
          1994,
          1995,
          1996,
          1997,
          1998,
          1999,
          2000,
          2001,
          2002,
          2003,
          2004,
          2005,
          2006,
          2007,
          2008,
          2009,
          2010,
          2011,
          2012,
          2013,
          2014,
          2015,
          2016,
          2017,
          2018,
          2019,
          2020,
          2021
         ],
         "xaxis": "x",
         "y": [
          12114807,
          12353397,
          12769880,
          13428838,
          14004381,
          14415206,
          15148318,
          16168369,
          16925202,
          17401984,
          17766880,
          18426320,
          18952252,
          19238272,
          19946194,
          20940172,
          21382554,
          21576276,
          22044388,
          22381608,
          22668508,
          22889400,
          22967092,
          22933926,
          22821612,
          22505680,
          21956808,
          21321852,
          20702770,
          20187308,
          19913564,
          19843284,
          19722528,
          19451466,
          19121352,
          18718716,
          18316548,
          18168768,
          18304548,
          18607020,
          19047696,
          19576558,
          20082304,
          20497962,
          20792160,
          21014004,
          21240688,
          21506616,
          21830712,
          22224428,
          22649148,
          23044714,
          23391826,
          23624408,
          23677496,
          23563728,
          23366406,
          23162476,
          23003068,
          22912760,
          22887384,
          22908252,
          22950126,
          23026432,
          23127160,
          23216372,
          23388350,
          23686314,
          23962576,
          24130240,
          24101552,
          23849568
         ],
         "yaxis": "y"
        },
        {
         "hovertemplate": "Continent=Oceania (UN)<br>Year=%{x}<br>Population aged 10 to 14 years=%{y}<extra></extra>",
         "legendgroup": "Oceania (UN)",
         "line": {
          "color": "#19d3f3",
          "dash": "solid"
         },
         "marker": {
          "symbol": "circle"
         },
         "mode": "lines",
         "name": "Oceania (UN)",
         "orientation": "v",
         "showlegend": true,
         "type": "scatter",
         "x": [
          1950,
          1951,
          1952,
          1953,
          1954,
          1955,
          1956,
          1957,
          1958,
          1959,
          1960,
          1961,
          1962,
          1963,
          1964,
          1965,
          1966,
          1967,
          1968,
          1969,
          1970,
          1971,
          1972,
          1973,
          1974,
          1975,
          1976,
          1977,
          1978,
          1979,
          1980,
          1981,
          1982,
          1983,
          1984,
          1985,
          1986,
          1987,
          1988,
          1989,
          1990,
          1991,
          1992,
          1993,
          1994,
          1995,
          1996,
          1997,
          1998,
          1999,
          2000,
          2001,
          2002,
          2003,
          2004,
          2005,
          2006,
          2007,
          2008,
          2009,
          2010,
          2011,
          2012,
          2013,
          2014,
          2015,
          2016,
          2017,
          2018,
          2019,
          2020,
          2021
         ],
         "xaxis": "x",
         "y": [
          1030309,
          1063609,
          1098611,
          1135906,
          1182267,
          1236901,
          1302334,
          1382901,
          1462279,
          1528437,
          1587841,
          1632952,
          1659404,
          1685852,
          1717979,
          1753667,
          1794550,
          1835962,
          1879693,
          1931019,
          1995066,
          2066466,
          2125748,
          2168140,
          2196408,
          2206787,
          2202790,
          2195208,
          2193402,
          2203830,
          2232281,
          2277845,
          2322639,
          2348127,
          2351562,
          2335544,
          2303502,
          2269083,
          2247567,
          2242257,
          2254937,
          2280016,
          2309816,
          2345004,
          2383508,
          2422736,
          2459304,
          2491943,
          2524864,
          2561940,
          2603616,
          2649067,
          2694217,
          2734227,
          2766726,
          2790173,
          2806763,
          2821675,
          2838428,
          2858037,
          2880141,
          2903115,
          2925966,
          2950861,
          2979270,
          3013000,
          3060308,
          3124307,
          3195901,
          3265649,
          3326066,
          3372007
         ],
         "yaxis": "y"
        }
       ],
       "layout": {
        "legend": {
         "title": {
          "text": "Continent"
         },
         "tracegroupgap": 0
        },
        "template": {
         "data": {
          "bar": [
           {
            "error_x": {
             "color": "#2a3f5f"
            },
            "error_y": {
             "color": "#2a3f5f"
            },
            "marker": {
             "line": {
              "color": "#E5ECF6",
              "width": 0.5
             },
             "pattern": {
              "fillmode": "overlay",
              "size": 10,
              "solidity": 0.2
             }
            },
            "type": "bar"
           }
          ],
          "barpolar": [
           {
            "marker": {
             "line": {
              "color": "#E5ECF6",
              "width": 0.5
             },
             "pattern": {
              "fillmode": "overlay",
              "size": 10,
              "solidity": 0.2
             }
            },
            "type": "barpolar"
           }
          ],
          "carpet": [
           {
            "aaxis": {
             "endlinecolor": "#2a3f5f",
             "gridcolor": "white",
             "linecolor": "white",
             "minorgridcolor": "white",
             "startlinecolor": "#2a3f5f"
            },
            "baxis": {
             "endlinecolor": "#2a3f5f",
             "gridcolor": "white",
             "linecolor": "white",
             "minorgridcolor": "white",
             "startlinecolor": "#2a3f5f"
            },
            "type": "carpet"
           }
          ],
          "choropleth": [
           {
            "colorbar": {
             "outlinewidth": 0,
             "ticks": ""
            },
            "type": "choropleth"
           }
          ],
          "contour": [
           {
            "colorbar": {
             "outlinewidth": 0,
             "ticks": ""
            },
            "colorscale": [
             [
              0,
              "#0d0887"
             ],
             [
              0.1111111111111111,
              "#46039f"
             ],
             [
              0.2222222222222222,
              "#7201a8"
             ],
             [
              0.3333333333333333,
              "#9c179e"
             ],
             [
              0.4444444444444444,
              "#bd3786"
             ],
             [
              0.5555555555555556,
              "#d8576b"
             ],
             [
              0.6666666666666666,
              "#ed7953"
             ],
             [
              0.7777777777777778,
              "#fb9f3a"
             ],
             [
              0.8888888888888888,
              "#fdca26"
             ],
             [
              1,
              "#f0f921"
             ]
            ],
            "type": "contour"
           }
          ],
          "contourcarpet": [
           {
            "colorbar": {
             "outlinewidth": 0,
             "ticks": ""
            },
            "type": "contourcarpet"
           }
          ],
          "heatmap": [
           {
            "colorbar": {
             "outlinewidth": 0,
             "ticks": ""
            },
            "colorscale": [
             [
              0,
              "#0d0887"
             ],
             [
              0.1111111111111111,
              "#46039f"
             ],
             [
              0.2222222222222222,
              "#7201a8"
             ],
             [
              0.3333333333333333,
              "#9c179e"
             ],
             [
              0.4444444444444444,
              "#bd3786"
             ],
             [
              0.5555555555555556,
              "#d8576b"
             ],
             [
              0.6666666666666666,
              "#ed7953"
             ],
             [
              0.7777777777777778,
              "#fb9f3a"
             ],
             [
              0.8888888888888888,
              "#fdca26"
             ],
             [
              1,
              "#f0f921"
             ]
            ],
            "type": "heatmap"
           }
          ],
          "heatmapgl": [
           {
            "colorbar": {
             "outlinewidth": 0,
             "ticks": ""
            },
            "colorscale": [
             [
              0,
              "#0d0887"
             ],
             [
              0.1111111111111111,
              "#46039f"
             ],
             [
              0.2222222222222222,
              "#7201a8"
             ],
             [
              0.3333333333333333,
              "#9c179e"
             ],
             [
              0.4444444444444444,
              "#bd3786"
             ],
             [
              0.5555555555555556,
              "#d8576b"
             ],
             [
              0.6666666666666666,
              "#ed7953"
             ],
             [
              0.7777777777777778,
              "#fb9f3a"
             ],
             [
              0.8888888888888888,
              "#fdca26"
             ],
             [
              1,
              "#f0f921"
             ]
            ],
            "type": "heatmapgl"
           }
          ],
          "histogram": [
           {
            "marker": {
             "pattern": {
              "fillmode": "overlay",
              "size": 10,
              "solidity": 0.2
             }
            },
            "type": "histogram"
           }
          ],
          "histogram2d": [
           {
            "colorbar": {
             "outlinewidth": 0,
             "ticks": ""
            },
            "colorscale": [
             [
              0,
              "#0d0887"
             ],
             [
              0.1111111111111111,
              "#46039f"
             ],
             [
              0.2222222222222222,
              "#7201a8"
             ],
             [
              0.3333333333333333,
              "#9c179e"
             ],
             [
              0.4444444444444444,
              "#bd3786"
             ],
             [
              0.5555555555555556,
              "#d8576b"
             ],
             [
              0.6666666666666666,
              "#ed7953"
             ],
             [
              0.7777777777777778,
              "#fb9f3a"
             ],
             [
              0.8888888888888888,
              "#fdca26"
             ],
             [
              1,
              "#f0f921"
             ]
            ],
            "type": "histogram2d"
           }
          ],
          "histogram2dcontour": [
           {
            "colorbar": {
             "outlinewidth": 0,
             "ticks": ""
            },
            "colorscale": [
             [
              0,
              "#0d0887"
             ],
             [
              0.1111111111111111,
              "#46039f"
             ],
             [
              0.2222222222222222,
              "#7201a8"
             ],
             [
              0.3333333333333333,
              "#9c179e"
             ],
             [
              0.4444444444444444,
              "#bd3786"
             ],
             [
              0.5555555555555556,
              "#d8576b"
             ],
             [
              0.6666666666666666,
              "#ed7953"
             ],
             [
              0.7777777777777778,
              "#fb9f3a"
             ],
             [
              0.8888888888888888,
              "#fdca26"
             ],
             [
              1,
              "#f0f921"
             ]
            ],
            "type": "histogram2dcontour"
           }
          ],
          "mesh3d": [
           {
            "colorbar": {
             "outlinewidth": 0,
             "ticks": ""
            },
            "type": "mesh3d"
           }
          ],
          "parcoords": [
           {
            "line": {
             "colorbar": {
              "outlinewidth": 0,
              "ticks": ""
             }
            },
            "type": "parcoords"
           }
          ],
          "pie": [
           {
            "automargin": true,
            "type": "pie"
           }
          ],
          "scatter": [
           {
            "fillpattern": {
             "fillmode": "overlay",
             "size": 10,
             "solidity": 0.2
            },
            "type": "scatter"
           }
          ],
          "scatter3d": [
           {
            "line": {
             "colorbar": {
              "outlinewidth": 0,
              "ticks": ""
             }
            },
            "marker": {
             "colorbar": {
              "outlinewidth": 0,
              "ticks": ""
             }
            },
            "type": "scatter3d"
           }
          ],
          "scattercarpet": [
           {
            "marker": {
             "colorbar": {
              "outlinewidth": 0,
              "ticks": ""
             }
            },
            "type": "scattercarpet"
           }
          ],
          "scattergeo": [
           {
            "marker": {
             "colorbar": {
              "outlinewidth": 0,
              "ticks": ""
             }
            },
            "type": "scattergeo"
           }
          ],
          "scattergl": [
           {
            "marker": {
             "colorbar": {
              "outlinewidth": 0,
              "ticks": ""
             }
            },
            "type": "scattergl"
           }
          ],
          "scattermapbox": [
           {
            "marker": {
             "colorbar": {
              "outlinewidth": 0,
              "ticks": ""
             }
            },
            "type": "scattermapbox"
           }
          ],
          "scatterpolar": [
           {
            "marker": {
             "colorbar": {
              "outlinewidth": 0,
              "ticks": ""
             }
            },
            "type": "scatterpolar"
           }
          ],
          "scatterpolargl": [
           {
            "marker": {
             "colorbar": {
              "outlinewidth": 0,
              "ticks": ""
             }
            },
            "type": "scatterpolargl"
           }
          ],
          "scatterternary": [
           {
            "marker": {
             "colorbar": {
              "outlinewidth": 0,
              "ticks": ""
             }
            },
            "type": "scatterternary"
           }
          ],
          "surface": [
           {
            "colorbar": {
             "outlinewidth": 0,
             "ticks": ""
            },
            "colorscale": [
             [
              0,
              "#0d0887"
             ],
             [
              0.1111111111111111,
              "#46039f"
             ],
             [
              0.2222222222222222,
              "#7201a8"
             ],
             [
              0.3333333333333333,
              "#9c179e"
             ],
             [
              0.4444444444444444,
              "#bd3786"
             ],
             [
              0.5555555555555556,
              "#d8576b"
             ],
             [
              0.6666666666666666,
              "#ed7953"
             ],
             [
              0.7777777777777778,
              "#fb9f3a"
             ],
             [
              0.8888888888888888,
              "#fdca26"
             ],
             [
              1,
              "#f0f921"
             ]
            ],
            "type": "surface"
           }
          ],
          "table": [
           {
            "cells": {
             "fill": {
              "color": "#EBF0F8"
             },
             "line": {
              "color": "white"
             }
            },
            "header": {
             "fill": {
              "color": "#C8D4E3"
             },
             "line": {
              "color": "white"
             }
            },
            "type": "table"
           }
          ]
         },
         "layout": {
          "annotationdefaults": {
           "arrowcolor": "#2a3f5f",
           "arrowhead": 0,
           "arrowwidth": 1
          },
          "autotypenumbers": "strict",
          "coloraxis": {
           "colorbar": {
            "outlinewidth": 0,
            "ticks": ""
           }
          },
          "colorscale": {
           "diverging": [
            [
             0,
             "#8e0152"
            ],
            [
             0.1,
             "#c51b7d"
            ],
            [
             0.2,
             "#de77ae"
            ],
            [
             0.3,
             "#f1b6da"
            ],
            [
             0.4,
             "#fde0ef"
            ],
            [
             0.5,
             "#f7f7f7"
            ],
            [
             0.6,
             "#e6f5d0"
            ],
            [
             0.7,
             "#b8e186"
            ],
            [
             0.8,
             "#7fbc41"
            ],
            [
             0.9,
             "#4d9221"
            ],
            [
             1,
             "#276419"
            ]
           ],
           "sequential": [
            [
             0,
             "#0d0887"
            ],
            [
             0.1111111111111111,
             "#46039f"
            ],
            [
             0.2222222222222222,
             "#7201a8"
            ],
            [
             0.3333333333333333,
             "#9c179e"
            ],
            [
             0.4444444444444444,
             "#bd3786"
            ],
            [
             0.5555555555555556,
             "#d8576b"
            ],
            [
             0.6666666666666666,
             "#ed7953"
            ],
            [
             0.7777777777777778,
             "#fb9f3a"
            ],
            [
             0.8888888888888888,
             "#fdca26"
            ],
            [
             1,
             "#f0f921"
            ]
           ],
           "sequentialminus": [
            [
             0,
             "#0d0887"
            ],
            [
             0.1111111111111111,
             "#46039f"
            ],
            [
             0.2222222222222222,
             "#7201a8"
            ],
            [
             0.3333333333333333,
             "#9c179e"
            ],
            [
             0.4444444444444444,
             "#bd3786"
            ],
            [
             0.5555555555555556,
             "#d8576b"
            ],
            [
             0.6666666666666666,
             "#ed7953"
            ],
            [
             0.7777777777777778,
             "#fb9f3a"
            ],
            [
             0.8888888888888888,
             "#fdca26"
            ],
            [
             1,
             "#f0f921"
            ]
           ]
          },
          "colorway": [
           "#636efa",
           "#EF553B",
           "#00cc96",
           "#ab63fa",
           "#FFA15A",
           "#19d3f3",
           "#FF6692",
           "#B6E880",
           "#FF97FF",
           "#FECB52"
          ],
          "font": {
           "color": "#2a3f5f"
          },
          "geo": {
           "bgcolor": "white",
           "lakecolor": "white",
           "landcolor": "#E5ECF6",
           "showlakes": true,
           "showland": true,
           "subunitcolor": "white"
          },
          "hoverlabel": {
           "align": "left"
          },
          "hovermode": "closest",
          "mapbox": {
           "style": "light"
          },
          "paper_bgcolor": "white",
          "plot_bgcolor": "#E5ECF6",
          "polar": {
           "angularaxis": {
            "gridcolor": "white",
            "linecolor": "white",
            "ticks": ""
           },
           "bgcolor": "#E5ECF6",
           "radialaxis": {
            "gridcolor": "white",
            "linecolor": "white",
            "ticks": ""
           }
          },
          "scene": {
           "xaxis": {
            "backgroundcolor": "#E5ECF6",
            "gridcolor": "white",
            "gridwidth": 2,
            "linecolor": "white",
            "showbackground": true,
            "ticks": "",
            "zerolinecolor": "white"
           },
           "yaxis": {
            "backgroundcolor": "#E5ECF6",
            "gridcolor": "white",
            "gridwidth": 2,
            "linecolor": "white",
            "showbackground": true,
            "ticks": "",
            "zerolinecolor": "white"
           },
           "zaxis": {
            "backgroundcolor": "#E5ECF6",
            "gridcolor": "white",
            "gridwidth": 2,
            "linecolor": "white",
            "showbackground": true,
            "ticks": "",
            "zerolinecolor": "white"
           }
          },
          "shapedefaults": {
           "line": {
            "color": "#2a3f5f"
           }
          },
          "ternary": {
           "aaxis": {
            "gridcolor": "white",
            "linecolor": "white",
            "ticks": ""
           },
           "baxis": {
            "gridcolor": "white",
            "linecolor": "white",
            "ticks": ""
           },
           "bgcolor": "#E5ECF6",
           "caxis": {
            "gridcolor": "white",
            "linecolor": "white",
            "ticks": ""
           }
          },
          "title": {
           "x": 0.05
          },
          "xaxis": {
           "automargin": true,
           "gridcolor": "white",
           "linecolor": "white",
           "ticks": "",
           "title": {
            "standoff": 15
           },
           "zerolinecolor": "white",
           "zerolinewidth": 2
          },
          "yaxis": {
           "automargin": true,
           "gridcolor": "white",
           "linecolor": "white",
           "ticks": "",
           "title": {
            "standoff": 15
           },
           "zerolinecolor": "white",
           "zerolinewidth": 2
          }
         }
        },
        "title": {
         "text": "Population aged 10 to 14 in every continents between 1950 and 2021"
        },
        "xaxis": {
         "anchor": "y",
         "domain": [
          0,
          1
         ],
         "title": {
          "text": "Year"
         }
        },
        "yaxis": {
         "anchor": "x",
         "domain": [
          0,
          1
         ],
         "title": {
          "text": "Population aged 10 to 14 years"
         }
        }
       }
      }
     },
     "metadata": {},
     "output_type": "display_data"
    }
   ],
   "source": [
    "# Filter the DataFrame to select data related to other continents\n",
    "continents_data = filtered_pop[~filtered_pop['Continents and World'].isin(['World'])]\n",
    "\n",
    "# Columns to include in the plot\n",
    "columns_to_plot = ['Population aged 10 to 14 years']\n",
    "\n",
    "# Create an interactive line plot with multiple curves using Plotly Express\n",
    "fig = px.line(continents_data, x='Year', y='Population aged 10 to 14 years', color='Continents and World', \n",
    "              title='Population aged 10 to 14 in every continents between 1950 and 2021', \n",
    "              labels={'value': 'Population', 'Year': 'Year', 'Continents and World': 'Continent'})\n",
    "\n",
    "# Show the interactive line plot\n",
    "fig.show()"
   ]
  },
  {
   "cell_type": "markdown",
   "metadata": {},
   "source": [
    "## 2.5: Population aged 15 to 19 years"
   ]
  },
  {
   "cell_type": "code",
   "execution_count": 188,
   "metadata": {},
   "outputs": [
    {
     "data": {
      "application/vnd.plotly.v1+json": {
       "config": {
        "plotlyServerURL": "https://plot.ly"
       },
       "data": [
        {
         "hovertemplate": "Continent=Africa (UN)<br>Year=%{x}<br>Population aged 15 to 19 years=%{y}<extra></extra>",
         "legendgroup": "Africa (UN)",
         "line": {
          "color": "#636efa",
          "dash": "solid"
         },
         "marker": {
          "symbol": "circle"
         },
         "mode": "lines",
         "name": "Africa (UN)",
         "orientation": "v",
         "showlegend": true,
         "type": "scatter",
         "x": [
          1950,
          1951,
          1952,
          1953,
          1954,
          1955,
          1956,
          1957,
          1958,
          1959,
          1960,
          1961,
          1962,
          1963,
          1964,
          1965,
          1966,
          1967,
          1968,
          1969,
          1970,
          1971,
          1972,
          1973,
          1974,
          1975,
          1976,
          1977,
          1978,
          1979,
          1980,
          1981,
          1982,
          1983,
          1984,
          1985,
          1986,
          1987,
          1988,
          1989,
          1990,
          1991,
          1992,
          1993,
          1994,
          1995,
          1996,
          1997,
          1998,
          1999,
          2000,
          2001,
          2002,
          2003,
          2004,
          2005,
          2006,
          2007,
          2008,
          2009,
          2010,
          2011,
          2012,
          2013,
          2014,
          2015,
          2016,
          2017,
          2018,
          2019,
          2020,
          2021
         ],
         "xaxis": "x",
         "y": [
          23087212,
          23471334,
          23855340,
          24225864,
          24585024,
          24959336,
          25359492,
          25785520,
          26256998,
          26846636,
          27584056,
          28412244,
          29288144,
          30129536,
          30890414,
          31649072,
          32454684,
          33313736,
          34296280,
          35416184,
          36566256,
          37698730,
          38836960,
          40014944,
          41259492,
          42544190,
          43872692,
          45262610,
          46716428,
          48199508,
          49697550,
          51262860,
          52894320,
          54543028,
          56236724,
          58047584,
          59804280,
          61441220,
          63088104,
          64743940,
          66434988,
          68172750,
          70050780,
          72210670,
          74608560,
          77187850,
          79901340,
          82600024,
          85181710,
          87641730,
          90023230,
          92377990,
          94718340,
          96994690,
          99176170,
          101206980,
          103108380,
          104988090,
          106874360,
          108762510,
          110780470,
          112912700,
          115075750,
          117366750,
          119883170,
          122642700,
          125581370,
          128790120,
          132299900,
          135980420,
          139859620,
          143907260
         ],
         "yaxis": "y"
        },
        {
         "hovertemplate": "Continent=Asia (UN)<br>Year=%{x}<br>Population aged 15 to 19 years=%{y}<extra></extra>",
         "legendgroup": "Asia (UN)",
         "line": {
          "color": "#EF553B",
          "dash": "solid"
         },
         "marker": {
          "symbol": "circle"
         },
         "mode": "lines",
         "name": "Asia (UN)",
         "orientation": "v",
         "showlegend": true,
         "type": "scatter",
         "x": [
          1950,
          1951,
          1952,
          1953,
          1954,
          1955,
          1956,
          1957,
          1958,
          1959,
          1960,
          1961,
          1962,
          1963,
          1964,
          1965,
          1966,
          1967,
          1968,
          1969,
          1970,
          1971,
          1972,
          1973,
          1974,
          1975,
          1976,
          1977,
          1978,
          1979,
          1980,
          1981,
          1982,
          1983,
          1984,
          1985,
          1986,
          1987,
          1988,
          1989,
          1990,
          1991,
          1992,
          1993,
          1994,
          1995,
          1996,
          1997,
          1998,
          1999,
          2000,
          2001,
          2002,
          2003,
          2004,
          2005,
          2006,
          2007,
          2008,
          2009,
          2010,
          2011,
          2012,
          2013,
          2014,
          2015,
          2016,
          2017,
          2018,
          2019,
          2020,
          2021
         ],
         "xaxis": "x",
         "y": [
          137659260,
          140128830,
          142534500,
          144235760,
          145128240,
          145856960,
          146785280,
          147618940,
          148318540,
          149560100,
          151248540,
          153488770,
          157375180,
          163082300,
          170480450,
          179613600,
          189003650,
          198566530,
          208139840,
          216662900,
          224246460,
          230693020,
          236313660,
          240647800,
          241895760,
          240669120,
          239221280,
          241420020,
          251210460,
          265214830,
          279680060,
          294369340,
          304103870,
          308046240,
          312087040,
          317494530,
          323237380,
          328974460,
          332477760,
          333144700,
          331477660,
          328217340,
          324690430,
          321142300,
          319683040,
          321720930,
          326652540,
          334441280,
          342693470,
          349426430,
          355774400,
          362229950,
          368491840,
          374854500,
          381507040,
          387773150,
          390482430,
          388137500,
          384139620,
          379340260,
          373019140,
          367814720,
          364925900,
          362634460,
          360756640,
          359779520,
          359601600,
          359676600,
          359949250,
          360500500,
          360702700,
          360713950
         ],
         "yaxis": "y"
        },
        {
         "hovertemplate": "Continent=Europe (UN)<br>Year=%{x}<br>Population aged 15 to 19 years=%{y}<extra></extra>",
         "legendgroup": "Europe (UN)",
         "line": {
          "color": "#00cc96",
          "dash": "solid"
         },
         "marker": {
          "symbol": "circle"
         },
         "mode": "lines",
         "name": "Europe (UN)",
         "orientation": "v",
         "showlegend": true,
         "type": "scatter",
         "x": [
          1950,
          1951,
          1952,
          1953,
          1954,
          1955,
          1956,
          1957,
          1958,
          1959,
          1960,
          1961,
          1962,
          1963,
          1964,
          1965,
          1966,
          1967,
          1968,
          1969,
          1970,
          1971,
          1972,
          1973,
          1974,
          1975,
          1976,
          1977,
          1978,
          1979,
          1980,
          1981,
          1982,
          1983,
          1984,
          1985,
          1986,
          1987,
          1988,
          1989,
          1990,
          1991,
          1992,
          1993,
          1994,
          1995,
          1996,
          1997,
          1998,
          1999,
          2000,
          2001,
          2002,
          2003,
          2004,
          2005,
          2006,
          2007,
          2008,
          2009,
          2010,
          2011,
          2012,
          2013,
          2014,
          2015,
          2016,
          2017,
          2018,
          2019,
          2020,
          2021
         ],
         "xaxis": "x",
         "y": [
          46962740,
          47132276,
          48114376,
          49510284,
          50413664,
          50420692,
          49574764,
          47797970,
          45950160,
          44071772,
          41961270,
          41209908,
          42504504,
          44933020,
          47745060,
          50585696,
          52469870,
          53237800,
          53677704,
          53910830,
          54147576,
          54491864,
          54904224,
          55381156,
          55787172,
          56101876,
          56393052,
          56581080,
          56647850,
          56531640,
          56117924,
          55447464,
          54749108,
          54054840,
          53385136,
          52909612,
          52666616,
          52506856,
          52269884,
          52004656,
          51730944,
          51377110,
          50932544,
          50598436,
          50395870,
          50280280,
          50259764,
          50324908,
          50532010,
          50729390,
          50764564,
          50799524,
          50844824,
          50597776,
          50094680,
          49496612,
          48675010,
          47525200,
          46094230,
          44517016,
          42969056,
          41551690,
          40359410,
          39476330,
          38859150,
          38468184,
          38216430,
          38040340,
          38016360,
          38121490,
          38249720,
          38470976
         ],
         "yaxis": "y"
        },
        {
         "hovertemplate": "Continent=Latin America and the Caribbean (UN)<br>Year=%{x}<br>Population aged 15 to 19 years=%{y}<extra></extra>",
         "legendgroup": "Latin America and the Caribbean (UN)",
         "line": {
          "color": "#ab63fa",
          "dash": "solid"
         },
         "marker": {
          "symbol": "circle"
         },
         "mode": "lines",
         "name": "Latin America and the Caribbean (UN)",
         "orientation": "v",
         "showlegend": true,
         "type": "scatter",
         "x": [
          1950,
          1951,
          1952,
          1953,
          1954,
          1955,
          1956,
          1957,
          1958,
          1959,
          1960,
          1961,
          1962,
          1963,
          1964,
          1965,
          1966,
          1967,
          1968,
          1969,
          1970,
          1971,
          1972,
          1973,
          1974,
          1975,
          1976,
          1977,
          1978,
          1979,
          1980,
          1981,
          1982,
          1983,
          1984,
          1985,
          1986,
          1987,
          1988,
          1989,
          1990,
          1991,
          1992,
          1993,
          1994,
          1995,
          1996,
          1997,
          1998,
          1999,
          2000,
          2001,
          2002,
          2003,
          2004,
          2005,
          2006,
          2007,
          2008,
          2009,
          2010,
          2011,
          2012,
          2013,
          2014,
          2015,
          2016,
          2017,
          2018,
          2019,
          2020,
          2021
         ],
         "xaxis": "x",
         "y": [
          17091092,
          17365084,
          17662360,
          17990094,
          18368328,
          18795016,
          19260364,
          19766578,
          20298924,
          20855868,
          21440880,
          22046944,
          22710032,
          23472836,
          24351084,
          25305858,
          26286988,
          27267532,
          28219944,
          29133904,
          30045056,
          30971108,
          31909692,
          32868880,
          33837056,
          34812612,
          35793628,
          36791216,
          37796404,
          38771350,
          39668176,
          40432484,
          41059200,
          41589004,
          42072990,
          42567692,
          43121050,
          43756764,
          44465136,
          45202940,
          45942924,
          46652056,
          47322050,
          47980350,
          48664604,
          49373476,
          50070430,
          50767330,
          51444176,
          52067436,
          52601010,
          53037590,
          53406200,
          53715224,
          54003308,
          54276144,
          54506124,
          54674636,
          54782910,
          54852024,
          54919020,
          54961740,
          54958172,
          54932348,
          54871640,
          54775910,
          54667016,
          54494964,
          54187450,
          53832516,
          53517924,
          53221780
         ],
         "yaxis": "y"
        },
        {
         "hovertemplate": "Continent=Northern America (UN)<br>Year=%{x}<br>Population aged 15 to 19 years=%{y}<extra></extra>",
         "legendgroup": "Northern America (UN)",
         "line": {
          "color": "#FFA15A",
          "dash": "solid"
         },
         "marker": {
          "symbol": "circle"
         },
         "mode": "lines",
         "name": "Northern America (UN)",
         "orientation": "v",
         "showlegend": true,
         "type": "scatter",
         "x": [
          1950,
          1951,
          1952,
          1953,
          1954,
          1955,
          1956,
          1957,
          1958,
          1959,
          1960,
          1961,
          1962,
          1963,
          1964,
          1965,
          1966,
          1967,
          1968,
          1969,
          1970,
          1971,
          1972,
          1973,
          1974,
          1975,
          1976,
          1977,
          1978,
          1979,
          1980,
          1981,
          1982,
          1983,
          1984,
          1985,
          1986,
          1987,
          1988,
          1989,
          1990,
          1991,
          1992,
          1993,
          1994,
          1995,
          1996,
          1997,
          1998,
          1999,
          2000,
          2001,
          2002,
          2003,
          2004,
          2005,
          2006,
          2007,
          2008,
          2009,
          2010,
          2011,
          2012,
          2013,
          2014,
          2015,
          2016,
          2017,
          2018,
          2019,
          2020,
          2021
         ],
         "xaxis": "x",
         "y": [
          11407817,
          11453378,
          11575495,
          11556415,
          11677043,
          11941462,
          12143666,
          12513790,
          13220397,
          13812255,
          14191946,
          14923709,
          15988414,
          16790400,
          17318316,
          17730586,
          18412212,
          18978004,
          19327064,
          20103196,
          21182204,
          21696772,
          21915320,
          22404456,
          22769008,
          23079876,
          23306530,
          23402232,
          23408784,
          23345704,
          23103932,
          22599300,
          21995714,
          21452736,
          20999996,
          20758760,
          20701126,
          20601900,
          20408256,
          20165216,
          19839792,
          19472756,
          19356812,
          19563348,
          19954358,
          20460076,
          21000280,
          21489364,
          21864092,
          22117164,
          22307516,
          22503784,
          22742228,
          23018540,
          23346892,
          23720428,
          24070568,
          24373964,
          24570464,
          24598236,
          24454094,
          24179456,
          23881792,
          23662664,
          23544348,
          23546512,
          23636012,
          23748228,
          23879778,
          24009348,
          24052644,
          24103100
         ],
         "yaxis": "y"
        },
        {
         "hovertemplate": "Continent=Oceania (UN)<br>Year=%{x}<br>Population aged 15 to 19 years=%{y}<extra></extra>",
         "legendgroup": "Oceania (UN)",
         "line": {
          "color": "#19d3f3",
          "dash": "solid"
         },
         "marker": {
          "symbol": "circle"
         },
         "mode": "lines",
         "name": "Oceania (UN)",
         "orientation": "v",
         "showlegend": true,
         "type": "scatter",
         "x": [
          1950,
          1951,
          1952,
          1953,
          1954,
          1955,
          1956,
          1957,
          1958,
          1959,
          1960,
          1961,
          1962,
          1963,
          1964,
          1965,
          1966,
          1967,
          1968,
          1969,
          1970,
          1971,
          1972,
          1973,
          1974,
          1975,
          1976,
          1977,
          1978,
          1979,
          1980,
          1981,
          1982,
          1983,
          1984,
          1985,
          1986,
          1987,
          1988,
          1989,
          1990,
          1991,
          1992,
          1993,
          1994,
          1995,
          1996,
          1997,
          1998,
          1999,
          2000,
          2001,
          2002,
          2003,
          2004,
          2005,
          2006,
          2007,
          2008,
          2009,
          2010,
          2011,
          2012,
          2013,
          2014,
          2015,
          2016,
          2017,
          2018,
          2019,
          2020,
          2021
         ],
         "xaxis": "x",
         "y": [
          965244,
          966631,
          978124,
          997031,
          1021419,
          1051419,
          1085876,
          1121140,
          1158112,
          1204320,
          1258467,
          1322524,
          1401154,
          1478766,
          1543144,
          1600675,
          1644058,
          1667223,
          1689903,
          1720538,
          1757498,
          1802635,
          1849986,
          1898777,
          1950172,
          2001691,
          2055808,
          2108620,
          2149814,
          2175672,
          2186582,
          2187868,
          2187669,
          2192532,
          2208702,
          2239853,
          2283836,
          2327451,
          2355166,
          2362943,
          2354272,
          2330565,
          2302297,
          2284990,
          2283077,
          2297420,
          2322526,
          2349010,
          2379186,
          2418235,
          2464461,
          2513738,
          2560893,
          2603698,
          2644365,
          2686500,
          2733495,
          2784389,
          2831937,
          2867250,
          2887915,
          2903233,
          2922804,
          2945307,
          2966294,
          2986657,
          3009597,
          3035507,
          3065615,
          3091710,
          3110906,
          3143760
         ],
         "yaxis": "y"
        }
       ],
       "layout": {
        "legend": {
         "title": {
          "text": "Continent"
         },
         "tracegroupgap": 0
        },
        "template": {
         "data": {
          "bar": [
           {
            "error_x": {
             "color": "#2a3f5f"
            },
            "error_y": {
             "color": "#2a3f5f"
            },
            "marker": {
             "line": {
              "color": "#E5ECF6",
              "width": 0.5
             },
             "pattern": {
              "fillmode": "overlay",
              "size": 10,
              "solidity": 0.2
             }
            },
            "type": "bar"
           }
          ],
          "barpolar": [
           {
            "marker": {
             "line": {
              "color": "#E5ECF6",
              "width": 0.5
             },
             "pattern": {
              "fillmode": "overlay",
              "size": 10,
              "solidity": 0.2
             }
            },
            "type": "barpolar"
           }
          ],
          "carpet": [
           {
            "aaxis": {
             "endlinecolor": "#2a3f5f",
             "gridcolor": "white",
             "linecolor": "white",
             "minorgridcolor": "white",
             "startlinecolor": "#2a3f5f"
            },
            "baxis": {
             "endlinecolor": "#2a3f5f",
             "gridcolor": "white",
             "linecolor": "white",
             "minorgridcolor": "white",
             "startlinecolor": "#2a3f5f"
            },
            "type": "carpet"
           }
          ],
          "choropleth": [
           {
            "colorbar": {
             "outlinewidth": 0,
             "ticks": ""
            },
            "type": "choropleth"
           }
          ],
          "contour": [
           {
            "colorbar": {
             "outlinewidth": 0,
             "ticks": ""
            },
            "colorscale": [
             [
              0,
              "#0d0887"
             ],
             [
              0.1111111111111111,
              "#46039f"
             ],
             [
              0.2222222222222222,
              "#7201a8"
             ],
             [
              0.3333333333333333,
              "#9c179e"
             ],
             [
              0.4444444444444444,
              "#bd3786"
             ],
             [
              0.5555555555555556,
              "#d8576b"
             ],
             [
              0.6666666666666666,
              "#ed7953"
             ],
             [
              0.7777777777777778,
              "#fb9f3a"
             ],
             [
              0.8888888888888888,
              "#fdca26"
             ],
             [
              1,
              "#f0f921"
             ]
            ],
            "type": "contour"
           }
          ],
          "contourcarpet": [
           {
            "colorbar": {
             "outlinewidth": 0,
             "ticks": ""
            },
            "type": "contourcarpet"
           }
          ],
          "heatmap": [
           {
            "colorbar": {
             "outlinewidth": 0,
             "ticks": ""
            },
            "colorscale": [
             [
              0,
              "#0d0887"
             ],
             [
              0.1111111111111111,
              "#46039f"
             ],
             [
              0.2222222222222222,
              "#7201a8"
             ],
             [
              0.3333333333333333,
              "#9c179e"
             ],
             [
              0.4444444444444444,
              "#bd3786"
             ],
             [
              0.5555555555555556,
              "#d8576b"
             ],
             [
              0.6666666666666666,
              "#ed7953"
             ],
             [
              0.7777777777777778,
              "#fb9f3a"
             ],
             [
              0.8888888888888888,
              "#fdca26"
             ],
             [
              1,
              "#f0f921"
             ]
            ],
            "type": "heatmap"
           }
          ],
          "heatmapgl": [
           {
            "colorbar": {
             "outlinewidth": 0,
             "ticks": ""
            },
            "colorscale": [
             [
              0,
              "#0d0887"
             ],
             [
              0.1111111111111111,
              "#46039f"
             ],
             [
              0.2222222222222222,
              "#7201a8"
             ],
             [
              0.3333333333333333,
              "#9c179e"
             ],
             [
              0.4444444444444444,
              "#bd3786"
             ],
             [
              0.5555555555555556,
              "#d8576b"
             ],
             [
              0.6666666666666666,
              "#ed7953"
             ],
             [
              0.7777777777777778,
              "#fb9f3a"
             ],
             [
              0.8888888888888888,
              "#fdca26"
             ],
             [
              1,
              "#f0f921"
             ]
            ],
            "type": "heatmapgl"
           }
          ],
          "histogram": [
           {
            "marker": {
             "pattern": {
              "fillmode": "overlay",
              "size": 10,
              "solidity": 0.2
             }
            },
            "type": "histogram"
           }
          ],
          "histogram2d": [
           {
            "colorbar": {
             "outlinewidth": 0,
             "ticks": ""
            },
            "colorscale": [
             [
              0,
              "#0d0887"
             ],
             [
              0.1111111111111111,
              "#46039f"
             ],
             [
              0.2222222222222222,
              "#7201a8"
             ],
             [
              0.3333333333333333,
              "#9c179e"
             ],
             [
              0.4444444444444444,
              "#bd3786"
             ],
             [
              0.5555555555555556,
              "#d8576b"
             ],
             [
              0.6666666666666666,
              "#ed7953"
             ],
             [
              0.7777777777777778,
              "#fb9f3a"
             ],
             [
              0.8888888888888888,
              "#fdca26"
             ],
             [
              1,
              "#f0f921"
             ]
            ],
            "type": "histogram2d"
           }
          ],
          "histogram2dcontour": [
           {
            "colorbar": {
             "outlinewidth": 0,
             "ticks": ""
            },
            "colorscale": [
             [
              0,
              "#0d0887"
             ],
             [
              0.1111111111111111,
              "#46039f"
             ],
             [
              0.2222222222222222,
              "#7201a8"
             ],
             [
              0.3333333333333333,
              "#9c179e"
             ],
             [
              0.4444444444444444,
              "#bd3786"
             ],
             [
              0.5555555555555556,
              "#d8576b"
             ],
             [
              0.6666666666666666,
              "#ed7953"
             ],
             [
              0.7777777777777778,
              "#fb9f3a"
             ],
             [
              0.8888888888888888,
              "#fdca26"
             ],
             [
              1,
              "#f0f921"
             ]
            ],
            "type": "histogram2dcontour"
           }
          ],
          "mesh3d": [
           {
            "colorbar": {
             "outlinewidth": 0,
             "ticks": ""
            },
            "type": "mesh3d"
           }
          ],
          "parcoords": [
           {
            "line": {
             "colorbar": {
              "outlinewidth": 0,
              "ticks": ""
             }
            },
            "type": "parcoords"
           }
          ],
          "pie": [
           {
            "automargin": true,
            "type": "pie"
           }
          ],
          "scatter": [
           {
            "fillpattern": {
             "fillmode": "overlay",
             "size": 10,
             "solidity": 0.2
            },
            "type": "scatter"
           }
          ],
          "scatter3d": [
           {
            "line": {
             "colorbar": {
              "outlinewidth": 0,
              "ticks": ""
             }
            },
            "marker": {
             "colorbar": {
              "outlinewidth": 0,
              "ticks": ""
             }
            },
            "type": "scatter3d"
           }
          ],
          "scattercarpet": [
           {
            "marker": {
             "colorbar": {
              "outlinewidth": 0,
              "ticks": ""
             }
            },
            "type": "scattercarpet"
           }
          ],
          "scattergeo": [
           {
            "marker": {
             "colorbar": {
              "outlinewidth": 0,
              "ticks": ""
             }
            },
            "type": "scattergeo"
           }
          ],
          "scattergl": [
           {
            "marker": {
             "colorbar": {
              "outlinewidth": 0,
              "ticks": ""
             }
            },
            "type": "scattergl"
           }
          ],
          "scattermapbox": [
           {
            "marker": {
             "colorbar": {
              "outlinewidth": 0,
              "ticks": ""
             }
            },
            "type": "scattermapbox"
           }
          ],
          "scatterpolar": [
           {
            "marker": {
             "colorbar": {
              "outlinewidth": 0,
              "ticks": ""
             }
            },
            "type": "scatterpolar"
           }
          ],
          "scatterpolargl": [
           {
            "marker": {
             "colorbar": {
              "outlinewidth": 0,
              "ticks": ""
             }
            },
            "type": "scatterpolargl"
           }
          ],
          "scatterternary": [
           {
            "marker": {
             "colorbar": {
              "outlinewidth": 0,
              "ticks": ""
             }
            },
            "type": "scatterternary"
           }
          ],
          "surface": [
           {
            "colorbar": {
             "outlinewidth": 0,
             "ticks": ""
            },
            "colorscale": [
             [
              0,
              "#0d0887"
             ],
             [
              0.1111111111111111,
              "#46039f"
             ],
             [
              0.2222222222222222,
              "#7201a8"
             ],
             [
              0.3333333333333333,
              "#9c179e"
             ],
             [
              0.4444444444444444,
              "#bd3786"
             ],
             [
              0.5555555555555556,
              "#d8576b"
             ],
             [
              0.6666666666666666,
              "#ed7953"
             ],
             [
              0.7777777777777778,
              "#fb9f3a"
             ],
             [
              0.8888888888888888,
              "#fdca26"
             ],
             [
              1,
              "#f0f921"
             ]
            ],
            "type": "surface"
           }
          ],
          "table": [
           {
            "cells": {
             "fill": {
              "color": "#EBF0F8"
             },
             "line": {
              "color": "white"
             }
            },
            "header": {
             "fill": {
              "color": "#C8D4E3"
             },
             "line": {
              "color": "white"
             }
            },
            "type": "table"
           }
          ]
         },
         "layout": {
          "annotationdefaults": {
           "arrowcolor": "#2a3f5f",
           "arrowhead": 0,
           "arrowwidth": 1
          },
          "autotypenumbers": "strict",
          "coloraxis": {
           "colorbar": {
            "outlinewidth": 0,
            "ticks": ""
           }
          },
          "colorscale": {
           "diverging": [
            [
             0,
             "#8e0152"
            ],
            [
             0.1,
             "#c51b7d"
            ],
            [
             0.2,
             "#de77ae"
            ],
            [
             0.3,
             "#f1b6da"
            ],
            [
             0.4,
             "#fde0ef"
            ],
            [
             0.5,
             "#f7f7f7"
            ],
            [
             0.6,
             "#e6f5d0"
            ],
            [
             0.7,
             "#b8e186"
            ],
            [
             0.8,
             "#7fbc41"
            ],
            [
             0.9,
             "#4d9221"
            ],
            [
             1,
             "#276419"
            ]
           ],
           "sequential": [
            [
             0,
             "#0d0887"
            ],
            [
             0.1111111111111111,
             "#46039f"
            ],
            [
             0.2222222222222222,
             "#7201a8"
            ],
            [
             0.3333333333333333,
             "#9c179e"
            ],
            [
             0.4444444444444444,
             "#bd3786"
            ],
            [
             0.5555555555555556,
             "#d8576b"
            ],
            [
             0.6666666666666666,
             "#ed7953"
            ],
            [
             0.7777777777777778,
             "#fb9f3a"
            ],
            [
             0.8888888888888888,
             "#fdca26"
            ],
            [
             1,
             "#f0f921"
            ]
           ],
           "sequentialminus": [
            [
             0,
             "#0d0887"
            ],
            [
             0.1111111111111111,
             "#46039f"
            ],
            [
             0.2222222222222222,
             "#7201a8"
            ],
            [
             0.3333333333333333,
             "#9c179e"
            ],
            [
             0.4444444444444444,
             "#bd3786"
            ],
            [
             0.5555555555555556,
             "#d8576b"
            ],
            [
             0.6666666666666666,
             "#ed7953"
            ],
            [
             0.7777777777777778,
             "#fb9f3a"
            ],
            [
             0.8888888888888888,
             "#fdca26"
            ],
            [
             1,
             "#f0f921"
            ]
           ]
          },
          "colorway": [
           "#636efa",
           "#EF553B",
           "#00cc96",
           "#ab63fa",
           "#FFA15A",
           "#19d3f3",
           "#FF6692",
           "#B6E880",
           "#FF97FF",
           "#FECB52"
          ],
          "font": {
           "color": "#2a3f5f"
          },
          "geo": {
           "bgcolor": "white",
           "lakecolor": "white",
           "landcolor": "#E5ECF6",
           "showlakes": true,
           "showland": true,
           "subunitcolor": "white"
          },
          "hoverlabel": {
           "align": "left"
          },
          "hovermode": "closest",
          "mapbox": {
           "style": "light"
          },
          "paper_bgcolor": "white",
          "plot_bgcolor": "#E5ECF6",
          "polar": {
           "angularaxis": {
            "gridcolor": "white",
            "linecolor": "white",
            "ticks": ""
           },
           "bgcolor": "#E5ECF6",
           "radialaxis": {
            "gridcolor": "white",
            "linecolor": "white",
            "ticks": ""
           }
          },
          "scene": {
           "xaxis": {
            "backgroundcolor": "#E5ECF6",
            "gridcolor": "white",
            "gridwidth": 2,
            "linecolor": "white",
            "showbackground": true,
            "ticks": "",
            "zerolinecolor": "white"
           },
           "yaxis": {
            "backgroundcolor": "#E5ECF6",
            "gridcolor": "white",
            "gridwidth": 2,
            "linecolor": "white",
            "showbackground": true,
            "ticks": "",
            "zerolinecolor": "white"
           },
           "zaxis": {
            "backgroundcolor": "#E5ECF6",
            "gridcolor": "white",
            "gridwidth": 2,
            "linecolor": "white",
            "showbackground": true,
            "ticks": "",
            "zerolinecolor": "white"
           }
          },
          "shapedefaults": {
           "line": {
            "color": "#2a3f5f"
           }
          },
          "ternary": {
           "aaxis": {
            "gridcolor": "white",
            "linecolor": "white",
            "ticks": ""
           },
           "baxis": {
            "gridcolor": "white",
            "linecolor": "white",
            "ticks": ""
           },
           "bgcolor": "#E5ECF6",
           "caxis": {
            "gridcolor": "white",
            "linecolor": "white",
            "ticks": ""
           }
          },
          "title": {
           "x": 0.05
          },
          "xaxis": {
           "automargin": true,
           "gridcolor": "white",
           "linecolor": "white",
           "ticks": "",
           "title": {
            "standoff": 15
           },
           "zerolinecolor": "white",
           "zerolinewidth": 2
          },
          "yaxis": {
           "automargin": true,
           "gridcolor": "white",
           "linecolor": "white",
           "ticks": "",
           "title": {
            "standoff": 15
           },
           "zerolinecolor": "white",
           "zerolinewidth": 2
          }
         }
        },
        "title": {
         "text": "Population aged 15 to 19 in every continents between 1950 and 2021"
        },
        "xaxis": {
         "anchor": "y",
         "domain": [
          0,
          1
         ],
         "title": {
          "text": "Year"
         }
        },
        "yaxis": {
         "anchor": "x",
         "domain": [
          0,
          1
         ],
         "title": {
          "text": "Population aged 15 to 19 years"
         }
        }
       }
      }
     },
     "metadata": {},
     "output_type": "display_data"
    }
   ],
   "source": [
    "# Filter the DataFrame to select data related to other continents\n",
    "continents_data = filtered_pop[~filtered_pop['Continents and World'].isin(['World'])]\n",
    "\n",
    "# Columns to include in the plot\n",
    "columns_to_plot = ['Population aged 15 to 19 years']\n",
    "\n",
    "# Create an interactive line plot with multiple curves using Plotly Express\n",
    "fig = px.line(continents_data, x='Year', y='Population aged 15 to 19 years', color='Continents and World', \n",
    "              title='Population aged 15 to 19 in every continents between 1950 and 2021', \n",
    "              labels={'value': 'Population', 'Year': 'Year', 'Continents and World': 'Continent'})\n",
    "\n",
    "# Show the interactive line plot\n",
    "fig.show()"
   ]
  },
  {
   "cell_type": "markdown",
   "metadata": {},
   "source": [
    "## 2.6: Population aged 20 to 29 years"
   ]
  },
  {
   "cell_type": "code",
   "execution_count": 189,
   "metadata": {},
   "outputs": [
    {
     "data": {
      "application/vnd.plotly.v1+json": {
       "config": {
        "plotlyServerURL": "https://plot.ly"
       },
       "data": [
        {
         "hovertemplate": "Continent=Africa (UN)<br>Year=%{x}<br>Population aged 20 to 29 years=%{y}<extra></extra>",
         "legendgroup": "Africa (UN)",
         "line": {
          "color": "#636efa",
          "dash": "solid"
         },
         "marker": {
          "symbol": "circle"
         },
         "mode": "lines",
         "name": "Africa (UN)",
         "orientation": "v",
         "showlegend": true,
         "type": "scatter",
         "x": [
          1950,
          1951,
          1952,
          1953,
          1954,
          1955,
          1956,
          1957,
          1958,
          1959,
          1960,
          1961,
          1962,
          1963,
          1964,
          1965,
          1966,
          1967,
          1968,
          1969,
          1970,
          1971,
          1972,
          1973,
          1974,
          1975,
          1976,
          1977,
          1978,
          1979,
          1980,
          1981,
          1982,
          1983,
          1984,
          1985,
          1986,
          1987,
          1988,
          1989,
          1990,
          1991,
          1992,
          1993,
          1994,
          1995,
          1996,
          1997,
          1998,
          1999,
          2000,
          2001,
          2002,
          2003,
          2004,
          2005,
          2006,
          2007,
          2008,
          2009,
          2010,
          2011,
          2012,
          2013,
          2014,
          2015,
          2016,
          2017,
          2018,
          2019,
          2020,
          2021
         ],
         "xaxis": "x",
         "y": [
          37677212,
          38505124,
          39329870,
          40120050,
          40875776,
          41610904,
          42335764,
          43057160,
          43720016,
          44386756,
          45137010,
          45933276,
          46773504,
          47678656,
          48687372,
          49815024,
          51039200,
          52349384,
          53703092,
          55061092,
          56489348,
          57995988,
          59561184,
          61259028,
          63105068,
          65011040,
          66931930,
          68944330,
          71214310,
          73708170,
          76277050,
          78834150,
          81409130,
          83936744,
          86431100,
          89002184,
          91745224,
          94683890,
          97739730,
          100897970,
          104050620,
          107146970,
          110142670,
          113052000,
          116143330,
          119380040,
          122494710,
          125682350,
          129192000,
          133008800,
          137065800,
          141340880,
          145826030,
          150532080,
          155417920,
          160352480,
          165280800,
          170183920,
          174951040,
          179531200,
          183902530,
          187957740,
          191913040,
          196025400,
          200133090,
          204278270,
          208331620,
          212302030,
          216436430,
          220823950,
          225711820,
          230999710
         ],
         "yaxis": "y"
        },
        {
         "hovertemplate": "Continent=Asia (UN)<br>Year=%{x}<br>Population aged 20 to 29 years=%{y}<extra></extra>",
         "legendgroup": "Asia (UN)",
         "line": {
          "color": "#EF553B",
          "dash": "solid"
         },
         "marker": {
          "symbol": "circle"
         },
         "mode": "lines",
         "name": "Asia (UN)",
         "orientation": "v",
         "showlegend": true,
         "type": "scatter",
         "x": [
          1950,
          1951,
          1952,
          1953,
          1954,
          1955,
          1956,
          1957,
          1958,
          1959,
          1960,
          1961,
          1962,
          1963,
          1964,
          1965,
          1966,
          1967,
          1968,
          1969,
          1970,
          1971,
          1972,
          1973,
          1974,
          1975,
          1976,
          1977,
          1978,
          1979,
          1980,
          1981,
          1982,
          1983,
          1984,
          1985,
          1986,
          1987,
          1988,
          1989,
          1990,
          1991,
          1992,
          1993,
          1994,
          1995,
          1996,
          1997,
          1998,
          1999,
          2000,
          2001,
          2002,
          2003,
          2004,
          2005,
          2006,
          2007,
          2008,
          2009,
          2010,
          2011,
          2012,
          2013,
          2014,
          2015,
          2016,
          2017,
          2018,
          2019,
          2020,
          2021
         ],
         "xaxis": "x",
         "y": [
          227706660,
          232130910,
          236827220,
          241922620,
          246899860,
          251657020,
          256619490,
          261504300,
          265751780,
          269288740,
          272426050,
          275707500,
          278917820,
          281424060,
          283718900,
          286292220,
          289586660,
          294408260,
          300938020,
          309714200,
          320688420,
          332246530,
          345455550,
          360491970,
          376028380,
          392412450,
          408163870,
          423428670,
          437379840,
          447240220,
          453900350,
          459488100,
          467797980,
          482229470,
          497858100,
          511379260,
          524731000,
          536680830,
          550480600,
          568622900,
          588543360,
          608599800,
          623314700,
          630053400,
          634295800,
          637815200,
          640155500,
          642321150,
          642417660,
          641809400,
          642566500,
          644741950,
          649008960,
          653404900,
          658337300,
          666588100,
          678152800,
          692353300,
          706996800,
          720438460,
          733018500,
          742034200,
          745772300,
          747764860,
          749167000,
          748600260,
          745946800,
          741011400,
          735087170,
          728692860,
          721598800,
          716526700
         ],
         "yaxis": "y"
        },
        {
         "hovertemplate": "Continent=Europe (UN)<br>Year=%{x}<br>Population aged 20 to 29 years=%{y}<extra></extra>",
         "legendgroup": "Europe (UN)",
         "line": {
          "color": "#00cc96",
          "dash": "solid"
         },
         "marker": {
          "symbol": "circle"
         },
         "mode": "lines",
         "name": "Europe (UN)",
         "orientation": "v",
         "showlegend": true,
         "type": "scatter",
         "x": [
          1950,
          1951,
          1952,
          1953,
          1954,
          1955,
          1956,
          1957,
          1958,
          1959,
          1960,
          1961,
          1962,
          1963,
          1964,
          1965,
          1966,
          1967,
          1968,
          1969,
          1970,
          1971,
          1972,
          1973,
          1974,
          1975,
          1976,
          1977,
          1978,
          1979,
          1980,
          1981,
          1982,
          1983,
          1984,
          1985,
          1986,
          1987,
          1988,
          1989,
          1990,
          1991,
          1992,
          1993,
          1994,
          1995,
          1996,
          1997,
          1998,
          1999,
          2000,
          2001,
          2002,
          2003,
          2004,
          2005,
          2006,
          2007,
          2008,
          2009,
          2010,
          2011,
          2012,
          2013,
          2014,
          2015,
          2016,
          2017,
          2018,
          2019,
          2020,
          2021
         ],
         "xaxis": "x",
         "y": [
          92724730,
          93737300,
          94171736,
          94285256,
          94395020,
          94588670,
          94738120,
          94901210,
          94917700,
          94980740,
          94940220,
          94724040,
          94081730,
          93024730,
          92057830,
          90762290,
          89945400,
          89874536,
          89912880,
          90292990,
          91044750,
          92244930,
          94445120,
          97447520,
          100609720,
          103854540,
          106205760,
          107413570,
          108380890,
          109133530,
          109855460,
          110706390,
          111397250,
          111982920,
          112328230,
          112282290,
          112022010,
          111599570,
          110961250,
          110147576,
          109237930,
          108355624,
          107537240,
          106592730,
          105636904,
          104905120,
          104350290,
          103791900,
          103190890,
          102691270,
          102440870,
          102281730,
          102238140,
          102531940,
          102813980,
          102880500,
          102956616,
          103223820,
          103462480,
          103346990,
          102836420,
          102032590,
          100942300,
          99354770,
          97425620,
          95426060,
          93340300,
          91162310,
          88990980,
          86937200,
          84999340,
          83254584
         ],
         "yaxis": "y"
        },
        {
         "hovertemplate": "Continent=Latin America and the Caribbean (UN)<br>Year=%{x}<br>Population aged 20 to 29 years=%{y}<extra></extra>",
         "legendgroup": "Latin America and the Caribbean (UN)",
         "line": {
          "color": "#ab63fa",
          "dash": "solid"
         },
         "marker": {
          "symbol": "circle"
         },
         "mode": "lines",
         "name": "Latin America and the Caribbean (UN)",
         "orientation": "v",
         "showlegend": true,
         "type": "scatter",
         "x": [
          1950,
          1951,
          1952,
          1953,
          1954,
          1955,
          1956,
          1957,
          1958,
          1959,
          1960,
          1961,
          1962,
          1963,
          1964,
          1965,
          1966,
          1967,
          1968,
          1969,
          1970,
          1971,
          1972,
          1973,
          1974,
          1975,
          1976,
          1977,
          1978,
          1979,
          1980,
          1981,
          1982,
          1983,
          1984,
          1985,
          1986,
          1987,
          1988,
          1989,
          1990,
          1991,
          1992,
          1993,
          1994,
          1995,
          1996,
          1997,
          1998,
          1999,
          2000,
          2001,
          2002,
          2003,
          2004,
          2005,
          2006,
          2007,
          2008,
          2009,
          2010,
          2011,
          2012,
          2013,
          2014,
          2015,
          2016,
          2017,
          2018,
          2019,
          2020,
          2021
         ],
         "xaxis": "x",
         "y": [
          28272866,
          28995448,
          29673494,
          30298546,
          30874980,
          31425238,
          31971290,
          32514812,
          33061886,
          33653188,
          34309436,
          35037064,
          35829790,
          36667716,
          37563160,
          38525496,
          39541830,
          40645140,
          41870460,
          43220680,
          44676456,
          46189212,
          47755356,
          49391280,
          51091976,
          52838332,
          54604268,
          56420984,
          58286080,
          60134188,
          61987468,
          63861588,
          65743504,
          67639870,
          69504100,
          71282050,
          72945336,
          74482320,
          75917950,
          77280800,
          78646990,
          80008200,
          81309200,
          82553380,
          83739070,
          84897620,
          86077410,
          87310880,
          88599250,
          89927710,
          91265050,
          92598790,
          93932180,
          95234800,
          96515090,
          97750490,
          98885120,
          99933710,
          100879560,
          101741510,
          102622050,
          103475110,
          104194990,
          104812230,
          105358760,
          105822500,
          106238230,
          106574690,
          106787910,
          106931220,
          107039870,
          107053940
         ],
         "yaxis": "y"
        },
        {
         "hovertemplate": "Continent=Northern America (UN)<br>Year=%{x}<br>Population aged 20 to 29 years=%{y}<extra></extra>",
         "legendgroup": "Northern America (UN)",
         "line": {
          "color": "#FFA15A",
          "dash": "solid"
         },
         "marker": {
          "symbol": "circle"
         },
         "mode": "lines",
         "name": "Northern America (UN)",
         "orientation": "v",
         "showlegend": true,
         "type": "scatter",
         "x": [
          1950,
          1951,
          1952,
          1953,
          1954,
          1955,
          1956,
          1957,
          1958,
          1959,
          1960,
          1961,
          1962,
          1963,
          1964,
          1965,
          1966,
          1967,
          1968,
          1969,
          1970,
          1971,
          1972,
          1973,
          1974,
          1975,
          1976,
          1977,
          1978,
          1979,
          1980,
          1981,
          1982,
          1983,
          1984,
          1985,
          1986,
          1987,
          1988,
          1989,
          1990,
          1991,
          1992,
          1993,
          1994,
          1995,
          1996,
          1997,
          1998,
          1999,
          2000,
          2001,
          2002,
          2003,
          2004,
          2005,
          2006,
          2007,
          2008,
          2009,
          2010,
          2011,
          2012,
          2013,
          2014,
          2015,
          2016,
          2017,
          2018,
          2019,
          2020,
          2021
         ],
         "xaxis": "x",
         "y": [
          25304748,
          25272548,
          25298964,
          24916820,
          24640246,
          24658096,
          24620384,
          24462652,
          24416852,
          24338512,
          24257278,
          24358512,
          24681232,
          25322452,
          26042962,
          26758940,
          27619712,
          28841486,
          30147120,
          31193220,
          32146448,
          33805024,
          35565550,
          36741524,
          38044708,
          39551024,
          40767490,
          41587450,
          42467456,
          43680950,
          45160576,
          45987110,
          46394212,
          46964020,
          47281876,
          47332268,
          47083772,
          46603044,
          46036336,
          45511324,
          45118360,
          44771784,
          44344136,
          43773990,
          43163652,
          42693584,
          42461824,
          42491890,
          42657652,
          42872200,
          43100988,
          43347010,
          43678252,
          44106704,
          44609320,
          45176788,
          45788980,
          46362480,
          46839370,
          47241924,
          47690230,
          48290800,
          48950744,
          49511750,
          49913176,
          50134490,
          50263976,
          50380950,
          50433120,
          50374470,
          50237696,
          50031240
         ],
         "yaxis": "y"
        },
        {
         "hovertemplate": "Continent=Oceania (UN)<br>Year=%{x}<br>Population aged 20 to 29 years=%{y}<extra></extra>",
         "legendgroup": "Oceania (UN)",
         "line": {
          "color": "#19d3f3",
          "dash": "solid"
         },
         "marker": {
          "symbol": "circle"
         },
         "mode": "lines",
         "name": "Oceania (UN)",
         "orientation": "v",
         "showlegend": true,
         "type": "scatter",
         "x": [
          1950,
          1951,
          1952,
          1953,
          1954,
          1955,
          1956,
          1957,
          1958,
          1959,
          1960,
          1961,
          1962,
          1963,
          1964,
          1965,
          1966,
          1967,
          1968,
          1969,
          1970,
          1971,
          1972,
          1973,
          1974,
          1975,
          1976,
          1977,
          1978,
          1979,
          1980,
          1981,
          1982,
          1983,
          1984,
          1985,
          1986,
          1987,
          1988,
          1989,
          1990,
          1991,
          1992,
          1993,
          1994,
          1995,
          1996,
          1997,
          1998,
          1999,
          2000,
          2001,
          2002,
          2003,
          2004,
          2005,
          2006,
          2007,
          2008,
          2009,
          2010,
          2011,
          2012,
          2013,
          2014,
          2015,
          2016,
          2017,
          2018,
          2019,
          2020,
          2021
         ],
         "xaxis": "x",
         "y": [
          2074764,
          2106056,
          2116322,
          2111852,
          2102777,
          2099466,
          2103926,
          2111117,
          2119340,
          2133927,
          2158526,
          2194731,
          2240343,
          2297412,
          2372732,
          2461648,
          2563428,
          2677812,
          2792127,
          2904153,
          3031305,
          3166141,
          3276339,
          3368903,
          3457639,
          3532531,
          3584045,
          3621144,
          3668439,
          3733366,
          3813209,
          3906005,
          4001967,
          4087563,
          4159404,
          4219238,
          4270564,
          4323198,
          4377131,
          4426477,
          4474629,
          4524374,
          4563422,
          4585730,
          4605558,
          4633585,
          4665970,
          4690427,
          4700302,
          4702515,
          4702420,
          4709483,
          4745279,
          4809939,
          4888635,
          4982371,
          5096201,
          5232464,
          5394878,
          5563222,
          5700520,
          5807553,
          5909931,
          6014651,
          6122399,
          6231622,
          6340268,
          6446454,
          6545693,
          6630147,
          6667095,
          6662269
         ],
         "yaxis": "y"
        }
       ],
       "layout": {
        "legend": {
         "title": {
          "text": "Continent"
         },
         "tracegroupgap": 0
        },
        "template": {
         "data": {
          "bar": [
           {
            "error_x": {
             "color": "#2a3f5f"
            },
            "error_y": {
             "color": "#2a3f5f"
            },
            "marker": {
             "line": {
              "color": "#E5ECF6",
              "width": 0.5
             },
             "pattern": {
              "fillmode": "overlay",
              "size": 10,
              "solidity": 0.2
             }
            },
            "type": "bar"
           }
          ],
          "barpolar": [
           {
            "marker": {
             "line": {
              "color": "#E5ECF6",
              "width": 0.5
             },
             "pattern": {
              "fillmode": "overlay",
              "size": 10,
              "solidity": 0.2
             }
            },
            "type": "barpolar"
           }
          ],
          "carpet": [
           {
            "aaxis": {
             "endlinecolor": "#2a3f5f",
             "gridcolor": "white",
             "linecolor": "white",
             "minorgridcolor": "white",
             "startlinecolor": "#2a3f5f"
            },
            "baxis": {
             "endlinecolor": "#2a3f5f",
             "gridcolor": "white",
             "linecolor": "white",
             "minorgridcolor": "white",
             "startlinecolor": "#2a3f5f"
            },
            "type": "carpet"
           }
          ],
          "choropleth": [
           {
            "colorbar": {
             "outlinewidth": 0,
             "ticks": ""
            },
            "type": "choropleth"
           }
          ],
          "contour": [
           {
            "colorbar": {
             "outlinewidth": 0,
             "ticks": ""
            },
            "colorscale": [
             [
              0,
              "#0d0887"
             ],
             [
              0.1111111111111111,
              "#46039f"
             ],
             [
              0.2222222222222222,
              "#7201a8"
             ],
             [
              0.3333333333333333,
              "#9c179e"
             ],
             [
              0.4444444444444444,
              "#bd3786"
             ],
             [
              0.5555555555555556,
              "#d8576b"
             ],
             [
              0.6666666666666666,
              "#ed7953"
             ],
             [
              0.7777777777777778,
              "#fb9f3a"
             ],
             [
              0.8888888888888888,
              "#fdca26"
             ],
             [
              1,
              "#f0f921"
             ]
            ],
            "type": "contour"
           }
          ],
          "contourcarpet": [
           {
            "colorbar": {
             "outlinewidth": 0,
             "ticks": ""
            },
            "type": "contourcarpet"
           }
          ],
          "heatmap": [
           {
            "colorbar": {
             "outlinewidth": 0,
             "ticks": ""
            },
            "colorscale": [
             [
              0,
              "#0d0887"
             ],
             [
              0.1111111111111111,
              "#46039f"
             ],
             [
              0.2222222222222222,
              "#7201a8"
             ],
             [
              0.3333333333333333,
              "#9c179e"
             ],
             [
              0.4444444444444444,
              "#bd3786"
             ],
             [
              0.5555555555555556,
              "#d8576b"
             ],
             [
              0.6666666666666666,
              "#ed7953"
             ],
             [
              0.7777777777777778,
              "#fb9f3a"
             ],
             [
              0.8888888888888888,
              "#fdca26"
             ],
             [
              1,
              "#f0f921"
             ]
            ],
            "type": "heatmap"
           }
          ],
          "heatmapgl": [
           {
            "colorbar": {
             "outlinewidth": 0,
             "ticks": ""
            },
            "colorscale": [
             [
              0,
              "#0d0887"
             ],
             [
              0.1111111111111111,
              "#46039f"
             ],
             [
              0.2222222222222222,
              "#7201a8"
             ],
             [
              0.3333333333333333,
              "#9c179e"
             ],
             [
              0.4444444444444444,
              "#bd3786"
             ],
             [
              0.5555555555555556,
              "#d8576b"
             ],
             [
              0.6666666666666666,
              "#ed7953"
             ],
             [
              0.7777777777777778,
              "#fb9f3a"
             ],
             [
              0.8888888888888888,
              "#fdca26"
             ],
             [
              1,
              "#f0f921"
             ]
            ],
            "type": "heatmapgl"
           }
          ],
          "histogram": [
           {
            "marker": {
             "pattern": {
              "fillmode": "overlay",
              "size": 10,
              "solidity": 0.2
             }
            },
            "type": "histogram"
           }
          ],
          "histogram2d": [
           {
            "colorbar": {
             "outlinewidth": 0,
             "ticks": ""
            },
            "colorscale": [
             [
              0,
              "#0d0887"
             ],
             [
              0.1111111111111111,
              "#46039f"
             ],
             [
              0.2222222222222222,
              "#7201a8"
             ],
             [
              0.3333333333333333,
              "#9c179e"
             ],
             [
              0.4444444444444444,
              "#bd3786"
             ],
             [
              0.5555555555555556,
              "#d8576b"
             ],
             [
              0.6666666666666666,
              "#ed7953"
             ],
             [
              0.7777777777777778,
              "#fb9f3a"
             ],
             [
              0.8888888888888888,
              "#fdca26"
             ],
             [
              1,
              "#f0f921"
             ]
            ],
            "type": "histogram2d"
           }
          ],
          "histogram2dcontour": [
           {
            "colorbar": {
             "outlinewidth": 0,
             "ticks": ""
            },
            "colorscale": [
             [
              0,
              "#0d0887"
             ],
             [
              0.1111111111111111,
              "#46039f"
             ],
             [
              0.2222222222222222,
              "#7201a8"
             ],
             [
              0.3333333333333333,
              "#9c179e"
             ],
             [
              0.4444444444444444,
              "#bd3786"
             ],
             [
              0.5555555555555556,
              "#d8576b"
             ],
             [
              0.6666666666666666,
              "#ed7953"
             ],
             [
              0.7777777777777778,
              "#fb9f3a"
             ],
             [
              0.8888888888888888,
              "#fdca26"
             ],
             [
              1,
              "#f0f921"
             ]
            ],
            "type": "histogram2dcontour"
           }
          ],
          "mesh3d": [
           {
            "colorbar": {
             "outlinewidth": 0,
             "ticks": ""
            },
            "type": "mesh3d"
           }
          ],
          "parcoords": [
           {
            "line": {
             "colorbar": {
              "outlinewidth": 0,
              "ticks": ""
             }
            },
            "type": "parcoords"
           }
          ],
          "pie": [
           {
            "automargin": true,
            "type": "pie"
           }
          ],
          "scatter": [
           {
            "fillpattern": {
             "fillmode": "overlay",
             "size": 10,
             "solidity": 0.2
            },
            "type": "scatter"
           }
          ],
          "scatter3d": [
           {
            "line": {
             "colorbar": {
              "outlinewidth": 0,
              "ticks": ""
             }
            },
            "marker": {
             "colorbar": {
              "outlinewidth": 0,
              "ticks": ""
             }
            },
            "type": "scatter3d"
           }
          ],
          "scattercarpet": [
           {
            "marker": {
             "colorbar": {
              "outlinewidth": 0,
              "ticks": ""
             }
            },
            "type": "scattercarpet"
           }
          ],
          "scattergeo": [
           {
            "marker": {
             "colorbar": {
              "outlinewidth": 0,
              "ticks": ""
             }
            },
            "type": "scattergeo"
           }
          ],
          "scattergl": [
           {
            "marker": {
             "colorbar": {
              "outlinewidth": 0,
              "ticks": ""
             }
            },
            "type": "scattergl"
           }
          ],
          "scattermapbox": [
           {
            "marker": {
             "colorbar": {
              "outlinewidth": 0,
              "ticks": ""
             }
            },
            "type": "scattermapbox"
           }
          ],
          "scatterpolar": [
           {
            "marker": {
             "colorbar": {
              "outlinewidth": 0,
              "ticks": ""
             }
            },
            "type": "scatterpolar"
           }
          ],
          "scatterpolargl": [
           {
            "marker": {
             "colorbar": {
              "outlinewidth": 0,
              "ticks": ""
             }
            },
            "type": "scatterpolargl"
           }
          ],
          "scatterternary": [
           {
            "marker": {
             "colorbar": {
              "outlinewidth": 0,
              "ticks": ""
             }
            },
            "type": "scatterternary"
           }
          ],
          "surface": [
           {
            "colorbar": {
             "outlinewidth": 0,
             "ticks": ""
            },
            "colorscale": [
             [
              0,
              "#0d0887"
             ],
             [
              0.1111111111111111,
              "#46039f"
             ],
             [
              0.2222222222222222,
              "#7201a8"
             ],
             [
              0.3333333333333333,
              "#9c179e"
             ],
             [
              0.4444444444444444,
              "#bd3786"
             ],
             [
              0.5555555555555556,
              "#d8576b"
             ],
             [
              0.6666666666666666,
              "#ed7953"
             ],
             [
              0.7777777777777778,
              "#fb9f3a"
             ],
             [
              0.8888888888888888,
              "#fdca26"
             ],
             [
              1,
              "#f0f921"
             ]
            ],
            "type": "surface"
           }
          ],
          "table": [
           {
            "cells": {
             "fill": {
              "color": "#EBF0F8"
             },
             "line": {
              "color": "white"
             }
            },
            "header": {
             "fill": {
              "color": "#C8D4E3"
             },
             "line": {
              "color": "white"
             }
            },
            "type": "table"
           }
          ]
         },
         "layout": {
          "annotationdefaults": {
           "arrowcolor": "#2a3f5f",
           "arrowhead": 0,
           "arrowwidth": 1
          },
          "autotypenumbers": "strict",
          "coloraxis": {
           "colorbar": {
            "outlinewidth": 0,
            "ticks": ""
           }
          },
          "colorscale": {
           "diverging": [
            [
             0,
             "#8e0152"
            ],
            [
             0.1,
             "#c51b7d"
            ],
            [
             0.2,
             "#de77ae"
            ],
            [
             0.3,
             "#f1b6da"
            ],
            [
             0.4,
             "#fde0ef"
            ],
            [
             0.5,
             "#f7f7f7"
            ],
            [
             0.6,
             "#e6f5d0"
            ],
            [
             0.7,
             "#b8e186"
            ],
            [
             0.8,
             "#7fbc41"
            ],
            [
             0.9,
             "#4d9221"
            ],
            [
             1,
             "#276419"
            ]
           ],
           "sequential": [
            [
             0,
             "#0d0887"
            ],
            [
             0.1111111111111111,
             "#46039f"
            ],
            [
             0.2222222222222222,
             "#7201a8"
            ],
            [
             0.3333333333333333,
             "#9c179e"
            ],
            [
             0.4444444444444444,
             "#bd3786"
            ],
            [
             0.5555555555555556,
             "#d8576b"
            ],
            [
             0.6666666666666666,
             "#ed7953"
            ],
            [
             0.7777777777777778,
             "#fb9f3a"
            ],
            [
             0.8888888888888888,
             "#fdca26"
            ],
            [
             1,
             "#f0f921"
            ]
           ],
           "sequentialminus": [
            [
             0,
             "#0d0887"
            ],
            [
             0.1111111111111111,
             "#46039f"
            ],
            [
             0.2222222222222222,
             "#7201a8"
            ],
            [
             0.3333333333333333,
             "#9c179e"
            ],
            [
             0.4444444444444444,
             "#bd3786"
            ],
            [
             0.5555555555555556,
             "#d8576b"
            ],
            [
             0.6666666666666666,
             "#ed7953"
            ],
            [
             0.7777777777777778,
             "#fb9f3a"
            ],
            [
             0.8888888888888888,
             "#fdca26"
            ],
            [
             1,
             "#f0f921"
            ]
           ]
          },
          "colorway": [
           "#636efa",
           "#EF553B",
           "#00cc96",
           "#ab63fa",
           "#FFA15A",
           "#19d3f3",
           "#FF6692",
           "#B6E880",
           "#FF97FF",
           "#FECB52"
          ],
          "font": {
           "color": "#2a3f5f"
          },
          "geo": {
           "bgcolor": "white",
           "lakecolor": "white",
           "landcolor": "#E5ECF6",
           "showlakes": true,
           "showland": true,
           "subunitcolor": "white"
          },
          "hoverlabel": {
           "align": "left"
          },
          "hovermode": "closest",
          "mapbox": {
           "style": "light"
          },
          "paper_bgcolor": "white",
          "plot_bgcolor": "#E5ECF6",
          "polar": {
           "angularaxis": {
            "gridcolor": "white",
            "linecolor": "white",
            "ticks": ""
           },
           "bgcolor": "#E5ECF6",
           "radialaxis": {
            "gridcolor": "white",
            "linecolor": "white",
            "ticks": ""
           }
          },
          "scene": {
           "xaxis": {
            "backgroundcolor": "#E5ECF6",
            "gridcolor": "white",
            "gridwidth": 2,
            "linecolor": "white",
            "showbackground": true,
            "ticks": "",
            "zerolinecolor": "white"
           },
           "yaxis": {
            "backgroundcolor": "#E5ECF6",
            "gridcolor": "white",
            "gridwidth": 2,
            "linecolor": "white",
            "showbackground": true,
            "ticks": "",
            "zerolinecolor": "white"
           },
           "zaxis": {
            "backgroundcolor": "#E5ECF6",
            "gridcolor": "white",
            "gridwidth": 2,
            "linecolor": "white",
            "showbackground": true,
            "ticks": "",
            "zerolinecolor": "white"
           }
          },
          "shapedefaults": {
           "line": {
            "color": "#2a3f5f"
           }
          },
          "ternary": {
           "aaxis": {
            "gridcolor": "white",
            "linecolor": "white",
            "ticks": ""
           },
           "baxis": {
            "gridcolor": "white",
            "linecolor": "white",
            "ticks": ""
           },
           "bgcolor": "#E5ECF6",
           "caxis": {
            "gridcolor": "white",
            "linecolor": "white",
            "ticks": ""
           }
          },
          "title": {
           "x": 0.05
          },
          "xaxis": {
           "automargin": true,
           "gridcolor": "white",
           "linecolor": "white",
           "ticks": "",
           "title": {
            "standoff": 15
           },
           "zerolinecolor": "white",
           "zerolinewidth": 2
          },
          "yaxis": {
           "automargin": true,
           "gridcolor": "white",
           "linecolor": "white",
           "ticks": "",
           "title": {
            "standoff": 15
           },
           "zerolinecolor": "white",
           "zerolinewidth": 2
          }
         }
        },
        "title": {
         "text": "Population aged 20 to 29 in every continents between 1950 and 2021"
        },
        "xaxis": {
         "anchor": "y",
         "domain": [
          0,
          1
         ],
         "title": {
          "text": "Year"
         }
        },
        "yaxis": {
         "anchor": "x",
         "domain": [
          0,
          1
         ],
         "title": {
          "text": "Population aged 20 to 29 years"
         }
        }
       }
      }
     },
     "metadata": {},
     "output_type": "display_data"
    }
   ],
   "source": [
    "# Filter the DataFrame to select data related to other continents\n",
    "continents_data = filtered_pop[~filtered_pop['Continents and World'].isin(['World'])]\n",
    "\n",
    "# Columns to include in the plot\n",
    "columns_to_plot = ['Population aged 20 to 29 years']\n",
    "\n",
    "# Create an interactive line plot with multiple curves using Plotly Express\n",
    "fig = px.line(continents_data, x='Year', y='Population aged 20 to 29 years', color='Continents and World', \n",
    "              title='Population aged 20 to 29 in every continents between 1950 and 2021', \n",
    "              labels={'value': 'Population', 'Year': 'Year', 'Continents and World': 'Continent'})\n",
    "\n",
    "# Show the interactive line plot\n",
    "fig.show()"
   ]
  },
  {
   "cell_type": "markdown",
   "metadata": {},
   "source": [
    "## 2.7: Population aged 30 to 39 years "
   ]
  },
  {
   "cell_type": "code",
   "execution_count": 190,
   "metadata": {},
   "outputs": [
    {
     "data": {
      "application/vnd.plotly.v1+json": {
       "config": {
        "plotlyServerURL": "https://plot.ly"
       },
       "data": [
        {
         "hovertemplate": "Continent=Africa (UN)<br>Year=%{x}<br>Population aged 30 to 39 years=%{y}<extra></extra>",
         "legendgroup": "Africa (UN)",
         "line": {
          "color": "#636efa",
          "dash": "solid"
         },
         "marker": {
          "symbol": "circle"
         },
         "mode": "lines",
         "name": "Africa (UN)",
         "orientation": "v",
         "showlegend": true,
         "type": "scatter",
         "x": [
          1950,
          1951,
          1952,
          1953,
          1954,
          1955,
          1956,
          1957,
          1958,
          1959,
          1960,
          1961,
          1962,
          1963,
          1964,
          1965,
          1966,
          1967,
          1968,
          1969,
          1970,
          1971,
          1972,
          1973,
          1974,
          1975,
          1976,
          1977,
          1978,
          1979,
          1980,
          1981,
          1982,
          1983,
          1984,
          1985,
          1986,
          1987,
          1988,
          1989,
          1990,
          1991,
          1992,
          1993,
          1994,
          1995,
          1996,
          1997,
          1998,
          1999,
          2000,
          2001,
          2002,
          2003,
          2004,
          2005,
          2006,
          2007,
          2008,
          2009,
          2010,
          2011,
          2012,
          2013,
          2014,
          2015,
          2016,
          2017,
          2018,
          2019,
          2020,
          2021
         ],
         "xaxis": "x",
         "y": [
          27422540,
          28050804,
          28694808,
          29340532,
          29989164,
          30649992,
          31319660,
          31994832,
          32653544,
          33325656,
          34042140,
          34774204,
          35516150,
          36267132,
          37022624,
          37770620,
          38509710,
          39255776,
          40003030,
          40730796,
          41451850,
          42179416,
          42917820,
          43731760,
          44676940,
          45748970,
          46892630,
          48086068,
          49377484,
          50744090,
          52232590,
          53870012,
          55601828,
          57366604,
          59145536,
          60973840,
          62841624,
          64728024,
          66639372,
          68706320,
          70891544,
          73085490,
          75294410,
          77533040,
          79915940,
          82409304,
          84823620,
          87258940,
          89898020,
          92652230,
          95414340,
          98171940,
          100920180,
          103661576,
          106454920,
          109355670,
          112401740,
          115663470,
          119178610,
          122956690,
          127009096,
          131204744,
          135563700,
          140228350,
          145072050,
          150031490,
          154955760,
          159777800,
          164513140,
          169064340,
          173488220,
          177772130
         ],
         "yaxis": "y"
        },
        {
         "hovertemplate": "Continent=Asia (UN)<br>Year=%{x}<br>Population aged 30 to 39 years=%{y}<extra></extra>",
         "legendgroup": "Asia (UN)",
         "line": {
          "color": "#EF553B",
          "dash": "solid"
         },
         "marker": {
          "symbol": "circle"
         },
         "mode": "lines",
         "name": "Asia (UN)",
         "orientation": "v",
         "showlegend": true,
         "type": "scatter",
         "x": [
          1950,
          1951,
          1952,
          1953,
          1954,
          1955,
          1956,
          1957,
          1958,
          1959,
          1960,
          1961,
          1962,
          1963,
          1964,
          1965,
          1966,
          1967,
          1968,
          1969,
          1970,
          1971,
          1972,
          1973,
          1974,
          1975,
          1976,
          1977,
          1978,
          1979,
          1980,
          1981,
          1982,
          1983,
          1984,
          1985,
          1986,
          1987,
          1988,
          1989,
          1990,
          1991,
          1992,
          1993,
          1994,
          1995,
          1996,
          1997,
          1998,
          1999,
          2000,
          2001,
          2002,
          2003,
          2004,
          2005,
          2006,
          2007,
          2008,
          2009,
          2010,
          2011,
          2012,
          2013,
          2014,
          2015,
          2016,
          2017,
          2018,
          2019,
          2020,
          2021
         ],
         "xaxis": "x",
         "y": [
          176487470,
          179066500,
          181836320,
          184647220,
          187728160,
          191298400,
          195036580,
          199026240,
          203585650,
          208259900,
          212694460,
          217073760,
          221779500,
          226932800,
          231972060,
          236737120,
          241591820,
          246339950,
          250542500,
          254130740,
          257471940,
          260945000,
          264283860,
          267024800,
          269576030,
          272392400,
          275929020,
          281036480,
          287808700,
          296685820,
          307796500,
          319833920,
          333560030,
          348922180,
          364841730,
          381578240,
          397574140,
          412923040,
          426946300,
          436863680,
          443566500,
          449100200,
          457172030,
          471179780,
          486386530,
          499529630,
          512367970,
          523840960,
          537175040,
          554804200,
          574108600,
          593786600,
          608530800,
          615510500,
          619900350,
          623440700,
          625928900,
          628201000,
          628285900,
          627804800,
          628597760,
          630646900,
          635113800,
          639771100,
          644708700,
          652496960,
          663262700,
          676760770,
          690852800,
          703762200,
          715927230,
          724744500
         ],
         "yaxis": "y"
        },
        {
         "hovertemplate": "Continent=Europe (UN)<br>Year=%{x}<br>Population aged 30 to 39 years=%{y}<extra></extra>",
         "legendgroup": "Europe (UN)",
         "line": {
          "color": "#00cc96",
          "dash": "solid"
         },
         "marker": {
          "symbol": "circle"
         },
         "mode": "lines",
         "name": "Europe (UN)",
         "orientation": "v",
         "showlegend": true,
         "type": "scatter",
         "x": [
          1950,
          1951,
          1952,
          1953,
          1954,
          1955,
          1956,
          1957,
          1958,
          1959,
          1960,
          1961,
          1962,
          1963,
          1964,
          1965,
          1966,
          1967,
          1968,
          1969,
          1970,
          1971,
          1972,
          1973,
          1974,
          1975,
          1976,
          1977,
          1978,
          1979,
          1980,
          1981,
          1982,
          1983,
          1984,
          1985,
          1986,
          1987,
          1988,
          1989,
          1990,
          1991,
          1992,
          1993,
          1994,
          1995,
          1996,
          1997,
          1998,
          1999,
          2000,
          2001,
          2002,
          2003,
          2004,
          2005,
          2006,
          2007,
          2008,
          2009,
          2010,
          2011,
          2012,
          2013,
          2014,
          2015,
          2016,
          2017,
          2018,
          2019,
          2020,
          2021
         ],
         "xaxis": "x",
         "y": [
          71796230,
          71466520,
          71234424,
          71214400,
          71744320,
          73225250,
          75923390,
          79598960,
          83595090,
          86995320,
          89353550,
          90838980,
          91777020,
          92093656,
          91940940,
          91875380,
          91961300,
          92269850,
          92575630,
          92792830,
          92770100,
          92607144,
          92069530,
          91118490,
          90319470,
          89193700,
          88464616,
          88512930,
          88692320,
          89168616,
          90070536,
          91348490,
          93430650,
          96279850,
          99369150,
          102633100,
          105097416,
          106507510,
          107645570,
          108518520,
          109351620,
          110358720,
          111155304,
          111750420,
          112099860,
          112041220,
          111774510,
          111334290,
          110715820,
          109929864,
          109057530,
          108204780,
          107528010,
          106851170,
          106189980,
          105766870,
          105490540,
          105326540,
          105205496,
          105075310,
          105002410,
          104876620,
          104712400,
          104745360,
          104777736,
          104771750,
          104902320,
          105128520,
          105345224,
          105393650,
          105094744,
          104459560
         ],
         "yaxis": "y"
        },
        {
         "hovertemplate": "Continent=Latin America and the Caribbean (UN)<br>Year=%{x}<br>Population aged 30 to 39 years=%{y}<extra></extra>",
         "legendgroup": "Latin America and the Caribbean (UN)",
         "line": {
          "color": "#ab63fa",
          "dash": "solid"
         },
         "marker": {
          "symbol": "circle"
         },
         "mode": "lines",
         "name": "Latin America and the Caribbean (UN)",
         "orientation": "v",
         "showlegend": true,
         "type": "scatter",
         "x": [
          1950,
          1951,
          1952,
          1953,
          1954,
          1955,
          1956,
          1957,
          1958,
          1959,
          1960,
          1961,
          1962,
          1963,
          1964,
          1965,
          1966,
          1967,
          1968,
          1969,
          1970,
          1971,
          1972,
          1973,
          1974,
          1975,
          1976,
          1977,
          1978,
          1979,
          1980,
          1981,
          1982,
          1983,
          1984,
          1985,
          1986,
          1987,
          1988,
          1989,
          1990,
          1991,
          1992,
          1993,
          1994,
          1995,
          1996,
          1997,
          1998,
          1999,
          2000,
          2001,
          2002,
          2003,
          2004,
          2005,
          2006,
          2007,
          2008,
          2009,
          2010,
          2011,
          2012,
          2013,
          2014,
          2015,
          2016,
          2017,
          2018,
          2019,
          2020,
          2021
         ],
         "xaxis": "x",
         "y": [
          20413710,
          20825992,
          21268958,
          21753108,
          22284028,
          22858520,
          23477668,
          24145122,
          24837208,
          25529796,
          26209416,
          26869592,
          27504632,
          28104948,
          28671574,
          29221206,
          29766736,
          30306948,
          30852000,
          31425532,
          32042510,
          32742780,
          33524716,
          34353944,
          35241308,
          36182080,
          37160400,
          38202684,
          39332284,
          40561170,
          41893316,
          43301536,
          44787684,
          46368012,
          48030548,
          49756508,
          51530132,
          53326092,
          55124204,
          56884380,
          58637440,
          60431770,
          62259044,
          64107600,
          65935940,
          67698320,
          69369760,
          70937064,
          72384680,
          73712770,
          74958740,
          76148616,
          77281790,
          78365920,
          79413656,
          80459820,
          81565260,
          82756980,
          84028540,
          85366050,
          86740810,
          88144584,
          89583750,
          91031990,
          92472860,
          93893110,
          95240470,
          96492370,
          97646380,
          98690160,
          99639400,
          100479140
         ],
         "yaxis": "y"
        },
        {
         "hovertemplate": "Continent=Northern America (UN)<br>Year=%{x}<br>Population aged 30 to 39 years=%{y}<extra></extra>",
         "legendgroup": "Northern America (UN)",
         "line": {
          "color": "#FFA15A",
          "dash": "solid"
         },
         "marker": {
          "symbol": "circle"
         },
         "mode": "lines",
         "name": "Northern America (UN)",
         "orientation": "v",
         "showlegend": true,
         "type": "scatter",
         "x": [
          1950,
          1951,
          1952,
          1953,
          1954,
          1955,
          1956,
          1957,
          1958,
          1959,
          1960,
          1961,
          1962,
          1963,
          1964,
          1965,
          1966,
          1967,
          1968,
          1969,
          1970,
          1971,
          1972,
          1973,
          1974,
          1975,
          1976,
          1977,
          1978,
          1979,
          1980,
          1981,
          1982,
          1983,
          1984,
          1985,
          1986,
          1987,
          1988,
          1989,
          1990,
          1991,
          1992,
          1993,
          1994,
          1995,
          1996,
          1997,
          1998,
          1999,
          2000,
          2001,
          2002,
          2003,
          2004,
          2005,
          2006,
          2007,
          2008,
          2009,
          2010,
          2011,
          2012,
          2013,
          2014,
          2015,
          2016,
          2017,
          2018,
          2019,
          2020,
          2021
         ],
         "xaxis": "x",
         "y": [
          24412822,
          24597976,
          24643592,
          25053862,
          25459326,
          25586034,
          25801268,
          26112108,
          26435130,
          26660280,
          26730462,
          26788348,
          26820052,
          26517100,
          26177666,
          26042956,
          25895196,
          25711532,
          25622544,
          25529768,
          25539232,
          25742756,
          26146466,
          26835196,
          27559674,
          28276676,
          29230876,
          30621714,
          32059964,
          33155096,
          34013544,
          35500524,
          37142300,
          38271476,
          39582696,
          41115500,
          42403660,
          43305916,
          44228050,
          45450416,
          46951748,
          47898924,
          48511410,
          49284944,
          49789590,
          50004964,
          49908640,
          49617990,
          49235384,
          48844560,
          48512924,
          48192256,
          47770376,
          47164490,
          46482130,
          45912004,
          45561828,
          45434296,
          45415156,
          45424588,
          45429330,
          45514490,
          45832980,
          46341290,
          46898720,
          47515484,
          48245704,
          48991576,
          49680696,
          50333504,
          50864852,
          51275656
         ],
         "yaxis": "y"
        },
        {
         "hovertemplate": "Continent=Oceania (UN)<br>Year=%{x}<br>Population aged 30 to 39 years=%{y}<extra></extra>",
         "legendgroup": "Oceania (UN)",
         "line": {
          "color": "#19d3f3",
          "dash": "solid"
         },
         "marker": {
          "symbol": "circle"
         },
         "mode": "lines",
         "name": "Oceania (UN)",
         "orientation": "v",
         "showlegend": true,
         "type": "scatter",
         "x": [
          1950,
          1951,
          1952,
          1953,
          1954,
          1955,
          1956,
          1957,
          1958,
          1959,
          1960,
          1961,
          1962,
          1963,
          1964,
          1965,
          1966,
          1967,
          1968,
          1969,
          1970,
          1971,
          1972,
          1973,
          1974,
          1975,
          1976,
          1977,
          1978,
          1979,
          1980,
          1981,
          1982,
          1983,
          1984,
          1985,
          1986,
          1987,
          1988,
          1989,
          1990,
          1991,
          1992,
          1993,
          1994,
          1995,
          1996,
          1997,
          1998,
          1999,
          2000,
          2001,
          2002,
          2003,
          2004,
          2005,
          2006,
          2007,
          2008,
          2009,
          2010,
          2011,
          2012,
          2013,
          2014,
          2015,
          2016,
          2017,
          2018,
          2019,
          2020,
          2021
         ],
         "xaxis": "x",
         "y": [
          1831904,
          1887952,
          1937637,
          1976601,
          2009897,
          2047849,
          2091900,
          2136824,
          2180383,
          2217868,
          2243026,
          2252537,
          2248981,
          2241858,
          2236265,
          2233689,
          2237844,
          2247750,
          2262784,
          2287402,
          2332343,
          2396747,
          2459285,
          2521735,
          2597854,
          2677774,
          2763057,
          2863190,
          2963074,
          3055621,
          3151313,
          3254016,
          3361512,
          3462596,
          3547706,
          3625030,
          3694452,
          3754267,
          3821807,
          3904278,
          4000102,
          4100938,
          4194963,
          4279250,
          4355422,
          4425541,
          4487683,
          4540206,
          4585512,
          4628237,
          4672474,
          4720978,
          4767822,
          4805613,
          4837727,
          4872826,
          4916593,
          4970448,
          5029772,
          5086305,
          5134205,
          5181084,
          5245543,
          5331803,
          5434873,
          5554415,
          5691346,
          5844028,
          6005603,
          6180324,
          6343475,
          6476368
         ],
         "yaxis": "y"
        }
       ],
       "layout": {
        "legend": {
         "title": {
          "text": "Continent"
         },
         "tracegroupgap": 0
        },
        "template": {
         "data": {
          "bar": [
           {
            "error_x": {
             "color": "#2a3f5f"
            },
            "error_y": {
             "color": "#2a3f5f"
            },
            "marker": {
             "line": {
              "color": "#E5ECF6",
              "width": 0.5
             },
             "pattern": {
              "fillmode": "overlay",
              "size": 10,
              "solidity": 0.2
             }
            },
            "type": "bar"
           }
          ],
          "barpolar": [
           {
            "marker": {
             "line": {
              "color": "#E5ECF6",
              "width": 0.5
             },
             "pattern": {
              "fillmode": "overlay",
              "size": 10,
              "solidity": 0.2
             }
            },
            "type": "barpolar"
           }
          ],
          "carpet": [
           {
            "aaxis": {
             "endlinecolor": "#2a3f5f",
             "gridcolor": "white",
             "linecolor": "white",
             "minorgridcolor": "white",
             "startlinecolor": "#2a3f5f"
            },
            "baxis": {
             "endlinecolor": "#2a3f5f",
             "gridcolor": "white",
             "linecolor": "white",
             "minorgridcolor": "white",
             "startlinecolor": "#2a3f5f"
            },
            "type": "carpet"
           }
          ],
          "choropleth": [
           {
            "colorbar": {
             "outlinewidth": 0,
             "ticks": ""
            },
            "type": "choropleth"
           }
          ],
          "contour": [
           {
            "colorbar": {
             "outlinewidth": 0,
             "ticks": ""
            },
            "colorscale": [
             [
              0,
              "#0d0887"
             ],
             [
              0.1111111111111111,
              "#46039f"
             ],
             [
              0.2222222222222222,
              "#7201a8"
             ],
             [
              0.3333333333333333,
              "#9c179e"
             ],
             [
              0.4444444444444444,
              "#bd3786"
             ],
             [
              0.5555555555555556,
              "#d8576b"
             ],
             [
              0.6666666666666666,
              "#ed7953"
             ],
             [
              0.7777777777777778,
              "#fb9f3a"
             ],
             [
              0.8888888888888888,
              "#fdca26"
             ],
             [
              1,
              "#f0f921"
             ]
            ],
            "type": "contour"
           }
          ],
          "contourcarpet": [
           {
            "colorbar": {
             "outlinewidth": 0,
             "ticks": ""
            },
            "type": "contourcarpet"
           }
          ],
          "heatmap": [
           {
            "colorbar": {
             "outlinewidth": 0,
             "ticks": ""
            },
            "colorscale": [
             [
              0,
              "#0d0887"
             ],
             [
              0.1111111111111111,
              "#46039f"
             ],
             [
              0.2222222222222222,
              "#7201a8"
             ],
             [
              0.3333333333333333,
              "#9c179e"
             ],
             [
              0.4444444444444444,
              "#bd3786"
             ],
             [
              0.5555555555555556,
              "#d8576b"
             ],
             [
              0.6666666666666666,
              "#ed7953"
             ],
             [
              0.7777777777777778,
              "#fb9f3a"
             ],
             [
              0.8888888888888888,
              "#fdca26"
             ],
             [
              1,
              "#f0f921"
             ]
            ],
            "type": "heatmap"
           }
          ],
          "heatmapgl": [
           {
            "colorbar": {
             "outlinewidth": 0,
             "ticks": ""
            },
            "colorscale": [
             [
              0,
              "#0d0887"
             ],
             [
              0.1111111111111111,
              "#46039f"
             ],
             [
              0.2222222222222222,
              "#7201a8"
             ],
             [
              0.3333333333333333,
              "#9c179e"
             ],
             [
              0.4444444444444444,
              "#bd3786"
             ],
             [
              0.5555555555555556,
              "#d8576b"
             ],
             [
              0.6666666666666666,
              "#ed7953"
             ],
             [
              0.7777777777777778,
              "#fb9f3a"
             ],
             [
              0.8888888888888888,
              "#fdca26"
             ],
             [
              1,
              "#f0f921"
             ]
            ],
            "type": "heatmapgl"
           }
          ],
          "histogram": [
           {
            "marker": {
             "pattern": {
              "fillmode": "overlay",
              "size": 10,
              "solidity": 0.2
             }
            },
            "type": "histogram"
           }
          ],
          "histogram2d": [
           {
            "colorbar": {
             "outlinewidth": 0,
             "ticks": ""
            },
            "colorscale": [
             [
              0,
              "#0d0887"
             ],
             [
              0.1111111111111111,
              "#46039f"
             ],
             [
              0.2222222222222222,
              "#7201a8"
             ],
             [
              0.3333333333333333,
              "#9c179e"
             ],
             [
              0.4444444444444444,
              "#bd3786"
             ],
             [
              0.5555555555555556,
              "#d8576b"
             ],
             [
              0.6666666666666666,
              "#ed7953"
             ],
             [
              0.7777777777777778,
              "#fb9f3a"
             ],
             [
              0.8888888888888888,
              "#fdca26"
             ],
             [
              1,
              "#f0f921"
             ]
            ],
            "type": "histogram2d"
           }
          ],
          "histogram2dcontour": [
           {
            "colorbar": {
             "outlinewidth": 0,
             "ticks": ""
            },
            "colorscale": [
             [
              0,
              "#0d0887"
             ],
             [
              0.1111111111111111,
              "#46039f"
             ],
             [
              0.2222222222222222,
              "#7201a8"
             ],
             [
              0.3333333333333333,
              "#9c179e"
             ],
             [
              0.4444444444444444,
              "#bd3786"
             ],
             [
              0.5555555555555556,
              "#d8576b"
             ],
             [
              0.6666666666666666,
              "#ed7953"
             ],
             [
              0.7777777777777778,
              "#fb9f3a"
             ],
             [
              0.8888888888888888,
              "#fdca26"
             ],
             [
              1,
              "#f0f921"
             ]
            ],
            "type": "histogram2dcontour"
           }
          ],
          "mesh3d": [
           {
            "colorbar": {
             "outlinewidth": 0,
             "ticks": ""
            },
            "type": "mesh3d"
           }
          ],
          "parcoords": [
           {
            "line": {
             "colorbar": {
              "outlinewidth": 0,
              "ticks": ""
             }
            },
            "type": "parcoords"
           }
          ],
          "pie": [
           {
            "automargin": true,
            "type": "pie"
           }
          ],
          "scatter": [
           {
            "fillpattern": {
             "fillmode": "overlay",
             "size": 10,
             "solidity": 0.2
            },
            "type": "scatter"
           }
          ],
          "scatter3d": [
           {
            "line": {
             "colorbar": {
              "outlinewidth": 0,
              "ticks": ""
             }
            },
            "marker": {
             "colorbar": {
              "outlinewidth": 0,
              "ticks": ""
             }
            },
            "type": "scatter3d"
           }
          ],
          "scattercarpet": [
           {
            "marker": {
             "colorbar": {
              "outlinewidth": 0,
              "ticks": ""
             }
            },
            "type": "scattercarpet"
           }
          ],
          "scattergeo": [
           {
            "marker": {
             "colorbar": {
              "outlinewidth": 0,
              "ticks": ""
             }
            },
            "type": "scattergeo"
           }
          ],
          "scattergl": [
           {
            "marker": {
             "colorbar": {
              "outlinewidth": 0,
              "ticks": ""
             }
            },
            "type": "scattergl"
           }
          ],
          "scattermapbox": [
           {
            "marker": {
             "colorbar": {
              "outlinewidth": 0,
              "ticks": ""
             }
            },
            "type": "scattermapbox"
           }
          ],
          "scatterpolar": [
           {
            "marker": {
             "colorbar": {
              "outlinewidth": 0,
              "ticks": ""
             }
            },
            "type": "scatterpolar"
           }
          ],
          "scatterpolargl": [
           {
            "marker": {
             "colorbar": {
              "outlinewidth": 0,
              "ticks": ""
             }
            },
            "type": "scatterpolargl"
           }
          ],
          "scatterternary": [
           {
            "marker": {
             "colorbar": {
              "outlinewidth": 0,
              "ticks": ""
             }
            },
            "type": "scatterternary"
           }
          ],
          "surface": [
           {
            "colorbar": {
             "outlinewidth": 0,
             "ticks": ""
            },
            "colorscale": [
             [
              0,
              "#0d0887"
             ],
             [
              0.1111111111111111,
              "#46039f"
             ],
             [
              0.2222222222222222,
              "#7201a8"
             ],
             [
              0.3333333333333333,
              "#9c179e"
             ],
             [
              0.4444444444444444,
              "#bd3786"
             ],
             [
              0.5555555555555556,
              "#d8576b"
             ],
             [
              0.6666666666666666,
              "#ed7953"
             ],
             [
              0.7777777777777778,
              "#fb9f3a"
             ],
             [
              0.8888888888888888,
              "#fdca26"
             ],
             [
              1,
              "#f0f921"
             ]
            ],
            "type": "surface"
           }
          ],
          "table": [
           {
            "cells": {
             "fill": {
              "color": "#EBF0F8"
             },
             "line": {
              "color": "white"
             }
            },
            "header": {
             "fill": {
              "color": "#C8D4E3"
             },
             "line": {
              "color": "white"
             }
            },
            "type": "table"
           }
          ]
         },
         "layout": {
          "annotationdefaults": {
           "arrowcolor": "#2a3f5f",
           "arrowhead": 0,
           "arrowwidth": 1
          },
          "autotypenumbers": "strict",
          "coloraxis": {
           "colorbar": {
            "outlinewidth": 0,
            "ticks": ""
           }
          },
          "colorscale": {
           "diverging": [
            [
             0,
             "#8e0152"
            ],
            [
             0.1,
             "#c51b7d"
            ],
            [
             0.2,
             "#de77ae"
            ],
            [
             0.3,
             "#f1b6da"
            ],
            [
             0.4,
             "#fde0ef"
            ],
            [
             0.5,
             "#f7f7f7"
            ],
            [
             0.6,
             "#e6f5d0"
            ],
            [
             0.7,
             "#b8e186"
            ],
            [
             0.8,
             "#7fbc41"
            ],
            [
             0.9,
             "#4d9221"
            ],
            [
             1,
             "#276419"
            ]
           ],
           "sequential": [
            [
             0,
             "#0d0887"
            ],
            [
             0.1111111111111111,
             "#46039f"
            ],
            [
             0.2222222222222222,
             "#7201a8"
            ],
            [
             0.3333333333333333,
             "#9c179e"
            ],
            [
             0.4444444444444444,
             "#bd3786"
            ],
            [
             0.5555555555555556,
             "#d8576b"
            ],
            [
             0.6666666666666666,
             "#ed7953"
            ],
            [
             0.7777777777777778,
             "#fb9f3a"
            ],
            [
             0.8888888888888888,
             "#fdca26"
            ],
            [
             1,
             "#f0f921"
            ]
           ],
           "sequentialminus": [
            [
             0,
             "#0d0887"
            ],
            [
             0.1111111111111111,
             "#46039f"
            ],
            [
             0.2222222222222222,
             "#7201a8"
            ],
            [
             0.3333333333333333,
             "#9c179e"
            ],
            [
             0.4444444444444444,
             "#bd3786"
            ],
            [
             0.5555555555555556,
             "#d8576b"
            ],
            [
             0.6666666666666666,
             "#ed7953"
            ],
            [
             0.7777777777777778,
             "#fb9f3a"
            ],
            [
             0.8888888888888888,
             "#fdca26"
            ],
            [
             1,
             "#f0f921"
            ]
           ]
          },
          "colorway": [
           "#636efa",
           "#EF553B",
           "#00cc96",
           "#ab63fa",
           "#FFA15A",
           "#19d3f3",
           "#FF6692",
           "#B6E880",
           "#FF97FF",
           "#FECB52"
          ],
          "font": {
           "color": "#2a3f5f"
          },
          "geo": {
           "bgcolor": "white",
           "lakecolor": "white",
           "landcolor": "#E5ECF6",
           "showlakes": true,
           "showland": true,
           "subunitcolor": "white"
          },
          "hoverlabel": {
           "align": "left"
          },
          "hovermode": "closest",
          "mapbox": {
           "style": "light"
          },
          "paper_bgcolor": "white",
          "plot_bgcolor": "#E5ECF6",
          "polar": {
           "angularaxis": {
            "gridcolor": "white",
            "linecolor": "white",
            "ticks": ""
           },
           "bgcolor": "#E5ECF6",
           "radialaxis": {
            "gridcolor": "white",
            "linecolor": "white",
            "ticks": ""
           }
          },
          "scene": {
           "xaxis": {
            "backgroundcolor": "#E5ECF6",
            "gridcolor": "white",
            "gridwidth": 2,
            "linecolor": "white",
            "showbackground": true,
            "ticks": "",
            "zerolinecolor": "white"
           },
           "yaxis": {
            "backgroundcolor": "#E5ECF6",
            "gridcolor": "white",
            "gridwidth": 2,
            "linecolor": "white",
            "showbackground": true,
            "ticks": "",
            "zerolinecolor": "white"
           },
           "zaxis": {
            "backgroundcolor": "#E5ECF6",
            "gridcolor": "white",
            "gridwidth": 2,
            "linecolor": "white",
            "showbackground": true,
            "ticks": "",
            "zerolinecolor": "white"
           }
          },
          "shapedefaults": {
           "line": {
            "color": "#2a3f5f"
           }
          },
          "ternary": {
           "aaxis": {
            "gridcolor": "white",
            "linecolor": "white",
            "ticks": ""
           },
           "baxis": {
            "gridcolor": "white",
            "linecolor": "white",
            "ticks": ""
           },
           "bgcolor": "#E5ECF6",
           "caxis": {
            "gridcolor": "white",
            "linecolor": "white",
            "ticks": ""
           }
          },
          "title": {
           "x": 0.05
          },
          "xaxis": {
           "automargin": true,
           "gridcolor": "white",
           "linecolor": "white",
           "ticks": "",
           "title": {
            "standoff": 15
           },
           "zerolinecolor": "white",
           "zerolinewidth": 2
          },
          "yaxis": {
           "automargin": true,
           "gridcolor": "white",
           "linecolor": "white",
           "ticks": "",
           "title": {
            "standoff": 15
           },
           "zerolinecolor": "white",
           "zerolinewidth": 2
          }
         }
        },
        "title": {
         "text": "Population aged 30 to 39 in every continents between 1950 and 2021"
        },
        "xaxis": {
         "anchor": "y",
         "domain": [
          0,
          1
         ],
         "title": {
          "text": "Year"
         }
        },
        "yaxis": {
         "anchor": "x",
         "domain": [
          0,
          1
         ],
         "title": {
          "text": "Population aged 30 to 39 years"
         }
        }
       }
      }
     },
     "metadata": {},
     "output_type": "display_data"
    }
   ],
   "source": [
    "# Filter the DataFrame to select data related to other continents\n",
    "continents_data = filtered_pop[~filtered_pop['Continents and World'].isin(['World'])]\n",
    "\n",
    "# Columns to include in the plot\n",
    "columns_to_plot = ['Population aged 30 to 39 years']\n",
    "\n",
    "# Create an interactive line plot with multiple curves using Plotly Express\n",
    "fig = px.line(continents_data, x='Year', y='Population aged 30 to 39 years', color='Continents and World', \n",
    "              title='Population aged 30 to 39 in every continents between 1950 and 2021', \n",
    "              labels={'value': 'Population', 'Year': 'Year', 'Continents and World': 'Continent'})\n",
    "\n",
    "# Show the interactive line plot\n",
    "fig.show()"
   ]
  },
  {
   "cell_type": "markdown",
   "metadata": {},
   "source": [
    "## 2.8: Population aged 40 to 49 years"
   ]
  },
  {
   "cell_type": "code",
   "execution_count": 191,
   "metadata": {},
   "outputs": [
    {
     "data": {
      "application/vnd.plotly.v1+json": {
       "config": {
        "plotlyServerURL": "https://plot.ly"
       },
       "data": [
        {
         "hovertemplate": "Continent=Africa (UN)<br>Year=%{x}<br>Population aged 40 to 49 years=%{y}<extra></extra>",
         "legendgroup": "Africa (UN)",
         "line": {
          "color": "#636efa",
          "dash": "solid"
         },
         "marker": {
          "symbol": "circle"
         },
         "mode": "lines",
         "name": "Africa (UN)",
         "orientation": "v",
         "showlegend": true,
         "type": "scatter",
         "x": [
          1950,
          1951,
          1952,
          1953,
          1954,
          1955,
          1956,
          1957,
          1958,
          1959,
          1960,
          1961,
          1962,
          1963,
          1964,
          1965,
          1966,
          1967,
          1968,
          1969,
          1970,
          1971,
          1972,
          1973,
          1974,
          1975,
          1976,
          1977,
          1978,
          1979,
          1980,
          1981,
          1982,
          1983,
          1984,
          1985,
          1986,
          1987,
          1988,
          1989,
          1990,
          1991,
          1992,
          1993,
          1994,
          1995,
          1996,
          1997,
          1998,
          1999,
          2000,
          2001,
          2002,
          2003,
          2004,
          2005,
          2006,
          2007,
          2008,
          2009,
          2010,
          2011,
          2012,
          2013,
          2014,
          2015,
          2016,
          2017,
          2018,
          2019,
          2020,
          2021
         ],
         "xaxis": "x",
         "y": [
          19586988,
          19993920,
          20406358,
          20827816,
          21257012,
          21694456,
          22138286,
          22586976,
          23041654,
          23520750,
          24027334,
          24551702,
          25099474,
          25664068,
          26247214,
          26851466,
          27472816,
          28111638,
          28769192,
          29437600,
          30124746,
          30833662,
          31546196,
          32271336,
          33001712,
          33729124,
          34451788,
          35142484,
          35849800,
          36570268,
          37239548,
          37938924,
          38714880,
          39524570,
          40392584,
          41369376,
          42484590,
          43706320,
          44909144,
          46130744,
          47475692,
          48898736,
          50360684,
          51878932,
          53444190,
          55032090,
          56594630,
          58151630,
          59849404,
          61712364,
          63640440,
          65606990,
          67640640,
          69738670,
          71903090,
          74135480,
          76459064,
          78890210,
          81395620,
          83959960,
          86576360,
          89195510,
          91849630,
          94593860,
          97425330,
          100395150,
          103488536,
          106759490,
          110301350,
          114105656,
          118165256,
          122385976
         ],
         "yaxis": "y"
        },
        {
         "hovertemplate": "Continent=Asia (UN)<br>Year=%{x}<br>Population aged 40 to 49 years=%{y}<extra></extra>",
         "legendgroup": "Asia (UN)",
         "line": {
          "color": "#EF553B",
          "dash": "solid"
         },
         "marker": {
          "symbol": "circle"
         },
         "mode": "lines",
         "name": "Asia (UN)",
         "orientation": "v",
         "showlegend": true,
         "type": "scatter",
         "x": [
          1950,
          1951,
          1952,
          1953,
          1954,
          1955,
          1956,
          1957,
          1958,
          1959,
          1960,
          1961,
          1962,
          1963,
          1964,
          1965,
          1966,
          1967,
          1968,
          1969,
          1970,
          1971,
          1972,
          1973,
          1974,
          1975,
          1976,
          1977,
          1978,
          1979,
          1980,
          1981,
          1982,
          1983,
          1984,
          1985,
          1986,
          1987,
          1988,
          1989,
          1990,
          1991,
          1992,
          1993,
          1994,
          1995,
          1996,
          1997,
          1998,
          1999,
          2000,
          2001,
          2002,
          2003,
          2004,
          2005,
          2006,
          2007,
          2008,
          2009,
          2010,
          2011,
          2012,
          2013,
          2014,
          2015,
          2016,
          2017,
          2018,
          2019,
          2020,
          2021
         ],
         "xaxis": "x",
         "y": [
          138436110,
          140481100,
          142478320,
          144652830,
          147067150,
          149476320,
          151727950,
          153918400,
          155901470,
          157720030,
          159768690,
          162231800,
          165023730,
          167975730,
          171192580,
          174805310,
          178531070,
          182519900,
          187108980,
          191926300,
          196663940,
          201268180,
          206022340,
          211199820,
          216284900,
          221113460,
          226049040,
          230912110,
          235255410,
          239030370,
          242632700,
          246518060,
          250266510,
          253325700,
          256218750,
          259385470,
          263321400,
          268741700,
          275751360,
          284795230,
          295873020,
          307740350,
          321217900,
          336198000,
          351686820,
          367995100,
          383541630,
          398427600,
          411977760,
          421575940,
          427923070,
          433028450,
          440765800,
          454516000,
          469479700,
          482372200,
          494986400,
          506193500,
          519148400,
          536409280,
          555473100,
          574981570,
          589822850,
          597164300,
          602041700,
          606103400,
          608786240,
          610938900,
          610835700,
          609962000,
          610387840,
          612111550
         ],
         "yaxis": "y"
        },
        {
         "hovertemplate": "Continent=Europe (UN)<br>Year=%{x}<br>Population aged 40 to 49 years=%{y}<extra></extra>",
         "legendgroup": "Europe (UN)",
         "line": {
          "color": "#00cc96",
          "dash": "solid"
         },
         "marker": {
          "symbol": "circle"
         },
         "mode": "lines",
         "name": "Europe (UN)",
         "orientation": "v",
         "showlegend": true,
         "type": "scatter",
         "x": [
          1950,
          1951,
          1952,
          1953,
          1954,
          1955,
          1956,
          1957,
          1958,
          1959,
          1960,
          1961,
          1962,
          1963,
          1964,
          1965,
          1966,
          1967,
          1968,
          1969,
          1970,
          1971,
          1972,
          1973,
          1974,
          1975,
          1976,
          1977,
          1978,
          1979,
          1980,
          1981,
          1982,
          1983,
          1984,
          1985,
          1986,
          1987,
          1988,
          1989,
          1990,
          1991,
          1992,
          1993,
          1994,
          1995,
          1996,
          1997,
          1998,
          1999,
          2000,
          2001,
          2002,
          2003,
          2004,
          2005,
          2006,
          2007,
          2008,
          2009,
          2010,
          2011,
          2012,
          2013,
          2014,
          2015,
          2016,
          2017,
          2018,
          2019,
          2020,
          2021
         ],
         "xaxis": "x",
         "y": [
          74393480,
          75344120,
          76229950,
          77049090,
          77498340,
          77138290,
          75812530,
          73734696,
          71301620,
          69359520,
          68451224,
          68246110,
          68211770,
          68394296,
          69002376,
          70525280,
          73437016,
          77240540,
          81169060,
          84522184,
          86971360,
          88444920,
          89224560,
          89396500,
          89160690,
          89067110,
          89175660,
          89505500,
          89813160,
          90043490,
          90108070,
          89968130,
          89346060,
          88341050,
          87476610,
          86306670,
          85612180,
          85724930,
          85996650,
          86648216,
          87698140,
          89096380,
          91259460,
          94094240,
          97126650,
          100284550,
          102645270,
          103990664,
          105048120,
          105833630,
          106654750,
          107614600,
          108403144,
          109114090,
          109600790,
          109683460,
          109541220,
          109291560,
          108959360,
          108472120,
          107828030,
          107185900,
          106637416,
          105997176,
          105358616,
          104952920,
          104696420,
          104454350,
          104236030,
          104141096,
          104159090,
          104099960
         ],
         "yaxis": "y"
        },
        {
         "hovertemplate": "Continent=Latin America and the Caribbean (UN)<br>Year=%{x}<br>Population aged 40 to 49 years=%{y}<extra></extra>",
         "legendgroup": "Latin America and the Caribbean (UN)",
         "line": {
          "color": "#ab63fa",
          "dash": "solid"
         },
         "marker": {
          "symbol": "circle"
         },
         "mode": "lines",
         "name": "Latin America and the Caribbean (UN)",
         "orientation": "v",
         "showlegend": true,
         "type": "scatter",
         "x": [
          1950,
          1951,
          1952,
          1953,
          1954,
          1955,
          1956,
          1957,
          1958,
          1959,
          1960,
          1961,
          1962,
          1963,
          1964,
          1965,
          1966,
          1967,
          1968,
          1969,
          1970,
          1971,
          1972,
          1973,
          1974,
          1975,
          1976,
          1977,
          1978,
          1979,
          1980,
          1981,
          1982,
          1983,
          1984,
          1985,
          1986,
          1987,
          1988,
          1989,
          1990,
          1991,
          1992,
          1993,
          1994,
          1995,
          1996,
          1997,
          1998,
          1999,
          2000,
          2001,
          2002,
          2003,
          2004,
          2005,
          2006,
          2007,
          2008,
          2009,
          2010,
          2011,
          2012,
          2013,
          2014,
          2015,
          2016,
          2017,
          2018,
          2019,
          2020,
          2021
         ],
         "xaxis": "x",
         "y": [
          14956240,
          15353535,
          15748601,
          16140892,
          16524715,
          16895870,
          17250230,
          17589192,
          17919620,
          18259798,
          18630296,
          19034892,
          19471832,
          19947206,
          20466800,
          21026516,
          21625188,
          22267052,
          22937308,
          23605584,
          24252628,
          24885578,
          25503142,
          26095390,
          26665854,
          27228372,
          27800852,
          28383036,
          28983258,
          29622596,
          30288228,
          30960960,
          31656868,
          32397436,
          33191200,
          34038050,
          34935908,
          35907904,
          36979796,
          38174756,
          39501576,
          40917520,
          42394930,
          43936870,
          45542456,
          47204050,
          48913100,
          50655670,
          52417156,
          54169704,
          55906336,
          57651740,
          59413040,
          61177476,
          62918972,
          64594050,
          66167690,
          67634970,
          68999016,
          70277750,
          71509400,
          72725150,
          73927780,
          75107340,
          76261336,
          77431990,
          78674776,
          79996184,
          81393560,
          82830710,
          84245910,
          85616620
         ],
         "yaxis": "y"
        },
        {
         "hovertemplate": "Continent=Northern America (UN)<br>Year=%{x}<br>Population aged 40 to 49 years=%{y}<extra></extra>",
         "legendgroup": "Northern America (UN)",
         "line": {
          "color": "#FFA15A",
          "dash": "solid"
         },
         "marker": {
          "symbol": "circle"
         },
         "mode": "lines",
         "name": "Northern America (UN)",
         "orientation": "v",
         "showlegend": true,
         "type": "scatter",
         "x": [
          1950,
          1951,
          1952,
          1953,
          1954,
          1955,
          1956,
          1957,
          1958,
          1959,
          1960,
          1961,
          1962,
          1963,
          1964,
          1965,
          1966,
          1967,
          1968,
          1969,
          1970,
          1971,
          1972,
          1973,
          1974,
          1975,
          1976,
          1977,
          1978,
          1979,
          1980,
          1981,
          1982,
          1983,
          1984,
          1985,
          1986,
          1987,
          1988,
          1989,
          1990,
          1991,
          1992,
          1993,
          1994,
          1995,
          1996,
          1997,
          1998,
          1999,
          2000,
          2001,
          2002,
          2003,
          2004,
          2005,
          2006,
          2007,
          2008,
          2009,
          2010,
          2011,
          2012,
          2013,
          2014,
          2015,
          2016,
          2017,
          2018,
          2019,
          2020,
          2021
         ],
         "xaxis": "x",
         "y": [
          20574986,
          20962526,
          21353210,
          21755468,
          22212636,
          22538672,
          22872944,
          23183232,
          23380744,
          23721524,
          24118708,
          24286628,
          24362784,
          24798988,
          25209764,
          25312564,
          25530528,
          25878572,
          26189588,
          26397792,
          26510434,
          26592174,
          26645620,
          26420708,
          26157212,
          26064574,
          25976076,
          25872672,
          25867320,
          25812328,
          25780428,
          25911044,
          26262460,
          26941952,
          27674382,
          28394328,
          29358636,
          30710844,
          32089082,
          33185560,
          34071930,
          35609584,
          37349164,
          38600836,
          40052390,
          41724440,
          43133024,
          44156040,
          45204456,
          46523760,
          48006148,
          48833184,
          49296480,
          49937172,
          50379440,
          50589144,
          50505030,
          50225290,
          49872300,
          49518844,
          49186450,
          48873440,
          48518756,
          48006816,
          47424932,
          46954064,
          46691384,
          46642772,
          46690988,
          46770924,
          46789516,
          46806820
         ],
         "yaxis": "y"
        },
        {
         "hovertemplate": "Continent=Oceania (UN)<br>Year=%{x}<br>Population aged 40 to 49 years=%{y}<extra></extra>",
         "legendgroup": "Oceania (UN)",
         "line": {
          "color": "#19d3f3",
          "dash": "solid"
         },
         "marker": {
          "symbol": "circle"
         },
         "mode": "lines",
         "name": "Oceania (UN)",
         "orientation": "v",
         "showlegend": true,
         "type": "scatter",
         "x": [
          1950,
          1951,
          1952,
          1953,
          1954,
          1955,
          1956,
          1957,
          1958,
          1959,
          1960,
          1961,
          1962,
          1963,
          1964,
          1965,
          1966,
          1967,
          1968,
          1969,
          1970,
          1971,
          1972,
          1973,
          1974,
          1975,
          1976,
          1977,
          1978,
          1979,
          1980,
          1981,
          1982,
          1983,
          1984,
          1985,
          1986,
          1987,
          1988,
          1989,
          1990,
          1991,
          1992,
          1993,
          1994,
          1995,
          1996,
          1997,
          1998,
          1999,
          2000,
          2001,
          2002,
          2003,
          2004,
          2005,
          2006,
          2007,
          2008,
          2009,
          2010,
          2011,
          2012,
          2013,
          2014,
          2015,
          2016,
          2017,
          2018,
          2019,
          2020,
          2021
         ],
         "xaxis": "x",
         "y": [
          1444452,
          1491548,
          1541423,
          1592404,
          1643914,
          1693450,
          1737622,
          1774963,
          1805785,
          1835238,
          1870510,
          1910691,
          1948834,
          1981982,
          2011996,
          2045379,
          2083702,
          2122244,
          2161314,
          2197097,
          2230843,
          2260547,
          2271444,
          2269109,
          2265429,
          2260669,
          2257134,
          2258350,
          2264331,
          2275695,
          2296339,
          2331422,
          2381980,
          2444448,
          2518777,
          2603190,
          2703069,
          2821606,
          2942115,
          3056339,
          3172001,
          3283920,
          3387410,
          3488261,
          3584315,
          3679027,
          3767004,
          3838230,
          3907769,
          3986775,
          4072263,
          4166008,
          4267505,
          4367998,
          4457428,
          4531492,
          4594863,
          4654972,
          4715276,
          4775593,
          4835906,
          4898549,
          4957966,
          5006035,
          5046934,
          5087940,
          5132359,
          5180192,
          5226864,
          5280190,
          5335160,
          5386202
         ],
         "yaxis": "y"
        }
       ],
       "layout": {
        "legend": {
         "title": {
          "text": "Continent"
         },
         "tracegroupgap": 0
        },
        "template": {
         "data": {
          "bar": [
           {
            "error_x": {
             "color": "#2a3f5f"
            },
            "error_y": {
             "color": "#2a3f5f"
            },
            "marker": {
             "line": {
              "color": "#E5ECF6",
              "width": 0.5
             },
             "pattern": {
              "fillmode": "overlay",
              "size": 10,
              "solidity": 0.2
             }
            },
            "type": "bar"
           }
          ],
          "barpolar": [
           {
            "marker": {
             "line": {
              "color": "#E5ECF6",
              "width": 0.5
             },
             "pattern": {
              "fillmode": "overlay",
              "size": 10,
              "solidity": 0.2
             }
            },
            "type": "barpolar"
           }
          ],
          "carpet": [
           {
            "aaxis": {
             "endlinecolor": "#2a3f5f",
             "gridcolor": "white",
             "linecolor": "white",
             "minorgridcolor": "white",
             "startlinecolor": "#2a3f5f"
            },
            "baxis": {
             "endlinecolor": "#2a3f5f",
             "gridcolor": "white",
             "linecolor": "white",
             "minorgridcolor": "white",
             "startlinecolor": "#2a3f5f"
            },
            "type": "carpet"
           }
          ],
          "choropleth": [
           {
            "colorbar": {
             "outlinewidth": 0,
             "ticks": ""
            },
            "type": "choropleth"
           }
          ],
          "contour": [
           {
            "colorbar": {
             "outlinewidth": 0,
             "ticks": ""
            },
            "colorscale": [
             [
              0,
              "#0d0887"
             ],
             [
              0.1111111111111111,
              "#46039f"
             ],
             [
              0.2222222222222222,
              "#7201a8"
             ],
             [
              0.3333333333333333,
              "#9c179e"
             ],
             [
              0.4444444444444444,
              "#bd3786"
             ],
             [
              0.5555555555555556,
              "#d8576b"
             ],
             [
              0.6666666666666666,
              "#ed7953"
             ],
             [
              0.7777777777777778,
              "#fb9f3a"
             ],
             [
              0.8888888888888888,
              "#fdca26"
             ],
             [
              1,
              "#f0f921"
             ]
            ],
            "type": "contour"
           }
          ],
          "contourcarpet": [
           {
            "colorbar": {
             "outlinewidth": 0,
             "ticks": ""
            },
            "type": "contourcarpet"
           }
          ],
          "heatmap": [
           {
            "colorbar": {
             "outlinewidth": 0,
             "ticks": ""
            },
            "colorscale": [
             [
              0,
              "#0d0887"
             ],
             [
              0.1111111111111111,
              "#46039f"
             ],
             [
              0.2222222222222222,
              "#7201a8"
             ],
             [
              0.3333333333333333,
              "#9c179e"
             ],
             [
              0.4444444444444444,
              "#bd3786"
             ],
             [
              0.5555555555555556,
              "#d8576b"
             ],
             [
              0.6666666666666666,
              "#ed7953"
             ],
             [
              0.7777777777777778,
              "#fb9f3a"
             ],
             [
              0.8888888888888888,
              "#fdca26"
             ],
             [
              1,
              "#f0f921"
             ]
            ],
            "type": "heatmap"
           }
          ],
          "heatmapgl": [
           {
            "colorbar": {
             "outlinewidth": 0,
             "ticks": ""
            },
            "colorscale": [
             [
              0,
              "#0d0887"
             ],
             [
              0.1111111111111111,
              "#46039f"
             ],
             [
              0.2222222222222222,
              "#7201a8"
             ],
             [
              0.3333333333333333,
              "#9c179e"
             ],
             [
              0.4444444444444444,
              "#bd3786"
             ],
             [
              0.5555555555555556,
              "#d8576b"
             ],
             [
              0.6666666666666666,
              "#ed7953"
             ],
             [
              0.7777777777777778,
              "#fb9f3a"
             ],
             [
              0.8888888888888888,
              "#fdca26"
             ],
             [
              1,
              "#f0f921"
             ]
            ],
            "type": "heatmapgl"
           }
          ],
          "histogram": [
           {
            "marker": {
             "pattern": {
              "fillmode": "overlay",
              "size": 10,
              "solidity": 0.2
             }
            },
            "type": "histogram"
           }
          ],
          "histogram2d": [
           {
            "colorbar": {
             "outlinewidth": 0,
             "ticks": ""
            },
            "colorscale": [
             [
              0,
              "#0d0887"
             ],
             [
              0.1111111111111111,
              "#46039f"
             ],
             [
              0.2222222222222222,
              "#7201a8"
             ],
             [
              0.3333333333333333,
              "#9c179e"
             ],
             [
              0.4444444444444444,
              "#bd3786"
             ],
             [
              0.5555555555555556,
              "#d8576b"
             ],
             [
              0.6666666666666666,
              "#ed7953"
             ],
             [
              0.7777777777777778,
              "#fb9f3a"
             ],
             [
              0.8888888888888888,
              "#fdca26"
             ],
             [
              1,
              "#f0f921"
             ]
            ],
            "type": "histogram2d"
           }
          ],
          "histogram2dcontour": [
           {
            "colorbar": {
             "outlinewidth": 0,
             "ticks": ""
            },
            "colorscale": [
             [
              0,
              "#0d0887"
             ],
             [
              0.1111111111111111,
              "#46039f"
             ],
             [
              0.2222222222222222,
              "#7201a8"
             ],
             [
              0.3333333333333333,
              "#9c179e"
             ],
             [
              0.4444444444444444,
              "#bd3786"
             ],
             [
              0.5555555555555556,
              "#d8576b"
             ],
             [
              0.6666666666666666,
              "#ed7953"
             ],
             [
              0.7777777777777778,
              "#fb9f3a"
             ],
             [
              0.8888888888888888,
              "#fdca26"
             ],
             [
              1,
              "#f0f921"
             ]
            ],
            "type": "histogram2dcontour"
           }
          ],
          "mesh3d": [
           {
            "colorbar": {
             "outlinewidth": 0,
             "ticks": ""
            },
            "type": "mesh3d"
           }
          ],
          "parcoords": [
           {
            "line": {
             "colorbar": {
              "outlinewidth": 0,
              "ticks": ""
             }
            },
            "type": "parcoords"
           }
          ],
          "pie": [
           {
            "automargin": true,
            "type": "pie"
           }
          ],
          "scatter": [
           {
            "fillpattern": {
             "fillmode": "overlay",
             "size": 10,
             "solidity": 0.2
            },
            "type": "scatter"
           }
          ],
          "scatter3d": [
           {
            "line": {
             "colorbar": {
              "outlinewidth": 0,
              "ticks": ""
             }
            },
            "marker": {
             "colorbar": {
              "outlinewidth": 0,
              "ticks": ""
             }
            },
            "type": "scatter3d"
           }
          ],
          "scattercarpet": [
           {
            "marker": {
             "colorbar": {
              "outlinewidth": 0,
              "ticks": ""
             }
            },
            "type": "scattercarpet"
           }
          ],
          "scattergeo": [
           {
            "marker": {
             "colorbar": {
              "outlinewidth": 0,
              "ticks": ""
             }
            },
            "type": "scattergeo"
           }
          ],
          "scattergl": [
           {
            "marker": {
             "colorbar": {
              "outlinewidth": 0,
              "ticks": ""
             }
            },
            "type": "scattergl"
           }
          ],
          "scattermapbox": [
           {
            "marker": {
             "colorbar": {
              "outlinewidth": 0,
              "ticks": ""
             }
            },
            "type": "scattermapbox"
           }
          ],
          "scatterpolar": [
           {
            "marker": {
             "colorbar": {
              "outlinewidth": 0,
              "ticks": ""
             }
            },
            "type": "scatterpolar"
           }
          ],
          "scatterpolargl": [
           {
            "marker": {
             "colorbar": {
              "outlinewidth": 0,
              "ticks": ""
             }
            },
            "type": "scatterpolargl"
           }
          ],
          "scatterternary": [
           {
            "marker": {
             "colorbar": {
              "outlinewidth": 0,
              "ticks": ""
             }
            },
            "type": "scatterternary"
           }
          ],
          "surface": [
           {
            "colorbar": {
             "outlinewidth": 0,
             "ticks": ""
            },
            "colorscale": [
             [
              0,
              "#0d0887"
             ],
             [
              0.1111111111111111,
              "#46039f"
             ],
             [
              0.2222222222222222,
              "#7201a8"
             ],
             [
              0.3333333333333333,
              "#9c179e"
             ],
             [
              0.4444444444444444,
              "#bd3786"
             ],
             [
              0.5555555555555556,
              "#d8576b"
             ],
             [
              0.6666666666666666,
              "#ed7953"
             ],
             [
              0.7777777777777778,
              "#fb9f3a"
             ],
             [
              0.8888888888888888,
              "#fdca26"
             ],
             [
              1,
              "#f0f921"
             ]
            ],
            "type": "surface"
           }
          ],
          "table": [
           {
            "cells": {
             "fill": {
              "color": "#EBF0F8"
             },
             "line": {
              "color": "white"
             }
            },
            "header": {
             "fill": {
              "color": "#C8D4E3"
             },
             "line": {
              "color": "white"
             }
            },
            "type": "table"
           }
          ]
         },
         "layout": {
          "annotationdefaults": {
           "arrowcolor": "#2a3f5f",
           "arrowhead": 0,
           "arrowwidth": 1
          },
          "autotypenumbers": "strict",
          "coloraxis": {
           "colorbar": {
            "outlinewidth": 0,
            "ticks": ""
           }
          },
          "colorscale": {
           "diverging": [
            [
             0,
             "#8e0152"
            ],
            [
             0.1,
             "#c51b7d"
            ],
            [
             0.2,
             "#de77ae"
            ],
            [
             0.3,
             "#f1b6da"
            ],
            [
             0.4,
             "#fde0ef"
            ],
            [
             0.5,
             "#f7f7f7"
            ],
            [
             0.6,
             "#e6f5d0"
            ],
            [
             0.7,
             "#b8e186"
            ],
            [
             0.8,
             "#7fbc41"
            ],
            [
             0.9,
             "#4d9221"
            ],
            [
             1,
             "#276419"
            ]
           ],
           "sequential": [
            [
             0,
             "#0d0887"
            ],
            [
             0.1111111111111111,
             "#46039f"
            ],
            [
             0.2222222222222222,
             "#7201a8"
            ],
            [
             0.3333333333333333,
             "#9c179e"
            ],
            [
             0.4444444444444444,
             "#bd3786"
            ],
            [
             0.5555555555555556,
             "#d8576b"
            ],
            [
             0.6666666666666666,
             "#ed7953"
            ],
            [
             0.7777777777777778,
             "#fb9f3a"
            ],
            [
             0.8888888888888888,
             "#fdca26"
            ],
            [
             1,
             "#f0f921"
            ]
           ],
           "sequentialminus": [
            [
             0,
             "#0d0887"
            ],
            [
             0.1111111111111111,
             "#46039f"
            ],
            [
             0.2222222222222222,
             "#7201a8"
            ],
            [
             0.3333333333333333,
             "#9c179e"
            ],
            [
             0.4444444444444444,
             "#bd3786"
            ],
            [
             0.5555555555555556,
             "#d8576b"
            ],
            [
             0.6666666666666666,
             "#ed7953"
            ],
            [
             0.7777777777777778,
             "#fb9f3a"
            ],
            [
             0.8888888888888888,
             "#fdca26"
            ],
            [
             1,
             "#f0f921"
            ]
           ]
          },
          "colorway": [
           "#636efa",
           "#EF553B",
           "#00cc96",
           "#ab63fa",
           "#FFA15A",
           "#19d3f3",
           "#FF6692",
           "#B6E880",
           "#FF97FF",
           "#FECB52"
          ],
          "font": {
           "color": "#2a3f5f"
          },
          "geo": {
           "bgcolor": "white",
           "lakecolor": "white",
           "landcolor": "#E5ECF6",
           "showlakes": true,
           "showland": true,
           "subunitcolor": "white"
          },
          "hoverlabel": {
           "align": "left"
          },
          "hovermode": "closest",
          "mapbox": {
           "style": "light"
          },
          "paper_bgcolor": "white",
          "plot_bgcolor": "#E5ECF6",
          "polar": {
           "angularaxis": {
            "gridcolor": "white",
            "linecolor": "white",
            "ticks": ""
           },
           "bgcolor": "#E5ECF6",
           "radialaxis": {
            "gridcolor": "white",
            "linecolor": "white",
            "ticks": ""
           }
          },
          "scene": {
           "xaxis": {
            "backgroundcolor": "#E5ECF6",
            "gridcolor": "white",
            "gridwidth": 2,
            "linecolor": "white",
            "showbackground": true,
            "ticks": "",
            "zerolinecolor": "white"
           },
           "yaxis": {
            "backgroundcolor": "#E5ECF6",
            "gridcolor": "white",
            "gridwidth": 2,
            "linecolor": "white",
            "showbackground": true,
            "ticks": "",
            "zerolinecolor": "white"
           },
           "zaxis": {
            "backgroundcolor": "#E5ECF6",
            "gridcolor": "white",
            "gridwidth": 2,
            "linecolor": "white",
            "showbackground": true,
            "ticks": "",
            "zerolinecolor": "white"
           }
          },
          "shapedefaults": {
           "line": {
            "color": "#2a3f5f"
           }
          },
          "ternary": {
           "aaxis": {
            "gridcolor": "white",
            "linecolor": "white",
            "ticks": ""
           },
           "baxis": {
            "gridcolor": "white",
            "linecolor": "white",
            "ticks": ""
           },
           "bgcolor": "#E5ECF6",
           "caxis": {
            "gridcolor": "white",
            "linecolor": "white",
            "ticks": ""
           }
          },
          "title": {
           "x": 0.05
          },
          "xaxis": {
           "automargin": true,
           "gridcolor": "white",
           "linecolor": "white",
           "ticks": "",
           "title": {
            "standoff": 15
           },
           "zerolinecolor": "white",
           "zerolinewidth": 2
          },
          "yaxis": {
           "automargin": true,
           "gridcolor": "white",
           "linecolor": "white",
           "ticks": "",
           "title": {
            "standoff": 15
           },
           "zerolinecolor": "white",
           "zerolinewidth": 2
          }
         }
        },
        "title": {
         "text": "Population aged 40 to 49 in every continents between 1950 and 2021"
        },
        "xaxis": {
         "anchor": "y",
         "domain": [
          0,
          1
         ],
         "title": {
          "text": "Year"
         }
        },
        "yaxis": {
         "anchor": "x",
         "domain": [
          0,
          1
         ],
         "title": {
          "text": "Population aged 40 to 49 years"
         }
        }
       }
      }
     },
     "metadata": {},
     "output_type": "display_data"
    }
   ],
   "source": [
    "# Filter the DataFrame to select data related to other continents\n",
    "continents_data = filtered_pop[~filtered_pop['Continents and World'].isin(['World'])]\n",
    "\n",
    "# Columns to include in the plot\n",
    "columns_to_plot = ['Population aged 40 to 49 years']\n",
    "\n",
    "# Create an interactive line plot with multiple curves using Plotly Express\n",
    "fig = px.line(continents_data, x='Year', y='Population aged 40 to 49 years', color='Continents and World', \n",
    "              title='Population aged 40 to 49 in every continents between 1950 and 2021', \n",
    "              labels={'value': 'Population', 'Year': 'Year', 'Continents and World': 'Continent'})\n",
    "\n",
    "# Show the interactive line plot\n",
    "fig.show()"
   ]
  },
  {
   "cell_type": "markdown",
   "metadata": {},
   "source": [
    "## 2.9: Population aged 50 to 59 years"
   ]
  },
  {
   "cell_type": "code",
   "execution_count": 192,
   "metadata": {},
   "outputs": [
    {
     "data": {
      "application/vnd.plotly.v1+json": {
       "config": {
        "plotlyServerURL": "https://plot.ly"
       },
       "data": [
        {
         "hovertemplate": "Continent=Africa (UN)<br>Year=%{x}<br>Population aged 50 to 59 years=%{y}<extra></extra>",
         "legendgroup": "Africa (UN)",
         "line": {
          "color": "#636efa",
          "dash": "solid"
         },
         "marker": {
          "symbol": "circle"
         },
         "mode": "lines",
         "name": "Africa (UN)",
         "orientation": "v",
         "showlegend": true,
         "type": "scatter",
         "x": [
          1950,
          1951,
          1952,
          1953,
          1954,
          1955,
          1956,
          1957,
          1958,
          1959,
          1960,
          1961,
          1962,
          1963,
          1964,
          1965,
          1966,
          1967,
          1968,
          1969,
          1970,
          1971,
          1972,
          1973,
          1974,
          1975,
          1976,
          1977,
          1978,
          1979,
          1980,
          1981,
          1982,
          1983,
          1984,
          1985,
          1986,
          1987,
          1988,
          1989,
          1990,
          1991,
          1992,
          1993,
          1994,
          1995,
          1996,
          1997,
          1998,
          1999,
          2000,
          2001,
          2002,
          2003,
          2004,
          2005,
          2006,
          2007,
          2008,
          2009,
          2010,
          2011,
          2012,
          2013,
          2014,
          2015,
          2016,
          2017,
          2018,
          2019,
          2020,
          2021
         ],
         "xaxis": "x",
         "y": [
          13178286,
          13463632,
          13754924,
          14056554,
          14365597,
          14678065,
          14992830,
          15311008,
          15635979,
          15967202,
          16296948,
          16632785,
          16980790,
          17332800,
          17694584,
          18069304,
          18453984,
          18849314,
          19261884,
          19699580,
          20169500,
          20667692,
          21187204,
          21734352,
          22303486,
          22910616,
          23550010,
          24171508,
          24810274,
          25464132,
          26041108,
          26626460,
          27277488,
          27913076,
          28524530,
          29116372,
          29725156,
          30364668,
          30985178,
          31602252,
          32226764,
          32832222,
          33437924,
          34069292,
          34747460,
          35552510,
          36509416,
          37545124,
          38602172,
          39678320,
          40837640,
          42104692,
          43450370,
          44860176,
          46318412,
          47797636,
          49291628,
          50824016,
          52448932,
          54207332,
          56039196,
          57890660,
          59808660,
          61820250,
          63912930,
          66087336,
          68327384,
          70645490,
          73054320,
          75526640,
          78001390,
          80424990
         ],
         "yaxis": "y"
        },
        {
         "hovertemplate": "Continent=Asia (UN)<br>Year=%{x}<br>Population aged 50 to 59 years=%{y}<extra></extra>",
         "legendgroup": "Asia (UN)",
         "line": {
          "color": "#EF553B",
          "dash": "solid"
         },
         "marker": {
          "symbol": "circle"
         },
         "mode": "lines",
         "name": "Asia (UN)",
         "orientation": "v",
         "showlegend": true,
         "type": "scatter",
         "x": [
          1950,
          1951,
          1952,
          1953,
          1954,
          1955,
          1956,
          1957,
          1958,
          1959,
          1960,
          1961,
          1962,
          1963,
          1964,
          1965,
          1966,
          1967,
          1968,
          1969,
          1970,
          1971,
          1972,
          1973,
          1974,
          1975,
          1976,
          1977,
          1978,
          1979,
          1980,
          1981,
          1982,
          1983,
          1984,
          1985,
          1986,
          1987,
          1988,
          1989,
          1990,
          1991,
          1992,
          1993,
          1994,
          1995,
          1996,
          1997,
          1998,
          1999,
          2000,
          2001,
          2002,
          2003,
          2004,
          2005,
          2006,
          2007,
          2008,
          2009,
          2010,
          2011,
          2012,
          2013,
          2014,
          2015,
          2016,
          2017,
          2018,
          2019,
          2020,
          2021
         ],
         "xaxis": "x",
         "y": [
          95404190,
          97275240,
          99356310,
          101525256,
          103757150,
          105985730,
          108235304,
          110455970,
          112722410,
          115067736,
          117079100,
          118788110,
          120715600,
          122957784,
          125422984,
          127839064,
          130112440,
          132373540,
          134491520,
          136571330,
          139034560,
          141812510,
          144712590,
          147782430,
          151148240,
          154900500,
          158773800,
          162880340,
          167505490,
          172315180,
          177039940,
          181685440,
          186463970,
          191584770,
          196643970,
          201507460,
          206483710,
          211349000,
          215743100,
          219624200,
          223321470,
          227264800,
          231051660,
          234138400,
          237025650,
          240149070,
          243987550,
          249275860,
          256121280,
          264864000,
          275458800,
          286778200,
          299694500,
          314159550,
          329164640,
          344936420,
          359907070,
          374132200,
          386972860,
          395995400,
          402005730,
          406945100,
          414592200,
          428138780,
          442827070,
          455549500,
          467991260,
          479061630,
          491907550,
          508827700,
          527166340,
          545459900
         ],
         "yaxis": "y"
        },
        {
         "hovertemplate": "Continent=Europe (UN)<br>Year=%{x}<br>Population aged 50 to 59 years=%{y}<extra></extra>",
         "legendgroup": "Europe (UN)",
         "line": {
          "color": "#00cc96",
          "dash": "solid"
         },
         "marker": {
          "symbol": "circle"
         },
         "mode": "lines",
         "name": "Europe (UN)",
         "orientation": "v",
         "showlegend": true,
         "type": "scatter",
         "x": [
          1950,
          1951,
          1952,
          1953,
          1954,
          1955,
          1956,
          1957,
          1958,
          1959,
          1960,
          1961,
          1962,
          1963,
          1964,
          1965,
          1966,
          1967,
          1968,
          1969,
          1970,
          1971,
          1972,
          1973,
          1974,
          1975,
          1976,
          1977,
          1978,
          1979,
          1980,
          1981,
          1982,
          1983,
          1984,
          1985,
          1986,
          1987,
          1988,
          1989,
          1990,
          1991,
          1992,
          1993,
          1994,
          1995,
          1996,
          1997,
          1998,
          1999,
          2000,
          2001,
          2002,
          2003,
          2004,
          2005,
          2006,
          2007,
          2008,
          2009,
          2010,
          2011,
          2012,
          2013,
          2014,
          2015,
          2016,
          2017,
          2018,
          2019,
          2020,
          2021
         ],
         "xaxis": "x",
         "y": [
          54132588,
          55577228,
          57102496,
          58676636,
          60248348,
          61838240,
          63361828,
          64806384,
          66275064,
          67734820,
          68979500,
          70032700,
          71078530,
          71973880,
          72636430,
          72565990,
          71266480,
          69133460,
          66971096,
          65295520,
          64456076,
          64334520,
          64367316,
          64684960,
          65349784,
          66818724,
          69552150,
          73085110,
          76712210,
          79748800,
          81831180,
          83004260,
          83628050,
          83693910,
          83353310,
          83168216,
          83217110,
          83536504,
          83934104,
          84278970,
          84468540,
          84458110,
          83990810,
          83151920,
          82374010,
          81269784,
          80616030,
          80752300,
          81060740,
          81725110,
          82714344,
          83980270,
          85996470,
          88639256,
          91483150,
          94486190,
          96768536,
          98138370,
          99255864,
          100156780,
          101083910,
          102162890,
          103074140,
          103860350,
          104469624,
          104750904,
          104827560,
          104745810,
          104565910,
          104287340,
          103832080,
          103272700
         ],
         "yaxis": "y"
        },
        {
         "hovertemplate": "Continent=Latin America and the Caribbean (UN)<br>Year=%{x}<br>Population aged 50 to 59 years=%{y}<extra></extra>",
         "legendgroup": "Latin America and the Caribbean (UN)",
         "line": {
          "color": "#ab63fa",
          "dash": "solid"
         },
         "marker": {
          "symbol": "circle"
         },
         "mode": "lines",
         "name": "Latin America and the Caribbean (UN)",
         "orientation": "v",
         "showlegend": true,
         "type": "scatter",
         "x": [
          1950,
          1951,
          1952,
          1953,
          1954,
          1955,
          1956,
          1957,
          1958,
          1959,
          1960,
          1961,
          1962,
          1963,
          1964,
          1965,
          1966,
          1967,
          1968,
          1969,
          1970,
          1971,
          1972,
          1973,
          1974,
          1975,
          1976,
          1977,
          1978,
          1979,
          1980,
          1981,
          1982,
          1983,
          1984,
          1985,
          1986,
          1987,
          1988,
          1989,
          1990,
          1991,
          1992,
          1993,
          1994,
          1995,
          1996,
          1997,
          1998,
          1999,
          2000,
          2001,
          2002,
          2003,
          2004,
          2005,
          2006,
          2007,
          2008,
          2009,
          2010,
          2011,
          2012,
          2013,
          2014,
          2015,
          2016,
          2017,
          2018,
          2019,
          2020,
          2021
         ],
         "xaxis": "x",
         "y": [
          9612361,
          9919536,
          10244801,
          10582684,
          10925783,
          11267047,
          11603318,
          11935804,
          12271528,
          12620013,
          12984064,
          13360656,
          13743958,
          14127542,
          14505791,
          14873839,
          15226397,
          15564251,
          15896201,
          16232408,
          16582338,
          16963662,
          17385170,
          17845868,
          18348228,
          18886844,
          19461242,
          20075674,
          20716412,
          21355416,
          21976004,
          22576988,
          23161360,
          23729026,
          24276232,
          24808784,
          25342814,
          25885176,
          26441760,
          27026596,
          27655496,
          28327608,
          29033164,
          29776916,
          30572192,
          31419696,
          32315548,
          33281936,
          34333576,
          35490372,
          36757076,
          38095210,
          39492828,
          40954844,
          42477410,
          44056012,
          45681260,
          47334004,
          49008590,
          50685360,
          52352040,
          54050348,
          55793070,
          57547640,
          59281540,
          60958996,
          62545104,
          64037396,
          65447100,
          66773856,
          67976460,
          69049050
         ],
         "yaxis": "y"
        },
        {
         "hovertemplate": "Continent=Northern America (UN)<br>Year=%{x}<br>Population aged 50 to 59 years=%{y}<extra></extra>",
         "legendgroup": "Northern America (UN)",
         "line": {
          "color": "#FFA15A",
          "dash": "solid"
         },
         "marker": {
          "symbol": "circle"
         },
         "mode": "lines",
         "name": "Northern America (UN)",
         "orientation": "v",
         "showlegend": true,
         "type": "scatter",
         "x": [
          1950,
          1951,
          1952,
          1953,
          1954,
          1955,
          1956,
          1957,
          1958,
          1959,
          1960,
          1961,
          1962,
          1963,
          1964,
          1965,
          1966,
          1967,
          1968,
          1969,
          1970,
          1971,
          1972,
          1973,
          1974,
          1975,
          1976,
          1977,
          1978,
          1979,
          1980,
          1981,
          1982,
          1983,
          1984,
          1985,
          1986,
          1987,
          1988,
          1989,
          1990,
          1991,
          1992,
          1993,
          1994,
          1995,
          1996,
          1997,
          1998,
          1999,
          2000,
          2001,
          2002,
          2003,
          2004,
          2005,
          2006,
          2007,
          2008,
          2009,
          2010,
          2011,
          2012,
          2013,
          2014,
          2015,
          2016,
          2017,
          2018,
          2019,
          2020,
          2021
         ],
         "xaxis": "x",
         "y": [
          16497235,
          16626826,
          16865760,
          17170128,
          17345132,
          17572116,
          17831448,
          18097688,
          18409212,
          18761032,
          19182330,
          19724892,
          20203704,
          20629262,
          21077442,
          21383590,
          21685202,
          21942686,
          22047728,
          22317448,
          22726736,
          22956878,
          23102292,
          23557612,
          23988966,
          24158628,
          24440104,
          24840556,
          25224016,
          25511596,
          25664296,
          25738422,
          25758188,
          25515880,
          25255908,
          25175624,
          25085172,
          24944906,
          24895878,
          24846048,
          24880374,
          25088712,
          25490930,
          26220920,
          27019900,
          27799634,
          28844228,
          30290130,
          31748320,
          32930248,
          33916270,
          35482930,
          37193092,
          38445316,
          39909810,
          41554896,
          42890770,
          43845656,
          44823504,
          46057616,
          47452036,
          48233308,
          48683770,
          49305940,
          49727530,
          49903790,
          49817440,
          49566956,
          49250830,
          48962120,
          48698668,
          48326896
         ],
         "yaxis": "y"
        },
        {
         "hovertemplate": "Continent=Oceania (UN)<br>Year=%{x}<br>Population aged 50 to 59 years=%{y}<extra></extra>",
         "legendgroup": "Oceania (UN)",
         "line": {
          "color": "#19d3f3",
          "dash": "solid"
         },
         "marker": {
          "symbol": "circle"
         },
         "mode": "lines",
         "name": "Oceania (UN)",
         "orientation": "v",
         "showlegend": true,
         "type": "scatter",
         "x": [
          1950,
          1951,
          1952,
          1953,
          1954,
          1955,
          1956,
          1957,
          1958,
          1959,
          1960,
          1961,
          1962,
          1963,
          1964,
          1965,
          1966,
          1967,
          1968,
          1969,
          1970,
          1971,
          1972,
          1973,
          1974,
          1975,
          1976,
          1977,
          1978,
          1979,
          1980,
          1981,
          1982,
          1983,
          1984,
          1985,
          1986,
          1987,
          1988,
          1989,
          1990,
          1991,
          1992,
          1993,
          1994,
          1995,
          1996,
          1997,
          1998,
          1999,
          2000,
          2001,
          2002,
          2003,
          2004,
          2005,
          2006,
          2007,
          2008,
          2009,
          2010,
          2011,
          2012,
          2013,
          2014,
          2015,
          2016,
          2017,
          2018,
          2019,
          2020,
          2021
         ],
         "xaxis": "x",
         "y": [
          1113764,
          1127955,
          1141773,
          1157357,
          1176740,
          1201329,
          1230784,
          1263843,
          1299575,
          1336324,
          1373402,
          1412070,
          1453547,
          1498008,
          1542985,
          1584552,
          1619662,
          1644935,
          1661743,
          1678583,
          1711538,
          1762068,
          1810866,
          1851914,
          1889563,
          1927238,
          1966379,
          2004896,
          2042568,
          2074963,
          2096328,
          2105565,
          2105880,
          2102127,
          2096964,
          2094729,
          2099561,
          2110273,
          2125765,
          2149045,
          2185291,
          2233285,
          2285712,
          2344265,
          2416789,
          2501627,
          2603412,
          2727643,
          2854960,
          2973228,
          3087042,
          3196404,
          3302298,
          3404735,
          3498776,
          3587619,
          3667272,
          3733620,
          3805302,
          3891475,
          3987259,
          4089954,
          4192962,
          4289980,
          4375875,
          4447207,
          4508288,
          4564674,
          4622085,
          4688512,
          4757478,
          4823392
         ],
         "yaxis": "y"
        }
       ],
       "layout": {
        "legend": {
         "title": {
          "text": "Continent"
         },
         "tracegroupgap": 0
        },
        "template": {
         "data": {
          "bar": [
           {
            "error_x": {
             "color": "#2a3f5f"
            },
            "error_y": {
             "color": "#2a3f5f"
            },
            "marker": {
             "line": {
              "color": "#E5ECF6",
              "width": 0.5
             },
             "pattern": {
              "fillmode": "overlay",
              "size": 10,
              "solidity": 0.2
             }
            },
            "type": "bar"
           }
          ],
          "barpolar": [
           {
            "marker": {
             "line": {
              "color": "#E5ECF6",
              "width": 0.5
             },
             "pattern": {
              "fillmode": "overlay",
              "size": 10,
              "solidity": 0.2
             }
            },
            "type": "barpolar"
           }
          ],
          "carpet": [
           {
            "aaxis": {
             "endlinecolor": "#2a3f5f",
             "gridcolor": "white",
             "linecolor": "white",
             "minorgridcolor": "white",
             "startlinecolor": "#2a3f5f"
            },
            "baxis": {
             "endlinecolor": "#2a3f5f",
             "gridcolor": "white",
             "linecolor": "white",
             "minorgridcolor": "white",
             "startlinecolor": "#2a3f5f"
            },
            "type": "carpet"
           }
          ],
          "choropleth": [
           {
            "colorbar": {
             "outlinewidth": 0,
             "ticks": ""
            },
            "type": "choropleth"
           }
          ],
          "contour": [
           {
            "colorbar": {
             "outlinewidth": 0,
             "ticks": ""
            },
            "colorscale": [
             [
              0,
              "#0d0887"
             ],
             [
              0.1111111111111111,
              "#46039f"
             ],
             [
              0.2222222222222222,
              "#7201a8"
             ],
             [
              0.3333333333333333,
              "#9c179e"
             ],
             [
              0.4444444444444444,
              "#bd3786"
             ],
             [
              0.5555555555555556,
              "#d8576b"
             ],
             [
              0.6666666666666666,
              "#ed7953"
             ],
             [
              0.7777777777777778,
              "#fb9f3a"
             ],
             [
              0.8888888888888888,
              "#fdca26"
             ],
             [
              1,
              "#f0f921"
             ]
            ],
            "type": "contour"
           }
          ],
          "contourcarpet": [
           {
            "colorbar": {
             "outlinewidth": 0,
             "ticks": ""
            },
            "type": "contourcarpet"
           }
          ],
          "heatmap": [
           {
            "colorbar": {
             "outlinewidth": 0,
             "ticks": ""
            },
            "colorscale": [
             [
              0,
              "#0d0887"
             ],
             [
              0.1111111111111111,
              "#46039f"
             ],
             [
              0.2222222222222222,
              "#7201a8"
             ],
             [
              0.3333333333333333,
              "#9c179e"
             ],
             [
              0.4444444444444444,
              "#bd3786"
             ],
             [
              0.5555555555555556,
              "#d8576b"
             ],
             [
              0.6666666666666666,
              "#ed7953"
             ],
             [
              0.7777777777777778,
              "#fb9f3a"
             ],
             [
              0.8888888888888888,
              "#fdca26"
             ],
             [
              1,
              "#f0f921"
             ]
            ],
            "type": "heatmap"
           }
          ],
          "heatmapgl": [
           {
            "colorbar": {
             "outlinewidth": 0,
             "ticks": ""
            },
            "colorscale": [
             [
              0,
              "#0d0887"
             ],
             [
              0.1111111111111111,
              "#46039f"
             ],
             [
              0.2222222222222222,
              "#7201a8"
             ],
             [
              0.3333333333333333,
              "#9c179e"
             ],
             [
              0.4444444444444444,
              "#bd3786"
             ],
             [
              0.5555555555555556,
              "#d8576b"
             ],
             [
              0.6666666666666666,
              "#ed7953"
             ],
             [
              0.7777777777777778,
              "#fb9f3a"
             ],
             [
              0.8888888888888888,
              "#fdca26"
             ],
             [
              1,
              "#f0f921"
             ]
            ],
            "type": "heatmapgl"
           }
          ],
          "histogram": [
           {
            "marker": {
             "pattern": {
              "fillmode": "overlay",
              "size": 10,
              "solidity": 0.2
             }
            },
            "type": "histogram"
           }
          ],
          "histogram2d": [
           {
            "colorbar": {
             "outlinewidth": 0,
             "ticks": ""
            },
            "colorscale": [
             [
              0,
              "#0d0887"
             ],
             [
              0.1111111111111111,
              "#46039f"
             ],
             [
              0.2222222222222222,
              "#7201a8"
             ],
             [
              0.3333333333333333,
              "#9c179e"
             ],
             [
              0.4444444444444444,
              "#bd3786"
             ],
             [
              0.5555555555555556,
              "#d8576b"
             ],
             [
              0.6666666666666666,
              "#ed7953"
             ],
             [
              0.7777777777777778,
              "#fb9f3a"
             ],
             [
              0.8888888888888888,
              "#fdca26"
             ],
             [
              1,
              "#f0f921"
             ]
            ],
            "type": "histogram2d"
           }
          ],
          "histogram2dcontour": [
           {
            "colorbar": {
             "outlinewidth": 0,
             "ticks": ""
            },
            "colorscale": [
             [
              0,
              "#0d0887"
             ],
             [
              0.1111111111111111,
              "#46039f"
             ],
             [
              0.2222222222222222,
              "#7201a8"
             ],
             [
              0.3333333333333333,
              "#9c179e"
             ],
             [
              0.4444444444444444,
              "#bd3786"
             ],
             [
              0.5555555555555556,
              "#d8576b"
             ],
             [
              0.6666666666666666,
              "#ed7953"
             ],
             [
              0.7777777777777778,
              "#fb9f3a"
             ],
             [
              0.8888888888888888,
              "#fdca26"
             ],
             [
              1,
              "#f0f921"
             ]
            ],
            "type": "histogram2dcontour"
           }
          ],
          "mesh3d": [
           {
            "colorbar": {
             "outlinewidth": 0,
             "ticks": ""
            },
            "type": "mesh3d"
           }
          ],
          "parcoords": [
           {
            "line": {
             "colorbar": {
              "outlinewidth": 0,
              "ticks": ""
             }
            },
            "type": "parcoords"
           }
          ],
          "pie": [
           {
            "automargin": true,
            "type": "pie"
           }
          ],
          "scatter": [
           {
            "fillpattern": {
             "fillmode": "overlay",
             "size": 10,
             "solidity": 0.2
            },
            "type": "scatter"
           }
          ],
          "scatter3d": [
           {
            "line": {
             "colorbar": {
              "outlinewidth": 0,
              "ticks": ""
             }
            },
            "marker": {
             "colorbar": {
              "outlinewidth": 0,
              "ticks": ""
             }
            },
            "type": "scatter3d"
           }
          ],
          "scattercarpet": [
           {
            "marker": {
             "colorbar": {
              "outlinewidth": 0,
              "ticks": ""
             }
            },
            "type": "scattercarpet"
           }
          ],
          "scattergeo": [
           {
            "marker": {
             "colorbar": {
              "outlinewidth": 0,
              "ticks": ""
             }
            },
            "type": "scattergeo"
           }
          ],
          "scattergl": [
           {
            "marker": {
             "colorbar": {
              "outlinewidth": 0,
              "ticks": ""
             }
            },
            "type": "scattergl"
           }
          ],
          "scattermapbox": [
           {
            "marker": {
             "colorbar": {
              "outlinewidth": 0,
              "ticks": ""
             }
            },
            "type": "scattermapbox"
           }
          ],
          "scatterpolar": [
           {
            "marker": {
             "colorbar": {
              "outlinewidth": 0,
              "ticks": ""
             }
            },
            "type": "scatterpolar"
           }
          ],
          "scatterpolargl": [
           {
            "marker": {
             "colorbar": {
              "outlinewidth": 0,
              "ticks": ""
             }
            },
            "type": "scatterpolargl"
           }
          ],
          "scatterternary": [
           {
            "marker": {
             "colorbar": {
              "outlinewidth": 0,
              "ticks": ""
             }
            },
            "type": "scatterternary"
           }
          ],
          "surface": [
           {
            "colorbar": {
             "outlinewidth": 0,
             "ticks": ""
            },
            "colorscale": [
             [
              0,
              "#0d0887"
             ],
             [
              0.1111111111111111,
              "#46039f"
             ],
             [
              0.2222222222222222,
              "#7201a8"
             ],
             [
              0.3333333333333333,
              "#9c179e"
             ],
             [
              0.4444444444444444,
              "#bd3786"
             ],
             [
              0.5555555555555556,
              "#d8576b"
             ],
             [
              0.6666666666666666,
              "#ed7953"
             ],
             [
              0.7777777777777778,
              "#fb9f3a"
             ],
             [
              0.8888888888888888,
              "#fdca26"
             ],
             [
              1,
              "#f0f921"
             ]
            ],
            "type": "surface"
           }
          ],
          "table": [
           {
            "cells": {
             "fill": {
              "color": "#EBF0F8"
             },
             "line": {
              "color": "white"
             }
            },
            "header": {
             "fill": {
              "color": "#C8D4E3"
             },
             "line": {
              "color": "white"
             }
            },
            "type": "table"
           }
          ]
         },
         "layout": {
          "annotationdefaults": {
           "arrowcolor": "#2a3f5f",
           "arrowhead": 0,
           "arrowwidth": 1
          },
          "autotypenumbers": "strict",
          "coloraxis": {
           "colorbar": {
            "outlinewidth": 0,
            "ticks": ""
           }
          },
          "colorscale": {
           "diverging": [
            [
             0,
             "#8e0152"
            ],
            [
             0.1,
             "#c51b7d"
            ],
            [
             0.2,
             "#de77ae"
            ],
            [
             0.3,
             "#f1b6da"
            ],
            [
             0.4,
             "#fde0ef"
            ],
            [
             0.5,
             "#f7f7f7"
            ],
            [
             0.6,
             "#e6f5d0"
            ],
            [
             0.7,
             "#b8e186"
            ],
            [
             0.8,
             "#7fbc41"
            ],
            [
             0.9,
             "#4d9221"
            ],
            [
             1,
             "#276419"
            ]
           ],
           "sequential": [
            [
             0,
             "#0d0887"
            ],
            [
             0.1111111111111111,
             "#46039f"
            ],
            [
             0.2222222222222222,
             "#7201a8"
            ],
            [
             0.3333333333333333,
             "#9c179e"
            ],
            [
             0.4444444444444444,
             "#bd3786"
            ],
            [
             0.5555555555555556,
             "#d8576b"
            ],
            [
             0.6666666666666666,
             "#ed7953"
            ],
            [
             0.7777777777777778,
             "#fb9f3a"
            ],
            [
             0.8888888888888888,
             "#fdca26"
            ],
            [
             1,
             "#f0f921"
            ]
           ],
           "sequentialminus": [
            [
             0,
             "#0d0887"
            ],
            [
             0.1111111111111111,
             "#46039f"
            ],
            [
             0.2222222222222222,
             "#7201a8"
            ],
            [
             0.3333333333333333,
             "#9c179e"
            ],
            [
             0.4444444444444444,
             "#bd3786"
            ],
            [
             0.5555555555555556,
             "#d8576b"
            ],
            [
             0.6666666666666666,
             "#ed7953"
            ],
            [
             0.7777777777777778,
             "#fb9f3a"
            ],
            [
             0.8888888888888888,
             "#fdca26"
            ],
            [
             1,
             "#f0f921"
            ]
           ]
          },
          "colorway": [
           "#636efa",
           "#EF553B",
           "#00cc96",
           "#ab63fa",
           "#FFA15A",
           "#19d3f3",
           "#FF6692",
           "#B6E880",
           "#FF97FF",
           "#FECB52"
          ],
          "font": {
           "color": "#2a3f5f"
          },
          "geo": {
           "bgcolor": "white",
           "lakecolor": "white",
           "landcolor": "#E5ECF6",
           "showlakes": true,
           "showland": true,
           "subunitcolor": "white"
          },
          "hoverlabel": {
           "align": "left"
          },
          "hovermode": "closest",
          "mapbox": {
           "style": "light"
          },
          "paper_bgcolor": "white",
          "plot_bgcolor": "#E5ECF6",
          "polar": {
           "angularaxis": {
            "gridcolor": "white",
            "linecolor": "white",
            "ticks": ""
           },
           "bgcolor": "#E5ECF6",
           "radialaxis": {
            "gridcolor": "white",
            "linecolor": "white",
            "ticks": ""
           }
          },
          "scene": {
           "xaxis": {
            "backgroundcolor": "#E5ECF6",
            "gridcolor": "white",
            "gridwidth": 2,
            "linecolor": "white",
            "showbackground": true,
            "ticks": "",
            "zerolinecolor": "white"
           },
           "yaxis": {
            "backgroundcolor": "#E5ECF6",
            "gridcolor": "white",
            "gridwidth": 2,
            "linecolor": "white",
            "showbackground": true,
            "ticks": "",
            "zerolinecolor": "white"
           },
           "zaxis": {
            "backgroundcolor": "#E5ECF6",
            "gridcolor": "white",
            "gridwidth": 2,
            "linecolor": "white",
            "showbackground": true,
            "ticks": "",
            "zerolinecolor": "white"
           }
          },
          "shapedefaults": {
           "line": {
            "color": "#2a3f5f"
           }
          },
          "ternary": {
           "aaxis": {
            "gridcolor": "white",
            "linecolor": "white",
            "ticks": ""
           },
           "baxis": {
            "gridcolor": "white",
            "linecolor": "white",
            "ticks": ""
           },
           "bgcolor": "#E5ECF6",
           "caxis": {
            "gridcolor": "white",
            "linecolor": "white",
            "ticks": ""
           }
          },
          "title": {
           "x": 0.05
          },
          "xaxis": {
           "automargin": true,
           "gridcolor": "white",
           "linecolor": "white",
           "ticks": "",
           "title": {
            "standoff": 15
           },
           "zerolinecolor": "white",
           "zerolinewidth": 2
          },
          "yaxis": {
           "automargin": true,
           "gridcolor": "white",
           "linecolor": "white",
           "ticks": "",
           "title": {
            "standoff": 15
           },
           "zerolinecolor": "white",
           "zerolinewidth": 2
          }
         }
        },
        "title": {
         "text": "Population aged 50 to 59 in every continents between 1950 and 2021"
        },
        "xaxis": {
         "anchor": "y",
         "domain": [
          0,
          1
         ],
         "title": {
          "text": "Year"
         }
        },
        "yaxis": {
         "anchor": "x",
         "domain": [
          0,
          1
         ],
         "title": {
          "text": "Population aged 50 to 59 years"
         }
        }
       }
      }
     },
     "metadata": {},
     "output_type": "display_data"
    }
   ],
   "source": [
    "# Filter the DataFrame to select data related to other continents\n",
    "continents_data = filtered_pop[~filtered_pop['Continents and World'].isin(['World'])]\n",
    "\n",
    "# Columns to include in the plot\n",
    "columns_to_plot = ['Population aged 50 to 59 years']\n",
    "\n",
    "# Create an interactive line plot with multiple curves using Plotly Express\n",
    "fig = px.line(continents_data, x='Year', y='Population aged 50 to 59 years', color='Continents and World', \n",
    "              title='Population aged 50 to 59 in every continents between 1950 and 2021', \n",
    "              labels={'value': 'Population', 'Year': 'Year', 'Continents and World': 'Continent'})\n",
    "\n",
    "# Show the interactive line plot\n",
    "fig.show()"
   ]
  },
  {
   "cell_type": "markdown",
   "metadata": {},
   "source": [
    "## 2.10: Population aged 60 to 69 years"
   ]
  },
  {
   "cell_type": "code",
   "execution_count": 193,
   "metadata": {},
   "outputs": [
    {
     "data": {
      "application/vnd.plotly.v1+json": {
       "config": {
        "plotlyServerURL": "https://plot.ly"
       },
       "data": [
        {
         "hovertemplate": "Continent=Africa (UN)<br>Year=%{x}<br>Population aged 60 to 69 years=%{y}<extra></extra>",
         "legendgroup": "Africa (UN)",
         "line": {
          "color": "#636efa",
          "dash": "solid"
         },
         "marker": {
          "symbol": "circle"
         },
         "mode": "lines",
         "name": "Africa (UN)",
         "orientation": "v",
         "showlegend": true,
         "type": "scatter",
         "x": [
          1950,
          1951,
          1952,
          1953,
          1954,
          1955,
          1956,
          1957,
          1958,
          1959,
          1960,
          1961,
          1962,
          1963,
          1964,
          1965,
          1966,
          1967,
          1968,
          1969,
          1970,
          1971,
          1972,
          1973,
          1974,
          1975,
          1976,
          1977,
          1978,
          1979,
          1980,
          1981,
          1982,
          1983,
          1984,
          1985,
          1986,
          1987,
          1988,
          1989,
          1990,
          1991,
          1992,
          1993,
          1994,
          1995,
          1996,
          1997,
          1998,
          1999,
          2000,
          2001,
          2002,
          2003,
          2004,
          2005,
          2006,
          2007,
          2008,
          2009,
          2010,
          2011,
          2012,
          2013,
          2014,
          2015,
          2016,
          2017,
          2018,
          2019,
          2020,
          2021
         ],
         "xaxis": "x",
         "y": [
          7893063,
          8015908,
          8147429,
          8291982,
          8451841,
          8626941,
          8813478,
          9008590,
          9212907,
          9427336,
          9650126,
          9883985,
          10126575,
          10372185,
          10623715,
          10878859,
          11135899,
          11397658,
          11669347,
          11948983,
          12233001,
          12520622,
          12809310,
          13106875,
          13421388,
          13778029,
          14176617,
          14559420,
          14946269,
          15362351,
          15737333,
          16120850,
          16558777,
          16984696,
          17422252,
          17906074,
          18405478,
          18910528,
          19412070,
          19914824,
          20426430,
          20932296,
          21443818,
          21934436,
          22351812,
          22765780,
          23268576,
          23793400,
          24265794,
          24713916,
          25176544,
          25668104,
          26195872,
          26763772,
          27394464,
          28121216,
          28943736,
          29844216,
          30778464,
          31729680,
          32763440,
          33895948,
          35098416,
          36366216,
          37680692,
          39015176,
          40354708,
          41723896,
          43190732,
          44771480,
          46314650,
          47745744
         ],
         "yaxis": "y"
        },
        {
         "hovertemplate": "Continent=Asia (UN)<br>Year=%{x}<br>Population aged 60 to 69 years=%{y}<extra></extra>",
         "legendgroup": "Asia (UN)",
         "line": {
          "color": "#EF553B",
          "dash": "solid"
         },
         "marker": {
          "symbol": "circle"
         },
         "mode": "lines",
         "name": "Asia (UN)",
         "orientation": "v",
         "showlegend": true,
         "type": "scatter",
         "x": [
          1950,
          1951,
          1952,
          1953,
          1954,
          1955,
          1956,
          1957,
          1958,
          1959,
          1960,
          1961,
          1962,
          1963,
          1964,
          1965,
          1966,
          1967,
          1968,
          1969,
          1970,
          1971,
          1972,
          1973,
          1974,
          1975,
          1976,
          1977,
          1978,
          1979,
          1980,
          1981,
          1982,
          1983,
          1984,
          1985,
          1986,
          1987,
          1988,
          1989,
          1990,
          1991,
          1992,
          1993,
          1994,
          1995,
          1996,
          1997,
          1998,
          1999,
          2000,
          2001,
          2002,
          2003,
          2004,
          2005,
          2006,
          2007,
          2008,
          2009,
          2010,
          2011,
          2012,
          2013,
          2014,
          2015,
          2016,
          2017,
          2018,
          2019,
          2020,
          2021
         ],
         "xaxis": "x",
         "y": [
          59557764,
          59914492,
          60423012,
          61161500,
          62098856,
          63177212,
          64280350,
          65378780,
          66503456,
          67499260,
          68456056,
          69800760,
          71602070,
          73640330,
          75716460,
          77745090,
          79777544,
          81812910,
          83908900,
          86182456,
          88394870,
          90320080,
          92225840,
          94381280,
          96764140,
          99163350,
          101536616,
          103920184,
          106144296,
          108326740,
          110821180,
          113581896,
          116408380,
          119338650,
          122572280,
          126175210,
          129888380,
          133794280,
          138143970,
          142639100,
          147037860,
          151359000,
          155794050,
          160518510,
          165156640,
          169624350,
          174209220,
          178710910,
          182842240,
          186560180,
          190161810,
          193992720,
          197645900,
          200703800,
          203635250,
          206817150,
          210710190,
          215963180,
          222655170,
          231095250,
          241275920,
          252082480,
          264209360,
          277641200,
          291461120,
          305917060,
          319608220,
          332579970,
          344238300,
          352325250,
          357368160,
          360717800
         ],
         "yaxis": "y"
        },
        {
         "hovertemplate": "Continent=Europe (UN)<br>Year=%{x}<br>Population aged 60 to 69 years=%{y}<extra></extra>",
         "legendgroup": "Europe (UN)",
         "line": {
          "color": "#00cc96",
          "dash": "solid"
         },
         "marker": {
          "symbol": "circle"
         },
         "mode": "lines",
         "name": "Europe (UN)",
         "orientation": "v",
         "showlegend": true,
         "type": "scatter",
         "x": [
          1950,
          1951,
          1952,
          1953,
          1954,
          1955,
          1956,
          1957,
          1958,
          1959,
          1960,
          1961,
          1962,
          1963,
          1964,
          1965,
          1966,
          1967,
          1968,
          1969,
          1970,
          1971,
          1972,
          1973,
          1974,
          1975,
          1976,
          1977,
          1978,
          1979,
          1980,
          1981,
          1982,
          1983,
          1984,
          1985,
          1986,
          1987,
          1988,
          1989,
          1990,
          1991,
          1992,
          1993,
          1994,
          1995,
          1996,
          1997,
          1998,
          1999,
          2000,
          2001,
          2002,
          2003,
          2004,
          2005,
          2006,
          2007,
          2008,
          2009,
          2010,
          2011,
          2012,
          2013,
          2014,
          2015,
          2016,
          2017,
          2018,
          2019,
          2020,
          2021
         ],
         "xaxis": "x",
         "y": [
          38214948,
          38679680,
          39171532,
          39735560,
          40342030,
          40972996,
          41723210,
          42539610,
          43523456,
          44625860,
          45990040,
          47476524,
          48881924,
          50349010,
          51814964,
          53271604,
          54671508,
          56104844,
          57536030,
          58882840,
          59991064,
          60895160,
          61808120,
          62592096,
          63157532,
          63037904,
          61810984,
          59859216,
          57922580,
          56505144,
          55845844,
          55835824,
          55947612,
          56262330,
          56904664,
          58222430,
          60598904,
          63628816,
          66797060,
          69466150,
          71286170,
          72371170,
          72967500,
          73013980,
          72642670,
          72421940,
          72440480,
          72760856,
          73211170,
          73625784,
          73889190,
          73914270,
          73518470,
          72825870,
          72228640,
          71405960,
          71063064,
          71495130,
          72106600,
          73034540,
          74208270,
          75612340,
          77589880,
          79980740,
          82490520,
          85126504,
          87153170,
          88401200,
          89469090,
          90422296,
          91386270,
          92337750
         ],
         "yaxis": "y"
        },
        {
         "hovertemplate": "Continent=Latin America and the Caribbean (UN)<br>Year=%{x}<br>Population aged 60 to 69 years=%{y}<extra></extra>",
         "legendgroup": "Latin America and the Caribbean (UN)",
         "line": {
          "color": "#ab63fa",
          "dash": "solid"
         },
         "marker": {
          "symbol": "circle"
         },
         "mode": "lines",
         "name": "Latin America and the Caribbean (UN)",
         "orientation": "v",
         "showlegend": true,
         "type": "scatter",
         "x": [
          1950,
          1951,
          1952,
          1953,
          1954,
          1955,
          1956,
          1957,
          1958,
          1959,
          1960,
          1961,
          1962,
          1963,
          1964,
          1965,
          1966,
          1967,
          1968,
          1969,
          1970,
          1971,
          1972,
          1973,
          1974,
          1975,
          1976,
          1977,
          1978,
          1979,
          1980,
          1981,
          1982,
          1983,
          1984,
          1985,
          1986,
          1987,
          1988,
          1989,
          1990,
          1991,
          1992,
          1993,
          1994,
          1995,
          1996,
          1997,
          1998,
          1999,
          2000,
          2001,
          2002,
          2003,
          2004,
          2005,
          2006,
          2007,
          2008,
          2009,
          2010,
          2011,
          2012,
          2013,
          2014,
          2015,
          2016,
          2017,
          2018,
          2019,
          2020,
          2021
         ],
         "xaxis": "x",
         "y": [
          5592103,
          5754810,
          5919212,
          6087017,
          6257275,
          6430628,
          6612384,
          6807318,
          7017431,
          7244966,
          7496573,
          7773695,
          8066523,
          8367746,
          8671560,
          8973244,
          9271622,
          9568420,
          9869235,
          10178978,
          10494004,
          10824154,
          11170136,
          11516864,
          11858571,
          12191544,
          12512974,
          12826359,
          13142262,
          13468669,
          13807906,
          14160735,
          14536298,
          14944007,
          15386656,
          15861283,
          16371557,
          16920134,
          17492966,
          18066266,
          18630716,
          19190476,
          19741578,
          20282962,
          20817920,
          21348200,
          21887314,
          22442498,
          23014124,
          23611344,
          24228710,
          24864896,
          25528564,
          26223044,
          26956348,
          27732892,
          28552896,
          29434720,
          30398438,
          31462022,
          32615308,
          33847620,
          35158416,
          36536360,
          37977830,
          39472372,
          41010570,
          42579732,
          44168500,
          45733264,
          47174596,
          48489804
         ],
         "yaxis": "y"
        },
        {
         "hovertemplate": "Continent=Northern America (UN)<br>Year=%{x}<br>Population aged 60 to 69 years=%{y}<extra></extra>",
         "legendgroup": "Northern America (UN)",
         "line": {
          "color": "#FFA15A",
          "dash": "solid"
         },
         "marker": {
          "symbol": "circle"
         },
         "mode": "lines",
         "name": "Northern America (UN)",
         "orientation": "v",
         "showlegend": true,
         "type": "scatter",
         "x": [
          1950,
          1951,
          1952,
          1953,
          1954,
          1955,
          1956,
          1957,
          1958,
          1959,
          1960,
          1961,
          1962,
          1963,
          1964,
          1965,
          1966,
          1967,
          1968,
          1969,
          1970,
          1971,
          1972,
          1973,
          1974,
          1975,
          1976,
          1977,
          1978,
          1979,
          1980,
          1981,
          1982,
          1983,
          1984,
          1985,
          1986,
          1987,
          1988,
          1989,
          1990,
          1991,
          1992,
          1993,
          1994,
          1995,
          1996,
          1997,
          1998,
          1999,
          2000,
          2001,
          2002,
          2003,
          2004,
          2005,
          2006,
          2007,
          2008,
          2009,
          2010,
          2011,
          2012,
          2013,
          2014,
          2015,
          2016,
          2017,
          2018,
          2019,
          2020,
          2021
         ],
         "xaxis": "x",
         "y": [
          11834653,
          12134205,
          12379698,
          12562622,
          12785557,
          13053299,
          13293792,
          13519442,
          13782666,
          14024198,
          14172911,
          14270220,
          14486007,
          14713601,
          14843224,
          15052865,
          15314953,
          15604584,
          15924264,
          16268526,
          16680688,
          17195022,
          17672714,
          18100300,
          18537302,
          18860792,
          19172646,
          19431600,
          19574036,
          19905892,
          20366746,
          20643722,
          20804524,
          21213188,
          21610196,
          21747454,
          21973690,
          22292952,
          22586428,
          22862272,
          23055776,
          23189084,
          23268428,
          23128332,
          23005768,
          23054004,
          23097008,
          23072722,
          23118172,
          23160488,
          23263812,
          23509380,
          23900854,
          24571340,
          25322972,
          26087656,
          27107488,
          28476050,
          29880670,
          31057596,
          32018602,
          33453654,
          34983390,
          36113664,
          37454136,
          38971690,
          40175064,
          41014156,
          41914588,
          43062796,
          44316910,
          44943370
         ],
         "yaxis": "y"
        },
        {
         "hovertemplate": "Continent=Oceania (UN)<br>Year=%{x}<br>Population aged 60 to 69 years=%{y}<extra></extra>",
         "legendgroup": "Oceania (UN)",
         "line": {
          "color": "#19d3f3",
          "dash": "solid"
         },
         "marker": {
          "symbol": "circle"
         },
         "mode": "lines",
         "name": "Oceania (UN)",
         "orientation": "v",
         "showlegend": true,
         "type": "scatter",
         "x": [
          1950,
          1951,
          1952,
          1953,
          1954,
          1955,
          1956,
          1957,
          1958,
          1959,
          1960,
          1961,
          1962,
          1963,
          1964,
          1965,
          1966,
          1967,
          1968,
          1969,
          1970,
          1971,
          1972,
          1973,
          1974,
          1975,
          1976,
          1977,
          1978,
          1979,
          1980,
          1981,
          1982,
          1983,
          1984,
          1985,
          1986,
          1987,
          1988,
          1989,
          1990,
          1991,
          1992,
          1993,
          1994,
          1995,
          1996,
          1997,
          1998,
          1999,
          2000,
          2001,
          2002,
          2003,
          2004,
          2005,
          2006,
          2007,
          2008,
          2009,
          2010,
          2011,
          2012,
          2013,
          2014,
          2015,
          2016,
          2017,
          2018,
          2019,
          2020,
          2021
         ],
         "xaxis": "x",
         "y": [
          827088,
          842659,
          858654,
          872876,
          883838,
          893024,
          902291,
          911848,
          920763,
          929679,
          940604,
          952809,
          965598,
          979783,
          996103,
          1016234,
          1039517,
          1064170,
          1090700,
          1118033,
          1151426,
          1194206,
          1236217,
          1275792,
          1316070,
          1353102,
          1384703,
          1411331,
          1433384,
          1455900,
          1487359,
          1526279,
          1564798,
          1599969,
          1632590,
          1666791,
          1704199,
          1742628,
          1781797,
          1817289,
          1846521,
          1867328,
          1875701,
          1877734,
          1880051,
          1884602,
          1894947,
          1913405,
          1938588,
          1970658,
          2010295,
          2057744,
          2111731,
          2172334,
          2244312,
          2325842,
          2422404,
          2539038,
          2656803,
          2765162,
          2869290,
          2969150,
          3067171,
          3165322,
          3256433,
          3342172,
          3420569,
          3486705,
          3557741,
          3645271,
          3738729,
          3832682
         ],
         "yaxis": "y"
        }
       ],
       "layout": {
        "legend": {
         "title": {
          "text": "Continent"
         },
         "tracegroupgap": 0
        },
        "template": {
         "data": {
          "bar": [
           {
            "error_x": {
             "color": "#2a3f5f"
            },
            "error_y": {
             "color": "#2a3f5f"
            },
            "marker": {
             "line": {
              "color": "#E5ECF6",
              "width": 0.5
             },
             "pattern": {
              "fillmode": "overlay",
              "size": 10,
              "solidity": 0.2
             }
            },
            "type": "bar"
           }
          ],
          "barpolar": [
           {
            "marker": {
             "line": {
              "color": "#E5ECF6",
              "width": 0.5
             },
             "pattern": {
              "fillmode": "overlay",
              "size": 10,
              "solidity": 0.2
             }
            },
            "type": "barpolar"
           }
          ],
          "carpet": [
           {
            "aaxis": {
             "endlinecolor": "#2a3f5f",
             "gridcolor": "white",
             "linecolor": "white",
             "minorgridcolor": "white",
             "startlinecolor": "#2a3f5f"
            },
            "baxis": {
             "endlinecolor": "#2a3f5f",
             "gridcolor": "white",
             "linecolor": "white",
             "minorgridcolor": "white",
             "startlinecolor": "#2a3f5f"
            },
            "type": "carpet"
           }
          ],
          "choropleth": [
           {
            "colorbar": {
             "outlinewidth": 0,
             "ticks": ""
            },
            "type": "choropleth"
           }
          ],
          "contour": [
           {
            "colorbar": {
             "outlinewidth": 0,
             "ticks": ""
            },
            "colorscale": [
             [
              0,
              "#0d0887"
             ],
             [
              0.1111111111111111,
              "#46039f"
             ],
             [
              0.2222222222222222,
              "#7201a8"
             ],
             [
              0.3333333333333333,
              "#9c179e"
             ],
             [
              0.4444444444444444,
              "#bd3786"
             ],
             [
              0.5555555555555556,
              "#d8576b"
             ],
             [
              0.6666666666666666,
              "#ed7953"
             ],
             [
              0.7777777777777778,
              "#fb9f3a"
             ],
             [
              0.8888888888888888,
              "#fdca26"
             ],
             [
              1,
              "#f0f921"
             ]
            ],
            "type": "contour"
           }
          ],
          "contourcarpet": [
           {
            "colorbar": {
             "outlinewidth": 0,
             "ticks": ""
            },
            "type": "contourcarpet"
           }
          ],
          "heatmap": [
           {
            "colorbar": {
             "outlinewidth": 0,
             "ticks": ""
            },
            "colorscale": [
             [
              0,
              "#0d0887"
             ],
             [
              0.1111111111111111,
              "#46039f"
             ],
             [
              0.2222222222222222,
              "#7201a8"
             ],
             [
              0.3333333333333333,
              "#9c179e"
             ],
             [
              0.4444444444444444,
              "#bd3786"
             ],
             [
              0.5555555555555556,
              "#d8576b"
             ],
             [
              0.6666666666666666,
              "#ed7953"
             ],
             [
              0.7777777777777778,
              "#fb9f3a"
             ],
             [
              0.8888888888888888,
              "#fdca26"
             ],
             [
              1,
              "#f0f921"
             ]
            ],
            "type": "heatmap"
           }
          ],
          "heatmapgl": [
           {
            "colorbar": {
             "outlinewidth": 0,
             "ticks": ""
            },
            "colorscale": [
             [
              0,
              "#0d0887"
             ],
             [
              0.1111111111111111,
              "#46039f"
             ],
             [
              0.2222222222222222,
              "#7201a8"
             ],
             [
              0.3333333333333333,
              "#9c179e"
             ],
             [
              0.4444444444444444,
              "#bd3786"
             ],
             [
              0.5555555555555556,
              "#d8576b"
             ],
             [
              0.6666666666666666,
              "#ed7953"
             ],
             [
              0.7777777777777778,
              "#fb9f3a"
             ],
             [
              0.8888888888888888,
              "#fdca26"
             ],
             [
              1,
              "#f0f921"
             ]
            ],
            "type": "heatmapgl"
           }
          ],
          "histogram": [
           {
            "marker": {
             "pattern": {
              "fillmode": "overlay",
              "size": 10,
              "solidity": 0.2
             }
            },
            "type": "histogram"
           }
          ],
          "histogram2d": [
           {
            "colorbar": {
             "outlinewidth": 0,
             "ticks": ""
            },
            "colorscale": [
             [
              0,
              "#0d0887"
             ],
             [
              0.1111111111111111,
              "#46039f"
             ],
             [
              0.2222222222222222,
              "#7201a8"
             ],
             [
              0.3333333333333333,
              "#9c179e"
             ],
             [
              0.4444444444444444,
              "#bd3786"
             ],
             [
              0.5555555555555556,
              "#d8576b"
             ],
             [
              0.6666666666666666,
              "#ed7953"
             ],
             [
              0.7777777777777778,
              "#fb9f3a"
             ],
             [
              0.8888888888888888,
              "#fdca26"
             ],
             [
              1,
              "#f0f921"
             ]
            ],
            "type": "histogram2d"
           }
          ],
          "histogram2dcontour": [
           {
            "colorbar": {
             "outlinewidth": 0,
             "ticks": ""
            },
            "colorscale": [
             [
              0,
              "#0d0887"
             ],
             [
              0.1111111111111111,
              "#46039f"
             ],
             [
              0.2222222222222222,
              "#7201a8"
             ],
             [
              0.3333333333333333,
              "#9c179e"
             ],
             [
              0.4444444444444444,
              "#bd3786"
             ],
             [
              0.5555555555555556,
              "#d8576b"
             ],
             [
              0.6666666666666666,
              "#ed7953"
             ],
             [
              0.7777777777777778,
              "#fb9f3a"
             ],
             [
              0.8888888888888888,
              "#fdca26"
             ],
             [
              1,
              "#f0f921"
             ]
            ],
            "type": "histogram2dcontour"
           }
          ],
          "mesh3d": [
           {
            "colorbar": {
             "outlinewidth": 0,
             "ticks": ""
            },
            "type": "mesh3d"
           }
          ],
          "parcoords": [
           {
            "line": {
             "colorbar": {
              "outlinewidth": 0,
              "ticks": ""
             }
            },
            "type": "parcoords"
           }
          ],
          "pie": [
           {
            "automargin": true,
            "type": "pie"
           }
          ],
          "scatter": [
           {
            "fillpattern": {
             "fillmode": "overlay",
             "size": 10,
             "solidity": 0.2
            },
            "type": "scatter"
           }
          ],
          "scatter3d": [
           {
            "line": {
             "colorbar": {
              "outlinewidth": 0,
              "ticks": ""
             }
            },
            "marker": {
             "colorbar": {
              "outlinewidth": 0,
              "ticks": ""
             }
            },
            "type": "scatter3d"
           }
          ],
          "scattercarpet": [
           {
            "marker": {
             "colorbar": {
              "outlinewidth": 0,
              "ticks": ""
             }
            },
            "type": "scattercarpet"
           }
          ],
          "scattergeo": [
           {
            "marker": {
             "colorbar": {
              "outlinewidth": 0,
              "ticks": ""
             }
            },
            "type": "scattergeo"
           }
          ],
          "scattergl": [
           {
            "marker": {
             "colorbar": {
              "outlinewidth": 0,
              "ticks": ""
             }
            },
            "type": "scattergl"
           }
          ],
          "scattermapbox": [
           {
            "marker": {
             "colorbar": {
              "outlinewidth": 0,
              "ticks": ""
             }
            },
            "type": "scattermapbox"
           }
          ],
          "scatterpolar": [
           {
            "marker": {
             "colorbar": {
              "outlinewidth": 0,
              "ticks": ""
             }
            },
            "type": "scatterpolar"
           }
          ],
          "scatterpolargl": [
           {
            "marker": {
             "colorbar": {
              "outlinewidth": 0,
              "ticks": ""
             }
            },
            "type": "scatterpolargl"
           }
          ],
          "scatterternary": [
           {
            "marker": {
             "colorbar": {
              "outlinewidth": 0,
              "ticks": ""
             }
            },
            "type": "scatterternary"
           }
          ],
          "surface": [
           {
            "colorbar": {
             "outlinewidth": 0,
             "ticks": ""
            },
            "colorscale": [
             [
              0,
              "#0d0887"
             ],
             [
              0.1111111111111111,
              "#46039f"
             ],
             [
              0.2222222222222222,
              "#7201a8"
             ],
             [
              0.3333333333333333,
              "#9c179e"
             ],
             [
              0.4444444444444444,
              "#bd3786"
             ],
             [
              0.5555555555555556,
              "#d8576b"
             ],
             [
              0.6666666666666666,
              "#ed7953"
             ],
             [
              0.7777777777777778,
              "#fb9f3a"
             ],
             [
              0.8888888888888888,
              "#fdca26"
             ],
             [
              1,
              "#f0f921"
             ]
            ],
            "type": "surface"
           }
          ],
          "table": [
           {
            "cells": {
             "fill": {
              "color": "#EBF0F8"
             },
             "line": {
              "color": "white"
             }
            },
            "header": {
             "fill": {
              "color": "#C8D4E3"
             },
             "line": {
              "color": "white"
             }
            },
            "type": "table"
           }
          ]
         },
         "layout": {
          "annotationdefaults": {
           "arrowcolor": "#2a3f5f",
           "arrowhead": 0,
           "arrowwidth": 1
          },
          "autotypenumbers": "strict",
          "coloraxis": {
           "colorbar": {
            "outlinewidth": 0,
            "ticks": ""
           }
          },
          "colorscale": {
           "diverging": [
            [
             0,
             "#8e0152"
            ],
            [
             0.1,
             "#c51b7d"
            ],
            [
             0.2,
             "#de77ae"
            ],
            [
             0.3,
             "#f1b6da"
            ],
            [
             0.4,
             "#fde0ef"
            ],
            [
             0.5,
             "#f7f7f7"
            ],
            [
             0.6,
             "#e6f5d0"
            ],
            [
             0.7,
             "#b8e186"
            ],
            [
             0.8,
             "#7fbc41"
            ],
            [
             0.9,
             "#4d9221"
            ],
            [
             1,
             "#276419"
            ]
           ],
           "sequential": [
            [
             0,
             "#0d0887"
            ],
            [
             0.1111111111111111,
             "#46039f"
            ],
            [
             0.2222222222222222,
             "#7201a8"
            ],
            [
             0.3333333333333333,
             "#9c179e"
            ],
            [
             0.4444444444444444,
             "#bd3786"
            ],
            [
             0.5555555555555556,
             "#d8576b"
            ],
            [
             0.6666666666666666,
             "#ed7953"
            ],
            [
             0.7777777777777778,
             "#fb9f3a"
            ],
            [
             0.8888888888888888,
             "#fdca26"
            ],
            [
             1,
             "#f0f921"
            ]
           ],
           "sequentialminus": [
            [
             0,
             "#0d0887"
            ],
            [
             0.1111111111111111,
             "#46039f"
            ],
            [
             0.2222222222222222,
             "#7201a8"
            ],
            [
             0.3333333333333333,
             "#9c179e"
            ],
            [
             0.4444444444444444,
             "#bd3786"
            ],
            [
             0.5555555555555556,
             "#d8576b"
            ],
            [
             0.6666666666666666,
             "#ed7953"
            ],
            [
             0.7777777777777778,
             "#fb9f3a"
            ],
            [
             0.8888888888888888,
             "#fdca26"
            ],
            [
             1,
             "#f0f921"
            ]
           ]
          },
          "colorway": [
           "#636efa",
           "#EF553B",
           "#00cc96",
           "#ab63fa",
           "#FFA15A",
           "#19d3f3",
           "#FF6692",
           "#B6E880",
           "#FF97FF",
           "#FECB52"
          ],
          "font": {
           "color": "#2a3f5f"
          },
          "geo": {
           "bgcolor": "white",
           "lakecolor": "white",
           "landcolor": "#E5ECF6",
           "showlakes": true,
           "showland": true,
           "subunitcolor": "white"
          },
          "hoverlabel": {
           "align": "left"
          },
          "hovermode": "closest",
          "mapbox": {
           "style": "light"
          },
          "paper_bgcolor": "white",
          "plot_bgcolor": "#E5ECF6",
          "polar": {
           "angularaxis": {
            "gridcolor": "white",
            "linecolor": "white",
            "ticks": ""
           },
           "bgcolor": "#E5ECF6",
           "radialaxis": {
            "gridcolor": "white",
            "linecolor": "white",
            "ticks": ""
           }
          },
          "scene": {
           "xaxis": {
            "backgroundcolor": "#E5ECF6",
            "gridcolor": "white",
            "gridwidth": 2,
            "linecolor": "white",
            "showbackground": true,
            "ticks": "",
            "zerolinecolor": "white"
           },
           "yaxis": {
            "backgroundcolor": "#E5ECF6",
            "gridcolor": "white",
            "gridwidth": 2,
            "linecolor": "white",
            "showbackground": true,
            "ticks": "",
            "zerolinecolor": "white"
           },
           "zaxis": {
            "backgroundcolor": "#E5ECF6",
            "gridcolor": "white",
            "gridwidth": 2,
            "linecolor": "white",
            "showbackground": true,
            "ticks": "",
            "zerolinecolor": "white"
           }
          },
          "shapedefaults": {
           "line": {
            "color": "#2a3f5f"
           }
          },
          "ternary": {
           "aaxis": {
            "gridcolor": "white",
            "linecolor": "white",
            "ticks": ""
           },
           "baxis": {
            "gridcolor": "white",
            "linecolor": "white",
            "ticks": ""
           },
           "bgcolor": "#E5ECF6",
           "caxis": {
            "gridcolor": "white",
            "linecolor": "white",
            "ticks": ""
           }
          },
          "title": {
           "x": 0.05
          },
          "xaxis": {
           "automargin": true,
           "gridcolor": "white",
           "linecolor": "white",
           "ticks": "",
           "title": {
            "standoff": 15
           },
           "zerolinecolor": "white",
           "zerolinewidth": 2
          },
          "yaxis": {
           "automargin": true,
           "gridcolor": "white",
           "linecolor": "white",
           "ticks": "",
           "title": {
            "standoff": 15
           },
           "zerolinecolor": "white",
           "zerolinewidth": 2
          }
         }
        },
        "title": {
         "text": "Population aged 60 to 69 in every continents between 1950 and 2021"
        },
        "xaxis": {
         "anchor": "y",
         "domain": [
          0,
          1
         ],
         "title": {
          "text": "Year"
         }
        },
        "yaxis": {
         "anchor": "x",
         "domain": [
          0,
          1
         ],
         "title": {
          "text": "Population aged 60 to 69 years"
         }
        }
       }
      }
     },
     "metadata": {},
     "output_type": "display_data"
    }
   ],
   "source": [
    "# Filter the DataFrame to select data related to other continents\n",
    "continents_data = filtered_pop[~filtered_pop['Continents and World'].isin(['World'])]\n",
    "\n",
    "# Columns to include in the plot\n",
    "columns_to_plot = ['Population aged 60 to 69 years']\n",
    "\n",
    "# Create an interactive line plot with multiple curves using Plotly Express\n",
    "fig = px.line(continents_data, x='Year', y='Population aged 60 to 69 years', color='Continents and World', \n",
    "              title='Population aged 60 to 69 in every continents between 1950 and 2021', \n",
    "              labels={'value': 'Population', 'Year': 'Year', 'Continents and World': 'Continent'})\n",
    "\n",
    "# Show the interactive line plot\n",
    "fig.show()"
   ]
  },
  {
   "cell_type": "markdown",
   "metadata": {},
   "source": [
    "## 2.11: Population aged 70 to 79 years"
   ]
  },
  {
   "cell_type": "code",
   "execution_count": 194,
   "metadata": {},
   "outputs": [
    {
     "data": {
      "application/vnd.plotly.v1+json": {
       "config": {
        "plotlyServerURL": "https://plot.ly"
       },
       "data": [
        {
         "hovertemplate": "Continent=Africa (UN)<br>Year=%{x}<br>Population aged 70 to 79 years=%{y}<extra></extra>",
         "legendgroup": "Africa (UN)",
         "line": {
          "color": "#636efa",
          "dash": "solid"
         },
         "marker": {
          "symbol": "circle"
         },
         "mode": "lines",
         "name": "Africa (UN)",
         "orientation": "v",
         "showlegend": true,
         "type": "scatter",
         "x": [
          1950,
          1951,
          1952,
          1953,
          1954,
          1955,
          1956,
          1957,
          1958,
          1959,
          1960,
          1961,
          1962,
          1963,
          1964,
          1965,
          1966,
          1967,
          1968,
          1969,
          1970,
          1971,
          1972,
          1973,
          1974,
          1975,
          1976,
          1977,
          1978,
          1979,
          1980,
          1981,
          1982,
          1983,
          1984,
          1985,
          1986,
          1987,
          1988,
          1989,
          1990,
          1991,
          1992,
          1993,
          1994,
          1995,
          1996,
          1997,
          1998,
          1999,
          2000,
          2001,
          2002,
          2003,
          2004,
          2005,
          2006,
          2007,
          2008,
          2009,
          2010,
          2011,
          2012,
          2013,
          2014,
          2015,
          2016,
          2017,
          2018,
          2019,
          2020,
          2021
         ],
         "xaxis": "x",
         "y": [
          3445317,
          3499692,
          3558314,
          3621039,
          3685246,
          3749968,
          3814856,
          3877804,
          3940469,
          4009123,
          4084470,
          4175523,
          4284173,
          4400264,
          4524785,
          4656598,
          4780538,
          4895382,
          5015218,
          5139079,
          5265803,
          5396681,
          5532525,
          5677613,
          5831862,
          5999138,
          6187870,
          6380642,
          6574669,
          6776258,
          6965551,
          7153907,
          7357823,
          7558468,
          7759529,
          7972677,
          8193639,
          8425936,
          8657801,
          8896540,
          9150925,
          9412682,
          9676526,
          9943015,
          10213028,
          10496933,
          10824496,
          11183614,
          11524870,
          11850578,
          12189563,
          12537723,
          12885246,
          13222231,
          13547721,
          13865369,
          14185532,
          14515693,
          14849549,
          15186620,
          15535972,
          15905610,
          16304545,
          16741027,
          17229608,
          17785904,
          18409168,
          19089312,
          19791832,
          20495524,
          21179608,
          21808220
         ],
         "yaxis": "y"
        },
        {
         "hovertemplate": "Continent=Asia (UN)<br>Year=%{x}<br>Population aged 70 to 79 years=%{y}<extra></extra>",
         "legendgroup": "Asia (UN)",
         "line": {
          "color": "#EF553B",
          "dash": "solid"
         },
         "marker": {
          "symbol": "circle"
         },
         "mode": "lines",
         "name": "Asia (UN)",
         "orientation": "v",
         "showlegend": true,
         "type": "scatter",
         "x": [
          1950,
          1951,
          1952,
          1953,
          1954,
          1955,
          1956,
          1957,
          1958,
          1959,
          1960,
          1961,
          1962,
          1963,
          1964,
          1965,
          1966,
          1967,
          1968,
          1969,
          1970,
          1971,
          1972,
          1973,
          1974,
          1975,
          1976,
          1977,
          1978,
          1979,
          1980,
          1981,
          1982,
          1983,
          1984,
          1985,
          1986,
          1987,
          1988,
          1989,
          1990,
          1991,
          1992,
          1993,
          1994,
          1995,
          1996,
          1997,
          1998,
          1999,
          2000,
          2001,
          2002,
          2003,
          2004,
          2005,
          2006,
          2007,
          2008,
          2009,
          2010,
          2011,
          2012,
          2013,
          2014,
          2015,
          2016,
          2017,
          2018,
          2019,
          2020,
          2021
         ],
         "xaxis": "x",
         "y": [
          26051938,
          26050944,
          26108144,
          26221600,
          26404860,
          26682296,
          27076954,
          27633144,
          28322300,
          28870824,
          29044216,
          29148180,
          29560130,
          30206696,
          30961700,
          31788788,
          32672794,
          33635052,
          34657250,
          35702544,
          36865930,
          38201170,
          39654652,
          41234380,
          42869096,
          44521076,
          46213572,
          47920120,
          49658800,
          51483064,
          53258360,
          54886748,
          56506464,
          58253304,
          60149510,
          62039470,
          63870796,
          65687160,
          67417170,
          69158420,
          71154920,
          73364230,
          75665790,
          78117700,
          80841180,
          83843980,
          86909280,
          90114430,
          93677360,
          97361550,
          101001620,
          104614760,
          108305610,
          112212536,
          116070700,
          119781110,
          123536210,
          127195336,
          130551080,
          133581080,
          136603600,
          139885600,
          143097170,
          145976900,
          148851540,
          151958060,
          155651730,
          160513460,
          166610350,
          174065520,
          182608350,
          190833440
         ],
         "yaxis": "y"
        },
        {
         "hovertemplate": "Continent=Europe (UN)<br>Year=%{x}<br>Population aged 70 to 79 years=%{y}<extra></extra>",
         "legendgroup": "Europe (UN)",
         "line": {
          "color": "#00cc96",
          "dash": "solid"
         },
         "marker": {
          "symbol": "circle"
         },
         "mode": "lines",
         "name": "Europe (UN)",
         "orientation": "v",
         "showlegend": true,
         "type": "scatter",
         "x": [
          1950,
          1951,
          1952,
          1953,
          1954,
          1955,
          1956,
          1957,
          1958,
          1959,
          1960,
          1961,
          1962,
          1963,
          1964,
          1965,
          1966,
          1967,
          1968,
          1969,
          1970,
          1971,
          1972,
          1973,
          1974,
          1975,
          1976,
          1977,
          1978,
          1979,
          1980,
          1981,
          1982,
          1983,
          1984,
          1985,
          1986,
          1987,
          1988,
          1989,
          1990,
          1991,
          1992,
          1993,
          1994,
          1995,
          1996,
          1997,
          1998,
          1999,
          2000,
          2001,
          2002,
          2003,
          2004,
          2005,
          2006,
          2007,
          2008,
          2009,
          2010,
          2011,
          2012,
          2013,
          2014,
          2015,
          2016,
          2017,
          2018,
          2019,
          2020,
          2021
         ],
         "xaxis": "x",
         "y": [
          20795158,
          21120672,
          21442584,
          21787002,
          22167716,
          22595660,
          23026108,
          23474500,
          24093804,
          24688880,
          25145386,
          25659272,
          26142264,
          26623556,
          27186160,
          27778660,
          28432414,
          29119946,
          29743096,
          30389306,
          31235928,
          32278574,
          33381496,
          34460980,
          35552156,
          36632550,
          37672936,
          38758960,
          39885730,
          40934930,
          41816780,
          42558936,
          43332336,
          44033850,
          44552064,
          44520230,
          43621652,
          42230256,
          40837496,
          39941024,
          39783852,
          40132636,
          40586776,
          41160510,
          41931800,
          43114148,
          44914976,
          47072724,
          49271800,
          51115856,
          52414340,
          53196996,
          53621504,
          53698172,
          53603896,
          53747344,
          54126810,
          54785320,
          55557130,
          56309276,
          56955172,
          57382600,
          57408548,
          57154504,
          56942020,
          56525240,
          56532700,
          57239050,
          58103690,
          59185616,
          60283756,
          61300028
         ],
         "yaxis": "y"
        },
        {
         "hovertemplate": "Continent=Latin America and the Caribbean (UN)<br>Year=%{x}<br>Population aged 70 to 79 years=%{y}<extra></extra>",
         "legendgroup": "Latin America and the Caribbean (UN)",
         "line": {
          "color": "#ab63fa",
          "dash": "solid"
         },
         "marker": {
          "symbol": "circle"
         },
         "mode": "lines",
         "name": "Latin America and the Caribbean (UN)",
         "orientation": "v",
         "showlegend": true,
         "type": "scatter",
         "x": [
          1950,
          1951,
          1952,
          1953,
          1954,
          1955,
          1956,
          1957,
          1958,
          1959,
          1960,
          1961,
          1962,
          1963,
          1964,
          1965,
          1966,
          1967,
          1968,
          1969,
          1970,
          1971,
          1972,
          1973,
          1974,
          1975,
          1976,
          1977,
          1978,
          1979,
          1980,
          1981,
          1982,
          1983,
          1984,
          1985,
          1986,
          1987,
          1988,
          1989,
          1990,
          1991,
          1992,
          1993,
          1994,
          1995,
          1996,
          1997,
          1998,
          1999,
          2000,
          2001,
          2002,
          2003,
          2004,
          2005,
          2006,
          2007,
          2008,
          2009,
          2010,
          2011,
          2012,
          2013,
          2014,
          2015,
          2016,
          2017,
          2018,
          2019,
          2020,
          2021
         ],
         "xaxis": "x",
         "y": [
          2412469,
          2456443,
          2508220,
          2568267,
          2640872,
          2729533,
          2833611,
          2946633,
          3064043,
          3182830,
          3301825,
          3423986,
          3551202,
          3683072,
          3817507,
          3956352,
          4102753,
          4258708,
          4422194,
          4590768,
          4766976,
          4962991,
          5178658,
          5403191,
          5633034,
          5867108,
          6103033,
          6342069,
          6589141,
          6843450,
          7092245,
          7331476,
          7571708,
          7814556,
          8055784,
          8293412,
          8529967,
          8768964,
          9014152,
          9271977,
          9550829,
          9855167,
          10183965,
          10540148,
          10932837,
          11354941,
          11798605,
          12265088,
          12747326,
          13232256,
          13711026,
          14185802,
          14658892,
          15122481,
          15575399,
          16031588,
          16500385,
          16976948,
          17465654,
          17976316,
          18495826,
          19033990,
          19606088,
          20205140,
          20834048,
          21490204,
          22168876,
          22899808,
          23700592,
          24567556,
          25437840,
          26257320
         ],
         "yaxis": "y"
        },
        {
         "hovertemplate": "Continent=Northern America (UN)<br>Year=%{x}<br>Population aged 70 to 79 years=%{y}<extra></extra>",
         "legendgroup": "Northern America (UN)",
         "line": {
          "color": "#FFA15A",
          "dash": "solid"
         },
         "marker": {
          "symbol": "circle"
         },
         "mode": "lines",
         "name": "Northern America (UN)",
         "orientation": "v",
         "showlegend": true,
         "type": "scatter",
         "x": [
          1950,
          1951,
          1952,
          1953,
          1954,
          1955,
          1956,
          1957,
          1958,
          1959,
          1960,
          1961,
          1962,
          1963,
          1964,
          1965,
          1966,
          1967,
          1968,
          1969,
          1970,
          1971,
          1972,
          1973,
          1974,
          1975,
          1976,
          1977,
          1978,
          1979,
          1980,
          1981,
          1982,
          1983,
          1984,
          1985,
          1986,
          1987,
          1988,
          1989,
          1990,
          1991,
          1992,
          1993,
          1994,
          1995,
          1996,
          1997,
          1998,
          1999,
          2000,
          2001,
          2002,
          2003,
          2004,
          2005,
          2006,
          2007,
          2008,
          2009,
          2010,
          2011,
          2012,
          2013,
          2014,
          2015,
          2016,
          2017,
          2018,
          2019,
          2020,
          2021
         ],
         "xaxis": "x",
         "y": [
          5977847,
          6185748,
          6408103,
          6642220,
          6890980,
          7140360,
          7380386,
          7617408,
          7869874,
          8130870,
          8379247,
          8621756,
          8811909,
          8939085,
          9091562,
          9271410,
          9423334,
          9567432,
          9729573,
          9858825,
          9946227,
          10037615,
          10216444,
          10400013,
          10533798,
          10742968,
          10995174,
          11295042,
          11657371,
          12037080,
          12422709,
          12833247,
          13196736,
          13515311,
          13831184,
          14063989,
          14303155,
          14532847,
          14679076,
          14946559,
          15334521,
          15647860,
          15889979,
          16303385,
          16678447,
          16824100,
          17055346,
          17384376,
          17688242,
          17975900,
          18189052,
          18340572,
          18455392,
          18411656,
          18364132,
          18429048,
          18518076,
          18573458,
          18690336,
          18829988,
          19036970,
          19329498,
          19707252,
          20302324,
          20935482,
          21541150,
          22432108,
          23654398,
          24854388,
          25838246,
          26584428,
          27755316
         ],
         "yaxis": "y"
        },
        {
         "hovertemplate": "Continent=Oceania (UN)<br>Year=%{x}<br>Population aged 70 to 79 years=%{y}<extra></extra>",
         "legendgroup": "Oceania (UN)",
         "line": {
          "color": "#19d3f3",
          "dash": "solid"
         },
         "marker": {
          "symbol": "circle"
         },
         "mode": "lines",
         "name": "Oceania (UN)",
         "orientation": "v",
         "showlegend": true,
         "type": "scatter",
         "x": [
          1950,
          1951,
          1952,
          1953,
          1954,
          1955,
          1956,
          1957,
          1958,
          1959,
          1960,
          1961,
          1962,
          1963,
          1964,
          1965,
          1966,
          1967,
          1968,
          1969,
          1970,
          1971,
          1972,
          1973,
          1974,
          1975,
          1976,
          1977,
          1978,
          1979,
          1980,
          1981,
          1982,
          1983,
          1984,
          1985,
          1986,
          1987,
          1988,
          1989,
          1990,
          1991,
          1992,
          1993,
          1994,
          1995,
          1996,
          1997,
          1998,
          1999,
          2000,
          2001,
          2002,
          2003,
          2004,
          2005,
          2006,
          2007,
          2008,
          2009,
          2010,
          2011,
          2012,
          2013,
          2014,
          2015,
          2016,
          2017,
          2018,
          2019,
          2020,
          2021
         ],
         "xaxis": "x",
         "y": [
          410532,
          422085,
          433335,
          444887,
          457437,
          471320,
          485797,
          500424,
          515415,
          530114,
          543837,
          557190,
          570295,
          581464,
          589511,
          595680,
          601505,
          606177,
          608681,
          611217,
          620655,
          636995,
          652301,
          666992,
          684279,
          703775,
          724758,
          746443,
          769863,
          794435,
          819008,
          846737,
          878915,
          913569,
          948846,
          981619,
          1010241,
          1033959,
          1052989,
          1072731,
          1102060,
          1139558,
          1175199,
          1206943,
          1237634,
          1269824,
          1305315,
          1343482,
          1383017,
          1419379,
          1448113,
          1469074,
          1482636,
          1492244,
          1501253,
          1511540,
          1527544,
          1550228,
          1577287,
          1609590,
          1648600,
          1695084,
          1747651,
          1806291,
          1873501,
          1947101,
          2033368,
          2136672,
          2243240,
          2346308,
          2445120,
          2536838
         ],
         "yaxis": "y"
        }
       ],
       "layout": {
        "legend": {
         "title": {
          "text": "Continent"
         },
         "tracegroupgap": 0
        },
        "template": {
         "data": {
          "bar": [
           {
            "error_x": {
             "color": "#2a3f5f"
            },
            "error_y": {
             "color": "#2a3f5f"
            },
            "marker": {
             "line": {
              "color": "#E5ECF6",
              "width": 0.5
             },
             "pattern": {
              "fillmode": "overlay",
              "size": 10,
              "solidity": 0.2
             }
            },
            "type": "bar"
           }
          ],
          "barpolar": [
           {
            "marker": {
             "line": {
              "color": "#E5ECF6",
              "width": 0.5
             },
             "pattern": {
              "fillmode": "overlay",
              "size": 10,
              "solidity": 0.2
             }
            },
            "type": "barpolar"
           }
          ],
          "carpet": [
           {
            "aaxis": {
             "endlinecolor": "#2a3f5f",
             "gridcolor": "white",
             "linecolor": "white",
             "minorgridcolor": "white",
             "startlinecolor": "#2a3f5f"
            },
            "baxis": {
             "endlinecolor": "#2a3f5f",
             "gridcolor": "white",
             "linecolor": "white",
             "minorgridcolor": "white",
             "startlinecolor": "#2a3f5f"
            },
            "type": "carpet"
           }
          ],
          "choropleth": [
           {
            "colorbar": {
             "outlinewidth": 0,
             "ticks": ""
            },
            "type": "choropleth"
           }
          ],
          "contour": [
           {
            "colorbar": {
             "outlinewidth": 0,
             "ticks": ""
            },
            "colorscale": [
             [
              0,
              "#0d0887"
             ],
             [
              0.1111111111111111,
              "#46039f"
             ],
             [
              0.2222222222222222,
              "#7201a8"
             ],
             [
              0.3333333333333333,
              "#9c179e"
             ],
             [
              0.4444444444444444,
              "#bd3786"
             ],
             [
              0.5555555555555556,
              "#d8576b"
             ],
             [
              0.6666666666666666,
              "#ed7953"
             ],
             [
              0.7777777777777778,
              "#fb9f3a"
             ],
             [
              0.8888888888888888,
              "#fdca26"
             ],
             [
              1,
              "#f0f921"
             ]
            ],
            "type": "contour"
           }
          ],
          "contourcarpet": [
           {
            "colorbar": {
             "outlinewidth": 0,
             "ticks": ""
            },
            "type": "contourcarpet"
           }
          ],
          "heatmap": [
           {
            "colorbar": {
             "outlinewidth": 0,
             "ticks": ""
            },
            "colorscale": [
             [
              0,
              "#0d0887"
             ],
             [
              0.1111111111111111,
              "#46039f"
             ],
             [
              0.2222222222222222,
              "#7201a8"
             ],
             [
              0.3333333333333333,
              "#9c179e"
             ],
             [
              0.4444444444444444,
              "#bd3786"
             ],
             [
              0.5555555555555556,
              "#d8576b"
             ],
             [
              0.6666666666666666,
              "#ed7953"
             ],
             [
              0.7777777777777778,
              "#fb9f3a"
             ],
             [
              0.8888888888888888,
              "#fdca26"
             ],
             [
              1,
              "#f0f921"
             ]
            ],
            "type": "heatmap"
           }
          ],
          "heatmapgl": [
           {
            "colorbar": {
             "outlinewidth": 0,
             "ticks": ""
            },
            "colorscale": [
             [
              0,
              "#0d0887"
             ],
             [
              0.1111111111111111,
              "#46039f"
             ],
             [
              0.2222222222222222,
              "#7201a8"
             ],
             [
              0.3333333333333333,
              "#9c179e"
             ],
             [
              0.4444444444444444,
              "#bd3786"
             ],
             [
              0.5555555555555556,
              "#d8576b"
             ],
             [
              0.6666666666666666,
              "#ed7953"
             ],
             [
              0.7777777777777778,
              "#fb9f3a"
             ],
             [
              0.8888888888888888,
              "#fdca26"
             ],
             [
              1,
              "#f0f921"
             ]
            ],
            "type": "heatmapgl"
           }
          ],
          "histogram": [
           {
            "marker": {
             "pattern": {
              "fillmode": "overlay",
              "size": 10,
              "solidity": 0.2
             }
            },
            "type": "histogram"
           }
          ],
          "histogram2d": [
           {
            "colorbar": {
             "outlinewidth": 0,
             "ticks": ""
            },
            "colorscale": [
             [
              0,
              "#0d0887"
             ],
             [
              0.1111111111111111,
              "#46039f"
             ],
             [
              0.2222222222222222,
              "#7201a8"
             ],
             [
              0.3333333333333333,
              "#9c179e"
             ],
             [
              0.4444444444444444,
              "#bd3786"
             ],
             [
              0.5555555555555556,
              "#d8576b"
             ],
             [
              0.6666666666666666,
              "#ed7953"
             ],
             [
              0.7777777777777778,
              "#fb9f3a"
             ],
             [
              0.8888888888888888,
              "#fdca26"
             ],
             [
              1,
              "#f0f921"
             ]
            ],
            "type": "histogram2d"
           }
          ],
          "histogram2dcontour": [
           {
            "colorbar": {
             "outlinewidth": 0,
             "ticks": ""
            },
            "colorscale": [
             [
              0,
              "#0d0887"
             ],
             [
              0.1111111111111111,
              "#46039f"
             ],
             [
              0.2222222222222222,
              "#7201a8"
             ],
             [
              0.3333333333333333,
              "#9c179e"
             ],
             [
              0.4444444444444444,
              "#bd3786"
             ],
             [
              0.5555555555555556,
              "#d8576b"
             ],
             [
              0.6666666666666666,
              "#ed7953"
             ],
             [
              0.7777777777777778,
              "#fb9f3a"
             ],
             [
              0.8888888888888888,
              "#fdca26"
             ],
             [
              1,
              "#f0f921"
             ]
            ],
            "type": "histogram2dcontour"
           }
          ],
          "mesh3d": [
           {
            "colorbar": {
             "outlinewidth": 0,
             "ticks": ""
            },
            "type": "mesh3d"
           }
          ],
          "parcoords": [
           {
            "line": {
             "colorbar": {
              "outlinewidth": 0,
              "ticks": ""
             }
            },
            "type": "parcoords"
           }
          ],
          "pie": [
           {
            "automargin": true,
            "type": "pie"
           }
          ],
          "scatter": [
           {
            "fillpattern": {
             "fillmode": "overlay",
             "size": 10,
             "solidity": 0.2
            },
            "type": "scatter"
           }
          ],
          "scatter3d": [
           {
            "line": {
             "colorbar": {
              "outlinewidth": 0,
              "ticks": ""
             }
            },
            "marker": {
             "colorbar": {
              "outlinewidth": 0,
              "ticks": ""
             }
            },
            "type": "scatter3d"
           }
          ],
          "scattercarpet": [
           {
            "marker": {
             "colorbar": {
              "outlinewidth": 0,
              "ticks": ""
             }
            },
            "type": "scattercarpet"
           }
          ],
          "scattergeo": [
           {
            "marker": {
             "colorbar": {
              "outlinewidth": 0,
              "ticks": ""
             }
            },
            "type": "scattergeo"
           }
          ],
          "scattergl": [
           {
            "marker": {
             "colorbar": {
              "outlinewidth": 0,
              "ticks": ""
             }
            },
            "type": "scattergl"
           }
          ],
          "scattermapbox": [
           {
            "marker": {
             "colorbar": {
              "outlinewidth": 0,
              "ticks": ""
             }
            },
            "type": "scattermapbox"
           }
          ],
          "scatterpolar": [
           {
            "marker": {
             "colorbar": {
              "outlinewidth": 0,
              "ticks": ""
             }
            },
            "type": "scatterpolar"
           }
          ],
          "scatterpolargl": [
           {
            "marker": {
             "colorbar": {
              "outlinewidth": 0,
              "ticks": ""
             }
            },
            "type": "scatterpolargl"
           }
          ],
          "scatterternary": [
           {
            "marker": {
             "colorbar": {
              "outlinewidth": 0,
              "ticks": ""
             }
            },
            "type": "scatterternary"
           }
          ],
          "surface": [
           {
            "colorbar": {
             "outlinewidth": 0,
             "ticks": ""
            },
            "colorscale": [
             [
              0,
              "#0d0887"
             ],
             [
              0.1111111111111111,
              "#46039f"
             ],
             [
              0.2222222222222222,
              "#7201a8"
             ],
             [
              0.3333333333333333,
              "#9c179e"
             ],
             [
              0.4444444444444444,
              "#bd3786"
             ],
             [
              0.5555555555555556,
              "#d8576b"
             ],
             [
              0.6666666666666666,
              "#ed7953"
             ],
             [
              0.7777777777777778,
              "#fb9f3a"
             ],
             [
              0.8888888888888888,
              "#fdca26"
             ],
             [
              1,
              "#f0f921"
             ]
            ],
            "type": "surface"
           }
          ],
          "table": [
           {
            "cells": {
             "fill": {
              "color": "#EBF0F8"
             },
             "line": {
              "color": "white"
             }
            },
            "header": {
             "fill": {
              "color": "#C8D4E3"
             },
             "line": {
              "color": "white"
             }
            },
            "type": "table"
           }
          ]
         },
         "layout": {
          "annotationdefaults": {
           "arrowcolor": "#2a3f5f",
           "arrowhead": 0,
           "arrowwidth": 1
          },
          "autotypenumbers": "strict",
          "coloraxis": {
           "colorbar": {
            "outlinewidth": 0,
            "ticks": ""
           }
          },
          "colorscale": {
           "diverging": [
            [
             0,
             "#8e0152"
            ],
            [
             0.1,
             "#c51b7d"
            ],
            [
             0.2,
             "#de77ae"
            ],
            [
             0.3,
             "#f1b6da"
            ],
            [
             0.4,
             "#fde0ef"
            ],
            [
             0.5,
             "#f7f7f7"
            ],
            [
             0.6,
             "#e6f5d0"
            ],
            [
             0.7,
             "#b8e186"
            ],
            [
             0.8,
             "#7fbc41"
            ],
            [
             0.9,
             "#4d9221"
            ],
            [
             1,
             "#276419"
            ]
           ],
           "sequential": [
            [
             0,
             "#0d0887"
            ],
            [
             0.1111111111111111,
             "#46039f"
            ],
            [
             0.2222222222222222,
             "#7201a8"
            ],
            [
             0.3333333333333333,
             "#9c179e"
            ],
            [
             0.4444444444444444,
             "#bd3786"
            ],
            [
             0.5555555555555556,
             "#d8576b"
            ],
            [
             0.6666666666666666,
             "#ed7953"
            ],
            [
             0.7777777777777778,
             "#fb9f3a"
            ],
            [
             0.8888888888888888,
             "#fdca26"
            ],
            [
             1,
             "#f0f921"
            ]
           ],
           "sequentialminus": [
            [
             0,
             "#0d0887"
            ],
            [
             0.1111111111111111,
             "#46039f"
            ],
            [
             0.2222222222222222,
             "#7201a8"
            ],
            [
             0.3333333333333333,
             "#9c179e"
            ],
            [
             0.4444444444444444,
             "#bd3786"
            ],
            [
             0.5555555555555556,
             "#d8576b"
            ],
            [
             0.6666666666666666,
             "#ed7953"
            ],
            [
             0.7777777777777778,
             "#fb9f3a"
            ],
            [
             0.8888888888888888,
             "#fdca26"
            ],
            [
             1,
             "#f0f921"
            ]
           ]
          },
          "colorway": [
           "#636efa",
           "#EF553B",
           "#00cc96",
           "#ab63fa",
           "#FFA15A",
           "#19d3f3",
           "#FF6692",
           "#B6E880",
           "#FF97FF",
           "#FECB52"
          ],
          "font": {
           "color": "#2a3f5f"
          },
          "geo": {
           "bgcolor": "white",
           "lakecolor": "white",
           "landcolor": "#E5ECF6",
           "showlakes": true,
           "showland": true,
           "subunitcolor": "white"
          },
          "hoverlabel": {
           "align": "left"
          },
          "hovermode": "closest",
          "mapbox": {
           "style": "light"
          },
          "paper_bgcolor": "white",
          "plot_bgcolor": "#E5ECF6",
          "polar": {
           "angularaxis": {
            "gridcolor": "white",
            "linecolor": "white",
            "ticks": ""
           },
           "bgcolor": "#E5ECF6",
           "radialaxis": {
            "gridcolor": "white",
            "linecolor": "white",
            "ticks": ""
           }
          },
          "scene": {
           "xaxis": {
            "backgroundcolor": "#E5ECF6",
            "gridcolor": "white",
            "gridwidth": 2,
            "linecolor": "white",
            "showbackground": true,
            "ticks": "",
            "zerolinecolor": "white"
           },
           "yaxis": {
            "backgroundcolor": "#E5ECF6",
            "gridcolor": "white",
            "gridwidth": 2,
            "linecolor": "white",
            "showbackground": true,
            "ticks": "",
            "zerolinecolor": "white"
           },
           "zaxis": {
            "backgroundcolor": "#E5ECF6",
            "gridcolor": "white",
            "gridwidth": 2,
            "linecolor": "white",
            "showbackground": true,
            "ticks": "",
            "zerolinecolor": "white"
           }
          },
          "shapedefaults": {
           "line": {
            "color": "#2a3f5f"
           }
          },
          "ternary": {
           "aaxis": {
            "gridcolor": "white",
            "linecolor": "white",
            "ticks": ""
           },
           "baxis": {
            "gridcolor": "white",
            "linecolor": "white",
            "ticks": ""
           },
           "bgcolor": "#E5ECF6",
           "caxis": {
            "gridcolor": "white",
            "linecolor": "white",
            "ticks": ""
           }
          },
          "title": {
           "x": 0.05
          },
          "xaxis": {
           "automargin": true,
           "gridcolor": "white",
           "linecolor": "white",
           "ticks": "",
           "title": {
            "standoff": 15
           },
           "zerolinecolor": "white",
           "zerolinewidth": 2
          },
          "yaxis": {
           "automargin": true,
           "gridcolor": "white",
           "linecolor": "white",
           "ticks": "",
           "title": {
            "standoff": 15
           },
           "zerolinecolor": "white",
           "zerolinewidth": 2
          }
         }
        },
        "title": {
         "text": "Population aged 70 to 79 in every continents between 1950 and 2021"
        },
        "xaxis": {
         "anchor": "y",
         "domain": [
          0,
          1
         ],
         "title": {
          "text": "Year"
         }
        },
        "yaxis": {
         "anchor": "x",
         "domain": [
          0,
          1
         ],
         "title": {
          "text": "Population aged 70 to 79 years"
         }
        }
       }
      }
     },
     "metadata": {},
     "output_type": "display_data"
    }
   ],
   "source": [
    "# Filter the DataFrame to select data related to other continents\n",
    "continents_data = filtered_pop[~filtered_pop['Continents and World'].isin(['World'])]\n",
    "\n",
    "# Columns to include in the plot\n",
    "columns_to_plot = ['Population aged 70 to 79 years']\n",
    "\n",
    "# Create an interactive line plot with multiple curves using Plotly Express\n",
    "fig = px.line(continents_data, x='Year', y='Population aged 70 to 79 years', color='Continents and World', \n",
    "              title='Population aged 70 to 79 in every continents between 1950 and 2021', \n",
    "              labels={'value': 'Population', 'Year': 'Year', 'Continents and World': 'Continent'})\n",
    "\n",
    "# Show the interactive line plot\n",
    "fig.show()"
   ]
  },
  {
   "cell_type": "markdown",
   "metadata": {},
   "source": [
    "## 2.12: Population aged 80 to 89 years"
   ]
  },
  {
   "cell_type": "code",
   "execution_count": 195,
   "metadata": {},
   "outputs": [
    {
     "data": {
      "application/vnd.plotly.v1+json": {
       "config": {
        "plotlyServerURL": "https://plot.ly"
       },
       "data": [
        {
         "hovertemplate": "Continent=Africa (UN)<br>Year=%{x}<br>Population aged 80 to 89 years=%{y}<extra></extra>",
         "legendgroup": "Africa (UN)",
         "line": {
          "color": "#636efa",
          "dash": "solid"
         },
         "marker": {
          "symbol": "circle"
         },
         "mode": "lines",
         "name": "Africa (UN)",
         "orientation": "v",
         "showlegend": true,
         "type": "scatter",
         "x": [
          1950,
          1951,
          1952,
          1953,
          1954,
          1955,
          1956,
          1957,
          1958,
          1959,
          1960,
          1961,
          1962,
          1963,
          1964,
          1965,
          1966,
          1967,
          1968,
          1969,
          1970,
          1971,
          1972,
          1973,
          1974,
          1975,
          1976,
          1977,
          1978,
          1979,
          1980,
          1981,
          1982,
          1983,
          1984,
          1985,
          1986,
          1987,
          1988,
          1989,
          1990,
          1991,
          1992,
          1993,
          1994,
          1995,
          1996,
          1997,
          1998,
          1999,
          2000,
          2001,
          2002,
          2003,
          2004,
          2005,
          2006,
          2007,
          2008,
          2009,
          2010,
          2011,
          2012,
          2013,
          2014,
          2015,
          2016,
          2017,
          2018,
          2019,
          2020,
          2021
         ],
         "xaxis": "x",
         "y": [
          700903,
          709683,
          718430,
          728561,
          741198,
          756469,
          773625,
          791754,
          810091,
          829092,
          848898,
          871204,
          896358,
          922691,
          950396,
          979132,
          1007304,
          1034058,
          1060467,
          1086692,
          1112244,
          1136989,
          1162343,
          1190988,
          1223690,
          1259941,
          1302593,
          1350389,
          1402687,
          1458775,
          1509899,
          1558995,
          1614181,
          1670481,
          1726721,
          1786739,
          1849974,
          1924373,
          2001526,
          2070681,
          2139478,
          2212269,
          2283380,
          2350783,
          2421259,
          2492567,
          2568899,
          2657463,
          2752009,
          2851588,
          2960826,
          3074590,
          3190437,
          3306821,
          3426283,
          3553239,
          3684624,
          3817912,
          3951053,
          4086409,
          4228220,
          4375232,
          4521036,
          4661992,
          4800355,
          4936880,
          5078636,
          5231323,
          5390368,
          5549767,
          5672989,
          5739974
         ],
         "yaxis": "y"
        },
        {
         "hovertemplate": "Continent=Asia (UN)<br>Year=%{x}<br>Population aged 80 to 89 years=%{y}<extra></extra>",
         "legendgroup": "Asia (UN)",
         "line": {
          "color": "#EF553B",
          "dash": "solid"
         },
         "marker": {
          "symbol": "circle"
         },
         "mode": "lines",
         "name": "Asia (UN)",
         "orientation": "v",
         "showlegend": true,
         "type": "scatter",
         "x": [
          1950,
          1951,
          1952,
          1953,
          1954,
          1955,
          1956,
          1957,
          1958,
          1959,
          1960,
          1961,
          1962,
          1963,
          1964,
          1965,
          1966,
          1967,
          1968,
          1969,
          1970,
          1971,
          1972,
          1973,
          1974,
          1975,
          1976,
          1977,
          1978,
          1979,
          1980,
          1981,
          1982,
          1983,
          1984,
          1985,
          1986,
          1987,
          1988,
          1989,
          1990,
          1991,
          1992,
          1993,
          1994,
          1995,
          1996,
          1997,
          1998,
          1999,
          2000,
          2001,
          2002,
          2003,
          2004,
          2005,
          2006,
          2007,
          2008,
          2009,
          2010,
          2011,
          2012,
          2013,
          2014,
          2015,
          2016,
          2017,
          2018,
          2019,
          2020,
          2021
         ],
         "xaxis": "x",
         "y": [
          6375938,
          6233096,
          6141401,
          6093195,
          6062275,
          6038162,
          6021905,
          6007706,
          6003688,
          5984320,
          5938574,
          5919935,
          5959621,
          6046881,
          6164281,
          6310688,
          6504581,
          6769076,
          7083637,
          7394052,
          7658118,
          7892864,
          8166339,
          8506018,
          8904448,
          9360846,
          9858522,
          10400333,
          10981294,
          11571311,
          12189933,
          12864135,
          13570073,
          14293871,
          15020283,
          15749535,
          16492665,
          17246628,
          18028946,
          18856532,
          19669732,
          20427244,
          21208872,
          22099384,
          23088208,
          24081196,
          25058964,
          26046794,
          27041736,
          28086436,
          29303098,
          30698848,
          32170586,
          33726040,
          35444996,
          37286656,
          39111600,
          40958188,
          42918292,
          44904704,
          46891516,
          48874624,
          50925860,
          53188464,
          55533196,
          57870572,
          60252290,
          62580590,
          64783040,
          66818936,
          68667440,
          70142200
         ],
         "yaxis": "y"
        },
        {
         "hovertemplate": "Continent=Europe (UN)<br>Year=%{x}<br>Population aged 80 to 89 years=%{y}<extra></extra>",
         "legendgroup": "Europe (UN)",
         "line": {
          "color": "#00cc96",
          "dash": "solid"
         },
         "marker": {
          "symbol": "circle"
         },
         "mode": "lines",
         "name": "Europe (UN)",
         "orientation": "v",
         "showlegend": true,
         "type": "scatter",
         "x": [
          1950,
          1951,
          1952,
          1953,
          1954,
          1955,
          1956,
          1957,
          1958,
          1959,
          1960,
          1961,
          1962,
          1963,
          1964,
          1965,
          1966,
          1967,
          1968,
          1969,
          1970,
          1971,
          1972,
          1973,
          1974,
          1975,
          1976,
          1977,
          1978,
          1979,
          1980,
          1981,
          1982,
          1983,
          1984,
          1985,
          1986,
          1987,
          1988,
          1989,
          1990,
          1991,
          1992,
          1993,
          1994,
          1995,
          1996,
          1997,
          1998,
          1999,
          2000,
          2001,
          2002,
          2003,
          2004,
          2005,
          2006,
          2007,
          2008,
          2009,
          2010,
          2011,
          2012,
          2013,
          2014,
          2015,
          2016,
          2017,
          2018,
          2019,
          2020,
          2021
         ],
         "xaxis": "x",
         "y": [
          5280343,
          5366671,
          5488522,
          5661139,
          5834158,
          6033721,
          6248288,
          6478588,
          6727696,
          6975951,
          7210378,
          7452390,
          7676453,
          7871468,
          8126548,
          8410954,
          8678026,
          8971821,
          9260194,
          9509479,
          9728240,
          9936203,
          10149375,
          10366900,
          10604400,
          10853785,
          11128012,
          11451893,
          11797064,
          12178995,
          12643380,
          13147298,
          13685378,
          14226438,
          14751915,
          15263761,
          15780693,
          16359920,
          16963572,
          17565990,
          18158466,
          18683852,
          19238772,
          19770996,
          20160774,
          20220406,
          19776020,
          19067360,
          18421112,
          18094480,
          18264300,
          18812920,
          19433270,
          20087550,
          20866512,
          21822692,
          22964840,
          24188320,
          25390406,
          26463296,
          27337638,
          28004276,
          28485300,
          28791354,
          29060732,
          29472564,
          30044956,
          30803666,
          31632830,
          32458658,
          33059796,
          33231192
         ],
         "yaxis": "y"
        },
        {
         "hovertemplate": "Continent=Latin America and the Caribbean (UN)<br>Year=%{x}<br>Population aged 80 to 89 years=%{y}<extra></extra>",
         "legendgroup": "Latin America and the Caribbean (UN)",
         "line": {
          "color": "#ab63fa",
          "dash": "solid"
         },
         "marker": {
          "symbol": "circle"
         },
         "mode": "lines",
         "name": "Latin America and the Caribbean (UN)",
         "orientation": "v",
         "showlegend": true,
         "type": "scatter",
         "x": [
          1950,
          1951,
          1952,
          1953,
          1954,
          1955,
          1956,
          1957,
          1958,
          1959,
          1960,
          1961,
          1962,
          1963,
          1964,
          1965,
          1966,
          1967,
          1968,
          1969,
          1970,
          1971,
          1972,
          1973,
          1974,
          1975,
          1976,
          1977,
          1978,
          1979,
          1980,
          1981,
          1982,
          1983,
          1984,
          1985,
          1986,
          1987,
          1988,
          1989,
          1990,
          1991,
          1992,
          1993,
          1994,
          1995,
          1996,
          1997,
          1998,
          1999,
          2000,
          2001,
          2002,
          2003,
          2004,
          2005,
          2006,
          2007,
          2008,
          2009,
          2010,
          2011,
          2012,
          2013,
          2014,
          2015,
          2016,
          2017,
          2018,
          2019,
          2020,
          2021
         ],
         "xaxis": "x",
         "y": [
          665617,
          660856,
          663212,
          669008,
          677854,
          689876,
          705276,
          722829,
          742144,
          762654,
          781308,
          800451,
          825945,
          857753,
          894580,
          938312,
          988918,
          1043295,
          1098073,
          1150134,
          1198321,
          1252623,
          1317507,
          1385013,
          1454786,
          1531915,
          1616555,
          1706570,
          1799605,
          1894265,
          1984316,
          2069603,
          2159724,
          2254997,
          2352430,
          2452202,
          2556110,
          2665214,
          2778536,
          2898090,
          3020961,
          3144930,
          3272578,
          3404819,
          3545812,
          3690842,
          3834583,
          3979978,
          4130438,
          4292856,
          4472559,
          4670768,
          4887092,
          5115145,
          5356491,
          5616420,
          5891251,
          6170642,
          6451794,
          6730346,
          6993184,
          7257713,
          7530346,
          7800407,
          8068990,
          8332748,
          8592212,
          8863966,
          9159120,
          9453965,
          9691432,
          9863803
         ],
         "yaxis": "y"
        },
        {
         "hovertemplate": "Continent=Northern America (UN)<br>Year=%{x}<br>Population aged 80 to 89 years=%{y}<extra></extra>",
         "legendgroup": "Northern America (UN)",
         "line": {
          "color": "#FFA15A",
          "dash": "solid"
         },
         "marker": {
          "symbol": "circle"
         },
         "mode": "lines",
         "name": "Northern America (UN)",
         "orientation": "v",
         "showlegend": true,
         "type": "scatter",
         "x": [
          1950,
          1951,
          1952,
          1953,
          1954,
          1955,
          1956,
          1957,
          1958,
          1959,
          1960,
          1961,
          1962,
          1963,
          1964,
          1965,
          1966,
          1967,
          1968,
          1969,
          1970,
          1971,
          1972,
          1973,
          1974,
          1975,
          1976,
          1977,
          1978,
          1979,
          1980,
          1981,
          1982,
          1983,
          1984,
          1985,
          1986,
          1987,
          1988,
          1989,
          1990,
          1991,
          1992,
          1993,
          1994,
          1995,
          1996,
          1997,
          1998,
          1999,
          2000,
          2001,
          2002,
          2003,
          2004,
          2005,
          2006,
          2007,
          2008,
          2009,
          2010,
          2011,
          2012,
          2013,
          2014,
          2015,
          2016,
          2017,
          2018,
          2019,
          2020,
          2021
         ],
         "xaxis": "x",
         "y": [
          1703121,
          1776863,
          1854867,
          1937293,
          2024862,
          2120228,
          2210499,
          2289760,
          2362711,
          2438570,
          2525274,
          2617792,
          2708118,
          2797891,
          2900167,
          3010325,
          3110689,
          3208570,
          3324058,
          3455039,
          3581652,
          3699555,
          3798648,
          3875497,
          3972249,
          4112289,
          4255270,
          4389009,
          4535694,
          4657983,
          4771398,
          4879556,
          5028934,
          5187804,
          5297339,
          5441548,
          5585110,
          5737897,
          5911759,
          6089745,
          6288951,
          6522535,
          6760147,
          6959102,
          7146407,
          7299380,
          7439102,
          7561292,
          7643015,
          7792987,
          8018542,
          8230367,
          8393102,
          8675797,
          8974636,
          9134808,
          9369377,
          9681099,
          9955903,
          10268208,
          10555461,
          10728353,
          10833312,
          10867221,
          10894909,
          10947169,
          11032765,
          11118764,
          11242194,
          11398067,
          11560451,
          11764499
         ],
         "yaxis": "y"
        },
        {
         "hovertemplate": "Continent=Oceania (UN)<br>Year=%{x}<br>Population aged 80 to 89 years=%{y}<extra></extra>",
         "legendgroup": "Oceania (UN)",
         "line": {
          "color": "#19d3f3",
          "dash": "solid"
         },
         "marker": {
          "symbol": "circle"
         },
         "mode": "lines",
         "name": "Oceania (UN)",
         "orientation": "v",
         "showlegend": true,
         "type": "scatter",
         "x": [
          1950,
          1951,
          1952,
          1953,
          1954,
          1955,
          1956,
          1957,
          1958,
          1959,
          1960,
          1961,
          1962,
          1963,
          1964,
          1965,
          1966,
          1967,
          1968,
          1969,
          1970,
          1971,
          1972,
          1973,
          1974,
          1975,
          1976,
          1977,
          1978,
          1979,
          1980,
          1981,
          1982,
          1983,
          1984,
          1985,
          1986,
          1987,
          1988,
          1989,
          1990,
          1991,
          1992,
          1993,
          1994,
          1995,
          1996,
          1997,
          1998,
          1999,
          2000,
          2001,
          2002,
          2003,
          2004,
          2005,
          2006,
          2007,
          2008,
          2009,
          2010,
          2011,
          2012,
          2013,
          2014,
          2015,
          2016,
          2017,
          2018,
          2019,
          2020,
          2021
         ],
         "xaxis": "x",
         "y": [
          121692,
          124719,
          127155,
          130052,
          133502,
          137358,
          140940,
          144568,
          149456,
          155050,
          161406,
          168390,
          174540,
          180365,
          186423,
          192683,
          198726,
          205064,
          211581,
          218156,
          224641,
          229848,
          234609,
          238985,
          242015,
          245429,
          249334,
          252936,
          257504,
          264068,
          273675,
          284071,
          293239,
          302499,
          313883,
          325782,
          338647,
          353007,
          368130,
          383084,
          399498,
          418723,
          438522,
          459754,
          481785,
          502103,
          519552,
          534969,
          549325,
          563325,
          585176,
          613830,
          640882,
          667680,
          694651,
          723683,
          753787,
          782759,
          811585,
          839643,
          863714,
          882491,
          896812,
          908981,
          920967,
          933121,
          948664,
          968622,
          991986,
          1021112,
          1055614,
          1093921
         ],
         "yaxis": "y"
        }
       ],
       "layout": {
        "legend": {
         "title": {
          "text": "Continent"
         },
         "tracegroupgap": 0
        },
        "template": {
         "data": {
          "bar": [
           {
            "error_x": {
             "color": "#2a3f5f"
            },
            "error_y": {
             "color": "#2a3f5f"
            },
            "marker": {
             "line": {
              "color": "#E5ECF6",
              "width": 0.5
             },
             "pattern": {
              "fillmode": "overlay",
              "size": 10,
              "solidity": 0.2
             }
            },
            "type": "bar"
           }
          ],
          "barpolar": [
           {
            "marker": {
             "line": {
              "color": "#E5ECF6",
              "width": 0.5
             },
             "pattern": {
              "fillmode": "overlay",
              "size": 10,
              "solidity": 0.2
             }
            },
            "type": "barpolar"
           }
          ],
          "carpet": [
           {
            "aaxis": {
             "endlinecolor": "#2a3f5f",
             "gridcolor": "white",
             "linecolor": "white",
             "minorgridcolor": "white",
             "startlinecolor": "#2a3f5f"
            },
            "baxis": {
             "endlinecolor": "#2a3f5f",
             "gridcolor": "white",
             "linecolor": "white",
             "minorgridcolor": "white",
             "startlinecolor": "#2a3f5f"
            },
            "type": "carpet"
           }
          ],
          "choropleth": [
           {
            "colorbar": {
             "outlinewidth": 0,
             "ticks": ""
            },
            "type": "choropleth"
           }
          ],
          "contour": [
           {
            "colorbar": {
             "outlinewidth": 0,
             "ticks": ""
            },
            "colorscale": [
             [
              0,
              "#0d0887"
             ],
             [
              0.1111111111111111,
              "#46039f"
             ],
             [
              0.2222222222222222,
              "#7201a8"
             ],
             [
              0.3333333333333333,
              "#9c179e"
             ],
             [
              0.4444444444444444,
              "#bd3786"
             ],
             [
              0.5555555555555556,
              "#d8576b"
             ],
             [
              0.6666666666666666,
              "#ed7953"
             ],
             [
              0.7777777777777778,
              "#fb9f3a"
             ],
             [
              0.8888888888888888,
              "#fdca26"
             ],
             [
              1,
              "#f0f921"
             ]
            ],
            "type": "contour"
           }
          ],
          "contourcarpet": [
           {
            "colorbar": {
             "outlinewidth": 0,
             "ticks": ""
            },
            "type": "contourcarpet"
           }
          ],
          "heatmap": [
           {
            "colorbar": {
             "outlinewidth": 0,
             "ticks": ""
            },
            "colorscale": [
             [
              0,
              "#0d0887"
             ],
             [
              0.1111111111111111,
              "#46039f"
             ],
             [
              0.2222222222222222,
              "#7201a8"
             ],
             [
              0.3333333333333333,
              "#9c179e"
             ],
             [
              0.4444444444444444,
              "#bd3786"
             ],
             [
              0.5555555555555556,
              "#d8576b"
             ],
             [
              0.6666666666666666,
              "#ed7953"
             ],
             [
              0.7777777777777778,
              "#fb9f3a"
             ],
             [
              0.8888888888888888,
              "#fdca26"
             ],
             [
              1,
              "#f0f921"
             ]
            ],
            "type": "heatmap"
           }
          ],
          "heatmapgl": [
           {
            "colorbar": {
             "outlinewidth": 0,
             "ticks": ""
            },
            "colorscale": [
             [
              0,
              "#0d0887"
             ],
             [
              0.1111111111111111,
              "#46039f"
             ],
             [
              0.2222222222222222,
              "#7201a8"
             ],
             [
              0.3333333333333333,
              "#9c179e"
             ],
             [
              0.4444444444444444,
              "#bd3786"
             ],
             [
              0.5555555555555556,
              "#d8576b"
             ],
             [
              0.6666666666666666,
              "#ed7953"
             ],
             [
              0.7777777777777778,
              "#fb9f3a"
             ],
             [
              0.8888888888888888,
              "#fdca26"
             ],
             [
              1,
              "#f0f921"
             ]
            ],
            "type": "heatmapgl"
           }
          ],
          "histogram": [
           {
            "marker": {
             "pattern": {
              "fillmode": "overlay",
              "size": 10,
              "solidity": 0.2
             }
            },
            "type": "histogram"
           }
          ],
          "histogram2d": [
           {
            "colorbar": {
             "outlinewidth": 0,
             "ticks": ""
            },
            "colorscale": [
             [
              0,
              "#0d0887"
             ],
             [
              0.1111111111111111,
              "#46039f"
             ],
             [
              0.2222222222222222,
              "#7201a8"
             ],
             [
              0.3333333333333333,
              "#9c179e"
             ],
             [
              0.4444444444444444,
              "#bd3786"
             ],
             [
              0.5555555555555556,
              "#d8576b"
             ],
             [
              0.6666666666666666,
              "#ed7953"
             ],
             [
              0.7777777777777778,
              "#fb9f3a"
             ],
             [
              0.8888888888888888,
              "#fdca26"
             ],
             [
              1,
              "#f0f921"
             ]
            ],
            "type": "histogram2d"
           }
          ],
          "histogram2dcontour": [
           {
            "colorbar": {
             "outlinewidth": 0,
             "ticks": ""
            },
            "colorscale": [
             [
              0,
              "#0d0887"
             ],
             [
              0.1111111111111111,
              "#46039f"
             ],
             [
              0.2222222222222222,
              "#7201a8"
             ],
             [
              0.3333333333333333,
              "#9c179e"
             ],
             [
              0.4444444444444444,
              "#bd3786"
             ],
             [
              0.5555555555555556,
              "#d8576b"
             ],
             [
              0.6666666666666666,
              "#ed7953"
             ],
             [
              0.7777777777777778,
              "#fb9f3a"
             ],
             [
              0.8888888888888888,
              "#fdca26"
             ],
             [
              1,
              "#f0f921"
             ]
            ],
            "type": "histogram2dcontour"
           }
          ],
          "mesh3d": [
           {
            "colorbar": {
             "outlinewidth": 0,
             "ticks": ""
            },
            "type": "mesh3d"
           }
          ],
          "parcoords": [
           {
            "line": {
             "colorbar": {
              "outlinewidth": 0,
              "ticks": ""
             }
            },
            "type": "parcoords"
           }
          ],
          "pie": [
           {
            "automargin": true,
            "type": "pie"
           }
          ],
          "scatter": [
           {
            "fillpattern": {
             "fillmode": "overlay",
             "size": 10,
             "solidity": 0.2
            },
            "type": "scatter"
           }
          ],
          "scatter3d": [
           {
            "line": {
             "colorbar": {
              "outlinewidth": 0,
              "ticks": ""
             }
            },
            "marker": {
             "colorbar": {
              "outlinewidth": 0,
              "ticks": ""
             }
            },
            "type": "scatter3d"
           }
          ],
          "scattercarpet": [
           {
            "marker": {
             "colorbar": {
              "outlinewidth": 0,
              "ticks": ""
             }
            },
            "type": "scattercarpet"
           }
          ],
          "scattergeo": [
           {
            "marker": {
             "colorbar": {
              "outlinewidth": 0,
              "ticks": ""
             }
            },
            "type": "scattergeo"
           }
          ],
          "scattergl": [
           {
            "marker": {
             "colorbar": {
              "outlinewidth": 0,
              "ticks": ""
             }
            },
            "type": "scattergl"
           }
          ],
          "scattermapbox": [
           {
            "marker": {
             "colorbar": {
              "outlinewidth": 0,
              "ticks": ""
             }
            },
            "type": "scattermapbox"
           }
          ],
          "scatterpolar": [
           {
            "marker": {
             "colorbar": {
              "outlinewidth": 0,
              "ticks": ""
             }
            },
            "type": "scatterpolar"
           }
          ],
          "scatterpolargl": [
           {
            "marker": {
             "colorbar": {
              "outlinewidth": 0,
              "ticks": ""
             }
            },
            "type": "scatterpolargl"
           }
          ],
          "scatterternary": [
           {
            "marker": {
             "colorbar": {
              "outlinewidth": 0,
              "ticks": ""
             }
            },
            "type": "scatterternary"
           }
          ],
          "surface": [
           {
            "colorbar": {
             "outlinewidth": 0,
             "ticks": ""
            },
            "colorscale": [
             [
              0,
              "#0d0887"
             ],
             [
              0.1111111111111111,
              "#46039f"
             ],
             [
              0.2222222222222222,
              "#7201a8"
             ],
             [
              0.3333333333333333,
              "#9c179e"
             ],
             [
              0.4444444444444444,
              "#bd3786"
             ],
             [
              0.5555555555555556,
              "#d8576b"
             ],
             [
              0.6666666666666666,
              "#ed7953"
             ],
             [
              0.7777777777777778,
              "#fb9f3a"
             ],
             [
              0.8888888888888888,
              "#fdca26"
             ],
             [
              1,
              "#f0f921"
             ]
            ],
            "type": "surface"
           }
          ],
          "table": [
           {
            "cells": {
             "fill": {
              "color": "#EBF0F8"
             },
             "line": {
              "color": "white"
             }
            },
            "header": {
             "fill": {
              "color": "#C8D4E3"
             },
             "line": {
              "color": "white"
             }
            },
            "type": "table"
           }
          ]
         },
         "layout": {
          "annotationdefaults": {
           "arrowcolor": "#2a3f5f",
           "arrowhead": 0,
           "arrowwidth": 1
          },
          "autotypenumbers": "strict",
          "coloraxis": {
           "colorbar": {
            "outlinewidth": 0,
            "ticks": ""
           }
          },
          "colorscale": {
           "diverging": [
            [
             0,
             "#8e0152"
            ],
            [
             0.1,
             "#c51b7d"
            ],
            [
             0.2,
             "#de77ae"
            ],
            [
             0.3,
             "#f1b6da"
            ],
            [
             0.4,
             "#fde0ef"
            ],
            [
             0.5,
             "#f7f7f7"
            ],
            [
             0.6,
             "#e6f5d0"
            ],
            [
             0.7,
             "#b8e186"
            ],
            [
             0.8,
             "#7fbc41"
            ],
            [
             0.9,
             "#4d9221"
            ],
            [
             1,
             "#276419"
            ]
           ],
           "sequential": [
            [
             0,
             "#0d0887"
            ],
            [
             0.1111111111111111,
             "#46039f"
            ],
            [
             0.2222222222222222,
             "#7201a8"
            ],
            [
             0.3333333333333333,
             "#9c179e"
            ],
            [
             0.4444444444444444,
             "#bd3786"
            ],
            [
             0.5555555555555556,
             "#d8576b"
            ],
            [
             0.6666666666666666,
             "#ed7953"
            ],
            [
             0.7777777777777778,
             "#fb9f3a"
            ],
            [
             0.8888888888888888,
             "#fdca26"
            ],
            [
             1,
             "#f0f921"
            ]
           ],
           "sequentialminus": [
            [
             0,
             "#0d0887"
            ],
            [
             0.1111111111111111,
             "#46039f"
            ],
            [
             0.2222222222222222,
             "#7201a8"
            ],
            [
             0.3333333333333333,
             "#9c179e"
            ],
            [
             0.4444444444444444,
             "#bd3786"
            ],
            [
             0.5555555555555556,
             "#d8576b"
            ],
            [
             0.6666666666666666,
             "#ed7953"
            ],
            [
             0.7777777777777778,
             "#fb9f3a"
            ],
            [
             0.8888888888888888,
             "#fdca26"
            ],
            [
             1,
             "#f0f921"
            ]
           ]
          },
          "colorway": [
           "#636efa",
           "#EF553B",
           "#00cc96",
           "#ab63fa",
           "#FFA15A",
           "#19d3f3",
           "#FF6692",
           "#B6E880",
           "#FF97FF",
           "#FECB52"
          ],
          "font": {
           "color": "#2a3f5f"
          },
          "geo": {
           "bgcolor": "white",
           "lakecolor": "white",
           "landcolor": "#E5ECF6",
           "showlakes": true,
           "showland": true,
           "subunitcolor": "white"
          },
          "hoverlabel": {
           "align": "left"
          },
          "hovermode": "closest",
          "mapbox": {
           "style": "light"
          },
          "paper_bgcolor": "white",
          "plot_bgcolor": "#E5ECF6",
          "polar": {
           "angularaxis": {
            "gridcolor": "white",
            "linecolor": "white",
            "ticks": ""
           },
           "bgcolor": "#E5ECF6",
           "radialaxis": {
            "gridcolor": "white",
            "linecolor": "white",
            "ticks": ""
           }
          },
          "scene": {
           "xaxis": {
            "backgroundcolor": "#E5ECF6",
            "gridcolor": "white",
            "gridwidth": 2,
            "linecolor": "white",
            "showbackground": true,
            "ticks": "",
            "zerolinecolor": "white"
           },
           "yaxis": {
            "backgroundcolor": "#E5ECF6",
            "gridcolor": "white",
            "gridwidth": 2,
            "linecolor": "white",
            "showbackground": true,
            "ticks": "",
            "zerolinecolor": "white"
           },
           "zaxis": {
            "backgroundcolor": "#E5ECF6",
            "gridcolor": "white",
            "gridwidth": 2,
            "linecolor": "white",
            "showbackground": true,
            "ticks": "",
            "zerolinecolor": "white"
           }
          },
          "shapedefaults": {
           "line": {
            "color": "#2a3f5f"
           }
          },
          "ternary": {
           "aaxis": {
            "gridcolor": "white",
            "linecolor": "white",
            "ticks": ""
           },
           "baxis": {
            "gridcolor": "white",
            "linecolor": "white",
            "ticks": ""
           },
           "bgcolor": "#E5ECF6",
           "caxis": {
            "gridcolor": "white",
            "linecolor": "white",
            "ticks": ""
           }
          },
          "title": {
           "x": 0.05
          },
          "xaxis": {
           "automargin": true,
           "gridcolor": "white",
           "linecolor": "white",
           "ticks": "",
           "title": {
            "standoff": 15
           },
           "zerolinecolor": "white",
           "zerolinewidth": 2
          },
          "yaxis": {
           "automargin": true,
           "gridcolor": "white",
           "linecolor": "white",
           "ticks": "",
           "title": {
            "standoff": 15
           },
           "zerolinecolor": "white",
           "zerolinewidth": 2
          }
         }
        },
        "title": {
         "text": "Population aged 80 to 89 in every continents between 1950 and 2021"
        },
        "xaxis": {
         "anchor": "y",
         "domain": [
          0,
          1
         ],
         "title": {
          "text": "Year"
         }
        },
        "yaxis": {
         "anchor": "x",
         "domain": [
          0,
          1
         ],
         "title": {
          "text": "Population aged 80 to 89 years"
         }
        }
       }
      }
     },
     "metadata": {},
     "output_type": "display_data"
    }
   ],
   "source": [
    "# Filter the DataFrame to select data related to other continents\n",
    "continents_data = filtered_pop[~filtered_pop['Continents and World'].isin(['World'])]\n",
    "\n",
    "# Columns to include in the plot\n",
    "columns_to_plot = ['Population aged 80 to 89 years']\n",
    "\n",
    "# Create an interactive line plot with multiple curves using Plotly Express\n",
    "fig = px.line(continents_data, x='Year', y='Population aged 80 to 89 years', color='Continents and World', \n",
    "              title='Population aged 80 to 89 in every continents between 1950 and 2021', \n",
    "              labels={'value': 'Population', 'Year': 'Year', 'Continents and World': 'Continent'})\n",
    "\n",
    "# Show the interactive line plot\n",
    "fig.show()"
   ]
  },
  {
   "cell_type": "markdown",
   "metadata": {},
   "source": [
    "## 2.13: Population aged 90 to 99 years"
   ]
  },
  {
   "cell_type": "code",
   "execution_count": 196,
   "metadata": {},
   "outputs": [
    {
     "data": {
      "application/vnd.plotly.v1+json": {
       "config": {
        "plotlyServerURL": "https://plot.ly"
       },
       "data": [
        {
         "hovertemplate": "Continent=Africa (UN)<br>Year=%{x}<br>Population aged 90 to 99 years=%{y}<extra></extra>",
         "legendgroup": "Africa (UN)",
         "line": {
          "color": "#636efa",
          "dash": "solid"
         },
         "marker": {
          "symbol": "circle"
         },
         "mode": "lines",
         "name": "Africa (UN)",
         "orientation": "v",
         "showlegend": true,
         "type": "scatter",
         "x": [
          1950,
          1951,
          1952,
          1953,
          1954,
          1955,
          1956,
          1957,
          1958,
          1959,
          1960,
          1961,
          1962,
          1963,
          1964,
          1965,
          1966,
          1967,
          1968,
          1969,
          1970,
          1971,
          1972,
          1973,
          1974,
          1975,
          1976,
          1977,
          1978,
          1979,
          1980,
          1981,
          1982,
          1983,
          1984,
          1985,
          1986,
          1987,
          1988,
          1989,
          1990,
          1991,
          1992,
          1993,
          1994,
          1995,
          1996,
          1997,
          1998,
          1999,
          2000,
          2001,
          2002,
          2003,
          2004,
          2005,
          2006,
          2007,
          2008,
          2009,
          2010,
          2011,
          2012,
          2013,
          2014,
          2015,
          2016,
          2017,
          2018,
          2019,
          2020,
          2021
         ],
         "xaxis": "x",
         "y": [
          43862,
          41884,
          40599,
          40087,
          40304,
          40999,
          41849,
          42697,
          43507,
          44486,
          45734,
          47284,
          48987,
          50741,
          52707,
          54737,
          56761,
          58797,
          60766,
          62559,
          64055,
          65352,
          66600,
          68185,
          70183,
          72211,
          74781,
          77901,
          82220,
          87451,
          91658,
          95266,
          99719,
          104605,
          109528,
          115033,
          120946,
          131619,
          142043,
          146951,
          151396,
          157307,
          163197,
          168087,
          175234,
          181342,
          185652,
          193482,
          203660,
          214662,
          227913,
          241860,
          255223,
          268055,
          280991,
          294420,
          307849,
          321192,
          333054,
          344651,
          358200,
          373174,
          386963,
          400422,
          416176,
          434246,
          455671,
          479911,
          504595,
          527419,
          543444,
          548246
         ],
         "yaxis": "y"
        },
        {
         "hovertemplate": "Continent=Asia (UN)<br>Year=%{x}<br>Population aged 90 to 99 years=%{y}<extra></extra>",
         "legendgroup": "Asia (UN)",
         "line": {
          "color": "#EF553B",
          "dash": "solid"
         },
         "marker": {
          "symbol": "circle"
         },
         "mode": "lines",
         "name": "Asia (UN)",
         "orientation": "v",
         "showlegend": true,
         "type": "scatter",
         "x": [
          1950,
          1951,
          1952,
          1953,
          1954,
          1955,
          1956,
          1957,
          1958,
          1959,
          1960,
          1961,
          1962,
          1963,
          1964,
          1965,
          1966,
          1967,
          1968,
          1969,
          1970,
          1971,
          1972,
          1973,
          1974,
          1975,
          1976,
          1977,
          1978,
          1979,
          1980,
          1981,
          1982,
          1983,
          1984,
          1985,
          1986,
          1987,
          1988,
          1989,
          1990,
          1991,
          1992,
          1993,
          1994,
          1995,
          1996,
          1997,
          1998,
          1999,
          2000,
          2001,
          2002,
          2003,
          2004,
          2005,
          2006,
          2007,
          2008,
          2009,
          2010,
          2011,
          2012,
          2013,
          2014,
          2015,
          2016,
          2017,
          2018,
          2019,
          2020,
          2021
         ],
         "xaxis": "x",
         "y": [
          429656,
          421974,
          416713,
          412023,
          407669,
          404737,
          398161,
          388946,
          384127,
          382428,
          374958,
          363237,
          356159,
          355280,
          358901,
          365097,
          373312,
          384012,
          398517,
          418115,
          441278,
          462193,
          483635,
          512262,
          549984,
          593305,
          631219,
          670404,
          718502,
          768016,
          812393,
          852207,
          896313,
          947318,
          1007120,
          1079644,
          1162124,
          1254484,
          1354334,
          1455791,
          1561784,
          1673975,
          1789563,
          1914591,
          2046127,
          2178686,
          2312853,
          2455635,
          2621099,
          2801083,
          2982943,
          3171001,
          3375521,
          3604726,
          3858189,
          4109370,
          4353373,
          4597314,
          4831162,
          5085858,
          5393904,
          5718276,
          6048195,
          6430272,
          6895761,
          7416998,
          7942217,
          8483290,
          9071550,
          9679335,
          10229127,
          10630656
         ],
         "yaxis": "y"
        },
        {
         "hovertemplate": "Continent=Europe (UN)<br>Year=%{x}<br>Population aged 90 to 99 years=%{y}<extra></extra>",
         "legendgroup": "Europe (UN)",
         "line": {
          "color": "#00cc96",
          "dash": "solid"
         },
         "marker": {
          "symbol": "circle"
         },
         "mode": "lines",
         "name": "Europe (UN)",
         "orientation": "v",
         "showlegend": true,
         "type": "scatter",
         "x": [
          1950,
          1951,
          1952,
          1953,
          1954,
          1955,
          1956,
          1957,
          1958,
          1959,
          1960,
          1961,
          1962,
          1963,
          1964,
          1965,
          1966,
          1967,
          1968,
          1969,
          1970,
          1971,
          1972,
          1973,
          1974,
          1975,
          1976,
          1977,
          1978,
          1979,
          1980,
          1981,
          1982,
          1983,
          1984,
          1985,
          1986,
          1987,
          1988,
          1989,
          1990,
          1991,
          1992,
          1993,
          1994,
          1995,
          1996,
          1997,
          1998,
          1999,
          2000,
          2001,
          2002,
          2003,
          2004,
          2005,
          2006,
          2007,
          2008,
          2009,
          2010,
          2011,
          2012,
          2013,
          2014,
          2015,
          2016,
          2017,
          2018,
          2019,
          2020,
          2021
         ],
         "xaxis": "x",
         "y": [
          422715,
          411808,
          407397,
          410533,
          416641,
          425868,
          435148,
          446424,
          489609,
          539315,
          568128,
          596893,
          623170,
          648936,
          683244,
          722169,
          759161,
          794272,
          821079,
          846967,
          879449,
          915816,
          955027,
          991580,
          1030100,
          1071344,
          1106562,
          1148498,
          1198805,
          1245560,
          1282276,
          1316845,
          1362263,
          1410017,
          1458633,
          1506779,
          1562503,
          1633974,
          1709047,
          1791224,
          1891836,
          2000003,
          2113641,
          2222434,
          2325265,
          2431991,
          2540854,
          2659607,
          2786451,
          2911885,
          3044392,
          3172649,
          3294956,
          3405284,
          3511797,
          3551715,
          3471704,
          3344882,
          3254245,
          3280064,
          3479310,
          3801692,
          4115618,
          4410159,
          4723230,
          5027928,
          5331069,
          5624437,
          5917016,
          6232959,
          6495094,
          6660029
         ],
         "yaxis": "y"
        },
        {
         "hovertemplate": "Continent=Latin America and the Caribbean (UN)<br>Year=%{x}<br>Population aged 90 to 99 years=%{y}<extra></extra>",
         "legendgroup": "Latin America and the Caribbean (UN)",
         "line": {
          "color": "#ab63fa",
          "dash": "solid"
         },
         "marker": {
          "symbol": "circle"
         },
         "mode": "lines",
         "name": "Latin America and the Caribbean (UN)",
         "orientation": "v",
         "showlegend": true,
         "type": "scatter",
         "x": [
          1950,
          1951,
          1952,
          1953,
          1954,
          1955,
          1956,
          1957,
          1958,
          1959,
          1960,
          1961,
          1962,
          1963,
          1964,
          1965,
          1966,
          1967,
          1968,
          1969,
          1970,
          1971,
          1972,
          1973,
          1974,
          1975,
          1976,
          1977,
          1978,
          1979,
          1980,
          1981,
          1982,
          1983,
          1984,
          1985,
          1986,
          1987,
          1988,
          1989,
          1990,
          1991,
          1992,
          1993,
          1994,
          1995,
          1996,
          1997,
          1998,
          1999,
          2000,
          2001,
          2002,
          2003,
          2004,
          2005,
          2006,
          2007,
          2008,
          2009,
          2010,
          2011,
          2012,
          2013,
          2014,
          2015,
          2016,
          2017,
          2018,
          2019,
          2020,
          2021
         ],
         "xaxis": "x",
         "y": [
          72754,
          68703,
          68092,
          68388,
          69378,
          71077,
          73275,
          75622,
          77995,
          79984,
          79071,
          76171,
          74615,
          74418,
          75042,
          76429,
          78623,
          81591,
          85266,
          89387,
          92994,
          97268,
          103484,
          110705,
          119527,
          131002,
          144926,
          160968,
          179227,
          199627,
          216599,
          223346,
          225501,
          229240,
          235335,
          246161,
          260688,
          276910,
          294569,
          314520,
          332290,
          346794,
          362990,
          381829,
          405330,
          432650,
          460655,
          488390,
          515439,
          543567,
          573277,
          603203,
          634863,
          667741,
          702069,
          740336,
          782388,
          824577,
          865502,
          907811,
          951308,
          1002332,
          1055525,
          1105617,
          1159079,
          1214701,
          1268964,
          1323977,
          1383955,
          1429587,
          1453761,
          1467247
         ],
         "yaxis": "y"
        },
        {
         "hovertemplate": "Continent=Northern America (UN)<br>Year=%{x}<br>Population aged 90 to 99 years=%{y}<extra></extra>",
         "legendgroup": "Northern America (UN)",
         "line": {
          "color": "#FFA15A",
          "dash": "solid"
         },
         "marker": {
          "symbol": "circle"
         },
         "mode": "lines",
         "name": "Northern America (UN)",
         "orientation": "v",
         "showlegend": true,
         "type": "scatter",
         "x": [
          1950,
          1951,
          1952,
          1953,
          1954,
          1955,
          1956,
          1957,
          1958,
          1959,
          1960,
          1961,
          1962,
          1963,
          1964,
          1965,
          1966,
          1967,
          1968,
          1969,
          1970,
          1971,
          1972,
          1973,
          1974,
          1975,
          1976,
          1977,
          1978,
          1979,
          1980,
          1981,
          1982,
          1983,
          1984,
          1985,
          1986,
          1987,
          1988,
          1989,
          1990,
          1991,
          1992,
          1993,
          1994,
          1995,
          1996,
          1997,
          1998,
          1999,
          2000,
          2001,
          2002,
          2003,
          2004,
          2005,
          2006,
          2007,
          2008,
          2009,
          2010,
          2011,
          2012,
          2013,
          2014,
          2015,
          2016,
          2017,
          2018,
          2019,
          2020,
          2021
         ],
         "xaxis": "x",
         "y": [
          151278,
          160423,
          168359,
          175166,
          182832,
          192737,
          204016,
          215138,
          225421,
          237076,
          250626,
          263112,
          275043,
          285674,
          296990,
          312563,
          328153,
          342663,
          355092,
          367543,
          387763,
          411238,
          433954,
          457656,
          484033,
          516218,
          547986,
          579354,
          618656,
          665106,
          707426,
          745000,
          782504,
          813854,
          848764,
          891475,
          929875,
          962620,
          998577,
          1024609,
          1053755,
          1087100,
          1134892,
          1182696,
          1208878,
          1249111,
          1286198,
          1322287,
          1366438,
          1400105,
          1429819,
          1471493,
          1516344,
          1551454,
          1590813,
          1628551,
          1666097,
          1709392,
          1745976,
          1816546,
          1925570,
          2036161,
          2132223,
          2264487,
          2380258,
          2415901,
          2455642,
          2490740,
          2478595,
          2472320,
          2534552,
          2666815
         ],
         "yaxis": "y"
        },
        {
         "hovertemplate": "Continent=Oceania (UN)<br>Year=%{x}<br>Population aged 90 to 99 years=%{y}<extra></extra>",
         "legendgroup": "Oceania (UN)",
         "line": {
          "color": "#19d3f3",
          "dash": "solid"
         },
         "marker": {
          "symbol": "circle"
         },
         "mode": "lines",
         "name": "Oceania (UN)",
         "orientation": "v",
         "showlegend": true,
         "type": "scatter",
         "x": [
          1950,
          1951,
          1952,
          1953,
          1954,
          1955,
          1956,
          1957,
          1958,
          1959,
          1960,
          1961,
          1962,
          1963,
          1964,
          1965,
          1966,
          1967,
          1968,
          1969,
          1970,
          1971,
          1972,
          1973,
          1974,
          1975,
          1976,
          1977,
          1978,
          1979,
          1980,
          1981,
          1982,
          1983,
          1984,
          1985,
          1986,
          1987,
          1988,
          1989,
          1990,
          1991,
          1992,
          1993,
          1994,
          1995,
          1996,
          1997,
          1998,
          1999,
          2000,
          2001,
          2002,
          2003,
          2004,
          2005,
          2006,
          2007,
          2008,
          2009,
          2010,
          2011,
          2012,
          2013,
          2014,
          2015,
          2016,
          2017,
          2018,
          2019,
          2020,
          2021
         ],
         "xaxis": "x",
         "y": [
          8984,
          9503,
          9964,
          10502,
          11026,
          11536,
          11947,
          12401,
          13037,
          13585,
          14152,
          14875,
          15515,
          16118,
          16695,
          17297,
          17967,
          18756,
          19467,
          20306,
          21489,
          22613,
          23547,
          24460,
          25383,
          26483,
          27634,
          28965,
          30965,
          33139,
          35162,
          37191,
          38901,
          40608,
          42527,
          43891,
          45193,
          46554,
          47862,
          49035,
          51250,
          54444,
          57254,
          60192,
          63204,
          66404,
          69889,
          73334,
          77459,
          82293,
          87276,
          92559,
          98081,
          103851,
          110322,
          117167,
          123311,
          128387,
          132158,
          135968,
          143734,
          153791,
          162992,
          173120,
          183730,
          193847,
          203525,
          212779,
          223194,
          233861,
          243246,
          250986
         ],
         "yaxis": "y"
        }
       ],
       "layout": {
        "legend": {
         "title": {
          "text": "Continent"
         },
         "tracegroupgap": 0
        },
        "template": {
         "data": {
          "bar": [
           {
            "error_x": {
             "color": "#2a3f5f"
            },
            "error_y": {
             "color": "#2a3f5f"
            },
            "marker": {
             "line": {
              "color": "#E5ECF6",
              "width": 0.5
             },
             "pattern": {
              "fillmode": "overlay",
              "size": 10,
              "solidity": 0.2
             }
            },
            "type": "bar"
           }
          ],
          "barpolar": [
           {
            "marker": {
             "line": {
              "color": "#E5ECF6",
              "width": 0.5
             },
             "pattern": {
              "fillmode": "overlay",
              "size": 10,
              "solidity": 0.2
             }
            },
            "type": "barpolar"
           }
          ],
          "carpet": [
           {
            "aaxis": {
             "endlinecolor": "#2a3f5f",
             "gridcolor": "white",
             "linecolor": "white",
             "minorgridcolor": "white",
             "startlinecolor": "#2a3f5f"
            },
            "baxis": {
             "endlinecolor": "#2a3f5f",
             "gridcolor": "white",
             "linecolor": "white",
             "minorgridcolor": "white",
             "startlinecolor": "#2a3f5f"
            },
            "type": "carpet"
           }
          ],
          "choropleth": [
           {
            "colorbar": {
             "outlinewidth": 0,
             "ticks": ""
            },
            "type": "choropleth"
           }
          ],
          "contour": [
           {
            "colorbar": {
             "outlinewidth": 0,
             "ticks": ""
            },
            "colorscale": [
             [
              0,
              "#0d0887"
             ],
             [
              0.1111111111111111,
              "#46039f"
             ],
             [
              0.2222222222222222,
              "#7201a8"
             ],
             [
              0.3333333333333333,
              "#9c179e"
             ],
             [
              0.4444444444444444,
              "#bd3786"
             ],
             [
              0.5555555555555556,
              "#d8576b"
             ],
             [
              0.6666666666666666,
              "#ed7953"
             ],
             [
              0.7777777777777778,
              "#fb9f3a"
             ],
             [
              0.8888888888888888,
              "#fdca26"
             ],
             [
              1,
              "#f0f921"
             ]
            ],
            "type": "contour"
           }
          ],
          "contourcarpet": [
           {
            "colorbar": {
             "outlinewidth": 0,
             "ticks": ""
            },
            "type": "contourcarpet"
           }
          ],
          "heatmap": [
           {
            "colorbar": {
             "outlinewidth": 0,
             "ticks": ""
            },
            "colorscale": [
             [
              0,
              "#0d0887"
             ],
             [
              0.1111111111111111,
              "#46039f"
             ],
             [
              0.2222222222222222,
              "#7201a8"
             ],
             [
              0.3333333333333333,
              "#9c179e"
             ],
             [
              0.4444444444444444,
              "#bd3786"
             ],
             [
              0.5555555555555556,
              "#d8576b"
             ],
             [
              0.6666666666666666,
              "#ed7953"
             ],
             [
              0.7777777777777778,
              "#fb9f3a"
             ],
             [
              0.8888888888888888,
              "#fdca26"
             ],
             [
              1,
              "#f0f921"
             ]
            ],
            "type": "heatmap"
           }
          ],
          "heatmapgl": [
           {
            "colorbar": {
             "outlinewidth": 0,
             "ticks": ""
            },
            "colorscale": [
             [
              0,
              "#0d0887"
             ],
             [
              0.1111111111111111,
              "#46039f"
             ],
             [
              0.2222222222222222,
              "#7201a8"
             ],
             [
              0.3333333333333333,
              "#9c179e"
             ],
             [
              0.4444444444444444,
              "#bd3786"
             ],
             [
              0.5555555555555556,
              "#d8576b"
             ],
             [
              0.6666666666666666,
              "#ed7953"
             ],
             [
              0.7777777777777778,
              "#fb9f3a"
             ],
             [
              0.8888888888888888,
              "#fdca26"
             ],
             [
              1,
              "#f0f921"
             ]
            ],
            "type": "heatmapgl"
           }
          ],
          "histogram": [
           {
            "marker": {
             "pattern": {
              "fillmode": "overlay",
              "size": 10,
              "solidity": 0.2
             }
            },
            "type": "histogram"
           }
          ],
          "histogram2d": [
           {
            "colorbar": {
             "outlinewidth": 0,
             "ticks": ""
            },
            "colorscale": [
             [
              0,
              "#0d0887"
             ],
             [
              0.1111111111111111,
              "#46039f"
             ],
             [
              0.2222222222222222,
              "#7201a8"
             ],
             [
              0.3333333333333333,
              "#9c179e"
             ],
             [
              0.4444444444444444,
              "#bd3786"
             ],
             [
              0.5555555555555556,
              "#d8576b"
             ],
             [
              0.6666666666666666,
              "#ed7953"
             ],
             [
              0.7777777777777778,
              "#fb9f3a"
             ],
             [
              0.8888888888888888,
              "#fdca26"
             ],
             [
              1,
              "#f0f921"
             ]
            ],
            "type": "histogram2d"
           }
          ],
          "histogram2dcontour": [
           {
            "colorbar": {
             "outlinewidth": 0,
             "ticks": ""
            },
            "colorscale": [
             [
              0,
              "#0d0887"
             ],
             [
              0.1111111111111111,
              "#46039f"
             ],
             [
              0.2222222222222222,
              "#7201a8"
             ],
             [
              0.3333333333333333,
              "#9c179e"
             ],
             [
              0.4444444444444444,
              "#bd3786"
             ],
             [
              0.5555555555555556,
              "#d8576b"
             ],
             [
              0.6666666666666666,
              "#ed7953"
             ],
             [
              0.7777777777777778,
              "#fb9f3a"
             ],
             [
              0.8888888888888888,
              "#fdca26"
             ],
             [
              1,
              "#f0f921"
             ]
            ],
            "type": "histogram2dcontour"
           }
          ],
          "mesh3d": [
           {
            "colorbar": {
             "outlinewidth": 0,
             "ticks": ""
            },
            "type": "mesh3d"
           }
          ],
          "parcoords": [
           {
            "line": {
             "colorbar": {
              "outlinewidth": 0,
              "ticks": ""
             }
            },
            "type": "parcoords"
           }
          ],
          "pie": [
           {
            "automargin": true,
            "type": "pie"
           }
          ],
          "scatter": [
           {
            "fillpattern": {
             "fillmode": "overlay",
             "size": 10,
             "solidity": 0.2
            },
            "type": "scatter"
           }
          ],
          "scatter3d": [
           {
            "line": {
             "colorbar": {
              "outlinewidth": 0,
              "ticks": ""
             }
            },
            "marker": {
             "colorbar": {
              "outlinewidth": 0,
              "ticks": ""
             }
            },
            "type": "scatter3d"
           }
          ],
          "scattercarpet": [
           {
            "marker": {
             "colorbar": {
              "outlinewidth": 0,
              "ticks": ""
             }
            },
            "type": "scattercarpet"
           }
          ],
          "scattergeo": [
           {
            "marker": {
             "colorbar": {
              "outlinewidth": 0,
              "ticks": ""
             }
            },
            "type": "scattergeo"
           }
          ],
          "scattergl": [
           {
            "marker": {
             "colorbar": {
              "outlinewidth": 0,
              "ticks": ""
             }
            },
            "type": "scattergl"
           }
          ],
          "scattermapbox": [
           {
            "marker": {
             "colorbar": {
              "outlinewidth": 0,
              "ticks": ""
             }
            },
            "type": "scattermapbox"
           }
          ],
          "scatterpolar": [
           {
            "marker": {
             "colorbar": {
              "outlinewidth": 0,
              "ticks": ""
             }
            },
            "type": "scatterpolar"
           }
          ],
          "scatterpolargl": [
           {
            "marker": {
             "colorbar": {
              "outlinewidth": 0,
              "ticks": ""
             }
            },
            "type": "scatterpolargl"
           }
          ],
          "scatterternary": [
           {
            "marker": {
             "colorbar": {
              "outlinewidth": 0,
              "ticks": ""
             }
            },
            "type": "scatterternary"
           }
          ],
          "surface": [
           {
            "colorbar": {
             "outlinewidth": 0,
             "ticks": ""
            },
            "colorscale": [
             [
              0,
              "#0d0887"
             ],
             [
              0.1111111111111111,
              "#46039f"
             ],
             [
              0.2222222222222222,
              "#7201a8"
             ],
             [
              0.3333333333333333,
              "#9c179e"
             ],
             [
              0.4444444444444444,
              "#bd3786"
             ],
             [
              0.5555555555555556,
              "#d8576b"
             ],
             [
              0.6666666666666666,
              "#ed7953"
             ],
             [
              0.7777777777777778,
              "#fb9f3a"
             ],
             [
              0.8888888888888888,
              "#fdca26"
             ],
             [
              1,
              "#f0f921"
             ]
            ],
            "type": "surface"
           }
          ],
          "table": [
           {
            "cells": {
             "fill": {
              "color": "#EBF0F8"
             },
             "line": {
              "color": "white"
             }
            },
            "header": {
             "fill": {
              "color": "#C8D4E3"
             },
             "line": {
              "color": "white"
             }
            },
            "type": "table"
           }
          ]
         },
         "layout": {
          "annotationdefaults": {
           "arrowcolor": "#2a3f5f",
           "arrowhead": 0,
           "arrowwidth": 1
          },
          "autotypenumbers": "strict",
          "coloraxis": {
           "colorbar": {
            "outlinewidth": 0,
            "ticks": ""
           }
          },
          "colorscale": {
           "diverging": [
            [
             0,
             "#8e0152"
            ],
            [
             0.1,
             "#c51b7d"
            ],
            [
             0.2,
             "#de77ae"
            ],
            [
             0.3,
             "#f1b6da"
            ],
            [
             0.4,
             "#fde0ef"
            ],
            [
             0.5,
             "#f7f7f7"
            ],
            [
             0.6,
             "#e6f5d0"
            ],
            [
             0.7,
             "#b8e186"
            ],
            [
             0.8,
             "#7fbc41"
            ],
            [
             0.9,
             "#4d9221"
            ],
            [
             1,
             "#276419"
            ]
           ],
           "sequential": [
            [
             0,
             "#0d0887"
            ],
            [
             0.1111111111111111,
             "#46039f"
            ],
            [
             0.2222222222222222,
             "#7201a8"
            ],
            [
             0.3333333333333333,
             "#9c179e"
            ],
            [
             0.4444444444444444,
             "#bd3786"
            ],
            [
             0.5555555555555556,
             "#d8576b"
            ],
            [
             0.6666666666666666,
             "#ed7953"
            ],
            [
             0.7777777777777778,
             "#fb9f3a"
            ],
            [
             0.8888888888888888,
             "#fdca26"
            ],
            [
             1,
             "#f0f921"
            ]
           ],
           "sequentialminus": [
            [
             0,
             "#0d0887"
            ],
            [
             0.1111111111111111,
             "#46039f"
            ],
            [
             0.2222222222222222,
             "#7201a8"
            ],
            [
             0.3333333333333333,
             "#9c179e"
            ],
            [
             0.4444444444444444,
             "#bd3786"
            ],
            [
             0.5555555555555556,
             "#d8576b"
            ],
            [
             0.6666666666666666,
             "#ed7953"
            ],
            [
             0.7777777777777778,
             "#fb9f3a"
            ],
            [
             0.8888888888888888,
             "#fdca26"
            ],
            [
             1,
             "#f0f921"
            ]
           ]
          },
          "colorway": [
           "#636efa",
           "#EF553B",
           "#00cc96",
           "#ab63fa",
           "#FFA15A",
           "#19d3f3",
           "#FF6692",
           "#B6E880",
           "#FF97FF",
           "#FECB52"
          ],
          "font": {
           "color": "#2a3f5f"
          },
          "geo": {
           "bgcolor": "white",
           "lakecolor": "white",
           "landcolor": "#E5ECF6",
           "showlakes": true,
           "showland": true,
           "subunitcolor": "white"
          },
          "hoverlabel": {
           "align": "left"
          },
          "hovermode": "closest",
          "mapbox": {
           "style": "light"
          },
          "paper_bgcolor": "white",
          "plot_bgcolor": "#E5ECF6",
          "polar": {
           "angularaxis": {
            "gridcolor": "white",
            "linecolor": "white",
            "ticks": ""
           },
           "bgcolor": "#E5ECF6",
           "radialaxis": {
            "gridcolor": "white",
            "linecolor": "white",
            "ticks": ""
           }
          },
          "scene": {
           "xaxis": {
            "backgroundcolor": "#E5ECF6",
            "gridcolor": "white",
            "gridwidth": 2,
            "linecolor": "white",
            "showbackground": true,
            "ticks": "",
            "zerolinecolor": "white"
           },
           "yaxis": {
            "backgroundcolor": "#E5ECF6",
            "gridcolor": "white",
            "gridwidth": 2,
            "linecolor": "white",
            "showbackground": true,
            "ticks": "",
            "zerolinecolor": "white"
           },
           "zaxis": {
            "backgroundcolor": "#E5ECF6",
            "gridcolor": "white",
            "gridwidth": 2,
            "linecolor": "white",
            "showbackground": true,
            "ticks": "",
            "zerolinecolor": "white"
           }
          },
          "shapedefaults": {
           "line": {
            "color": "#2a3f5f"
           }
          },
          "ternary": {
           "aaxis": {
            "gridcolor": "white",
            "linecolor": "white",
            "ticks": ""
           },
           "baxis": {
            "gridcolor": "white",
            "linecolor": "white",
            "ticks": ""
           },
           "bgcolor": "#E5ECF6",
           "caxis": {
            "gridcolor": "white",
            "linecolor": "white",
            "ticks": ""
           }
          },
          "title": {
           "x": 0.05
          },
          "xaxis": {
           "automargin": true,
           "gridcolor": "white",
           "linecolor": "white",
           "ticks": "",
           "title": {
            "standoff": 15
           },
           "zerolinecolor": "white",
           "zerolinewidth": 2
          },
          "yaxis": {
           "automargin": true,
           "gridcolor": "white",
           "linecolor": "white",
           "ticks": "",
           "title": {
            "standoff": 15
           },
           "zerolinecolor": "white",
           "zerolinewidth": 2
          }
         }
        },
        "title": {
         "text": "Population aged 90 to 99 in every continents between 1950 and 2021"
        },
        "xaxis": {
         "anchor": "y",
         "domain": [
          0,
          1
         ],
         "title": {
          "text": "Year"
         }
        },
        "yaxis": {
         "anchor": "x",
         "domain": [
          0,
          1
         ],
         "title": {
          "text": "Population aged 90 to 99 years"
         }
        }
       }
      }
     },
     "metadata": {},
     "output_type": "display_data"
    }
   ],
   "source": [
    "# Filter the DataFrame to select data related to other continents\n",
    "continents_data = filtered_pop[~filtered_pop['Continents and World'].isin(['World'])]\n",
    "\n",
    "# Columns to include in the plot\n",
    "columns_to_plot = ['Population aged 90 to 99 years']\n",
    "\n",
    "# Create an interactive line plot with multiple curves using Plotly Express\n",
    "fig = px.line(continents_data, x='Year', y='Population aged 90 to 99 years', color='Continents and World', \n",
    "              title='Population aged 90 to 99 in every continents between 1950 and 2021', \n",
    "              labels={'value': 'Population', 'Year': 'Year', 'Continents and World': 'Continent'})\n",
    "\n",
    "# Show the interactive line plot\n",
    "fig.show()"
   ]
  },
  {
   "cell_type": "markdown",
   "metadata": {},
   "source": [
    "## 2.14: Population older than 100 years"
   ]
  },
  {
   "cell_type": "code",
   "execution_count": 197,
   "metadata": {},
   "outputs": [
    {
     "data": {
      "application/vnd.plotly.v1+json": {
       "config": {
        "plotlyServerURL": "https://plot.ly"
       },
       "data": [
        {
         "hovertemplate": "Continent=Africa (UN)<br>Year=%{x}<br>Population older than 100 years=%{y}<extra></extra>",
         "legendgroup": "Africa (UN)",
         "line": {
          "color": "#636efa",
          "dash": "solid"
         },
         "marker": {
          "symbol": "circle"
         },
         "mode": "lines",
         "name": "Africa (UN)",
         "orientation": "v",
         "showlegend": true,
         "type": "scatter",
         "x": [
          1950,
          1951,
          1952,
          1953,
          1954,
          1955,
          1956,
          1957,
          1958,
          1959,
          1960,
          1961,
          1962,
          1963,
          1964,
          1965,
          1966,
          1967,
          1968,
          1969,
          1970,
          1971,
          1972,
          1973,
          1974,
          1975,
          1976,
          1977,
          1978,
          1979,
          1980,
          1981,
          1982,
          1983,
          1984,
          1985,
          1986,
          1987,
          1988,
          1989,
          1990,
          1991,
          1992,
          1993,
          1994,
          1995,
          1996,
          1997,
          1998,
          1999,
          2000,
          2001,
          2002,
          2003,
          2004,
          2005,
          2006,
          2007,
          2008,
          2009,
          2010,
          2011,
          2012,
          2013,
          2014,
          2015,
          2016,
          2017,
          2018,
          2019,
          2020,
          2021
         ],
         "xaxis": "x",
         "y": [
          615,
          602,
          582,
          557,
          499,
          438,
          422,
          429,
          429,
          419,
          408,
          413,
          428,
          447,
          466,
          482,
          496,
          508.00003,
          523,
          537,
          544,
          543,
          546,
          562,
          585,
          603,
          619,
          632,
          711,
          850,
          968,
          1053,
          1138,
          1227,
          1298,
          1377,
          1456,
          1704,
          1941,
          1986,
          2030,
          2093,
          2141,
          2186,
          2434,
          2680,
          2678,
          2686,
          2796,
          2986,
          3276,
          3627,
          4051,
          4508,
          4934,
          5304,
          5614,
          5865,
          6043,
          6226,
          6656,
          7345,
          8042,
          8679,
          9278,
          9835,
          10498,
          11278,
          12040,
          12594,
          12861,
          12740
         ],
         "yaxis": "y"
        },
        {
         "hovertemplate": "Continent=Asia (UN)<br>Year=%{x}<br>Population older than 100 years=%{y}<extra></extra>",
         "legendgroup": "Asia (UN)",
         "line": {
          "color": "#EF553B",
          "dash": "solid"
         },
         "marker": {
          "symbol": "circle"
         },
         "mode": "lines",
         "name": "Asia (UN)",
         "orientation": "v",
         "showlegend": true,
         "type": "scatter",
         "x": [
          1950,
          1951,
          1952,
          1953,
          1954,
          1955,
          1956,
          1957,
          1958,
          1959,
          1960,
          1961,
          1962,
          1963,
          1964,
          1965,
          1966,
          1967,
          1968,
          1969,
          1970,
          1971,
          1972,
          1973,
          1974,
          1975,
          1976,
          1977,
          1978,
          1979,
          1980,
          1981,
          1982,
          1983,
          1984,
          1985,
          1986,
          1987,
          1988,
          1989,
          1990,
          1991,
          1992,
          1993,
          1994,
          1995,
          1996,
          1997,
          1998,
          1999,
          2000,
          2001,
          2002,
          2003,
          2004,
          2005,
          2006,
          2007,
          2008,
          2009,
          2010,
          2011,
          2012,
          2013,
          2014,
          2015,
          2016,
          2017,
          2018,
          2019,
          2020,
          2021
         ],
         "xaxis": "x",
         "y": [
          3170,
          3912,
          4511,
          4633,
          4325,
          3804,
          3528,
          3533,
          3546,
          3527,
          3449,
          3326,
          3244,
          3199,
          3170,
          3108,
          3060,
          3088,
          3187,
          3370,
          3567,
          3813,
          4274,
          5066,
          6358,
          7657,
          8355,
          8681,
          8884,
          9009,
          9259,
          9790,
          10585,
          11496,
          12453,
          13730,
          15379,
          17259,
          19166,
          20881,
          22407,
          23837,
          25389,
          27230,
          29605,
          32578.998,
          36314,
          40592,
          44888,
          48786,
          52920,
          58392,
          64691,
          71201,
          77626,
          83505,
          89847,
          98111,
          107614,
          117736,
          127838,
          137607,
          148008,
          159725,
          173210,
          187429,
          202034,
          217144,
          232309,
          248406,
          266278,
          281309
         ],
         "yaxis": "y"
        },
        {
         "hovertemplate": "Continent=Europe (UN)<br>Year=%{x}<br>Population older than 100 years=%{y}<extra></extra>",
         "legendgroup": "Europe (UN)",
         "line": {
          "color": "#00cc96",
          "dash": "solid"
         },
         "marker": {
          "symbol": "circle"
         },
         "mode": "lines",
         "name": "Europe (UN)",
         "orientation": "v",
         "showlegend": true,
         "type": "scatter",
         "x": [
          1950,
          1951,
          1952,
          1953,
          1954,
          1955,
          1956,
          1957,
          1958,
          1959,
          1960,
          1961,
          1962,
          1963,
          1964,
          1965,
          1966,
          1967,
          1968,
          1969,
          1970,
          1971,
          1972,
          1973,
          1974,
          1975,
          1976,
          1977,
          1978,
          1979,
          1980,
          1981,
          1982,
          1983,
          1984,
          1985,
          1986,
          1987,
          1988,
          1989,
          1990,
          1991,
          1992,
          1993,
          1994,
          1995,
          1996,
          1997,
          1998,
          1999,
          2000,
          2001,
          2002,
          2003,
          2004,
          2005,
          2006,
          2007,
          2008,
          2009,
          2010,
          2011,
          2012,
          2013,
          2014,
          2015,
          2016,
          2017,
          2018,
          2019,
          2020,
          2021
         ],
         "xaxis": "x",
         "y": [
          4503,
          5489,
          5673,
          5589,
          5361,
          5131,
          5087,
          5247,
          6570,
          8540,
          9916,
          10973,
          11482,
          11686,
          12146,
          12470,
          12597,
          12849,
          13046,
          13398,
          14043,
          14419,
          14693,
          15041,
          15398,
          15928,
          16384,
          16910,
          17552,
          18316,
          19327,
          20339,
          21506,
          22686,
          23730,
          24680,
          25734,
          27386,
          29165,
          30703,
          31845,
          32526,
          33171,
          33411,
          33656,
          34587,
          36096,
          38041,
          40019,
          42148,
          45224,
          48913,
          52629,
          55599,
          58763,
          62778,
          67204,
          72361,
          77504,
          82714,
          88573,
          94588,
          100574,
          106837,
          112745,
          113595,
          109088,
          104049,
          102448,
          108488,
          125584,
          147662
         ],
         "yaxis": "y"
        },
        {
         "hovertemplate": "Continent=Latin America and the Caribbean (UN)<br>Year=%{x}<br>Population older than 100 years=%{y}<extra></extra>",
         "legendgroup": "Latin America and the Caribbean (UN)",
         "line": {
          "color": "#ab63fa",
          "dash": "solid"
         },
         "marker": {
          "symbol": "circle"
         },
         "mode": "lines",
         "name": "Latin America and the Caribbean (UN)",
         "orientation": "v",
         "showlegend": true,
         "type": "scatter",
         "x": [
          1950,
          1951,
          1952,
          1953,
          1954,
          1955,
          1956,
          1957,
          1958,
          1959,
          1960,
          1961,
          1962,
          1963,
          1964,
          1965,
          1966,
          1967,
          1968,
          1969,
          1970,
          1971,
          1972,
          1973,
          1974,
          1975,
          1976,
          1977,
          1978,
          1979,
          1980,
          1981,
          1982,
          1983,
          1984,
          1985,
          1986,
          1987,
          1988,
          1989,
          1990,
          1991,
          1992,
          1993,
          1994,
          1995,
          1996,
          1997,
          1998,
          1999,
          2000,
          2001,
          2002,
          2003,
          2004,
          2005,
          2006,
          2007,
          2008,
          2009,
          2010,
          2011,
          2012,
          2013,
          2014,
          2015,
          2016,
          2017,
          2018,
          2019,
          2020,
          2021
         ],
         "xaxis": "x",
         "y": [
          1875,
          1644,
          1599,
          1573,
          1536,
          1515,
          1563,
          1663,
          1744,
          1810,
          1780,
          1659,
          1547,
          1448,
          1381,
          1343,
          1329,
          1349,
          1370,
          1387,
          1419,
          1510,
          1653,
          1809,
          1982,
          2163,
          2487,
          2818,
          3027,
          3398,
          4019,
          4623,
          5006,
          5196,
          5303,
          5415,
          6539,
          8483,
          10208,
          11850,
          12986,
          13075,
          12348,
          11505,
          11069,
          11220,
          11969,
          13511,
          16326,
          19930,
          23232,
          25293,
          25992,
          25948,
          25697,
          25667,
          25954,
          26425,
          26927,
          27584,
          28470,
          30084,
          32111,
          33864,
          35232,
          36374,
          37688,
          38562,
          38834,
          39462,
          41100,
          42666
         ],
         "yaxis": "y"
        },
        {
         "hovertemplate": "Continent=Northern America (UN)<br>Year=%{x}<br>Population older than 100 years=%{y}<extra></extra>",
         "legendgroup": "Northern America (UN)",
         "line": {
          "color": "#FFA15A",
          "dash": "solid"
         },
         "marker": {
          "symbol": "circle"
         },
         "mode": "lines",
         "name": "Northern America (UN)",
         "orientation": "v",
         "showlegend": true,
         "type": "scatter",
         "x": [
          1950,
          1951,
          1952,
          1953,
          1954,
          1955,
          1956,
          1957,
          1958,
          1959,
          1960,
          1961,
          1962,
          1963,
          1964,
          1965,
          1966,
          1967,
          1968,
          1969,
          1970,
          1971,
          1972,
          1973,
          1974,
          1975,
          1976,
          1977,
          1978,
          1979,
          1980,
          1981,
          1982,
          1983,
          1984,
          1985,
          1986,
          1987,
          1988,
          1989,
          1990,
          1991,
          1992,
          1993,
          1994,
          1995,
          1996,
          1997,
          1998,
          1999,
          2000,
          2001,
          2002,
          2003,
          2004,
          2005,
          2006,
          2007,
          2008,
          2009,
          2010,
          2011,
          2012,
          2013,
          2014,
          2015,
          2016,
          2017,
          2018,
          2019,
          2020,
          2021
         ],
         "xaxis": "x",
         "y": [
          4215,
          3941,
          3723,
          3615,
          3617,
          3693,
          3807,
          3885,
          3957,
          4162,
          4505,
          4812,
          5004,
          5124,
          5256,
          5462,
          5753,
          6142,
          6505,
          6924,
          7573,
          8174,
          8722,
          9194,
          9598,
          10372,
          11253,
          12051,
          12860,
          13891,
          15318,
          16878,
          18636,
          20417,
          22092,
          23665,
          25102,
          26425,
          28000,
          30003,
          32009.998,
          33768,
          35241,
          36166,
          37408,
          39334,
          40874,
          41716,
          42779,
          42922,
          42486,
          42227,
          42896,
          43540,
          43275,
          44221,
          45199,
          46556,
          48513,
          50739,
          53559,
          56776,
          60437,
          63721,
          67036,
          70603,
          76838,
          82736,
          84513,
          88442,
          94950,
          101252
         ],
         "yaxis": "y"
        },
        {
         "hovertemplate": "Continent=Oceania (UN)<br>Year=%{x}<br>Population older than 100 years=%{y}<extra></extra>",
         "legendgroup": "Oceania (UN)",
         "line": {
          "color": "#19d3f3",
          "dash": "solid"
         },
         "marker": {
          "symbol": "circle"
         },
         "mode": "lines",
         "name": "Oceania (UN)",
         "orientation": "v",
         "showlegend": true,
         "type": "scatter",
         "x": [
          1950,
          1951,
          1952,
          1953,
          1954,
          1955,
          1956,
          1957,
          1958,
          1959,
          1960,
          1961,
          1962,
          1963,
          1964,
          1965,
          1966,
          1967,
          1968,
          1969,
          1970,
          1971,
          1972,
          1973,
          1974,
          1975,
          1976,
          1977,
          1978,
          1979,
          1980,
          1981,
          1982,
          1983,
          1984,
          1985,
          1986,
          1987,
          1988,
          1989,
          1990,
          1991,
          1992,
          1993,
          1994,
          1995,
          1996,
          1997,
          1998,
          1999,
          2000,
          2001,
          2002,
          2003,
          2004,
          2005,
          2006,
          2007,
          2008,
          2009,
          2010,
          2011,
          2012,
          2013,
          2014,
          2015,
          2016,
          2017,
          2018,
          2019,
          2020,
          2021
         ],
         "xaxis": "x",
         "y": [
          92,
          84,
          82,
          82,
          89,
          100,
          107,
          110,
          116,
          125,
          140,
          157,
          172,
          184,
          190,
          199,
          202,
          204,
          220,
          237,
          255,
          274,
          287,
          295,
          300,
          321,
          354,
          375,
          404,
          459,
          518,
          572,
          614,
          664,
          741,
          803,
          867,
          947,
          1016.99994,
          1087,
          1167,
          1260,
          1345,
          1418,
          1469,
          1504,
          1543,
          1579,
          1642,
          1728,
          1831,
          1936,
          2010.9999,
          2079,
          2201,
          2394,
          2562,
          2681,
          2781,
          2926,
          3124,
          3321,
          3546,
          3858,
          4245,
          4644,
          5021,
          5380,
          5778,
          6180,
          6769,
          7537
         ],
         "yaxis": "y"
        }
       ],
       "layout": {
        "legend": {
         "title": {
          "text": "Continent"
         },
         "tracegroupgap": 0
        },
        "template": {
         "data": {
          "bar": [
           {
            "error_x": {
             "color": "#2a3f5f"
            },
            "error_y": {
             "color": "#2a3f5f"
            },
            "marker": {
             "line": {
              "color": "#E5ECF6",
              "width": 0.5
             },
             "pattern": {
              "fillmode": "overlay",
              "size": 10,
              "solidity": 0.2
             }
            },
            "type": "bar"
           }
          ],
          "barpolar": [
           {
            "marker": {
             "line": {
              "color": "#E5ECF6",
              "width": 0.5
             },
             "pattern": {
              "fillmode": "overlay",
              "size": 10,
              "solidity": 0.2
             }
            },
            "type": "barpolar"
           }
          ],
          "carpet": [
           {
            "aaxis": {
             "endlinecolor": "#2a3f5f",
             "gridcolor": "white",
             "linecolor": "white",
             "minorgridcolor": "white",
             "startlinecolor": "#2a3f5f"
            },
            "baxis": {
             "endlinecolor": "#2a3f5f",
             "gridcolor": "white",
             "linecolor": "white",
             "minorgridcolor": "white",
             "startlinecolor": "#2a3f5f"
            },
            "type": "carpet"
           }
          ],
          "choropleth": [
           {
            "colorbar": {
             "outlinewidth": 0,
             "ticks": ""
            },
            "type": "choropleth"
           }
          ],
          "contour": [
           {
            "colorbar": {
             "outlinewidth": 0,
             "ticks": ""
            },
            "colorscale": [
             [
              0,
              "#0d0887"
             ],
             [
              0.1111111111111111,
              "#46039f"
             ],
             [
              0.2222222222222222,
              "#7201a8"
             ],
             [
              0.3333333333333333,
              "#9c179e"
             ],
             [
              0.4444444444444444,
              "#bd3786"
             ],
             [
              0.5555555555555556,
              "#d8576b"
             ],
             [
              0.6666666666666666,
              "#ed7953"
             ],
             [
              0.7777777777777778,
              "#fb9f3a"
             ],
             [
              0.8888888888888888,
              "#fdca26"
             ],
             [
              1,
              "#f0f921"
             ]
            ],
            "type": "contour"
           }
          ],
          "contourcarpet": [
           {
            "colorbar": {
             "outlinewidth": 0,
             "ticks": ""
            },
            "type": "contourcarpet"
           }
          ],
          "heatmap": [
           {
            "colorbar": {
             "outlinewidth": 0,
             "ticks": ""
            },
            "colorscale": [
             [
              0,
              "#0d0887"
             ],
             [
              0.1111111111111111,
              "#46039f"
             ],
             [
              0.2222222222222222,
              "#7201a8"
             ],
             [
              0.3333333333333333,
              "#9c179e"
             ],
             [
              0.4444444444444444,
              "#bd3786"
             ],
             [
              0.5555555555555556,
              "#d8576b"
             ],
             [
              0.6666666666666666,
              "#ed7953"
             ],
             [
              0.7777777777777778,
              "#fb9f3a"
             ],
             [
              0.8888888888888888,
              "#fdca26"
             ],
             [
              1,
              "#f0f921"
             ]
            ],
            "type": "heatmap"
           }
          ],
          "heatmapgl": [
           {
            "colorbar": {
             "outlinewidth": 0,
             "ticks": ""
            },
            "colorscale": [
             [
              0,
              "#0d0887"
             ],
             [
              0.1111111111111111,
              "#46039f"
             ],
             [
              0.2222222222222222,
              "#7201a8"
             ],
             [
              0.3333333333333333,
              "#9c179e"
             ],
             [
              0.4444444444444444,
              "#bd3786"
             ],
             [
              0.5555555555555556,
              "#d8576b"
             ],
             [
              0.6666666666666666,
              "#ed7953"
             ],
             [
              0.7777777777777778,
              "#fb9f3a"
             ],
             [
              0.8888888888888888,
              "#fdca26"
             ],
             [
              1,
              "#f0f921"
             ]
            ],
            "type": "heatmapgl"
           }
          ],
          "histogram": [
           {
            "marker": {
             "pattern": {
              "fillmode": "overlay",
              "size": 10,
              "solidity": 0.2
             }
            },
            "type": "histogram"
           }
          ],
          "histogram2d": [
           {
            "colorbar": {
             "outlinewidth": 0,
             "ticks": ""
            },
            "colorscale": [
             [
              0,
              "#0d0887"
             ],
             [
              0.1111111111111111,
              "#46039f"
             ],
             [
              0.2222222222222222,
              "#7201a8"
             ],
             [
              0.3333333333333333,
              "#9c179e"
             ],
             [
              0.4444444444444444,
              "#bd3786"
             ],
             [
              0.5555555555555556,
              "#d8576b"
             ],
             [
              0.6666666666666666,
              "#ed7953"
             ],
             [
              0.7777777777777778,
              "#fb9f3a"
             ],
             [
              0.8888888888888888,
              "#fdca26"
             ],
             [
              1,
              "#f0f921"
             ]
            ],
            "type": "histogram2d"
           }
          ],
          "histogram2dcontour": [
           {
            "colorbar": {
             "outlinewidth": 0,
             "ticks": ""
            },
            "colorscale": [
             [
              0,
              "#0d0887"
             ],
             [
              0.1111111111111111,
              "#46039f"
             ],
             [
              0.2222222222222222,
              "#7201a8"
             ],
             [
              0.3333333333333333,
              "#9c179e"
             ],
             [
              0.4444444444444444,
              "#bd3786"
             ],
             [
              0.5555555555555556,
              "#d8576b"
             ],
             [
              0.6666666666666666,
              "#ed7953"
             ],
             [
              0.7777777777777778,
              "#fb9f3a"
             ],
             [
              0.8888888888888888,
              "#fdca26"
             ],
             [
              1,
              "#f0f921"
             ]
            ],
            "type": "histogram2dcontour"
           }
          ],
          "mesh3d": [
           {
            "colorbar": {
             "outlinewidth": 0,
             "ticks": ""
            },
            "type": "mesh3d"
           }
          ],
          "parcoords": [
           {
            "line": {
             "colorbar": {
              "outlinewidth": 0,
              "ticks": ""
             }
            },
            "type": "parcoords"
           }
          ],
          "pie": [
           {
            "automargin": true,
            "type": "pie"
           }
          ],
          "scatter": [
           {
            "fillpattern": {
             "fillmode": "overlay",
             "size": 10,
             "solidity": 0.2
            },
            "type": "scatter"
           }
          ],
          "scatter3d": [
           {
            "line": {
             "colorbar": {
              "outlinewidth": 0,
              "ticks": ""
             }
            },
            "marker": {
             "colorbar": {
              "outlinewidth": 0,
              "ticks": ""
             }
            },
            "type": "scatter3d"
           }
          ],
          "scattercarpet": [
           {
            "marker": {
             "colorbar": {
              "outlinewidth": 0,
              "ticks": ""
             }
            },
            "type": "scattercarpet"
           }
          ],
          "scattergeo": [
           {
            "marker": {
             "colorbar": {
              "outlinewidth": 0,
              "ticks": ""
             }
            },
            "type": "scattergeo"
           }
          ],
          "scattergl": [
           {
            "marker": {
             "colorbar": {
              "outlinewidth": 0,
              "ticks": ""
             }
            },
            "type": "scattergl"
           }
          ],
          "scattermapbox": [
           {
            "marker": {
             "colorbar": {
              "outlinewidth": 0,
              "ticks": ""
             }
            },
            "type": "scattermapbox"
           }
          ],
          "scatterpolar": [
           {
            "marker": {
             "colorbar": {
              "outlinewidth": 0,
              "ticks": ""
             }
            },
            "type": "scatterpolar"
           }
          ],
          "scatterpolargl": [
           {
            "marker": {
             "colorbar": {
              "outlinewidth": 0,
              "ticks": ""
             }
            },
            "type": "scatterpolargl"
           }
          ],
          "scatterternary": [
           {
            "marker": {
             "colorbar": {
              "outlinewidth": 0,
              "ticks": ""
             }
            },
            "type": "scatterternary"
           }
          ],
          "surface": [
           {
            "colorbar": {
             "outlinewidth": 0,
             "ticks": ""
            },
            "colorscale": [
             [
              0,
              "#0d0887"
             ],
             [
              0.1111111111111111,
              "#46039f"
             ],
             [
              0.2222222222222222,
              "#7201a8"
             ],
             [
              0.3333333333333333,
              "#9c179e"
             ],
             [
              0.4444444444444444,
              "#bd3786"
             ],
             [
              0.5555555555555556,
              "#d8576b"
             ],
             [
              0.6666666666666666,
              "#ed7953"
             ],
             [
              0.7777777777777778,
              "#fb9f3a"
             ],
             [
              0.8888888888888888,
              "#fdca26"
             ],
             [
              1,
              "#f0f921"
             ]
            ],
            "type": "surface"
           }
          ],
          "table": [
           {
            "cells": {
             "fill": {
              "color": "#EBF0F8"
             },
             "line": {
              "color": "white"
             }
            },
            "header": {
             "fill": {
              "color": "#C8D4E3"
             },
             "line": {
              "color": "white"
             }
            },
            "type": "table"
           }
          ]
         },
         "layout": {
          "annotationdefaults": {
           "arrowcolor": "#2a3f5f",
           "arrowhead": 0,
           "arrowwidth": 1
          },
          "autotypenumbers": "strict",
          "coloraxis": {
           "colorbar": {
            "outlinewidth": 0,
            "ticks": ""
           }
          },
          "colorscale": {
           "diverging": [
            [
             0,
             "#8e0152"
            ],
            [
             0.1,
             "#c51b7d"
            ],
            [
             0.2,
             "#de77ae"
            ],
            [
             0.3,
             "#f1b6da"
            ],
            [
             0.4,
             "#fde0ef"
            ],
            [
             0.5,
             "#f7f7f7"
            ],
            [
             0.6,
             "#e6f5d0"
            ],
            [
             0.7,
             "#b8e186"
            ],
            [
             0.8,
             "#7fbc41"
            ],
            [
             0.9,
             "#4d9221"
            ],
            [
             1,
             "#276419"
            ]
           ],
           "sequential": [
            [
             0,
             "#0d0887"
            ],
            [
             0.1111111111111111,
             "#46039f"
            ],
            [
             0.2222222222222222,
             "#7201a8"
            ],
            [
             0.3333333333333333,
             "#9c179e"
            ],
            [
             0.4444444444444444,
             "#bd3786"
            ],
            [
             0.5555555555555556,
             "#d8576b"
            ],
            [
             0.6666666666666666,
             "#ed7953"
            ],
            [
             0.7777777777777778,
             "#fb9f3a"
            ],
            [
             0.8888888888888888,
             "#fdca26"
            ],
            [
             1,
             "#f0f921"
            ]
           ],
           "sequentialminus": [
            [
             0,
             "#0d0887"
            ],
            [
             0.1111111111111111,
             "#46039f"
            ],
            [
             0.2222222222222222,
             "#7201a8"
            ],
            [
             0.3333333333333333,
             "#9c179e"
            ],
            [
             0.4444444444444444,
             "#bd3786"
            ],
            [
             0.5555555555555556,
             "#d8576b"
            ],
            [
             0.6666666666666666,
             "#ed7953"
            ],
            [
             0.7777777777777778,
             "#fb9f3a"
            ],
            [
             0.8888888888888888,
             "#fdca26"
            ],
            [
             1,
             "#f0f921"
            ]
           ]
          },
          "colorway": [
           "#636efa",
           "#EF553B",
           "#00cc96",
           "#ab63fa",
           "#FFA15A",
           "#19d3f3",
           "#FF6692",
           "#B6E880",
           "#FF97FF",
           "#FECB52"
          ],
          "font": {
           "color": "#2a3f5f"
          },
          "geo": {
           "bgcolor": "white",
           "lakecolor": "white",
           "landcolor": "#E5ECF6",
           "showlakes": true,
           "showland": true,
           "subunitcolor": "white"
          },
          "hoverlabel": {
           "align": "left"
          },
          "hovermode": "closest",
          "mapbox": {
           "style": "light"
          },
          "paper_bgcolor": "white",
          "plot_bgcolor": "#E5ECF6",
          "polar": {
           "angularaxis": {
            "gridcolor": "white",
            "linecolor": "white",
            "ticks": ""
           },
           "bgcolor": "#E5ECF6",
           "radialaxis": {
            "gridcolor": "white",
            "linecolor": "white",
            "ticks": ""
           }
          },
          "scene": {
           "xaxis": {
            "backgroundcolor": "#E5ECF6",
            "gridcolor": "white",
            "gridwidth": 2,
            "linecolor": "white",
            "showbackground": true,
            "ticks": "",
            "zerolinecolor": "white"
           },
           "yaxis": {
            "backgroundcolor": "#E5ECF6",
            "gridcolor": "white",
            "gridwidth": 2,
            "linecolor": "white",
            "showbackground": true,
            "ticks": "",
            "zerolinecolor": "white"
           },
           "zaxis": {
            "backgroundcolor": "#E5ECF6",
            "gridcolor": "white",
            "gridwidth": 2,
            "linecolor": "white",
            "showbackground": true,
            "ticks": "",
            "zerolinecolor": "white"
           }
          },
          "shapedefaults": {
           "line": {
            "color": "#2a3f5f"
           }
          },
          "ternary": {
           "aaxis": {
            "gridcolor": "white",
            "linecolor": "white",
            "ticks": ""
           },
           "baxis": {
            "gridcolor": "white",
            "linecolor": "white",
            "ticks": ""
           },
           "bgcolor": "#E5ECF6",
           "caxis": {
            "gridcolor": "white",
            "linecolor": "white",
            "ticks": ""
           }
          },
          "title": {
           "x": 0.05
          },
          "xaxis": {
           "automargin": true,
           "gridcolor": "white",
           "linecolor": "white",
           "ticks": "",
           "title": {
            "standoff": 15
           },
           "zerolinecolor": "white",
           "zerolinewidth": 2
          },
          "yaxis": {
           "automargin": true,
           "gridcolor": "white",
           "linecolor": "white",
           "ticks": "",
           "title": {
            "standoff": 15
           },
           "zerolinecolor": "white",
           "zerolinewidth": 2
          }
         }
        },
        "title": {
         "text": "Population older than 100 years in every continents between 1950 and 2021"
        },
        "xaxis": {
         "anchor": "y",
         "domain": [
          0,
          1
         ],
         "title": {
          "text": "Year"
         }
        },
        "yaxis": {
         "anchor": "x",
         "domain": [
          0,
          1
         ],
         "title": {
          "text": "Population older than 100 years"
         }
        }
       }
      }
     },
     "metadata": {},
     "output_type": "display_data"
    }
   ],
   "source": [
    "# Filter the DataFrame to select data related to other continents\n",
    "continents_data = filtered_pop[~filtered_pop['Continents and World'].isin(['World'])]\n",
    "\n",
    "# Columns to include in the plot\n",
    "columns_to_plot = ['Population older than 100 years']\n",
    "\n",
    "\n",
    "# Create an interactive line plot with multiple curves using Plotly Express\n",
    "fig = px.line(continents_data, x='Year', y='Population older than 100 years', color='Continents and World', \n",
    "              title='Population older than 100 years in every continents between 1950 and 2021', \n",
    "              labels={'value': 'Population', 'Year': 'Year', 'Continents and World': 'Continent'})\n",
    "\n",
    "# Show the interactive line plot\n",
    "fig.show()"
   ]
  },
  {
   "cell_type": "markdown",
   "metadata": {},
   "source": [
    "## 3"
   ]
  },
  {
   "cell_type": "code",
   "execution_count": 198,
   "metadata": {},
   "outputs": [
    {
     "data": {
      "application/vnd.jupyter.widget-view+json": {
       "model_id": "4ba0bff89b8042cbbc9c309da07082ac",
       "version_major": 2,
       "version_minor": 0
      },
      "text/plain": [
       "Dropdown(description='Select Year:', options=(1950, 1951, 1952, 1953, 1954, 1955, 1956, 1957, 1958, 1959, 1960…"
      ]
     },
     "metadata": {},
     "output_type": "display_data"
    },
    {
     "data": {
      "application/vnd.plotly.v1+json": {
       "config": {
        "plotlyServerURL": "https://plot.ly"
       },
       "data": [
        {
         "labels": [
          "Africa (UN)",
          "Asia (UN)",
          "Europe (UN)",
          "Latin America and the Caribbean (UN)",
          "Northern America (UN)",
          "Oceania (UN)"
         ],
         "type": "pie",
         "values": [
          227549260,
          1379048300,
          549721700,
          168335840,
          162089340,
          12577612
         ]
        }
       ],
       "layout": {
        "template": {
         "data": {
          "bar": [
           {
            "error_x": {
             "color": "#2a3f5f"
            },
            "error_y": {
             "color": "#2a3f5f"
            },
            "marker": {
             "line": {
              "color": "#E5ECF6",
              "width": 0.5
             },
             "pattern": {
              "fillmode": "overlay",
              "size": 10,
              "solidity": 0.2
             }
            },
            "type": "bar"
           }
          ],
          "barpolar": [
           {
            "marker": {
             "line": {
              "color": "#E5ECF6",
              "width": 0.5
             },
             "pattern": {
              "fillmode": "overlay",
              "size": 10,
              "solidity": 0.2
             }
            },
            "type": "barpolar"
           }
          ],
          "carpet": [
           {
            "aaxis": {
             "endlinecolor": "#2a3f5f",
             "gridcolor": "white",
             "linecolor": "white",
             "minorgridcolor": "white",
             "startlinecolor": "#2a3f5f"
            },
            "baxis": {
             "endlinecolor": "#2a3f5f",
             "gridcolor": "white",
             "linecolor": "white",
             "minorgridcolor": "white",
             "startlinecolor": "#2a3f5f"
            },
            "type": "carpet"
           }
          ],
          "choropleth": [
           {
            "colorbar": {
             "outlinewidth": 0,
             "ticks": ""
            },
            "type": "choropleth"
           }
          ],
          "contour": [
           {
            "colorbar": {
             "outlinewidth": 0,
             "ticks": ""
            },
            "colorscale": [
             [
              0,
              "#0d0887"
             ],
             [
              0.1111111111111111,
              "#46039f"
             ],
             [
              0.2222222222222222,
              "#7201a8"
             ],
             [
              0.3333333333333333,
              "#9c179e"
             ],
             [
              0.4444444444444444,
              "#bd3786"
             ],
             [
              0.5555555555555556,
              "#d8576b"
             ],
             [
              0.6666666666666666,
              "#ed7953"
             ],
             [
              0.7777777777777778,
              "#fb9f3a"
             ],
             [
              0.8888888888888888,
              "#fdca26"
             ],
             [
              1,
              "#f0f921"
             ]
            ],
            "type": "contour"
           }
          ],
          "contourcarpet": [
           {
            "colorbar": {
             "outlinewidth": 0,
             "ticks": ""
            },
            "type": "contourcarpet"
           }
          ],
          "heatmap": [
           {
            "colorbar": {
             "outlinewidth": 0,
             "ticks": ""
            },
            "colorscale": [
             [
              0,
              "#0d0887"
             ],
             [
              0.1111111111111111,
              "#46039f"
             ],
             [
              0.2222222222222222,
              "#7201a8"
             ],
             [
              0.3333333333333333,
              "#9c179e"
             ],
             [
              0.4444444444444444,
              "#bd3786"
             ],
             [
              0.5555555555555556,
              "#d8576b"
             ],
             [
              0.6666666666666666,
              "#ed7953"
             ],
             [
              0.7777777777777778,
              "#fb9f3a"
             ],
             [
              0.8888888888888888,
              "#fdca26"
             ],
             [
              1,
              "#f0f921"
             ]
            ],
            "type": "heatmap"
           }
          ],
          "heatmapgl": [
           {
            "colorbar": {
             "outlinewidth": 0,
             "ticks": ""
            },
            "colorscale": [
             [
              0,
              "#0d0887"
             ],
             [
              0.1111111111111111,
              "#46039f"
             ],
             [
              0.2222222222222222,
              "#7201a8"
             ],
             [
              0.3333333333333333,
              "#9c179e"
             ],
             [
              0.4444444444444444,
              "#bd3786"
             ],
             [
              0.5555555555555556,
              "#d8576b"
             ],
             [
              0.6666666666666666,
              "#ed7953"
             ],
             [
              0.7777777777777778,
              "#fb9f3a"
             ],
             [
              0.8888888888888888,
              "#fdca26"
             ],
             [
              1,
              "#f0f921"
             ]
            ],
            "type": "heatmapgl"
           }
          ],
          "histogram": [
           {
            "marker": {
             "pattern": {
              "fillmode": "overlay",
              "size": 10,
              "solidity": 0.2
             }
            },
            "type": "histogram"
           }
          ],
          "histogram2d": [
           {
            "colorbar": {
             "outlinewidth": 0,
             "ticks": ""
            },
            "colorscale": [
             [
              0,
              "#0d0887"
             ],
             [
              0.1111111111111111,
              "#46039f"
             ],
             [
              0.2222222222222222,
              "#7201a8"
             ],
             [
              0.3333333333333333,
              "#9c179e"
             ],
             [
              0.4444444444444444,
              "#bd3786"
             ],
             [
              0.5555555555555556,
              "#d8576b"
             ],
             [
              0.6666666666666666,
              "#ed7953"
             ],
             [
              0.7777777777777778,
              "#fb9f3a"
             ],
             [
              0.8888888888888888,
              "#fdca26"
             ],
             [
              1,
              "#f0f921"
             ]
            ],
            "type": "histogram2d"
           }
          ],
          "histogram2dcontour": [
           {
            "colorbar": {
             "outlinewidth": 0,
             "ticks": ""
            },
            "colorscale": [
             [
              0,
              "#0d0887"
             ],
             [
              0.1111111111111111,
              "#46039f"
             ],
             [
              0.2222222222222222,
              "#7201a8"
             ],
             [
              0.3333333333333333,
              "#9c179e"
             ],
             [
              0.4444444444444444,
              "#bd3786"
             ],
             [
              0.5555555555555556,
              "#d8576b"
             ],
             [
              0.6666666666666666,
              "#ed7953"
             ],
             [
              0.7777777777777778,
              "#fb9f3a"
             ],
             [
              0.8888888888888888,
              "#fdca26"
             ],
             [
              1,
              "#f0f921"
             ]
            ],
            "type": "histogram2dcontour"
           }
          ],
          "mesh3d": [
           {
            "colorbar": {
             "outlinewidth": 0,
             "ticks": ""
            },
            "type": "mesh3d"
           }
          ],
          "parcoords": [
           {
            "line": {
             "colorbar": {
              "outlinewidth": 0,
              "ticks": ""
             }
            },
            "type": "parcoords"
           }
          ],
          "pie": [
           {
            "automargin": true,
            "type": "pie"
           }
          ],
          "scatter": [
           {
            "fillpattern": {
             "fillmode": "overlay",
             "size": 10,
             "solidity": 0.2
            },
            "type": "scatter"
           }
          ],
          "scatter3d": [
           {
            "line": {
             "colorbar": {
              "outlinewidth": 0,
              "ticks": ""
             }
            },
            "marker": {
             "colorbar": {
              "outlinewidth": 0,
              "ticks": ""
             }
            },
            "type": "scatter3d"
           }
          ],
          "scattercarpet": [
           {
            "marker": {
             "colorbar": {
              "outlinewidth": 0,
              "ticks": ""
             }
            },
            "type": "scattercarpet"
           }
          ],
          "scattergeo": [
           {
            "marker": {
             "colorbar": {
              "outlinewidth": 0,
              "ticks": ""
             }
            },
            "type": "scattergeo"
           }
          ],
          "scattergl": [
           {
            "marker": {
             "colorbar": {
              "outlinewidth": 0,
              "ticks": ""
             }
            },
            "type": "scattergl"
           }
          ],
          "scattermapbox": [
           {
            "marker": {
             "colorbar": {
              "outlinewidth": 0,
              "ticks": ""
             }
            },
            "type": "scattermapbox"
           }
          ],
          "scatterpolar": [
           {
            "marker": {
             "colorbar": {
              "outlinewidth": 0,
              "ticks": ""
             }
            },
            "type": "scatterpolar"
           }
          ],
          "scatterpolargl": [
           {
            "marker": {
             "colorbar": {
              "outlinewidth": 0,
              "ticks": ""
             }
            },
            "type": "scatterpolargl"
           }
          ],
          "scatterternary": [
           {
            "marker": {
             "colorbar": {
              "outlinewidth": 0,
              "ticks": ""
             }
            },
            "type": "scatterternary"
           }
          ],
          "surface": [
           {
            "colorbar": {
             "outlinewidth": 0,
             "ticks": ""
            },
            "colorscale": [
             [
              0,
              "#0d0887"
             ],
             [
              0.1111111111111111,
              "#46039f"
             ],
             [
              0.2222222222222222,
              "#7201a8"
             ],
             [
              0.3333333333333333,
              "#9c179e"
             ],
             [
              0.4444444444444444,
              "#bd3786"
             ],
             [
              0.5555555555555556,
              "#d8576b"
             ],
             [
              0.6666666666666666,
              "#ed7953"
             ],
             [
              0.7777777777777778,
              "#fb9f3a"
             ],
             [
              0.8888888888888888,
              "#fdca26"
             ],
             [
              1,
              "#f0f921"
             ]
            ],
            "type": "surface"
           }
          ],
          "table": [
           {
            "cells": {
             "fill": {
              "color": "#EBF0F8"
             },
             "line": {
              "color": "white"
             }
            },
            "header": {
             "fill": {
              "color": "#C8D4E3"
             },
             "line": {
              "color": "white"
             }
            },
            "type": "table"
           }
          ]
         },
         "layout": {
          "annotationdefaults": {
           "arrowcolor": "#2a3f5f",
           "arrowhead": 0,
           "arrowwidth": 1
          },
          "autotypenumbers": "strict",
          "coloraxis": {
           "colorbar": {
            "outlinewidth": 0,
            "ticks": ""
           }
          },
          "colorscale": {
           "diverging": [
            [
             0,
             "#8e0152"
            ],
            [
             0.1,
             "#c51b7d"
            ],
            [
             0.2,
             "#de77ae"
            ],
            [
             0.3,
             "#f1b6da"
            ],
            [
             0.4,
             "#fde0ef"
            ],
            [
             0.5,
             "#f7f7f7"
            ],
            [
             0.6,
             "#e6f5d0"
            ],
            [
             0.7,
             "#b8e186"
            ],
            [
             0.8,
             "#7fbc41"
            ],
            [
             0.9,
             "#4d9221"
            ],
            [
             1,
             "#276419"
            ]
           ],
           "sequential": [
            [
             0,
             "#0d0887"
            ],
            [
             0.1111111111111111,
             "#46039f"
            ],
            [
             0.2222222222222222,
             "#7201a8"
            ],
            [
             0.3333333333333333,
             "#9c179e"
            ],
            [
             0.4444444444444444,
             "#bd3786"
            ],
            [
             0.5555555555555556,
             "#d8576b"
            ],
            [
             0.6666666666666666,
             "#ed7953"
            ],
            [
             0.7777777777777778,
             "#fb9f3a"
            ],
            [
             0.8888888888888888,
             "#fdca26"
            ],
            [
             1,
             "#f0f921"
            ]
           ],
           "sequentialminus": [
            [
             0,
             "#0d0887"
            ],
            [
             0.1111111111111111,
             "#46039f"
            ],
            [
             0.2222222222222222,
             "#7201a8"
            ],
            [
             0.3333333333333333,
             "#9c179e"
            ],
            [
             0.4444444444444444,
             "#bd3786"
            ],
            [
             0.5555555555555556,
             "#d8576b"
            ],
            [
             0.6666666666666666,
             "#ed7953"
            ],
            [
             0.7777777777777778,
             "#fb9f3a"
            ],
            [
             0.8888888888888888,
             "#fdca26"
            ],
            [
             1,
             "#f0f921"
            ]
           ]
          },
          "colorway": [
           "#636efa",
           "#EF553B",
           "#00cc96",
           "#ab63fa",
           "#FFA15A",
           "#19d3f3",
           "#FF6692",
           "#B6E880",
           "#FF97FF",
           "#FECB52"
          ],
          "font": {
           "color": "#2a3f5f"
          },
          "geo": {
           "bgcolor": "white",
           "lakecolor": "white",
           "landcolor": "#E5ECF6",
           "showlakes": true,
           "showland": true,
           "subunitcolor": "white"
          },
          "hoverlabel": {
           "align": "left"
          },
          "hovermode": "closest",
          "mapbox": {
           "style": "light"
          },
          "paper_bgcolor": "white",
          "plot_bgcolor": "#E5ECF6",
          "polar": {
           "angularaxis": {
            "gridcolor": "white",
            "linecolor": "white",
            "ticks": ""
           },
           "bgcolor": "#E5ECF6",
           "radialaxis": {
            "gridcolor": "white",
            "linecolor": "white",
            "ticks": ""
           }
          },
          "scene": {
           "xaxis": {
            "backgroundcolor": "#E5ECF6",
            "gridcolor": "white",
            "gridwidth": 2,
            "linecolor": "white",
            "showbackground": true,
            "ticks": "",
            "zerolinecolor": "white"
           },
           "yaxis": {
            "backgroundcolor": "#E5ECF6",
            "gridcolor": "white",
            "gridwidth": 2,
            "linecolor": "white",
            "showbackground": true,
            "ticks": "",
            "zerolinecolor": "white"
           },
           "zaxis": {
            "backgroundcolor": "#E5ECF6",
            "gridcolor": "white",
            "gridwidth": 2,
            "linecolor": "white",
            "showbackground": true,
            "ticks": "",
            "zerolinecolor": "white"
           }
          },
          "shapedefaults": {
           "line": {
            "color": "#2a3f5f"
           }
          },
          "ternary": {
           "aaxis": {
            "gridcolor": "white",
            "linecolor": "white",
            "ticks": ""
           },
           "baxis": {
            "gridcolor": "white",
            "linecolor": "white",
            "ticks": ""
           },
           "bgcolor": "#E5ECF6",
           "caxis": {
            "gridcolor": "white",
            "linecolor": "white",
            "ticks": ""
           }
          },
          "title": {
           "x": 0.05
          },
          "xaxis": {
           "automargin": true,
           "gridcolor": "white",
           "linecolor": "white",
           "ticks": "",
           "title": {
            "standoff": 15
           },
           "zerolinecolor": "white",
           "zerolinewidth": 2
          },
          "yaxis": {
           "automargin": true,
           "gridcolor": "white",
           "linecolor": "white",
           "ticks": "",
           "title": {
            "standoff": 15
           },
           "zerolinecolor": "white",
           "zerolinewidth": 2
          }
         }
        },
        "title": {
         "text": "Population Distribution for 1950"
        }
       }
      }
     },
     "metadata": {},
     "output_type": "display_data"
    }
   ],
   "source": [
    "# Get unique years from the DataFrame\n",
    "years = sorted(filtered_pop['Year'].unique())\n",
    "\n",
    "# Define a function to create the pie chart based on the selected year\n",
    "def create_pie_chart(selected_year):\n",
    "    # Filter data for the selected year\n",
    "    year_data = filtered_pop[filtered_pop['Year'] == selected_year]\n",
    "\n",
    "     # Exclude data for 'World'\n",
    "    continent_data = year_data[year_data['Continents and World'] != 'World']\n",
    "\n",
    "    # Calculate the total population for each continent\n",
    "    continent_population = continent_data.groupby('Continents and World')['Population'].sum().reset_index()\n",
    "    \n",
    "    # Create a pie chart\n",
    "    fig = go.Figure(data=[go.Pie(labels=continent_population['Continents and World'], values=continent_population['Population'])])\n",
    "    fig.update_layout(title=f'Population Distribution for {selected_year}')\n",
    "    fig.show()\n",
    "\n",
    "# Create a dropdown menu widget for selecting the year\n",
    "year_dropdown = widgets.Dropdown(options=years, description='Select Year:')\n",
    "# Define a function to handle the dropdown menu change event\n",
    "def on_year_change(change):\n",
    "    selected_year = change.new\n",
    "    create_pie_chart(selected_year)\n",
    "\n",
    "# Attach the function to the dropdown menu's change event\n",
    "year_dropdown.observe(on_year_change, names='value')\n",
    "\n",
    "# Display the dropdown menu\n",
    "display(year_dropdown)\n",
    "\n",
    "# Create the initial pie chart for the first year in the dataset\n",
    "create_pie_chart(years[0])"
   ]
  },
  {
   "cell_type": "code",
   "execution_count": 42,
   "metadata": {},
   "outputs": [
    {
     "data": {
      "application/vnd.jupyter.widget-view+json": {
       "model_id": "213aa52d96244563b2d9ae0b534798c1",
       "version_major": 2,
       "version_minor": 0
      },
      "text/plain": [
       "VBox(children=(Dropdown(description='Year:', options=(1950, 1951, 1952, 1953, 1954, 1955, 1956, 1957, 1958, 19…"
      ]
     },
     "metadata": {},
     "output_type": "display_data"
    },
    {
     "data": {
      "application/vnd.plotly.v1+json": {
       "config": {
        "plotlyServerURL": "https://plot.ly"
       },
       "data": [
        {
         "name": "Population of children under the age of 1",
         "type": "bar",
         "x": [
          "Africa (UN)",
          "Asia (UN)",
          "Europe (UN)",
          "Latin America and the Caribbean (UN)",
          "Northern America (UN)",
          "Oceania (UN)"
         ],
         "y": [
          4.128187728873786,
          3.6130333130845385,
          2.2139387058568176,
          3.8776232387671623,
          2.138648864205438,
          2.6084760763807946
         ]
        },
        {
         "name": "Population aged 1 to 4 years",
         "type": "bar",
         "x": [
          "Africa (UN)",
          "Asia (UN)",
          "Europe (UN)",
          "Latin America and the Caribbean (UN)",
          "Northern America (UN)",
          "Oceania (UN)"
         ],
         "y": [
          13.040214161268082,
          11.185994377563306,
          7.138908716547117,
          12.760625931794243,
          8.821387201828957,
          9.608906682762992
         ]
        },
        {
         "name": "Population aged 5 to 9 years",
         "type": "bar",
         "x": [
          "Africa (UN)",
          "Asia (UN)",
          "Europe (UN)",
          "Latin America and the Caribbean (UN)",
          "Northern America (UN)",
          "Oceania (UN)"
         ],
         "y": [
          13.03188453661875,
          11.452545584511496,
          7.724487176578249,
          13.143004375734607,
          8.84744628622974,
          9.63721889337976
         ]
        },
        {
         "name": "Population aged 10 to 14 years",
         "type": "bar",
         "x": [
          "Africa (UN)",
          "Asia (UN)",
          "Europe (UN)",
          "Latin America and the Caribbean (UN)",
          "Northern America (UN)",
          "Oceania (UN)"
         ],
         "y": [
          11.335013341660087,
          10.798337916423817,
          9.298608343334468,
          11.353633889356509,
          7.474153699476909,
          8.191610617341352
         ]
        },
        {
         "name": "Population aged 15 to 19 years",
         "type": "bar",
         "x": [
          "Africa (UN)",
          "Asia (UN)",
          "Europe (UN)",
          "Latin America and the Caribbean (UN)",
          "Northern America (UN)",
          "Oceania (UN)"
         ],
         "y": [
          10.14602775981671,
          9.982192487926577,
          8.543002401962566,
          10.152972228749682,
          7.037980682111201,
          7.674302562362395
         ]
        },
        {
         "name": "Population aged 20 to 29 years",
         "type": "bar",
         "x": [
          "Africa (UN)",
          "Asia (UN)",
          "Europe (UN)",
          "Latin America and the Caribbean (UN)",
          "Northern America (UN)",
          "Oceania (UN)"
         ],
         "y": [
          16.55782598888507,
          16.511869313425418,
          16.86757610632025,
          16.79551097876959,
          15.611604533075177,
          16.495690914936795
         ]
        },
        {
         "name": "Population aged 30 to 39 years",
         "type": "bar",
         "x": [
          "Africa (UN)",
          "Asia (UN)",
          "Europe (UN)",
          "Latin America and the Caribbean (UN)",
          "Northern America (UN)",
          "Oceania (UN)"
         ],
         "y": [
          12.051253831977812,
          12.79777253812905,
          13.06046805066861,
          12.126775206391123,
          15.061336417985963,
          14.56479974100012
         ]
        },
        {
         "name": "Population aged 40 to 49 years",
         "type": "bar",
         "x": [
          "Africa (UN)",
          "Asia (UN)",
          "Europe (UN)",
          "Latin America and the Caribbean (UN)",
          "Northern America (UN)",
          "Oceania (UN)"
         ],
         "y": [
          8.607800889046144,
          10.038524813367275,
          13.53293437159659,
          8.884762270691372,
          12.69360772553666,
          11.4843103762463
         ]
        },
        {
         "name": "Population aged 50 to 59 years",
         "type": "bar",
         "x": [
          "Africa (UN)",
          "Asia (UN)",
          "Europe (UN)",
          "Latin America and the Caribbean (UN)",
          "Northern America (UN)",
          "Oceania (UN)"
         ],
         "y": [
          5.7913989607235346,
          6.918117885674525,
          9.847271034621276,
          5.710228128531314,
          10.177864988388997,
          8.855130846777593
         ]
        },
        {
         "name": "Population aged 60 to 69 years",
         "type": "bar",
         "x": [
          "Africa (UN)",
          "Asia (UN)",
          "Europe (UN)",
          "Latin America and the Caribbean (UN)",
          "Northern America (UN)",
          "Oceania (UN)"
         ],
         "y": [
          3.4687270298372175,
          4.318758246982469,
          6.951689627881051,
          3.321991740452148,
          7.30131445775203,
          6.575874657287886
         ]
        },
        {
         "name": "Population aged 70 to 79 years",
         "type": "bar",
         "x": [
          "Africa (UN)",
          "Asia (UN)",
          "Europe (UN)",
          "Latin America and the Caribbean (UN)",
          "Northern America (UN)",
          "Oceania (UN)"
         ],
         "y": [
          1.5140971514173487,
          1.8891243480426156,
          3.7828517829920285,
          1.4331284835234355,
          3.687994969293109,
          3.263990016546861
         ]
        },
        {
         "name": "Population aged 80 to 89 years",
         "type": "bar",
         "x": [
          "Africa (UN)",
          "Asia (UN)",
          "Europe (UN)",
          "Latin America and the Caribbean (UN)",
          "Northern America (UN)",
          "Oceania (UN)"
         ],
         "y": [
          0.30802252324528456,
          0.46234332806296935,
          0.9605483609386126,
          0.3954101303757347,
          1.0507297493725496,
          0.9675286532928509
         ]
        },
        {
         "name": "Population aged 90 to 99 years",
         "type": "bar",
         "x": [
          "Africa (UN)",
          "Asia (UN)",
          "Europe (UN)",
          "Latin America and the Caribbean (UN)",
          "Northern America (UN)",
          "Oceania (UN)"
         ],
         "y": [
          0.01927582549166528,
          0.03115597814191781,
          0.0768961789781773,
          0.04321955212285174,
          0.09333000710200895,
          0.0714285032802729
         ]
        },
        {
         "name": "Population older than 100 years",
         "type": "bar",
         "x": [
          "Africa (UN)",
          "Asia (UN)",
          "Europe (UN)",
          "Latin America and the Caribbean (UN)",
          "Northern America (UN)",
          "Oceania (UN)"
         ],
         "y": [
          0.0002702711385111063,
          0.00022986866402396213,
          0.0008191417241846927,
          0.0011138447402252386,
          0.0026004176412628916,
          0.000731458404027728
         ]
        }
       ],
       "layout": {
        "barmode": "stack",
        "template": {
         "data": {
          "bar": [
           {
            "error_x": {
             "color": "#2a3f5f"
            },
            "error_y": {
             "color": "#2a3f5f"
            },
            "marker": {
             "line": {
              "color": "#E5ECF6",
              "width": 0.5
             },
             "pattern": {
              "fillmode": "overlay",
              "size": 10,
              "solidity": 0.2
             }
            },
            "type": "bar"
           }
          ],
          "barpolar": [
           {
            "marker": {
             "line": {
              "color": "#E5ECF6",
              "width": 0.5
             },
             "pattern": {
              "fillmode": "overlay",
              "size": 10,
              "solidity": 0.2
             }
            },
            "type": "barpolar"
           }
          ],
          "carpet": [
           {
            "aaxis": {
             "endlinecolor": "#2a3f5f",
             "gridcolor": "white",
             "linecolor": "white",
             "minorgridcolor": "white",
             "startlinecolor": "#2a3f5f"
            },
            "baxis": {
             "endlinecolor": "#2a3f5f",
             "gridcolor": "white",
             "linecolor": "white",
             "minorgridcolor": "white",
             "startlinecolor": "#2a3f5f"
            },
            "type": "carpet"
           }
          ],
          "choropleth": [
           {
            "colorbar": {
             "outlinewidth": 0,
             "ticks": ""
            },
            "type": "choropleth"
           }
          ],
          "contour": [
           {
            "colorbar": {
             "outlinewidth": 0,
             "ticks": ""
            },
            "colorscale": [
             [
              0,
              "#0d0887"
             ],
             [
              0.1111111111111111,
              "#46039f"
             ],
             [
              0.2222222222222222,
              "#7201a8"
             ],
             [
              0.3333333333333333,
              "#9c179e"
             ],
             [
              0.4444444444444444,
              "#bd3786"
             ],
             [
              0.5555555555555556,
              "#d8576b"
             ],
             [
              0.6666666666666666,
              "#ed7953"
             ],
             [
              0.7777777777777778,
              "#fb9f3a"
             ],
             [
              0.8888888888888888,
              "#fdca26"
             ],
             [
              1,
              "#f0f921"
             ]
            ],
            "type": "contour"
           }
          ],
          "contourcarpet": [
           {
            "colorbar": {
             "outlinewidth": 0,
             "ticks": ""
            },
            "type": "contourcarpet"
           }
          ],
          "heatmap": [
           {
            "colorbar": {
             "outlinewidth": 0,
             "ticks": ""
            },
            "colorscale": [
             [
              0,
              "#0d0887"
             ],
             [
              0.1111111111111111,
              "#46039f"
             ],
             [
              0.2222222222222222,
              "#7201a8"
             ],
             [
              0.3333333333333333,
              "#9c179e"
             ],
             [
              0.4444444444444444,
              "#bd3786"
             ],
             [
              0.5555555555555556,
              "#d8576b"
             ],
             [
              0.6666666666666666,
              "#ed7953"
             ],
             [
              0.7777777777777778,
              "#fb9f3a"
             ],
             [
              0.8888888888888888,
              "#fdca26"
             ],
             [
              1,
              "#f0f921"
             ]
            ],
            "type": "heatmap"
           }
          ],
          "heatmapgl": [
           {
            "colorbar": {
             "outlinewidth": 0,
             "ticks": ""
            },
            "colorscale": [
             [
              0,
              "#0d0887"
             ],
             [
              0.1111111111111111,
              "#46039f"
             ],
             [
              0.2222222222222222,
              "#7201a8"
             ],
             [
              0.3333333333333333,
              "#9c179e"
             ],
             [
              0.4444444444444444,
              "#bd3786"
             ],
             [
              0.5555555555555556,
              "#d8576b"
             ],
             [
              0.6666666666666666,
              "#ed7953"
             ],
             [
              0.7777777777777778,
              "#fb9f3a"
             ],
             [
              0.8888888888888888,
              "#fdca26"
             ],
             [
              1,
              "#f0f921"
             ]
            ],
            "type": "heatmapgl"
           }
          ],
          "histogram": [
           {
            "marker": {
             "pattern": {
              "fillmode": "overlay",
              "size": 10,
              "solidity": 0.2
             }
            },
            "type": "histogram"
           }
          ],
          "histogram2d": [
           {
            "colorbar": {
             "outlinewidth": 0,
             "ticks": ""
            },
            "colorscale": [
             [
              0,
              "#0d0887"
             ],
             [
              0.1111111111111111,
              "#46039f"
             ],
             [
              0.2222222222222222,
              "#7201a8"
             ],
             [
              0.3333333333333333,
              "#9c179e"
             ],
             [
              0.4444444444444444,
              "#bd3786"
             ],
             [
              0.5555555555555556,
              "#d8576b"
             ],
             [
              0.6666666666666666,
              "#ed7953"
             ],
             [
              0.7777777777777778,
              "#fb9f3a"
             ],
             [
              0.8888888888888888,
              "#fdca26"
             ],
             [
              1,
              "#f0f921"
             ]
            ],
            "type": "histogram2d"
           }
          ],
          "histogram2dcontour": [
           {
            "colorbar": {
             "outlinewidth": 0,
             "ticks": ""
            },
            "colorscale": [
             [
              0,
              "#0d0887"
             ],
             [
              0.1111111111111111,
              "#46039f"
             ],
             [
              0.2222222222222222,
              "#7201a8"
             ],
             [
              0.3333333333333333,
              "#9c179e"
             ],
             [
              0.4444444444444444,
              "#bd3786"
             ],
             [
              0.5555555555555556,
              "#d8576b"
             ],
             [
              0.6666666666666666,
              "#ed7953"
             ],
             [
              0.7777777777777778,
              "#fb9f3a"
             ],
             [
              0.8888888888888888,
              "#fdca26"
             ],
             [
              1,
              "#f0f921"
             ]
            ],
            "type": "histogram2dcontour"
           }
          ],
          "mesh3d": [
           {
            "colorbar": {
             "outlinewidth": 0,
             "ticks": ""
            },
            "type": "mesh3d"
           }
          ],
          "parcoords": [
           {
            "line": {
             "colorbar": {
              "outlinewidth": 0,
              "ticks": ""
             }
            },
            "type": "parcoords"
           }
          ],
          "pie": [
           {
            "automargin": true,
            "type": "pie"
           }
          ],
          "scatter": [
           {
            "fillpattern": {
             "fillmode": "overlay",
             "size": 10,
             "solidity": 0.2
            },
            "type": "scatter"
           }
          ],
          "scatter3d": [
           {
            "line": {
             "colorbar": {
              "outlinewidth": 0,
              "ticks": ""
             }
            },
            "marker": {
             "colorbar": {
              "outlinewidth": 0,
              "ticks": ""
             }
            },
            "type": "scatter3d"
           }
          ],
          "scattercarpet": [
           {
            "marker": {
             "colorbar": {
              "outlinewidth": 0,
              "ticks": ""
             }
            },
            "type": "scattercarpet"
           }
          ],
          "scattergeo": [
           {
            "marker": {
             "colorbar": {
              "outlinewidth": 0,
              "ticks": ""
             }
            },
            "type": "scattergeo"
           }
          ],
          "scattergl": [
           {
            "marker": {
             "colorbar": {
              "outlinewidth": 0,
              "ticks": ""
             }
            },
            "type": "scattergl"
           }
          ],
          "scattermapbox": [
           {
            "marker": {
             "colorbar": {
              "outlinewidth": 0,
              "ticks": ""
             }
            },
            "type": "scattermapbox"
           }
          ],
          "scatterpolar": [
           {
            "marker": {
             "colorbar": {
              "outlinewidth": 0,
              "ticks": ""
             }
            },
            "type": "scatterpolar"
           }
          ],
          "scatterpolargl": [
           {
            "marker": {
             "colorbar": {
              "outlinewidth": 0,
              "ticks": ""
             }
            },
            "type": "scatterpolargl"
           }
          ],
          "scatterternary": [
           {
            "marker": {
             "colorbar": {
              "outlinewidth": 0,
              "ticks": ""
             }
            },
            "type": "scatterternary"
           }
          ],
          "surface": [
           {
            "colorbar": {
             "outlinewidth": 0,
             "ticks": ""
            },
            "colorscale": [
             [
              0,
              "#0d0887"
             ],
             [
              0.1111111111111111,
              "#46039f"
             ],
             [
              0.2222222222222222,
              "#7201a8"
             ],
             [
              0.3333333333333333,
              "#9c179e"
             ],
             [
              0.4444444444444444,
              "#bd3786"
             ],
             [
              0.5555555555555556,
              "#d8576b"
             ],
             [
              0.6666666666666666,
              "#ed7953"
             ],
             [
              0.7777777777777778,
              "#fb9f3a"
             ],
             [
              0.8888888888888888,
              "#fdca26"
             ],
             [
              1,
              "#f0f921"
             ]
            ],
            "type": "surface"
           }
          ],
          "table": [
           {
            "cells": {
             "fill": {
              "color": "#EBF0F8"
             },
             "line": {
              "color": "white"
             }
            },
            "header": {
             "fill": {
              "color": "#C8D4E3"
             },
             "line": {
              "color": "white"
             }
            },
            "type": "table"
           }
          ]
         },
         "layout": {
          "annotationdefaults": {
           "arrowcolor": "#2a3f5f",
           "arrowhead": 0,
           "arrowwidth": 1
          },
          "autotypenumbers": "strict",
          "coloraxis": {
           "colorbar": {
            "outlinewidth": 0,
            "ticks": ""
           }
          },
          "colorscale": {
           "diverging": [
            [
             0,
             "#8e0152"
            ],
            [
             0.1,
             "#c51b7d"
            ],
            [
             0.2,
             "#de77ae"
            ],
            [
             0.3,
             "#f1b6da"
            ],
            [
             0.4,
             "#fde0ef"
            ],
            [
             0.5,
             "#f7f7f7"
            ],
            [
             0.6,
             "#e6f5d0"
            ],
            [
             0.7,
             "#b8e186"
            ],
            [
             0.8,
             "#7fbc41"
            ],
            [
             0.9,
             "#4d9221"
            ],
            [
             1,
             "#276419"
            ]
           ],
           "sequential": [
            [
             0,
             "#0d0887"
            ],
            [
             0.1111111111111111,
             "#46039f"
            ],
            [
             0.2222222222222222,
             "#7201a8"
            ],
            [
             0.3333333333333333,
             "#9c179e"
            ],
            [
             0.4444444444444444,
             "#bd3786"
            ],
            [
             0.5555555555555556,
             "#d8576b"
            ],
            [
             0.6666666666666666,
             "#ed7953"
            ],
            [
             0.7777777777777778,
             "#fb9f3a"
            ],
            [
             0.8888888888888888,
             "#fdca26"
            ],
            [
             1,
             "#f0f921"
            ]
           ],
           "sequentialminus": [
            [
             0,
             "#0d0887"
            ],
            [
             0.1111111111111111,
             "#46039f"
            ],
            [
             0.2222222222222222,
             "#7201a8"
            ],
            [
             0.3333333333333333,
             "#9c179e"
            ],
            [
             0.4444444444444444,
             "#bd3786"
            ],
            [
             0.5555555555555556,
             "#d8576b"
            ],
            [
             0.6666666666666666,
             "#ed7953"
            ],
            [
             0.7777777777777778,
             "#fb9f3a"
            ],
            [
             0.8888888888888888,
             "#fdca26"
            ],
            [
             1,
             "#f0f921"
            ]
           ]
          },
          "colorway": [
           "#636efa",
           "#EF553B",
           "#00cc96",
           "#ab63fa",
           "#FFA15A",
           "#19d3f3",
           "#FF6692",
           "#B6E880",
           "#FF97FF",
           "#FECB52"
          ],
          "font": {
           "color": "#2a3f5f"
          },
          "geo": {
           "bgcolor": "white",
           "lakecolor": "white",
           "landcolor": "#E5ECF6",
           "showlakes": true,
           "showland": true,
           "subunitcolor": "white"
          },
          "hoverlabel": {
           "align": "left"
          },
          "hovermode": "closest",
          "mapbox": {
           "style": "light"
          },
          "paper_bgcolor": "white",
          "plot_bgcolor": "#E5ECF6",
          "polar": {
           "angularaxis": {
            "gridcolor": "white",
            "linecolor": "white",
            "ticks": ""
           },
           "bgcolor": "#E5ECF6",
           "radialaxis": {
            "gridcolor": "white",
            "linecolor": "white",
            "ticks": ""
           }
          },
          "scene": {
           "xaxis": {
            "backgroundcolor": "#E5ECF6",
            "gridcolor": "white",
            "gridwidth": 2,
            "linecolor": "white",
            "showbackground": true,
            "ticks": "",
            "zerolinecolor": "white"
           },
           "yaxis": {
            "backgroundcolor": "#E5ECF6",
            "gridcolor": "white",
            "gridwidth": 2,
            "linecolor": "white",
            "showbackground": true,
            "ticks": "",
            "zerolinecolor": "white"
           },
           "zaxis": {
            "backgroundcolor": "#E5ECF6",
            "gridcolor": "white",
            "gridwidth": 2,
            "linecolor": "white",
            "showbackground": true,
            "ticks": "",
            "zerolinecolor": "white"
           }
          },
          "shapedefaults": {
           "line": {
            "color": "#2a3f5f"
           }
          },
          "ternary": {
           "aaxis": {
            "gridcolor": "white",
            "linecolor": "white",
            "ticks": ""
           },
           "baxis": {
            "gridcolor": "white",
            "linecolor": "white",
            "ticks": ""
           },
           "bgcolor": "#E5ECF6",
           "caxis": {
            "gridcolor": "white",
            "linecolor": "white",
            "ticks": ""
           }
          },
          "title": {
           "x": 0.05
          },
          "xaxis": {
           "automargin": true,
           "gridcolor": "white",
           "linecolor": "white",
           "ticks": "",
           "title": {
            "standoff": 15
           },
           "zerolinecolor": "white",
           "zerolinewidth": 2
          },
          "yaxis": {
           "automargin": true,
           "gridcolor": "white",
           "linecolor": "white",
           "ticks": "",
           "title": {
            "standoff": 15
           },
           "zerolinecolor": "white",
           "zerolinewidth": 2
          }
         }
        },
        "title": {
         "text": "Population Distribution by Age Group in 1950"
        },
        "xaxis": {
         "title": {
          "text": "Continent"
         }
        },
        "yaxis": {
         "title": {
          "text": "Percentage of Total Population"
         }
        }
       }
      }
     },
     "metadata": {},
     "output_type": "display_data"
    }
   ],
   "source": [
    "filtered_pop_without_World = filtered_pop[filtered_pop['Continents and World'] != 'World']\n",
    "\n",
    "# Obtain unique years and age groups (excluding the first three columns assuming they are 'Year', 'Continents and World', and another non-age-group column)\n",
    "years = sorted(filtered_pop_without_World['Year'].unique())\n",
    "age_groups = filtered_pop_without_World.columns[3:]  # Adjust based on your DataFrame structure\n",
    "\n",
    "# Function to create and display the stacked bar plot\n",
    "def create_stacked_bar_plot(selected_year):\n",
    "    # Filter the DataFrame for the selected year\n",
    "    year_data = filtered_pop_without_World[filtered_pop_without_World['Year'] == selected_year]\n",
    "\n",
    "    # Initialize a figure object\n",
    "    fig = go.Figure()\n",
    "\n",
    "    # Loop over each age group to add a bar trace for each\n",
    "    for age_group in age_groups:\n",
    "        # Calculate the percentage of each age group within each continent's total population\n",
    "        continent_data = year_data.groupby('Continents and World').apply(lambda x: x[age_group].sum() / x[age_groups].sum().sum() * 100).reset_index(name=age_group)\n",
    "       \n",
    "        # Add a bar trace for the current age group\n",
    "        fig.add_trace(go.Bar(\n",
    "            x=continent_data['Continents and World'],\n",
    "            y=continent_data[age_group],\n",
    "            name=age_group\n",
    "        ))\n",
    "\n",
    "    # Update the layout to stack the bar traces\n",
    "    fig.update_layout(\n",
    "        barmode='stack',\n",
    "        title_text=f'Population Distribution by Age Group in {selected_year}',\n",
    "        xaxis_title='Continent',\n",
    "        yaxis_title='Percentage of Total Population'\n",
    "    )\n",
    "\n",
    "    # Display the figure\n",
    "    fig.show()\n",
    "\n",
    "# Dropdown widget for year selection\n",
    "year_dropdown = widgets.Dropdown(\n",
    "    options=years,\n",
    "    value=years[0],  # Default value\n",
    "    description='Year:'\n",
    ")\n",
    "\n",
    "# Function to update the plot based on the selected year\n",
    "def update_plot(change):\n",
    "    create_stacked_bar_plot(change.new)\n",
    "\n",
    "# Attach the update function to the year dropdown\n",
    "year_dropdown.observe(update_plot, names='value')\n",
    "\n",
    "# Display the widget and the initial plot\n",
    "display(VBox([year_dropdown]))\n",
    "create_stacked_bar_plot(years[0])"
   ]
  },
  {
   "cell_type": "markdown",
   "metadata": {},
   "source": [
    "## **Calculations**"
   ]
  },
  {
   "cell_type": "markdown",
   "metadata": {},
   "source": [
    "Calculating the global growth rate between 1950 and 2021 for the world and the different continents"
   ]
  },
  {
   "cell_type": "code",
   "execution_count": 199,
   "metadata": {},
   "outputs": [
    {
     "name": "stdout",
     "output_type": "stream",
     "text": [
      "                              Continent  Growth Rate (%)\n",
      "0                           Africa (UN)       512.472394\n",
      "1                             Asia (UN)       240.421434\n",
      "2                           Europe (UN)        35.554729\n",
      "3  Latin America and the Caribbean (UN)       289.755444\n",
      "4                 Northern America (UN)       131.525984\n",
      "5                          Oceania (UN)       253.737450\n",
      "6                                 World       216.457623\n"
     ]
    }
   ],
   "source": [
    "\n",
    "# Specify the beginning and ending years\n",
    "beginning_year = 1950\n",
    "ending_year = 2021\n",
    "\n",
    "# Create a DataFrame to store growth rates\n",
    "growth_rates = {'Continent': [], 'Growth Rate (%)': []}\n",
    "\n",
    "# Calculate the growth rate for each continent\n",
    "for continent in filtered_pop['Continents and World'].unique():\n",
    "    # Filter the DataFrame to select data for the beginning and ending years for the continent\n",
    "    continent_data = filtered_pop[filtered_pop['Continents and World'] == continent]\n",
    "    beginning_population = continent_data.loc[continent_data['Year'] == beginning_year, 'Population'].iloc[0]\n",
    "    ending_population = continent_data.loc[continent_data['Year'] == ending_year, 'Population'].iloc[0]\n",
    "\n",
    "    # Calculate the compound annual growth rate (CAGR)\n",
    "    cagr = (ending_population / beginning_population) - 1\n",
    "\n",
    "    # Convert the growth rate to percentage\n",
    "    growth_rate_percentage = cagr * 100\n",
    "\n",
    "    # Append the growth rate to the growth_rates dictionary\n",
    "    growth_rates['Continent'].append(continent)\n",
    "    growth_rates['Growth Rate (%)'].append(growth_rate_percentage)\n",
    "\n",
    "# Convert the growth rates dictionary to a DataFrame\n",
    "growth_rates_df = pd.DataFrame(growth_rates)\n",
    "\n",
    "# Display the growth rates DataFrame\n",
    "print(growth_rates_df)\n"
   ]
  },
  {
   "cell_type": "markdown",
   "metadata": {},
   "source": [
    "Calculating the average growth rate per year for the world and the continents"
   ]
  },
  {
   "cell_type": "code",
   "execution_count": 200,
   "metadata": {},
   "outputs": [
    {
     "name": "stdout",
     "output_type": "stream",
     "text": [
      "                              Continent  Growth Rate (%)\n",
      "0                           Africa (UN)         2.585440\n",
      "1                             Asia (UN)         1.740343\n",
      "2                           Europe (UN)         0.429377\n",
      "3  Latin America and the Caribbean (UN)         1.934458\n",
      "4                 Northern America (UN)         1.189444\n",
      "5                          Oceania (UN)         1.795341\n",
      "6                                 World         1.635797\n"
     ]
    }
   ],
   "source": [
    "# Specify the beginning and ending years\n",
    "beginning_year = 1950\n",
    "ending_year = 2021\n",
    "\n",
    "# Create a DataFrame to store growth rates\n",
    "growth_rates = {'Continent': [], 'Growth Rate (%)': []}\n",
    "\n",
    "# Calculate the growth rate for each continent\n",
    "for continent in filtered_pop['Continents and World'].unique():\n",
    "    # Filter the DataFrame to select data for the beginning and ending years for the continent\n",
    "    continent_data = filtered_pop[filtered_pop['Continents and World'] == continent]\n",
    "    beginning_population = continent_data.loc[continent_data['Year'] == beginning_year, 'Population'].iloc[0]\n",
    "    ending_population = continent_data.loc[continent_data['Year'] == ending_year, 'Population'].iloc[0]\n",
    "\n",
    "    # Calculate the number of years between the beginning and ending years\n",
    "    number_of_years = ending_year - beginning_year\n",
    "\n",
    "    # Calculate the compound annual growth rate (CAGR)\n",
    "    cagr = (ending_population / beginning_population) ** (1 / number_of_years) - 1\n",
    "\n",
    "    # Convert the growth rate to percentage\n",
    "    growth_rate_percentage = cagr * 100\n",
    "\n",
    "    # Append the growth rate to the growth_rates dictionary\n",
    "    growth_rates['Continent'].append(continent)\n",
    "    growth_rates['Growth Rate (%)'].append(growth_rate_percentage)\n",
    "\n",
    "\n",
    "# Convert the growth rates dictionary to a DataFrame\n",
    "growth_rates_df = pd.DataFrame(growth_rates)\n",
    "\n",
    "# Display the growth rates DataFrame\n",
    "print(growth_rates_df)\n"
   ]
  },
  {
   "cell_type": "markdown",
   "metadata": {},
   "source": [
    "**In order to run the following cell, you need to install prophet in your terminal : pip install prophet**\n",
    "\n",
    "**If you do not want to install it, the cell calculates a forecast of the world population and the continents population until 2050**"
   ]
  },
  {
   "cell_type": "code",
   "execution_count": 201,
   "metadata": {},
   "outputs": [
    {
     "name": "stderr",
     "output_type": "stream",
     "text": [
      "10:19:55 - cmdstanpy - INFO - Chain [1] start processing\n",
      "10:19:56 - cmdstanpy - INFO - Chain [1] done processing\n",
      "10:19:56 - cmdstanpy - INFO - Chain [1] start processing\n",
      "10:19:57 - cmdstanpy - INFO - Chain [1] done processing\n",
      "10:19:57 - cmdstanpy - INFO - Chain [1] start processing\n",
      "10:19:57 - cmdstanpy - INFO - Chain [1] done processing\n",
      "10:19:57 - cmdstanpy - INFO - Chain [1] start processing\n",
      "10:19:57 - cmdstanpy - INFO - Chain [1] done processing\n",
      "10:19:57 - cmdstanpy - INFO - Chain [1] start processing\n",
      "10:19:57 - cmdstanpy - INFO - Chain [1] done processing\n",
      "10:19:57 - cmdstanpy - INFO - Chain [1] start processing\n",
      "10:19:58 - cmdstanpy - INFO - Chain [1] done processing\n",
      "10:19:58 - cmdstanpy - INFO - Chain [1] start processing\n",
      "10:19:58 - cmdstanpy - INFO - Chain [1] done processing\n",
      "/Users/louisgalvez/anaconda3/lib/python3.11/site-packages/_plotly_utils/basevalidators.py:106: FutureWarning:\n",
      "\n",
      "The behavior of DatetimeProperties.to_pydatetime is deprecated, in a future version this will return a Series containing python datetime objects instead of an ndarray. To retain the old behavior, call `np.array` on the result\n",
      "\n"
     ]
    },
    {
     "data": {
      "application/vnd.plotly.v1+json": {
       "config": {
        "plotlyServerURL": "https://plot.ly"
       },
       "data": [
        {
         "mode": "lines",
         "name": "Africa (UN)",
         "type": "scatter",
         "x": [
          "1970-01-01T00:00:00.000001",
          "1970-01-01T00:00:00.000001",
          "1970-01-01T00:00:00.000001",
          "1970-01-01T00:00:00.000001",
          "1970-01-01T00:00:00.000001",
          "1970-01-01T00:00:00.000001",
          "1970-01-01T00:00:00.000001",
          "1970-01-01T00:00:00.000001",
          "1970-01-01T00:00:00.000001",
          "1970-01-01T00:00:00.000001",
          "1970-01-01T00:00:00.000001",
          "1970-01-01T00:00:00.000001",
          "1970-01-01T00:00:00.000001",
          "1970-01-01T00:00:00.000001",
          "1970-01-01T00:00:00.000001",
          "1970-01-01T00:00:00.000001",
          "1970-01-01T00:00:00.000001",
          "1970-01-01T00:00:00.000001",
          "1970-01-01T00:00:00.000001",
          "1970-01-01T00:00:00.000001",
          "1970-01-01T00:00:00.000001",
          "1970-01-01T00:00:00.000001",
          "1970-01-01T00:00:00.000001",
          "1970-01-01T00:00:00.000001",
          "1970-01-01T00:00:00.000001",
          "1970-01-01T00:00:00.000001",
          "1970-01-01T00:00:00.000001",
          "1970-01-01T00:00:00.000001",
          "1970-01-01T00:00:00.000001",
          "1970-01-01T00:00:00.000001",
          "1970-01-01T00:00:00.000001",
          "1970-01-01T00:00:00.000001",
          "1970-01-01T00:00:00.000001",
          "1970-01-01T00:00:00.000001",
          "1970-01-01T00:00:00.000001",
          "1970-01-01T00:00:00.000001",
          "1970-01-01T00:00:00.000001",
          "1970-01-01T00:00:00.000001",
          "1970-01-01T00:00:00.000001",
          "1970-01-01T00:00:00.000001",
          "1970-01-01T00:00:00.000001",
          "1970-01-01T00:00:00.000001",
          "1970-01-01T00:00:00.000001",
          "1970-01-01T00:00:00.000001",
          "1970-01-01T00:00:00.000001",
          "1970-01-01T00:00:00.000001",
          "1970-01-01T00:00:00.000001",
          "1970-01-01T00:00:00.000001",
          "1970-01-01T00:00:00.000001",
          "1970-01-01T00:00:00.000001",
          "1970-01-01T00:00:00.000002",
          "1970-01-01T00:00:00.000002",
          "1970-01-01T00:00:00.000002",
          "1970-01-01T00:00:00.000002",
          "1970-01-01T00:00:00.000002",
          "1970-01-01T00:00:00.000002",
          "1970-01-01T00:00:00.000002",
          "1970-01-01T00:00:00.000002",
          "1970-01-01T00:00:00.000002",
          "1970-01-01T00:00:00.000002",
          "1970-01-01T00:00:00.000002",
          "1970-01-01T00:00:00.000002",
          "1970-01-01T00:00:00.000002",
          "1970-01-01T00:00:00.000002",
          "1970-01-01T00:00:00.000002",
          "1970-01-01T00:00:00.000002",
          "1970-01-01T00:00:00.000002",
          "1970-01-01T00:00:00.000002",
          "1970-01-01T00:00:00.000002",
          "1970-01-01T00:00:00.000002",
          "1970-01-01T00:00:00.000002",
          "1970-01-01T00:00:00.000002",
          "1970-12-31T00:00:00.000002",
          "1971-12-31T00:00:00.000002",
          "1972-12-31T00:00:00.000002",
          "1973-12-31T00:00:00.000002",
          "1974-12-31T00:00:00.000002",
          "1975-12-31T00:00:00.000002",
          "1976-12-31T00:00:00.000002",
          "1977-12-31T00:00:00.000002",
          "1978-12-31T00:00:00.000002",
          "1979-12-31T00:00:00.000002",
          "1980-12-31T00:00:00.000002",
          "1981-12-31T00:00:00.000002",
          "1982-12-31T00:00:00.000002",
          "1983-12-31T00:00:00.000002",
          "1984-12-31T00:00:00.000002",
          "1985-12-31T00:00:00.000002",
          "1986-12-31T00:00:00.000002",
          "1987-12-31T00:00:00.000002",
          "1988-12-31T00:00:00.000002",
          "1989-12-31T00:00:00.000002",
          "1990-12-31T00:00:00.000002",
          "1991-12-31T00:00:00.000002",
          "1992-12-31T00:00:00.000002",
          "1993-12-31T00:00:00.000002",
          "1994-12-31T00:00:00.000002",
          "1995-12-31T00:00:00.000002",
          "1996-12-31T00:00:00.000002",
          "1997-12-31T00:00:00.000002",
          "1998-12-31T00:00:00.000002",
          "1999-12-31T00:00:00.000002",
          "2000-12-31T00:00:00.000002",
          "2001-12-31T00:00:00.000002",
          "2002-12-31T00:00:00.000002",
          "2003-12-31T00:00:00.000002",
          "2004-12-31T00:00:00.000002",
          "2005-12-31T00:00:00.000002",
          "2006-12-31T00:00:00.000002",
          "2007-12-31T00:00:00.000002",
          "2008-12-31T00:00:00.000002",
          "2009-12-31T00:00:00.000002",
          "2010-12-31T00:00:00.000002",
          "2011-12-31T00:00:00.000002",
          "2012-12-31T00:00:00.000002",
          "2013-12-31T00:00:00.000002",
          "2014-12-31T00:00:00.000002",
          "2015-12-31T00:00:00.000002",
          "2016-12-31T00:00:00.000002",
          "2017-12-31T00:00:00.000002",
          "2018-12-31T00:00:00.000002",
          "2019-12-31T00:00:00.000002",
          "2020-12-31T00:00:00.000002",
          "2021-12-31T00:00:00.000002",
          "2022-12-31T00:00:00.000002",
          "2023-12-31T00:00:00.000002",
          "2024-12-31T00:00:00.000002",
          "2025-12-31T00:00:00.000002",
          "2026-12-31T00:00:00.000002",
          "2027-12-31T00:00:00.000002",
          "2028-12-31T00:00:00.000002",
          "2029-12-31T00:00:00.000002",
          "2030-12-31T00:00:00.000002",
          "2031-12-31T00:00:00.000002",
          "2032-12-31T00:00:00.000002",
          "2033-12-31T00:00:00.000002",
          "2034-12-31T00:00:00.000002",
          "2035-12-31T00:00:00.000002",
          "2036-12-31T00:00:00.000002",
          "2037-12-31T00:00:00.000002",
          "2038-12-31T00:00:00.000002",
          "2039-12-31T00:00:00.000002",
          "2040-12-31T00:00:00.000002",
          "2041-12-31T00:00:00.000002",
          "2042-12-31T00:00:00.000002",
          "2043-12-31T00:00:00.000002",
          "2044-12-31T00:00:00.000002",
          "2045-12-31T00:00:00.000002",
          "2046-12-31T00:00:00.000002",
          "2047-12-31T00:00:00.000002",
          "2048-12-31T00:00:00.000002"
         ],
         "y": [
          365176915.8351939,
          365176915.8351939,
          365176915.8351939,
          365176915.8351939,
          365176915.8351939,
          365176915.8351939,
          365176915.8351939,
          365176915.8351939,
          365176915.8351939,
          365176915.8351939,
          365176915.8351939,
          365176915.8351939,
          365176915.8351939,
          365176915.8351939,
          365176915.8351939,
          365176915.8351939,
          365176915.8351939,
          365176915.8351939,
          365176915.8351939,
          365176915.8351939,
          365176915.8351939,
          365176915.8351939,
          365176915.8351939,
          365176915.8351939,
          365176915.8351939,
          365176915.8351939,
          365176915.8351939,
          365176915.8351939,
          365176915.8351939,
          365176915.8351939,
          365176915.8351939,
          365176915.8351939,
          365176915.8351939,
          365176915.8351939,
          365176915.8351939,
          365176915.8351939,
          365176915.8351939,
          365176915.8351939,
          365176915.8351939,
          365176915.8351939,
          365176915.8351939,
          365176915.8351939,
          365176915.8351939,
          365176915.8351939,
          365176915.8351939,
          365176915.8351939,
          365176915.8351939,
          365176915.8351939,
          365176915.8351939,
          365176915.8351939,
          365176915.8351939,
          365176915.8351939,
          365176915.8351939,
          365176915.8351939,
          365176915.8351939,
          365176915.8351939,
          365176915.8351939,
          365176915.8351939,
          365176915.8351939,
          365176915.8351939,
          365176915.8351939,
          365176915.8351939,
          365176915.8351939,
          365176915.8351939,
          365176915.8351939,
          365176915.8351939,
          365176915.8351939,
          365176915.8351939,
          365176915.8351939,
          365176915.8351939,
          365176915.8351939,
          365176915.8351939,
          376524734.7214851,
          387197232.40242815,
          395825978.781963,
          407297983.6009586,
          418984798.6786206,
          431978134.85059184,
          441711304.86823356,
          455527976.7073537,
          469562883.55812526,
          484298409.68602633,
          495776873.65688014,
          511216899.14331555,
          526874837.74101186,
          542744248.8738226,
          556146912.6821194,
          572378596.8108431,
          589590185.6309853,
          607015348.8940063,
          621581262.0116365,
          638971933.1150599,
          656596871.7588319,
          674433336.3918073,
          689019887.0982448,
          707545221.2397411,
          726288429.2451278,
          745262390.1692414,
          760989606.7082357,
          781032937.3576292,
          801295187.0556636,
          822603209.7372983,
          840673127.9241124,
          861557159.8461564,
          882656006.6818923,
          903966326.0655171,
          922036248.9399189,
          942920285.536797,
          973025362.8248245,
          1003366655.039241,
          1030492293.1287141,
          1060407302.549358,
          1090537122.2286453,
          1120878414.4430642,
          1148004052.53257,
          1177919061.9531934,
          1208048881.6324978,
          1238390173.8469262,
          1265515811.9364054,
          1295430821.357047,
          1325560641.0363503,
          1355901933.2507594,
          1383027571.3402627,
          1412942580.7608867,
          1443072400.4402034,
          1473413692.654627,
          1500539330.744099,
          1530454340.1647422,
          1560584159.844037,
          1590925452.0584464,
          1618051090.14795,
          1647966099.568598,
          1678095919.2479088,
          1708437211.462335,
          1735562849.5518181,
          1765477858.9724338,
          1795607678.65175,
          1825948970.8661819,
          1853074608.955635,
          1882989618.376268,
          1913119438.055582,
          1943460730.2699845,
          1970586368.3594902,
          2000501377.7801473,
          2030631197.4594424,
          2060972489.6738691,
          2088098127.76336,
          2118013137.1839952,
          2148142956.8632827,
          2178484249.077716,
          2205609887.167201
         ]
        },
        {
         "mode": "lines",
         "name": "Asia (UN)",
         "type": "scatter",
         "x": [
          "1970-01-01T00:00:00.000001",
          "1970-01-01T00:00:00.000001",
          "1970-01-01T00:00:00.000001",
          "1970-01-01T00:00:00.000001",
          "1970-01-01T00:00:00.000001",
          "1970-01-01T00:00:00.000001",
          "1970-01-01T00:00:00.000001",
          "1970-01-01T00:00:00.000001",
          "1970-01-01T00:00:00.000001",
          "1970-01-01T00:00:00.000001",
          "1970-01-01T00:00:00.000001",
          "1970-01-01T00:00:00.000001",
          "1970-01-01T00:00:00.000001",
          "1970-01-01T00:00:00.000001",
          "1970-01-01T00:00:00.000001",
          "1970-01-01T00:00:00.000001",
          "1970-01-01T00:00:00.000001",
          "1970-01-01T00:00:00.000001",
          "1970-01-01T00:00:00.000001",
          "1970-01-01T00:00:00.000001",
          "1970-01-01T00:00:00.000001",
          "1970-01-01T00:00:00.000001",
          "1970-01-01T00:00:00.000001",
          "1970-01-01T00:00:00.000001",
          "1970-01-01T00:00:00.000001",
          "1970-01-01T00:00:00.000001",
          "1970-01-01T00:00:00.000001",
          "1970-01-01T00:00:00.000001",
          "1970-01-01T00:00:00.000001",
          "1970-01-01T00:00:00.000001",
          "1970-01-01T00:00:00.000001",
          "1970-01-01T00:00:00.000001",
          "1970-01-01T00:00:00.000001",
          "1970-01-01T00:00:00.000001",
          "1970-01-01T00:00:00.000001",
          "1970-01-01T00:00:00.000001",
          "1970-01-01T00:00:00.000001",
          "1970-01-01T00:00:00.000001",
          "1970-01-01T00:00:00.000001",
          "1970-01-01T00:00:00.000001",
          "1970-01-01T00:00:00.000001",
          "1970-01-01T00:00:00.000001",
          "1970-01-01T00:00:00.000001",
          "1970-01-01T00:00:00.000001",
          "1970-01-01T00:00:00.000001",
          "1970-01-01T00:00:00.000001",
          "1970-01-01T00:00:00.000001",
          "1970-01-01T00:00:00.000001",
          "1970-01-01T00:00:00.000001",
          "1970-01-01T00:00:00.000001",
          "1970-01-01T00:00:00.000002",
          "1970-01-01T00:00:00.000002",
          "1970-01-01T00:00:00.000002",
          "1970-01-01T00:00:00.000002",
          "1970-01-01T00:00:00.000002",
          "1970-01-01T00:00:00.000002",
          "1970-01-01T00:00:00.000002",
          "1970-01-01T00:00:00.000002",
          "1970-01-01T00:00:00.000002",
          "1970-01-01T00:00:00.000002",
          "1970-01-01T00:00:00.000002",
          "1970-01-01T00:00:00.000002",
          "1970-01-01T00:00:00.000002",
          "1970-01-01T00:00:00.000002",
          "1970-01-01T00:00:00.000002",
          "1970-01-01T00:00:00.000002",
          "1970-01-01T00:00:00.000002",
          "1970-01-01T00:00:00.000002",
          "1970-01-01T00:00:00.000002",
          "1970-01-01T00:00:00.000002",
          "1970-01-01T00:00:00.000002",
          "1970-01-01T00:00:00.000002",
          "1970-12-31T00:00:00.000002",
          "1971-12-31T00:00:00.000002",
          "1972-12-31T00:00:00.000002",
          "1973-12-31T00:00:00.000002",
          "1974-12-31T00:00:00.000002",
          "1975-12-31T00:00:00.000002",
          "1976-12-31T00:00:00.000002",
          "1977-12-31T00:00:00.000002",
          "1978-12-31T00:00:00.000002",
          "1979-12-31T00:00:00.000002",
          "1980-12-31T00:00:00.000002",
          "1981-12-31T00:00:00.000002",
          "1982-12-31T00:00:00.000002",
          "1983-12-31T00:00:00.000002",
          "1984-12-31T00:00:00.000002",
          "1985-12-31T00:00:00.000002",
          "1986-12-31T00:00:00.000002",
          "1987-12-31T00:00:00.000002",
          "1988-12-31T00:00:00.000002",
          "1989-12-31T00:00:00.000002",
          "1990-12-31T00:00:00.000002",
          "1991-12-31T00:00:00.000002",
          "1992-12-31T00:00:00.000002",
          "1993-12-31T00:00:00.000002",
          "1994-12-31T00:00:00.000002",
          "1995-12-31T00:00:00.000002",
          "1996-12-31T00:00:00.000002",
          "1997-12-31T00:00:00.000002",
          "1998-12-31T00:00:00.000002",
          "1999-12-31T00:00:00.000002",
          "2000-12-31T00:00:00.000002",
          "2001-12-31T00:00:00.000002",
          "2002-12-31T00:00:00.000002",
          "2003-12-31T00:00:00.000002",
          "2004-12-31T00:00:00.000002",
          "2005-12-31T00:00:00.000002",
          "2006-12-31T00:00:00.000002",
          "2007-12-31T00:00:00.000002",
          "2008-12-31T00:00:00.000002",
          "2009-12-31T00:00:00.000002",
          "2010-12-31T00:00:00.000002",
          "2011-12-31T00:00:00.000002",
          "2012-12-31T00:00:00.000002",
          "2013-12-31T00:00:00.000002",
          "2014-12-31T00:00:00.000002",
          "2015-12-31T00:00:00.000002",
          "2016-12-31T00:00:00.000002",
          "2017-12-31T00:00:00.000002",
          "2018-12-31T00:00:00.000002",
          "2019-12-31T00:00:00.000002",
          "2020-12-31T00:00:00.000002",
          "2021-12-31T00:00:00.000002",
          "2022-12-31T00:00:00.000002",
          "2023-12-31T00:00:00.000002",
          "2024-12-31T00:00:00.000002",
          "2025-12-31T00:00:00.000002",
          "2026-12-31T00:00:00.000002",
          "2027-12-31T00:00:00.000002",
          "2028-12-31T00:00:00.000002",
          "2029-12-31T00:00:00.000002",
          "2030-12-31T00:00:00.000002",
          "2031-12-31T00:00:00.000002",
          "2032-12-31T00:00:00.000002",
          "2033-12-31T00:00:00.000002",
          "2034-12-31T00:00:00.000002",
          "2035-12-31T00:00:00.000002",
          "2036-12-31T00:00:00.000002",
          "2037-12-31T00:00:00.000002",
          "2038-12-31T00:00:00.000002",
          "2039-12-31T00:00:00.000002",
          "2040-12-31T00:00:00.000002",
          "2041-12-31T00:00:00.000002",
          "2042-12-31T00:00:00.000002",
          "2043-12-31T00:00:00.000002",
          "2044-12-31T00:00:00.000002",
          "2045-12-31T00:00:00.000002",
          "2046-12-31T00:00:00.000002",
          "2047-12-31T00:00:00.000002",
          "2048-12-31T00:00:00.000002"
         ],
         "y": [
          2146017629.005837,
          2146017629.005837,
          2146017629.005837,
          2146017629.005837,
          2146017629.005837,
          2146017629.005837,
          2146017629.005837,
          2146017629.005837,
          2146017629.005837,
          2146017629.005837,
          2146017629.005837,
          2146017629.005837,
          2146017629.005837,
          2146017629.005837,
          2146017629.005837,
          2146017629.005837,
          2146017629.005837,
          2146017629.005837,
          2146017629.005837,
          2146017629.005837,
          2146017629.005837,
          2146017629.005837,
          2146017629.005837,
          2146017629.005837,
          2146017629.005837,
          2146017629.005837,
          2146017629.005837,
          2146017629.005837,
          2146017629.005837,
          2146017629.005837,
          2146017629.005837,
          2146017629.005837,
          2146017629.005837,
          2146017629.005837,
          2146017629.005837,
          2146017629.005837,
          2146017629.005837,
          2146017629.005837,
          2146017629.005837,
          2146017629.005837,
          2146017629.005837,
          2146017629.005837,
          2146017629.005837,
          2146017629.005837,
          2146017629.005837,
          2146017629.005837,
          2146017629.005837,
          2146017629.005837,
          2146017629.005837,
          2146017629.005837,
          2146017629.005837,
          2146017629.005837,
          2146017629.005837,
          2146017629.005837,
          2146017629.005837,
          2146017629.005837,
          2146017629.005837,
          2146017629.005837,
          2146017629.005837,
          2146017629.005837,
          2146017629.005837,
          2146017629.005837,
          2146017629.005837,
          2146017629.005837,
          2146017629.005837,
          2146017629.005837,
          2146017629.005837,
          2146017629.005837,
          2146017629.005837,
          2146017629.005837,
          2146017629.005837,
          2146017629.005837,
          2184750257.680808,
          2229134725.5751367,
          2292351123.763609,
          2338600688.7125006,
          2383811212.50959,
          2426589603.391348,
          2488286479.449485,
          2533020933.8246927,
          2576716347.047864,
          2621800924.747472,
          2685820832.7751646,
          2737294333.5474463,
          2787740942.5123854,
          2837266378.1207595,
          2909721577.1514974,
          2965195858.0990486,
          3020189065.4196935,
          3074262632.26194,
          3147289792.4801006,
          3203323573.982807,
          3256114797.0497484,
          3307978793.140381,
          3378790328.8375397,
          3426411976.053461,
          3472977542.1082435,
          3518547209.184167,
          3583046965.276273,
          3629688464.720804,
          3675288482.9672127,
          3719954165.02998,
          3783547629.0289297,
          3830173489.438859,
          3875760308.7502427,
          3920425954.705787,
          3984052591.7269063,
          4030711625.157201,
          4071886173.331234,
          4112127335.391,
          4171284193.676239,
          4213485570.244137,
          4254647905.6609855,
          4294889067.7204876,
          4354045926.004491,
          4396247302.573322,
          4437409637.989602,
          4477650800.049005,
          4536807658.333978,
          4579009034.901913,
          4620171370.318252,
          4660412532.378085,
          4719569390.662399,
          4761770767.231037,
          4802933102.646721,
          4843174264.706193,
          4902331122.991598,
          4944532499.559511,
          4985694834.976146,
          5025935997.035943,
          5085092855.320217,
          5127294231.888159,
          5168456567.303784,
          5208697729.36354,
          5267854587.648134,
          5310055964.217344,
          5351218299.633497,
          5391459461.692226,
          5450616319.978344,
          5492817696.54652,
          5533980031.962679,
          5574221194.022454,
          5633378052.306726,
          5675579428.874133,
          5716741764.290595,
          5756982926.350347,
          5816139784.634661,
          5858341161.20281,
          5899503496.619739,
          5939744658.679032,
          5998901516.963612
         ]
        },
        {
         "mode": "lines",
         "name": "Europe (UN)",
         "type": "scatter",
         "x": [
          "1970-01-01T00:00:00.000001",
          "1970-01-01T00:00:00.000001",
          "1970-01-01T00:00:00.000001",
          "1970-01-01T00:00:00.000001",
          "1970-01-01T00:00:00.000001",
          "1970-01-01T00:00:00.000001",
          "1970-01-01T00:00:00.000001",
          "1970-01-01T00:00:00.000001",
          "1970-01-01T00:00:00.000001",
          "1970-01-01T00:00:00.000001",
          "1970-01-01T00:00:00.000001",
          "1970-01-01T00:00:00.000001",
          "1970-01-01T00:00:00.000001",
          "1970-01-01T00:00:00.000001",
          "1970-01-01T00:00:00.000001",
          "1970-01-01T00:00:00.000001",
          "1970-01-01T00:00:00.000001",
          "1970-01-01T00:00:00.000001",
          "1970-01-01T00:00:00.000001",
          "1970-01-01T00:00:00.000001",
          "1970-01-01T00:00:00.000001",
          "1970-01-01T00:00:00.000001",
          "1970-01-01T00:00:00.000001",
          "1970-01-01T00:00:00.000001",
          "1970-01-01T00:00:00.000001",
          "1970-01-01T00:00:00.000001",
          "1970-01-01T00:00:00.000001",
          "1970-01-01T00:00:00.000001",
          "1970-01-01T00:00:00.000001",
          "1970-01-01T00:00:00.000001",
          "1970-01-01T00:00:00.000001",
          "1970-01-01T00:00:00.000001",
          "1970-01-01T00:00:00.000001",
          "1970-01-01T00:00:00.000001",
          "1970-01-01T00:00:00.000001",
          "1970-01-01T00:00:00.000001",
          "1970-01-01T00:00:00.000001",
          "1970-01-01T00:00:00.000001",
          "1970-01-01T00:00:00.000001",
          "1970-01-01T00:00:00.000001",
          "1970-01-01T00:00:00.000001",
          "1970-01-01T00:00:00.000001",
          "1970-01-01T00:00:00.000001",
          "1970-01-01T00:00:00.000001",
          "1970-01-01T00:00:00.000001",
          "1970-01-01T00:00:00.000001",
          "1970-01-01T00:00:00.000001",
          "1970-01-01T00:00:00.000001",
          "1970-01-01T00:00:00.000001",
          "1970-01-01T00:00:00.000001",
          "1970-01-01T00:00:00.000002",
          "1970-01-01T00:00:00.000002",
          "1970-01-01T00:00:00.000002",
          "1970-01-01T00:00:00.000002",
          "1970-01-01T00:00:00.000002",
          "1970-01-01T00:00:00.000002",
          "1970-01-01T00:00:00.000002",
          "1970-01-01T00:00:00.000002",
          "1970-01-01T00:00:00.000002",
          "1970-01-01T00:00:00.000002",
          "1970-01-01T00:00:00.000002",
          "1970-01-01T00:00:00.000002",
          "1970-01-01T00:00:00.000002",
          "1970-01-01T00:00:00.000002",
          "1970-01-01T00:00:00.000002",
          "1970-01-01T00:00:00.000002",
          "1970-01-01T00:00:00.000002",
          "1970-01-01T00:00:00.000002",
          "1970-01-01T00:00:00.000002",
          "1970-01-01T00:00:00.000002",
          "1970-01-01T00:00:00.000002",
          "1970-01-01T00:00:00.000002",
          "1970-12-31T00:00:00.000002",
          "1971-12-31T00:00:00.000002",
          "1972-12-31T00:00:00.000002",
          "1973-12-31T00:00:00.000002",
          "1974-12-31T00:00:00.000002",
          "1975-12-31T00:00:00.000002",
          "1976-12-31T00:00:00.000002",
          "1977-12-31T00:00:00.000002",
          "1978-12-31T00:00:00.000002",
          "1979-12-31T00:00:00.000002",
          "1980-12-31T00:00:00.000002",
          "1981-12-31T00:00:00.000002",
          "1982-12-31T00:00:00.000002",
          "1983-12-31T00:00:00.000002",
          "1984-12-31T00:00:00.000002",
          "1985-12-31T00:00:00.000002",
          "1986-12-31T00:00:00.000002",
          "1987-12-31T00:00:00.000002",
          "1988-12-31T00:00:00.000002",
          "1989-12-31T00:00:00.000002",
          "1990-12-31T00:00:00.000002",
          "1991-12-31T00:00:00.000002",
          "1992-12-31T00:00:00.000002",
          "1993-12-31T00:00:00.000002",
          "1994-12-31T00:00:00.000002",
          "1995-12-31T00:00:00.000002",
          "1996-12-31T00:00:00.000002",
          "1997-12-31T00:00:00.000002",
          "1998-12-31T00:00:00.000002",
          "1999-12-31T00:00:00.000002",
          "2000-12-31T00:00:00.000002",
          "2001-12-31T00:00:00.000002",
          "2002-12-31T00:00:00.000002",
          "2003-12-31T00:00:00.000002",
          "2004-12-31T00:00:00.000002",
          "2005-12-31T00:00:00.000002",
          "2006-12-31T00:00:00.000002",
          "2007-12-31T00:00:00.000002",
          "2008-12-31T00:00:00.000002",
          "2009-12-31T00:00:00.000002",
          "2010-12-31T00:00:00.000002",
          "2011-12-31T00:00:00.000002",
          "2012-12-31T00:00:00.000002",
          "2013-12-31T00:00:00.000002",
          "2014-12-31T00:00:00.000002",
          "2015-12-31T00:00:00.000002",
          "2016-12-31T00:00:00.000002",
          "2017-12-31T00:00:00.000002",
          "2018-12-31T00:00:00.000002",
          "2019-12-31T00:00:00.000002",
          "2020-12-31T00:00:00.000002",
          "2021-12-31T00:00:00.000002",
          "2022-12-31T00:00:00.000002",
          "2023-12-31T00:00:00.000002",
          "2024-12-31T00:00:00.000002",
          "2025-12-31T00:00:00.000002",
          "2026-12-31T00:00:00.000002",
          "2027-12-31T00:00:00.000002",
          "2028-12-31T00:00:00.000002",
          "2029-12-31T00:00:00.000002",
          "2030-12-31T00:00:00.000002",
          "2031-12-31T00:00:00.000002",
          "2032-12-31T00:00:00.000002",
          "2033-12-31T00:00:00.000002",
          "2034-12-31T00:00:00.000002",
          "2035-12-31T00:00:00.000002",
          "2036-12-31T00:00:00.000002",
          "2037-12-31T00:00:00.000002",
          "2038-12-31T00:00:00.000002",
          "2039-12-31T00:00:00.000002",
          "2040-12-31T00:00:00.000002",
          "2041-12-31T00:00:00.000002",
          "2042-12-31T00:00:00.000002",
          "2043-12-31T00:00:00.000002",
          "2044-12-31T00:00:00.000002",
          "2045-12-31T00:00:00.000002",
          "2046-12-31T00:00:00.000002",
          "2047-12-31T00:00:00.000002",
          "2048-12-31T00:00:00.000002"
         ],
         "y": [
          656678191.8854327,
          656678191.8854327,
          656678191.8854327,
          656678191.8854327,
          656678191.8854327,
          656678191.8854327,
          656678191.8854327,
          656678191.8854327,
          656678191.8854327,
          656678191.8854327,
          656678191.8854327,
          656678191.8854327,
          656678191.8854327,
          656678191.8854327,
          656678191.8854327,
          656678191.8854327,
          656678191.8854327,
          656678191.8854327,
          656678191.8854327,
          656678191.8854327,
          656678191.8854327,
          656678191.8854327,
          656678191.8854327,
          656678191.8854327,
          656678191.8854327,
          656678191.8854327,
          656678191.8854327,
          656678191.8854327,
          656678191.8854327,
          656678191.8854327,
          656678191.8854327,
          656678191.8854327,
          656678191.8854327,
          656678191.8854327,
          656678191.8854327,
          656678191.8854327,
          656678191.8854327,
          656678191.8854327,
          656678191.8854327,
          656678191.8854327,
          656678191.8854327,
          656678191.8854327,
          656678191.8854327,
          656678191.8854327,
          656678191.8854327,
          656678191.8854327,
          656678191.8854327,
          656678191.8854327,
          656678191.8854327,
          656678191.8854327,
          656678191.8854327,
          656678191.8854327,
          656678191.8854327,
          656678191.8854327,
          656678191.8854327,
          656678191.8854327,
          656678191.8854327,
          656678191.8854327,
          656678191.8854327,
          656678191.8854327,
          656678191.8854327,
          656678191.8854327,
          656678191.8854327,
          656678191.8854327,
          656678191.8854327,
          656678191.8854327,
          656678191.8854327,
          656678191.8854327,
          656678191.8854327,
          656678191.8854327,
          656678191.8854327,
          656678191.8854327,
          661138409.6291351,
          665610650.0360546,
          668845284.8321409,
          672988456.2458181,
          677266312.8470542,
          681250418.6045228,
          684001569.5382056,
          687301119.5800239,
          690734361.7365646,
          694198266.6732708,
          696428685.2664909,
          699385311.3970159,
          702476114.2182119,
          705753988.1443157,
          707798296.9963529,
          710754414.7026567,
          713845217.5646007,
          717123091.5314987,
          719074383.9623785,
          721937485.2479824,
          723845971.0293415,
          725938535.3309025,
          726794287.0620706,
          727206462.1935256,
          727749590.0046042,
          728245811.1666789,
          727500201.6580803,
          727510514.9834331,
          727655064.2964699,
          727986684.7160144,
          727076668.0607492,
          727086532.1880157,
          727993509.2410223,
          729089651.9809012,
          729785462.9198484,
          731399060.0588589,
          732782325.735003,
          734351659.7234297,
          734682747.6336843,
          735930325.3295438,
          737312588.2132933,
          738881922.2015876,
          739213010.1112825,
          740460587.8075747,
          741842850.6910743,
          743412184.6793468,
          743743272.5894752,
          744990850.2853484,
          746373113.1688756,
          747942447.1573157,
          748273535.0671711,
          749521112.7633604,
          750903375.6465782,
          752472709.634872,
          752803797.5452087,
          754051375.2410771,
          755433638.1247358,
          757002972.1131594,
          757334060.022989,
          758581637.718889,
          759963900.6020515,
          761533234.5905071,
          761864322.5004512,
          763111900.1969198,
          764494163.0803916,
          766063497.0683069,
          766394584.9789664,
          767642162.6749406,
          769024425.5584091,
          770593759.5467992,
          770924847.4566318,
          772172425.1522744,
          773554688.0358404,
          775124022.0242941,
          775455109.9341099,
          776702687.6300737,
          778084950.5138661,
          779654284.5020936,
          779985372.4120331
         ]
        },
        {
         "mode": "lines",
         "name": "Latin America and the Caribbean (UN)",
         "type": "scatter",
         "x": [
          "1970-01-01T00:00:00.000001",
          "1970-01-01T00:00:00.000001",
          "1970-01-01T00:00:00.000001",
          "1970-01-01T00:00:00.000001",
          "1970-01-01T00:00:00.000001",
          "1970-01-01T00:00:00.000001",
          "1970-01-01T00:00:00.000001",
          "1970-01-01T00:00:00.000001",
          "1970-01-01T00:00:00.000001",
          "1970-01-01T00:00:00.000001",
          "1970-01-01T00:00:00.000001",
          "1970-01-01T00:00:00.000001",
          "1970-01-01T00:00:00.000001",
          "1970-01-01T00:00:00.000001",
          "1970-01-01T00:00:00.000001",
          "1970-01-01T00:00:00.000001",
          "1970-01-01T00:00:00.000001",
          "1970-01-01T00:00:00.000001",
          "1970-01-01T00:00:00.000001",
          "1970-01-01T00:00:00.000001",
          "1970-01-01T00:00:00.000001",
          "1970-01-01T00:00:00.000001",
          "1970-01-01T00:00:00.000001",
          "1970-01-01T00:00:00.000001",
          "1970-01-01T00:00:00.000001",
          "1970-01-01T00:00:00.000001",
          "1970-01-01T00:00:00.000001",
          "1970-01-01T00:00:00.000001",
          "1970-01-01T00:00:00.000001",
          "1970-01-01T00:00:00.000001",
          "1970-01-01T00:00:00.000001",
          "1970-01-01T00:00:00.000001",
          "1970-01-01T00:00:00.000001",
          "1970-01-01T00:00:00.000001",
          "1970-01-01T00:00:00.000001",
          "1970-01-01T00:00:00.000001",
          "1970-01-01T00:00:00.000001",
          "1970-01-01T00:00:00.000001",
          "1970-01-01T00:00:00.000001",
          "1970-01-01T00:00:00.000001",
          "1970-01-01T00:00:00.000001",
          "1970-01-01T00:00:00.000001",
          "1970-01-01T00:00:00.000001",
          "1970-01-01T00:00:00.000001",
          "1970-01-01T00:00:00.000001",
          "1970-01-01T00:00:00.000001",
          "1970-01-01T00:00:00.000001",
          "1970-01-01T00:00:00.000001",
          "1970-01-01T00:00:00.000001",
          "1970-01-01T00:00:00.000001",
          "1970-01-01T00:00:00.000002",
          "1970-01-01T00:00:00.000002",
          "1970-01-01T00:00:00.000002",
          "1970-01-01T00:00:00.000002",
          "1970-01-01T00:00:00.000002",
          "1970-01-01T00:00:00.000002",
          "1970-01-01T00:00:00.000002",
          "1970-01-01T00:00:00.000002",
          "1970-01-01T00:00:00.000002",
          "1970-01-01T00:00:00.000002",
          "1970-01-01T00:00:00.000002",
          "1970-01-01T00:00:00.000002",
          "1970-01-01T00:00:00.000002",
          "1970-01-01T00:00:00.000002",
          "1970-01-01T00:00:00.000002",
          "1970-01-01T00:00:00.000002",
          "1970-01-01T00:00:00.000002",
          "1970-01-01T00:00:00.000002",
          "1970-01-01T00:00:00.000002",
          "1970-01-01T00:00:00.000002",
          "1970-01-01T00:00:00.000002",
          "1970-01-01T00:00:00.000002",
          "1970-12-31T00:00:00.000002",
          "1971-12-31T00:00:00.000002",
          "1972-12-31T00:00:00.000002",
          "1973-12-31T00:00:00.000002",
          "1974-12-31T00:00:00.000002",
          "1975-12-31T00:00:00.000002",
          "1976-12-31T00:00:00.000002",
          "1977-12-31T00:00:00.000002",
          "1978-12-31T00:00:00.000002",
          "1979-12-31T00:00:00.000002",
          "1980-12-31T00:00:00.000002",
          "1981-12-31T00:00:00.000002",
          "1982-12-31T00:00:00.000002",
          "1983-12-31T00:00:00.000002",
          "1984-12-31T00:00:00.000002",
          "1985-12-31T00:00:00.000002",
          "1986-12-31T00:00:00.000002",
          "1987-12-31T00:00:00.000002",
          "1988-12-31T00:00:00.000002",
          "1989-12-31T00:00:00.000002",
          "1990-12-31T00:00:00.000002",
          "1991-12-31T00:00:00.000002",
          "1992-12-31T00:00:00.000002",
          "1993-12-31T00:00:00.000002",
          "1994-12-31T00:00:00.000002",
          "1995-12-31T00:00:00.000002",
          "1996-12-31T00:00:00.000002",
          "1997-12-31T00:00:00.000002",
          "1998-12-31T00:00:00.000002",
          "1999-12-31T00:00:00.000002",
          "2000-12-31T00:00:00.000002",
          "2001-12-31T00:00:00.000002",
          "2002-12-31T00:00:00.000002",
          "2003-12-31T00:00:00.000002",
          "2004-12-31T00:00:00.000002",
          "2005-12-31T00:00:00.000002",
          "2006-12-31T00:00:00.000002",
          "2007-12-31T00:00:00.000002",
          "2008-12-31T00:00:00.000002",
          "2009-12-31T00:00:00.000002",
          "2010-12-31T00:00:00.000002",
          "2011-12-31T00:00:00.000002",
          "2012-12-31T00:00:00.000002",
          "2013-12-31T00:00:00.000002",
          "2014-12-31T00:00:00.000002",
          "2015-12-31T00:00:00.000002",
          "2016-12-31T00:00:00.000002",
          "2017-12-31T00:00:00.000002",
          "2018-12-31T00:00:00.000002",
          "2019-12-31T00:00:00.000002",
          "2020-12-31T00:00:00.000002",
          "2021-12-31T00:00:00.000002",
          "2022-12-31T00:00:00.000002",
          "2023-12-31T00:00:00.000002",
          "2024-12-31T00:00:00.000002",
          "2025-12-31T00:00:00.000002",
          "2026-12-31T00:00:00.000002",
          "2027-12-31T00:00:00.000002",
          "2028-12-31T00:00:00.000002",
          "2029-12-31T00:00:00.000002",
          "2030-12-31T00:00:00.000002",
          "2031-12-31T00:00:00.000002",
          "2032-12-31T00:00:00.000002",
          "2033-12-31T00:00:00.000002",
          "2034-12-31T00:00:00.000002",
          "2035-12-31T00:00:00.000002",
          "2036-12-31T00:00:00.000002",
          "2037-12-31T00:00:00.000002",
          "2038-12-31T00:00:00.000002",
          "2039-12-31T00:00:00.000002",
          "2040-12-31T00:00:00.000002",
          "2041-12-31T00:00:00.000002",
          "2042-12-31T00:00:00.000002",
          "2043-12-31T00:00:00.000002",
          "2044-12-31T00:00:00.000002",
          "2045-12-31T00:00:00.000002",
          "2046-12-31T00:00:00.000002",
          "2047-12-31T00:00:00.000002",
          "2048-12-31T00:00:00.000002"
         ],
         "y": [
          286526443.1566484,
          286526443.1566484,
          286526443.1566484,
          286526443.1566484,
          286526443.1566484,
          286526443.1566484,
          286526443.1566484,
          286526443.1566484,
          286526443.1566484,
          286526443.1566484,
          286526443.1566484,
          286526443.1566484,
          286526443.1566484,
          286526443.1566484,
          286526443.1566484,
          286526443.1566484,
          286526443.1566484,
          286526443.1566484,
          286526443.1566484,
          286526443.1566484,
          286526443.1566484,
          286526443.1566484,
          286526443.1566484,
          286526443.1566484,
          286526443.1566484,
          286526443.1566484,
          286526443.1566484,
          286526443.1566484,
          286526443.1566484,
          286526443.1566484,
          286526443.1566484,
          286526443.1566484,
          286526443.1566484,
          286526443.1566484,
          286526443.15664846,
          286526443.15664846,
          286526443.15664846,
          286526443.15664846,
          286526443.15664846,
          286526443.15664846,
          286526443.15664846,
          286526443.15664846,
          286526443.15664846,
          286526443.15664846,
          286526443.15664846,
          286526443.15664846,
          286526443.15664846,
          286526443.15664846,
          286526443.15664846,
          286526443.15664846,
          286526443.15664846,
          286526443.15664846,
          286526443.15664846,
          286526443.15664846,
          286526443.15664846,
          286526443.15664846,
          286526443.15664846,
          286526443.15664846,
          286526443.15664846,
          286526443.15664846,
          286526443.15664846,
          286526443.15664846,
          286526443.15664846,
          286526443.15664846,
          286526443.15664846,
          286526443.15664846,
          286526443.15664846,
          286526443.15664846,
          286526443.15664846,
          286526443.15664846,
          286526443.15664846,
          286526443.15664846,
          292969564.68600494,
          299860656.22995543,
          307982499.44933724,
          315134807.3268134,
          322255999.2778678,
          329729769.3509415,
          338211639.5021744,
          345917215.0293926,
          353592209.9042931,
          361304273.453743,
          370024220.78126156,
          377773153.60332656,
          385490972.615364,
          393203923.88159215,
          401931413.2010266,
          409687115.5079567,
          417566944.36860096,
          425442331.9738372,
          434332154.39800346,
          442249744.7788821,
          450136600.11185783,
          458018588.7452022,
          466908811.1793435,
          474821321.9979148,
          482702701.8859658,
          490475595.0256281,
          499256137.6266632,
          506824842.7273723,
          514361772.87131214,
          521449316.39719105,
          529541692.610153,
          536663998.60266167,
          543557232.5197635,
          550445054.855614,
          558338387.2439266,
          565262193.2469808,
          571251025.3670025,
          577232506.6151454,
          584217014.794502,
          590234479.7148253,
          596220828.7088933,
          602202309.9569726,
          609186818.1360505,
          615204283.056587,
          621190632.0505294,
          627172113.2985939,
          634156621.4778881,
          640174086.3982189,
          646160435.3921747,
          652141916.6403275,
          659126424.8194816,
          665143889.7399698,
          671130238.7337737,
          677111719.9818503,
          684096228.1612465,
          690113693.081574,
          696100042.0755957,
          702081523.3237402,
          709066031.5028825,
          715083496.4232228,
          721069845.4170036,
          727051326.6651554,
          734035834.8443608,
          740053299.7649844,
          746039648.758908,
          752021130.0068029,
          759005638.1863596,
          765023103.1067421,
          771009452.1006653,
          776990933.3487971,
          783975441.52794,
          789992906.4481544,
          795979255.4421325,
          801960736.6902835,
          808945244.8694248,
          814962709.7898014,
          820949058.7838897,
          826930540.031931,
          833915048.2111332
         ]
        },
        {
         "mode": "lines",
         "name": "Northern America (UN)",
         "type": "scatter",
         "x": [
          "1970-01-01T00:00:00.000001",
          "1970-01-01T00:00:00.000001",
          "1970-01-01T00:00:00.000001",
          "1970-01-01T00:00:00.000001",
          "1970-01-01T00:00:00.000001",
          "1970-01-01T00:00:00.000001",
          "1970-01-01T00:00:00.000001",
          "1970-01-01T00:00:00.000001",
          "1970-01-01T00:00:00.000001",
          "1970-01-01T00:00:00.000001",
          "1970-01-01T00:00:00.000001",
          "1970-01-01T00:00:00.000001",
          "1970-01-01T00:00:00.000001",
          "1970-01-01T00:00:00.000001",
          "1970-01-01T00:00:00.000001",
          "1970-01-01T00:00:00.000001",
          "1970-01-01T00:00:00.000001",
          "1970-01-01T00:00:00.000001",
          "1970-01-01T00:00:00.000001",
          "1970-01-01T00:00:00.000001",
          "1970-01-01T00:00:00.000001",
          "1970-01-01T00:00:00.000001",
          "1970-01-01T00:00:00.000001",
          "1970-01-01T00:00:00.000001",
          "1970-01-01T00:00:00.000001",
          "1970-01-01T00:00:00.000001",
          "1970-01-01T00:00:00.000001",
          "1970-01-01T00:00:00.000001",
          "1970-01-01T00:00:00.000001",
          "1970-01-01T00:00:00.000001",
          "1970-01-01T00:00:00.000001",
          "1970-01-01T00:00:00.000001",
          "1970-01-01T00:00:00.000001",
          "1970-01-01T00:00:00.000001",
          "1970-01-01T00:00:00.000001",
          "1970-01-01T00:00:00.000001",
          "1970-01-01T00:00:00.000001",
          "1970-01-01T00:00:00.000001",
          "1970-01-01T00:00:00.000001",
          "1970-01-01T00:00:00.000001",
          "1970-01-01T00:00:00.000001",
          "1970-01-01T00:00:00.000001",
          "1970-01-01T00:00:00.000001",
          "1970-01-01T00:00:00.000001",
          "1970-01-01T00:00:00.000001",
          "1970-01-01T00:00:00.000001",
          "1970-01-01T00:00:00.000001",
          "1970-01-01T00:00:00.000001",
          "1970-01-01T00:00:00.000001",
          "1970-01-01T00:00:00.000001",
          "1970-01-01T00:00:00.000002",
          "1970-01-01T00:00:00.000002",
          "1970-01-01T00:00:00.000002",
          "1970-01-01T00:00:00.000002",
          "1970-01-01T00:00:00.000002",
          "1970-01-01T00:00:00.000002",
          "1970-01-01T00:00:00.000002",
          "1970-01-01T00:00:00.000002",
          "1970-01-01T00:00:00.000002",
          "1970-01-01T00:00:00.000002",
          "1970-01-01T00:00:00.000002",
          "1970-01-01T00:00:00.000002",
          "1970-01-01T00:00:00.000002",
          "1970-01-01T00:00:00.000002",
          "1970-01-01T00:00:00.000002",
          "1970-01-01T00:00:00.000002",
          "1970-01-01T00:00:00.000002",
          "1970-01-01T00:00:00.000002",
          "1970-01-01T00:00:00.000002",
          "1970-01-01T00:00:00.000002",
          "1970-01-01T00:00:00.000002",
          "1970-01-01T00:00:00.000002",
          "1970-12-31T00:00:00.000002",
          "1971-12-31T00:00:00.000002",
          "1972-12-31T00:00:00.000002",
          "1973-12-31T00:00:00.000002",
          "1974-12-31T00:00:00.000002",
          "1975-12-31T00:00:00.000002",
          "1976-12-31T00:00:00.000002",
          "1977-12-31T00:00:00.000002",
          "1978-12-31T00:00:00.000002",
          "1979-12-31T00:00:00.000002",
          "1980-12-31T00:00:00.000002",
          "1981-12-31T00:00:00.000002",
          "1982-12-31T00:00:00.000002",
          "1983-12-31T00:00:00.000002",
          "1984-12-31T00:00:00.000002",
          "1985-12-31T00:00:00.000002",
          "1986-12-31T00:00:00.000002",
          "1987-12-31T00:00:00.000002",
          "1988-12-31T00:00:00.000002",
          "1989-12-31T00:00:00.000002",
          "1990-12-31T00:00:00.000002",
          "1991-12-31T00:00:00.000002",
          "1992-12-31T00:00:00.000002",
          "1993-12-31T00:00:00.000002",
          "1994-12-31T00:00:00.000002",
          "1995-12-31T00:00:00.000002",
          "1996-12-31T00:00:00.000002",
          "1997-12-31T00:00:00.000002",
          "1998-12-31T00:00:00.000002",
          "1999-12-31T00:00:00.000002",
          "2000-12-31T00:00:00.000002",
          "2001-12-31T00:00:00.000002",
          "2002-12-31T00:00:00.000002",
          "2003-12-31T00:00:00.000002",
          "2004-12-31T00:00:00.000002",
          "2005-12-31T00:00:00.000002",
          "2006-12-31T00:00:00.000002",
          "2007-12-31T00:00:00.000002",
          "2008-12-31T00:00:00.000002",
          "2009-12-31T00:00:00.000002",
          "2010-12-31T00:00:00.000002",
          "2011-12-31T00:00:00.000002",
          "2012-12-31T00:00:00.000002",
          "2013-12-31T00:00:00.000002",
          "2014-12-31T00:00:00.000002",
          "2015-12-31T00:00:00.000002",
          "2016-12-31T00:00:00.000002",
          "2017-12-31T00:00:00.000002",
          "2018-12-31T00:00:00.000002",
          "2019-12-31T00:00:00.000002",
          "2020-12-31T00:00:00.000002",
          "2021-12-31T00:00:00.000002",
          "2022-12-31T00:00:00.000002",
          "2023-12-31T00:00:00.000002",
          "2024-12-31T00:00:00.000002",
          "2025-12-31T00:00:00.000002",
          "2026-12-31T00:00:00.000002",
          "2027-12-31T00:00:00.000002",
          "2028-12-31T00:00:00.000002",
          "2029-12-31T00:00:00.000002",
          "2030-12-31T00:00:00.000002",
          "2031-12-31T00:00:00.000002",
          "2032-12-31T00:00:00.000002",
          "2033-12-31T00:00:00.000002",
          "2034-12-31T00:00:00.000002",
          "2035-12-31T00:00:00.000002",
          "2036-12-31T00:00:00.000002",
          "2037-12-31T00:00:00.000002",
          "2038-12-31T00:00:00.000002",
          "2039-12-31T00:00:00.000002",
          "2040-12-31T00:00:00.000002",
          "2041-12-31T00:00:00.000002",
          "2042-12-31T00:00:00.000002",
          "2043-12-31T00:00:00.000002",
          "2044-12-31T00:00:00.000002",
          "2045-12-31T00:00:00.000002",
          "2046-12-31T00:00:00.000002",
          "2047-12-31T00:00:00.000002",
          "2048-12-31T00:00:00.000002"
         ],
         "y": [
          222099253.93921083,
          222099253.93921083,
          222099253.93921083,
          222099253.93921083,
          222099253.93921083,
          222099253.93921083,
          222099253.93921083,
          222099253.93921083,
          222099253.93921083,
          222099253.93921083,
          222099253.93921083,
          222099253.93921083,
          222099253.93921083,
          222099253.93921083,
          222099253.93921083,
          222099253.93921083,
          222099253.93921083,
          222099253.93921083,
          222099253.93921083,
          222099253.93921083,
          222099253.93921083,
          222099253.93921083,
          222099253.93921083,
          222099253.93921083,
          222099253.93921083,
          222099253.93921083,
          222099253.93921083,
          222099253.93921083,
          222099253.93921083,
          222099253.93921083,
          222099253.93921083,
          222099253.93921083,
          222099253.93921083,
          222099253.93921083,
          222099253.93921086,
          222099253.93921086,
          222099253.93921086,
          222099253.93921086,
          222099253.93921086,
          222099253.93921086,
          222099253.93921086,
          222099253.93921086,
          222099253.93921086,
          222099253.93921086,
          222099253.93921086,
          222099253.93921086,
          222099253.93921086,
          222099253.93921086,
          222099253.93921086,
          222099253.93921086,
          222099253.93921086,
          222099253.93921086,
          222099253.93921086,
          222099253.93921086,
          222099253.93921086,
          222099253.93921086,
          222099253.93921086,
          222099253.93921086,
          222099253.93921086,
          222099253.93921086,
          222099253.93921086,
          222099253.93921086,
          222099253.93921086,
          222099253.93921086,
          222099253.93921086,
          222099253.93921086,
          222099253.93921086,
          222099253.93921086,
          222099253.93921086,
          222099253.93921086,
          222099253.93921086,
          222099253.93921086,
          224154840.28689355,
          226558395.56486538,
          229536652.28156227,
          231825837.12151518,
          234100081.25174928,
          236383248.75483313,
          239361175.65943176,
          241902078.59161747,
          244428732.34722167,
          246964309.53178144,
          250195337.65140048,
          252725382.9266163,
          255240455.76330888,
          257764451.95543522,
          260983867.24077827,
          263513880.6741544,
          266028953.3838539,
          268552949.44901276,
          272471378.00188184,
          275700404.7033889,
          279316237.6350342,
          282942097.6223226,
          287266395.62076956,
          290896195.35279405,
          294511048.66736877,
          298075627.3008785,
          302338312.973746,
          305770335.41638076,
          309187036.8995278,
          312372026.9660143,
          316253584.2848475,
          319443930.621164,
          322619336.22399604,
          325803665.1823168,
          329686889.39241993,
          332878902.6197259,
          335662179.9838053,
          338453298.8486692,
          341940568.7626804,
          344737704.98178357,
          347519900.49131894,
          350311019.35612464,
          353798289.2698824,
          356595425.48917985,
          359377620.99860114,
          362168739.8633939,
          365656009.7773484,
          368453145.9964582,
          371235341.50589174,
          374026460.3707642,
          377513730.2845918,
          380310866.5038449,
          383093062.0131399,
          385884180.8779435,
          389371450.791991,
          392168587.0110979,
          394950782.5205914,
          397741901.3854564,
          401229171.29927313,
          404026307.51839197,
          406808503.0276655,
          409599621.89253825,
          413086891.8064115,
          415884028.02578825,
          418666223.535193,
          421457342.39983046,
          424944612.31402403,
          427741748.5331807,
          430523944.0425851,
          433315062.907438,
          436802332.8212553,
          439599469.0402595,
          442381664.5497128,
          445172783.41458476,
          448660053.3283997,
          451457189.5475512,
          454239385.05710506,
          457030503.921877,
          460517773.8357475
         ]
        },
        {
         "mode": "lines",
         "name": "Oceania (UN)",
         "type": "scatter",
         "x": [
          "1970-01-01T00:00:00.000001",
          "1970-01-01T00:00:00.000001",
          "1970-01-01T00:00:00.000001",
          "1970-01-01T00:00:00.000001",
          "1970-01-01T00:00:00.000001",
          "1970-01-01T00:00:00.000001",
          "1970-01-01T00:00:00.000001",
          "1970-01-01T00:00:00.000001",
          "1970-01-01T00:00:00.000001",
          "1970-01-01T00:00:00.000001",
          "1970-01-01T00:00:00.000001",
          "1970-01-01T00:00:00.000001",
          "1970-01-01T00:00:00.000001",
          "1970-01-01T00:00:00.000001",
          "1970-01-01T00:00:00.000001",
          "1970-01-01T00:00:00.000001",
          "1970-01-01T00:00:00.000001",
          "1970-01-01T00:00:00.000001",
          "1970-01-01T00:00:00.000001",
          "1970-01-01T00:00:00.000001",
          "1970-01-01T00:00:00.000001",
          "1970-01-01T00:00:00.000001",
          "1970-01-01T00:00:00.000001",
          "1970-01-01T00:00:00.000001",
          "1970-01-01T00:00:00.000001",
          "1970-01-01T00:00:00.000001",
          "1970-01-01T00:00:00.000001",
          "1970-01-01T00:00:00.000001",
          "1970-01-01T00:00:00.000001",
          "1970-01-01T00:00:00.000001",
          "1970-01-01T00:00:00.000001",
          "1970-01-01T00:00:00.000001",
          "1970-01-01T00:00:00.000001",
          "1970-01-01T00:00:00.000001",
          "1970-01-01T00:00:00.000001",
          "1970-01-01T00:00:00.000001",
          "1970-01-01T00:00:00.000001",
          "1970-01-01T00:00:00.000001",
          "1970-01-01T00:00:00.000001",
          "1970-01-01T00:00:00.000001",
          "1970-01-01T00:00:00.000001",
          "1970-01-01T00:00:00.000001",
          "1970-01-01T00:00:00.000001",
          "1970-01-01T00:00:00.000001",
          "1970-01-01T00:00:00.000001",
          "1970-01-01T00:00:00.000001",
          "1970-01-01T00:00:00.000001",
          "1970-01-01T00:00:00.000001",
          "1970-01-01T00:00:00.000001",
          "1970-01-01T00:00:00.000001",
          "1970-01-01T00:00:00.000002",
          "1970-01-01T00:00:00.000002",
          "1970-01-01T00:00:00.000002",
          "1970-01-01T00:00:00.000002",
          "1970-01-01T00:00:00.000002",
          "1970-01-01T00:00:00.000002",
          "1970-01-01T00:00:00.000002",
          "1970-01-01T00:00:00.000002",
          "1970-01-01T00:00:00.000002",
          "1970-01-01T00:00:00.000002",
          "1970-01-01T00:00:00.000002",
          "1970-01-01T00:00:00.000002",
          "1970-01-01T00:00:00.000002",
          "1970-01-01T00:00:00.000002",
          "1970-01-01T00:00:00.000002",
          "1970-01-01T00:00:00.000002",
          "1970-01-01T00:00:00.000002",
          "1970-01-01T00:00:00.000002",
          "1970-01-01T00:00:00.000002",
          "1970-01-01T00:00:00.000002",
          "1970-01-01T00:00:00.000002",
          "1970-01-01T00:00:00.000002",
          "1970-12-31T00:00:00.000002",
          "1971-12-31T00:00:00.000002",
          "1972-12-31T00:00:00.000002",
          "1973-12-31T00:00:00.000002",
          "1974-12-31T00:00:00.000002",
          "1975-12-31T00:00:00.000002",
          "1976-12-31T00:00:00.000002",
          "1977-12-31T00:00:00.000002",
          "1978-12-31T00:00:00.000002",
          "1979-12-31T00:00:00.000002",
          "1980-12-31T00:00:00.000002",
          "1981-12-31T00:00:00.000002",
          "1982-12-31T00:00:00.000002",
          "1983-12-31T00:00:00.000002",
          "1984-12-31T00:00:00.000002",
          "1985-12-31T00:00:00.000002",
          "1986-12-31T00:00:00.000002",
          "1987-12-31T00:00:00.000002",
          "1988-12-31T00:00:00.000002",
          "1989-12-31T00:00:00.000002",
          "1990-12-31T00:00:00.000002",
          "1991-12-31T00:00:00.000002",
          "1992-12-31T00:00:00.000002",
          "1993-12-31T00:00:00.000002",
          "1994-12-31T00:00:00.000002",
          "1995-12-31T00:00:00.000002",
          "1996-12-31T00:00:00.000002",
          "1997-12-31T00:00:00.000002",
          "1998-12-31T00:00:00.000002",
          "1999-12-31T00:00:00.000002",
          "2000-12-31T00:00:00.000002",
          "2001-12-31T00:00:00.000002",
          "2002-12-31T00:00:00.000002",
          "2003-12-31T00:00:00.000002",
          "2004-12-31T00:00:00.000002",
          "2005-12-31T00:00:00.000002",
          "2006-12-31T00:00:00.000002",
          "2007-12-31T00:00:00.000002",
          "2008-12-31T00:00:00.000002",
          "2009-12-31T00:00:00.000002",
          "2010-12-31T00:00:00.000002",
          "2011-12-31T00:00:00.000002",
          "2012-12-31T00:00:00.000002",
          "2013-12-31T00:00:00.000002",
          "2014-12-31T00:00:00.000002",
          "2015-12-31T00:00:00.000002",
          "2016-12-31T00:00:00.000002",
          "2017-12-31T00:00:00.000002",
          "2018-12-31T00:00:00.000002",
          "2019-12-31T00:00:00.000002",
          "2020-12-31T00:00:00.000002",
          "2021-12-31T00:00:00.000002",
          "2022-12-31T00:00:00.000002",
          "2023-12-31T00:00:00.000002",
          "2024-12-31T00:00:00.000002",
          "2025-12-31T00:00:00.000002",
          "2026-12-31T00:00:00.000002",
          "2027-12-31T00:00:00.000002",
          "2028-12-31T00:00:00.000002",
          "2029-12-31T00:00:00.000002",
          "2030-12-31T00:00:00.000002",
          "2031-12-31T00:00:00.000002",
          "2032-12-31T00:00:00.000002",
          "2033-12-31T00:00:00.000002",
          "2034-12-31T00:00:00.000002",
          "2035-12-31T00:00:00.000002",
          "2036-12-31T00:00:00.000002",
          "2037-12-31T00:00:00.000002",
          "2038-12-31T00:00:00.000002",
          "2039-12-31T00:00:00.000002",
          "2040-12-31T00:00:00.000002",
          "2041-12-31T00:00:00.000002",
          "2042-12-31T00:00:00.000002",
          "2043-12-31T00:00:00.000002",
          "2044-12-31T00:00:00.000002",
          "2045-12-31T00:00:00.000002",
          "2046-12-31T00:00:00.000002",
          "2047-12-31T00:00:00.000002",
          "2048-12-31T00:00:00.000002"
         ],
         "y": [
          19493322.865280554,
          19493322.865280554,
          19493322.865280554,
          19493322.865280554,
          19493322.865280554,
          19493322.865280554,
          19493322.865280554,
          19493322.865280554,
          19493322.865280554,
          19493322.865280554,
          19493322.865280554,
          19493322.865280554,
          19493322.865280554,
          19493322.865280554,
          19493322.865280554,
          19493322.865280554,
          19493322.865280554,
          19493322.865280554,
          19493322.865280554,
          19493322.865280554,
          19493322.865280554,
          19493322.865280554,
          19493322.865280554,
          19493322.865280554,
          19493322.865280554,
          19493322.865280554,
          19493322.865280554,
          19493322.865280554,
          19493322.865280554,
          19493322.865280554,
          19493322.865280554,
          19493322.865280554,
          19493322.865280554,
          19493322.865280554,
          19493322.865280557,
          19493322.865280557,
          19493322.865280557,
          19493322.865280557,
          19493322.865280557,
          19493322.865280557,
          19493322.865280557,
          19493322.865280557,
          19493322.865280557,
          19493322.865280557,
          19493322.865280557,
          19493322.865280557,
          19493322.865280557,
          19493322.865280557,
          19493322.865280557,
          19493322.865280557,
          19493322.865280557,
          19493322.865280557,
          19493322.865280557,
          19493322.865280557,
          19493322.865280557,
          19493322.865280557,
          19493322.865280557,
          19493322.865280557,
          19493322.865280557,
          19493322.865280557,
          19493322.865280557,
          19493322.865280557,
          19493322.865280557,
          19493322.865280557,
          19493322.865280557,
          19493322.865280557,
          19493322.865280557,
          19493322.865280557,
          19493322.865280557,
          19493322.865280557,
          19493322.865280557,
          19493322.865280557,
          19937968.778902743,
          20411591.821479306,
          20829891.40132562,
          21165119.614947494,
          21495609.301480867,
          21738598.7931069,
          22072430.25590968,
          22323771.794367626,
          22570374.665460784,
          22872020.272528425,
          23265061.226798616,
          23605990.496990547,
          23942265.000956535,
          24274645.238420013,
          24698342.67063647,
          25039355.703213807,
          25418929.334214747,
          25794727.652357098,
          26294961.95657028,
          26712392.907507665,
          27125023.462859772,
          27533759.581734918,
          28034022.088035464,
          28451391.000965,
          28864021.38680696,
          29296485.75765808,
          29820606.89093908,
          30261769.24456474,
          30698193.071106285,
          31161394.874651372,
          31716356.78193248,
          32188275.643476754,
          32696942.886014774,
          33201829.83707667,
          33808080.90050542,
          34331174.94316311,
          34987014.55586426,
          35639337.60563238,
          36383854.4042793,
          37044810.24763676,
          37701027.56391108,
          38353350.61367723,
          39097867.41231526,
          39758823.25567948,
          40415040.57194976,
          41067363.6217153,
          41811880.42036028,
          42472836.263717994,
          43129053.57998869,
          43781376.629757196,
          44525893.42839756,
          45186849.27176032,
          45843066.58802624,
          46495389.637792245,
          47239906.43644041,
          47900862.27979797,
          48557079.59607078,
          49209402.64583902,
          49953919.44447907,
          50614875.28783695,
          51271092.60410231,
          51923415.65387051,
          52667932.45251268,
          53328888.29587967,
          53985105.61214917,
          54637428.661909625,
          55381945.46056291,
          56042901.3039223,
          56699118.62019181,
          57351441.66995979,
          58095958.46859983,
          58756914.311953776,
          59413131.62822529,
          60065454.67799345,
          60809971.476633616,
          61470927.319992855,
          62127144.63626778,
          62779467.68603256,
          63523984.484674655
         ]
        },
        {
         "mode": "lines",
         "name": "World",
         "type": "scatter",
         "x": [
          "1970-01-01T00:00:00.000001",
          "1970-01-01T00:00:00.000001",
          "1970-01-01T00:00:00.000001",
          "1970-01-01T00:00:00.000001",
          "1970-01-01T00:00:00.000001",
          "1970-01-01T00:00:00.000001",
          "1970-01-01T00:00:00.000001",
          "1970-01-01T00:00:00.000001",
          "1970-01-01T00:00:00.000001",
          "1970-01-01T00:00:00.000001",
          "1970-01-01T00:00:00.000001",
          "1970-01-01T00:00:00.000001",
          "1970-01-01T00:00:00.000001",
          "1970-01-01T00:00:00.000001",
          "1970-01-01T00:00:00.000001",
          "1970-01-01T00:00:00.000001",
          "1970-01-01T00:00:00.000001",
          "1970-01-01T00:00:00.000001",
          "1970-01-01T00:00:00.000001",
          "1970-01-01T00:00:00.000001",
          "1970-01-01T00:00:00.000001",
          "1970-01-01T00:00:00.000001",
          "1970-01-01T00:00:00.000001",
          "1970-01-01T00:00:00.000001",
          "1970-01-01T00:00:00.000001",
          "1970-01-01T00:00:00.000001",
          "1970-01-01T00:00:00.000001",
          "1970-01-01T00:00:00.000001",
          "1970-01-01T00:00:00.000001",
          "1970-01-01T00:00:00.000001",
          "1970-01-01T00:00:00.000001",
          "1970-01-01T00:00:00.000001",
          "1970-01-01T00:00:00.000001",
          "1970-01-01T00:00:00.000001",
          "1970-01-01T00:00:00.000001",
          "1970-01-01T00:00:00.000001",
          "1970-01-01T00:00:00.000001",
          "1970-01-01T00:00:00.000001",
          "1970-01-01T00:00:00.000001",
          "1970-01-01T00:00:00.000001",
          "1970-01-01T00:00:00.000001",
          "1970-01-01T00:00:00.000001",
          "1970-01-01T00:00:00.000001",
          "1970-01-01T00:00:00.000001",
          "1970-01-01T00:00:00.000001",
          "1970-01-01T00:00:00.000001",
          "1970-01-01T00:00:00.000001",
          "1970-01-01T00:00:00.000001",
          "1970-01-01T00:00:00.000001",
          "1970-01-01T00:00:00.000001",
          "1970-01-01T00:00:00.000002",
          "1970-01-01T00:00:00.000002",
          "1970-01-01T00:00:00.000002",
          "1970-01-01T00:00:00.000002",
          "1970-01-01T00:00:00.000002",
          "1970-01-01T00:00:00.000002",
          "1970-01-01T00:00:00.000002",
          "1970-01-01T00:00:00.000002",
          "1970-01-01T00:00:00.000002",
          "1970-01-01T00:00:00.000002",
          "1970-01-01T00:00:00.000002",
          "1970-01-01T00:00:00.000002",
          "1970-01-01T00:00:00.000002",
          "1970-01-01T00:00:00.000002",
          "1970-01-01T00:00:00.000002",
          "1970-01-01T00:00:00.000002",
          "1970-01-01T00:00:00.000002",
          "1970-01-01T00:00:00.000002",
          "1970-01-01T00:00:00.000002",
          "1970-01-01T00:00:00.000002",
          "1970-01-01T00:00:00.000002",
          "1970-01-01T00:00:00.000002",
          "1970-12-31T00:00:00.000002",
          "1971-12-31T00:00:00.000002",
          "1972-12-31T00:00:00.000002",
          "1973-12-31T00:00:00.000002",
          "1974-12-31T00:00:00.000002",
          "1975-12-31T00:00:00.000002",
          "1976-12-31T00:00:00.000002",
          "1977-12-31T00:00:00.000002",
          "1978-12-31T00:00:00.000002",
          "1979-12-31T00:00:00.000002",
          "1980-12-31T00:00:00.000002",
          "1981-12-31T00:00:00.000002",
          "1982-12-31T00:00:00.000002",
          "1983-12-31T00:00:00.000002",
          "1984-12-31T00:00:00.000002",
          "1985-12-31T00:00:00.000002",
          "1986-12-31T00:00:00.000002",
          "1987-12-31T00:00:00.000002",
          "1988-12-31T00:00:00.000002",
          "1989-12-31T00:00:00.000002",
          "1990-12-31T00:00:00.000002",
          "1991-12-31T00:00:00.000002",
          "1992-12-31T00:00:00.000002",
          "1993-12-31T00:00:00.000002",
          "1994-12-31T00:00:00.000002",
          "1995-12-31T00:00:00.000002",
          "1996-12-31T00:00:00.000002",
          "1997-12-31T00:00:00.000002",
          "1998-12-31T00:00:00.000002",
          "1999-12-31T00:00:00.000002",
          "2000-12-31T00:00:00.000002",
          "2001-12-31T00:00:00.000002",
          "2002-12-31T00:00:00.000002",
          "2003-12-31T00:00:00.000002",
          "2004-12-31T00:00:00.000002",
          "2005-12-31T00:00:00.000002",
          "2006-12-31T00:00:00.000002",
          "2007-12-31T00:00:00.000002",
          "2008-12-31T00:00:00.000002",
          "2009-12-31T00:00:00.000002",
          "2010-12-31T00:00:00.000002",
          "2011-12-31T00:00:00.000002",
          "2012-12-31T00:00:00.000002",
          "2013-12-31T00:00:00.000002",
          "2014-12-31T00:00:00.000002",
          "2015-12-31T00:00:00.000002",
          "2016-12-31T00:00:00.000002",
          "2017-12-31T00:00:00.000002",
          "2018-12-31T00:00:00.000002",
          "2019-12-31T00:00:00.000002",
          "2020-12-31T00:00:00.000002",
          "2021-12-31T00:00:00.000002",
          "2022-12-31T00:00:00.000002",
          "2023-12-31T00:00:00.000002",
          "2024-12-31T00:00:00.000002",
          "2025-12-31T00:00:00.000002",
          "2026-12-31T00:00:00.000002",
          "2027-12-31T00:00:00.000002",
          "2028-12-31T00:00:00.000002",
          "2029-12-31T00:00:00.000002",
          "2030-12-31T00:00:00.000002",
          "2031-12-31T00:00:00.000002",
          "2032-12-31T00:00:00.000002",
          "2033-12-31T00:00:00.000002",
          "2034-12-31T00:00:00.000002",
          "2035-12-31T00:00:00.000002",
          "2036-12-31T00:00:00.000002",
          "2037-12-31T00:00:00.000002",
          "2038-12-31T00:00:00.000002",
          "2039-12-31T00:00:00.000002",
          "2040-12-31T00:00:00.000002",
          "2041-12-31T00:00:00.000002",
          "2042-12-31T00:00:00.000002",
          "2043-12-31T00:00:00.000002",
          "2044-12-31T00:00:00.000002",
          "2045-12-31T00:00:00.000002",
          "2046-12-31T00:00:00.000002",
          "2047-12-31T00:00:00.000002",
          "2048-12-31T00:00:00.000002"
         ],
         "y": [
          3696458829.022431,
          3696458829.022431,
          3696458829.022431,
          3696458829.022431,
          3696458829.022431,
          3696458829.022431,
          3696458829.022431,
          3696458829.022431,
          3696458829.022431,
          3696458829.022431,
          3696458829.022431,
          3696458829.022431,
          3696458829.022431,
          3696458829.022431,
          3696458829.022431,
          3696458829.022431,
          3696458829.022431,
          3696458829.022431,
          3696458829.022431,
          3696458829.022431,
          3696458829.022431,
          3696458829.022431,
          3696458829.022431,
          3696458829.022431,
          3696458829.022431,
          3696458829.022431,
          3696458829.022431,
          3696458829.022431,
          3696458829.022431,
          3696458829.022431,
          3696458829.022431,
          3696458829.022431,
          3696458829.022431,
          3696458829.022431,
          3696458829.0224314,
          3696458829.0224314,
          3696458829.0224314,
          3696458829.0224314,
          3696458829.0224314,
          3696458829.0224314,
          3696458829.0224314,
          3696458829.0224314,
          3696458829.0224314,
          3696458829.0224314,
          3696458829.0224314,
          3696458829.0224314,
          3696458829.0224314,
          3696458829.0224314,
          3696458829.0224314,
          3696458829.0224314,
          3696458829.0224314,
          3696458829.0224314,
          3696458829.0224314,
          3696458829.0224314,
          3696458829.0224314,
          3696458829.0224314,
          3696458829.0224314,
          3696458829.0224314,
          3696458829.0224314,
          3696458829.0224314,
          3696458829.0224314,
          3696458829.0224314,
          3696458829.0224314,
          3696458829.0224314,
          3696458829.0224314,
          3696458829.0224314,
          3696458829.0224314,
          3696458829.0224314,
          3696458829.0224314,
          3696458829.0224314,
          3696458829.0224314,
          3696458829.0224314,
          3767567524.4256706,
          3842405032.768532,
          3918142032.4353027,
          3991482458.9317675,
          4065336030.350104,
          4139926295.727136,
          4215414694.9369264,
          4288507202.7677917,
          4362112855.526836,
          4442342833.718069,
          4523502616.136664,
          4605942764.300825,
          4688906199.57049,
          4772853570.77988,
          4861517059.686021,
          4947759016.891159,
          5038558539.4737015,
          5130353109.042414,
          5223093628.54315,
          5313391117.174386,
          5400730473.664188,
          5489044229.614797,
          5578294399.102491,
          5658809383.340076,
          5739820200.161772,
          5821737458.502455,
          5904573392.246319,
          5984790894.346156,
          6065520985.152106,
          6147235319.260942,
          6229867987.140113,
          6310085241.233405,
          6390953341.421234,
          6472805755.851098,
          6558558720.036381,
          6641895892.129,
          6727285915.164501,
          6813664104.104647,
          6900973403.657925,
          6985854511.735575,
          7071248764.738071,
          7157626953.677049,
          7244936253.225311,
          7329817361.306818,
          7415211614.307066,
          7501589803.245819,
          7588899102.797964,
          7673780210.875741,
          7759174463.876236,
          7845552652.816528,
          7932861952.366198,
          8017743060.446804,
          8103137313.444542,
          8189515502.383493,
          8276824801.937497,
          8361705910.015223,
          8447100163.016901,
          8533478351.957048,
          8620787651.506489,
          8705668759.584476,
          8791063012.581749,
          8877441201.522114,
          8964750501.072638,
          9049631609.155716,
          9135025862.155684,
          9221404051.09129,
          9308713350.648182,
          9393594458.726875,
          9478988711.726824,
          9565366900.6667,
          9652676200.216156,
          9737557308.291857,
          9822951561.292719,
          9909329750.233072,
          9996639049.782436,
          10081520157.86103,
          10166914410.863903,
          10253292599.802248,
          10340601899.352718
         ]
        }
       ],
       "layout": {
        "legend": {
         "title": {
          "text": "Continent"
         }
        },
        "template": {
         "data": {
          "bar": [
           {
            "error_x": {
             "color": "#2a3f5f"
            },
            "error_y": {
             "color": "#2a3f5f"
            },
            "marker": {
             "line": {
              "color": "#E5ECF6",
              "width": 0.5
             },
             "pattern": {
              "fillmode": "overlay",
              "size": 10,
              "solidity": 0.2
             }
            },
            "type": "bar"
           }
          ],
          "barpolar": [
           {
            "marker": {
             "line": {
              "color": "#E5ECF6",
              "width": 0.5
             },
             "pattern": {
              "fillmode": "overlay",
              "size": 10,
              "solidity": 0.2
             }
            },
            "type": "barpolar"
           }
          ],
          "carpet": [
           {
            "aaxis": {
             "endlinecolor": "#2a3f5f",
             "gridcolor": "white",
             "linecolor": "white",
             "minorgridcolor": "white",
             "startlinecolor": "#2a3f5f"
            },
            "baxis": {
             "endlinecolor": "#2a3f5f",
             "gridcolor": "white",
             "linecolor": "white",
             "minorgridcolor": "white",
             "startlinecolor": "#2a3f5f"
            },
            "type": "carpet"
           }
          ],
          "choropleth": [
           {
            "colorbar": {
             "outlinewidth": 0,
             "ticks": ""
            },
            "type": "choropleth"
           }
          ],
          "contour": [
           {
            "colorbar": {
             "outlinewidth": 0,
             "ticks": ""
            },
            "colorscale": [
             [
              0,
              "#0d0887"
             ],
             [
              0.1111111111111111,
              "#46039f"
             ],
             [
              0.2222222222222222,
              "#7201a8"
             ],
             [
              0.3333333333333333,
              "#9c179e"
             ],
             [
              0.4444444444444444,
              "#bd3786"
             ],
             [
              0.5555555555555556,
              "#d8576b"
             ],
             [
              0.6666666666666666,
              "#ed7953"
             ],
             [
              0.7777777777777778,
              "#fb9f3a"
             ],
             [
              0.8888888888888888,
              "#fdca26"
             ],
             [
              1,
              "#f0f921"
             ]
            ],
            "type": "contour"
           }
          ],
          "contourcarpet": [
           {
            "colorbar": {
             "outlinewidth": 0,
             "ticks": ""
            },
            "type": "contourcarpet"
           }
          ],
          "heatmap": [
           {
            "colorbar": {
             "outlinewidth": 0,
             "ticks": ""
            },
            "colorscale": [
             [
              0,
              "#0d0887"
             ],
             [
              0.1111111111111111,
              "#46039f"
             ],
             [
              0.2222222222222222,
              "#7201a8"
             ],
             [
              0.3333333333333333,
              "#9c179e"
             ],
             [
              0.4444444444444444,
              "#bd3786"
             ],
             [
              0.5555555555555556,
              "#d8576b"
             ],
             [
              0.6666666666666666,
              "#ed7953"
             ],
             [
              0.7777777777777778,
              "#fb9f3a"
             ],
             [
              0.8888888888888888,
              "#fdca26"
             ],
             [
              1,
              "#f0f921"
             ]
            ],
            "type": "heatmap"
           }
          ],
          "heatmapgl": [
           {
            "colorbar": {
             "outlinewidth": 0,
             "ticks": ""
            },
            "colorscale": [
             [
              0,
              "#0d0887"
             ],
             [
              0.1111111111111111,
              "#46039f"
             ],
             [
              0.2222222222222222,
              "#7201a8"
             ],
             [
              0.3333333333333333,
              "#9c179e"
             ],
             [
              0.4444444444444444,
              "#bd3786"
             ],
             [
              0.5555555555555556,
              "#d8576b"
             ],
             [
              0.6666666666666666,
              "#ed7953"
             ],
             [
              0.7777777777777778,
              "#fb9f3a"
             ],
             [
              0.8888888888888888,
              "#fdca26"
             ],
             [
              1,
              "#f0f921"
             ]
            ],
            "type": "heatmapgl"
           }
          ],
          "histogram": [
           {
            "marker": {
             "pattern": {
              "fillmode": "overlay",
              "size": 10,
              "solidity": 0.2
             }
            },
            "type": "histogram"
           }
          ],
          "histogram2d": [
           {
            "colorbar": {
             "outlinewidth": 0,
             "ticks": ""
            },
            "colorscale": [
             [
              0,
              "#0d0887"
             ],
             [
              0.1111111111111111,
              "#46039f"
             ],
             [
              0.2222222222222222,
              "#7201a8"
             ],
             [
              0.3333333333333333,
              "#9c179e"
             ],
             [
              0.4444444444444444,
              "#bd3786"
             ],
             [
              0.5555555555555556,
              "#d8576b"
             ],
             [
              0.6666666666666666,
              "#ed7953"
             ],
             [
              0.7777777777777778,
              "#fb9f3a"
             ],
             [
              0.8888888888888888,
              "#fdca26"
             ],
             [
              1,
              "#f0f921"
             ]
            ],
            "type": "histogram2d"
           }
          ],
          "histogram2dcontour": [
           {
            "colorbar": {
             "outlinewidth": 0,
             "ticks": ""
            },
            "colorscale": [
             [
              0,
              "#0d0887"
             ],
             [
              0.1111111111111111,
              "#46039f"
             ],
             [
              0.2222222222222222,
              "#7201a8"
             ],
             [
              0.3333333333333333,
              "#9c179e"
             ],
             [
              0.4444444444444444,
              "#bd3786"
             ],
             [
              0.5555555555555556,
              "#d8576b"
             ],
             [
              0.6666666666666666,
              "#ed7953"
             ],
             [
              0.7777777777777778,
              "#fb9f3a"
             ],
             [
              0.8888888888888888,
              "#fdca26"
             ],
             [
              1,
              "#f0f921"
             ]
            ],
            "type": "histogram2dcontour"
           }
          ],
          "mesh3d": [
           {
            "colorbar": {
             "outlinewidth": 0,
             "ticks": ""
            },
            "type": "mesh3d"
           }
          ],
          "parcoords": [
           {
            "line": {
             "colorbar": {
              "outlinewidth": 0,
              "ticks": ""
             }
            },
            "type": "parcoords"
           }
          ],
          "pie": [
           {
            "automargin": true,
            "type": "pie"
           }
          ],
          "scatter": [
           {
            "fillpattern": {
             "fillmode": "overlay",
             "size": 10,
             "solidity": 0.2
            },
            "type": "scatter"
           }
          ],
          "scatter3d": [
           {
            "line": {
             "colorbar": {
              "outlinewidth": 0,
              "ticks": ""
             }
            },
            "marker": {
             "colorbar": {
              "outlinewidth": 0,
              "ticks": ""
             }
            },
            "type": "scatter3d"
           }
          ],
          "scattercarpet": [
           {
            "marker": {
             "colorbar": {
              "outlinewidth": 0,
              "ticks": ""
             }
            },
            "type": "scattercarpet"
           }
          ],
          "scattergeo": [
           {
            "marker": {
             "colorbar": {
              "outlinewidth": 0,
              "ticks": ""
             }
            },
            "type": "scattergeo"
           }
          ],
          "scattergl": [
           {
            "marker": {
             "colorbar": {
              "outlinewidth": 0,
              "ticks": ""
             }
            },
            "type": "scattergl"
           }
          ],
          "scattermapbox": [
           {
            "marker": {
             "colorbar": {
              "outlinewidth": 0,
              "ticks": ""
             }
            },
            "type": "scattermapbox"
           }
          ],
          "scatterpolar": [
           {
            "marker": {
             "colorbar": {
              "outlinewidth": 0,
              "ticks": ""
             }
            },
            "type": "scatterpolar"
           }
          ],
          "scatterpolargl": [
           {
            "marker": {
             "colorbar": {
              "outlinewidth": 0,
              "ticks": ""
             }
            },
            "type": "scatterpolargl"
           }
          ],
          "scatterternary": [
           {
            "marker": {
             "colorbar": {
              "outlinewidth": 0,
              "ticks": ""
             }
            },
            "type": "scatterternary"
           }
          ],
          "surface": [
           {
            "colorbar": {
             "outlinewidth": 0,
             "ticks": ""
            },
            "colorscale": [
             [
              0,
              "#0d0887"
             ],
             [
              0.1111111111111111,
              "#46039f"
             ],
             [
              0.2222222222222222,
              "#7201a8"
             ],
             [
              0.3333333333333333,
              "#9c179e"
             ],
             [
              0.4444444444444444,
              "#bd3786"
             ],
             [
              0.5555555555555556,
              "#d8576b"
             ],
             [
              0.6666666666666666,
              "#ed7953"
             ],
             [
              0.7777777777777778,
              "#fb9f3a"
             ],
             [
              0.8888888888888888,
              "#fdca26"
             ],
             [
              1,
              "#f0f921"
             ]
            ],
            "type": "surface"
           }
          ],
          "table": [
           {
            "cells": {
             "fill": {
              "color": "#EBF0F8"
             },
             "line": {
              "color": "white"
             }
            },
            "header": {
             "fill": {
              "color": "#C8D4E3"
             },
             "line": {
              "color": "white"
             }
            },
            "type": "table"
           }
          ]
         },
         "layout": {
          "annotationdefaults": {
           "arrowcolor": "#2a3f5f",
           "arrowhead": 0,
           "arrowwidth": 1
          },
          "autotypenumbers": "strict",
          "coloraxis": {
           "colorbar": {
            "outlinewidth": 0,
            "ticks": ""
           }
          },
          "colorscale": {
           "diverging": [
            [
             0,
             "#8e0152"
            ],
            [
             0.1,
             "#c51b7d"
            ],
            [
             0.2,
             "#de77ae"
            ],
            [
             0.3,
             "#f1b6da"
            ],
            [
             0.4,
             "#fde0ef"
            ],
            [
             0.5,
             "#f7f7f7"
            ],
            [
             0.6,
             "#e6f5d0"
            ],
            [
             0.7,
             "#b8e186"
            ],
            [
             0.8,
             "#7fbc41"
            ],
            [
             0.9,
             "#4d9221"
            ],
            [
             1,
             "#276419"
            ]
           ],
           "sequential": [
            [
             0,
             "#0d0887"
            ],
            [
             0.1111111111111111,
             "#46039f"
            ],
            [
             0.2222222222222222,
             "#7201a8"
            ],
            [
             0.3333333333333333,
             "#9c179e"
            ],
            [
             0.4444444444444444,
             "#bd3786"
            ],
            [
             0.5555555555555556,
             "#d8576b"
            ],
            [
             0.6666666666666666,
             "#ed7953"
            ],
            [
             0.7777777777777778,
             "#fb9f3a"
            ],
            [
             0.8888888888888888,
             "#fdca26"
            ],
            [
             1,
             "#f0f921"
            ]
           ],
           "sequentialminus": [
            [
             0,
             "#0d0887"
            ],
            [
             0.1111111111111111,
             "#46039f"
            ],
            [
             0.2222222222222222,
             "#7201a8"
            ],
            [
             0.3333333333333333,
             "#9c179e"
            ],
            [
             0.4444444444444444,
             "#bd3786"
            ],
            [
             0.5555555555555556,
             "#d8576b"
            ],
            [
             0.6666666666666666,
             "#ed7953"
            ],
            [
             0.7777777777777778,
             "#fb9f3a"
            ],
            [
             0.8888888888888888,
             "#fdca26"
            ],
            [
             1,
             "#f0f921"
            ]
           ]
          },
          "colorway": [
           "#636efa",
           "#EF553B",
           "#00cc96",
           "#ab63fa",
           "#FFA15A",
           "#19d3f3",
           "#FF6692",
           "#B6E880",
           "#FF97FF",
           "#FECB52"
          ],
          "font": {
           "color": "#2a3f5f"
          },
          "geo": {
           "bgcolor": "white",
           "lakecolor": "white",
           "landcolor": "#E5ECF6",
           "showlakes": true,
           "showland": true,
           "subunitcolor": "white"
          },
          "hoverlabel": {
           "align": "left"
          },
          "hovermode": "closest",
          "mapbox": {
           "style": "light"
          },
          "paper_bgcolor": "white",
          "plot_bgcolor": "#E5ECF6",
          "polar": {
           "angularaxis": {
            "gridcolor": "white",
            "linecolor": "white",
            "ticks": ""
           },
           "bgcolor": "#E5ECF6",
           "radialaxis": {
            "gridcolor": "white",
            "linecolor": "white",
            "ticks": ""
           }
          },
          "scene": {
           "xaxis": {
            "backgroundcolor": "#E5ECF6",
            "gridcolor": "white",
            "gridwidth": 2,
            "linecolor": "white",
            "showbackground": true,
            "ticks": "",
            "zerolinecolor": "white"
           },
           "yaxis": {
            "backgroundcolor": "#E5ECF6",
            "gridcolor": "white",
            "gridwidth": 2,
            "linecolor": "white",
            "showbackground": true,
            "ticks": "",
            "zerolinecolor": "white"
           },
           "zaxis": {
            "backgroundcolor": "#E5ECF6",
            "gridcolor": "white",
            "gridwidth": 2,
            "linecolor": "white",
            "showbackground": true,
            "ticks": "",
            "zerolinecolor": "white"
           }
          },
          "shapedefaults": {
           "line": {
            "color": "#2a3f5f"
           }
          },
          "ternary": {
           "aaxis": {
            "gridcolor": "white",
            "linecolor": "white",
            "ticks": ""
           },
           "baxis": {
            "gridcolor": "white",
            "linecolor": "white",
            "ticks": ""
           },
           "bgcolor": "#E5ECF6",
           "caxis": {
            "gridcolor": "white",
            "linecolor": "white",
            "ticks": ""
           }
          },
          "title": {
           "x": 0.05
          },
          "xaxis": {
           "automargin": true,
           "gridcolor": "white",
           "linecolor": "white",
           "ticks": "",
           "title": {
            "standoff": 15
           },
           "zerolinecolor": "white",
           "zerolinewidth": 2
          },
          "yaxis": {
           "automargin": true,
           "gridcolor": "white",
           "linecolor": "white",
           "ticks": "",
           "title": {
            "standoff": 15
           },
           "zerolinecolor": "white",
           "zerolinewidth": 2
          }
         }
        },
        "title": {
         "text": "Population Forecast until 2050"
        },
        "xaxis": {
         "title": {
          "text": "Year"
         }
        },
        "yaxis": {
         "title": {
          "text": "Population"
         }
        }
       }
      }
     },
     "metadata": {},
     "output_type": "display_data"
    }
   ],
   "source": [
    "# Prepare DataFrame for Prophet\n",
    "pop_prophet = filtered_pop.rename(columns={'Year': 'ds', 'Population': 'y'})\n",
    "\n",
    "# Define a function to create forecasts for each continent\n",
    "def create_forecast(continent):\n",
    "    # Filter data for the continent\n",
    "    continent_data = pop_prophet[pop_prophet['Continents and World'] == continent]\n",
    "    \n",
    "    # Initialize Prophet model\n",
    "    model = Prophet()\n",
    "    \n",
    "    # Fit the model\n",
    "    model.fit(continent_data)\n",
    "    \n",
    "    # Make future DataFrame\n",
    "    future = model.make_future_dataframe(periods=2100-2021, freq='Y')  # Forecast until 2100\n",
    "    \n",
    "    # Make forecast\n",
    "    forecast = model.predict(future)\n",
    "    \n",
    "    return forecast\n",
    "# Create forecasts for each continent\n",
    "forecasts = {}\n",
    "for continent in filtered_pop['Continents and World'].unique():\n",
    "    forecasts[continent] = create_forecast(continent)\n",
    "\n",
    "# Plot the forecasts\n",
    "fig = go.Figure()\n",
    "for continent, forecast in forecasts.items():\n",
    "    fig.add_trace(go.Scatter(x=forecast['ds'], y=forecast['yhat'], mode='lines', name=continent))\n",
    "\n",
    "fig.update_layout(title='Population Forecast until 2050',\n",
    "                  xaxis_title='Year',\n",
    "                  yaxis_title='Population',\n",
    "                  legend_title='Continent')\n",
    "\n",
    "fig.show()"
   ]
  },
  {
   "cell_type": "markdown",
   "metadata": {},
   "source": [
    "# Merge data sets"
   ]
  },
  {
   "cell_type": "markdown",
   "metadata": {},
   "source": [
    "Now you create combinations of your loaded data sets. Remember the illustration of a (inner) **merge**:"
   ]
  },
  {
   "cell_type": "code",
   "execution_count": 202,
   "metadata": {},
   "outputs": [
    {
     "ename": "NameError",
     "evalue": "name 'venn2' is not defined",
     "output_type": "error",
     "traceback": [
      "\u001b[0;31m---------------------------------------------------------------------------\u001b[0m",
      "\u001b[0;31mNameError\u001b[0m                                 Traceback (most recent call last)",
      "Cell \u001b[0;32mIn[202], line 2\u001b[0m\n\u001b[1;32m      1\u001b[0m plt\u001b[38;5;241m.\u001b[39mfigure(figsize\u001b[38;5;241m=\u001b[39m(\u001b[38;5;241m15\u001b[39m,\u001b[38;5;241m7\u001b[39m))\n\u001b[0;32m----> 2\u001b[0m v \u001b[38;5;241m=\u001b[39m venn2(subsets \u001b[38;5;241m=\u001b[39m (\u001b[38;5;241m4\u001b[39m, \u001b[38;5;241m4\u001b[39m, \u001b[38;5;241m10\u001b[39m), set_labels \u001b[38;5;241m=\u001b[39m (\u001b[38;5;124m'\u001b[39m\u001b[38;5;124mData X\u001b[39m\u001b[38;5;124m'\u001b[39m, \u001b[38;5;124m'\u001b[39m\u001b[38;5;124mData Y\u001b[39m\u001b[38;5;124m'\u001b[39m))\n\u001b[1;32m      3\u001b[0m v\u001b[38;5;241m.\u001b[39mget_label_by_id(\u001b[38;5;124m'\u001b[39m\u001b[38;5;124m100\u001b[39m\u001b[38;5;124m'\u001b[39m)\u001b[38;5;241m.\u001b[39mset_text(\u001b[38;5;124m'\u001b[39m\u001b[38;5;124mdropped\u001b[39m\u001b[38;5;124m'\u001b[39m)\n\u001b[1;32m      4\u001b[0m v\u001b[38;5;241m.\u001b[39mget_label_by_id(\u001b[38;5;124m'\u001b[39m\u001b[38;5;124m010\u001b[39m\u001b[38;5;124m'\u001b[39m)\u001b[38;5;241m.\u001b[39mset_text(\u001b[38;5;124m'\u001b[39m\u001b[38;5;124mdropped\u001b[39m\u001b[38;5;124m'\u001b[39m )\n",
      "\u001b[0;31mNameError\u001b[0m: name 'venn2' is not defined"
     ]
    },
    {
     "data": {
      "text/plain": [
       "<Figure size 1500x700 with 0 Axes>"
      ]
     },
     "metadata": {},
     "output_type": "display_data"
    }
   ],
   "source": [
    "plt.figure(figsize=(15,7))\n",
    "v = venn2(subsets = (4, 4, 10), set_labels = ('Data X', 'Data Y'))\n",
    "v.get_label_by_id('100').set_text('dropped')\n",
    "v.get_label_by_id('010').set_text('dropped' )\n",
    "v.get_label_by_id('110').set_text('included')\n",
    "plt.show()"
   ]
  },
  {
   "cell_type": "markdown",
   "metadata": {},
   "source": [
    "Here we are dropping elements from both data set X and data set Y. A left join would keep all observations in data X intact and subset only from Y. \n",
    "\n",
    "Make sure that your resulting data sets have the correct number of rows and columns. That is, be clear about which observations are thrown away. \n",
    "\n",
    "**Note:** Don't make Venn diagrams in your own data project. It is just for exposition. "
   ]
  },
  {
   "cell_type": "markdown",
   "metadata": {},
   "source": [
    "# Analysis"
   ]
  },
  {
   "cell_type": "markdown",
   "metadata": {},
   "source": [
    "To get a quick overview of the data, we show some **summary statistics** on a meaningful aggregation. "
   ]
  },
  {
   "cell_type": "markdown",
   "metadata": {},
   "source": [
    "MAKE FURTHER ANALYSIS. EXPLAIN THE CODE BRIEFLY AND SUMMARIZE THE RESULTS."
   ]
  },
  {
   "cell_type": "markdown",
   "metadata": {},
   "source": [
    "# Conclusion"
   ]
  },
  {
   "cell_type": "markdown",
   "metadata": {},
   "source": [
    "ADD CONCISE CONLUSION."
   ]
  }
 ],
 "metadata": {
  "kernelspec": {
   "display_name": "base",
   "language": "python",
   "name": "python3"
  },
  "language_info": {
   "codemirror_mode": {
    "name": "ipython",
    "version": 3
   },
   "file_extension": ".py",
   "mimetype": "text/x-python",
   "name": "python",
   "nbconvert_exporter": "python",
   "pygments_lexer": "ipython3",
   "version": "3.11.7"
  },
  "toc-autonumbering": true,
  "vscode": {
   "interpreter": {
    "hash": "47ef90cdf3004d3f859f1fb202523c65c07ba7c22eefd261b181f4744e2d0403"
   }
  }
 },
 "nbformat": 4,
 "nbformat_minor": 4
}
