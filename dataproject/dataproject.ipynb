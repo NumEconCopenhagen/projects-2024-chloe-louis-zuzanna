{
 "cells": [
  {
   "cell_type": "markdown",
   "metadata": {},
   "source": [
    "# The change in population around the world between 1950 and 2021"
   ]
  },
  {
   "cell_type": "markdown",
   "metadata": {},
   "source": [
    "***The goal of our project is to analyse the change in population in the World across time. In the project, we are taking a close look into the similarities and differences in population between continents. Moreover, by deviding the population into 15 different age groups, we are able to analyze the age distribution in different continents. Lastly, the following projects presents the forecast of the population growth based on the data.***"
   ]
  },
  {
   "cell_type": "markdown",
   "metadata": {},
   "source": [
    "In order for the code to run we are importing and setting magics:"
   ]
  },
  {
   "cell_type": "code",
   "execution_count": 17,
   "metadata": {},
   "outputs": [],
   "source": [
    "import pandas as pd\n",
    "import numpy as np\n",
    "import matplotlib.pyplot as plt\n",
    "import ipywidgets as widgets\n",
    "from ipywidgets import VBox\n",
    "import plotly.express as px\n",
    "import plotly.graph_objects as go\n",
    "from IPython.display import display\n",
    "from prophet import Prophet\n",
    "from IPython.display import clear_output"
   ]
  },
  {
   "cell_type": "markdown",
   "metadata": {},
   "source": [
    "# Read and clean data"
   ]
  },
  {
   "cell_type": "markdown",
   "metadata": {},
   "source": [
    "We imported data on the population of the world between 1950 and 2021 from Our World in Data. We decided to clean the data such that the final data set contains information on the aggregated population in the continents and the world as a total. The columns of the data set are name of the continent, year, total population of each continent and and world, and the population of different groups. \n",
    "\n",
    "The age groups are as follows: Population of children under the age of 1, Population aged 1 to 4 years, Population aged 5 to 9 years, Population aged 10 to 14 years, Population aged 15 to 19 years, Population aged 20 to 29 years, Population aged 30 to 39 years, Population aged 40 to 49 years, Population aged 50 to 59 years, Population aged 60 to 69 years, Population aged 70 to 79 years, Population aged 80 to 89 years, Population aged 90 to 99 years and Population older than 100 years.\n",
    "\n",
    "Source: https://ourworldindata.org/explorers/population-and-demography?time=earliest..2021&facet=none&pickerSort=asc&hideControls=false&Metric=Population&Sex=Male&Age+group=Total&Projection+Scenario=None&country=Europe+%28UN%29~Asia+%28UN%29~Africa+%28UN%29~Latin+America+and+the+Caribbean+%28UN%29~Oceania+%28UN%29~Northern+America+%28UN%29~OWID_WRL"
   ]
  },
  {
   "cell_type": "markdown",
   "metadata": {},
   "source": [
    "Global data"
   ]
  },
  {
   "cell_type": "code",
   "execution_count": 18,
   "metadata": {},
   "outputs": [
    {
     "data": {
      "text/html": [
       "<div>\n",
       "<style scoped>\n",
       "    .dataframe tbody tr th:only-of-type {\n",
       "        vertical-align: middle;\n",
       "    }\n",
       "\n",
       "    .dataframe tbody tr th {\n",
       "        vertical-align: top;\n",
       "    }\n",
       "\n",
       "    .dataframe thead th {\n",
       "        text-align: right;\n",
       "    }\n",
       "</style>\n",
       "<table border=\"1\" class=\"dataframe\">\n",
       "  <thead>\n",
       "    <tr style=\"text-align: right;\">\n",
       "      <th></th>\n",
       "      <th>Continents and World</th>\n",
       "      <th>Year</th>\n",
       "      <th>Population</th>\n",
       "      <th>Population of children under the age of 1</th>\n",
       "      <th>Population aged 1 to 4 years</th>\n",
       "      <th>Population aged 5 to 9 years</th>\n",
       "      <th>Population aged 10 to 14 years</th>\n",
       "      <th>Population aged 15 to 19 years</th>\n",
       "      <th>Population aged 20 to 29 years</th>\n",
       "      <th>Population aged 30 to 39 years</th>\n",
       "      <th>Population aged 40 to 49 years</th>\n",
       "      <th>Population aged 50 to 59 years</th>\n",
       "      <th>Population aged 60 to 69 years</th>\n",
       "      <th>Population aged 70 to 79 years</th>\n",
       "      <th>Population aged 80 to 89 years</th>\n",
       "      <th>Population aged 90 to 99 years</th>\n",
       "      <th>Population older than 100 years</th>\n",
       "    </tr>\n",
       "  </thead>\n",
       "  <tbody>\n",
       "    <tr>\n",
       "      <th>1</th>\n",
       "      <td>Africa (UN)</td>\n",
       "      <td>1950</td>\n",
       "      <td>227549260</td>\n",
       "      <td>9393661.0</td>\n",
       "      <td>29672912.0</td>\n",
       "      <td>29653958</td>\n",
       "      <td>25792740</td>\n",
       "      <td>23087212</td>\n",
       "      <td>37677212</td>\n",
       "      <td>27422540</td>\n",
       "      <td>19586988</td>\n",
       "      <td>13178286</td>\n",
       "      <td>7893063</td>\n",
       "      <td>3445317</td>\n",
       "      <td>700903</td>\n",
       "      <td>43862</td>\n",
       "      <td>615.0</td>\n",
       "    </tr>\n",
       "    <tr>\n",
       "      <th>2</th>\n",
       "      <td>Africa (UN)</td>\n",
       "      <td>1951</td>\n",
       "      <td>232484000</td>\n",
       "      <td>9684508.0</td>\n",
       "      <td>30318004.0</td>\n",
       "      <td>30523140</td>\n",
       "      <td>26205760</td>\n",
       "      <td>23471334</td>\n",
       "      <td>38505124</td>\n",
       "      <td>28050804</td>\n",
       "      <td>19993920</td>\n",
       "      <td>13463632</td>\n",
       "      <td>8015908</td>\n",
       "      <td>3499692</td>\n",
       "      <td>709683</td>\n",
       "      <td>41884</td>\n",
       "      <td>602.0</td>\n",
       "    </tr>\n",
       "    <tr>\n",
       "      <th>3</th>\n",
       "      <td>Africa (UN)</td>\n",
       "      <td>1952</td>\n",
       "      <td>237586060</td>\n",
       "      <td>9921448.0</td>\n",
       "      <td>31046300.0</td>\n",
       "      <td>31460048</td>\n",
       "      <td>26651612</td>\n",
       "      <td>23855340</td>\n",
       "      <td>39329870</td>\n",
       "      <td>28694808</td>\n",
       "      <td>20406358</td>\n",
       "      <td>13754924</td>\n",
       "      <td>8147429</td>\n",
       "      <td>3558314</td>\n",
       "      <td>718430</td>\n",
       "      <td>40599</td>\n",
       "      <td>582.0</td>\n",
       "    </tr>\n",
       "    <tr>\n",
       "      <th>4</th>\n",
       "      <td>Africa (UN)</td>\n",
       "      <td>1953</td>\n",
       "      <td>242837440</td>\n",
       "      <td>10167668.0</td>\n",
       "      <td>31877272.0</td>\n",
       "      <td>32368278</td>\n",
       "      <td>27171188</td>\n",
       "      <td>24225864</td>\n",
       "      <td>40120050</td>\n",
       "      <td>29340532</td>\n",
       "      <td>20827816</td>\n",
       "      <td>14056554</td>\n",
       "      <td>8291982</td>\n",
       "      <td>3621039</td>\n",
       "      <td>728561</td>\n",
       "      <td>40087</td>\n",
       "      <td>557.0</td>\n",
       "    </tr>\n",
       "    <tr>\n",
       "      <th>5</th>\n",
       "      <td>Africa (UN)</td>\n",
       "      <td>1954</td>\n",
       "      <td>248244770</td>\n",
       "      <td>10409928.0</td>\n",
       "      <td>32848608.0</td>\n",
       "      <td>33192114</td>\n",
       "      <td>27802460</td>\n",
       "      <td>24585024</td>\n",
       "      <td>40875776</td>\n",
       "      <td>29989164</td>\n",
       "      <td>21257012</td>\n",
       "      <td>14365597</td>\n",
       "      <td>8451841</td>\n",
       "      <td>3685246</td>\n",
       "      <td>741198</td>\n",
       "      <td>40304</td>\n",
       "      <td>499.0</td>\n",
       "    </tr>\n",
       "    <tr>\n",
       "      <th>...</th>\n",
       "      <td>...</td>\n",
       "      <td>...</td>\n",
       "      <td>...</td>\n",
       "      <td>...</td>\n",
       "      <td>...</td>\n",
       "      <td>...</td>\n",
       "      <td>...</td>\n",
       "      <td>...</td>\n",
       "      <td>...</td>\n",
       "      <td>...</td>\n",
       "      <td>...</td>\n",
       "      <td>...</td>\n",
       "      <td>...</td>\n",
       "      <td>...</td>\n",
       "      <td>...</td>\n",
       "      <td>...</td>\n",
       "      <td>...</td>\n",
       "    </tr>\n",
       "    <tr>\n",
       "      <th>500</th>\n",
       "      <td>World</td>\n",
       "      <td>2017</td>\n",
       "      <td>7599822300</td>\n",
       "      <td>139420590.0</td>\n",
       "      <td>550940160.0</td>\n",
       "      <td>668653200</td>\n",
       "      <td>631596500</td>\n",
       "      <td>607785800</td>\n",
       "      <td>1207877900</td>\n",
       "      <td>1092995100</td>\n",
       "      <td>953971900</td>\n",
       "      <td>772621950</td>\n",
       "      <td>549785660</td>\n",
       "      <td>285532670</td>\n",
       "      <td>119566930</td>\n",
       "      <td>18615136</td>\n",
       "      <td>459150.0</td>\n",
       "    </tr>\n",
       "    <tr>\n",
       "      <th>501</th>\n",
       "      <td>World</td>\n",
       "      <td>2018</td>\n",
       "      <td>7683790000</td>\n",
       "      <td>137690030.0</td>\n",
       "      <td>550970400.0</td>\n",
       "      <td>674324740</td>\n",
       "      <td>638451460</td>\n",
       "      <td>611398340</td>\n",
       "      <td>1204281300</td>\n",
       "      <td>1114043900</td>\n",
       "      <td>958684500</td>\n",
       "      <td>788847800</td>\n",
       "      <td>566538940</td>\n",
       "      <td>295304100</td>\n",
       "      <td>123199544</td>\n",
       "      <td>19578904</td>\n",
       "      <td>475921.0</td>\n",
       "    </tr>\n",
       "    <tr>\n",
       "      <th>502</th>\n",
       "      <td>World</td>\n",
       "      <td>2019</td>\n",
       "      <td>7764951000</td>\n",
       "      <td>135471330.0</td>\n",
       "      <td>549401300.0</td>\n",
       "      <td>678417150</td>\n",
       "      <td>645915800</td>\n",
       "      <td>615536000</td>\n",
       "      <td>1200389900</td>\n",
       "      <td>1133424100</td>\n",
       "      <td>963090600</td>\n",
       "      <td>809066200</td>\n",
       "      <td>579960400</td>\n",
       "      <td>306498750</td>\n",
       "      <td>126700504</td>\n",
       "      <td>20575482</td>\n",
       "      <td>503572.0</td>\n",
       "    </tr>\n",
       "    <tr>\n",
       "      <th>503</th>\n",
       "      <td>World</td>\n",
       "      <td>2020</td>\n",
       "      <td>7840953000</td>\n",
       "      <td>133345180.0</td>\n",
       "      <td>545801000.0</td>\n",
       "      <td>681410500</td>\n",
       "      <td>653182000</td>\n",
       "      <td>619493500</td>\n",
       "      <td>1196254600</td>\n",
       "      <td>1151358000</td>\n",
       "      <td>969082800</td>\n",
       "      <td>830432400</td>\n",
       "      <td>590299300</td>\n",
       "      <td>318539100</td>\n",
       "      <td>129707720</td>\n",
       "      <td>21499228</td>\n",
       "      <td>547543.0</td>\n",
       "    </tr>\n",
       "    <tr>\n",
       "      <th>504</th>\n",
       "      <td>World</td>\n",
       "      <td>2021</td>\n",
       "      <td>7909295000</td>\n",
       "      <td>131409180.0</td>\n",
       "      <td>540068100.0</td>\n",
       "      <td>683611800</td>\n",
       "      <td>659934300</td>\n",
       "      <td>623560800</td>\n",
       "      <td>1194528500</td>\n",
       "      <td>1165207300</td>\n",
       "      <td>976407200</td>\n",
       "      <td>851356900</td>\n",
       "      <td>598067140</td>\n",
       "      <td>330491170</td>\n",
       "      <td>131835590</td>\n",
       "      <td>22223974</td>\n",
       "      <td>593166.0</td>\n",
       "    </tr>\n",
       "  </tbody>\n",
       "</table>\n",
       "<p>504 rows × 17 columns</p>\n",
       "</div>"
      ],
      "text/plain": [
       "    Continents and World  Year  Population  \\\n",
       "1            Africa (UN)  1950   227549260   \n",
       "2            Africa (UN)  1951   232484000   \n",
       "3            Africa (UN)  1952   237586060   \n",
       "4            Africa (UN)  1953   242837440   \n",
       "5            Africa (UN)  1954   248244770   \n",
       "..                   ...   ...         ...   \n",
       "500                World  2017  7599822300   \n",
       "501                World  2018  7683790000   \n",
       "502                World  2019  7764951000   \n",
       "503                World  2020  7840953000   \n",
       "504                World  2021  7909295000   \n",
       "\n",
       "     Population of children under the age of 1  Population aged 1 to 4 years  \\\n",
       "1                                    9393661.0                    29672912.0   \n",
       "2                                    9684508.0                    30318004.0   \n",
       "3                                    9921448.0                    31046300.0   \n",
       "4                                   10167668.0                    31877272.0   \n",
       "5                                   10409928.0                    32848608.0   \n",
       "..                                         ...                           ...   \n",
       "500                                139420590.0                   550940160.0   \n",
       "501                                137690030.0                   550970400.0   \n",
       "502                                135471330.0                   549401300.0   \n",
       "503                                133345180.0                   545801000.0   \n",
       "504                                131409180.0                   540068100.0   \n",
       "\n",
       "     Population aged 5 to 9 years  Population aged 10 to 14 years  \\\n",
       "1                        29653958                        25792740   \n",
       "2                        30523140                        26205760   \n",
       "3                        31460048                        26651612   \n",
       "4                        32368278                        27171188   \n",
       "5                        33192114                        27802460   \n",
       "..                            ...                             ...   \n",
       "500                     668653200                       631596500   \n",
       "501                     674324740                       638451460   \n",
       "502                     678417150                       645915800   \n",
       "503                     681410500                       653182000   \n",
       "504                     683611800                       659934300   \n",
       "\n",
       "     Population aged 15 to 19 years  Population aged 20 to 29 years  \\\n",
       "1                          23087212                        37677212   \n",
       "2                          23471334                        38505124   \n",
       "3                          23855340                        39329870   \n",
       "4                          24225864                        40120050   \n",
       "5                          24585024                        40875776   \n",
       "..                              ...                             ...   \n",
       "500                       607785800                      1207877900   \n",
       "501                       611398340                      1204281300   \n",
       "502                       615536000                      1200389900   \n",
       "503                       619493500                      1196254600   \n",
       "504                       623560800                      1194528500   \n",
       "\n",
       "     Population aged 30 to 39 years  Population aged 40 to 49 years  \\\n",
       "1                          27422540                        19586988   \n",
       "2                          28050804                        19993920   \n",
       "3                          28694808                        20406358   \n",
       "4                          29340532                        20827816   \n",
       "5                          29989164                        21257012   \n",
       "..                              ...                             ...   \n",
       "500                      1092995100                       953971900   \n",
       "501                      1114043900                       958684500   \n",
       "502                      1133424100                       963090600   \n",
       "503                      1151358000                       969082800   \n",
       "504                      1165207300                       976407200   \n",
       "\n",
       "     Population aged 50 to 59 years  Population aged 60 to 69 years  \\\n",
       "1                          13178286                         7893063   \n",
       "2                          13463632                         8015908   \n",
       "3                          13754924                         8147429   \n",
       "4                          14056554                         8291982   \n",
       "5                          14365597                         8451841   \n",
       "..                              ...                             ...   \n",
       "500                       772621950                       549785660   \n",
       "501                       788847800                       566538940   \n",
       "502                       809066200                       579960400   \n",
       "503                       830432400                       590299300   \n",
       "504                       851356900                       598067140   \n",
       "\n",
       "     Population aged 70 to 79 years  Population aged 80 to 89 years  \\\n",
       "1                           3445317                          700903   \n",
       "2                           3499692                          709683   \n",
       "3                           3558314                          718430   \n",
       "4                           3621039                          728561   \n",
       "5                           3685246                          741198   \n",
       "..                              ...                             ...   \n",
       "500                       285532670                       119566930   \n",
       "501                       295304100                       123199544   \n",
       "502                       306498750                       126700504   \n",
       "503                       318539100                       129707720   \n",
       "504                       330491170                       131835590   \n",
       "\n",
       "     Population aged 90 to 99 years  Population older than 100 years  \n",
       "1                             43862                            615.0  \n",
       "2                             41884                            602.0  \n",
       "3                             40599                            582.0  \n",
       "4                             40087                            557.0  \n",
       "5                             40304                            499.0  \n",
       "..                              ...                              ...  \n",
       "500                        18615136                         459150.0  \n",
       "501                        19578904                         475921.0  \n",
       "502                        20575482                         503572.0  \n",
       "503                        21499228                         547543.0  \n",
       "504                        22223974                         593166.0  \n",
       "\n",
       "[504 rows x 17 columns]"
      ]
     },
     "execution_count": 18,
     "metadata": {},
     "output_type": "execute_result"
    }
   ],
   "source": [
    "pop = pd.read_csv('population-and-demography.csv')\n",
    "\n",
    "continents = ['Africa (UN)', 'Europe (UN)', 'Asia (UN)', 'World', 'Northern America (UN)', 'Latin America and the Caribbean (UN)', 'Oceania (UN)']\n",
    "\n",
    "filtered_pop = pop[pop['Country name'].isin(continents)]\n",
    "\n",
    "drop_these = ['Population at age 1','Population of children under the age of 5', 'Population of children under the age of 15', 'Population under the age of 25', 'Population aged 15 to 64 years', 'Population older than 15 years', 'Population older than 18 years', 'population__all__20_24__records', 'population__all__25_29__records', 'population__all__30_34__records', 'population__all__35_39__records', 'population__all__40_44__records', 'population__all__45_49__records', 'population__all__50_54__records', 'population__all__55_59__records', 'population__all__60_64__records', 'population__all__65_69__records', 'population__all__70_74__records', 'population__all__75_79__records', 'population__all__80_84__records', 'population__all__85_89__records', 'population__all__90_94__records', 'population__all__95_99__records' ]\n",
    "\n",
    "filtered_pop = filtered_pop.drop(drop_these, axis = 1)\n",
    "\n",
    "\n",
    "new_index = range(1,505)\n",
    "\n",
    "filtered_pop.index = new_index\n",
    "\n",
    "filtered_pop.rename(columns = {'Country name' : 'Continents and World'}, inplace = True)\n",
    "filtered_pop.head(504)"
   ]
  },
  {
   "cell_type": "markdown",
   "metadata": {},
   "source": [
    "## **Plots**"
   ]
  },
  {
   "cell_type": "markdown",
   "metadata": {},
   "source": [
    "In this section, the data has been presented in various graphs."
   ]
  },
  {
   "cell_type": "markdown",
   "metadata": {},
   "source": [
    "## 1.1 :  Global population"
   ]
  },
  {
   "cell_type": "markdown",
   "metadata": {},
   "source": [
    "The following interactive figure presents the total change in population. The World's population trend is clearly rising. The upward trend applies for all the continents as well. In order to take a closer look at the continents, 'World' should be 'unclicked'. The interesting change in the population's trend could be observed for Europe. In the late 1990s and early 2000s a drop in population has occured."
   ]
  },
  {
   "cell_type": "code",
   "execution_count": 19,
   "metadata": {},
   "outputs": [
    {
     "data": {
      "application/vnd.plotly.v1+json": {
       "config": {
        "plotlyServerURL": "https://plot.ly"
       },
       "data": [
        {
         "hovertemplate": "Continents and World=Africa (UN)<br>Year=%{x}<br>Population in billion=%{y}<extra></extra>",
         "legendgroup": "Africa (UN)",
         "line": {
          "color": "#636efa",
          "dash": "solid"
         },
         "marker": {
          "symbol": "circle"
         },
         "mode": "lines",
         "name": "Africa (UN)",
         "orientation": "v",
         "showlegend": true,
         "type": "scatter",
         "x": [
          1950,
          1951,
          1952,
          1953,
          1954,
          1955,
          1956,
          1957,
          1958,
          1959,
          1960,
          1961,
          1962,
          1963,
          1964,
          1965,
          1966,
          1967,
          1968,
          1969,
          1970,
          1971,
          1972,
          1973,
          1974,
          1975,
          1976,
          1977,
          1978,
          1979,
          1980,
          1981,
          1982,
          1983,
          1984,
          1985,
          1986,
          1987,
          1988,
          1989,
          1990,
          1991,
          1992,
          1993,
          1994,
          1995,
          1996,
          1997,
          1998,
          1999,
          2000,
          2001,
          2002,
          2003,
          2004,
          2005,
          2006,
          2007,
          2008,
          2009,
          2010,
          2011,
          2012,
          2013,
          2014,
          2015,
          2016,
          2017,
          2018,
          2019,
          2020,
          2021
         ],
         "xaxis": "x",
         "y": [
          227549260,
          232484000,
          237586060,
          242837440,
          248244770,
          253847730,
          259631400,
          265515230,
          271429570,
          277648200,
          284287840,
          291177570,
          298334050,
          305755230,
          313465700,
          321446980,
          329658050,
          338159580,
          346980000,
          356070240,
          365450100,
          375085860,
          384930400,
          395212030,
          406068830,
          417556640,
          429572930,
          441701400,
          454462700,
          467975870,
          481542800,
          495655330,
          510540220,
          525335040,
          540182800,
          555652600,
          571646400,
          588079700,
          604511200,
          621167600,
          638157250,
          655040500,
          671931500,
          689140000,
          706488260,
          724331650,
          742764740,
          761224450,
          779908030,
          799099300,
          818952060,
          839463900,
          860611460,
          882349250,
          904781300,
          927898100,
          951740300,
          976461440,
          1001981300,
          1028200260,
          1055233400,
          1082675800,
          1110797200,
          1140180600,
          1170299000,
          1201108000,
          1232111600,
          1263333800,
          1295265000,
          1327701100,
          1360677200,
          1393676400
         ],
         "yaxis": "y"
        },
        {
         "hovertemplate": "Continents and World=Asia (UN)<br>Year=%{x}<br>Population in billion=%{y}<extra></extra>",
         "legendgroup": "Asia (UN)",
         "line": {
          "color": "#EF553B",
          "dash": "solid"
         },
         "marker": {
          "symbol": "circle"
         },
         "mode": "lines",
         "name": "Asia (UN)",
         "orientation": "v",
         "showlegend": true,
         "type": "scatter",
         "x": [
          1950,
          1951,
          1952,
          1953,
          1954,
          1955,
          1956,
          1957,
          1958,
          1959,
          1960,
          1961,
          1962,
          1963,
          1964,
          1965,
          1966,
          1967,
          1968,
          1969,
          1970,
          1971,
          1972,
          1973,
          1974,
          1975,
          1976,
          1977,
          1978,
          1979,
          1980,
          1981,
          1982,
          1983,
          1984,
          1985,
          1986,
          1987,
          1988,
          1989,
          1990,
          1991,
          1992,
          1993,
          1994,
          1995,
          1996,
          1997,
          1998,
          1999,
          2000,
          2001,
          2002,
          2003,
          2004,
          2005,
          2006,
          2007,
          2008,
          2009,
          2010,
          2011,
          2012,
          2013,
          2014,
          2015,
          2016,
          2017,
          2018,
          2019,
          2020,
          2021
         ],
         "xaxis": "x",
         "y": [
          1379048300,
          1405644000,
          1435002800,
          1466384300,
          1498736600,
          1532902800,
          1567477800,
          1603627300,
          1640462500,
          1672747900,
          1699525100,
          1725898900,
          1761233700,
          1807331300,
          1855494700,
          1902211800,
          1948659200,
          1994854000,
          2043393500,
          2094302300,
          2145547100,
          2196067800,
          2246224600,
          2297244400,
          2347595000,
          2396020700,
          2443330300,
          2490528500,
          2537447400,
          2585588200,
          2636013600,
          2688480000,
          2743289600,
          2798588700,
          2853889500,
          2910588000,
          2969038000,
          3029379300,
          3089991000,
          3150480100,
          3211352000,
          3269853000,
          3325187800,
          3379061200,
          3432015400,
          3484179000,
          3535424000,
          3586095600,
          3636357400,
          3686164200,
          3736038000,
          3786179800,
          3835669500,
          3884310800,
          3932421000,
          3980365800,
          4028347100,
          4076071700,
          4123883000,
          4172450300,
          4221171000,
          4269624000,
          4318321700,
          4366454000,
          4413673500,
          4459437600,
          4504153600,
          4548303400,
          4590021600,
          4628967400,
          4664324000,
          4694576000
         ],
         "yaxis": "y"
        },
        {
         "hovertemplate": "Continents and World=Europe (UN)<br>Year=%{x}<br>Population in billion=%{y}<extra></extra>",
         "legendgroup": "Europe (UN)",
         "line": {
          "color": "#00cc96",
          "dash": "solid"
         },
         "marker": {
          "symbol": "circle"
         },
         "mode": "lines",
         "name": "Europe (UN)",
         "orientation": "v",
         "showlegend": true,
         "type": "scatter",
         "x": [
          1950,
          1951,
          1952,
          1953,
          1954,
          1955,
          1956,
          1957,
          1958,
          1959,
          1960,
          1961,
          1962,
          1963,
          1964,
          1965,
          1966,
          1967,
          1968,
          1969,
          1970,
          1971,
          1972,
          1973,
          1974,
          1975,
          1976,
          1977,
          1978,
          1979,
          1980,
          1981,
          1982,
          1983,
          1984,
          1985,
          1986,
          1987,
          1988,
          1989,
          1990,
          1991,
          1992,
          1993,
          1994,
          1995,
          1996,
          1997,
          1998,
          1999,
          2000,
          2001,
          2002,
          2003,
          2004,
          2005,
          2006,
          2007,
          2008,
          2009,
          2010,
          2011,
          2012,
          2013,
          2014,
          2015,
          2016,
          2017,
          2018,
          2019,
          2020,
          2021
         ],
         "xaxis": "x",
         "y": [
          549721700,
          554559500,
          559609900,
          565058600,
          570671000,
          576304960,
          581975500,
          587711600,
          593669300,
          599684860,
          605629900,
          611711040,
          617672200,
          623336000,
          628944900,
          634267600,
          639264450,
          644114400,
          648610200,
          652740600,
          656521400,
          660476000,
          664799700,
          668909000,
          672912960,
          676770900,
          680361150,
          683848700,
          687149600,
          690287700,
          693437250,
          696429200,
          699220350,
          702014800,
          704798600,
          707516300,
          710385100,
          713465340,
          716444400,
          719107900,
          721497300,
          723602900,
          725259500,
          726441900,
          727063200,
          727300400,
          727453600,
          727566460,
          727445600,
          727100000,
          726968450,
          726878340,
          726939300,
          727425000,
          728163260,
          728950460,
          729857700,
          731393150,
          733256200,
          734902800,
          736276800,
          737589600,
          738907600,
          740013800,
          741014140,
          742107460,
          743318600,
          744449340,
          745359100,
          746189630,
          746225340,
          745173760
         ],
         "yaxis": "y"
        },
        {
         "hovertemplate": "Continents and World=Latin America and the Caribbean (UN)<br>Year=%{x}<br>Population in billion=%{y}<extra></extra>",
         "legendgroup": "Latin America and the Caribbean (UN)",
         "line": {
          "color": "#ab63fa",
          "dash": "solid"
         },
         "marker": {
          "symbol": "circle"
         },
         "mode": "lines",
         "name": "Latin America and the Caribbean (UN)",
         "orientation": "v",
         "showlegend": true,
         "type": "scatter",
         "x": [
          1950,
          1951,
          1952,
          1953,
          1954,
          1955,
          1956,
          1957,
          1958,
          1959,
          1960,
          1961,
          1962,
          1963,
          1964,
          1965,
          1966,
          1967,
          1968,
          1969,
          1970,
          1971,
          1972,
          1973,
          1974,
          1975,
          1976,
          1977,
          1978,
          1979,
          1980,
          1981,
          1982,
          1983,
          1984,
          1985,
          1986,
          1987,
          1988,
          1989,
          1990,
          1991,
          1992,
          1993,
          1994,
          1995,
          1996,
          1997,
          1998,
          1999,
          2000,
          2001,
          2002,
          2003,
          2004,
          2005,
          2006,
          2007,
          2008,
          2009,
          2010,
          2011,
          2012,
          2013,
          2014,
          2015,
          2016,
          2017,
          2018,
          2019,
          2020,
          2021
         ],
         "xaxis": "x",
         "y": [
          168335840,
          172783140,
          177354130,
          182056290,
          186910160,
          191936400,
          197136640,
          202519700,
          208049440,
          213778340,
          219754160,
          225927490,
          232266370,
          238750450,
          245366830,
          252093550,
          258880180,
          265713490,
          272595800,
          279527940,
          286525540,
          293609380,
          300799300,
          308110200,
          315529200,
          323032400,
          330600060,
          338342340,
          346288960,
          354316500,
          362332600,
          370214140,
          378073950,
          386071040,
          394125300,
          402164060,
          410179800,
          418193800,
          426258530,
          434345570,
          442565120,
          450839600,
          459026880,
          467183200,
          475330400,
          483431600,
          491423970,
          499347550,
          507199400,
          514937060,
          522512130,
          529912670,
          537159500,
          544202050,
          551122100,
          557964000,
          564664770,
          571246600,
          577692600,
          584072300,
          590547000,
          597179840,
          603818800,
          610323400,
          616734100,
          623076500,
          629341000,
          635448200,
          641303740,
          646846800,
          651836100,
          656098100
         ],
         "yaxis": "y"
        },
        {
         "hovertemplate": "Continents and World=Northern America (UN)<br>Year=%{x}<br>Population in billion=%{y}<extra></extra>",
         "legendgroup": "Northern America (UN)",
         "line": {
          "color": "#FFA15A",
          "dash": "solid"
         },
         "marker": {
          "symbol": "circle"
         },
         "mode": "lines",
         "name": "Northern America (UN)",
         "orientation": "v",
         "showlegend": true,
         "type": "scatter",
         "x": [
          1950,
          1951,
          1952,
          1953,
          1954,
          1955,
          1956,
          1957,
          1958,
          1959,
          1960,
          1961,
          1962,
          1963,
          1964,
          1965,
          1966,
          1967,
          1968,
          1969,
          1970,
          1971,
          1972,
          1973,
          1974,
          1975,
          1976,
          1977,
          1978,
          1979,
          1980,
          1981,
          1982,
          1983,
          1984,
          1985,
          1986,
          1987,
          1988,
          1989,
          1990,
          1991,
          1992,
          1993,
          1994,
          1995,
          1996,
          1997,
          1998,
          1999,
          2000,
          2001,
          2002,
          2003,
          2004,
          2005,
          2006,
          2007,
          2008,
          2009,
          2010,
          2011,
          2012,
          2013,
          2014,
          2015,
          2016,
          2017,
          2018,
          2019,
          2020,
          2021
         ],
         "xaxis": "x",
         "y": [
          162089340,
          164749840,
          167494180,
          170420530,
          173598030,
          176940530,
          180302050,
          183672450,
          187335600,
          190926580,
          194177010,
          197442200,
          200623680,
          203706750,
          206691980,
          209482860,
          211979520,
          214286320,
          216573650,
          218993970,
          221865900,
          224901250,
          227566320,
          229923520,
          232198030,
          234519140,
          236821070,
          239261920,
          241953380,
          244791540,
          247761310,
          250580510,
          253214700,
          255863570,
          258482370,
          261105170,
          263744850,
          266406960,
          269220740,
          272317220,
          275860320,
          279695840,
          283643360,
          287568770,
          291376000,
          295071650,
          298700400,
          302400860,
          306102900,
          309704740,
          313205700,
          316597660,
          319797600,
          322854660,
          325985300,
          329184540,
          332410940,
          335731780,
          339039330,
          342231800,
          345272100,
          348326000,
          351469000,
          354564450,
          357563870,
          360464930,
          363448670,
          366470720,
          369300740,
          371967900,
          373956670,
          375278940
         ],
         "yaxis": "y"
        },
        {
         "hovertemplate": "Continents and World=Oceania (UN)<br>Year=%{x}<br>Population in billion=%{y}<extra></extra>",
         "legendgroup": "Oceania (UN)",
         "line": {
          "color": "#19d3f3",
          "dash": "solid"
         },
         "marker": {
          "symbol": "circle"
         },
         "mode": "lines",
         "name": "Oceania (UN)",
         "orientation": "v",
         "showlegend": true,
         "type": "scatter",
         "x": [
          1950,
          1951,
          1952,
          1953,
          1954,
          1955,
          1956,
          1957,
          1958,
          1959,
          1960,
          1961,
          1962,
          1963,
          1964,
          1965,
          1966,
          1967,
          1968,
          1969,
          1970,
          1971,
          1972,
          1973,
          1974,
          1975,
          1976,
          1977,
          1978,
          1979,
          1980,
          1981,
          1982,
          1983,
          1984,
          1985,
          1986,
          1987,
          1988,
          1989,
          1990,
          1991,
          1992,
          1993,
          1994,
          1995,
          1996,
          1997,
          1998,
          1999,
          2000,
          2001,
          2002,
          2003,
          2004,
          2005,
          2006,
          2007,
          2008,
          2009,
          2010,
          2011,
          2012,
          2013,
          2014,
          2015,
          2016,
          2017,
          2018,
          2019,
          2020,
          2021
         ],
         "xaxis": "x",
         "y": [
          12577612,
          12909941,
          13223877,
          13521601,
          13818801,
          14139693,
          14479261,
          14820529,
          15161741,
          15506332,
          15859370,
          16213462,
          16556685,
          16899484,
          17248330,
          17609084,
          17975666,
          18320280,
          18657606,
          19020176,
          19480276,
          20022644,
          20480652,
          20852372,
          21212944,
          21537422,
          21820378,
          22089510,
          22355636,
          22623048,
          22920234,
          23268486,
          23646050,
          24011052,
          24357388,
          24704544,
          25069192,
          25459316,
          25868238,
          26285792,
          26743822,
          27214102,
          27637108,
          28038404,
          28454926,
          28905124,
          29378682,
          29846364,
          30299182,
          30753172,
          31222778,
          31714600,
          32230004,
          32756470,
          33278444,
          33813024,
          34395532,
          35043844,
          35744784,
          36448270,
          37102764,
          37730132,
          38383410,
          39057444,
          39728976,
          40403290,
          41100876,
          41816932,
          42539676,
          43278150,
          43933424,
          44491724
         ],
         "yaxis": "y"
        },
        {
         "hovertemplate": "Continents and World=World<br>Year=%{x}<br>Population in billion=%{y}<extra></extra>",
         "legendgroup": "World",
         "line": {
          "color": "#FF6692",
          "dash": "solid"
         },
         "marker": {
          "symbol": "circle"
         },
         "mode": "lines",
         "name": "World",
         "orientation": "v",
         "showlegend": true,
         "type": "scatter",
         "x": [
          1950,
          1951,
          1952,
          1953,
          1954,
          1955,
          1956,
          1957,
          1958,
          1959,
          1960,
          1961,
          1962,
          1963,
          1964,
          1965,
          1966,
          1967,
          1968,
          1969,
          1970,
          1971,
          1972,
          1973,
          1974,
          1975,
          1976,
          1977,
          1978,
          1979,
          1980,
          1981,
          1982,
          1983,
          1984,
          1985,
          1986,
          1987,
          1988,
          1989,
          1990,
          1991,
          1992,
          1993,
          1994,
          1995,
          1996,
          1997,
          1998,
          1999,
          2000,
          2001,
          2002,
          2003,
          2004,
          2005,
          2006,
          2007,
          2008,
          2009,
          2010,
          2011,
          2012,
          2013,
          2014,
          2015,
          2016,
          2017,
          2018,
          2019,
          2020,
          2021
         ],
         "xaxis": "x",
         "y": [
          2499322000,
          2543130400,
          2590271000,
          2640278800,
          2691979300,
          2746072000,
          2801002800,
          2857866800,
          2916108000,
          2970292200,
          3019233500,
          3068370700,
          3126686700,
          3195779300,
          3267212300,
          3337112000,
          3406417000,
          3475448000,
          3546811000,
          3620655400,
          3695390200,
          3770163200,
          3844800800,
          3920251400,
          3995517000,
          4069437200,
          4142505700,
          4215772400,
          4289657600,
          4365583000,
          4444008000,
          4524627500,
          4607984600,
          4691884000,
          4775836000,
          4861731000,
          4950063000,
          5040984600,
          5132294000,
          5223704000,
          5316176000,
          5406246000,
          5492686300,
          5577433600,
          5660728000,
          5743219700,
          5825145300,
          5906481000,
          5987312600,
          6067758600,
          6148899000,
          6230747000,
          6312407600,
          6393898500,
          6475751400,
          6558176000,
          6641416000,
          6725948400,
          6811597300,
          6898306000,
          6985603000,
          7073125400,
          7161698000,
          7250593300,
          7339013600,
          7426597400,
          7513474000,
          7599822300,
          7683790000,
          7764951000,
          7840953000,
          7909295000
         ],
         "yaxis": "y"
        }
       ],
       "layout": {
        "height": 600,
        "legend": {
         "font": {
          "size": 10
         },
         "title": {
          "text": "Continents and World"
         },
         "tracegroupgap": 0
        },
        "template": {
         "data": {
          "bar": [
           {
            "error_x": {
             "color": "#2a3f5f"
            },
            "error_y": {
             "color": "#2a3f5f"
            },
            "marker": {
             "line": {
              "color": "#E5ECF6",
              "width": 0.5
             },
             "pattern": {
              "fillmode": "overlay",
              "size": 10,
              "solidity": 0.2
             }
            },
            "type": "bar"
           }
          ],
          "barpolar": [
           {
            "marker": {
             "line": {
              "color": "#E5ECF6",
              "width": 0.5
             },
             "pattern": {
              "fillmode": "overlay",
              "size": 10,
              "solidity": 0.2
             }
            },
            "type": "barpolar"
           }
          ],
          "carpet": [
           {
            "aaxis": {
             "endlinecolor": "#2a3f5f",
             "gridcolor": "white",
             "linecolor": "white",
             "minorgridcolor": "white",
             "startlinecolor": "#2a3f5f"
            },
            "baxis": {
             "endlinecolor": "#2a3f5f",
             "gridcolor": "white",
             "linecolor": "white",
             "minorgridcolor": "white",
             "startlinecolor": "#2a3f5f"
            },
            "type": "carpet"
           }
          ],
          "choropleth": [
           {
            "colorbar": {
             "outlinewidth": 0,
             "ticks": ""
            },
            "type": "choropleth"
           }
          ],
          "contour": [
           {
            "colorbar": {
             "outlinewidth": 0,
             "ticks": ""
            },
            "colorscale": [
             [
              0,
              "#0d0887"
             ],
             [
              0.1111111111111111,
              "#46039f"
             ],
             [
              0.2222222222222222,
              "#7201a8"
             ],
             [
              0.3333333333333333,
              "#9c179e"
             ],
             [
              0.4444444444444444,
              "#bd3786"
             ],
             [
              0.5555555555555556,
              "#d8576b"
             ],
             [
              0.6666666666666666,
              "#ed7953"
             ],
             [
              0.7777777777777778,
              "#fb9f3a"
             ],
             [
              0.8888888888888888,
              "#fdca26"
             ],
             [
              1,
              "#f0f921"
             ]
            ],
            "type": "contour"
           }
          ],
          "contourcarpet": [
           {
            "colorbar": {
             "outlinewidth": 0,
             "ticks": ""
            },
            "type": "contourcarpet"
           }
          ],
          "heatmap": [
           {
            "colorbar": {
             "outlinewidth": 0,
             "ticks": ""
            },
            "colorscale": [
             [
              0,
              "#0d0887"
             ],
             [
              0.1111111111111111,
              "#46039f"
             ],
             [
              0.2222222222222222,
              "#7201a8"
             ],
             [
              0.3333333333333333,
              "#9c179e"
             ],
             [
              0.4444444444444444,
              "#bd3786"
             ],
             [
              0.5555555555555556,
              "#d8576b"
             ],
             [
              0.6666666666666666,
              "#ed7953"
             ],
             [
              0.7777777777777778,
              "#fb9f3a"
             ],
             [
              0.8888888888888888,
              "#fdca26"
             ],
             [
              1,
              "#f0f921"
             ]
            ],
            "type": "heatmap"
           }
          ],
          "heatmapgl": [
           {
            "colorbar": {
             "outlinewidth": 0,
             "ticks": ""
            },
            "colorscale": [
             [
              0,
              "#0d0887"
             ],
             [
              0.1111111111111111,
              "#46039f"
             ],
             [
              0.2222222222222222,
              "#7201a8"
             ],
             [
              0.3333333333333333,
              "#9c179e"
             ],
             [
              0.4444444444444444,
              "#bd3786"
             ],
             [
              0.5555555555555556,
              "#d8576b"
             ],
             [
              0.6666666666666666,
              "#ed7953"
             ],
             [
              0.7777777777777778,
              "#fb9f3a"
             ],
             [
              0.8888888888888888,
              "#fdca26"
             ],
             [
              1,
              "#f0f921"
             ]
            ],
            "type": "heatmapgl"
           }
          ],
          "histogram": [
           {
            "marker": {
             "pattern": {
              "fillmode": "overlay",
              "size": 10,
              "solidity": 0.2
             }
            },
            "type": "histogram"
           }
          ],
          "histogram2d": [
           {
            "colorbar": {
             "outlinewidth": 0,
             "ticks": ""
            },
            "colorscale": [
             [
              0,
              "#0d0887"
             ],
             [
              0.1111111111111111,
              "#46039f"
             ],
             [
              0.2222222222222222,
              "#7201a8"
             ],
             [
              0.3333333333333333,
              "#9c179e"
             ],
             [
              0.4444444444444444,
              "#bd3786"
             ],
             [
              0.5555555555555556,
              "#d8576b"
             ],
             [
              0.6666666666666666,
              "#ed7953"
             ],
             [
              0.7777777777777778,
              "#fb9f3a"
             ],
             [
              0.8888888888888888,
              "#fdca26"
             ],
             [
              1,
              "#f0f921"
             ]
            ],
            "type": "histogram2d"
           }
          ],
          "histogram2dcontour": [
           {
            "colorbar": {
             "outlinewidth": 0,
             "ticks": ""
            },
            "colorscale": [
             [
              0,
              "#0d0887"
             ],
             [
              0.1111111111111111,
              "#46039f"
             ],
             [
              0.2222222222222222,
              "#7201a8"
             ],
             [
              0.3333333333333333,
              "#9c179e"
             ],
             [
              0.4444444444444444,
              "#bd3786"
             ],
             [
              0.5555555555555556,
              "#d8576b"
             ],
             [
              0.6666666666666666,
              "#ed7953"
             ],
             [
              0.7777777777777778,
              "#fb9f3a"
             ],
             [
              0.8888888888888888,
              "#fdca26"
             ],
             [
              1,
              "#f0f921"
             ]
            ],
            "type": "histogram2dcontour"
           }
          ],
          "mesh3d": [
           {
            "colorbar": {
             "outlinewidth": 0,
             "ticks": ""
            },
            "type": "mesh3d"
           }
          ],
          "parcoords": [
           {
            "line": {
             "colorbar": {
              "outlinewidth": 0,
              "ticks": ""
             }
            },
            "type": "parcoords"
           }
          ],
          "pie": [
           {
            "automargin": true,
            "type": "pie"
           }
          ],
          "scatter": [
           {
            "fillpattern": {
             "fillmode": "overlay",
             "size": 10,
             "solidity": 0.2
            },
            "type": "scatter"
           }
          ],
          "scatter3d": [
           {
            "line": {
             "colorbar": {
              "outlinewidth": 0,
              "ticks": ""
             }
            },
            "marker": {
             "colorbar": {
              "outlinewidth": 0,
              "ticks": ""
             }
            },
            "type": "scatter3d"
           }
          ],
          "scattercarpet": [
           {
            "marker": {
             "colorbar": {
              "outlinewidth": 0,
              "ticks": ""
             }
            },
            "type": "scattercarpet"
           }
          ],
          "scattergeo": [
           {
            "marker": {
             "colorbar": {
              "outlinewidth": 0,
              "ticks": ""
             }
            },
            "type": "scattergeo"
           }
          ],
          "scattergl": [
           {
            "marker": {
             "colorbar": {
              "outlinewidth": 0,
              "ticks": ""
             }
            },
            "type": "scattergl"
           }
          ],
          "scattermapbox": [
           {
            "marker": {
             "colorbar": {
              "outlinewidth": 0,
              "ticks": ""
             }
            },
            "type": "scattermapbox"
           }
          ],
          "scatterpolar": [
           {
            "marker": {
             "colorbar": {
              "outlinewidth": 0,
              "ticks": ""
             }
            },
            "type": "scatterpolar"
           }
          ],
          "scatterpolargl": [
           {
            "marker": {
             "colorbar": {
              "outlinewidth": 0,
              "ticks": ""
             }
            },
            "type": "scatterpolargl"
           }
          ],
          "scatterternary": [
           {
            "marker": {
             "colorbar": {
              "outlinewidth": 0,
              "ticks": ""
             }
            },
            "type": "scatterternary"
           }
          ],
          "surface": [
           {
            "colorbar": {
             "outlinewidth": 0,
             "ticks": ""
            },
            "colorscale": [
             [
              0,
              "#0d0887"
             ],
             [
              0.1111111111111111,
              "#46039f"
             ],
             [
              0.2222222222222222,
              "#7201a8"
             ],
             [
              0.3333333333333333,
              "#9c179e"
             ],
             [
              0.4444444444444444,
              "#bd3786"
             ],
             [
              0.5555555555555556,
              "#d8576b"
             ],
             [
              0.6666666666666666,
              "#ed7953"
             ],
             [
              0.7777777777777778,
              "#fb9f3a"
             ],
             [
              0.8888888888888888,
              "#fdca26"
             ],
             [
              1,
              "#f0f921"
             ]
            ],
            "type": "surface"
           }
          ],
          "table": [
           {
            "cells": {
             "fill": {
              "color": "#EBF0F8"
             },
             "line": {
              "color": "white"
             }
            },
            "header": {
             "fill": {
              "color": "#C8D4E3"
             },
             "line": {
              "color": "white"
             }
            },
            "type": "table"
           }
          ]
         },
         "layout": {
          "annotationdefaults": {
           "arrowcolor": "#2a3f5f",
           "arrowhead": 0,
           "arrowwidth": 1
          },
          "autotypenumbers": "strict",
          "coloraxis": {
           "colorbar": {
            "outlinewidth": 0,
            "ticks": ""
           }
          },
          "colorscale": {
           "diverging": [
            [
             0,
             "#8e0152"
            ],
            [
             0.1,
             "#c51b7d"
            ],
            [
             0.2,
             "#de77ae"
            ],
            [
             0.3,
             "#f1b6da"
            ],
            [
             0.4,
             "#fde0ef"
            ],
            [
             0.5,
             "#f7f7f7"
            ],
            [
             0.6,
             "#e6f5d0"
            ],
            [
             0.7,
             "#b8e186"
            ],
            [
             0.8,
             "#7fbc41"
            ],
            [
             0.9,
             "#4d9221"
            ],
            [
             1,
             "#276419"
            ]
           ],
           "sequential": [
            [
             0,
             "#0d0887"
            ],
            [
             0.1111111111111111,
             "#46039f"
            ],
            [
             0.2222222222222222,
             "#7201a8"
            ],
            [
             0.3333333333333333,
             "#9c179e"
            ],
            [
             0.4444444444444444,
             "#bd3786"
            ],
            [
             0.5555555555555556,
             "#d8576b"
            ],
            [
             0.6666666666666666,
             "#ed7953"
            ],
            [
             0.7777777777777778,
             "#fb9f3a"
            ],
            [
             0.8888888888888888,
             "#fdca26"
            ],
            [
             1,
             "#f0f921"
            ]
           ],
           "sequentialminus": [
            [
             0,
             "#0d0887"
            ],
            [
             0.1111111111111111,
             "#46039f"
            ],
            [
             0.2222222222222222,
             "#7201a8"
            ],
            [
             0.3333333333333333,
             "#9c179e"
            ],
            [
             0.4444444444444444,
             "#bd3786"
            ],
            [
             0.5555555555555556,
             "#d8576b"
            ],
            [
             0.6666666666666666,
             "#ed7953"
            ],
            [
             0.7777777777777778,
             "#fb9f3a"
            ],
            [
             0.8888888888888888,
             "#fdca26"
            ],
            [
             1,
             "#f0f921"
            ]
           ]
          },
          "colorway": [
           "#636efa",
           "#EF553B",
           "#00cc96",
           "#ab63fa",
           "#FFA15A",
           "#19d3f3",
           "#FF6692",
           "#B6E880",
           "#FF97FF",
           "#FECB52"
          ],
          "font": {
           "color": "#2a3f5f"
          },
          "geo": {
           "bgcolor": "white",
           "lakecolor": "white",
           "landcolor": "#E5ECF6",
           "showlakes": true,
           "showland": true,
           "subunitcolor": "white"
          },
          "hoverlabel": {
           "align": "left"
          },
          "hovermode": "closest",
          "mapbox": {
           "style": "light"
          },
          "paper_bgcolor": "white",
          "plot_bgcolor": "#E5ECF6",
          "polar": {
           "angularaxis": {
            "gridcolor": "white",
            "linecolor": "white",
            "ticks": ""
           },
           "bgcolor": "#E5ECF6",
           "radialaxis": {
            "gridcolor": "white",
            "linecolor": "white",
            "ticks": ""
           }
          },
          "scene": {
           "xaxis": {
            "backgroundcolor": "#E5ECF6",
            "gridcolor": "white",
            "gridwidth": 2,
            "linecolor": "white",
            "showbackground": true,
            "ticks": "",
            "zerolinecolor": "white"
           },
           "yaxis": {
            "backgroundcolor": "#E5ECF6",
            "gridcolor": "white",
            "gridwidth": 2,
            "linecolor": "white",
            "showbackground": true,
            "ticks": "",
            "zerolinecolor": "white"
           },
           "zaxis": {
            "backgroundcolor": "#E5ECF6",
            "gridcolor": "white",
            "gridwidth": 2,
            "linecolor": "white",
            "showbackground": true,
            "ticks": "",
            "zerolinecolor": "white"
           }
          },
          "shapedefaults": {
           "line": {
            "color": "#2a3f5f"
           }
          },
          "ternary": {
           "aaxis": {
            "gridcolor": "white",
            "linecolor": "white",
            "ticks": ""
           },
           "baxis": {
            "gridcolor": "white",
            "linecolor": "white",
            "ticks": ""
           },
           "bgcolor": "#E5ECF6",
           "caxis": {
            "gridcolor": "white",
            "linecolor": "white",
            "ticks": ""
           }
          },
          "title": {
           "x": 0.05
          },
          "xaxis": {
           "automargin": true,
           "gridcolor": "white",
           "linecolor": "white",
           "ticks": "",
           "title": {
            "standoff": 15
           },
           "zerolinecolor": "white",
           "zerolinewidth": 2
          },
          "yaxis": {
           "automargin": true,
           "gridcolor": "white",
           "linecolor": "white",
           "ticks": "",
           "title": {
            "standoff": 15
           },
           "zerolinecolor": "white",
           "zerolinewidth": 2
          }
         }
        },
        "title": {
         "font": {
          "size": 20
         },
         "text": "Population in the World and the continents in years 1950-2021"
        },
        "width": 900,
        "xaxis": {
         "anchor": "y",
         "domain": [
          0,
          1
         ],
         "title": {
          "text": "Year"
         }
        },
        "yaxis": {
         "anchor": "x",
         "domain": [
          0,
          1
         ],
         "title": {
          "text": "Population in billion"
         }
        }
       }
      }
     },
     "metadata": {},
     "output_type": "display_data"
    }
   ],
   "source": [
    "# Selecting only the desired columns\n",
    "selected_columns = filtered_pop[['Continents and World', 'Year', 'Population']]\n",
    "\n",
    "# Create an interactive line plot using Plotly Express\n",
    "fig = px.line(selected_columns, x='Year', y='Population', color='Continents and World',\n",
    "              title='Population in the World and the continents in years 1950-2021',\n",
    "              labels={'Population': 'Population in billion', 'Year': 'Year'})\n",
    "\n",
    "# Adjust layout parameters\n",
    "fig.update_layout(\n",
    "    title={'text': 'Population in the World and the continents in years 1950-2021', 'font': {'size': 20}},\n",
    "    legend={'font': {'size': 10}},\n",
    "    width=900,  # Adjust width of the plot\n",
    "    height=600,  # Adjust height of the plot\n",
    ")\n",
    "# Show the interactive plot\n",
    "fig.show()"
   ]
  },
  {
   "cell_type": "markdown",
   "metadata": {},
   "source": [
    "## 1.2: Population in detail "
   ]
  },
  {
   "cell_type": "markdown",
   "metadata": {},
   "source": [
    "We made an interactive table to show the population of different age groups between 1950 and 2021. We classified all the countries into 6 continents and a data will be shown base on the selected year and age group. \n",
    "\n",
    "It is observed that Asia occupies approximately half or more of the world's population for most of the years. It has largest population among the contenients. \n",
    "\n",
    "\n"
   ]
  },
  {
   "cell_type": "code",
   "execution_count": 20,
   "metadata": {},
   "outputs": [
    {
     "data": {
      "application/vnd.jupyter.widget-view+json": {
       "model_id": "b28ab18acdf34cf780843592516a22fb",
       "version_major": 2,
       "version_minor": 0
      },
      "text/plain": [
       "Dropdown(description='Year:', options=(1950, 1951, 1952, 1953, 1954, 1955, 1956, 1957, 1958, 1959, 1960, 1961,…"
      ]
     },
     "metadata": {},
     "output_type": "display_data"
    },
    {
     "data": {
      "application/vnd.jupyter.widget-view+json": {
       "model_id": "cebe2ded7dcd4c85810c6f49084e54ea",
       "version_major": 2,
       "version_minor": 0
      },
      "text/plain": [
       "Dropdown(description='Age Group:', options=('Population of children under the age of 1', 'Population aged 1 to…"
      ]
     },
     "metadata": {},
     "output_type": "display_data"
    },
    {
     "data": {
      "application/vnd.jupyter.widget-view+json": {
       "model_id": "f99d6257d90342d3a1199f6fb703091a",
       "version_major": 2,
       "version_minor": 0
      },
      "text/plain": [
       "Output()"
      ]
     },
     "metadata": {},
     "output_type": "display_data"
    }
   ],
   "source": [
    "\n",
    "years = sorted(filtered_pop['Year'].unique())\n",
    "age_groups = filtered_pop.columns[3:] \n",
    "\n",
    "# Container for the interactive output (the table)\n",
    "output_container = widgets.Output()\n",
    "\n",
    "# Create dropdown widgets for selecting the year and age group\n",
    "year_dropdown = widgets.Dropdown(options=years, description='Year:')\n",
    "age_group_dropdown = widgets.Dropdown(options=age_groups, description='Age Group:')\n",
    "\n",
    "def create_population_table(selected_year, selected_age_group):\n",
    "    with output_container:\n",
    "        clear_output(wait=True)  \n",
    "        \n",
    "        # Filter the DataFrame for the selected year\n",
    "        filtered_data = filtered_pop[filtered_pop['Year'] == selected_year]\n",
    "        \n",
    "        final_df = filtered_data[['Continents and World', selected_age_group]]\n",
    "        \n",
    "        final_df = final_df.reset_index(drop=True)\n",
    "        \n",
    "        display(final_df)\n",
    "\n",
    "# Handler for dropdown change events\n",
    "def on_dropdown_change(change):\n",
    "        \n",
    "        selected_year = year_dropdown.value\n",
    "        selected_age_group = age_group_dropdown.value\n",
    "        create_population_table(selected_year, selected_age_group)\n",
    "\n",
    "# Attach the function to the dropdowns' change events\n",
    "year_dropdown.observe(on_dropdown_change)\n",
    "age_group_dropdown.observe(on_dropdown_change)\n",
    "\n",
    "# Display the widgets and the output container\n",
    "display(year_dropdown, age_group_dropdown, output_container)\n",
    "\n",
    "create_population_table(years[0], age_groups[0])"
   ]
  },
  {
   "cell_type": "markdown",
   "metadata": {},
   "source": [
    "## 2.1: Population of children under the age of 1"
   ]
  },
  {
   "cell_type": "markdown",
   "metadata": {},
   "source": [
    "The following plot indicates the data of the new borns among the continents. \n",
    "\n",
    "We have observed that Europe shows a declining trend for population of children under the age of 1 from 1950 to 2021, which may implicate that Europe is facing a derease in fertility rate.\n",
    "\n",
    "The population of Northern America plummets from 1965 to 1975 which could be due to the Vietnam war.\n"
   ]
  },
  {
   "cell_type": "code",
   "execution_count": 21,
   "metadata": {},
   "outputs": [
    {
     "data": {
      "application/vnd.plotly.v1+json": {
       "config": {
        "plotlyServerURL": "https://plot.ly"
       },
       "data": [
        {
         "hovertemplate": "Continent=Africa (UN)<br>Year=%{x}<br>Population of children under the age of 1=%{y}<extra></extra>",
         "legendgroup": "Africa (UN)",
         "line": {
          "color": "#636efa",
          "dash": "solid"
         },
         "marker": {
          "symbol": "circle"
         },
         "mode": "lines",
         "name": "Africa (UN)",
         "orientation": "v",
         "showlegend": true,
         "type": "scatter",
         "x": [
          1950,
          1951,
          1952,
          1953,
          1954,
          1955,
          1956,
          1957,
          1958,
          1959,
          1960,
          1961,
          1962,
          1963,
          1964,
          1965,
          1966,
          1967,
          1968,
          1969,
          1970,
          1971,
          1972,
          1973,
          1974,
          1975,
          1976,
          1977,
          1978,
          1979,
          1980,
          1981,
          1982,
          1983,
          1984,
          1985,
          1986,
          1987,
          1988,
          1989,
          1990,
          1991,
          1992,
          1993,
          1994,
          1995,
          1996,
          1997,
          1998,
          1999,
          2000,
          2001,
          2002,
          2003,
          2004,
          2005,
          2006,
          2007,
          2008,
          2009,
          2010,
          2011,
          2012,
          2013,
          2014,
          2015,
          2016,
          2017,
          2018,
          2019,
          2020,
          2021
         ],
         "xaxis": "x",
         "y": [
          9393661,
          9684508,
          9921448,
          10167668,
          10409928,
          10649021,
          10899017,
          11142341,
          11386122,
          11656239,
          11940970,
          12254153,
          12591513,
          12918469,
          13237831,
          13542896,
          13852487,
          14192101,
          14546244,
          14911588,
          15288155,
          15682671,
          16086462,
          16485404,
          16911458,
          17404738,
          17905042,
          18386460,
          18905576,
          19456118,
          19983808,
          20500578,
          21050260,
          21581688,
          22072876,
          22575868,
          23086980,
          23581914,
          23989244,
          24367404,
          24750820,
          25128872,
          25542832,
          25963164,
          26340292,
          26787130,
          27298976,
          27704506,
          28092308,
          28629486,
          29264746,
          29917160,
          30585526,
          31239192,
          31933734,
          32704952,
          33511882,
          34319510,
          35167750,
          35970776,
          36739270,
          37498870,
          38183570,
          38824220,
          39456324,
          40085576,
          40600428,
          41102304,
          41705100,
          42313264,
          42887228,
          43436140
         ],
         "yaxis": "y"
        },
        {
         "hovertemplate": "Continent=Asia (UN)<br>Year=%{x}<br>Population of children under the age of 1=%{y}<extra></extra>",
         "legendgroup": "Asia (UN)",
         "line": {
          "color": "#EF553B",
          "dash": "solid"
         },
         "marker": {
          "symbol": "circle"
         },
         "mode": "lines",
         "name": "Asia (UN)",
         "orientation": "v",
         "showlegend": true,
         "type": "scatter",
         "x": [
          1950,
          1951,
          1952,
          1953,
          1954,
          1955,
          1956,
          1957,
          1958,
          1959,
          1960,
          1961,
          1962,
          1963,
          1964,
          1965,
          1966,
          1967,
          1968,
          1969,
          1970,
          1971,
          1972,
          1973,
          1974,
          1975,
          1976,
          1977,
          1978,
          1979,
          1980,
          1981,
          1982,
          1983,
          1984,
          1985,
          1986,
          1987,
          1988,
          1989,
          1990,
          1991,
          1992,
          1993,
          1994,
          1995,
          1996,
          1997,
          1998,
          1999,
          2000,
          2001,
          2002,
          2003,
          2004,
          2005,
          2006,
          2007,
          2008,
          2009,
          2010,
          2011,
          2012,
          2013,
          2014,
          2015,
          2016,
          2017,
          2018,
          2019,
          2020,
          2021
         ],
         "xaxis": "x",
         "y": [
          49825476,
          51359204,
          53441104,
          55347424,
          56284908,
          57757990,
          58110908,
          59636172,
          60507990,
          57922388,
          55853252,
          55153172,
          60096892,
          68983830,
          71334500,
          70455304,
          70537490,
          70027020,
          72082160,
          74270296,
          74814690,
          75108210,
          74589144,
          74412560,
          73656800,
          71860680,
          70674560,
          69982230,
          69699980,
          71055660,
          72951170,
          74716180,
          76915120,
          77243250,
          77224990,
          78916550,
          80927896,
          83009704,
          83385340,
          83452500,
          84476710,
          82594240,
          79441270,
          78254616,
          77563896,
          77008630,
          76323860,
          75667976,
          75136824,
          74710630,
          75080290,
          75380880,
          75009576,
          74700600,
          74609200,
          74618210,
          74637590,
          75084800,
          75754290,
          76301656,
          76463960,
          76405970,
          77154540,
          77340280,
          76615304,
          75719480,
          75320540,
          75321700,
          73443680,
          71091990,
          68865680,
          66681124
         ],
         "yaxis": "y"
        },
        {
         "hovertemplate": "Continent=Europe (UN)<br>Year=%{x}<br>Population of children under the age of 1=%{y}<extra></extra>",
         "legendgroup": "Europe (UN)",
         "line": {
          "color": "#00cc96",
          "dash": "solid"
         },
         "marker": {
          "symbol": "circle"
         },
         "mode": "lines",
         "name": "Europe (UN)",
         "orientation": "v",
         "showlegend": true,
         "type": "scatter",
         "x": [
          1950,
          1951,
          1952,
          1953,
          1954,
          1955,
          1956,
          1957,
          1958,
          1959,
          1960,
          1961,
          1962,
          1963,
          1964,
          1965,
          1966,
          1967,
          1968,
          1969,
          1970,
          1971,
          1972,
          1973,
          1974,
          1975,
          1976,
          1977,
          1978,
          1979,
          1980,
          1981,
          1982,
          1983,
          1984,
          1985,
          1986,
          1987,
          1988,
          1989,
          1990,
          1991,
          1992,
          1993,
          1994,
          1995,
          1996,
          1997,
          1998,
          1999,
          2000,
          2001,
          2002,
          2003,
          2004,
          2005,
          2006,
          2007,
          2008,
          2009,
          2010,
          2011,
          2012,
          2013,
          2014,
          2015,
          2016,
          2017,
          2018,
          2019,
          2020,
          2021
         ],
         "xaxis": "x",
         "y": [
          12170502,
          11484118,
          11536346,
          11572475,
          11596178,
          11619363,
          11650667,
          11712063,
          11700410,
          11670309,
          11662204,
          11631280,
          11524830,
          11392612,
          11265987,
          11011934,
          10790954,
          10643654,
          10489877,
          10362757,
          10342039,
          10456686,
          10495558,
          10344862,
          10278977,
          10253440,
          10149814,
          10061097,
          9940310,
          9901383,
          9955606,
          9925815,
          9908768,
          9997515,
          9969975,
          9861947,
          9866908,
          9876125,
          9755479,
          9522637,
          9245622,
          8921501,
          8575298,
          8291427,
          8046499,
          7831901,
          7689417,
          7589877,
          7474295,
          7358082,
          7298640,
          7220797,
          7187967,
          7307752,
          7429646,
          7467549,
          7523196,
          7701108,
          7954353,
          8093596,
          8037432,
          7994474,
          8049207,
          8011766,
          7953775,
          7945178,
          7897989,
          7718792,
          7427380,
          7181025,
          6982498,
          6881596
         ],
         "yaxis": "y"
        },
        {
         "hovertemplate": "Continent=Latin America and the Caribbean (UN)<br>Year=%{x}<br>Population of children under the age of 1=%{y}<extra></extra>",
         "legendgroup": "Latin America and the Caribbean (UN)",
         "line": {
          "color": "#ab63fa",
          "dash": "solid"
         },
         "marker": {
          "symbol": "circle"
         },
         "mode": "lines",
         "name": "Latin America and the Caribbean (UN)",
         "orientation": "v",
         "showlegend": true,
         "type": "scatter",
         "x": [
          1950,
          1951,
          1952,
          1953,
          1954,
          1955,
          1956,
          1957,
          1958,
          1959,
          1960,
          1961,
          1962,
          1963,
          1964,
          1965,
          1966,
          1967,
          1968,
          1969,
          1970,
          1971,
          1972,
          1973,
          1974,
          1975,
          1976,
          1977,
          1978,
          1979,
          1980,
          1981,
          1982,
          1983,
          1984,
          1985,
          1986,
          1987,
          1988,
          1989,
          1990,
          1991,
          1992,
          1993,
          1994,
          1995,
          1996,
          1997,
          1998,
          1999,
          2000,
          2001,
          2002,
          2003,
          2004,
          2005,
          2006,
          2007,
          2008,
          2009,
          2010,
          2011,
          2012,
          2013,
          2014,
          2015,
          2016,
          2017,
          2018,
          2019,
          2020,
          2021
         ],
         "xaxis": "x",
         "y": [
          6527430,
          6700810,
          6884111,
          7068695,
          7255495,
          7441382,
          7631464,
          7829422,
          8022685,
          8211319.5,
          8405892,
          8605390,
          8806311,
          8996715,
          9159395,
          9286529,
          9390694,
          9483329,
          9568303,
          9666337,
          9780585,
          9914705,
          10043275,
          10159975,
          10276486,
          10401352,
          10549327,
          10695303,
          10833138,
          10948520,
          11059672,
          11183805,
          11285213,
          11352661,
          11396044,
          11430576,
          11462374,
          11498745,
          11532977,
          11548055,
          11573367,
          11589927,
          11561495,
          11544175,
          11548379,
          11539753,
          11498470,
          11441844,
          11407496,
          11368466,
          11325680,
          11262552,
          11156831,
          11032461,
          10954495,
          10924191,
          10868186,
          10796452,
          10732940,
          10700832,
          10687934,
          10679861,
          10646951,
          10571090,
          10523038,
          10503246,
          10390656,
          10265690,
          10170271,
          10004419,
          9820726,
          9661352
         ],
         "yaxis": "y"
        },
        {
         "hovertemplate": "Continent=Northern America (UN)<br>Year=%{x}<br>Population of children under the age of 1=%{y}<extra></extra>",
         "legendgroup": "Northern America (UN)",
         "line": {
          "color": "#FFA15A",
          "dash": "solid"
         },
         "marker": {
          "symbol": "circle"
         },
         "mode": "lines",
         "name": "Northern America (UN)",
         "orientation": "v",
         "showlegend": true,
         "type": "scatter",
         "x": [
          1950,
          1951,
          1952,
          1953,
          1954,
          1955,
          1956,
          1957,
          1958,
          1959,
          1960,
          1961,
          1962,
          1963,
          1964,
          1965,
          1966,
          1967,
          1968,
          1969,
          1970,
          1971,
          1972,
          1973,
          1974,
          1975,
          1976,
          1977,
          1978,
          1979,
          1980,
          1981,
          1982,
          1983,
          1984,
          1985,
          1986,
          1987,
          1988,
          1989,
          1990,
          1991,
          1992,
          1993,
          1994,
          1995,
          1996,
          1997,
          1998,
          1999,
          2000,
          2001,
          2002,
          2003,
          2004,
          2005,
          2006,
          2007,
          2008,
          2009,
          2010,
          2011,
          2012,
          2013,
          2014,
          2015,
          2016,
          2017,
          2018,
          2019,
          2020,
          2021
         ],
         "xaxis": "x",
         "y": [
          3466522,
          3892598,
          4014573,
          3806746,
          3941867,
          4040677,
          4157368.2,
          4289904,
          4379859,
          4422608,
          4466576,
          4496283,
          4461321,
          4389902,
          4285087,
          4118663,
          3921555,
          3761976,
          3684428,
          3698981,
          3773380,
          3768769,
          3600459,
          3417999,
          3365345,
          3388471,
          3428738,
          3515184,
          3618240,
          3719803,
          3825852,
          3902884,
          3941924,
          3934360,
          3927690,
          3971584,
          4022593,
          4050998,
          4097235.8,
          4201547,
          4316572,
          4379798,
          4365763,
          4298111,
          4233972,
          4188374,
          4155793,
          4138372,
          4143525,
          4175849,
          4254568,
          4332842,
          4348426,
          4357559,
          4383931,
          4402954,
          4452516,
          4518200,
          4513206,
          4435818,
          4377501,
          4368565,
          4366739,
          4359360,
          4363721,
          4373061,
          4364534,
          4326801,
          4261834,
          4195792,
          4103442,
          4064492
         ],
         "yaxis": "y"
        },
        {
         "hovertemplate": "Continent=Oceania (UN)<br>Year=%{x}<br>Population of children under the age of 1=%{y}<extra></extra>",
         "legendgroup": "Oceania (UN)",
         "line": {
          "color": "#19d3f3",
          "dash": "solid"
         },
         "marker": {
          "symbol": "circle"
         },
         "mode": "lines",
         "name": "Oceania (UN)",
         "orientation": "v",
         "showlegend": true,
         "type": "scatter",
         "x": [
          1950,
          1951,
          1952,
          1953,
          1954,
          1955,
          1956,
          1957,
          1958,
          1959,
          1960,
          1961,
          1962,
          1963,
          1964,
          1965,
          1966,
          1967,
          1968,
          1969,
          1970,
          1971,
          1972,
          1973,
          1974,
          1975,
          1976,
          1977,
          1978,
          1979,
          1980,
          1981,
          1982,
          1983,
          1984,
          1985,
          1986,
          1987,
          1988,
          1989,
          1990,
          1991,
          1992,
          1993,
          1994,
          1995,
          1996,
          1997,
          1998,
          1999,
          2000,
          2001,
          2002,
          2003,
          2004,
          2005,
          2006,
          2007,
          2008,
          2009,
          2010,
          2011,
          2012,
          2013,
          2014,
          2015,
          2016,
          2017,
          2018,
          2019,
          2020,
          2021
         ],
         "xaxis": "x",
         "y": [
          328084,
          337659,
          347157,
          355743,
          361964,
          369419,
          378784,
          388382,
          398418,
          407296,
          416134,
          425474,
          431060,
          432054,
          429782,
          426224,
          427190,
          433273,
          443053,
          455226,
          467264,
          480305,
          485799,
          477567,
          465724,
          456166,
          449495,
          447234,
          446427,
          445983,
          449512,
          457370,
          466075,
          473182,
          478532,
          482853,
          487412,
          494711,
          503635,
          512188,
          522056.03,
          529547,
          532640,
          535448,
          538730,
          541442,
          543870,
          546555,
          549303,
          553937,
          560127,
          564379,
          567495,
          573096,
          581207,
          591747,
          608159,
          627747,
          642973,
          652468,
          657311,
          661213,
          669866,
          677021,
          678462,
          683082,
          687995,
          685313,
          681756,
          684840,
          685613,
          684476
         ],
         "yaxis": "y"
        }
       ],
       "layout": {
        "legend": {
         "title": {
          "text": "Continent"
         },
         "tracegroupgap": 0
        },
        "template": {
         "data": {
          "bar": [
           {
            "error_x": {
             "color": "#2a3f5f"
            },
            "error_y": {
             "color": "#2a3f5f"
            },
            "marker": {
             "line": {
              "color": "#E5ECF6",
              "width": 0.5
             },
             "pattern": {
              "fillmode": "overlay",
              "size": 10,
              "solidity": 0.2
             }
            },
            "type": "bar"
           }
          ],
          "barpolar": [
           {
            "marker": {
             "line": {
              "color": "#E5ECF6",
              "width": 0.5
             },
             "pattern": {
              "fillmode": "overlay",
              "size": 10,
              "solidity": 0.2
             }
            },
            "type": "barpolar"
           }
          ],
          "carpet": [
           {
            "aaxis": {
             "endlinecolor": "#2a3f5f",
             "gridcolor": "white",
             "linecolor": "white",
             "minorgridcolor": "white",
             "startlinecolor": "#2a3f5f"
            },
            "baxis": {
             "endlinecolor": "#2a3f5f",
             "gridcolor": "white",
             "linecolor": "white",
             "minorgridcolor": "white",
             "startlinecolor": "#2a3f5f"
            },
            "type": "carpet"
           }
          ],
          "choropleth": [
           {
            "colorbar": {
             "outlinewidth": 0,
             "ticks": ""
            },
            "type": "choropleth"
           }
          ],
          "contour": [
           {
            "colorbar": {
             "outlinewidth": 0,
             "ticks": ""
            },
            "colorscale": [
             [
              0,
              "#0d0887"
             ],
             [
              0.1111111111111111,
              "#46039f"
             ],
             [
              0.2222222222222222,
              "#7201a8"
             ],
             [
              0.3333333333333333,
              "#9c179e"
             ],
             [
              0.4444444444444444,
              "#bd3786"
             ],
             [
              0.5555555555555556,
              "#d8576b"
             ],
             [
              0.6666666666666666,
              "#ed7953"
             ],
             [
              0.7777777777777778,
              "#fb9f3a"
             ],
             [
              0.8888888888888888,
              "#fdca26"
             ],
             [
              1,
              "#f0f921"
             ]
            ],
            "type": "contour"
           }
          ],
          "contourcarpet": [
           {
            "colorbar": {
             "outlinewidth": 0,
             "ticks": ""
            },
            "type": "contourcarpet"
           }
          ],
          "heatmap": [
           {
            "colorbar": {
             "outlinewidth": 0,
             "ticks": ""
            },
            "colorscale": [
             [
              0,
              "#0d0887"
             ],
             [
              0.1111111111111111,
              "#46039f"
             ],
             [
              0.2222222222222222,
              "#7201a8"
             ],
             [
              0.3333333333333333,
              "#9c179e"
             ],
             [
              0.4444444444444444,
              "#bd3786"
             ],
             [
              0.5555555555555556,
              "#d8576b"
             ],
             [
              0.6666666666666666,
              "#ed7953"
             ],
             [
              0.7777777777777778,
              "#fb9f3a"
             ],
             [
              0.8888888888888888,
              "#fdca26"
             ],
             [
              1,
              "#f0f921"
             ]
            ],
            "type": "heatmap"
           }
          ],
          "heatmapgl": [
           {
            "colorbar": {
             "outlinewidth": 0,
             "ticks": ""
            },
            "colorscale": [
             [
              0,
              "#0d0887"
             ],
             [
              0.1111111111111111,
              "#46039f"
             ],
             [
              0.2222222222222222,
              "#7201a8"
             ],
             [
              0.3333333333333333,
              "#9c179e"
             ],
             [
              0.4444444444444444,
              "#bd3786"
             ],
             [
              0.5555555555555556,
              "#d8576b"
             ],
             [
              0.6666666666666666,
              "#ed7953"
             ],
             [
              0.7777777777777778,
              "#fb9f3a"
             ],
             [
              0.8888888888888888,
              "#fdca26"
             ],
             [
              1,
              "#f0f921"
             ]
            ],
            "type": "heatmapgl"
           }
          ],
          "histogram": [
           {
            "marker": {
             "pattern": {
              "fillmode": "overlay",
              "size": 10,
              "solidity": 0.2
             }
            },
            "type": "histogram"
           }
          ],
          "histogram2d": [
           {
            "colorbar": {
             "outlinewidth": 0,
             "ticks": ""
            },
            "colorscale": [
             [
              0,
              "#0d0887"
             ],
             [
              0.1111111111111111,
              "#46039f"
             ],
             [
              0.2222222222222222,
              "#7201a8"
             ],
             [
              0.3333333333333333,
              "#9c179e"
             ],
             [
              0.4444444444444444,
              "#bd3786"
             ],
             [
              0.5555555555555556,
              "#d8576b"
             ],
             [
              0.6666666666666666,
              "#ed7953"
             ],
             [
              0.7777777777777778,
              "#fb9f3a"
             ],
             [
              0.8888888888888888,
              "#fdca26"
             ],
             [
              1,
              "#f0f921"
             ]
            ],
            "type": "histogram2d"
           }
          ],
          "histogram2dcontour": [
           {
            "colorbar": {
             "outlinewidth": 0,
             "ticks": ""
            },
            "colorscale": [
             [
              0,
              "#0d0887"
             ],
             [
              0.1111111111111111,
              "#46039f"
             ],
             [
              0.2222222222222222,
              "#7201a8"
             ],
             [
              0.3333333333333333,
              "#9c179e"
             ],
             [
              0.4444444444444444,
              "#bd3786"
             ],
             [
              0.5555555555555556,
              "#d8576b"
             ],
             [
              0.6666666666666666,
              "#ed7953"
             ],
             [
              0.7777777777777778,
              "#fb9f3a"
             ],
             [
              0.8888888888888888,
              "#fdca26"
             ],
             [
              1,
              "#f0f921"
             ]
            ],
            "type": "histogram2dcontour"
           }
          ],
          "mesh3d": [
           {
            "colorbar": {
             "outlinewidth": 0,
             "ticks": ""
            },
            "type": "mesh3d"
           }
          ],
          "parcoords": [
           {
            "line": {
             "colorbar": {
              "outlinewidth": 0,
              "ticks": ""
             }
            },
            "type": "parcoords"
           }
          ],
          "pie": [
           {
            "automargin": true,
            "type": "pie"
           }
          ],
          "scatter": [
           {
            "fillpattern": {
             "fillmode": "overlay",
             "size": 10,
             "solidity": 0.2
            },
            "type": "scatter"
           }
          ],
          "scatter3d": [
           {
            "line": {
             "colorbar": {
              "outlinewidth": 0,
              "ticks": ""
             }
            },
            "marker": {
             "colorbar": {
              "outlinewidth": 0,
              "ticks": ""
             }
            },
            "type": "scatter3d"
           }
          ],
          "scattercarpet": [
           {
            "marker": {
             "colorbar": {
              "outlinewidth": 0,
              "ticks": ""
             }
            },
            "type": "scattercarpet"
           }
          ],
          "scattergeo": [
           {
            "marker": {
             "colorbar": {
              "outlinewidth": 0,
              "ticks": ""
             }
            },
            "type": "scattergeo"
           }
          ],
          "scattergl": [
           {
            "marker": {
             "colorbar": {
              "outlinewidth": 0,
              "ticks": ""
             }
            },
            "type": "scattergl"
           }
          ],
          "scattermapbox": [
           {
            "marker": {
             "colorbar": {
              "outlinewidth": 0,
              "ticks": ""
             }
            },
            "type": "scattermapbox"
           }
          ],
          "scatterpolar": [
           {
            "marker": {
             "colorbar": {
              "outlinewidth": 0,
              "ticks": ""
             }
            },
            "type": "scatterpolar"
           }
          ],
          "scatterpolargl": [
           {
            "marker": {
             "colorbar": {
              "outlinewidth": 0,
              "ticks": ""
             }
            },
            "type": "scatterpolargl"
           }
          ],
          "scatterternary": [
           {
            "marker": {
             "colorbar": {
              "outlinewidth": 0,
              "ticks": ""
             }
            },
            "type": "scatterternary"
           }
          ],
          "surface": [
           {
            "colorbar": {
             "outlinewidth": 0,
             "ticks": ""
            },
            "colorscale": [
             [
              0,
              "#0d0887"
             ],
             [
              0.1111111111111111,
              "#46039f"
             ],
             [
              0.2222222222222222,
              "#7201a8"
             ],
             [
              0.3333333333333333,
              "#9c179e"
             ],
             [
              0.4444444444444444,
              "#bd3786"
             ],
             [
              0.5555555555555556,
              "#d8576b"
             ],
             [
              0.6666666666666666,
              "#ed7953"
             ],
             [
              0.7777777777777778,
              "#fb9f3a"
             ],
             [
              0.8888888888888888,
              "#fdca26"
             ],
             [
              1,
              "#f0f921"
             ]
            ],
            "type": "surface"
           }
          ],
          "table": [
           {
            "cells": {
             "fill": {
              "color": "#EBF0F8"
             },
             "line": {
              "color": "white"
             }
            },
            "header": {
             "fill": {
              "color": "#C8D4E3"
             },
             "line": {
              "color": "white"
             }
            },
            "type": "table"
           }
          ]
         },
         "layout": {
          "annotationdefaults": {
           "arrowcolor": "#2a3f5f",
           "arrowhead": 0,
           "arrowwidth": 1
          },
          "autotypenumbers": "strict",
          "coloraxis": {
           "colorbar": {
            "outlinewidth": 0,
            "ticks": ""
           }
          },
          "colorscale": {
           "diverging": [
            [
             0,
             "#8e0152"
            ],
            [
             0.1,
             "#c51b7d"
            ],
            [
             0.2,
             "#de77ae"
            ],
            [
             0.3,
             "#f1b6da"
            ],
            [
             0.4,
             "#fde0ef"
            ],
            [
             0.5,
             "#f7f7f7"
            ],
            [
             0.6,
             "#e6f5d0"
            ],
            [
             0.7,
             "#b8e186"
            ],
            [
             0.8,
             "#7fbc41"
            ],
            [
             0.9,
             "#4d9221"
            ],
            [
             1,
             "#276419"
            ]
           ],
           "sequential": [
            [
             0,
             "#0d0887"
            ],
            [
             0.1111111111111111,
             "#46039f"
            ],
            [
             0.2222222222222222,
             "#7201a8"
            ],
            [
             0.3333333333333333,
             "#9c179e"
            ],
            [
             0.4444444444444444,
             "#bd3786"
            ],
            [
             0.5555555555555556,
             "#d8576b"
            ],
            [
             0.6666666666666666,
             "#ed7953"
            ],
            [
             0.7777777777777778,
             "#fb9f3a"
            ],
            [
             0.8888888888888888,
             "#fdca26"
            ],
            [
             1,
             "#f0f921"
            ]
           ],
           "sequentialminus": [
            [
             0,
             "#0d0887"
            ],
            [
             0.1111111111111111,
             "#46039f"
            ],
            [
             0.2222222222222222,
             "#7201a8"
            ],
            [
             0.3333333333333333,
             "#9c179e"
            ],
            [
             0.4444444444444444,
             "#bd3786"
            ],
            [
             0.5555555555555556,
             "#d8576b"
            ],
            [
             0.6666666666666666,
             "#ed7953"
            ],
            [
             0.7777777777777778,
             "#fb9f3a"
            ],
            [
             0.8888888888888888,
             "#fdca26"
            ],
            [
             1,
             "#f0f921"
            ]
           ]
          },
          "colorway": [
           "#636efa",
           "#EF553B",
           "#00cc96",
           "#ab63fa",
           "#FFA15A",
           "#19d3f3",
           "#FF6692",
           "#B6E880",
           "#FF97FF",
           "#FECB52"
          ],
          "font": {
           "color": "#2a3f5f"
          },
          "geo": {
           "bgcolor": "white",
           "lakecolor": "white",
           "landcolor": "#E5ECF6",
           "showlakes": true,
           "showland": true,
           "subunitcolor": "white"
          },
          "hoverlabel": {
           "align": "left"
          },
          "hovermode": "closest",
          "mapbox": {
           "style": "light"
          },
          "paper_bgcolor": "white",
          "plot_bgcolor": "#E5ECF6",
          "polar": {
           "angularaxis": {
            "gridcolor": "white",
            "linecolor": "white",
            "ticks": ""
           },
           "bgcolor": "#E5ECF6",
           "radialaxis": {
            "gridcolor": "white",
            "linecolor": "white",
            "ticks": ""
           }
          },
          "scene": {
           "xaxis": {
            "backgroundcolor": "#E5ECF6",
            "gridcolor": "white",
            "gridwidth": 2,
            "linecolor": "white",
            "showbackground": true,
            "ticks": "",
            "zerolinecolor": "white"
           },
           "yaxis": {
            "backgroundcolor": "#E5ECF6",
            "gridcolor": "white",
            "gridwidth": 2,
            "linecolor": "white",
            "showbackground": true,
            "ticks": "",
            "zerolinecolor": "white"
           },
           "zaxis": {
            "backgroundcolor": "#E5ECF6",
            "gridcolor": "white",
            "gridwidth": 2,
            "linecolor": "white",
            "showbackground": true,
            "ticks": "",
            "zerolinecolor": "white"
           }
          },
          "shapedefaults": {
           "line": {
            "color": "#2a3f5f"
           }
          },
          "ternary": {
           "aaxis": {
            "gridcolor": "white",
            "linecolor": "white",
            "ticks": ""
           },
           "baxis": {
            "gridcolor": "white",
            "linecolor": "white",
            "ticks": ""
           },
           "bgcolor": "#E5ECF6",
           "caxis": {
            "gridcolor": "white",
            "linecolor": "white",
            "ticks": ""
           }
          },
          "title": {
           "x": 0.05
          },
          "xaxis": {
           "automargin": true,
           "gridcolor": "white",
           "linecolor": "white",
           "ticks": "",
           "title": {
            "standoff": 15
           },
           "zerolinecolor": "white",
           "zerolinewidth": 2
          },
          "yaxis": {
           "automargin": true,
           "gridcolor": "white",
           "linecolor": "white",
           "ticks": "",
           "title": {
            "standoff": 15
           },
           "zerolinecolor": "white",
           "zerolinewidth": 2
          }
         }
        },
        "title": {
         "text": "Population of children under the age of 1 in every continents between 1950 and 2021"
        },
        "xaxis": {
         "anchor": "y",
         "domain": [
          0,
          1
         ],
         "title": {
          "text": "Year"
         }
        },
        "yaxis": {
         "anchor": "x",
         "domain": [
          0,
          1
         ],
         "title": {
          "text": "Population of children under the age of 1"
         }
        }
       }
      }
     },
     "metadata": {},
     "output_type": "display_data"
    }
   ],
   "source": [
    "# Filter the DataFrame to select data related to other continents\n",
    "continents_data = filtered_pop[~filtered_pop['Continents and World'].isin(['World'])]\n",
    "\n",
    "# Columns to include in the plot\n",
    "columns_to_plot = ['Population of children under the age of 1']\n",
    "\n",
    "# Create an interactive line plot with multiple curves using Plotly Express\n",
    "fig = px.line(continents_data, x='Year', y='Population of children under the age of 1', color='Continents and World', \n",
    "              title='Population of children under the age of 1 in every continents between 1950 and 2021', \n",
    "              labels={'value': 'Population', 'Year': 'Year', 'Continents and World': 'Continent'})\n",
    "\n",
    "# Show the interactive line plot\n",
    "fig.show()\n"
   ]
  },
  {
   "cell_type": "markdown",
   "metadata": {},
   "source": [
    "## 2.2: Population aged 20 to 29 years"
   ]
  },
  {
   "cell_type": "markdown",
   "metadata": {},
   "source": [
    "This plot represents the data for young people (20 to 29 years) in each continent.\n",
    "\n",
    "We see a clear tendency for Africa which sees it young adult population increase rapidly. On the other hand, after a continuous growth in Asia, this one is going downwards, it might be explained by the \"one child policy\", which had been abolished in 2015, in ruled since 1979.\n",
    "\n",
    "Finally, the European young adult population is decreasing, this may be the sign of a decreasing fertility within European countries but also with population who do not wish to have children. Moreover, the issue is not that recent as the population started to decline in 1986."
   ]
  },
  {
   "cell_type": "code",
   "execution_count": 22,
   "metadata": {},
   "outputs": [
    {
     "data": {
      "application/vnd.plotly.v1+json": {
       "config": {
        "plotlyServerURL": "https://plot.ly"
       },
       "data": [
        {
         "hovertemplate": "Continent=Africa (UN)<br>Year=%{x}<br>Population aged 20 to 29 years=%{y}<extra></extra>",
         "legendgroup": "Africa (UN)",
         "line": {
          "color": "#636efa",
          "dash": "solid"
         },
         "marker": {
          "symbol": "circle"
         },
         "mode": "lines",
         "name": "Africa (UN)",
         "orientation": "v",
         "showlegend": true,
         "type": "scatter",
         "x": [
          1950,
          1951,
          1952,
          1953,
          1954,
          1955,
          1956,
          1957,
          1958,
          1959,
          1960,
          1961,
          1962,
          1963,
          1964,
          1965,
          1966,
          1967,
          1968,
          1969,
          1970,
          1971,
          1972,
          1973,
          1974,
          1975,
          1976,
          1977,
          1978,
          1979,
          1980,
          1981,
          1982,
          1983,
          1984,
          1985,
          1986,
          1987,
          1988,
          1989,
          1990,
          1991,
          1992,
          1993,
          1994,
          1995,
          1996,
          1997,
          1998,
          1999,
          2000,
          2001,
          2002,
          2003,
          2004,
          2005,
          2006,
          2007,
          2008,
          2009,
          2010,
          2011,
          2012,
          2013,
          2014,
          2015,
          2016,
          2017,
          2018,
          2019,
          2020,
          2021
         ],
         "xaxis": "x",
         "y": [
          37677212,
          38505124,
          39329870,
          40120050,
          40875776,
          41610904,
          42335764,
          43057160,
          43720016,
          44386756,
          45137010,
          45933276,
          46773504,
          47678656,
          48687372,
          49815024,
          51039200,
          52349384,
          53703092,
          55061092,
          56489348,
          57995988,
          59561184,
          61259028,
          63105068,
          65011040,
          66931930,
          68944330,
          71214310,
          73708170,
          76277050,
          78834150,
          81409130,
          83936744,
          86431100,
          89002184,
          91745224,
          94683890,
          97739730,
          100897970,
          104050620,
          107146970,
          110142670,
          113052000,
          116143330,
          119380040,
          122494710,
          125682350,
          129192000,
          133008800,
          137065800,
          141340880,
          145826030,
          150532080,
          155417920,
          160352480,
          165280800,
          170183920,
          174951040,
          179531200,
          183902530,
          187957740,
          191913040,
          196025400,
          200133090,
          204278270,
          208331620,
          212302030,
          216436430,
          220823950,
          225711820,
          230999710
         ],
         "yaxis": "y"
        },
        {
         "hovertemplate": "Continent=Asia (UN)<br>Year=%{x}<br>Population aged 20 to 29 years=%{y}<extra></extra>",
         "legendgroup": "Asia (UN)",
         "line": {
          "color": "#EF553B",
          "dash": "solid"
         },
         "marker": {
          "symbol": "circle"
         },
         "mode": "lines",
         "name": "Asia (UN)",
         "orientation": "v",
         "showlegend": true,
         "type": "scatter",
         "x": [
          1950,
          1951,
          1952,
          1953,
          1954,
          1955,
          1956,
          1957,
          1958,
          1959,
          1960,
          1961,
          1962,
          1963,
          1964,
          1965,
          1966,
          1967,
          1968,
          1969,
          1970,
          1971,
          1972,
          1973,
          1974,
          1975,
          1976,
          1977,
          1978,
          1979,
          1980,
          1981,
          1982,
          1983,
          1984,
          1985,
          1986,
          1987,
          1988,
          1989,
          1990,
          1991,
          1992,
          1993,
          1994,
          1995,
          1996,
          1997,
          1998,
          1999,
          2000,
          2001,
          2002,
          2003,
          2004,
          2005,
          2006,
          2007,
          2008,
          2009,
          2010,
          2011,
          2012,
          2013,
          2014,
          2015,
          2016,
          2017,
          2018,
          2019,
          2020,
          2021
         ],
         "xaxis": "x",
         "y": [
          227706660,
          232130910,
          236827220,
          241922620,
          246899860,
          251657020,
          256619490,
          261504300,
          265751780,
          269288740,
          272426050,
          275707500,
          278917820,
          281424060,
          283718900,
          286292220,
          289586660,
          294408260,
          300938020,
          309714200,
          320688420,
          332246530,
          345455550,
          360491970,
          376028380,
          392412450,
          408163870,
          423428670,
          437379840,
          447240220,
          453900350,
          459488100,
          467797980,
          482229470,
          497858100,
          511379260,
          524731000,
          536680830,
          550480600,
          568622900,
          588543360,
          608599800,
          623314700,
          630053400,
          634295800,
          637815200,
          640155500,
          642321150,
          642417660,
          641809400,
          642566500,
          644741950,
          649008960,
          653404900,
          658337300,
          666588100,
          678152800,
          692353300,
          706996800,
          720438460,
          733018500,
          742034200,
          745772300,
          747764860,
          749167000,
          748600260,
          745946800,
          741011400,
          735087170,
          728692860,
          721598800,
          716526700
         ],
         "yaxis": "y"
        },
        {
         "hovertemplate": "Continent=Europe (UN)<br>Year=%{x}<br>Population aged 20 to 29 years=%{y}<extra></extra>",
         "legendgroup": "Europe (UN)",
         "line": {
          "color": "#00cc96",
          "dash": "solid"
         },
         "marker": {
          "symbol": "circle"
         },
         "mode": "lines",
         "name": "Europe (UN)",
         "orientation": "v",
         "showlegend": true,
         "type": "scatter",
         "x": [
          1950,
          1951,
          1952,
          1953,
          1954,
          1955,
          1956,
          1957,
          1958,
          1959,
          1960,
          1961,
          1962,
          1963,
          1964,
          1965,
          1966,
          1967,
          1968,
          1969,
          1970,
          1971,
          1972,
          1973,
          1974,
          1975,
          1976,
          1977,
          1978,
          1979,
          1980,
          1981,
          1982,
          1983,
          1984,
          1985,
          1986,
          1987,
          1988,
          1989,
          1990,
          1991,
          1992,
          1993,
          1994,
          1995,
          1996,
          1997,
          1998,
          1999,
          2000,
          2001,
          2002,
          2003,
          2004,
          2005,
          2006,
          2007,
          2008,
          2009,
          2010,
          2011,
          2012,
          2013,
          2014,
          2015,
          2016,
          2017,
          2018,
          2019,
          2020,
          2021
         ],
         "xaxis": "x",
         "y": [
          92724730,
          93737300,
          94171736,
          94285256,
          94395020,
          94588670,
          94738120,
          94901210,
          94917700,
          94980740,
          94940220,
          94724040,
          94081730,
          93024730,
          92057830,
          90762290,
          89945400,
          89874536,
          89912880,
          90292990,
          91044750,
          92244930,
          94445120,
          97447520,
          100609720,
          103854540,
          106205760,
          107413570,
          108380890,
          109133530,
          109855460,
          110706390,
          111397250,
          111982920,
          112328230,
          112282290,
          112022010,
          111599570,
          110961250,
          110147576,
          109237930,
          108355624,
          107537240,
          106592730,
          105636904,
          104905120,
          104350290,
          103791900,
          103190890,
          102691270,
          102440870,
          102281730,
          102238140,
          102531940,
          102813980,
          102880500,
          102956616,
          103223820,
          103462480,
          103346990,
          102836420,
          102032590,
          100942300,
          99354770,
          97425620,
          95426060,
          93340300,
          91162310,
          88990980,
          86937200,
          84999340,
          83254584
         ],
         "yaxis": "y"
        },
        {
         "hovertemplate": "Continent=Latin America and the Caribbean (UN)<br>Year=%{x}<br>Population aged 20 to 29 years=%{y}<extra></extra>",
         "legendgroup": "Latin America and the Caribbean (UN)",
         "line": {
          "color": "#ab63fa",
          "dash": "solid"
         },
         "marker": {
          "symbol": "circle"
         },
         "mode": "lines",
         "name": "Latin America and the Caribbean (UN)",
         "orientation": "v",
         "showlegend": true,
         "type": "scatter",
         "x": [
          1950,
          1951,
          1952,
          1953,
          1954,
          1955,
          1956,
          1957,
          1958,
          1959,
          1960,
          1961,
          1962,
          1963,
          1964,
          1965,
          1966,
          1967,
          1968,
          1969,
          1970,
          1971,
          1972,
          1973,
          1974,
          1975,
          1976,
          1977,
          1978,
          1979,
          1980,
          1981,
          1982,
          1983,
          1984,
          1985,
          1986,
          1987,
          1988,
          1989,
          1990,
          1991,
          1992,
          1993,
          1994,
          1995,
          1996,
          1997,
          1998,
          1999,
          2000,
          2001,
          2002,
          2003,
          2004,
          2005,
          2006,
          2007,
          2008,
          2009,
          2010,
          2011,
          2012,
          2013,
          2014,
          2015,
          2016,
          2017,
          2018,
          2019,
          2020,
          2021
         ],
         "xaxis": "x",
         "y": [
          28272866,
          28995448,
          29673494,
          30298546,
          30874980,
          31425238,
          31971290,
          32514812,
          33061886,
          33653188,
          34309436,
          35037064,
          35829790,
          36667716,
          37563160,
          38525496,
          39541830,
          40645140,
          41870460,
          43220680,
          44676456,
          46189212,
          47755356,
          49391280,
          51091976,
          52838332,
          54604268,
          56420984,
          58286080,
          60134188,
          61987468,
          63861588,
          65743504,
          67639870,
          69504100,
          71282050,
          72945336,
          74482320,
          75917950,
          77280800,
          78646990,
          80008200,
          81309200,
          82553380,
          83739070,
          84897620,
          86077410,
          87310880,
          88599250,
          89927710,
          91265050,
          92598790,
          93932180,
          95234800,
          96515090,
          97750490,
          98885120,
          99933710,
          100879560,
          101741510,
          102622050,
          103475110,
          104194990,
          104812230,
          105358760,
          105822500,
          106238230,
          106574690,
          106787910,
          106931220,
          107039870,
          107053940
         ],
         "yaxis": "y"
        },
        {
         "hovertemplate": "Continent=Northern America (UN)<br>Year=%{x}<br>Population aged 20 to 29 years=%{y}<extra></extra>",
         "legendgroup": "Northern America (UN)",
         "line": {
          "color": "#FFA15A",
          "dash": "solid"
         },
         "marker": {
          "symbol": "circle"
         },
         "mode": "lines",
         "name": "Northern America (UN)",
         "orientation": "v",
         "showlegend": true,
         "type": "scatter",
         "x": [
          1950,
          1951,
          1952,
          1953,
          1954,
          1955,
          1956,
          1957,
          1958,
          1959,
          1960,
          1961,
          1962,
          1963,
          1964,
          1965,
          1966,
          1967,
          1968,
          1969,
          1970,
          1971,
          1972,
          1973,
          1974,
          1975,
          1976,
          1977,
          1978,
          1979,
          1980,
          1981,
          1982,
          1983,
          1984,
          1985,
          1986,
          1987,
          1988,
          1989,
          1990,
          1991,
          1992,
          1993,
          1994,
          1995,
          1996,
          1997,
          1998,
          1999,
          2000,
          2001,
          2002,
          2003,
          2004,
          2005,
          2006,
          2007,
          2008,
          2009,
          2010,
          2011,
          2012,
          2013,
          2014,
          2015,
          2016,
          2017,
          2018,
          2019,
          2020,
          2021
         ],
         "xaxis": "x",
         "y": [
          25304748,
          25272548,
          25298964,
          24916820,
          24640246,
          24658096,
          24620384,
          24462652,
          24416852,
          24338512,
          24257278,
          24358512,
          24681232,
          25322452,
          26042962,
          26758940,
          27619712,
          28841486,
          30147120,
          31193220,
          32146448,
          33805024,
          35565550,
          36741524,
          38044708,
          39551024,
          40767490,
          41587450,
          42467456,
          43680950,
          45160576,
          45987110,
          46394212,
          46964020,
          47281876,
          47332268,
          47083772,
          46603044,
          46036336,
          45511324,
          45118360,
          44771784,
          44344136,
          43773990,
          43163652,
          42693584,
          42461824,
          42491890,
          42657652,
          42872200,
          43100988,
          43347010,
          43678252,
          44106704,
          44609320,
          45176788,
          45788980,
          46362480,
          46839370,
          47241924,
          47690230,
          48290800,
          48950744,
          49511750,
          49913176,
          50134490,
          50263976,
          50380950,
          50433120,
          50374470,
          50237696,
          50031240
         ],
         "yaxis": "y"
        },
        {
         "hovertemplate": "Continent=Oceania (UN)<br>Year=%{x}<br>Population aged 20 to 29 years=%{y}<extra></extra>",
         "legendgroup": "Oceania (UN)",
         "line": {
          "color": "#19d3f3",
          "dash": "solid"
         },
         "marker": {
          "symbol": "circle"
         },
         "mode": "lines",
         "name": "Oceania (UN)",
         "orientation": "v",
         "showlegend": true,
         "type": "scatter",
         "x": [
          1950,
          1951,
          1952,
          1953,
          1954,
          1955,
          1956,
          1957,
          1958,
          1959,
          1960,
          1961,
          1962,
          1963,
          1964,
          1965,
          1966,
          1967,
          1968,
          1969,
          1970,
          1971,
          1972,
          1973,
          1974,
          1975,
          1976,
          1977,
          1978,
          1979,
          1980,
          1981,
          1982,
          1983,
          1984,
          1985,
          1986,
          1987,
          1988,
          1989,
          1990,
          1991,
          1992,
          1993,
          1994,
          1995,
          1996,
          1997,
          1998,
          1999,
          2000,
          2001,
          2002,
          2003,
          2004,
          2005,
          2006,
          2007,
          2008,
          2009,
          2010,
          2011,
          2012,
          2013,
          2014,
          2015,
          2016,
          2017,
          2018,
          2019,
          2020,
          2021
         ],
         "xaxis": "x",
         "y": [
          2074764,
          2106056,
          2116322,
          2111852,
          2102777,
          2099466,
          2103926,
          2111117,
          2119340,
          2133927,
          2158526,
          2194731,
          2240343,
          2297412,
          2372732,
          2461648,
          2563428,
          2677812,
          2792127,
          2904153,
          3031305,
          3166141,
          3276339,
          3368903,
          3457639,
          3532531,
          3584045,
          3621144,
          3668439,
          3733366,
          3813209,
          3906005,
          4001967,
          4087563,
          4159404,
          4219238,
          4270564,
          4323198,
          4377131,
          4426477,
          4474629,
          4524374,
          4563422,
          4585730,
          4605558,
          4633585,
          4665970,
          4690427,
          4700302,
          4702515,
          4702420,
          4709483,
          4745279,
          4809939,
          4888635,
          4982371,
          5096201,
          5232464,
          5394878,
          5563222,
          5700520,
          5807553,
          5909931,
          6014651,
          6122399,
          6231622,
          6340268,
          6446454,
          6545693,
          6630147,
          6667095,
          6662269
         ],
         "yaxis": "y"
        }
       ],
       "layout": {
        "legend": {
         "title": {
          "text": "Continent"
         },
         "tracegroupgap": 0
        },
        "template": {
         "data": {
          "bar": [
           {
            "error_x": {
             "color": "#2a3f5f"
            },
            "error_y": {
             "color": "#2a3f5f"
            },
            "marker": {
             "line": {
              "color": "#E5ECF6",
              "width": 0.5
             },
             "pattern": {
              "fillmode": "overlay",
              "size": 10,
              "solidity": 0.2
             }
            },
            "type": "bar"
           }
          ],
          "barpolar": [
           {
            "marker": {
             "line": {
              "color": "#E5ECF6",
              "width": 0.5
             },
             "pattern": {
              "fillmode": "overlay",
              "size": 10,
              "solidity": 0.2
             }
            },
            "type": "barpolar"
           }
          ],
          "carpet": [
           {
            "aaxis": {
             "endlinecolor": "#2a3f5f",
             "gridcolor": "white",
             "linecolor": "white",
             "minorgridcolor": "white",
             "startlinecolor": "#2a3f5f"
            },
            "baxis": {
             "endlinecolor": "#2a3f5f",
             "gridcolor": "white",
             "linecolor": "white",
             "minorgridcolor": "white",
             "startlinecolor": "#2a3f5f"
            },
            "type": "carpet"
           }
          ],
          "choropleth": [
           {
            "colorbar": {
             "outlinewidth": 0,
             "ticks": ""
            },
            "type": "choropleth"
           }
          ],
          "contour": [
           {
            "colorbar": {
             "outlinewidth": 0,
             "ticks": ""
            },
            "colorscale": [
             [
              0,
              "#0d0887"
             ],
             [
              0.1111111111111111,
              "#46039f"
             ],
             [
              0.2222222222222222,
              "#7201a8"
             ],
             [
              0.3333333333333333,
              "#9c179e"
             ],
             [
              0.4444444444444444,
              "#bd3786"
             ],
             [
              0.5555555555555556,
              "#d8576b"
             ],
             [
              0.6666666666666666,
              "#ed7953"
             ],
             [
              0.7777777777777778,
              "#fb9f3a"
             ],
             [
              0.8888888888888888,
              "#fdca26"
             ],
             [
              1,
              "#f0f921"
             ]
            ],
            "type": "contour"
           }
          ],
          "contourcarpet": [
           {
            "colorbar": {
             "outlinewidth": 0,
             "ticks": ""
            },
            "type": "contourcarpet"
           }
          ],
          "heatmap": [
           {
            "colorbar": {
             "outlinewidth": 0,
             "ticks": ""
            },
            "colorscale": [
             [
              0,
              "#0d0887"
             ],
             [
              0.1111111111111111,
              "#46039f"
             ],
             [
              0.2222222222222222,
              "#7201a8"
             ],
             [
              0.3333333333333333,
              "#9c179e"
             ],
             [
              0.4444444444444444,
              "#bd3786"
             ],
             [
              0.5555555555555556,
              "#d8576b"
             ],
             [
              0.6666666666666666,
              "#ed7953"
             ],
             [
              0.7777777777777778,
              "#fb9f3a"
             ],
             [
              0.8888888888888888,
              "#fdca26"
             ],
             [
              1,
              "#f0f921"
             ]
            ],
            "type": "heatmap"
           }
          ],
          "heatmapgl": [
           {
            "colorbar": {
             "outlinewidth": 0,
             "ticks": ""
            },
            "colorscale": [
             [
              0,
              "#0d0887"
             ],
             [
              0.1111111111111111,
              "#46039f"
             ],
             [
              0.2222222222222222,
              "#7201a8"
             ],
             [
              0.3333333333333333,
              "#9c179e"
             ],
             [
              0.4444444444444444,
              "#bd3786"
             ],
             [
              0.5555555555555556,
              "#d8576b"
             ],
             [
              0.6666666666666666,
              "#ed7953"
             ],
             [
              0.7777777777777778,
              "#fb9f3a"
             ],
             [
              0.8888888888888888,
              "#fdca26"
             ],
             [
              1,
              "#f0f921"
             ]
            ],
            "type": "heatmapgl"
           }
          ],
          "histogram": [
           {
            "marker": {
             "pattern": {
              "fillmode": "overlay",
              "size": 10,
              "solidity": 0.2
             }
            },
            "type": "histogram"
           }
          ],
          "histogram2d": [
           {
            "colorbar": {
             "outlinewidth": 0,
             "ticks": ""
            },
            "colorscale": [
             [
              0,
              "#0d0887"
             ],
             [
              0.1111111111111111,
              "#46039f"
             ],
             [
              0.2222222222222222,
              "#7201a8"
             ],
             [
              0.3333333333333333,
              "#9c179e"
             ],
             [
              0.4444444444444444,
              "#bd3786"
             ],
             [
              0.5555555555555556,
              "#d8576b"
             ],
             [
              0.6666666666666666,
              "#ed7953"
             ],
             [
              0.7777777777777778,
              "#fb9f3a"
             ],
             [
              0.8888888888888888,
              "#fdca26"
             ],
             [
              1,
              "#f0f921"
             ]
            ],
            "type": "histogram2d"
           }
          ],
          "histogram2dcontour": [
           {
            "colorbar": {
             "outlinewidth": 0,
             "ticks": ""
            },
            "colorscale": [
             [
              0,
              "#0d0887"
             ],
             [
              0.1111111111111111,
              "#46039f"
             ],
             [
              0.2222222222222222,
              "#7201a8"
             ],
             [
              0.3333333333333333,
              "#9c179e"
             ],
             [
              0.4444444444444444,
              "#bd3786"
             ],
             [
              0.5555555555555556,
              "#d8576b"
             ],
             [
              0.6666666666666666,
              "#ed7953"
             ],
             [
              0.7777777777777778,
              "#fb9f3a"
             ],
             [
              0.8888888888888888,
              "#fdca26"
             ],
             [
              1,
              "#f0f921"
             ]
            ],
            "type": "histogram2dcontour"
           }
          ],
          "mesh3d": [
           {
            "colorbar": {
             "outlinewidth": 0,
             "ticks": ""
            },
            "type": "mesh3d"
           }
          ],
          "parcoords": [
           {
            "line": {
             "colorbar": {
              "outlinewidth": 0,
              "ticks": ""
             }
            },
            "type": "parcoords"
           }
          ],
          "pie": [
           {
            "automargin": true,
            "type": "pie"
           }
          ],
          "scatter": [
           {
            "fillpattern": {
             "fillmode": "overlay",
             "size": 10,
             "solidity": 0.2
            },
            "type": "scatter"
           }
          ],
          "scatter3d": [
           {
            "line": {
             "colorbar": {
              "outlinewidth": 0,
              "ticks": ""
             }
            },
            "marker": {
             "colorbar": {
              "outlinewidth": 0,
              "ticks": ""
             }
            },
            "type": "scatter3d"
           }
          ],
          "scattercarpet": [
           {
            "marker": {
             "colorbar": {
              "outlinewidth": 0,
              "ticks": ""
             }
            },
            "type": "scattercarpet"
           }
          ],
          "scattergeo": [
           {
            "marker": {
             "colorbar": {
              "outlinewidth": 0,
              "ticks": ""
             }
            },
            "type": "scattergeo"
           }
          ],
          "scattergl": [
           {
            "marker": {
             "colorbar": {
              "outlinewidth": 0,
              "ticks": ""
             }
            },
            "type": "scattergl"
           }
          ],
          "scattermapbox": [
           {
            "marker": {
             "colorbar": {
              "outlinewidth": 0,
              "ticks": ""
             }
            },
            "type": "scattermapbox"
           }
          ],
          "scatterpolar": [
           {
            "marker": {
             "colorbar": {
              "outlinewidth": 0,
              "ticks": ""
             }
            },
            "type": "scatterpolar"
           }
          ],
          "scatterpolargl": [
           {
            "marker": {
             "colorbar": {
              "outlinewidth": 0,
              "ticks": ""
             }
            },
            "type": "scatterpolargl"
           }
          ],
          "scatterternary": [
           {
            "marker": {
             "colorbar": {
              "outlinewidth": 0,
              "ticks": ""
             }
            },
            "type": "scatterternary"
           }
          ],
          "surface": [
           {
            "colorbar": {
             "outlinewidth": 0,
             "ticks": ""
            },
            "colorscale": [
             [
              0,
              "#0d0887"
             ],
             [
              0.1111111111111111,
              "#46039f"
             ],
             [
              0.2222222222222222,
              "#7201a8"
             ],
             [
              0.3333333333333333,
              "#9c179e"
             ],
             [
              0.4444444444444444,
              "#bd3786"
             ],
             [
              0.5555555555555556,
              "#d8576b"
             ],
             [
              0.6666666666666666,
              "#ed7953"
             ],
             [
              0.7777777777777778,
              "#fb9f3a"
             ],
             [
              0.8888888888888888,
              "#fdca26"
             ],
             [
              1,
              "#f0f921"
             ]
            ],
            "type": "surface"
           }
          ],
          "table": [
           {
            "cells": {
             "fill": {
              "color": "#EBF0F8"
             },
             "line": {
              "color": "white"
             }
            },
            "header": {
             "fill": {
              "color": "#C8D4E3"
             },
             "line": {
              "color": "white"
             }
            },
            "type": "table"
           }
          ]
         },
         "layout": {
          "annotationdefaults": {
           "arrowcolor": "#2a3f5f",
           "arrowhead": 0,
           "arrowwidth": 1
          },
          "autotypenumbers": "strict",
          "coloraxis": {
           "colorbar": {
            "outlinewidth": 0,
            "ticks": ""
           }
          },
          "colorscale": {
           "diverging": [
            [
             0,
             "#8e0152"
            ],
            [
             0.1,
             "#c51b7d"
            ],
            [
             0.2,
             "#de77ae"
            ],
            [
             0.3,
             "#f1b6da"
            ],
            [
             0.4,
             "#fde0ef"
            ],
            [
             0.5,
             "#f7f7f7"
            ],
            [
             0.6,
             "#e6f5d0"
            ],
            [
             0.7,
             "#b8e186"
            ],
            [
             0.8,
             "#7fbc41"
            ],
            [
             0.9,
             "#4d9221"
            ],
            [
             1,
             "#276419"
            ]
           ],
           "sequential": [
            [
             0,
             "#0d0887"
            ],
            [
             0.1111111111111111,
             "#46039f"
            ],
            [
             0.2222222222222222,
             "#7201a8"
            ],
            [
             0.3333333333333333,
             "#9c179e"
            ],
            [
             0.4444444444444444,
             "#bd3786"
            ],
            [
             0.5555555555555556,
             "#d8576b"
            ],
            [
             0.6666666666666666,
             "#ed7953"
            ],
            [
             0.7777777777777778,
             "#fb9f3a"
            ],
            [
             0.8888888888888888,
             "#fdca26"
            ],
            [
             1,
             "#f0f921"
            ]
           ],
           "sequentialminus": [
            [
             0,
             "#0d0887"
            ],
            [
             0.1111111111111111,
             "#46039f"
            ],
            [
             0.2222222222222222,
             "#7201a8"
            ],
            [
             0.3333333333333333,
             "#9c179e"
            ],
            [
             0.4444444444444444,
             "#bd3786"
            ],
            [
             0.5555555555555556,
             "#d8576b"
            ],
            [
             0.6666666666666666,
             "#ed7953"
            ],
            [
             0.7777777777777778,
             "#fb9f3a"
            ],
            [
             0.8888888888888888,
             "#fdca26"
            ],
            [
             1,
             "#f0f921"
            ]
           ]
          },
          "colorway": [
           "#636efa",
           "#EF553B",
           "#00cc96",
           "#ab63fa",
           "#FFA15A",
           "#19d3f3",
           "#FF6692",
           "#B6E880",
           "#FF97FF",
           "#FECB52"
          ],
          "font": {
           "color": "#2a3f5f"
          },
          "geo": {
           "bgcolor": "white",
           "lakecolor": "white",
           "landcolor": "#E5ECF6",
           "showlakes": true,
           "showland": true,
           "subunitcolor": "white"
          },
          "hoverlabel": {
           "align": "left"
          },
          "hovermode": "closest",
          "mapbox": {
           "style": "light"
          },
          "paper_bgcolor": "white",
          "plot_bgcolor": "#E5ECF6",
          "polar": {
           "angularaxis": {
            "gridcolor": "white",
            "linecolor": "white",
            "ticks": ""
           },
           "bgcolor": "#E5ECF6",
           "radialaxis": {
            "gridcolor": "white",
            "linecolor": "white",
            "ticks": ""
           }
          },
          "scene": {
           "xaxis": {
            "backgroundcolor": "#E5ECF6",
            "gridcolor": "white",
            "gridwidth": 2,
            "linecolor": "white",
            "showbackground": true,
            "ticks": "",
            "zerolinecolor": "white"
           },
           "yaxis": {
            "backgroundcolor": "#E5ECF6",
            "gridcolor": "white",
            "gridwidth": 2,
            "linecolor": "white",
            "showbackground": true,
            "ticks": "",
            "zerolinecolor": "white"
           },
           "zaxis": {
            "backgroundcolor": "#E5ECF6",
            "gridcolor": "white",
            "gridwidth": 2,
            "linecolor": "white",
            "showbackground": true,
            "ticks": "",
            "zerolinecolor": "white"
           }
          },
          "shapedefaults": {
           "line": {
            "color": "#2a3f5f"
           }
          },
          "ternary": {
           "aaxis": {
            "gridcolor": "white",
            "linecolor": "white",
            "ticks": ""
           },
           "baxis": {
            "gridcolor": "white",
            "linecolor": "white",
            "ticks": ""
           },
           "bgcolor": "#E5ECF6",
           "caxis": {
            "gridcolor": "white",
            "linecolor": "white",
            "ticks": ""
           }
          },
          "title": {
           "x": 0.05
          },
          "xaxis": {
           "automargin": true,
           "gridcolor": "white",
           "linecolor": "white",
           "ticks": "",
           "title": {
            "standoff": 15
           },
           "zerolinecolor": "white",
           "zerolinewidth": 2
          },
          "yaxis": {
           "automargin": true,
           "gridcolor": "white",
           "linecolor": "white",
           "ticks": "",
           "title": {
            "standoff": 15
           },
           "zerolinecolor": "white",
           "zerolinewidth": 2
          }
         }
        },
        "title": {
         "text": "Population aged 20 to 29 in every continents between 1950 and 2021"
        },
        "xaxis": {
         "anchor": "y",
         "domain": [
          0,
          1
         ],
         "title": {
          "text": "Year"
         }
        },
        "yaxis": {
         "anchor": "x",
         "domain": [
          0,
          1
         ],
         "title": {
          "text": "Population aged 20 to 29 years"
         }
        }
       }
      }
     },
     "metadata": {},
     "output_type": "display_data"
    }
   ],
   "source": [
    "# Filter the DataFrame to select data related to other continents\n",
    "continents_data = filtered_pop[~filtered_pop['Continents and World'].isin(['World'])]\n",
    "\n",
    "# Columns to include in the plot\n",
    "columns_to_plot = ['Population aged 20 to 29 years']\n",
    "\n",
    "# Create an interactive line plot with multiple curves using Plotly Express \n",
    "fig = px.line(continents_data, x='Year', y='Population aged 20 to 29 years', color='Continents and World', \n",
    "              title='Population aged 20 to 29 in every continents between 1950 and 2021', \n",
    "              labels={'value': 'Population', 'Year': 'Year', 'Continents and World': 'Continent'})\n",
    "\n",
    "# Show the interactive line plot\n",
    "fig.show()"
   ]
  },
  {
   "cell_type": "markdown",
   "metadata": {},
   "source": [
    "## 2.3: Population aged 50 to 59 years"
   ]
  },
  {
   "cell_type": "markdown",
   "metadata": {},
   "source": [
    "This plots indicate the growth of the population aged 50 to 59 years for all the continent.\n",
    "\n",
    "We can see a clear tendency for Africa, Asia, Oceania and Latin America to see their population aged 50 to 59 years expand whereas for 10 years Europe is basically stagnating and tends to decrease a little bit for the last years. The same thing is happening in Northern America. this could be driven by the fact that these continents are seeing their population getting older and that these old population are not replaced by younger one. "
   ]
  },
  {
   "cell_type": "code",
   "execution_count": 23,
   "metadata": {},
   "outputs": [
    {
     "data": {
      "application/vnd.plotly.v1+json": {
       "config": {
        "plotlyServerURL": "https://plot.ly"
       },
       "data": [
        {
         "hovertemplate": "Continent=Africa (UN)<br>Year=%{x}<br>Population aged 50 to 59 years=%{y}<extra></extra>",
         "legendgroup": "Africa (UN)",
         "line": {
          "color": "#636efa",
          "dash": "solid"
         },
         "marker": {
          "symbol": "circle"
         },
         "mode": "lines",
         "name": "Africa (UN)",
         "orientation": "v",
         "showlegend": true,
         "type": "scatter",
         "x": [
          1950,
          1951,
          1952,
          1953,
          1954,
          1955,
          1956,
          1957,
          1958,
          1959,
          1960,
          1961,
          1962,
          1963,
          1964,
          1965,
          1966,
          1967,
          1968,
          1969,
          1970,
          1971,
          1972,
          1973,
          1974,
          1975,
          1976,
          1977,
          1978,
          1979,
          1980,
          1981,
          1982,
          1983,
          1984,
          1985,
          1986,
          1987,
          1988,
          1989,
          1990,
          1991,
          1992,
          1993,
          1994,
          1995,
          1996,
          1997,
          1998,
          1999,
          2000,
          2001,
          2002,
          2003,
          2004,
          2005,
          2006,
          2007,
          2008,
          2009,
          2010,
          2011,
          2012,
          2013,
          2014,
          2015,
          2016,
          2017,
          2018,
          2019,
          2020,
          2021
         ],
         "xaxis": "x",
         "y": [
          13178286,
          13463632,
          13754924,
          14056554,
          14365597,
          14678065,
          14992830,
          15311008,
          15635979,
          15967202,
          16296948,
          16632785,
          16980790,
          17332800,
          17694584,
          18069304,
          18453984,
          18849314,
          19261884,
          19699580,
          20169500,
          20667692,
          21187204,
          21734352,
          22303486,
          22910616,
          23550010,
          24171508,
          24810274,
          25464132,
          26041108,
          26626460,
          27277488,
          27913076,
          28524530,
          29116372,
          29725156,
          30364668,
          30985178,
          31602252,
          32226764,
          32832222,
          33437924,
          34069292,
          34747460,
          35552510,
          36509416,
          37545124,
          38602172,
          39678320,
          40837640,
          42104692,
          43450370,
          44860176,
          46318412,
          47797636,
          49291628,
          50824016,
          52448932,
          54207332,
          56039196,
          57890660,
          59808660,
          61820250,
          63912930,
          66087336,
          68327384,
          70645490,
          73054320,
          75526640,
          78001390,
          80424990
         ],
         "yaxis": "y"
        },
        {
         "hovertemplate": "Continent=Asia (UN)<br>Year=%{x}<br>Population aged 50 to 59 years=%{y}<extra></extra>",
         "legendgroup": "Asia (UN)",
         "line": {
          "color": "#EF553B",
          "dash": "solid"
         },
         "marker": {
          "symbol": "circle"
         },
         "mode": "lines",
         "name": "Asia (UN)",
         "orientation": "v",
         "showlegend": true,
         "type": "scatter",
         "x": [
          1950,
          1951,
          1952,
          1953,
          1954,
          1955,
          1956,
          1957,
          1958,
          1959,
          1960,
          1961,
          1962,
          1963,
          1964,
          1965,
          1966,
          1967,
          1968,
          1969,
          1970,
          1971,
          1972,
          1973,
          1974,
          1975,
          1976,
          1977,
          1978,
          1979,
          1980,
          1981,
          1982,
          1983,
          1984,
          1985,
          1986,
          1987,
          1988,
          1989,
          1990,
          1991,
          1992,
          1993,
          1994,
          1995,
          1996,
          1997,
          1998,
          1999,
          2000,
          2001,
          2002,
          2003,
          2004,
          2005,
          2006,
          2007,
          2008,
          2009,
          2010,
          2011,
          2012,
          2013,
          2014,
          2015,
          2016,
          2017,
          2018,
          2019,
          2020,
          2021
         ],
         "xaxis": "x",
         "y": [
          95404190,
          97275240,
          99356310,
          101525256,
          103757150,
          105985730,
          108235304,
          110455970,
          112722410,
          115067736,
          117079100,
          118788110,
          120715600,
          122957784,
          125422984,
          127839064,
          130112440,
          132373540,
          134491520,
          136571330,
          139034560,
          141812510,
          144712590,
          147782430,
          151148240,
          154900500,
          158773800,
          162880340,
          167505490,
          172315180,
          177039940,
          181685440,
          186463970,
          191584770,
          196643970,
          201507460,
          206483710,
          211349000,
          215743100,
          219624200,
          223321470,
          227264800,
          231051660,
          234138400,
          237025650,
          240149070,
          243987550,
          249275860,
          256121280,
          264864000,
          275458800,
          286778200,
          299694500,
          314159550,
          329164640,
          344936420,
          359907070,
          374132200,
          386972860,
          395995400,
          402005730,
          406945100,
          414592200,
          428138780,
          442827070,
          455549500,
          467991260,
          479061630,
          491907550,
          508827700,
          527166340,
          545459900
         ],
         "yaxis": "y"
        },
        {
         "hovertemplate": "Continent=Europe (UN)<br>Year=%{x}<br>Population aged 50 to 59 years=%{y}<extra></extra>",
         "legendgroup": "Europe (UN)",
         "line": {
          "color": "#00cc96",
          "dash": "solid"
         },
         "marker": {
          "symbol": "circle"
         },
         "mode": "lines",
         "name": "Europe (UN)",
         "orientation": "v",
         "showlegend": true,
         "type": "scatter",
         "x": [
          1950,
          1951,
          1952,
          1953,
          1954,
          1955,
          1956,
          1957,
          1958,
          1959,
          1960,
          1961,
          1962,
          1963,
          1964,
          1965,
          1966,
          1967,
          1968,
          1969,
          1970,
          1971,
          1972,
          1973,
          1974,
          1975,
          1976,
          1977,
          1978,
          1979,
          1980,
          1981,
          1982,
          1983,
          1984,
          1985,
          1986,
          1987,
          1988,
          1989,
          1990,
          1991,
          1992,
          1993,
          1994,
          1995,
          1996,
          1997,
          1998,
          1999,
          2000,
          2001,
          2002,
          2003,
          2004,
          2005,
          2006,
          2007,
          2008,
          2009,
          2010,
          2011,
          2012,
          2013,
          2014,
          2015,
          2016,
          2017,
          2018,
          2019,
          2020,
          2021
         ],
         "xaxis": "x",
         "y": [
          54132588,
          55577228,
          57102496,
          58676636,
          60248348,
          61838240,
          63361828,
          64806384,
          66275064,
          67734820,
          68979500,
          70032700,
          71078530,
          71973880,
          72636430,
          72565990,
          71266480,
          69133460,
          66971096,
          65295520,
          64456076,
          64334520,
          64367316,
          64684960,
          65349784,
          66818724,
          69552150,
          73085110,
          76712210,
          79748800,
          81831180,
          83004260,
          83628050,
          83693910,
          83353310,
          83168216,
          83217110,
          83536504,
          83934104,
          84278970,
          84468540,
          84458110,
          83990810,
          83151920,
          82374010,
          81269784,
          80616030,
          80752300,
          81060740,
          81725110,
          82714344,
          83980270,
          85996470,
          88639256,
          91483150,
          94486190,
          96768536,
          98138370,
          99255864,
          100156780,
          101083910,
          102162890,
          103074140,
          103860350,
          104469624,
          104750904,
          104827560,
          104745810,
          104565910,
          104287340,
          103832080,
          103272700
         ],
         "yaxis": "y"
        },
        {
         "hovertemplate": "Continent=Latin America and the Caribbean (UN)<br>Year=%{x}<br>Population aged 50 to 59 years=%{y}<extra></extra>",
         "legendgroup": "Latin America and the Caribbean (UN)",
         "line": {
          "color": "#ab63fa",
          "dash": "solid"
         },
         "marker": {
          "symbol": "circle"
         },
         "mode": "lines",
         "name": "Latin America and the Caribbean (UN)",
         "orientation": "v",
         "showlegend": true,
         "type": "scatter",
         "x": [
          1950,
          1951,
          1952,
          1953,
          1954,
          1955,
          1956,
          1957,
          1958,
          1959,
          1960,
          1961,
          1962,
          1963,
          1964,
          1965,
          1966,
          1967,
          1968,
          1969,
          1970,
          1971,
          1972,
          1973,
          1974,
          1975,
          1976,
          1977,
          1978,
          1979,
          1980,
          1981,
          1982,
          1983,
          1984,
          1985,
          1986,
          1987,
          1988,
          1989,
          1990,
          1991,
          1992,
          1993,
          1994,
          1995,
          1996,
          1997,
          1998,
          1999,
          2000,
          2001,
          2002,
          2003,
          2004,
          2005,
          2006,
          2007,
          2008,
          2009,
          2010,
          2011,
          2012,
          2013,
          2014,
          2015,
          2016,
          2017,
          2018,
          2019,
          2020,
          2021
         ],
         "xaxis": "x",
         "y": [
          9612361,
          9919536,
          10244801,
          10582684,
          10925783,
          11267047,
          11603318,
          11935804,
          12271528,
          12620013,
          12984064,
          13360656,
          13743958,
          14127542,
          14505791,
          14873839,
          15226397,
          15564251,
          15896201,
          16232408,
          16582338,
          16963662,
          17385170,
          17845868,
          18348228,
          18886844,
          19461242,
          20075674,
          20716412,
          21355416,
          21976004,
          22576988,
          23161360,
          23729026,
          24276232,
          24808784,
          25342814,
          25885176,
          26441760,
          27026596,
          27655496,
          28327608,
          29033164,
          29776916,
          30572192,
          31419696,
          32315548,
          33281936,
          34333576,
          35490372,
          36757076,
          38095210,
          39492828,
          40954844,
          42477410,
          44056012,
          45681260,
          47334004,
          49008590,
          50685360,
          52352040,
          54050348,
          55793070,
          57547640,
          59281540,
          60958996,
          62545104,
          64037396,
          65447100,
          66773856,
          67976460,
          69049050
         ],
         "yaxis": "y"
        },
        {
         "hovertemplate": "Continent=Northern America (UN)<br>Year=%{x}<br>Population aged 50 to 59 years=%{y}<extra></extra>",
         "legendgroup": "Northern America (UN)",
         "line": {
          "color": "#FFA15A",
          "dash": "solid"
         },
         "marker": {
          "symbol": "circle"
         },
         "mode": "lines",
         "name": "Northern America (UN)",
         "orientation": "v",
         "showlegend": true,
         "type": "scatter",
         "x": [
          1950,
          1951,
          1952,
          1953,
          1954,
          1955,
          1956,
          1957,
          1958,
          1959,
          1960,
          1961,
          1962,
          1963,
          1964,
          1965,
          1966,
          1967,
          1968,
          1969,
          1970,
          1971,
          1972,
          1973,
          1974,
          1975,
          1976,
          1977,
          1978,
          1979,
          1980,
          1981,
          1982,
          1983,
          1984,
          1985,
          1986,
          1987,
          1988,
          1989,
          1990,
          1991,
          1992,
          1993,
          1994,
          1995,
          1996,
          1997,
          1998,
          1999,
          2000,
          2001,
          2002,
          2003,
          2004,
          2005,
          2006,
          2007,
          2008,
          2009,
          2010,
          2011,
          2012,
          2013,
          2014,
          2015,
          2016,
          2017,
          2018,
          2019,
          2020,
          2021
         ],
         "xaxis": "x",
         "y": [
          16497235,
          16626826,
          16865760,
          17170128,
          17345132,
          17572116,
          17831448,
          18097688,
          18409212,
          18761032,
          19182330,
          19724892,
          20203704,
          20629262,
          21077442,
          21383590,
          21685202,
          21942686,
          22047728,
          22317448,
          22726736,
          22956878,
          23102292,
          23557612,
          23988966,
          24158628,
          24440104,
          24840556,
          25224016,
          25511596,
          25664296,
          25738422,
          25758188,
          25515880,
          25255908,
          25175624,
          25085172,
          24944906,
          24895878,
          24846048,
          24880374,
          25088712,
          25490930,
          26220920,
          27019900,
          27799634,
          28844228,
          30290130,
          31748320,
          32930248,
          33916270,
          35482930,
          37193092,
          38445316,
          39909810,
          41554896,
          42890770,
          43845656,
          44823504,
          46057616,
          47452036,
          48233308,
          48683770,
          49305940,
          49727530,
          49903790,
          49817440,
          49566956,
          49250830,
          48962120,
          48698668,
          48326896
         ],
         "yaxis": "y"
        },
        {
         "hovertemplate": "Continent=Oceania (UN)<br>Year=%{x}<br>Population aged 50 to 59 years=%{y}<extra></extra>",
         "legendgroup": "Oceania (UN)",
         "line": {
          "color": "#19d3f3",
          "dash": "solid"
         },
         "marker": {
          "symbol": "circle"
         },
         "mode": "lines",
         "name": "Oceania (UN)",
         "orientation": "v",
         "showlegend": true,
         "type": "scatter",
         "x": [
          1950,
          1951,
          1952,
          1953,
          1954,
          1955,
          1956,
          1957,
          1958,
          1959,
          1960,
          1961,
          1962,
          1963,
          1964,
          1965,
          1966,
          1967,
          1968,
          1969,
          1970,
          1971,
          1972,
          1973,
          1974,
          1975,
          1976,
          1977,
          1978,
          1979,
          1980,
          1981,
          1982,
          1983,
          1984,
          1985,
          1986,
          1987,
          1988,
          1989,
          1990,
          1991,
          1992,
          1993,
          1994,
          1995,
          1996,
          1997,
          1998,
          1999,
          2000,
          2001,
          2002,
          2003,
          2004,
          2005,
          2006,
          2007,
          2008,
          2009,
          2010,
          2011,
          2012,
          2013,
          2014,
          2015,
          2016,
          2017,
          2018,
          2019,
          2020,
          2021
         ],
         "xaxis": "x",
         "y": [
          1113764,
          1127955,
          1141773,
          1157357,
          1176740,
          1201329,
          1230784,
          1263843,
          1299575,
          1336324,
          1373402,
          1412070,
          1453547,
          1498008,
          1542985,
          1584552,
          1619662,
          1644935,
          1661743,
          1678583,
          1711538,
          1762068,
          1810866,
          1851914,
          1889563,
          1927238,
          1966379,
          2004896,
          2042568,
          2074963,
          2096328,
          2105565,
          2105880,
          2102127,
          2096964,
          2094729,
          2099561,
          2110273,
          2125765,
          2149045,
          2185291,
          2233285,
          2285712,
          2344265,
          2416789,
          2501627,
          2603412,
          2727643,
          2854960,
          2973228,
          3087042,
          3196404,
          3302298,
          3404735,
          3498776,
          3587619,
          3667272,
          3733620,
          3805302,
          3891475,
          3987259,
          4089954,
          4192962,
          4289980,
          4375875,
          4447207,
          4508288,
          4564674,
          4622085,
          4688512,
          4757478,
          4823392
         ],
         "yaxis": "y"
        }
       ],
       "layout": {
        "legend": {
         "title": {
          "text": "Continent"
         },
         "tracegroupgap": 0
        },
        "template": {
         "data": {
          "bar": [
           {
            "error_x": {
             "color": "#2a3f5f"
            },
            "error_y": {
             "color": "#2a3f5f"
            },
            "marker": {
             "line": {
              "color": "#E5ECF6",
              "width": 0.5
             },
             "pattern": {
              "fillmode": "overlay",
              "size": 10,
              "solidity": 0.2
             }
            },
            "type": "bar"
           }
          ],
          "barpolar": [
           {
            "marker": {
             "line": {
              "color": "#E5ECF6",
              "width": 0.5
             },
             "pattern": {
              "fillmode": "overlay",
              "size": 10,
              "solidity": 0.2
             }
            },
            "type": "barpolar"
           }
          ],
          "carpet": [
           {
            "aaxis": {
             "endlinecolor": "#2a3f5f",
             "gridcolor": "white",
             "linecolor": "white",
             "minorgridcolor": "white",
             "startlinecolor": "#2a3f5f"
            },
            "baxis": {
             "endlinecolor": "#2a3f5f",
             "gridcolor": "white",
             "linecolor": "white",
             "minorgridcolor": "white",
             "startlinecolor": "#2a3f5f"
            },
            "type": "carpet"
           }
          ],
          "choropleth": [
           {
            "colorbar": {
             "outlinewidth": 0,
             "ticks": ""
            },
            "type": "choropleth"
           }
          ],
          "contour": [
           {
            "colorbar": {
             "outlinewidth": 0,
             "ticks": ""
            },
            "colorscale": [
             [
              0,
              "#0d0887"
             ],
             [
              0.1111111111111111,
              "#46039f"
             ],
             [
              0.2222222222222222,
              "#7201a8"
             ],
             [
              0.3333333333333333,
              "#9c179e"
             ],
             [
              0.4444444444444444,
              "#bd3786"
             ],
             [
              0.5555555555555556,
              "#d8576b"
             ],
             [
              0.6666666666666666,
              "#ed7953"
             ],
             [
              0.7777777777777778,
              "#fb9f3a"
             ],
             [
              0.8888888888888888,
              "#fdca26"
             ],
             [
              1,
              "#f0f921"
             ]
            ],
            "type": "contour"
           }
          ],
          "contourcarpet": [
           {
            "colorbar": {
             "outlinewidth": 0,
             "ticks": ""
            },
            "type": "contourcarpet"
           }
          ],
          "heatmap": [
           {
            "colorbar": {
             "outlinewidth": 0,
             "ticks": ""
            },
            "colorscale": [
             [
              0,
              "#0d0887"
             ],
             [
              0.1111111111111111,
              "#46039f"
             ],
             [
              0.2222222222222222,
              "#7201a8"
             ],
             [
              0.3333333333333333,
              "#9c179e"
             ],
             [
              0.4444444444444444,
              "#bd3786"
             ],
             [
              0.5555555555555556,
              "#d8576b"
             ],
             [
              0.6666666666666666,
              "#ed7953"
             ],
             [
              0.7777777777777778,
              "#fb9f3a"
             ],
             [
              0.8888888888888888,
              "#fdca26"
             ],
             [
              1,
              "#f0f921"
             ]
            ],
            "type": "heatmap"
           }
          ],
          "heatmapgl": [
           {
            "colorbar": {
             "outlinewidth": 0,
             "ticks": ""
            },
            "colorscale": [
             [
              0,
              "#0d0887"
             ],
             [
              0.1111111111111111,
              "#46039f"
             ],
             [
              0.2222222222222222,
              "#7201a8"
             ],
             [
              0.3333333333333333,
              "#9c179e"
             ],
             [
              0.4444444444444444,
              "#bd3786"
             ],
             [
              0.5555555555555556,
              "#d8576b"
             ],
             [
              0.6666666666666666,
              "#ed7953"
             ],
             [
              0.7777777777777778,
              "#fb9f3a"
             ],
             [
              0.8888888888888888,
              "#fdca26"
             ],
             [
              1,
              "#f0f921"
             ]
            ],
            "type": "heatmapgl"
           }
          ],
          "histogram": [
           {
            "marker": {
             "pattern": {
              "fillmode": "overlay",
              "size": 10,
              "solidity": 0.2
             }
            },
            "type": "histogram"
           }
          ],
          "histogram2d": [
           {
            "colorbar": {
             "outlinewidth": 0,
             "ticks": ""
            },
            "colorscale": [
             [
              0,
              "#0d0887"
             ],
             [
              0.1111111111111111,
              "#46039f"
             ],
             [
              0.2222222222222222,
              "#7201a8"
             ],
             [
              0.3333333333333333,
              "#9c179e"
             ],
             [
              0.4444444444444444,
              "#bd3786"
             ],
             [
              0.5555555555555556,
              "#d8576b"
             ],
             [
              0.6666666666666666,
              "#ed7953"
             ],
             [
              0.7777777777777778,
              "#fb9f3a"
             ],
             [
              0.8888888888888888,
              "#fdca26"
             ],
             [
              1,
              "#f0f921"
             ]
            ],
            "type": "histogram2d"
           }
          ],
          "histogram2dcontour": [
           {
            "colorbar": {
             "outlinewidth": 0,
             "ticks": ""
            },
            "colorscale": [
             [
              0,
              "#0d0887"
             ],
             [
              0.1111111111111111,
              "#46039f"
             ],
             [
              0.2222222222222222,
              "#7201a8"
             ],
             [
              0.3333333333333333,
              "#9c179e"
             ],
             [
              0.4444444444444444,
              "#bd3786"
             ],
             [
              0.5555555555555556,
              "#d8576b"
             ],
             [
              0.6666666666666666,
              "#ed7953"
             ],
             [
              0.7777777777777778,
              "#fb9f3a"
             ],
             [
              0.8888888888888888,
              "#fdca26"
             ],
             [
              1,
              "#f0f921"
             ]
            ],
            "type": "histogram2dcontour"
           }
          ],
          "mesh3d": [
           {
            "colorbar": {
             "outlinewidth": 0,
             "ticks": ""
            },
            "type": "mesh3d"
           }
          ],
          "parcoords": [
           {
            "line": {
             "colorbar": {
              "outlinewidth": 0,
              "ticks": ""
             }
            },
            "type": "parcoords"
           }
          ],
          "pie": [
           {
            "automargin": true,
            "type": "pie"
           }
          ],
          "scatter": [
           {
            "fillpattern": {
             "fillmode": "overlay",
             "size": 10,
             "solidity": 0.2
            },
            "type": "scatter"
           }
          ],
          "scatter3d": [
           {
            "line": {
             "colorbar": {
              "outlinewidth": 0,
              "ticks": ""
             }
            },
            "marker": {
             "colorbar": {
              "outlinewidth": 0,
              "ticks": ""
             }
            },
            "type": "scatter3d"
           }
          ],
          "scattercarpet": [
           {
            "marker": {
             "colorbar": {
              "outlinewidth": 0,
              "ticks": ""
             }
            },
            "type": "scattercarpet"
           }
          ],
          "scattergeo": [
           {
            "marker": {
             "colorbar": {
              "outlinewidth": 0,
              "ticks": ""
             }
            },
            "type": "scattergeo"
           }
          ],
          "scattergl": [
           {
            "marker": {
             "colorbar": {
              "outlinewidth": 0,
              "ticks": ""
             }
            },
            "type": "scattergl"
           }
          ],
          "scattermapbox": [
           {
            "marker": {
             "colorbar": {
              "outlinewidth": 0,
              "ticks": ""
             }
            },
            "type": "scattermapbox"
           }
          ],
          "scatterpolar": [
           {
            "marker": {
             "colorbar": {
              "outlinewidth": 0,
              "ticks": ""
             }
            },
            "type": "scatterpolar"
           }
          ],
          "scatterpolargl": [
           {
            "marker": {
             "colorbar": {
              "outlinewidth": 0,
              "ticks": ""
             }
            },
            "type": "scatterpolargl"
           }
          ],
          "scatterternary": [
           {
            "marker": {
             "colorbar": {
              "outlinewidth": 0,
              "ticks": ""
             }
            },
            "type": "scatterternary"
           }
          ],
          "surface": [
           {
            "colorbar": {
             "outlinewidth": 0,
             "ticks": ""
            },
            "colorscale": [
             [
              0,
              "#0d0887"
             ],
             [
              0.1111111111111111,
              "#46039f"
             ],
             [
              0.2222222222222222,
              "#7201a8"
             ],
             [
              0.3333333333333333,
              "#9c179e"
             ],
             [
              0.4444444444444444,
              "#bd3786"
             ],
             [
              0.5555555555555556,
              "#d8576b"
             ],
             [
              0.6666666666666666,
              "#ed7953"
             ],
             [
              0.7777777777777778,
              "#fb9f3a"
             ],
             [
              0.8888888888888888,
              "#fdca26"
             ],
             [
              1,
              "#f0f921"
             ]
            ],
            "type": "surface"
           }
          ],
          "table": [
           {
            "cells": {
             "fill": {
              "color": "#EBF0F8"
             },
             "line": {
              "color": "white"
             }
            },
            "header": {
             "fill": {
              "color": "#C8D4E3"
             },
             "line": {
              "color": "white"
             }
            },
            "type": "table"
           }
          ]
         },
         "layout": {
          "annotationdefaults": {
           "arrowcolor": "#2a3f5f",
           "arrowhead": 0,
           "arrowwidth": 1
          },
          "autotypenumbers": "strict",
          "coloraxis": {
           "colorbar": {
            "outlinewidth": 0,
            "ticks": ""
           }
          },
          "colorscale": {
           "diverging": [
            [
             0,
             "#8e0152"
            ],
            [
             0.1,
             "#c51b7d"
            ],
            [
             0.2,
             "#de77ae"
            ],
            [
             0.3,
             "#f1b6da"
            ],
            [
             0.4,
             "#fde0ef"
            ],
            [
             0.5,
             "#f7f7f7"
            ],
            [
             0.6,
             "#e6f5d0"
            ],
            [
             0.7,
             "#b8e186"
            ],
            [
             0.8,
             "#7fbc41"
            ],
            [
             0.9,
             "#4d9221"
            ],
            [
             1,
             "#276419"
            ]
           ],
           "sequential": [
            [
             0,
             "#0d0887"
            ],
            [
             0.1111111111111111,
             "#46039f"
            ],
            [
             0.2222222222222222,
             "#7201a8"
            ],
            [
             0.3333333333333333,
             "#9c179e"
            ],
            [
             0.4444444444444444,
             "#bd3786"
            ],
            [
             0.5555555555555556,
             "#d8576b"
            ],
            [
             0.6666666666666666,
             "#ed7953"
            ],
            [
             0.7777777777777778,
             "#fb9f3a"
            ],
            [
             0.8888888888888888,
             "#fdca26"
            ],
            [
             1,
             "#f0f921"
            ]
           ],
           "sequentialminus": [
            [
             0,
             "#0d0887"
            ],
            [
             0.1111111111111111,
             "#46039f"
            ],
            [
             0.2222222222222222,
             "#7201a8"
            ],
            [
             0.3333333333333333,
             "#9c179e"
            ],
            [
             0.4444444444444444,
             "#bd3786"
            ],
            [
             0.5555555555555556,
             "#d8576b"
            ],
            [
             0.6666666666666666,
             "#ed7953"
            ],
            [
             0.7777777777777778,
             "#fb9f3a"
            ],
            [
             0.8888888888888888,
             "#fdca26"
            ],
            [
             1,
             "#f0f921"
            ]
           ]
          },
          "colorway": [
           "#636efa",
           "#EF553B",
           "#00cc96",
           "#ab63fa",
           "#FFA15A",
           "#19d3f3",
           "#FF6692",
           "#B6E880",
           "#FF97FF",
           "#FECB52"
          ],
          "font": {
           "color": "#2a3f5f"
          },
          "geo": {
           "bgcolor": "white",
           "lakecolor": "white",
           "landcolor": "#E5ECF6",
           "showlakes": true,
           "showland": true,
           "subunitcolor": "white"
          },
          "hoverlabel": {
           "align": "left"
          },
          "hovermode": "closest",
          "mapbox": {
           "style": "light"
          },
          "paper_bgcolor": "white",
          "plot_bgcolor": "#E5ECF6",
          "polar": {
           "angularaxis": {
            "gridcolor": "white",
            "linecolor": "white",
            "ticks": ""
           },
           "bgcolor": "#E5ECF6",
           "radialaxis": {
            "gridcolor": "white",
            "linecolor": "white",
            "ticks": ""
           }
          },
          "scene": {
           "xaxis": {
            "backgroundcolor": "#E5ECF6",
            "gridcolor": "white",
            "gridwidth": 2,
            "linecolor": "white",
            "showbackground": true,
            "ticks": "",
            "zerolinecolor": "white"
           },
           "yaxis": {
            "backgroundcolor": "#E5ECF6",
            "gridcolor": "white",
            "gridwidth": 2,
            "linecolor": "white",
            "showbackground": true,
            "ticks": "",
            "zerolinecolor": "white"
           },
           "zaxis": {
            "backgroundcolor": "#E5ECF6",
            "gridcolor": "white",
            "gridwidth": 2,
            "linecolor": "white",
            "showbackground": true,
            "ticks": "",
            "zerolinecolor": "white"
           }
          },
          "shapedefaults": {
           "line": {
            "color": "#2a3f5f"
           }
          },
          "ternary": {
           "aaxis": {
            "gridcolor": "white",
            "linecolor": "white",
            "ticks": ""
           },
           "baxis": {
            "gridcolor": "white",
            "linecolor": "white",
            "ticks": ""
           },
           "bgcolor": "#E5ECF6",
           "caxis": {
            "gridcolor": "white",
            "linecolor": "white",
            "ticks": ""
           }
          },
          "title": {
           "x": 0.05
          },
          "xaxis": {
           "automargin": true,
           "gridcolor": "white",
           "linecolor": "white",
           "ticks": "",
           "title": {
            "standoff": 15
           },
           "zerolinecolor": "white",
           "zerolinewidth": 2
          },
          "yaxis": {
           "automargin": true,
           "gridcolor": "white",
           "linecolor": "white",
           "ticks": "",
           "title": {
            "standoff": 15
           },
           "zerolinecolor": "white",
           "zerolinewidth": 2
          }
         }
        },
        "title": {
         "text": "Population aged 50 to 59 in every continents between 1950 and 2021"
        },
        "xaxis": {
         "anchor": "y",
         "domain": [
          0,
          1
         ],
         "title": {
          "text": "Year"
         }
        },
        "yaxis": {
         "anchor": "x",
         "domain": [
          0,
          1
         ],
         "title": {
          "text": "Population aged 50 to 59 years"
         }
        }
       }
      }
     },
     "metadata": {},
     "output_type": "display_data"
    }
   ],
   "source": [
    "# Filter the DataFrame to select data related to other continents\n",
    "continents_data = filtered_pop[~filtered_pop['Continents and World'].isin(['World'])]\n",
    "\n",
    "# Columns to include in the plot\n",
    "columns_to_plot = ['Population aged 50 to 59 years']\n",
    "\n",
    "# Create an interactive line plot with multiple curves using Plotly Express\n",
    "fig = px.line(continents_data, x='Year', y='Population aged 50 to 59 years', color='Continents and World', \n",
    "              title='Population aged 50 to 59 in every continents between 1950 and 2021', \n",
    "              labels={'value': 'Population', 'Year': 'Year', 'Continents and World': 'Continent'})\n",
    "\n",
    "# Show the interactive line plot\n",
    "fig.show()"
   ]
  },
  {
   "cell_type": "markdown",
   "metadata": {},
   "source": [
    "## 2.4: Population aged 80 to 89 years"
   ]
  },
  {
   "cell_type": "markdown",
   "metadata": {},
   "source": [
    "The following data is repesenting people aged between 80 and 89 years in every continent around the globe.\n",
    "\n",
    "Because Asia is the most populous continent, it is not surprising to find it above the other curves. We can therefore notice that Europe has a great amount of people between 80 and 89 years, this could be explained by the life expectancy which is going upward, thus increasing the number of people reaching \"very old\" ages.\n",
    "\n",
    "We remark also that Africa is very under represented in this plot, Africa has a very young population so whith a forecast we would probably see a quick increase of the population in these years during the following decades. "
   ]
  },
  {
   "cell_type": "code",
   "execution_count": 24,
   "metadata": {},
   "outputs": [
    {
     "data": {
      "application/vnd.plotly.v1+json": {
       "config": {
        "plotlyServerURL": "https://plot.ly"
       },
       "data": [
        {
         "hovertemplate": "Continent=Africa (UN)<br>Year=%{x}<br>Population aged 80 to 89 years=%{y}<extra></extra>",
         "legendgroup": "Africa (UN)",
         "line": {
          "color": "#636efa",
          "dash": "solid"
         },
         "marker": {
          "symbol": "circle"
         },
         "mode": "lines",
         "name": "Africa (UN)",
         "orientation": "v",
         "showlegend": true,
         "type": "scatter",
         "x": [
          1950,
          1951,
          1952,
          1953,
          1954,
          1955,
          1956,
          1957,
          1958,
          1959,
          1960,
          1961,
          1962,
          1963,
          1964,
          1965,
          1966,
          1967,
          1968,
          1969,
          1970,
          1971,
          1972,
          1973,
          1974,
          1975,
          1976,
          1977,
          1978,
          1979,
          1980,
          1981,
          1982,
          1983,
          1984,
          1985,
          1986,
          1987,
          1988,
          1989,
          1990,
          1991,
          1992,
          1993,
          1994,
          1995,
          1996,
          1997,
          1998,
          1999,
          2000,
          2001,
          2002,
          2003,
          2004,
          2005,
          2006,
          2007,
          2008,
          2009,
          2010,
          2011,
          2012,
          2013,
          2014,
          2015,
          2016,
          2017,
          2018,
          2019,
          2020,
          2021
         ],
         "xaxis": "x",
         "y": [
          700903,
          709683,
          718430,
          728561,
          741198,
          756469,
          773625,
          791754,
          810091,
          829092,
          848898,
          871204,
          896358,
          922691,
          950396,
          979132,
          1007304,
          1034058,
          1060467,
          1086692,
          1112244,
          1136989,
          1162343,
          1190988,
          1223690,
          1259941,
          1302593,
          1350389,
          1402687,
          1458775,
          1509899,
          1558995,
          1614181,
          1670481,
          1726721,
          1786739,
          1849974,
          1924373,
          2001526,
          2070681,
          2139478,
          2212269,
          2283380,
          2350783,
          2421259,
          2492567,
          2568899,
          2657463,
          2752009,
          2851588,
          2960826,
          3074590,
          3190437,
          3306821,
          3426283,
          3553239,
          3684624,
          3817912,
          3951053,
          4086409,
          4228220,
          4375232,
          4521036,
          4661992,
          4800355,
          4936880,
          5078636,
          5231323,
          5390368,
          5549767,
          5672989,
          5739974
         ],
         "yaxis": "y"
        },
        {
         "hovertemplate": "Continent=Asia (UN)<br>Year=%{x}<br>Population aged 80 to 89 years=%{y}<extra></extra>",
         "legendgroup": "Asia (UN)",
         "line": {
          "color": "#EF553B",
          "dash": "solid"
         },
         "marker": {
          "symbol": "circle"
         },
         "mode": "lines",
         "name": "Asia (UN)",
         "orientation": "v",
         "showlegend": true,
         "type": "scatter",
         "x": [
          1950,
          1951,
          1952,
          1953,
          1954,
          1955,
          1956,
          1957,
          1958,
          1959,
          1960,
          1961,
          1962,
          1963,
          1964,
          1965,
          1966,
          1967,
          1968,
          1969,
          1970,
          1971,
          1972,
          1973,
          1974,
          1975,
          1976,
          1977,
          1978,
          1979,
          1980,
          1981,
          1982,
          1983,
          1984,
          1985,
          1986,
          1987,
          1988,
          1989,
          1990,
          1991,
          1992,
          1993,
          1994,
          1995,
          1996,
          1997,
          1998,
          1999,
          2000,
          2001,
          2002,
          2003,
          2004,
          2005,
          2006,
          2007,
          2008,
          2009,
          2010,
          2011,
          2012,
          2013,
          2014,
          2015,
          2016,
          2017,
          2018,
          2019,
          2020,
          2021
         ],
         "xaxis": "x",
         "y": [
          6375938,
          6233096,
          6141401,
          6093195,
          6062275,
          6038162,
          6021905,
          6007706,
          6003688,
          5984320,
          5938574,
          5919935,
          5959621,
          6046881,
          6164281,
          6310688,
          6504581,
          6769076,
          7083637,
          7394052,
          7658118,
          7892864,
          8166339,
          8506018,
          8904448,
          9360846,
          9858522,
          10400333,
          10981294,
          11571311,
          12189933,
          12864135,
          13570073,
          14293871,
          15020283,
          15749535,
          16492665,
          17246628,
          18028946,
          18856532,
          19669732,
          20427244,
          21208872,
          22099384,
          23088208,
          24081196,
          25058964,
          26046794,
          27041736,
          28086436,
          29303098,
          30698848,
          32170586,
          33726040,
          35444996,
          37286656,
          39111600,
          40958188,
          42918292,
          44904704,
          46891516,
          48874624,
          50925860,
          53188464,
          55533196,
          57870572,
          60252290,
          62580590,
          64783040,
          66818936,
          68667440,
          70142200
         ],
         "yaxis": "y"
        },
        {
         "hovertemplate": "Continent=Europe (UN)<br>Year=%{x}<br>Population aged 80 to 89 years=%{y}<extra></extra>",
         "legendgroup": "Europe (UN)",
         "line": {
          "color": "#00cc96",
          "dash": "solid"
         },
         "marker": {
          "symbol": "circle"
         },
         "mode": "lines",
         "name": "Europe (UN)",
         "orientation": "v",
         "showlegend": true,
         "type": "scatter",
         "x": [
          1950,
          1951,
          1952,
          1953,
          1954,
          1955,
          1956,
          1957,
          1958,
          1959,
          1960,
          1961,
          1962,
          1963,
          1964,
          1965,
          1966,
          1967,
          1968,
          1969,
          1970,
          1971,
          1972,
          1973,
          1974,
          1975,
          1976,
          1977,
          1978,
          1979,
          1980,
          1981,
          1982,
          1983,
          1984,
          1985,
          1986,
          1987,
          1988,
          1989,
          1990,
          1991,
          1992,
          1993,
          1994,
          1995,
          1996,
          1997,
          1998,
          1999,
          2000,
          2001,
          2002,
          2003,
          2004,
          2005,
          2006,
          2007,
          2008,
          2009,
          2010,
          2011,
          2012,
          2013,
          2014,
          2015,
          2016,
          2017,
          2018,
          2019,
          2020,
          2021
         ],
         "xaxis": "x",
         "y": [
          5280343,
          5366671,
          5488522,
          5661139,
          5834158,
          6033721,
          6248288,
          6478588,
          6727696,
          6975951,
          7210378,
          7452390,
          7676453,
          7871468,
          8126548,
          8410954,
          8678026,
          8971821,
          9260194,
          9509479,
          9728240,
          9936203,
          10149375,
          10366900,
          10604400,
          10853785,
          11128012,
          11451893,
          11797064,
          12178995,
          12643380,
          13147298,
          13685378,
          14226438,
          14751915,
          15263761,
          15780693,
          16359920,
          16963572,
          17565990,
          18158466,
          18683852,
          19238772,
          19770996,
          20160774,
          20220406,
          19776020,
          19067360,
          18421112,
          18094480,
          18264300,
          18812920,
          19433270,
          20087550,
          20866512,
          21822692,
          22964840,
          24188320,
          25390406,
          26463296,
          27337638,
          28004276,
          28485300,
          28791354,
          29060732,
          29472564,
          30044956,
          30803666,
          31632830,
          32458658,
          33059796,
          33231192
         ],
         "yaxis": "y"
        },
        {
         "hovertemplate": "Continent=Latin America and the Caribbean (UN)<br>Year=%{x}<br>Population aged 80 to 89 years=%{y}<extra></extra>",
         "legendgroup": "Latin America and the Caribbean (UN)",
         "line": {
          "color": "#ab63fa",
          "dash": "solid"
         },
         "marker": {
          "symbol": "circle"
         },
         "mode": "lines",
         "name": "Latin America and the Caribbean (UN)",
         "orientation": "v",
         "showlegend": true,
         "type": "scatter",
         "x": [
          1950,
          1951,
          1952,
          1953,
          1954,
          1955,
          1956,
          1957,
          1958,
          1959,
          1960,
          1961,
          1962,
          1963,
          1964,
          1965,
          1966,
          1967,
          1968,
          1969,
          1970,
          1971,
          1972,
          1973,
          1974,
          1975,
          1976,
          1977,
          1978,
          1979,
          1980,
          1981,
          1982,
          1983,
          1984,
          1985,
          1986,
          1987,
          1988,
          1989,
          1990,
          1991,
          1992,
          1993,
          1994,
          1995,
          1996,
          1997,
          1998,
          1999,
          2000,
          2001,
          2002,
          2003,
          2004,
          2005,
          2006,
          2007,
          2008,
          2009,
          2010,
          2011,
          2012,
          2013,
          2014,
          2015,
          2016,
          2017,
          2018,
          2019,
          2020,
          2021
         ],
         "xaxis": "x",
         "y": [
          665617,
          660856,
          663212,
          669008,
          677854,
          689876,
          705276,
          722829,
          742144,
          762654,
          781308,
          800451,
          825945,
          857753,
          894580,
          938312,
          988918,
          1043295,
          1098073,
          1150134,
          1198321,
          1252623,
          1317507,
          1385013,
          1454786,
          1531915,
          1616555,
          1706570,
          1799605,
          1894265,
          1984316,
          2069603,
          2159724,
          2254997,
          2352430,
          2452202,
          2556110,
          2665214,
          2778536,
          2898090,
          3020961,
          3144930,
          3272578,
          3404819,
          3545812,
          3690842,
          3834583,
          3979978,
          4130438,
          4292856,
          4472559,
          4670768,
          4887092,
          5115145,
          5356491,
          5616420,
          5891251,
          6170642,
          6451794,
          6730346,
          6993184,
          7257713,
          7530346,
          7800407,
          8068990,
          8332748,
          8592212,
          8863966,
          9159120,
          9453965,
          9691432,
          9863803
         ],
         "yaxis": "y"
        },
        {
         "hovertemplate": "Continent=Northern America (UN)<br>Year=%{x}<br>Population aged 80 to 89 years=%{y}<extra></extra>",
         "legendgroup": "Northern America (UN)",
         "line": {
          "color": "#FFA15A",
          "dash": "solid"
         },
         "marker": {
          "symbol": "circle"
         },
         "mode": "lines",
         "name": "Northern America (UN)",
         "orientation": "v",
         "showlegend": true,
         "type": "scatter",
         "x": [
          1950,
          1951,
          1952,
          1953,
          1954,
          1955,
          1956,
          1957,
          1958,
          1959,
          1960,
          1961,
          1962,
          1963,
          1964,
          1965,
          1966,
          1967,
          1968,
          1969,
          1970,
          1971,
          1972,
          1973,
          1974,
          1975,
          1976,
          1977,
          1978,
          1979,
          1980,
          1981,
          1982,
          1983,
          1984,
          1985,
          1986,
          1987,
          1988,
          1989,
          1990,
          1991,
          1992,
          1993,
          1994,
          1995,
          1996,
          1997,
          1998,
          1999,
          2000,
          2001,
          2002,
          2003,
          2004,
          2005,
          2006,
          2007,
          2008,
          2009,
          2010,
          2011,
          2012,
          2013,
          2014,
          2015,
          2016,
          2017,
          2018,
          2019,
          2020,
          2021
         ],
         "xaxis": "x",
         "y": [
          1703121,
          1776863,
          1854867,
          1937293,
          2024862,
          2120228,
          2210499,
          2289760,
          2362711,
          2438570,
          2525274,
          2617792,
          2708118,
          2797891,
          2900167,
          3010325,
          3110689,
          3208570,
          3324058,
          3455039,
          3581652,
          3699555,
          3798648,
          3875497,
          3972249,
          4112289,
          4255270,
          4389009,
          4535694,
          4657983,
          4771398,
          4879556,
          5028934,
          5187804,
          5297339,
          5441548,
          5585110,
          5737897,
          5911759,
          6089745,
          6288951,
          6522535,
          6760147,
          6959102,
          7146407,
          7299380,
          7439102,
          7561292,
          7643015,
          7792987,
          8018542,
          8230367,
          8393102,
          8675797,
          8974636,
          9134808,
          9369377,
          9681099,
          9955903,
          10268208,
          10555461,
          10728353,
          10833312,
          10867221,
          10894909,
          10947169,
          11032765,
          11118764,
          11242194,
          11398067,
          11560451,
          11764499
         ],
         "yaxis": "y"
        },
        {
         "hovertemplate": "Continent=Oceania (UN)<br>Year=%{x}<br>Population aged 80 to 89 years=%{y}<extra></extra>",
         "legendgroup": "Oceania (UN)",
         "line": {
          "color": "#19d3f3",
          "dash": "solid"
         },
         "marker": {
          "symbol": "circle"
         },
         "mode": "lines",
         "name": "Oceania (UN)",
         "orientation": "v",
         "showlegend": true,
         "type": "scatter",
         "x": [
          1950,
          1951,
          1952,
          1953,
          1954,
          1955,
          1956,
          1957,
          1958,
          1959,
          1960,
          1961,
          1962,
          1963,
          1964,
          1965,
          1966,
          1967,
          1968,
          1969,
          1970,
          1971,
          1972,
          1973,
          1974,
          1975,
          1976,
          1977,
          1978,
          1979,
          1980,
          1981,
          1982,
          1983,
          1984,
          1985,
          1986,
          1987,
          1988,
          1989,
          1990,
          1991,
          1992,
          1993,
          1994,
          1995,
          1996,
          1997,
          1998,
          1999,
          2000,
          2001,
          2002,
          2003,
          2004,
          2005,
          2006,
          2007,
          2008,
          2009,
          2010,
          2011,
          2012,
          2013,
          2014,
          2015,
          2016,
          2017,
          2018,
          2019,
          2020,
          2021
         ],
         "xaxis": "x",
         "y": [
          121692,
          124719,
          127155,
          130052,
          133502,
          137358,
          140940,
          144568,
          149456,
          155050,
          161406,
          168390,
          174540,
          180365,
          186423,
          192683,
          198726,
          205064,
          211581,
          218156,
          224641,
          229848,
          234609,
          238985,
          242015,
          245429,
          249334,
          252936,
          257504,
          264068,
          273675,
          284071,
          293239,
          302499,
          313883,
          325782,
          338647,
          353007,
          368130,
          383084,
          399498,
          418723,
          438522,
          459754,
          481785,
          502103,
          519552,
          534969,
          549325,
          563325,
          585176,
          613830,
          640882,
          667680,
          694651,
          723683,
          753787,
          782759,
          811585,
          839643,
          863714,
          882491,
          896812,
          908981,
          920967,
          933121,
          948664,
          968622,
          991986,
          1021112,
          1055614,
          1093921
         ],
         "yaxis": "y"
        }
       ],
       "layout": {
        "legend": {
         "title": {
          "text": "Continent"
         },
         "tracegroupgap": 0
        },
        "template": {
         "data": {
          "bar": [
           {
            "error_x": {
             "color": "#2a3f5f"
            },
            "error_y": {
             "color": "#2a3f5f"
            },
            "marker": {
             "line": {
              "color": "#E5ECF6",
              "width": 0.5
             },
             "pattern": {
              "fillmode": "overlay",
              "size": 10,
              "solidity": 0.2
             }
            },
            "type": "bar"
           }
          ],
          "barpolar": [
           {
            "marker": {
             "line": {
              "color": "#E5ECF6",
              "width": 0.5
             },
             "pattern": {
              "fillmode": "overlay",
              "size": 10,
              "solidity": 0.2
             }
            },
            "type": "barpolar"
           }
          ],
          "carpet": [
           {
            "aaxis": {
             "endlinecolor": "#2a3f5f",
             "gridcolor": "white",
             "linecolor": "white",
             "minorgridcolor": "white",
             "startlinecolor": "#2a3f5f"
            },
            "baxis": {
             "endlinecolor": "#2a3f5f",
             "gridcolor": "white",
             "linecolor": "white",
             "minorgridcolor": "white",
             "startlinecolor": "#2a3f5f"
            },
            "type": "carpet"
           }
          ],
          "choropleth": [
           {
            "colorbar": {
             "outlinewidth": 0,
             "ticks": ""
            },
            "type": "choropleth"
           }
          ],
          "contour": [
           {
            "colorbar": {
             "outlinewidth": 0,
             "ticks": ""
            },
            "colorscale": [
             [
              0,
              "#0d0887"
             ],
             [
              0.1111111111111111,
              "#46039f"
             ],
             [
              0.2222222222222222,
              "#7201a8"
             ],
             [
              0.3333333333333333,
              "#9c179e"
             ],
             [
              0.4444444444444444,
              "#bd3786"
             ],
             [
              0.5555555555555556,
              "#d8576b"
             ],
             [
              0.6666666666666666,
              "#ed7953"
             ],
             [
              0.7777777777777778,
              "#fb9f3a"
             ],
             [
              0.8888888888888888,
              "#fdca26"
             ],
             [
              1,
              "#f0f921"
             ]
            ],
            "type": "contour"
           }
          ],
          "contourcarpet": [
           {
            "colorbar": {
             "outlinewidth": 0,
             "ticks": ""
            },
            "type": "contourcarpet"
           }
          ],
          "heatmap": [
           {
            "colorbar": {
             "outlinewidth": 0,
             "ticks": ""
            },
            "colorscale": [
             [
              0,
              "#0d0887"
             ],
             [
              0.1111111111111111,
              "#46039f"
             ],
             [
              0.2222222222222222,
              "#7201a8"
             ],
             [
              0.3333333333333333,
              "#9c179e"
             ],
             [
              0.4444444444444444,
              "#bd3786"
             ],
             [
              0.5555555555555556,
              "#d8576b"
             ],
             [
              0.6666666666666666,
              "#ed7953"
             ],
             [
              0.7777777777777778,
              "#fb9f3a"
             ],
             [
              0.8888888888888888,
              "#fdca26"
             ],
             [
              1,
              "#f0f921"
             ]
            ],
            "type": "heatmap"
           }
          ],
          "heatmapgl": [
           {
            "colorbar": {
             "outlinewidth": 0,
             "ticks": ""
            },
            "colorscale": [
             [
              0,
              "#0d0887"
             ],
             [
              0.1111111111111111,
              "#46039f"
             ],
             [
              0.2222222222222222,
              "#7201a8"
             ],
             [
              0.3333333333333333,
              "#9c179e"
             ],
             [
              0.4444444444444444,
              "#bd3786"
             ],
             [
              0.5555555555555556,
              "#d8576b"
             ],
             [
              0.6666666666666666,
              "#ed7953"
             ],
             [
              0.7777777777777778,
              "#fb9f3a"
             ],
             [
              0.8888888888888888,
              "#fdca26"
             ],
             [
              1,
              "#f0f921"
             ]
            ],
            "type": "heatmapgl"
           }
          ],
          "histogram": [
           {
            "marker": {
             "pattern": {
              "fillmode": "overlay",
              "size": 10,
              "solidity": 0.2
             }
            },
            "type": "histogram"
           }
          ],
          "histogram2d": [
           {
            "colorbar": {
             "outlinewidth": 0,
             "ticks": ""
            },
            "colorscale": [
             [
              0,
              "#0d0887"
             ],
             [
              0.1111111111111111,
              "#46039f"
             ],
             [
              0.2222222222222222,
              "#7201a8"
             ],
             [
              0.3333333333333333,
              "#9c179e"
             ],
             [
              0.4444444444444444,
              "#bd3786"
             ],
             [
              0.5555555555555556,
              "#d8576b"
             ],
             [
              0.6666666666666666,
              "#ed7953"
             ],
             [
              0.7777777777777778,
              "#fb9f3a"
             ],
             [
              0.8888888888888888,
              "#fdca26"
             ],
             [
              1,
              "#f0f921"
             ]
            ],
            "type": "histogram2d"
           }
          ],
          "histogram2dcontour": [
           {
            "colorbar": {
             "outlinewidth": 0,
             "ticks": ""
            },
            "colorscale": [
             [
              0,
              "#0d0887"
             ],
             [
              0.1111111111111111,
              "#46039f"
             ],
             [
              0.2222222222222222,
              "#7201a8"
             ],
             [
              0.3333333333333333,
              "#9c179e"
             ],
             [
              0.4444444444444444,
              "#bd3786"
             ],
             [
              0.5555555555555556,
              "#d8576b"
             ],
             [
              0.6666666666666666,
              "#ed7953"
             ],
             [
              0.7777777777777778,
              "#fb9f3a"
             ],
             [
              0.8888888888888888,
              "#fdca26"
             ],
             [
              1,
              "#f0f921"
             ]
            ],
            "type": "histogram2dcontour"
           }
          ],
          "mesh3d": [
           {
            "colorbar": {
             "outlinewidth": 0,
             "ticks": ""
            },
            "type": "mesh3d"
           }
          ],
          "parcoords": [
           {
            "line": {
             "colorbar": {
              "outlinewidth": 0,
              "ticks": ""
             }
            },
            "type": "parcoords"
           }
          ],
          "pie": [
           {
            "automargin": true,
            "type": "pie"
           }
          ],
          "scatter": [
           {
            "fillpattern": {
             "fillmode": "overlay",
             "size": 10,
             "solidity": 0.2
            },
            "type": "scatter"
           }
          ],
          "scatter3d": [
           {
            "line": {
             "colorbar": {
              "outlinewidth": 0,
              "ticks": ""
             }
            },
            "marker": {
             "colorbar": {
              "outlinewidth": 0,
              "ticks": ""
             }
            },
            "type": "scatter3d"
           }
          ],
          "scattercarpet": [
           {
            "marker": {
             "colorbar": {
              "outlinewidth": 0,
              "ticks": ""
             }
            },
            "type": "scattercarpet"
           }
          ],
          "scattergeo": [
           {
            "marker": {
             "colorbar": {
              "outlinewidth": 0,
              "ticks": ""
             }
            },
            "type": "scattergeo"
           }
          ],
          "scattergl": [
           {
            "marker": {
             "colorbar": {
              "outlinewidth": 0,
              "ticks": ""
             }
            },
            "type": "scattergl"
           }
          ],
          "scattermapbox": [
           {
            "marker": {
             "colorbar": {
              "outlinewidth": 0,
              "ticks": ""
             }
            },
            "type": "scattermapbox"
           }
          ],
          "scatterpolar": [
           {
            "marker": {
             "colorbar": {
              "outlinewidth": 0,
              "ticks": ""
             }
            },
            "type": "scatterpolar"
           }
          ],
          "scatterpolargl": [
           {
            "marker": {
             "colorbar": {
              "outlinewidth": 0,
              "ticks": ""
             }
            },
            "type": "scatterpolargl"
           }
          ],
          "scatterternary": [
           {
            "marker": {
             "colorbar": {
              "outlinewidth": 0,
              "ticks": ""
             }
            },
            "type": "scatterternary"
           }
          ],
          "surface": [
           {
            "colorbar": {
             "outlinewidth": 0,
             "ticks": ""
            },
            "colorscale": [
             [
              0,
              "#0d0887"
             ],
             [
              0.1111111111111111,
              "#46039f"
             ],
             [
              0.2222222222222222,
              "#7201a8"
             ],
             [
              0.3333333333333333,
              "#9c179e"
             ],
             [
              0.4444444444444444,
              "#bd3786"
             ],
             [
              0.5555555555555556,
              "#d8576b"
             ],
             [
              0.6666666666666666,
              "#ed7953"
             ],
             [
              0.7777777777777778,
              "#fb9f3a"
             ],
             [
              0.8888888888888888,
              "#fdca26"
             ],
             [
              1,
              "#f0f921"
             ]
            ],
            "type": "surface"
           }
          ],
          "table": [
           {
            "cells": {
             "fill": {
              "color": "#EBF0F8"
             },
             "line": {
              "color": "white"
             }
            },
            "header": {
             "fill": {
              "color": "#C8D4E3"
             },
             "line": {
              "color": "white"
             }
            },
            "type": "table"
           }
          ]
         },
         "layout": {
          "annotationdefaults": {
           "arrowcolor": "#2a3f5f",
           "arrowhead": 0,
           "arrowwidth": 1
          },
          "autotypenumbers": "strict",
          "coloraxis": {
           "colorbar": {
            "outlinewidth": 0,
            "ticks": ""
           }
          },
          "colorscale": {
           "diverging": [
            [
             0,
             "#8e0152"
            ],
            [
             0.1,
             "#c51b7d"
            ],
            [
             0.2,
             "#de77ae"
            ],
            [
             0.3,
             "#f1b6da"
            ],
            [
             0.4,
             "#fde0ef"
            ],
            [
             0.5,
             "#f7f7f7"
            ],
            [
             0.6,
             "#e6f5d0"
            ],
            [
             0.7,
             "#b8e186"
            ],
            [
             0.8,
             "#7fbc41"
            ],
            [
             0.9,
             "#4d9221"
            ],
            [
             1,
             "#276419"
            ]
           ],
           "sequential": [
            [
             0,
             "#0d0887"
            ],
            [
             0.1111111111111111,
             "#46039f"
            ],
            [
             0.2222222222222222,
             "#7201a8"
            ],
            [
             0.3333333333333333,
             "#9c179e"
            ],
            [
             0.4444444444444444,
             "#bd3786"
            ],
            [
             0.5555555555555556,
             "#d8576b"
            ],
            [
             0.6666666666666666,
             "#ed7953"
            ],
            [
             0.7777777777777778,
             "#fb9f3a"
            ],
            [
             0.8888888888888888,
             "#fdca26"
            ],
            [
             1,
             "#f0f921"
            ]
           ],
           "sequentialminus": [
            [
             0,
             "#0d0887"
            ],
            [
             0.1111111111111111,
             "#46039f"
            ],
            [
             0.2222222222222222,
             "#7201a8"
            ],
            [
             0.3333333333333333,
             "#9c179e"
            ],
            [
             0.4444444444444444,
             "#bd3786"
            ],
            [
             0.5555555555555556,
             "#d8576b"
            ],
            [
             0.6666666666666666,
             "#ed7953"
            ],
            [
             0.7777777777777778,
             "#fb9f3a"
            ],
            [
             0.8888888888888888,
             "#fdca26"
            ],
            [
             1,
             "#f0f921"
            ]
           ]
          },
          "colorway": [
           "#636efa",
           "#EF553B",
           "#00cc96",
           "#ab63fa",
           "#FFA15A",
           "#19d3f3",
           "#FF6692",
           "#B6E880",
           "#FF97FF",
           "#FECB52"
          ],
          "font": {
           "color": "#2a3f5f"
          },
          "geo": {
           "bgcolor": "white",
           "lakecolor": "white",
           "landcolor": "#E5ECF6",
           "showlakes": true,
           "showland": true,
           "subunitcolor": "white"
          },
          "hoverlabel": {
           "align": "left"
          },
          "hovermode": "closest",
          "mapbox": {
           "style": "light"
          },
          "paper_bgcolor": "white",
          "plot_bgcolor": "#E5ECF6",
          "polar": {
           "angularaxis": {
            "gridcolor": "white",
            "linecolor": "white",
            "ticks": ""
           },
           "bgcolor": "#E5ECF6",
           "radialaxis": {
            "gridcolor": "white",
            "linecolor": "white",
            "ticks": ""
           }
          },
          "scene": {
           "xaxis": {
            "backgroundcolor": "#E5ECF6",
            "gridcolor": "white",
            "gridwidth": 2,
            "linecolor": "white",
            "showbackground": true,
            "ticks": "",
            "zerolinecolor": "white"
           },
           "yaxis": {
            "backgroundcolor": "#E5ECF6",
            "gridcolor": "white",
            "gridwidth": 2,
            "linecolor": "white",
            "showbackground": true,
            "ticks": "",
            "zerolinecolor": "white"
           },
           "zaxis": {
            "backgroundcolor": "#E5ECF6",
            "gridcolor": "white",
            "gridwidth": 2,
            "linecolor": "white",
            "showbackground": true,
            "ticks": "",
            "zerolinecolor": "white"
           }
          },
          "shapedefaults": {
           "line": {
            "color": "#2a3f5f"
           }
          },
          "ternary": {
           "aaxis": {
            "gridcolor": "white",
            "linecolor": "white",
            "ticks": ""
           },
           "baxis": {
            "gridcolor": "white",
            "linecolor": "white",
            "ticks": ""
           },
           "bgcolor": "#E5ECF6",
           "caxis": {
            "gridcolor": "white",
            "linecolor": "white",
            "ticks": ""
           }
          },
          "title": {
           "x": 0.05
          },
          "xaxis": {
           "automargin": true,
           "gridcolor": "white",
           "linecolor": "white",
           "ticks": "",
           "title": {
            "standoff": 15
           },
           "zerolinecolor": "white",
           "zerolinewidth": 2
          },
          "yaxis": {
           "automargin": true,
           "gridcolor": "white",
           "linecolor": "white",
           "ticks": "",
           "title": {
            "standoff": 15
           },
           "zerolinecolor": "white",
           "zerolinewidth": 2
          }
         }
        },
        "title": {
         "text": "Population aged 80 to 89 in every continents between 1950 and 2021"
        },
        "xaxis": {
         "anchor": "y",
         "domain": [
          0,
          1
         ],
         "title": {
          "text": "Year"
         }
        },
        "yaxis": {
         "anchor": "x",
         "domain": [
          0,
          1
         ],
         "title": {
          "text": "Population aged 80 to 89 years"
         }
        }
       }
      }
     },
     "metadata": {},
     "output_type": "display_data"
    }
   ],
   "source": [
    "# Filter the DataFrame to select data related to other continents\n",
    "continents_data = filtered_pop[~filtered_pop['Continents and World'].isin(['World'])]\n",
    "\n",
    "# Columns to include in the plot\n",
    "columns_to_plot = ['Population aged 80 to 89 years']\n",
    "\n",
    "# Create an interactive line plot with multiple curves using Plotly Express\n",
    "fig = px.line(continents_data, x='Year', y='Population aged 80 to 89 years', color='Continents and World', \n",
    "              title='Population aged 80 to 89 in every continents between 1950 and 2021', \n",
    "              labels={'value': 'Population', 'Year': 'Year', 'Continents and World': 'Continent'})\n",
    "\n",
    "# Show the interactive line plot\n",
    "fig.show()"
   ]
  },
  {
   "cell_type": "markdown",
   "metadata": {},
   "source": [
    "## 3 Population distrbution by age group among the continents between 1950 and 2021"
   ]
  },
  {
   "cell_type": "markdown",
   "metadata": {},
   "source": [
    "**In order to run the following cell, you need to install ipywidgets in your terminal : pip install ipywidgets**\n"
   ]
  },
  {
   "cell_type": "markdown",
   "metadata": {},
   "source": [
    "The following stack bar plot presents the age distrbution of different continents. \n",
    "\n",
    "We observed that population aged 20 to 29 has the largest percentage among the age groups in the 1950s whereas the distribution for the elder groups increased in the 2020s which could be a result of medical advances and thus increase of life expectancy. \n",
    "\n",
    "Europe and the Northern America has a lower proportion of population aged from 1 to 39 as compared to the other continents and even worsened in 2021 in comparision with the previous years which may indicate that they might encounter problems with ageing population."
   ]
  },
  {
   "cell_type": "code",
   "execution_count": 25,
   "metadata": {},
   "outputs": [
    {
     "data": {
      "application/vnd.jupyter.widget-view+json": {
       "model_id": "8ff8b6fba9cd4caf91e0fd1fbae16795",
       "version_major": 2,
       "version_minor": 0
      },
      "text/plain": [
       "VBox(children=(Dropdown(description='Year:', options=(1950, 1951, 1952, 1953, 1954, 1955, 1956, 1957, 1958, 19…"
      ]
     },
     "metadata": {},
     "output_type": "display_data"
    },
    {
     "data": {
      "application/vnd.plotly.v1+json": {
       "config": {
        "plotlyServerURL": "https://plot.ly"
       },
       "data": [
        {
         "marker": {
          "color": "green"
         },
         "name": "Africa (UN)",
         "type": "bar",
         "x": [
          "Africa (UN)"
         ],
         "y": [
          9393661
         ]
        },
        {
         "marker": {
          "color": "blue"
         },
         "name": "Europe (UN)",
         "type": "bar",
         "x": [
          "Europe (UN)"
         ],
         "y": [
          12170502
         ]
        },
        {
         "marker": {
          "color": "red"
         },
         "name": "Asia (UN)",
         "type": "bar",
         "x": [
          "Asia (UN)"
         ],
         "y": [
          49825476
         ]
        },
        {
         "marker": {
          "color": "orange"
         },
         "name": "Northern America (UN)",
         "type": "bar",
         "x": [
          "Northern America (UN)"
         ],
         "y": [
          3466522
         ]
        },
        {
         "marker": {
          "color": "purple"
         },
         "name": "Latin America and Caribbean (UN)",
         "type": "bar",
         "x": [],
         "y": []
        },
        {
         "marker": {
          "color": "brown"
         },
         "name": "Oceania (UN)",
         "type": "bar",
         "x": [
          "Oceania (UN)"
         ],
         "y": [
          328084
         ]
        }
       ],
       "layout": {
        "template": {
         "data": {
          "bar": [
           {
            "error_x": {
             "color": "#2a3f5f"
            },
            "error_y": {
             "color": "#2a3f5f"
            },
            "marker": {
             "line": {
              "color": "#E5ECF6",
              "width": 0.5
             },
             "pattern": {
              "fillmode": "overlay",
              "size": 10,
              "solidity": 0.2
             }
            },
            "type": "bar"
           }
          ],
          "barpolar": [
           {
            "marker": {
             "line": {
              "color": "#E5ECF6",
              "width": 0.5
             },
             "pattern": {
              "fillmode": "overlay",
              "size": 10,
              "solidity": 0.2
             }
            },
            "type": "barpolar"
           }
          ],
          "carpet": [
           {
            "aaxis": {
             "endlinecolor": "#2a3f5f",
             "gridcolor": "white",
             "linecolor": "white",
             "minorgridcolor": "white",
             "startlinecolor": "#2a3f5f"
            },
            "baxis": {
             "endlinecolor": "#2a3f5f",
             "gridcolor": "white",
             "linecolor": "white",
             "minorgridcolor": "white",
             "startlinecolor": "#2a3f5f"
            },
            "type": "carpet"
           }
          ],
          "choropleth": [
           {
            "colorbar": {
             "outlinewidth": 0,
             "ticks": ""
            },
            "type": "choropleth"
           }
          ],
          "contour": [
           {
            "colorbar": {
             "outlinewidth": 0,
             "ticks": ""
            },
            "colorscale": [
             [
              0,
              "#0d0887"
             ],
             [
              0.1111111111111111,
              "#46039f"
             ],
             [
              0.2222222222222222,
              "#7201a8"
             ],
             [
              0.3333333333333333,
              "#9c179e"
             ],
             [
              0.4444444444444444,
              "#bd3786"
             ],
             [
              0.5555555555555556,
              "#d8576b"
             ],
             [
              0.6666666666666666,
              "#ed7953"
             ],
             [
              0.7777777777777778,
              "#fb9f3a"
             ],
             [
              0.8888888888888888,
              "#fdca26"
             ],
             [
              1,
              "#f0f921"
             ]
            ],
            "type": "contour"
           }
          ],
          "contourcarpet": [
           {
            "colorbar": {
             "outlinewidth": 0,
             "ticks": ""
            },
            "type": "contourcarpet"
           }
          ],
          "heatmap": [
           {
            "colorbar": {
             "outlinewidth": 0,
             "ticks": ""
            },
            "colorscale": [
             [
              0,
              "#0d0887"
             ],
             [
              0.1111111111111111,
              "#46039f"
             ],
             [
              0.2222222222222222,
              "#7201a8"
             ],
             [
              0.3333333333333333,
              "#9c179e"
             ],
             [
              0.4444444444444444,
              "#bd3786"
             ],
             [
              0.5555555555555556,
              "#d8576b"
             ],
             [
              0.6666666666666666,
              "#ed7953"
             ],
             [
              0.7777777777777778,
              "#fb9f3a"
             ],
             [
              0.8888888888888888,
              "#fdca26"
             ],
             [
              1,
              "#f0f921"
             ]
            ],
            "type": "heatmap"
           }
          ],
          "heatmapgl": [
           {
            "colorbar": {
             "outlinewidth": 0,
             "ticks": ""
            },
            "colorscale": [
             [
              0,
              "#0d0887"
             ],
             [
              0.1111111111111111,
              "#46039f"
             ],
             [
              0.2222222222222222,
              "#7201a8"
             ],
             [
              0.3333333333333333,
              "#9c179e"
             ],
             [
              0.4444444444444444,
              "#bd3786"
             ],
             [
              0.5555555555555556,
              "#d8576b"
             ],
             [
              0.6666666666666666,
              "#ed7953"
             ],
             [
              0.7777777777777778,
              "#fb9f3a"
             ],
             [
              0.8888888888888888,
              "#fdca26"
             ],
             [
              1,
              "#f0f921"
             ]
            ],
            "type": "heatmapgl"
           }
          ],
          "histogram": [
           {
            "marker": {
             "pattern": {
              "fillmode": "overlay",
              "size": 10,
              "solidity": 0.2
             }
            },
            "type": "histogram"
           }
          ],
          "histogram2d": [
           {
            "colorbar": {
             "outlinewidth": 0,
             "ticks": ""
            },
            "colorscale": [
             [
              0,
              "#0d0887"
             ],
             [
              0.1111111111111111,
              "#46039f"
             ],
             [
              0.2222222222222222,
              "#7201a8"
             ],
             [
              0.3333333333333333,
              "#9c179e"
             ],
             [
              0.4444444444444444,
              "#bd3786"
             ],
             [
              0.5555555555555556,
              "#d8576b"
             ],
             [
              0.6666666666666666,
              "#ed7953"
             ],
             [
              0.7777777777777778,
              "#fb9f3a"
             ],
             [
              0.8888888888888888,
              "#fdca26"
             ],
             [
              1,
              "#f0f921"
             ]
            ],
            "type": "histogram2d"
           }
          ],
          "histogram2dcontour": [
           {
            "colorbar": {
             "outlinewidth": 0,
             "ticks": ""
            },
            "colorscale": [
             [
              0,
              "#0d0887"
             ],
             [
              0.1111111111111111,
              "#46039f"
             ],
             [
              0.2222222222222222,
              "#7201a8"
             ],
             [
              0.3333333333333333,
              "#9c179e"
             ],
             [
              0.4444444444444444,
              "#bd3786"
             ],
             [
              0.5555555555555556,
              "#d8576b"
             ],
             [
              0.6666666666666666,
              "#ed7953"
             ],
             [
              0.7777777777777778,
              "#fb9f3a"
             ],
             [
              0.8888888888888888,
              "#fdca26"
             ],
             [
              1,
              "#f0f921"
             ]
            ],
            "type": "histogram2dcontour"
           }
          ],
          "mesh3d": [
           {
            "colorbar": {
             "outlinewidth": 0,
             "ticks": ""
            },
            "type": "mesh3d"
           }
          ],
          "parcoords": [
           {
            "line": {
             "colorbar": {
              "outlinewidth": 0,
              "ticks": ""
             }
            },
            "type": "parcoords"
           }
          ],
          "pie": [
           {
            "automargin": true,
            "type": "pie"
           }
          ],
          "scatter": [
           {
            "fillpattern": {
             "fillmode": "overlay",
             "size": 10,
             "solidity": 0.2
            },
            "type": "scatter"
           }
          ],
          "scatter3d": [
           {
            "line": {
             "colorbar": {
              "outlinewidth": 0,
              "ticks": ""
             }
            },
            "marker": {
             "colorbar": {
              "outlinewidth": 0,
              "ticks": ""
             }
            },
            "type": "scatter3d"
           }
          ],
          "scattercarpet": [
           {
            "marker": {
             "colorbar": {
              "outlinewidth": 0,
              "ticks": ""
             }
            },
            "type": "scattercarpet"
           }
          ],
          "scattergeo": [
           {
            "marker": {
             "colorbar": {
              "outlinewidth": 0,
              "ticks": ""
             }
            },
            "type": "scattergeo"
           }
          ],
          "scattergl": [
           {
            "marker": {
             "colorbar": {
              "outlinewidth": 0,
              "ticks": ""
             }
            },
            "type": "scattergl"
           }
          ],
          "scattermapbox": [
           {
            "marker": {
             "colorbar": {
              "outlinewidth": 0,
              "ticks": ""
             }
            },
            "type": "scattermapbox"
           }
          ],
          "scatterpolar": [
           {
            "marker": {
             "colorbar": {
              "outlinewidth": 0,
              "ticks": ""
             }
            },
            "type": "scatterpolar"
           }
          ],
          "scatterpolargl": [
           {
            "marker": {
             "colorbar": {
              "outlinewidth": 0,
              "ticks": ""
             }
            },
            "type": "scatterpolargl"
           }
          ],
          "scatterternary": [
           {
            "marker": {
             "colorbar": {
              "outlinewidth": 0,
              "ticks": ""
             }
            },
            "type": "scatterternary"
           }
          ],
          "surface": [
           {
            "colorbar": {
             "outlinewidth": 0,
             "ticks": ""
            },
            "colorscale": [
             [
              0,
              "#0d0887"
             ],
             [
              0.1111111111111111,
              "#46039f"
             ],
             [
              0.2222222222222222,
              "#7201a8"
             ],
             [
              0.3333333333333333,
              "#9c179e"
             ],
             [
              0.4444444444444444,
              "#bd3786"
             ],
             [
              0.5555555555555556,
              "#d8576b"
             ],
             [
              0.6666666666666666,
              "#ed7953"
             ],
             [
              0.7777777777777778,
              "#fb9f3a"
             ],
             [
              0.8888888888888888,
              "#fdca26"
             ],
             [
              1,
              "#f0f921"
             ]
            ],
            "type": "surface"
           }
          ],
          "table": [
           {
            "cells": {
             "fill": {
              "color": "#EBF0F8"
             },
             "line": {
              "color": "white"
             }
            },
            "header": {
             "fill": {
              "color": "#C8D4E3"
             },
             "line": {
              "color": "white"
             }
            },
            "type": "table"
           }
          ]
         },
         "layout": {
          "annotationdefaults": {
           "arrowcolor": "#2a3f5f",
           "arrowhead": 0,
           "arrowwidth": 1
          },
          "autotypenumbers": "strict",
          "coloraxis": {
           "colorbar": {
            "outlinewidth": 0,
            "ticks": ""
           }
          },
          "colorscale": {
           "diverging": [
            [
             0,
             "#8e0152"
            ],
            [
             0.1,
             "#c51b7d"
            ],
            [
             0.2,
             "#de77ae"
            ],
            [
             0.3,
             "#f1b6da"
            ],
            [
             0.4,
             "#fde0ef"
            ],
            [
             0.5,
             "#f7f7f7"
            ],
            [
             0.6,
             "#e6f5d0"
            ],
            [
             0.7,
             "#b8e186"
            ],
            [
             0.8,
             "#7fbc41"
            ],
            [
             0.9,
             "#4d9221"
            ],
            [
             1,
             "#276419"
            ]
           ],
           "sequential": [
            [
             0,
             "#0d0887"
            ],
            [
             0.1111111111111111,
             "#46039f"
            ],
            [
             0.2222222222222222,
             "#7201a8"
            ],
            [
             0.3333333333333333,
             "#9c179e"
            ],
            [
             0.4444444444444444,
             "#bd3786"
            ],
            [
             0.5555555555555556,
             "#d8576b"
            ],
            [
             0.6666666666666666,
             "#ed7953"
            ],
            [
             0.7777777777777778,
             "#fb9f3a"
            ],
            [
             0.8888888888888888,
             "#fdca26"
            ],
            [
             1,
             "#f0f921"
            ]
           ],
           "sequentialminus": [
            [
             0,
             "#0d0887"
            ],
            [
             0.1111111111111111,
             "#46039f"
            ],
            [
             0.2222222222222222,
             "#7201a8"
            ],
            [
             0.3333333333333333,
             "#9c179e"
            ],
            [
             0.4444444444444444,
             "#bd3786"
            ],
            [
             0.5555555555555556,
             "#d8576b"
            ],
            [
             0.6666666666666666,
             "#ed7953"
            ],
            [
             0.7777777777777778,
             "#fb9f3a"
            ],
            [
             0.8888888888888888,
             "#fdca26"
            ],
            [
             1,
             "#f0f921"
            ]
           ]
          },
          "colorway": [
           "#636efa",
           "#EF553B",
           "#00cc96",
           "#ab63fa",
           "#FFA15A",
           "#19d3f3",
           "#FF6692",
           "#B6E880",
           "#FF97FF",
           "#FECB52"
          ],
          "font": {
           "color": "#2a3f5f"
          },
          "geo": {
           "bgcolor": "white",
           "lakecolor": "white",
           "landcolor": "#E5ECF6",
           "showlakes": true,
           "showland": true,
           "subunitcolor": "white"
          },
          "hoverlabel": {
           "align": "left"
          },
          "hovermode": "closest",
          "mapbox": {
           "style": "light"
          },
          "paper_bgcolor": "white",
          "plot_bgcolor": "#E5ECF6",
          "polar": {
           "angularaxis": {
            "gridcolor": "white",
            "linecolor": "white",
            "ticks": ""
           },
           "bgcolor": "#E5ECF6",
           "radialaxis": {
            "gridcolor": "white",
            "linecolor": "white",
            "ticks": ""
           }
          },
          "scene": {
           "xaxis": {
            "backgroundcolor": "#E5ECF6",
            "gridcolor": "white",
            "gridwidth": 2,
            "linecolor": "white",
            "showbackground": true,
            "ticks": "",
            "zerolinecolor": "white"
           },
           "yaxis": {
            "backgroundcolor": "#E5ECF6",
            "gridcolor": "white",
            "gridwidth": 2,
            "linecolor": "white",
            "showbackground": true,
            "ticks": "",
            "zerolinecolor": "white"
           },
           "zaxis": {
            "backgroundcolor": "#E5ECF6",
            "gridcolor": "white",
            "gridwidth": 2,
            "linecolor": "white",
            "showbackground": true,
            "ticks": "",
            "zerolinecolor": "white"
           }
          },
          "shapedefaults": {
           "line": {
            "color": "#2a3f5f"
           }
          },
          "ternary": {
           "aaxis": {
            "gridcolor": "white",
            "linecolor": "white",
            "ticks": ""
           },
           "baxis": {
            "gridcolor": "white",
            "linecolor": "white",
            "ticks": ""
           },
           "bgcolor": "#E5ECF6",
           "caxis": {
            "gridcolor": "white",
            "linecolor": "white",
            "ticks": ""
           }
          },
          "title": {
           "x": 0.05
          },
          "xaxis": {
           "automargin": true,
           "gridcolor": "white",
           "linecolor": "white",
           "ticks": "",
           "title": {
            "standoff": 15
           },
           "zerolinecolor": "white",
           "zerolinewidth": 2
          },
          "yaxis": {
           "automargin": true,
           "gridcolor": "white",
           "linecolor": "white",
           "ticks": "",
           "title": {
            "standoff": 15
           },
           "zerolinecolor": "white",
           "zerolinewidth": 2
          }
         }
        },
        "title": {
         "text": "Population Distribution for Population of children under the age of 1 in 1950"
        },
        "xaxis": {
         "title": {
          "text": "Continent"
         }
        },
        "yaxis": {
         "title": {
          "text": "Population"
         }
        }
       }
      }
     },
     "metadata": {},
     "output_type": "display_data"
    }
   ],
   "source": [
    "# Assuming filtered_pop is already defined and loaded\n",
    "filtered_pop_without_World = filtered_pop[filtered_pop['Continents and World'] != 'World']\n",
    "\n",
    "years = sorted(filtered_pop_without_World['Year'].unique())\n",
    "age_groups = filtered_pop_without_World.columns[3:]\n",
    "\n",
    "# Define a color map for each region\n",
    "color_map = {\n",
    "    'Africa (UN)': 'green',\n",
    "    'Europe (UN)': 'blue',\n",
    "    'Asia (UN)': 'red',\n",
    "    'Northern America (UN)': 'orange',\n",
    "    'Latin America and Caribbean (UN)': 'purple',\n",
    "    'Oceania (UN)': 'brown'\n",
    "}\n",
    "\n",
    "def create_histogram_plot(selected_year, selected_age_group):\n",
    "    year_data = filtered_pop_without_World[filtered_pop_without_World['Year'] == selected_year]\n",
    "    age_group_data = year_data[['Continents and World', selected_age_group]]\n",
    "    \n",
    "    fig = go.Figure()\n",
    "\n",
    "    for continent, color in color_map.items():\n",
    "        continent_data = age_group_data[age_group_data['Continents and World'] == continent]\n",
    "        fig.add_trace(go.Bar(\n",
    "            x=continent_data['Continents and World'],\n",
    "            y=continent_data[selected_age_group],\n",
    "            name=continent,\n",
    "            marker=dict(color=color)\n",
    "        ))\n",
    "\n",
    "    fig.update_layout(\n",
    "        title_text=f'Population Distribution for {selected_age_group} in {selected_year}',\n",
    "        xaxis_title='Continent',\n",
    "        yaxis_title='Population'\n",
    "    )\n",
    "    fig.show()\n",
    "\n",
    "# Widgets for selecting year and age group\n",
    "year_dropdown = widgets.Dropdown(\n",
    "    options=years,\n",
    "    value=years[0],\n",
    "    description='Year:'\n",
    ")\n",
    "\n",
    "age_group_dropdown = widgets.Dropdown(\n",
    "    options=age_groups,\n",
    "    value=age_groups[0],\n",
    "    description='Age Group:'\n",
    ")\n",
    "\n",
    "def update_plot(change):\n",
    "    create_histogram_plot(year_dropdown.value, age_group_dropdown.value)\n",
    "\n",
    "year_dropdown.observe(update_plot, names='value')\n",
    "age_group_dropdown.observe(update_plot, names='value')\n",
    "\n",
    "# Display the widgets\n",
    "display(VBox([year_dropdown, age_group_dropdown]))\n",
    "create_histogram_plot(years[0], age_groups[0])"
   ]
  },
  {
   "cell_type": "markdown",
   "metadata": {},
   "source": [
    "## 4 Population distrution among the continents between 1950 and 2021"
   ]
  },
  {
   "cell_type": "markdown",
   "metadata": {},
   "source": [
    "The following pie-chart presents the distribution of the population (in percentage) between the continents across years. Due to the interactive part of the chart, one is able to select a year and find the information about the distribution that interest him/her."
   ]
  },
  {
   "cell_type": "code",
   "execution_count": 26,
   "metadata": {},
   "outputs": [
    {
     "data": {
      "application/vnd.jupyter.widget-view+json": {
       "model_id": "1bf515ab58714b26b223eb4750b5ea0e",
       "version_major": 2,
       "version_minor": 0
      },
      "text/plain": [
       "Dropdown(description='Select Year:', options=(1950, 1951, 1952, 1953, 1954, 1955, 1956, 1957, 1958, 1959, 1960…"
      ]
     },
     "metadata": {},
     "output_type": "display_data"
    },
    {
     "data": {
      "application/vnd.plotly.v1+json": {
       "config": {
        "plotlyServerURL": "https://plot.ly"
       },
       "data": [
        {
         "labels": [
          "Africa (UN)",
          "Asia (UN)",
          "Europe (UN)",
          "Latin America and the Caribbean (UN)",
          "Northern America (UN)",
          "Oceania (UN)"
         ],
         "marker": {
          "colors": [
           "green",
           "red",
           "blue",
           "purple",
           "orange",
           "brown"
          ]
         },
         "type": "pie",
         "values": [
          227549260,
          1379048300,
          549721700,
          168335840,
          162089340,
          12577612
         ]
        }
       ],
       "layout": {
        "template": {
         "data": {
          "bar": [
           {
            "error_x": {
             "color": "#2a3f5f"
            },
            "error_y": {
             "color": "#2a3f5f"
            },
            "marker": {
             "line": {
              "color": "#E5ECF6",
              "width": 0.5
             },
             "pattern": {
              "fillmode": "overlay",
              "size": 10,
              "solidity": 0.2
             }
            },
            "type": "bar"
           }
          ],
          "barpolar": [
           {
            "marker": {
             "line": {
              "color": "#E5ECF6",
              "width": 0.5
             },
             "pattern": {
              "fillmode": "overlay",
              "size": 10,
              "solidity": 0.2
             }
            },
            "type": "barpolar"
           }
          ],
          "carpet": [
           {
            "aaxis": {
             "endlinecolor": "#2a3f5f",
             "gridcolor": "white",
             "linecolor": "white",
             "minorgridcolor": "white",
             "startlinecolor": "#2a3f5f"
            },
            "baxis": {
             "endlinecolor": "#2a3f5f",
             "gridcolor": "white",
             "linecolor": "white",
             "minorgridcolor": "white",
             "startlinecolor": "#2a3f5f"
            },
            "type": "carpet"
           }
          ],
          "choropleth": [
           {
            "colorbar": {
             "outlinewidth": 0,
             "ticks": ""
            },
            "type": "choropleth"
           }
          ],
          "contour": [
           {
            "colorbar": {
             "outlinewidth": 0,
             "ticks": ""
            },
            "colorscale": [
             [
              0,
              "#0d0887"
             ],
             [
              0.1111111111111111,
              "#46039f"
             ],
             [
              0.2222222222222222,
              "#7201a8"
             ],
             [
              0.3333333333333333,
              "#9c179e"
             ],
             [
              0.4444444444444444,
              "#bd3786"
             ],
             [
              0.5555555555555556,
              "#d8576b"
             ],
             [
              0.6666666666666666,
              "#ed7953"
             ],
             [
              0.7777777777777778,
              "#fb9f3a"
             ],
             [
              0.8888888888888888,
              "#fdca26"
             ],
             [
              1,
              "#f0f921"
             ]
            ],
            "type": "contour"
           }
          ],
          "contourcarpet": [
           {
            "colorbar": {
             "outlinewidth": 0,
             "ticks": ""
            },
            "type": "contourcarpet"
           }
          ],
          "heatmap": [
           {
            "colorbar": {
             "outlinewidth": 0,
             "ticks": ""
            },
            "colorscale": [
             [
              0,
              "#0d0887"
             ],
             [
              0.1111111111111111,
              "#46039f"
             ],
             [
              0.2222222222222222,
              "#7201a8"
             ],
             [
              0.3333333333333333,
              "#9c179e"
             ],
             [
              0.4444444444444444,
              "#bd3786"
             ],
             [
              0.5555555555555556,
              "#d8576b"
             ],
             [
              0.6666666666666666,
              "#ed7953"
             ],
             [
              0.7777777777777778,
              "#fb9f3a"
             ],
             [
              0.8888888888888888,
              "#fdca26"
             ],
             [
              1,
              "#f0f921"
             ]
            ],
            "type": "heatmap"
           }
          ],
          "heatmapgl": [
           {
            "colorbar": {
             "outlinewidth": 0,
             "ticks": ""
            },
            "colorscale": [
             [
              0,
              "#0d0887"
             ],
             [
              0.1111111111111111,
              "#46039f"
             ],
             [
              0.2222222222222222,
              "#7201a8"
             ],
             [
              0.3333333333333333,
              "#9c179e"
             ],
             [
              0.4444444444444444,
              "#bd3786"
             ],
             [
              0.5555555555555556,
              "#d8576b"
             ],
             [
              0.6666666666666666,
              "#ed7953"
             ],
             [
              0.7777777777777778,
              "#fb9f3a"
             ],
             [
              0.8888888888888888,
              "#fdca26"
             ],
             [
              1,
              "#f0f921"
             ]
            ],
            "type": "heatmapgl"
           }
          ],
          "histogram": [
           {
            "marker": {
             "pattern": {
              "fillmode": "overlay",
              "size": 10,
              "solidity": 0.2
             }
            },
            "type": "histogram"
           }
          ],
          "histogram2d": [
           {
            "colorbar": {
             "outlinewidth": 0,
             "ticks": ""
            },
            "colorscale": [
             [
              0,
              "#0d0887"
             ],
             [
              0.1111111111111111,
              "#46039f"
             ],
             [
              0.2222222222222222,
              "#7201a8"
             ],
             [
              0.3333333333333333,
              "#9c179e"
             ],
             [
              0.4444444444444444,
              "#bd3786"
             ],
             [
              0.5555555555555556,
              "#d8576b"
             ],
             [
              0.6666666666666666,
              "#ed7953"
             ],
             [
              0.7777777777777778,
              "#fb9f3a"
             ],
             [
              0.8888888888888888,
              "#fdca26"
             ],
             [
              1,
              "#f0f921"
             ]
            ],
            "type": "histogram2d"
           }
          ],
          "histogram2dcontour": [
           {
            "colorbar": {
             "outlinewidth": 0,
             "ticks": ""
            },
            "colorscale": [
             [
              0,
              "#0d0887"
             ],
             [
              0.1111111111111111,
              "#46039f"
             ],
             [
              0.2222222222222222,
              "#7201a8"
             ],
             [
              0.3333333333333333,
              "#9c179e"
             ],
             [
              0.4444444444444444,
              "#bd3786"
             ],
             [
              0.5555555555555556,
              "#d8576b"
             ],
             [
              0.6666666666666666,
              "#ed7953"
             ],
             [
              0.7777777777777778,
              "#fb9f3a"
             ],
             [
              0.8888888888888888,
              "#fdca26"
             ],
             [
              1,
              "#f0f921"
             ]
            ],
            "type": "histogram2dcontour"
           }
          ],
          "mesh3d": [
           {
            "colorbar": {
             "outlinewidth": 0,
             "ticks": ""
            },
            "type": "mesh3d"
           }
          ],
          "parcoords": [
           {
            "line": {
             "colorbar": {
              "outlinewidth": 0,
              "ticks": ""
             }
            },
            "type": "parcoords"
           }
          ],
          "pie": [
           {
            "automargin": true,
            "type": "pie"
           }
          ],
          "scatter": [
           {
            "fillpattern": {
             "fillmode": "overlay",
             "size": 10,
             "solidity": 0.2
            },
            "type": "scatter"
           }
          ],
          "scatter3d": [
           {
            "line": {
             "colorbar": {
              "outlinewidth": 0,
              "ticks": ""
             }
            },
            "marker": {
             "colorbar": {
              "outlinewidth": 0,
              "ticks": ""
             }
            },
            "type": "scatter3d"
           }
          ],
          "scattercarpet": [
           {
            "marker": {
             "colorbar": {
              "outlinewidth": 0,
              "ticks": ""
             }
            },
            "type": "scattercarpet"
           }
          ],
          "scattergeo": [
           {
            "marker": {
             "colorbar": {
              "outlinewidth": 0,
              "ticks": ""
             }
            },
            "type": "scattergeo"
           }
          ],
          "scattergl": [
           {
            "marker": {
             "colorbar": {
              "outlinewidth": 0,
              "ticks": ""
             }
            },
            "type": "scattergl"
           }
          ],
          "scattermapbox": [
           {
            "marker": {
             "colorbar": {
              "outlinewidth": 0,
              "ticks": ""
             }
            },
            "type": "scattermapbox"
           }
          ],
          "scatterpolar": [
           {
            "marker": {
             "colorbar": {
              "outlinewidth": 0,
              "ticks": ""
             }
            },
            "type": "scatterpolar"
           }
          ],
          "scatterpolargl": [
           {
            "marker": {
             "colorbar": {
              "outlinewidth": 0,
              "ticks": ""
             }
            },
            "type": "scatterpolargl"
           }
          ],
          "scatterternary": [
           {
            "marker": {
             "colorbar": {
              "outlinewidth": 0,
              "ticks": ""
             }
            },
            "type": "scatterternary"
           }
          ],
          "surface": [
           {
            "colorbar": {
             "outlinewidth": 0,
             "ticks": ""
            },
            "colorscale": [
             [
              0,
              "#0d0887"
             ],
             [
              0.1111111111111111,
              "#46039f"
             ],
             [
              0.2222222222222222,
              "#7201a8"
             ],
             [
              0.3333333333333333,
              "#9c179e"
             ],
             [
              0.4444444444444444,
              "#bd3786"
             ],
             [
              0.5555555555555556,
              "#d8576b"
             ],
             [
              0.6666666666666666,
              "#ed7953"
             ],
             [
              0.7777777777777778,
              "#fb9f3a"
             ],
             [
              0.8888888888888888,
              "#fdca26"
             ],
             [
              1,
              "#f0f921"
             ]
            ],
            "type": "surface"
           }
          ],
          "table": [
           {
            "cells": {
             "fill": {
              "color": "#EBF0F8"
             },
             "line": {
              "color": "white"
             }
            },
            "header": {
             "fill": {
              "color": "#C8D4E3"
             },
             "line": {
              "color": "white"
             }
            },
            "type": "table"
           }
          ]
         },
         "layout": {
          "annotationdefaults": {
           "arrowcolor": "#2a3f5f",
           "arrowhead": 0,
           "arrowwidth": 1
          },
          "autotypenumbers": "strict",
          "coloraxis": {
           "colorbar": {
            "outlinewidth": 0,
            "ticks": ""
           }
          },
          "colorscale": {
           "diverging": [
            [
             0,
             "#8e0152"
            ],
            [
             0.1,
             "#c51b7d"
            ],
            [
             0.2,
             "#de77ae"
            ],
            [
             0.3,
             "#f1b6da"
            ],
            [
             0.4,
             "#fde0ef"
            ],
            [
             0.5,
             "#f7f7f7"
            ],
            [
             0.6,
             "#e6f5d0"
            ],
            [
             0.7,
             "#b8e186"
            ],
            [
             0.8,
             "#7fbc41"
            ],
            [
             0.9,
             "#4d9221"
            ],
            [
             1,
             "#276419"
            ]
           ],
           "sequential": [
            [
             0,
             "#0d0887"
            ],
            [
             0.1111111111111111,
             "#46039f"
            ],
            [
             0.2222222222222222,
             "#7201a8"
            ],
            [
             0.3333333333333333,
             "#9c179e"
            ],
            [
             0.4444444444444444,
             "#bd3786"
            ],
            [
             0.5555555555555556,
             "#d8576b"
            ],
            [
             0.6666666666666666,
             "#ed7953"
            ],
            [
             0.7777777777777778,
             "#fb9f3a"
            ],
            [
             0.8888888888888888,
             "#fdca26"
            ],
            [
             1,
             "#f0f921"
            ]
           ],
           "sequentialminus": [
            [
             0,
             "#0d0887"
            ],
            [
             0.1111111111111111,
             "#46039f"
            ],
            [
             0.2222222222222222,
             "#7201a8"
            ],
            [
             0.3333333333333333,
             "#9c179e"
            ],
            [
             0.4444444444444444,
             "#bd3786"
            ],
            [
             0.5555555555555556,
             "#d8576b"
            ],
            [
             0.6666666666666666,
             "#ed7953"
            ],
            [
             0.7777777777777778,
             "#fb9f3a"
            ],
            [
             0.8888888888888888,
             "#fdca26"
            ],
            [
             1,
             "#f0f921"
            ]
           ]
          },
          "colorway": [
           "#636efa",
           "#EF553B",
           "#00cc96",
           "#ab63fa",
           "#FFA15A",
           "#19d3f3",
           "#FF6692",
           "#B6E880",
           "#FF97FF",
           "#FECB52"
          ],
          "font": {
           "color": "#2a3f5f"
          },
          "geo": {
           "bgcolor": "white",
           "lakecolor": "white",
           "landcolor": "#E5ECF6",
           "showlakes": true,
           "showland": true,
           "subunitcolor": "white"
          },
          "hoverlabel": {
           "align": "left"
          },
          "hovermode": "closest",
          "mapbox": {
           "style": "light"
          },
          "paper_bgcolor": "white",
          "plot_bgcolor": "#E5ECF6",
          "polar": {
           "angularaxis": {
            "gridcolor": "white",
            "linecolor": "white",
            "ticks": ""
           },
           "bgcolor": "#E5ECF6",
           "radialaxis": {
            "gridcolor": "white",
            "linecolor": "white",
            "ticks": ""
           }
          },
          "scene": {
           "xaxis": {
            "backgroundcolor": "#E5ECF6",
            "gridcolor": "white",
            "gridwidth": 2,
            "linecolor": "white",
            "showbackground": true,
            "ticks": "",
            "zerolinecolor": "white"
           },
           "yaxis": {
            "backgroundcolor": "#E5ECF6",
            "gridcolor": "white",
            "gridwidth": 2,
            "linecolor": "white",
            "showbackground": true,
            "ticks": "",
            "zerolinecolor": "white"
           },
           "zaxis": {
            "backgroundcolor": "#E5ECF6",
            "gridcolor": "white",
            "gridwidth": 2,
            "linecolor": "white",
            "showbackground": true,
            "ticks": "",
            "zerolinecolor": "white"
           }
          },
          "shapedefaults": {
           "line": {
            "color": "#2a3f5f"
           }
          },
          "ternary": {
           "aaxis": {
            "gridcolor": "white",
            "linecolor": "white",
            "ticks": ""
           },
           "baxis": {
            "gridcolor": "white",
            "linecolor": "white",
            "ticks": ""
           },
           "bgcolor": "#E5ECF6",
           "caxis": {
            "gridcolor": "white",
            "linecolor": "white",
            "ticks": ""
           }
          },
          "title": {
           "x": 0.05
          },
          "xaxis": {
           "automargin": true,
           "gridcolor": "white",
           "linecolor": "white",
           "ticks": "",
           "title": {
            "standoff": 15
           },
           "zerolinecolor": "white",
           "zerolinewidth": 2
          },
          "yaxis": {
           "automargin": true,
           "gridcolor": "white",
           "linecolor": "white",
           "ticks": "",
           "title": {
            "standoff": 15
           },
           "zerolinecolor": "white",
           "zerolinewidth": 2
          }
         }
        },
        "title": {
         "text": "Population Distribution for 1950"
        }
       }
      }
     },
     "metadata": {},
     "output_type": "display_data"
    }
   ],
   "source": [
    "# Get unique years from the DataFrame\n",
    "years = sorted(filtered_pop['Year'].unique())\n",
    "\n",
    "# Define a fixed color mapping for each continent\n",
    "color_mapping = {\n",
    "    'Africa (UN)': 'green',\n",
    "    'Europe (UN)': 'blue',\n",
    "    'Asia (UN)': 'red',\n",
    "    'Northern America (UN)': 'orange',\n",
    "    'Latin America and the Caribbean (UN)': 'purple',\n",
    "    'Oceania (UN)': 'brown'\n",
    "}\n",
    "\n",
    "# Define a function to create the pie chart based on the selected year\n",
    "def create_pie_chart(selected_year):\n",
    "    # Filter data for the selected year\n",
    "    year_data = filtered_pop[filtered_pop['Year'] == selected_year]\n",
    "\n",
    "    # Exclude data for 'World'\n",
    "    continent_data = year_data[year_data['Continents and World'] != 'World']\n",
    "\n",
    "    # Calculate the total population for each continent\n",
    "    continent_population = continent_data.groupby('Continents and World')['Population'].sum().reset_index()\n",
    "\n",
    "    # Create a pie chart with fixed colors\n",
    "    fig = go.Figure(data=[go.Pie(\n",
    "        labels=continent_population['Continents and World'],\n",
    "        values=continent_population['Population'],\n",
    "        marker=dict(colors=[color_mapping[continent] for continent in continent_population['Continents and World']])\n",
    "    )])\n",
    "    fig.update_layout(title=f'Population Distribution for {selected_year}')\n",
    "    fig.show()\n",
    "\n",
    "# Create a dropdown menu widget for selecting the year\n",
    "year_dropdown = widgets.Dropdown(options=years, description='Select Year:')\n",
    "\n",
    "# Define a function to handle the dropdown menu change event\n",
    "def on_year_change(change):\n",
    "    selected_year = change.new\n",
    "    create_pie_chart(selected_year)\n",
    "\n",
    "# Attach the function to the dropdown menu's change event\n",
    "year_dropdown.observe(on_year_change, names='value')\n",
    "\n",
    "# Display the dropdown menu\n",
    "display(year_dropdown)\n",
    "\n",
    "# Create the initial pie chart for the first year in the dataset\n",
    "create_pie_chart(years[0])"
   ]
  },
  {
   "cell_type": "markdown",
   "metadata": {},
   "source": [
    "## **Calculations**"
   ]
  },
  {
   "cell_type": "markdown",
   "metadata": {},
   "source": [
    "We have made the calculations on the global growth rate between years 1950 and 2021 for the world and the different continents."
   ]
  },
  {
   "cell_type": "code",
   "execution_count": 27,
   "metadata": {},
   "outputs": [
    {
     "name": "stdout",
     "output_type": "stream",
     "text": [
      "                              Continent  Growth Rate (%)\n",
      "0                           Africa (UN)       512.472394\n",
      "1                             Asia (UN)       240.421434\n",
      "2                           Europe (UN)        35.554729\n",
      "3  Latin America and the Caribbean (UN)       289.755444\n",
      "4                 Northern America (UN)       131.525984\n",
      "5                          Oceania (UN)       253.737450\n",
      "6                                 World       216.457623\n"
     ]
    }
   ],
   "source": [
    "\n",
    "# Specify the beginning and ending years\n",
    "beginning_year = 1950\n",
    "ending_year = 2021\n",
    "\n",
    "# Create a DataFrame to store growth rates\n",
    "growth_rates = {'Continent': [], 'Growth Rate (%)': []}\n",
    "\n",
    "# Calculate the growth rate for each continent\n",
    "for continent in filtered_pop['Continents and World'].unique():\n",
    "    # Filter the DataFrame to select data for the beginning and ending years for the continent\n",
    "    continent_data = filtered_pop[filtered_pop['Continents and World'] == continent]\n",
    "    beginning_population = continent_data.loc[continent_data['Year'] == beginning_year, 'Population'].iloc[0]\n",
    "    ending_population = continent_data.loc[continent_data['Year'] == ending_year, 'Population'].iloc[0]\n",
    "\n",
    "    # Calculate the compound annual growth rate (CAGR)\n",
    "    cagr = (ending_population / beginning_population) - 1\n",
    "\n",
    "    # Convert the growth rate to percentage\n",
    "    growth_rate_percentage = cagr * 100\n",
    "\n",
    "    # Append the growth rate to the growth_rates dictionary\n",
    "    growth_rates['Continent'].append(continent)\n",
    "    growth_rates['Growth Rate (%)'].append(growth_rate_percentage)\n",
    "\n",
    "# Convert the growth rates dictionary to a DataFrame\n",
    "growth_rates_df = pd.DataFrame(growth_rates)\n",
    "\n",
    "# Display the growth rates DataFrame\n",
    "print(growth_rates_df)\n"
   ]
  },
  {
   "cell_type": "markdown",
   "metadata": {},
   "source": [
    "Next, we have calculated the average growth rate per year for the world and the continents."
   ]
  },
  {
   "cell_type": "code",
   "execution_count": 28,
   "metadata": {},
   "outputs": [
    {
     "name": "stdout",
     "output_type": "stream",
     "text": [
      "                              Continent  Growth Rate (%)\n",
      "0                           Africa (UN)         2.585440\n",
      "1                             Asia (UN)         1.740343\n",
      "2                           Europe (UN)         0.429377\n",
      "3  Latin America and the Caribbean (UN)         1.934458\n",
      "4                 Northern America (UN)         1.189444\n",
      "5                          Oceania (UN)         1.795341\n",
      "6                                 World         1.635797\n"
     ]
    }
   ],
   "source": [
    "# Specify the beginning and ending years\n",
    "beginning_year = 1950\n",
    "ending_year = 2021\n",
    "\n",
    "# Create a DataFrame to store growth rates\n",
    "growth_rates = {'Continent': [], 'Growth Rate (%)': []}\n",
    "\n",
    "# Calculate the growth rate for each continent\n",
    "for continent in filtered_pop['Continents and World'].unique():\n",
    "    # Filter the DataFrame to select data for the beginning and ending years for the continent\n",
    "    continent_data = filtered_pop[filtered_pop['Continents and World'] == continent]\n",
    "    beginning_population = continent_data.loc[continent_data['Year'] == beginning_year, 'Population'].iloc[0]\n",
    "    ending_population = continent_data.loc[continent_data['Year'] == ending_year, 'Population'].iloc[0]\n",
    "\n",
    "    # Calculate the number of years between the beginning and ending years\n",
    "    number_of_years = ending_year - beginning_year\n",
    "\n",
    "    # Calculate the compound annual growth rate (CAGR)\n",
    "    cagr = (ending_population / beginning_population) ** (1 / number_of_years) - 1\n",
    "\n",
    "    # Convert the growth rate to percentage\n",
    "    growth_rate_percentage = cagr * 100\n",
    "\n",
    "    # Append the growth rate to the growth_rates dictionary\n",
    "    growth_rates['Continent'].append(continent)\n",
    "    growth_rates['Growth Rate (%)'].append(growth_rate_percentage)\n",
    "\n",
    "\n",
    "# Convert the growth rates dictionary to a DataFrame\n",
    "growth_rates_df = pd.DataFrame(growth_rates)\n",
    "\n",
    "# Display the growth rates DataFrame\n",
    "print(growth_rates_df)\n"
   ]
  },
  {
   "cell_type": "markdown",
   "metadata": {},
   "source": [
    "## **Forecast**"
   ]
  },
  {
   "cell_type": "markdown",
   "metadata": {},
   "source": [
    "**In order to run the following cell, you need to install prophet in your terminal : pip install prophet**\n"
   ]
  },
  {
   "cell_type": "markdown",
   "metadata": {},
   "source": [
    "The following figure presents a forecast of the world's population and the continents' population until 2100. The forecast has been created based on the population growth rate of each continent and the World."
   ]
  },
  {
   "cell_type": "code",
   "execution_count": 29,
   "metadata": {},
   "outputs": [
    {
     "name": "stderr",
     "output_type": "stream",
     "text": [
      "17:39:39 - cmdstanpy - INFO - Chain [1] start processing\n"
     ]
    },
    {
     "name": "stderr",
     "output_type": "stream",
     "text": [
      "17:39:40 - cmdstanpy - INFO - Chain [1] done processing\n",
      "17:39:40 - cmdstanpy - INFO - Chain [1] start processing\n",
      "17:39:40 - cmdstanpy - INFO - Chain [1] done processing\n",
      "17:39:40 - cmdstanpy - INFO - Chain [1] start processing\n",
      "17:39:40 - cmdstanpy - INFO - Chain [1] done processing\n",
      "17:39:41 - cmdstanpy - INFO - Chain [1] start processing\n",
      "17:39:41 - cmdstanpy - INFO - Chain [1] done processing\n",
      "17:39:41 - cmdstanpy - INFO - Chain [1] start processing\n",
      "17:39:41 - cmdstanpy - INFO - Chain [1] done processing\n",
      "17:39:41 - cmdstanpy - INFO - Chain [1] start processing\n",
      "17:39:41 - cmdstanpy - INFO - Chain [1] done processing\n",
      "17:39:41 - cmdstanpy - INFO - Chain [1] start processing\n",
      "17:39:42 - cmdstanpy - INFO - Chain [1] done processing\n",
      "/Users/louisgalvez/anaconda3/lib/python3.11/site-packages/_plotly_utils/basevalidators.py:106: FutureWarning:\n",
      "\n",
      "The behavior of DatetimeProperties.to_pydatetime is deprecated, in a future version this will return a Series containing python datetime objects instead of an ndarray. To retain the old behavior, call `np.array` on the result\n",
      "\n"
     ]
    },
    {
     "data": {
      "application/vnd.plotly.v1+json": {
       "config": {
        "plotlyServerURL": "https://plot.ly"
       },
       "data": [
        {
         "mode": "lines",
         "name": "Africa (UN)",
         "type": "scatter",
         "x": [
          "1970-01-01T00:00:00.000001",
          "1970-01-01T00:00:00.000001",
          "1970-01-01T00:00:00.000001",
          "1970-01-01T00:00:00.000001",
          "1970-01-01T00:00:00.000001",
          "1970-01-01T00:00:00.000001",
          "1970-01-01T00:00:00.000001",
          "1970-01-01T00:00:00.000001",
          "1970-01-01T00:00:00.000001",
          "1970-01-01T00:00:00.000001",
          "1970-01-01T00:00:00.000001",
          "1970-01-01T00:00:00.000001",
          "1970-01-01T00:00:00.000001",
          "1970-01-01T00:00:00.000001",
          "1970-01-01T00:00:00.000001",
          "1970-01-01T00:00:00.000001",
          "1970-01-01T00:00:00.000001",
          "1970-01-01T00:00:00.000001",
          "1970-01-01T00:00:00.000001",
          "1970-01-01T00:00:00.000001",
          "1970-01-01T00:00:00.000001",
          "1970-01-01T00:00:00.000001",
          "1970-01-01T00:00:00.000001",
          "1970-01-01T00:00:00.000001",
          "1970-01-01T00:00:00.000001",
          "1970-01-01T00:00:00.000001",
          "1970-01-01T00:00:00.000001",
          "1970-01-01T00:00:00.000001",
          "1970-01-01T00:00:00.000001",
          "1970-01-01T00:00:00.000001",
          "1970-01-01T00:00:00.000001",
          "1970-01-01T00:00:00.000001",
          "1970-01-01T00:00:00.000001",
          "1970-01-01T00:00:00.000001",
          "1970-01-01T00:00:00.000001",
          "1970-01-01T00:00:00.000001",
          "1970-01-01T00:00:00.000001",
          "1970-01-01T00:00:00.000001",
          "1970-01-01T00:00:00.000001",
          "1970-01-01T00:00:00.000001",
          "1970-01-01T00:00:00.000001",
          "1970-01-01T00:00:00.000001",
          "1970-01-01T00:00:00.000001",
          "1970-01-01T00:00:00.000001",
          "1970-01-01T00:00:00.000001",
          "1970-01-01T00:00:00.000001",
          "1970-01-01T00:00:00.000001",
          "1970-01-01T00:00:00.000001",
          "1970-01-01T00:00:00.000001",
          "1970-01-01T00:00:00.000001",
          "1970-01-01T00:00:00.000002",
          "1970-01-01T00:00:00.000002",
          "1970-01-01T00:00:00.000002",
          "1970-01-01T00:00:00.000002",
          "1970-01-01T00:00:00.000002",
          "1970-01-01T00:00:00.000002",
          "1970-01-01T00:00:00.000002",
          "1970-01-01T00:00:00.000002",
          "1970-01-01T00:00:00.000002",
          "1970-01-01T00:00:00.000002",
          "1970-01-01T00:00:00.000002",
          "1970-01-01T00:00:00.000002",
          "1970-01-01T00:00:00.000002",
          "1970-01-01T00:00:00.000002",
          "1970-01-01T00:00:00.000002",
          "1970-01-01T00:00:00.000002",
          "1970-01-01T00:00:00.000002",
          "1970-01-01T00:00:00.000002",
          "1970-01-01T00:00:00.000002",
          "1970-01-01T00:00:00.000002",
          "1970-01-01T00:00:00.000002",
          "1970-01-01T00:00:00.000002",
          "1970-12-31T00:00:00.000002",
          "1971-12-31T00:00:00.000002",
          "1972-12-31T00:00:00.000002",
          "1973-12-31T00:00:00.000002",
          "1974-12-31T00:00:00.000002",
          "1975-12-31T00:00:00.000002",
          "1976-12-31T00:00:00.000002",
          "1977-12-31T00:00:00.000002",
          "1978-12-31T00:00:00.000002",
          "1979-12-31T00:00:00.000002",
          "1980-12-31T00:00:00.000002",
          "1981-12-31T00:00:00.000002",
          "1982-12-31T00:00:00.000002",
          "1983-12-31T00:00:00.000002",
          "1984-12-31T00:00:00.000002",
          "1985-12-31T00:00:00.000002",
          "1986-12-31T00:00:00.000002",
          "1987-12-31T00:00:00.000002",
          "1988-12-31T00:00:00.000002",
          "1989-12-31T00:00:00.000002",
          "1990-12-31T00:00:00.000002",
          "1991-12-31T00:00:00.000002",
          "1992-12-31T00:00:00.000002",
          "1993-12-31T00:00:00.000002",
          "1994-12-31T00:00:00.000002",
          "1995-12-31T00:00:00.000002",
          "1996-12-31T00:00:00.000002",
          "1997-12-31T00:00:00.000002",
          "1998-12-31T00:00:00.000002",
          "1999-12-31T00:00:00.000002",
          "2000-12-31T00:00:00.000002",
          "2001-12-31T00:00:00.000002",
          "2002-12-31T00:00:00.000002",
          "2003-12-31T00:00:00.000002",
          "2004-12-31T00:00:00.000002",
          "2005-12-31T00:00:00.000002",
          "2006-12-31T00:00:00.000002",
          "2007-12-31T00:00:00.000002",
          "2008-12-31T00:00:00.000002",
          "2009-12-31T00:00:00.000002",
          "2010-12-31T00:00:00.000002",
          "2011-12-31T00:00:00.000002",
          "2012-12-31T00:00:00.000002",
          "2013-12-31T00:00:00.000002",
          "2014-12-31T00:00:00.000002",
          "2015-12-31T00:00:00.000002",
          "2016-12-31T00:00:00.000002",
          "2017-12-31T00:00:00.000002",
          "2018-12-31T00:00:00.000002",
          "2019-12-31T00:00:00.000002",
          "2020-12-31T00:00:00.000002",
          "2021-12-31T00:00:00.000002",
          "2022-12-31T00:00:00.000002",
          "2023-12-31T00:00:00.000002",
          "2024-12-31T00:00:00.000002",
          "2025-12-31T00:00:00.000002",
          "2026-12-31T00:00:00.000002",
          "2027-12-31T00:00:00.000002",
          "2028-12-31T00:00:00.000002",
          "2029-12-31T00:00:00.000002",
          "2030-12-31T00:00:00.000002",
          "2031-12-31T00:00:00.000002",
          "2032-12-31T00:00:00.000002",
          "2033-12-31T00:00:00.000002",
          "2034-12-31T00:00:00.000002",
          "2035-12-31T00:00:00.000002",
          "2036-12-31T00:00:00.000002",
          "2037-12-31T00:00:00.000002",
          "2038-12-31T00:00:00.000002",
          "2039-12-31T00:00:00.000002",
          "2040-12-31T00:00:00.000002",
          "2041-12-31T00:00:00.000002",
          "2042-12-31T00:00:00.000002",
          "2043-12-31T00:00:00.000002",
          "2044-12-31T00:00:00.000002",
          "2045-12-31T00:00:00.000002",
          "2046-12-31T00:00:00.000002",
          "2047-12-31T00:00:00.000002",
          "2048-12-31T00:00:00.000002",
          "2049-12-31T00:00:00.000002",
          "2050-12-31T00:00:00.000002",
          "2051-12-31T00:00:00.000002",
          "2052-12-31T00:00:00.000002",
          "2053-12-31T00:00:00.000002",
          "2054-12-31T00:00:00.000002",
          "2055-12-31T00:00:00.000002",
          "2056-12-31T00:00:00.000002",
          "2057-12-31T00:00:00.000002",
          "2058-12-31T00:00:00.000002",
          "2059-12-31T00:00:00.000002",
          "2060-12-31T00:00:00.000002",
          "2061-12-31T00:00:00.000002",
          "2062-12-31T00:00:00.000002",
          "2063-12-31T00:00:00.000002",
          "2064-12-31T00:00:00.000002",
          "2065-12-31T00:00:00.000002",
          "2066-12-31T00:00:00.000002",
          "2067-12-31T00:00:00.000002",
          "2068-12-31T00:00:00.000002",
          "2069-12-31T00:00:00.000002",
          "2070-12-31T00:00:00.000002",
          "2071-12-31T00:00:00.000002",
          "2072-12-31T00:00:00.000002",
          "2073-12-31T00:00:00.000002",
          "2074-12-31T00:00:00.000002",
          "2075-12-31T00:00:00.000002",
          "2076-12-31T00:00:00.000002",
          "2077-12-31T00:00:00.000002",
          "2078-12-31T00:00:00.000002",
          "2079-12-31T00:00:00.000002",
          "2080-12-31T00:00:00.000002",
          "2081-12-31T00:00:00.000002",
          "2082-12-31T00:00:00.000002",
          "2083-12-31T00:00:00.000002",
          "2084-12-31T00:00:00.000002",
          "2085-12-31T00:00:00.000002",
          "2086-12-31T00:00:00.000002",
          "2087-12-31T00:00:00.000002",
          "2088-12-31T00:00:00.000002",
          "2089-12-31T00:00:00.000002",
          "2090-12-31T00:00:00.000002",
          "2091-12-31T00:00:00.000002",
          "2092-12-31T00:00:00.000002",
          "2093-12-31T00:00:00.000002",
          "2094-12-31T00:00:00.000002",
          "2095-12-31T00:00:00.000002",
          "2096-12-31T00:00:00.000002",
          "2097-12-31T00:00:00.000002",
          "2098-12-31T00:00:00.000002",
          "2099-12-31T00:00:00.000002"
         ],
         "y": [
          365176915.8351939,
          365176915.8351939,
          365176915.8351939,
          365176915.8351939,
          365176915.8351939,
          365176915.8351939,
          365176915.8351939,
          365176915.8351939,
          365176915.8351939,
          365176915.8351939,
          365176915.8351939,
          365176915.8351939,
          365176915.8351939,
          365176915.8351939,
          365176915.8351939,
          365176915.8351939,
          365176915.8351939,
          365176915.8351939,
          365176915.8351939,
          365176915.8351939,
          365176915.8351939,
          365176915.8351939,
          365176915.8351939,
          365176915.8351939,
          365176915.8351939,
          365176915.8351939,
          365176915.8351939,
          365176915.8351939,
          365176915.8351939,
          365176915.8351939,
          365176915.8351939,
          365176915.8351939,
          365176915.8351939,
          365176915.8351939,
          365176915.8351939,
          365176915.8351939,
          365176915.8351939,
          365176915.8351939,
          365176915.8351939,
          365176915.8351939,
          365176915.8351939,
          365176915.8351939,
          365176915.8351939,
          365176915.8351939,
          365176915.8351939,
          365176915.8351939,
          365176915.8351939,
          365176915.8351939,
          365176915.8351939,
          365176915.8351939,
          365176915.8351939,
          365176915.8351939,
          365176915.8351939,
          365176915.8351939,
          365176915.8351939,
          365176915.8351939,
          365176915.8351939,
          365176915.8351939,
          365176915.8351939,
          365176915.8351939,
          365176915.8351939,
          365176915.8351939,
          365176915.8351939,
          365176915.8351939,
          365176915.8351939,
          365176915.8351939,
          365176915.8351939,
          365176915.8351939,
          365176915.8351939,
          365176915.8351939,
          365176915.8351939,
          365176915.8351939,
          376524734.7214851,
          387197232.40242815,
          395825978.781963,
          407297983.6009586,
          418984798.6786206,
          431978134.85059184,
          441711304.86823356,
          455527976.7073537,
          469562883.55812526,
          484298409.68602633,
          495776873.65688014,
          511216899.14331555,
          526874837.74101186,
          542744248.8738226,
          556146912.6821194,
          572378596.8108431,
          589590185.6309853,
          607015348.8940063,
          621581262.0116365,
          638971933.1150599,
          656596871.7588319,
          674433336.3918073,
          689019887.0982448,
          707545221.2397411,
          726288429.2451278,
          745262390.1692414,
          760989606.7082357,
          781032937.3576292,
          801295187.0556636,
          822603209.7372983,
          840673127.9241124,
          861557159.8461564,
          882656006.6818923,
          903966326.0655171,
          922036248.9399189,
          942920285.536797,
          973025362.8248245,
          1003366655.039241,
          1030492293.1287141,
          1060407302.549358,
          1090537122.2286453,
          1120878414.4430642,
          1148004052.53257,
          1177919061.9531934,
          1208048881.6324978,
          1238390173.8469262,
          1265515811.9364054,
          1295430821.357047,
          1325560641.0363503,
          1355901933.2507594,
          1383027571.3402627,
          1412942580.7608867,
          1443072400.4402034,
          1473413692.654627,
          1500539330.744099,
          1530454340.1647422,
          1560584159.844037,
          1590925452.0584464,
          1618051090.14795,
          1647966099.568598,
          1678095919.2479088,
          1708437211.462335,
          1735562849.5518181,
          1765477858.9724338,
          1795607678.65175,
          1825948970.8661819,
          1853074608.955635,
          1882989618.376268,
          1913119438.055582,
          1943460730.2699845,
          1970586368.3594902,
          2000501377.7801473,
          2030631197.4594424,
          2060972489.6738691,
          2088098127.76336,
          2118013137.1839952,
          2148142956.8632827,
          2178484249.077716,
          2205609887.167201,
          2235524896.5878153,
          2265654716.267112,
          2295996008.481528,
          2323121646.5710235,
          2353036655.9916797,
          2383166475.6710095,
          2413507767.885427,
          2440633405.974885,
          2470548415.3955336,
          2500678235.0748086,
          2531019527.2892594,
          2558145165.378744,
          2588060174.7993617,
          2618189994.4786777,
          2648531286.6930947,
          2675656924.782593,
          2705571934.203195,
          2735701753.8825183,
          2766043046.0969515,
          2793168684.1864195,
          2823083693.607066,
          2853213513.2863655,
          2883554805.5008216,
          2910680443.590273,
          2940595453.010914,
          2970725272.690241,
          3001066564.9046865,
          3028192202.9941344,
          3058107212.4147563,
          3088237032.094043,
          3118578324.308476,
          3145703962.3979826,
          3175618971.818618,
          3205748791.4978924,
          3236090083.712326,
          3263215721.801819,
          3293130731.2224507,
          3323260550.9017825,
          3353601843.1161814,
          3380727481.205663,
          3410642490.626297,
          3440772310.3056607,
          3471113602.520069,
          3498239240.609533,
          3528154250.0302057,
          3558284069.7094464,
          3588625361.923939,
          3615751000.0133386,
          3645666009.433984,
          3675795829.113298,
          3706137121.327716
         ]
        },
        {
         "mode": "lines",
         "name": "Asia (UN)",
         "type": "scatter",
         "x": [
          "1970-01-01T00:00:00.000001",
          "1970-01-01T00:00:00.000001",
          "1970-01-01T00:00:00.000001",
          "1970-01-01T00:00:00.000001",
          "1970-01-01T00:00:00.000001",
          "1970-01-01T00:00:00.000001",
          "1970-01-01T00:00:00.000001",
          "1970-01-01T00:00:00.000001",
          "1970-01-01T00:00:00.000001",
          "1970-01-01T00:00:00.000001",
          "1970-01-01T00:00:00.000001",
          "1970-01-01T00:00:00.000001",
          "1970-01-01T00:00:00.000001",
          "1970-01-01T00:00:00.000001",
          "1970-01-01T00:00:00.000001",
          "1970-01-01T00:00:00.000001",
          "1970-01-01T00:00:00.000001",
          "1970-01-01T00:00:00.000001",
          "1970-01-01T00:00:00.000001",
          "1970-01-01T00:00:00.000001",
          "1970-01-01T00:00:00.000001",
          "1970-01-01T00:00:00.000001",
          "1970-01-01T00:00:00.000001",
          "1970-01-01T00:00:00.000001",
          "1970-01-01T00:00:00.000001",
          "1970-01-01T00:00:00.000001",
          "1970-01-01T00:00:00.000001",
          "1970-01-01T00:00:00.000001",
          "1970-01-01T00:00:00.000001",
          "1970-01-01T00:00:00.000001",
          "1970-01-01T00:00:00.000001",
          "1970-01-01T00:00:00.000001",
          "1970-01-01T00:00:00.000001",
          "1970-01-01T00:00:00.000001",
          "1970-01-01T00:00:00.000001",
          "1970-01-01T00:00:00.000001",
          "1970-01-01T00:00:00.000001",
          "1970-01-01T00:00:00.000001",
          "1970-01-01T00:00:00.000001",
          "1970-01-01T00:00:00.000001",
          "1970-01-01T00:00:00.000001",
          "1970-01-01T00:00:00.000001",
          "1970-01-01T00:00:00.000001",
          "1970-01-01T00:00:00.000001",
          "1970-01-01T00:00:00.000001",
          "1970-01-01T00:00:00.000001",
          "1970-01-01T00:00:00.000001",
          "1970-01-01T00:00:00.000001",
          "1970-01-01T00:00:00.000001",
          "1970-01-01T00:00:00.000001",
          "1970-01-01T00:00:00.000002",
          "1970-01-01T00:00:00.000002",
          "1970-01-01T00:00:00.000002",
          "1970-01-01T00:00:00.000002",
          "1970-01-01T00:00:00.000002",
          "1970-01-01T00:00:00.000002",
          "1970-01-01T00:00:00.000002",
          "1970-01-01T00:00:00.000002",
          "1970-01-01T00:00:00.000002",
          "1970-01-01T00:00:00.000002",
          "1970-01-01T00:00:00.000002",
          "1970-01-01T00:00:00.000002",
          "1970-01-01T00:00:00.000002",
          "1970-01-01T00:00:00.000002",
          "1970-01-01T00:00:00.000002",
          "1970-01-01T00:00:00.000002",
          "1970-01-01T00:00:00.000002",
          "1970-01-01T00:00:00.000002",
          "1970-01-01T00:00:00.000002",
          "1970-01-01T00:00:00.000002",
          "1970-01-01T00:00:00.000002",
          "1970-01-01T00:00:00.000002",
          "1970-12-31T00:00:00.000002",
          "1971-12-31T00:00:00.000002",
          "1972-12-31T00:00:00.000002",
          "1973-12-31T00:00:00.000002",
          "1974-12-31T00:00:00.000002",
          "1975-12-31T00:00:00.000002",
          "1976-12-31T00:00:00.000002",
          "1977-12-31T00:00:00.000002",
          "1978-12-31T00:00:00.000002",
          "1979-12-31T00:00:00.000002",
          "1980-12-31T00:00:00.000002",
          "1981-12-31T00:00:00.000002",
          "1982-12-31T00:00:00.000002",
          "1983-12-31T00:00:00.000002",
          "1984-12-31T00:00:00.000002",
          "1985-12-31T00:00:00.000002",
          "1986-12-31T00:00:00.000002",
          "1987-12-31T00:00:00.000002",
          "1988-12-31T00:00:00.000002",
          "1989-12-31T00:00:00.000002",
          "1990-12-31T00:00:00.000002",
          "1991-12-31T00:00:00.000002",
          "1992-12-31T00:00:00.000002",
          "1993-12-31T00:00:00.000002",
          "1994-12-31T00:00:00.000002",
          "1995-12-31T00:00:00.000002",
          "1996-12-31T00:00:00.000002",
          "1997-12-31T00:00:00.000002",
          "1998-12-31T00:00:00.000002",
          "1999-12-31T00:00:00.000002",
          "2000-12-31T00:00:00.000002",
          "2001-12-31T00:00:00.000002",
          "2002-12-31T00:00:00.000002",
          "2003-12-31T00:00:00.000002",
          "2004-12-31T00:00:00.000002",
          "2005-12-31T00:00:00.000002",
          "2006-12-31T00:00:00.000002",
          "2007-12-31T00:00:00.000002",
          "2008-12-31T00:00:00.000002",
          "2009-12-31T00:00:00.000002",
          "2010-12-31T00:00:00.000002",
          "2011-12-31T00:00:00.000002",
          "2012-12-31T00:00:00.000002",
          "2013-12-31T00:00:00.000002",
          "2014-12-31T00:00:00.000002",
          "2015-12-31T00:00:00.000002",
          "2016-12-31T00:00:00.000002",
          "2017-12-31T00:00:00.000002",
          "2018-12-31T00:00:00.000002",
          "2019-12-31T00:00:00.000002",
          "2020-12-31T00:00:00.000002",
          "2021-12-31T00:00:00.000002",
          "2022-12-31T00:00:00.000002",
          "2023-12-31T00:00:00.000002",
          "2024-12-31T00:00:00.000002",
          "2025-12-31T00:00:00.000002",
          "2026-12-31T00:00:00.000002",
          "2027-12-31T00:00:00.000002",
          "2028-12-31T00:00:00.000002",
          "2029-12-31T00:00:00.000002",
          "2030-12-31T00:00:00.000002",
          "2031-12-31T00:00:00.000002",
          "2032-12-31T00:00:00.000002",
          "2033-12-31T00:00:00.000002",
          "2034-12-31T00:00:00.000002",
          "2035-12-31T00:00:00.000002",
          "2036-12-31T00:00:00.000002",
          "2037-12-31T00:00:00.000002",
          "2038-12-31T00:00:00.000002",
          "2039-12-31T00:00:00.000002",
          "2040-12-31T00:00:00.000002",
          "2041-12-31T00:00:00.000002",
          "2042-12-31T00:00:00.000002",
          "2043-12-31T00:00:00.000002",
          "2044-12-31T00:00:00.000002",
          "2045-12-31T00:00:00.000002",
          "2046-12-31T00:00:00.000002",
          "2047-12-31T00:00:00.000002",
          "2048-12-31T00:00:00.000002",
          "2049-12-31T00:00:00.000002",
          "2050-12-31T00:00:00.000002",
          "2051-12-31T00:00:00.000002",
          "2052-12-31T00:00:00.000002",
          "2053-12-31T00:00:00.000002",
          "2054-12-31T00:00:00.000002",
          "2055-12-31T00:00:00.000002",
          "2056-12-31T00:00:00.000002",
          "2057-12-31T00:00:00.000002",
          "2058-12-31T00:00:00.000002",
          "2059-12-31T00:00:00.000002",
          "2060-12-31T00:00:00.000002",
          "2061-12-31T00:00:00.000002",
          "2062-12-31T00:00:00.000002",
          "2063-12-31T00:00:00.000002",
          "2064-12-31T00:00:00.000002",
          "2065-12-31T00:00:00.000002",
          "2066-12-31T00:00:00.000002",
          "2067-12-31T00:00:00.000002",
          "2068-12-31T00:00:00.000002",
          "2069-12-31T00:00:00.000002",
          "2070-12-31T00:00:00.000002",
          "2071-12-31T00:00:00.000002",
          "2072-12-31T00:00:00.000002",
          "2073-12-31T00:00:00.000002",
          "2074-12-31T00:00:00.000002",
          "2075-12-31T00:00:00.000002",
          "2076-12-31T00:00:00.000002",
          "2077-12-31T00:00:00.000002",
          "2078-12-31T00:00:00.000002",
          "2079-12-31T00:00:00.000002",
          "2080-12-31T00:00:00.000002",
          "2081-12-31T00:00:00.000002",
          "2082-12-31T00:00:00.000002",
          "2083-12-31T00:00:00.000002",
          "2084-12-31T00:00:00.000002",
          "2085-12-31T00:00:00.000002",
          "2086-12-31T00:00:00.000002",
          "2087-12-31T00:00:00.000002",
          "2088-12-31T00:00:00.000002",
          "2089-12-31T00:00:00.000002",
          "2090-12-31T00:00:00.000002",
          "2091-12-31T00:00:00.000002",
          "2092-12-31T00:00:00.000002",
          "2093-12-31T00:00:00.000002",
          "2094-12-31T00:00:00.000002",
          "2095-12-31T00:00:00.000002",
          "2096-12-31T00:00:00.000002",
          "2097-12-31T00:00:00.000002",
          "2098-12-31T00:00:00.000002",
          "2099-12-31T00:00:00.000002"
         ],
         "y": [
          2146017629.005837,
          2146017629.005837,
          2146017629.005837,
          2146017629.005837,
          2146017629.005837,
          2146017629.005837,
          2146017629.005837,
          2146017629.005837,
          2146017629.005837,
          2146017629.005837,
          2146017629.005837,
          2146017629.005837,
          2146017629.005837,
          2146017629.005837,
          2146017629.005837,
          2146017629.005837,
          2146017629.005837,
          2146017629.005837,
          2146017629.005837,
          2146017629.005837,
          2146017629.005837,
          2146017629.005837,
          2146017629.005837,
          2146017629.005837,
          2146017629.005837,
          2146017629.005837,
          2146017629.005837,
          2146017629.005837,
          2146017629.005837,
          2146017629.005837,
          2146017629.005837,
          2146017629.005837,
          2146017629.005837,
          2146017629.005837,
          2146017629.005837,
          2146017629.005837,
          2146017629.005837,
          2146017629.005837,
          2146017629.005837,
          2146017629.005837,
          2146017629.005837,
          2146017629.005837,
          2146017629.005837,
          2146017629.005837,
          2146017629.005837,
          2146017629.005837,
          2146017629.005837,
          2146017629.005837,
          2146017629.005837,
          2146017629.005837,
          2146017629.005837,
          2146017629.005837,
          2146017629.005837,
          2146017629.005837,
          2146017629.005837,
          2146017629.005837,
          2146017629.005837,
          2146017629.005837,
          2146017629.005837,
          2146017629.005837,
          2146017629.005837,
          2146017629.005837,
          2146017629.005837,
          2146017629.005837,
          2146017629.005837,
          2146017629.005837,
          2146017629.005837,
          2146017629.005837,
          2146017629.005837,
          2146017629.005837,
          2146017629.005837,
          2146017629.005837,
          2184750257.680808,
          2229134725.5751367,
          2292351123.763609,
          2338600688.7125006,
          2383811212.50959,
          2426589603.391348,
          2488286479.449485,
          2533020933.8246927,
          2576716347.047864,
          2621800924.747472,
          2685820832.7751646,
          2737294333.5474463,
          2787740942.5123854,
          2837266378.1207595,
          2909721577.1514974,
          2965195858.0990486,
          3020189065.4196935,
          3074262632.26194,
          3147289792.4801006,
          3203323573.982807,
          3256114797.0497484,
          3307978793.140381,
          3378790328.8375397,
          3426411976.053461,
          3472977542.1082435,
          3518547209.184167,
          3583046965.276273,
          3629688464.720804,
          3675288482.9672127,
          3719954165.02998,
          3783547629.0289297,
          3830173489.438859,
          3875760308.7502427,
          3920425954.705787,
          3984052591.7269063,
          4030711625.157201,
          4071886173.331234,
          4112127335.391,
          4171284193.676239,
          4213485570.244137,
          4254647905.6609855,
          4294889067.7204876,
          4354045926.004491,
          4396247302.573322,
          4437409637.989602,
          4477650800.049005,
          4536807658.333978,
          4579009034.901913,
          4620171370.318252,
          4660412532.378085,
          4719569390.662399,
          4761770767.231037,
          4802933102.646721,
          4843174264.706193,
          4902331122.991598,
          4944532499.559511,
          4985694834.976146,
          5025935997.035943,
          5085092855.320217,
          5127294231.888159,
          5168456567.303784,
          5208697729.36354,
          5267854587.648134,
          5310055964.217344,
          5351218299.633497,
          5391459461.692226,
          5450616319.978344,
          5492817696.54652,
          5533980031.962679,
          5574221194.022454,
          5633378052.306726,
          5675579428.874133,
          5716741764.290595,
          5756982926.350347,
          5816139784.634661,
          5858341161.20281,
          5899503496.619739,
          5939744658.679032,
          5998901516.963612,
          6041102893.532736,
          6082265228.949486,
          6122506391.008963,
          6181663249.293601,
          6223864625.860937,
          6265026961.276325,
          6305268123.33557,
          6364424981.621695,
          6406626358.189634,
          6447788693.606845,
          6488029855.665544,
          6547186713.950068,
          6589388090.519133,
          6630550425.935285,
          6670791587.99452,
          6729948446.27874,
          6772149822.848288,
          6813312158.263913,
          6853553320.322676,
          6912710178.608424,
          6954911555.176369,
          6996073890.592596,
          7036315052.651327,
          7095471910.937175,
          7137673287.505046,
          7178835622.920259,
          7219076784.979417,
          7278233643.265267,
          7320435019.833664,
          7361597355.250956,
          7401838517.30978,
          7460995375.59394,
          7503196752.162461,
          7544359087.579563,
          7584600249.63839,
          7643757107.923082,
          7685958484.491616,
          7727120819.907181,
          7767361981.967012,
          7826518840.252374,
          7868720216.820891,
          7909882552.2337885,
          7950123714.294149,
          8009280572.5801115,
          8051481949.146296,
          8092644284.565546,
          8132885446.622802,
          8192042304.910728,
          8234243681.478674,
          8275406016.89482,
          8315647178.953587
         ]
        },
        {
         "mode": "lines",
         "name": "Europe (UN)",
         "type": "scatter",
         "x": [
          "1970-01-01T00:00:00.000001",
          "1970-01-01T00:00:00.000001",
          "1970-01-01T00:00:00.000001",
          "1970-01-01T00:00:00.000001",
          "1970-01-01T00:00:00.000001",
          "1970-01-01T00:00:00.000001",
          "1970-01-01T00:00:00.000001",
          "1970-01-01T00:00:00.000001",
          "1970-01-01T00:00:00.000001",
          "1970-01-01T00:00:00.000001",
          "1970-01-01T00:00:00.000001",
          "1970-01-01T00:00:00.000001",
          "1970-01-01T00:00:00.000001",
          "1970-01-01T00:00:00.000001",
          "1970-01-01T00:00:00.000001",
          "1970-01-01T00:00:00.000001",
          "1970-01-01T00:00:00.000001",
          "1970-01-01T00:00:00.000001",
          "1970-01-01T00:00:00.000001",
          "1970-01-01T00:00:00.000001",
          "1970-01-01T00:00:00.000001",
          "1970-01-01T00:00:00.000001",
          "1970-01-01T00:00:00.000001",
          "1970-01-01T00:00:00.000001",
          "1970-01-01T00:00:00.000001",
          "1970-01-01T00:00:00.000001",
          "1970-01-01T00:00:00.000001",
          "1970-01-01T00:00:00.000001",
          "1970-01-01T00:00:00.000001",
          "1970-01-01T00:00:00.000001",
          "1970-01-01T00:00:00.000001",
          "1970-01-01T00:00:00.000001",
          "1970-01-01T00:00:00.000001",
          "1970-01-01T00:00:00.000001",
          "1970-01-01T00:00:00.000001",
          "1970-01-01T00:00:00.000001",
          "1970-01-01T00:00:00.000001",
          "1970-01-01T00:00:00.000001",
          "1970-01-01T00:00:00.000001",
          "1970-01-01T00:00:00.000001",
          "1970-01-01T00:00:00.000001",
          "1970-01-01T00:00:00.000001",
          "1970-01-01T00:00:00.000001",
          "1970-01-01T00:00:00.000001",
          "1970-01-01T00:00:00.000001",
          "1970-01-01T00:00:00.000001",
          "1970-01-01T00:00:00.000001",
          "1970-01-01T00:00:00.000001",
          "1970-01-01T00:00:00.000001",
          "1970-01-01T00:00:00.000001",
          "1970-01-01T00:00:00.000002",
          "1970-01-01T00:00:00.000002",
          "1970-01-01T00:00:00.000002",
          "1970-01-01T00:00:00.000002",
          "1970-01-01T00:00:00.000002",
          "1970-01-01T00:00:00.000002",
          "1970-01-01T00:00:00.000002",
          "1970-01-01T00:00:00.000002",
          "1970-01-01T00:00:00.000002",
          "1970-01-01T00:00:00.000002",
          "1970-01-01T00:00:00.000002",
          "1970-01-01T00:00:00.000002",
          "1970-01-01T00:00:00.000002",
          "1970-01-01T00:00:00.000002",
          "1970-01-01T00:00:00.000002",
          "1970-01-01T00:00:00.000002",
          "1970-01-01T00:00:00.000002",
          "1970-01-01T00:00:00.000002",
          "1970-01-01T00:00:00.000002",
          "1970-01-01T00:00:00.000002",
          "1970-01-01T00:00:00.000002",
          "1970-01-01T00:00:00.000002",
          "1970-12-31T00:00:00.000002",
          "1971-12-31T00:00:00.000002",
          "1972-12-31T00:00:00.000002",
          "1973-12-31T00:00:00.000002",
          "1974-12-31T00:00:00.000002",
          "1975-12-31T00:00:00.000002",
          "1976-12-31T00:00:00.000002",
          "1977-12-31T00:00:00.000002",
          "1978-12-31T00:00:00.000002",
          "1979-12-31T00:00:00.000002",
          "1980-12-31T00:00:00.000002",
          "1981-12-31T00:00:00.000002",
          "1982-12-31T00:00:00.000002",
          "1983-12-31T00:00:00.000002",
          "1984-12-31T00:00:00.000002",
          "1985-12-31T00:00:00.000002",
          "1986-12-31T00:00:00.000002",
          "1987-12-31T00:00:00.000002",
          "1988-12-31T00:00:00.000002",
          "1989-12-31T00:00:00.000002",
          "1990-12-31T00:00:00.000002",
          "1991-12-31T00:00:00.000002",
          "1992-12-31T00:00:00.000002",
          "1993-12-31T00:00:00.000002",
          "1994-12-31T00:00:00.000002",
          "1995-12-31T00:00:00.000002",
          "1996-12-31T00:00:00.000002",
          "1997-12-31T00:00:00.000002",
          "1998-12-31T00:00:00.000002",
          "1999-12-31T00:00:00.000002",
          "2000-12-31T00:00:00.000002",
          "2001-12-31T00:00:00.000002",
          "2002-12-31T00:00:00.000002",
          "2003-12-31T00:00:00.000002",
          "2004-12-31T00:00:00.000002",
          "2005-12-31T00:00:00.000002",
          "2006-12-31T00:00:00.000002",
          "2007-12-31T00:00:00.000002",
          "2008-12-31T00:00:00.000002",
          "2009-12-31T00:00:00.000002",
          "2010-12-31T00:00:00.000002",
          "2011-12-31T00:00:00.000002",
          "2012-12-31T00:00:00.000002",
          "2013-12-31T00:00:00.000002",
          "2014-12-31T00:00:00.000002",
          "2015-12-31T00:00:00.000002",
          "2016-12-31T00:00:00.000002",
          "2017-12-31T00:00:00.000002",
          "2018-12-31T00:00:00.000002",
          "2019-12-31T00:00:00.000002",
          "2020-12-31T00:00:00.000002",
          "2021-12-31T00:00:00.000002",
          "2022-12-31T00:00:00.000002",
          "2023-12-31T00:00:00.000002",
          "2024-12-31T00:00:00.000002",
          "2025-12-31T00:00:00.000002",
          "2026-12-31T00:00:00.000002",
          "2027-12-31T00:00:00.000002",
          "2028-12-31T00:00:00.000002",
          "2029-12-31T00:00:00.000002",
          "2030-12-31T00:00:00.000002",
          "2031-12-31T00:00:00.000002",
          "2032-12-31T00:00:00.000002",
          "2033-12-31T00:00:00.000002",
          "2034-12-31T00:00:00.000002",
          "2035-12-31T00:00:00.000002",
          "2036-12-31T00:00:00.000002",
          "2037-12-31T00:00:00.000002",
          "2038-12-31T00:00:00.000002",
          "2039-12-31T00:00:00.000002",
          "2040-12-31T00:00:00.000002",
          "2041-12-31T00:00:00.000002",
          "2042-12-31T00:00:00.000002",
          "2043-12-31T00:00:00.000002",
          "2044-12-31T00:00:00.000002",
          "2045-12-31T00:00:00.000002",
          "2046-12-31T00:00:00.000002",
          "2047-12-31T00:00:00.000002",
          "2048-12-31T00:00:00.000002",
          "2049-12-31T00:00:00.000002",
          "2050-12-31T00:00:00.000002",
          "2051-12-31T00:00:00.000002",
          "2052-12-31T00:00:00.000002",
          "2053-12-31T00:00:00.000002",
          "2054-12-31T00:00:00.000002",
          "2055-12-31T00:00:00.000002",
          "2056-12-31T00:00:00.000002",
          "2057-12-31T00:00:00.000002",
          "2058-12-31T00:00:00.000002",
          "2059-12-31T00:00:00.000002",
          "2060-12-31T00:00:00.000002",
          "2061-12-31T00:00:00.000002",
          "2062-12-31T00:00:00.000002",
          "2063-12-31T00:00:00.000002",
          "2064-12-31T00:00:00.000002",
          "2065-12-31T00:00:00.000002",
          "2066-12-31T00:00:00.000002",
          "2067-12-31T00:00:00.000002",
          "2068-12-31T00:00:00.000002",
          "2069-12-31T00:00:00.000002",
          "2070-12-31T00:00:00.000002",
          "2071-12-31T00:00:00.000002",
          "2072-12-31T00:00:00.000002",
          "2073-12-31T00:00:00.000002",
          "2074-12-31T00:00:00.000002",
          "2075-12-31T00:00:00.000002",
          "2076-12-31T00:00:00.000002",
          "2077-12-31T00:00:00.000002",
          "2078-12-31T00:00:00.000002",
          "2079-12-31T00:00:00.000002",
          "2080-12-31T00:00:00.000002",
          "2081-12-31T00:00:00.000002",
          "2082-12-31T00:00:00.000002",
          "2083-12-31T00:00:00.000002",
          "2084-12-31T00:00:00.000002",
          "2085-12-31T00:00:00.000002",
          "2086-12-31T00:00:00.000002",
          "2087-12-31T00:00:00.000002",
          "2088-12-31T00:00:00.000002",
          "2089-12-31T00:00:00.000002",
          "2090-12-31T00:00:00.000002",
          "2091-12-31T00:00:00.000002",
          "2092-12-31T00:00:00.000002",
          "2093-12-31T00:00:00.000002",
          "2094-12-31T00:00:00.000002",
          "2095-12-31T00:00:00.000002",
          "2096-12-31T00:00:00.000002",
          "2097-12-31T00:00:00.000002",
          "2098-12-31T00:00:00.000002",
          "2099-12-31T00:00:00.000002"
         ],
         "y": [
          656678191.8854327,
          656678191.8854327,
          656678191.8854327,
          656678191.8854327,
          656678191.8854327,
          656678191.8854327,
          656678191.8854327,
          656678191.8854327,
          656678191.8854327,
          656678191.8854327,
          656678191.8854327,
          656678191.8854327,
          656678191.8854327,
          656678191.8854327,
          656678191.8854327,
          656678191.8854327,
          656678191.8854327,
          656678191.8854327,
          656678191.8854327,
          656678191.8854327,
          656678191.8854327,
          656678191.8854327,
          656678191.8854327,
          656678191.8854327,
          656678191.8854327,
          656678191.8854327,
          656678191.8854327,
          656678191.8854327,
          656678191.8854327,
          656678191.8854327,
          656678191.8854327,
          656678191.8854327,
          656678191.8854327,
          656678191.8854327,
          656678191.8854327,
          656678191.8854327,
          656678191.8854327,
          656678191.8854327,
          656678191.8854327,
          656678191.8854327,
          656678191.8854327,
          656678191.8854327,
          656678191.8854327,
          656678191.8854327,
          656678191.8854327,
          656678191.8854327,
          656678191.8854327,
          656678191.8854327,
          656678191.8854327,
          656678191.8854327,
          656678191.8854327,
          656678191.8854327,
          656678191.8854327,
          656678191.8854327,
          656678191.8854327,
          656678191.8854327,
          656678191.8854327,
          656678191.8854327,
          656678191.8854327,
          656678191.8854327,
          656678191.8854327,
          656678191.8854327,
          656678191.8854327,
          656678191.8854327,
          656678191.8854327,
          656678191.8854327,
          656678191.8854327,
          656678191.8854327,
          656678191.8854327,
          656678191.8854327,
          656678191.8854327,
          656678191.8854327,
          661138409.6291351,
          665610650.0360546,
          668845284.8321409,
          672988456.2458181,
          677266312.8470542,
          681250418.6045228,
          684001569.5382056,
          687301119.5800239,
          690734361.7365646,
          694198266.6732708,
          696428685.2664909,
          699385311.3970159,
          702476114.2182119,
          705753988.1443157,
          707798296.9963529,
          710754414.7026567,
          713845217.5646007,
          717123091.5314987,
          719074383.9623785,
          721937485.2479824,
          723845971.0293415,
          725938535.3309025,
          726794287.0620706,
          727206462.1935256,
          727749590.0046042,
          728245811.1666789,
          727500201.6580803,
          727510514.9834331,
          727655064.2964699,
          727986684.7160144,
          727076668.0607492,
          727086532.1880157,
          727993509.2410223,
          729089651.9809012,
          729785462.9198484,
          731399060.0588589,
          732782325.735003,
          734351659.7234297,
          734682747.6336843,
          735930325.3295438,
          737312588.2132933,
          738881922.2015876,
          739213010.1112825,
          740460587.8075747,
          741842850.6910743,
          743412184.6793468,
          743743272.5894752,
          744990850.2853484,
          746373113.1688756,
          747942447.1573157,
          748273535.0671711,
          749521112.7633604,
          750903375.6465782,
          752472709.634872,
          752803797.5452087,
          754051375.2410771,
          755433638.1247358,
          757002972.1131594,
          757334060.022989,
          758581637.718889,
          759963900.6020515,
          761533234.5905071,
          761864322.5004512,
          763111900.1969198,
          764494163.0803916,
          766063497.0683069,
          766394584.9789664,
          767642162.6749406,
          769024425.5584091,
          770593759.5467992,
          770924847.4566318,
          772172425.1522744,
          773554688.0358404,
          775124022.0242941,
          775455109.9341099,
          776702687.6300737,
          778084950.5138661,
          779654284.5020938,
          779985372.4120331,
          781232950.1084502,
          782615212.9921819,
          784184546.9804558,
          784515634.8904493,
          785763212.5860493,
          787145475.4691536,
          788714809.457298,
          789045897.367981,
          790293475.0638804,
          791675737.9477868,
          793245071.9357504,
          793576159.8456569,
          794823737.5420593,
          796206000.42553,
          797775334.4136691,
          798106422.3234565,
          799354000.0200648,
          800736262.9032762,
          802305596.8912153,
          802636684.8017231,
          803884262.4976208,
          805266525.3810759,
          806835859.3690758,
          807166947.2795832,
          808414524.97542,
          809796787.8584183,
          811366121.8466148,
          811697209.7571151,
          812944787.4531689,
          814327050.3371563,
          815896384.3251328,
          816227472.2349143,
          817475049.9310814,
          818857312.8149267,
          820426646.8029028,
          820757734.7129228,
          822005312.409087,
          823387575.2922938,
          824956909.2806956,
          825287997.1910411,
          826535574.8872058,
          827917837.7690688,
          829487171.7577913,
          829818259.6684136,
          831065837.3634436,
          832448100.2483289,
          834017434.2356517,
          834348522.1471071,
          835596099.8430018,
          836978362.7264698,
          838547696.714359
         ]
        },
        {
         "mode": "lines",
         "name": "Latin America and the Caribbean (UN)",
         "type": "scatter",
         "x": [
          "1970-01-01T00:00:00.000001",
          "1970-01-01T00:00:00.000001",
          "1970-01-01T00:00:00.000001",
          "1970-01-01T00:00:00.000001",
          "1970-01-01T00:00:00.000001",
          "1970-01-01T00:00:00.000001",
          "1970-01-01T00:00:00.000001",
          "1970-01-01T00:00:00.000001",
          "1970-01-01T00:00:00.000001",
          "1970-01-01T00:00:00.000001",
          "1970-01-01T00:00:00.000001",
          "1970-01-01T00:00:00.000001",
          "1970-01-01T00:00:00.000001",
          "1970-01-01T00:00:00.000001",
          "1970-01-01T00:00:00.000001",
          "1970-01-01T00:00:00.000001",
          "1970-01-01T00:00:00.000001",
          "1970-01-01T00:00:00.000001",
          "1970-01-01T00:00:00.000001",
          "1970-01-01T00:00:00.000001",
          "1970-01-01T00:00:00.000001",
          "1970-01-01T00:00:00.000001",
          "1970-01-01T00:00:00.000001",
          "1970-01-01T00:00:00.000001",
          "1970-01-01T00:00:00.000001",
          "1970-01-01T00:00:00.000001",
          "1970-01-01T00:00:00.000001",
          "1970-01-01T00:00:00.000001",
          "1970-01-01T00:00:00.000001",
          "1970-01-01T00:00:00.000001",
          "1970-01-01T00:00:00.000001",
          "1970-01-01T00:00:00.000001",
          "1970-01-01T00:00:00.000001",
          "1970-01-01T00:00:00.000001",
          "1970-01-01T00:00:00.000001",
          "1970-01-01T00:00:00.000001",
          "1970-01-01T00:00:00.000001",
          "1970-01-01T00:00:00.000001",
          "1970-01-01T00:00:00.000001",
          "1970-01-01T00:00:00.000001",
          "1970-01-01T00:00:00.000001",
          "1970-01-01T00:00:00.000001",
          "1970-01-01T00:00:00.000001",
          "1970-01-01T00:00:00.000001",
          "1970-01-01T00:00:00.000001",
          "1970-01-01T00:00:00.000001",
          "1970-01-01T00:00:00.000001",
          "1970-01-01T00:00:00.000001",
          "1970-01-01T00:00:00.000001",
          "1970-01-01T00:00:00.000001",
          "1970-01-01T00:00:00.000002",
          "1970-01-01T00:00:00.000002",
          "1970-01-01T00:00:00.000002",
          "1970-01-01T00:00:00.000002",
          "1970-01-01T00:00:00.000002",
          "1970-01-01T00:00:00.000002",
          "1970-01-01T00:00:00.000002",
          "1970-01-01T00:00:00.000002",
          "1970-01-01T00:00:00.000002",
          "1970-01-01T00:00:00.000002",
          "1970-01-01T00:00:00.000002",
          "1970-01-01T00:00:00.000002",
          "1970-01-01T00:00:00.000002",
          "1970-01-01T00:00:00.000002",
          "1970-01-01T00:00:00.000002",
          "1970-01-01T00:00:00.000002",
          "1970-01-01T00:00:00.000002",
          "1970-01-01T00:00:00.000002",
          "1970-01-01T00:00:00.000002",
          "1970-01-01T00:00:00.000002",
          "1970-01-01T00:00:00.000002",
          "1970-01-01T00:00:00.000002",
          "1970-12-31T00:00:00.000002",
          "1971-12-31T00:00:00.000002",
          "1972-12-31T00:00:00.000002",
          "1973-12-31T00:00:00.000002",
          "1974-12-31T00:00:00.000002",
          "1975-12-31T00:00:00.000002",
          "1976-12-31T00:00:00.000002",
          "1977-12-31T00:00:00.000002",
          "1978-12-31T00:00:00.000002",
          "1979-12-31T00:00:00.000002",
          "1980-12-31T00:00:00.000002",
          "1981-12-31T00:00:00.000002",
          "1982-12-31T00:00:00.000002",
          "1983-12-31T00:00:00.000002",
          "1984-12-31T00:00:00.000002",
          "1985-12-31T00:00:00.000002",
          "1986-12-31T00:00:00.000002",
          "1987-12-31T00:00:00.000002",
          "1988-12-31T00:00:00.000002",
          "1989-12-31T00:00:00.000002",
          "1990-12-31T00:00:00.000002",
          "1991-12-31T00:00:00.000002",
          "1992-12-31T00:00:00.000002",
          "1993-12-31T00:00:00.000002",
          "1994-12-31T00:00:00.000002",
          "1995-12-31T00:00:00.000002",
          "1996-12-31T00:00:00.000002",
          "1997-12-31T00:00:00.000002",
          "1998-12-31T00:00:00.000002",
          "1999-12-31T00:00:00.000002",
          "2000-12-31T00:00:00.000002",
          "2001-12-31T00:00:00.000002",
          "2002-12-31T00:00:00.000002",
          "2003-12-31T00:00:00.000002",
          "2004-12-31T00:00:00.000002",
          "2005-12-31T00:00:00.000002",
          "2006-12-31T00:00:00.000002",
          "2007-12-31T00:00:00.000002",
          "2008-12-31T00:00:00.000002",
          "2009-12-31T00:00:00.000002",
          "2010-12-31T00:00:00.000002",
          "2011-12-31T00:00:00.000002",
          "2012-12-31T00:00:00.000002",
          "2013-12-31T00:00:00.000002",
          "2014-12-31T00:00:00.000002",
          "2015-12-31T00:00:00.000002",
          "2016-12-31T00:00:00.000002",
          "2017-12-31T00:00:00.000002",
          "2018-12-31T00:00:00.000002",
          "2019-12-31T00:00:00.000002",
          "2020-12-31T00:00:00.000002",
          "2021-12-31T00:00:00.000002",
          "2022-12-31T00:00:00.000002",
          "2023-12-31T00:00:00.000002",
          "2024-12-31T00:00:00.000002",
          "2025-12-31T00:00:00.000002",
          "2026-12-31T00:00:00.000002",
          "2027-12-31T00:00:00.000002",
          "2028-12-31T00:00:00.000002",
          "2029-12-31T00:00:00.000002",
          "2030-12-31T00:00:00.000002",
          "2031-12-31T00:00:00.000002",
          "2032-12-31T00:00:00.000002",
          "2033-12-31T00:00:00.000002",
          "2034-12-31T00:00:00.000002",
          "2035-12-31T00:00:00.000002",
          "2036-12-31T00:00:00.000002",
          "2037-12-31T00:00:00.000002",
          "2038-12-31T00:00:00.000002",
          "2039-12-31T00:00:00.000002",
          "2040-12-31T00:00:00.000002",
          "2041-12-31T00:00:00.000002",
          "2042-12-31T00:00:00.000002",
          "2043-12-31T00:00:00.000002",
          "2044-12-31T00:00:00.000002",
          "2045-12-31T00:00:00.000002",
          "2046-12-31T00:00:00.000002",
          "2047-12-31T00:00:00.000002",
          "2048-12-31T00:00:00.000002",
          "2049-12-31T00:00:00.000002",
          "2050-12-31T00:00:00.000002",
          "2051-12-31T00:00:00.000002",
          "2052-12-31T00:00:00.000002",
          "2053-12-31T00:00:00.000002",
          "2054-12-31T00:00:00.000002",
          "2055-12-31T00:00:00.000002",
          "2056-12-31T00:00:00.000002",
          "2057-12-31T00:00:00.000002",
          "2058-12-31T00:00:00.000002",
          "2059-12-31T00:00:00.000002",
          "2060-12-31T00:00:00.000002",
          "2061-12-31T00:00:00.000002",
          "2062-12-31T00:00:00.000002",
          "2063-12-31T00:00:00.000002",
          "2064-12-31T00:00:00.000002",
          "2065-12-31T00:00:00.000002",
          "2066-12-31T00:00:00.000002",
          "2067-12-31T00:00:00.000002",
          "2068-12-31T00:00:00.000002",
          "2069-12-31T00:00:00.000002",
          "2070-12-31T00:00:00.000002",
          "2071-12-31T00:00:00.000002",
          "2072-12-31T00:00:00.000002",
          "2073-12-31T00:00:00.000002",
          "2074-12-31T00:00:00.000002",
          "2075-12-31T00:00:00.000002",
          "2076-12-31T00:00:00.000002",
          "2077-12-31T00:00:00.000002",
          "2078-12-31T00:00:00.000002",
          "2079-12-31T00:00:00.000002",
          "2080-12-31T00:00:00.000002",
          "2081-12-31T00:00:00.000002",
          "2082-12-31T00:00:00.000002",
          "2083-12-31T00:00:00.000002",
          "2084-12-31T00:00:00.000002",
          "2085-12-31T00:00:00.000002",
          "2086-12-31T00:00:00.000002",
          "2087-12-31T00:00:00.000002",
          "2088-12-31T00:00:00.000002",
          "2089-12-31T00:00:00.000002",
          "2090-12-31T00:00:00.000002",
          "2091-12-31T00:00:00.000002",
          "2092-12-31T00:00:00.000002",
          "2093-12-31T00:00:00.000002",
          "2094-12-31T00:00:00.000002",
          "2095-12-31T00:00:00.000002",
          "2096-12-31T00:00:00.000002",
          "2097-12-31T00:00:00.000002",
          "2098-12-31T00:00:00.000002",
          "2099-12-31T00:00:00.000002"
         ],
         "y": [
          286526443.1566484,
          286526443.1566484,
          286526443.1566484,
          286526443.1566484,
          286526443.1566484,
          286526443.1566484,
          286526443.1566484,
          286526443.1566484,
          286526443.1566484,
          286526443.1566484,
          286526443.1566484,
          286526443.1566484,
          286526443.1566484,
          286526443.1566484,
          286526443.1566484,
          286526443.1566484,
          286526443.1566484,
          286526443.1566484,
          286526443.1566484,
          286526443.1566484,
          286526443.1566484,
          286526443.1566484,
          286526443.1566484,
          286526443.1566484,
          286526443.1566484,
          286526443.1566484,
          286526443.1566484,
          286526443.1566484,
          286526443.1566484,
          286526443.1566484,
          286526443.1566484,
          286526443.1566484,
          286526443.1566484,
          286526443.1566484,
          286526443.15664846,
          286526443.15664846,
          286526443.15664846,
          286526443.15664846,
          286526443.15664846,
          286526443.15664846,
          286526443.15664846,
          286526443.15664846,
          286526443.15664846,
          286526443.15664846,
          286526443.15664846,
          286526443.15664846,
          286526443.15664846,
          286526443.15664846,
          286526443.15664846,
          286526443.15664846,
          286526443.15664846,
          286526443.15664846,
          286526443.15664846,
          286526443.15664846,
          286526443.15664846,
          286526443.15664846,
          286526443.15664846,
          286526443.15664846,
          286526443.15664846,
          286526443.15664846,
          286526443.15664846,
          286526443.15664846,
          286526443.15664846,
          286526443.15664846,
          286526443.15664846,
          286526443.15664846,
          286526443.15664846,
          286526443.15664846,
          286526443.15664846,
          286526443.15664846,
          286526443.15664846,
          286526443.15664846,
          292969564.68600494,
          299860656.22995543,
          307982499.44933724,
          315134807.3268134,
          322255999.2778678,
          329729769.3509415,
          338211639.5021744,
          345917215.0293926,
          353592209.9042931,
          361304273.453743,
          370024220.78126156,
          377773153.60332656,
          385490972.615364,
          393203923.88159215,
          401931413.2010266,
          409687115.5079567,
          417566944.36860096,
          425442331.9738372,
          434332154.39800346,
          442249744.7788821,
          450136600.11185783,
          458018588.7452022,
          466908811.1793435,
          474821321.9979148,
          482702701.8859658,
          490475595.0256281,
          499256137.6266632,
          506824842.7273723,
          514361772.87131214,
          521449316.39719105,
          529541692.610153,
          536663998.60266167,
          543557232.5197635,
          550445054.855614,
          558338387.2439266,
          565262193.2469808,
          571251025.3670025,
          577232506.6151454,
          584217014.794502,
          590234479.7148253,
          596220828.7088933,
          602202309.9569726,
          609186818.1360505,
          615204283.056587,
          621190632.0505294,
          627172113.2985939,
          634156621.4778881,
          640174086.3982189,
          646160435.3921747,
          652141916.6403275,
          659126424.8194816,
          665143889.7399698,
          671130238.7337737,
          677111719.9818503,
          684096228.1612465,
          690113693.081574,
          696100042.0755957,
          702081523.3237402,
          709066031.5028825,
          715083496.4232228,
          721069845.4170036,
          727051326.6651554,
          734035834.8443608,
          740053299.7649844,
          746039648.758908,
          752021130.0068029,
          759005638.1863596,
          765023103.1067421,
          771009452.1006653,
          776990933.3487971,
          783975441.52794,
          789992906.4481544,
          795979255.4421325,
          801960736.6902835,
          808945244.8694248,
          814962709.7898014,
          820949058.7838897,
          826930540.031931,
          833915048.2111332,
          839932513.1317334,
          845918862.1257885,
          851900343.3738595,
          858884851.5530827,
          864902316.473278,
          870888665.4670218,
          876870146.7150316,
          883854654.8945972,
          889872119.8149369,
          895858468.8090844,
          901839950.0569934,
          908824458.2361804,
          914841923.1567712,
          920828272.1506946,
          926809753.3987024,
          933794261.5778269,
          939811726.4985223,
          945798075.4923202,
          951779556.7402254,
          958764064.9197038,
          964781529.8400435,
          970767878.8339672,
          976749360.0818908,
          983733868.2613764,
          989751333.1816905,
          995737682.1753861,
          1001719163.4234066,
          1008703671.6028908,
          1014721136.5233159,
          1020707485.5174966,
          1026688966.7654194,
          1033673474.9445373,
          1039690939.8650093,
          1045677288.8591286,
          1051658770.1070511,
          1058643278.2862883,
          1064660743.2067604,
          1070647092.2005519,
          1076628573.4486916,
          1083613081.6280868,
          1089630546.5485582,
          1095616895.5417025,
          1101598376.7899883,
          1108582884.9695218,
          1114600349.8894413,
          1120586698.8840663,
          1126568180.1316535,
          1133552688.3116105,
          1139570153.2319493,
          1145556502.2258716,
          1151537983.473761
         ]
        },
        {
         "mode": "lines",
         "name": "Northern America (UN)",
         "type": "scatter",
         "x": [
          "1970-01-01T00:00:00.000001",
          "1970-01-01T00:00:00.000001",
          "1970-01-01T00:00:00.000001",
          "1970-01-01T00:00:00.000001",
          "1970-01-01T00:00:00.000001",
          "1970-01-01T00:00:00.000001",
          "1970-01-01T00:00:00.000001",
          "1970-01-01T00:00:00.000001",
          "1970-01-01T00:00:00.000001",
          "1970-01-01T00:00:00.000001",
          "1970-01-01T00:00:00.000001",
          "1970-01-01T00:00:00.000001",
          "1970-01-01T00:00:00.000001",
          "1970-01-01T00:00:00.000001",
          "1970-01-01T00:00:00.000001",
          "1970-01-01T00:00:00.000001",
          "1970-01-01T00:00:00.000001",
          "1970-01-01T00:00:00.000001",
          "1970-01-01T00:00:00.000001",
          "1970-01-01T00:00:00.000001",
          "1970-01-01T00:00:00.000001",
          "1970-01-01T00:00:00.000001",
          "1970-01-01T00:00:00.000001",
          "1970-01-01T00:00:00.000001",
          "1970-01-01T00:00:00.000001",
          "1970-01-01T00:00:00.000001",
          "1970-01-01T00:00:00.000001",
          "1970-01-01T00:00:00.000001",
          "1970-01-01T00:00:00.000001",
          "1970-01-01T00:00:00.000001",
          "1970-01-01T00:00:00.000001",
          "1970-01-01T00:00:00.000001",
          "1970-01-01T00:00:00.000001",
          "1970-01-01T00:00:00.000001",
          "1970-01-01T00:00:00.000001",
          "1970-01-01T00:00:00.000001",
          "1970-01-01T00:00:00.000001",
          "1970-01-01T00:00:00.000001",
          "1970-01-01T00:00:00.000001",
          "1970-01-01T00:00:00.000001",
          "1970-01-01T00:00:00.000001",
          "1970-01-01T00:00:00.000001",
          "1970-01-01T00:00:00.000001",
          "1970-01-01T00:00:00.000001",
          "1970-01-01T00:00:00.000001",
          "1970-01-01T00:00:00.000001",
          "1970-01-01T00:00:00.000001",
          "1970-01-01T00:00:00.000001",
          "1970-01-01T00:00:00.000001",
          "1970-01-01T00:00:00.000001",
          "1970-01-01T00:00:00.000002",
          "1970-01-01T00:00:00.000002",
          "1970-01-01T00:00:00.000002",
          "1970-01-01T00:00:00.000002",
          "1970-01-01T00:00:00.000002",
          "1970-01-01T00:00:00.000002",
          "1970-01-01T00:00:00.000002",
          "1970-01-01T00:00:00.000002",
          "1970-01-01T00:00:00.000002",
          "1970-01-01T00:00:00.000002",
          "1970-01-01T00:00:00.000002",
          "1970-01-01T00:00:00.000002",
          "1970-01-01T00:00:00.000002",
          "1970-01-01T00:00:00.000002",
          "1970-01-01T00:00:00.000002",
          "1970-01-01T00:00:00.000002",
          "1970-01-01T00:00:00.000002",
          "1970-01-01T00:00:00.000002",
          "1970-01-01T00:00:00.000002",
          "1970-01-01T00:00:00.000002",
          "1970-01-01T00:00:00.000002",
          "1970-01-01T00:00:00.000002",
          "1970-12-31T00:00:00.000002",
          "1971-12-31T00:00:00.000002",
          "1972-12-31T00:00:00.000002",
          "1973-12-31T00:00:00.000002",
          "1974-12-31T00:00:00.000002",
          "1975-12-31T00:00:00.000002",
          "1976-12-31T00:00:00.000002",
          "1977-12-31T00:00:00.000002",
          "1978-12-31T00:00:00.000002",
          "1979-12-31T00:00:00.000002",
          "1980-12-31T00:00:00.000002",
          "1981-12-31T00:00:00.000002",
          "1982-12-31T00:00:00.000002",
          "1983-12-31T00:00:00.000002",
          "1984-12-31T00:00:00.000002",
          "1985-12-31T00:00:00.000002",
          "1986-12-31T00:00:00.000002",
          "1987-12-31T00:00:00.000002",
          "1988-12-31T00:00:00.000002",
          "1989-12-31T00:00:00.000002",
          "1990-12-31T00:00:00.000002",
          "1991-12-31T00:00:00.000002",
          "1992-12-31T00:00:00.000002",
          "1993-12-31T00:00:00.000002",
          "1994-12-31T00:00:00.000002",
          "1995-12-31T00:00:00.000002",
          "1996-12-31T00:00:00.000002",
          "1997-12-31T00:00:00.000002",
          "1998-12-31T00:00:00.000002",
          "1999-12-31T00:00:00.000002",
          "2000-12-31T00:00:00.000002",
          "2001-12-31T00:00:00.000002",
          "2002-12-31T00:00:00.000002",
          "2003-12-31T00:00:00.000002",
          "2004-12-31T00:00:00.000002",
          "2005-12-31T00:00:00.000002",
          "2006-12-31T00:00:00.000002",
          "2007-12-31T00:00:00.000002",
          "2008-12-31T00:00:00.000002",
          "2009-12-31T00:00:00.000002",
          "2010-12-31T00:00:00.000002",
          "2011-12-31T00:00:00.000002",
          "2012-12-31T00:00:00.000002",
          "2013-12-31T00:00:00.000002",
          "2014-12-31T00:00:00.000002",
          "2015-12-31T00:00:00.000002",
          "2016-12-31T00:00:00.000002",
          "2017-12-31T00:00:00.000002",
          "2018-12-31T00:00:00.000002",
          "2019-12-31T00:00:00.000002",
          "2020-12-31T00:00:00.000002",
          "2021-12-31T00:00:00.000002",
          "2022-12-31T00:00:00.000002",
          "2023-12-31T00:00:00.000002",
          "2024-12-31T00:00:00.000002",
          "2025-12-31T00:00:00.000002",
          "2026-12-31T00:00:00.000002",
          "2027-12-31T00:00:00.000002",
          "2028-12-31T00:00:00.000002",
          "2029-12-31T00:00:00.000002",
          "2030-12-31T00:00:00.000002",
          "2031-12-31T00:00:00.000002",
          "2032-12-31T00:00:00.000002",
          "2033-12-31T00:00:00.000002",
          "2034-12-31T00:00:00.000002",
          "2035-12-31T00:00:00.000002",
          "2036-12-31T00:00:00.000002",
          "2037-12-31T00:00:00.000002",
          "2038-12-31T00:00:00.000002",
          "2039-12-31T00:00:00.000002",
          "2040-12-31T00:00:00.000002",
          "2041-12-31T00:00:00.000002",
          "2042-12-31T00:00:00.000002",
          "2043-12-31T00:00:00.000002",
          "2044-12-31T00:00:00.000002",
          "2045-12-31T00:00:00.000002",
          "2046-12-31T00:00:00.000002",
          "2047-12-31T00:00:00.000002",
          "2048-12-31T00:00:00.000002",
          "2049-12-31T00:00:00.000002",
          "2050-12-31T00:00:00.000002",
          "2051-12-31T00:00:00.000002",
          "2052-12-31T00:00:00.000002",
          "2053-12-31T00:00:00.000002",
          "2054-12-31T00:00:00.000002",
          "2055-12-31T00:00:00.000002",
          "2056-12-31T00:00:00.000002",
          "2057-12-31T00:00:00.000002",
          "2058-12-31T00:00:00.000002",
          "2059-12-31T00:00:00.000002",
          "2060-12-31T00:00:00.000002",
          "2061-12-31T00:00:00.000002",
          "2062-12-31T00:00:00.000002",
          "2063-12-31T00:00:00.000002",
          "2064-12-31T00:00:00.000002",
          "2065-12-31T00:00:00.000002",
          "2066-12-31T00:00:00.000002",
          "2067-12-31T00:00:00.000002",
          "2068-12-31T00:00:00.000002",
          "2069-12-31T00:00:00.000002",
          "2070-12-31T00:00:00.000002",
          "2071-12-31T00:00:00.000002",
          "2072-12-31T00:00:00.000002",
          "2073-12-31T00:00:00.000002",
          "2074-12-31T00:00:00.000002",
          "2075-12-31T00:00:00.000002",
          "2076-12-31T00:00:00.000002",
          "2077-12-31T00:00:00.000002",
          "2078-12-31T00:00:00.000002",
          "2079-12-31T00:00:00.000002",
          "2080-12-31T00:00:00.000002",
          "2081-12-31T00:00:00.000002",
          "2082-12-31T00:00:00.000002",
          "2083-12-31T00:00:00.000002",
          "2084-12-31T00:00:00.000002",
          "2085-12-31T00:00:00.000002",
          "2086-12-31T00:00:00.000002",
          "2087-12-31T00:00:00.000002",
          "2088-12-31T00:00:00.000002",
          "2089-12-31T00:00:00.000002",
          "2090-12-31T00:00:00.000002",
          "2091-12-31T00:00:00.000002",
          "2092-12-31T00:00:00.000002",
          "2093-12-31T00:00:00.000002",
          "2094-12-31T00:00:00.000002",
          "2095-12-31T00:00:00.000002",
          "2096-12-31T00:00:00.000002",
          "2097-12-31T00:00:00.000002",
          "2098-12-31T00:00:00.000002",
          "2099-12-31T00:00:00.000002"
         ],
         "y": [
          222099253.93921083,
          222099253.93921083,
          222099253.93921083,
          222099253.93921083,
          222099253.93921083,
          222099253.93921083,
          222099253.93921083,
          222099253.93921083,
          222099253.93921083,
          222099253.93921083,
          222099253.93921083,
          222099253.93921083,
          222099253.93921083,
          222099253.93921083,
          222099253.93921083,
          222099253.93921083,
          222099253.93921083,
          222099253.93921083,
          222099253.93921083,
          222099253.93921083,
          222099253.93921083,
          222099253.93921083,
          222099253.93921083,
          222099253.93921083,
          222099253.93921083,
          222099253.93921083,
          222099253.93921083,
          222099253.93921083,
          222099253.93921083,
          222099253.93921083,
          222099253.93921083,
          222099253.93921083,
          222099253.93921083,
          222099253.93921083,
          222099253.93921086,
          222099253.93921086,
          222099253.93921086,
          222099253.93921086,
          222099253.93921086,
          222099253.93921086,
          222099253.93921086,
          222099253.93921086,
          222099253.93921086,
          222099253.93921086,
          222099253.93921086,
          222099253.93921086,
          222099253.93921086,
          222099253.93921086,
          222099253.93921086,
          222099253.93921086,
          222099253.93921086,
          222099253.93921086,
          222099253.93921086,
          222099253.93921086,
          222099253.93921086,
          222099253.93921086,
          222099253.93921086,
          222099253.93921086,
          222099253.93921086,
          222099253.93921086,
          222099253.93921086,
          222099253.93921086,
          222099253.93921086,
          222099253.93921086,
          222099253.93921086,
          222099253.93921086,
          222099253.93921086,
          222099253.93921086,
          222099253.93921086,
          222099253.93921086,
          222099253.93921086,
          222099253.93921086,
          224154840.28689355,
          226558395.56486538,
          229536652.28156227,
          231825837.12151518,
          234100081.25174928,
          236383248.75483313,
          239361175.65943176,
          241902078.59161747,
          244428732.34722167,
          246964309.53178144,
          250195337.65140048,
          252725382.9266163,
          255240455.76330888,
          257764451.95543522,
          260983867.24077827,
          263513880.6741544,
          266028953.3838539,
          268552949.44901276,
          272471378.00188184,
          275700404.7033889,
          279316237.6350342,
          282942097.6223226,
          287266395.62076956,
          290896195.35279405,
          294511048.66736877,
          298075627.3008785,
          302338312.973746,
          305770335.41638076,
          309187036.8995278,
          312372026.9660143,
          316253584.2848475,
          319443930.621164,
          322619336.22399604,
          325803665.1823168,
          329686889.39241993,
          332878902.6197259,
          335662179.9838053,
          338453298.8486692,
          341940568.7626804,
          344737704.98178357,
          347519900.49131894,
          350311019.35612464,
          353798289.2698824,
          356595425.48917985,
          359377620.99860114,
          362168739.8633939,
          365656009.7773484,
          368453145.9964582,
          371235341.50589174,
          374026460.3707642,
          377513730.2845918,
          380310866.5038449,
          383093062.0131399,
          385884180.8779435,
          389371450.791991,
          392168587.0110979,
          394950782.5205914,
          397741901.3854564,
          401229171.29927313,
          404026307.51839197,
          406808503.0276655,
          409599621.89253825,
          413086891.8064115,
          415884028.02578825,
          418666223.535193,
          421457342.39983046,
          424944612.31402403,
          427741748.5331807,
          430523944.0425851,
          433315062.907438,
          436802332.8212553,
          439599469.0402595,
          442381664.5497128,
          445172783.41458476,
          448660053.3283997,
          451457189.5475512,
          454239385.05710506,
          457030503.921877,
          460517773.8357474,
          463314910.0551026,
          466097105.5646268,
          468888224.42942476,
          472375494.3433152,
          475172630.56230164,
          477954826.0715425,
          480745944.9362842,
          484233214.85048634,
          487030351.0696048,
          489812546.5792124,
          492603665.44386387,
          496090935.3577203,
          498888071.5770674,
          501670267.0864719,
          504461385.9512119,
          507948655.8650118,
          510745792.0844537,
          513527987.59374356,
          516319106.45839065,
          519806376.3725133,
          522603512.59163165,
          525385708.10103554,
          528176826.9657006,
          531664096.879829,
          534461233.09892344,
          537243428.6081197,
          540034547.4728733,
          543521817.387,
          546318953.6061952,
          549101149.1158339,
          551892267.9804969,
          555379537.8942914,
          558176674.1135305,
          560958869.6231121,
          563749988.4877751,
          567237258.401678,
          570034394.620917,
          572816590.1302016,
          575607708.9950613,
          579094978.9091086,
          581892115.1283469,
          584674310.63704,
          587465429.5020343,
          590952699.4162076,
          593749835.6349418,
          596532031.1449854,
          599323150.0093443,
          602810419.9239016,
          605607556.1430193,
          608389751.6524227,
          611180870.5170541
         ]
        },
        {
         "mode": "lines",
         "name": "Oceania (UN)",
         "type": "scatter",
         "x": [
          "1970-01-01T00:00:00.000001",
          "1970-01-01T00:00:00.000001",
          "1970-01-01T00:00:00.000001",
          "1970-01-01T00:00:00.000001",
          "1970-01-01T00:00:00.000001",
          "1970-01-01T00:00:00.000001",
          "1970-01-01T00:00:00.000001",
          "1970-01-01T00:00:00.000001",
          "1970-01-01T00:00:00.000001",
          "1970-01-01T00:00:00.000001",
          "1970-01-01T00:00:00.000001",
          "1970-01-01T00:00:00.000001",
          "1970-01-01T00:00:00.000001",
          "1970-01-01T00:00:00.000001",
          "1970-01-01T00:00:00.000001",
          "1970-01-01T00:00:00.000001",
          "1970-01-01T00:00:00.000001",
          "1970-01-01T00:00:00.000001",
          "1970-01-01T00:00:00.000001",
          "1970-01-01T00:00:00.000001",
          "1970-01-01T00:00:00.000001",
          "1970-01-01T00:00:00.000001",
          "1970-01-01T00:00:00.000001",
          "1970-01-01T00:00:00.000001",
          "1970-01-01T00:00:00.000001",
          "1970-01-01T00:00:00.000001",
          "1970-01-01T00:00:00.000001",
          "1970-01-01T00:00:00.000001",
          "1970-01-01T00:00:00.000001",
          "1970-01-01T00:00:00.000001",
          "1970-01-01T00:00:00.000001",
          "1970-01-01T00:00:00.000001",
          "1970-01-01T00:00:00.000001",
          "1970-01-01T00:00:00.000001",
          "1970-01-01T00:00:00.000001",
          "1970-01-01T00:00:00.000001",
          "1970-01-01T00:00:00.000001",
          "1970-01-01T00:00:00.000001",
          "1970-01-01T00:00:00.000001",
          "1970-01-01T00:00:00.000001",
          "1970-01-01T00:00:00.000001",
          "1970-01-01T00:00:00.000001",
          "1970-01-01T00:00:00.000001",
          "1970-01-01T00:00:00.000001",
          "1970-01-01T00:00:00.000001",
          "1970-01-01T00:00:00.000001",
          "1970-01-01T00:00:00.000001",
          "1970-01-01T00:00:00.000001",
          "1970-01-01T00:00:00.000001",
          "1970-01-01T00:00:00.000001",
          "1970-01-01T00:00:00.000002",
          "1970-01-01T00:00:00.000002",
          "1970-01-01T00:00:00.000002",
          "1970-01-01T00:00:00.000002",
          "1970-01-01T00:00:00.000002",
          "1970-01-01T00:00:00.000002",
          "1970-01-01T00:00:00.000002",
          "1970-01-01T00:00:00.000002",
          "1970-01-01T00:00:00.000002",
          "1970-01-01T00:00:00.000002",
          "1970-01-01T00:00:00.000002",
          "1970-01-01T00:00:00.000002",
          "1970-01-01T00:00:00.000002",
          "1970-01-01T00:00:00.000002",
          "1970-01-01T00:00:00.000002",
          "1970-01-01T00:00:00.000002",
          "1970-01-01T00:00:00.000002",
          "1970-01-01T00:00:00.000002",
          "1970-01-01T00:00:00.000002",
          "1970-01-01T00:00:00.000002",
          "1970-01-01T00:00:00.000002",
          "1970-01-01T00:00:00.000002",
          "1970-12-31T00:00:00.000002",
          "1971-12-31T00:00:00.000002",
          "1972-12-31T00:00:00.000002",
          "1973-12-31T00:00:00.000002",
          "1974-12-31T00:00:00.000002",
          "1975-12-31T00:00:00.000002",
          "1976-12-31T00:00:00.000002",
          "1977-12-31T00:00:00.000002",
          "1978-12-31T00:00:00.000002",
          "1979-12-31T00:00:00.000002",
          "1980-12-31T00:00:00.000002",
          "1981-12-31T00:00:00.000002",
          "1982-12-31T00:00:00.000002",
          "1983-12-31T00:00:00.000002",
          "1984-12-31T00:00:00.000002",
          "1985-12-31T00:00:00.000002",
          "1986-12-31T00:00:00.000002",
          "1987-12-31T00:00:00.000002",
          "1988-12-31T00:00:00.000002",
          "1989-12-31T00:00:00.000002",
          "1990-12-31T00:00:00.000002",
          "1991-12-31T00:00:00.000002",
          "1992-12-31T00:00:00.000002",
          "1993-12-31T00:00:00.000002",
          "1994-12-31T00:00:00.000002",
          "1995-12-31T00:00:00.000002",
          "1996-12-31T00:00:00.000002",
          "1997-12-31T00:00:00.000002",
          "1998-12-31T00:00:00.000002",
          "1999-12-31T00:00:00.000002",
          "2000-12-31T00:00:00.000002",
          "2001-12-31T00:00:00.000002",
          "2002-12-31T00:00:00.000002",
          "2003-12-31T00:00:00.000002",
          "2004-12-31T00:00:00.000002",
          "2005-12-31T00:00:00.000002",
          "2006-12-31T00:00:00.000002",
          "2007-12-31T00:00:00.000002",
          "2008-12-31T00:00:00.000002",
          "2009-12-31T00:00:00.000002",
          "2010-12-31T00:00:00.000002",
          "2011-12-31T00:00:00.000002",
          "2012-12-31T00:00:00.000002",
          "2013-12-31T00:00:00.000002",
          "2014-12-31T00:00:00.000002",
          "2015-12-31T00:00:00.000002",
          "2016-12-31T00:00:00.000002",
          "2017-12-31T00:00:00.000002",
          "2018-12-31T00:00:00.000002",
          "2019-12-31T00:00:00.000002",
          "2020-12-31T00:00:00.000002",
          "2021-12-31T00:00:00.000002",
          "2022-12-31T00:00:00.000002",
          "2023-12-31T00:00:00.000002",
          "2024-12-31T00:00:00.000002",
          "2025-12-31T00:00:00.000002",
          "2026-12-31T00:00:00.000002",
          "2027-12-31T00:00:00.000002",
          "2028-12-31T00:00:00.000002",
          "2029-12-31T00:00:00.000002",
          "2030-12-31T00:00:00.000002",
          "2031-12-31T00:00:00.000002",
          "2032-12-31T00:00:00.000002",
          "2033-12-31T00:00:00.000002",
          "2034-12-31T00:00:00.000002",
          "2035-12-31T00:00:00.000002",
          "2036-12-31T00:00:00.000002",
          "2037-12-31T00:00:00.000002",
          "2038-12-31T00:00:00.000002",
          "2039-12-31T00:00:00.000002",
          "2040-12-31T00:00:00.000002",
          "2041-12-31T00:00:00.000002",
          "2042-12-31T00:00:00.000002",
          "2043-12-31T00:00:00.000002",
          "2044-12-31T00:00:00.000002",
          "2045-12-31T00:00:00.000002",
          "2046-12-31T00:00:00.000002",
          "2047-12-31T00:00:00.000002",
          "2048-12-31T00:00:00.000002",
          "2049-12-31T00:00:00.000002",
          "2050-12-31T00:00:00.000002",
          "2051-12-31T00:00:00.000002",
          "2052-12-31T00:00:00.000002",
          "2053-12-31T00:00:00.000002",
          "2054-12-31T00:00:00.000002",
          "2055-12-31T00:00:00.000002",
          "2056-12-31T00:00:00.000002",
          "2057-12-31T00:00:00.000002",
          "2058-12-31T00:00:00.000002",
          "2059-12-31T00:00:00.000002",
          "2060-12-31T00:00:00.000002",
          "2061-12-31T00:00:00.000002",
          "2062-12-31T00:00:00.000002",
          "2063-12-31T00:00:00.000002",
          "2064-12-31T00:00:00.000002",
          "2065-12-31T00:00:00.000002",
          "2066-12-31T00:00:00.000002",
          "2067-12-31T00:00:00.000002",
          "2068-12-31T00:00:00.000002",
          "2069-12-31T00:00:00.000002",
          "2070-12-31T00:00:00.000002",
          "2071-12-31T00:00:00.000002",
          "2072-12-31T00:00:00.000002",
          "2073-12-31T00:00:00.000002",
          "2074-12-31T00:00:00.000002",
          "2075-12-31T00:00:00.000002",
          "2076-12-31T00:00:00.000002",
          "2077-12-31T00:00:00.000002",
          "2078-12-31T00:00:00.000002",
          "2079-12-31T00:00:00.000002",
          "2080-12-31T00:00:00.000002",
          "2081-12-31T00:00:00.000002",
          "2082-12-31T00:00:00.000002",
          "2083-12-31T00:00:00.000002",
          "2084-12-31T00:00:00.000002",
          "2085-12-31T00:00:00.000002",
          "2086-12-31T00:00:00.000002",
          "2087-12-31T00:00:00.000002",
          "2088-12-31T00:00:00.000002",
          "2089-12-31T00:00:00.000002",
          "2090-12-31T00:00:00.000002",
          "2091-12-31T00:00:00.000002",
          "2092-12-31T00:00:00.000002",
          "2093-12-31T00:00:00.000002",
          "2094-12-31T00:00:00.000002",
          "2095-12-31T00:00:00.000002",
          "2096-12-31T00:00:00.000002",
          "2097-12-31T00:00:00.000002",
          "2098-12-31T00:00:00.000002",
          "2099-12-31T00:00:00.000002"
         ],
         "y": [
          19493322.865280554,
          19493322.865280554,
          19493322.865280554,
          19493322.865280554,
          19493322.865280554,
          19493322.865280554,
          19493322.865280554,
          19493322.865280554,
          19493322.865280554,
          19493322.865280554,
          19493322.865280554,
          19493322.865280554,
          19493322.865280554,
          19493322.865280554,
          19493322.865280554,
          19493322.865280554,
          19493322.865280554,
          19493322.865280554,
          19493322.865280554,
          19493322.865280554,
          19493322.865280554,
          19493322.865280554,
          19493322.865280554,
          19493322.865280554,
          19493322.865280554,
          19493322.865280554,
          19493322.865280554,
          19493322.865280554,
          19493322.865280554,
          19493322.865280554,
          19493322.865280554,
          19493322.865280554,
          19493322.865280554,
          19493322.865280554,
          19493322.865280557,
          19493322.865280557,
          19493322.865280557,
          19493322.865280557,
          19493322.865280557,
          19493322.865280557,
          19493322.865280557,
          19493322.865280557,
          19493322.865280557,
          19493322.865280557,
          19493322.865280557,
          19493322.865280557,
          19493322.865280557,
          19493322.865280557,
          19493322.865280557,
          19493322.865280557,
          19493322.865280557,
          19493322.865280557,
          19493322.865280557,
          19493322.865280557,
          19493322.865280557,
          19493322.865280557,
          19493322.865280557,
          19493322.865280557,
          19493322.865280557,
          19493322.865280557,
          19493322.865280557,
          19493322.865280557,
          19493322.865280557,
          19493322.865280557,
          19493322.865280557,
          19493322.865280557,
          19493322.865280557,
          19493322.865280557,
          19493322.865280557,
          19493322.865280557,
          19493322.865280557,
          19493322.865280557,
          19937968.778902743,
          20411591.821479306,
          20829891.40132562,
          21165119.614947494,
          21495609.301480867,
          21738598.7931069,
          22072430.25590968,
          22323771.794367626,
          22570374.665460784,
          22872020.272528425,
          23265061.226798616,
          23605990.496990547,
          23942265.000956535,
          24274645.238420013,
          24698342.67063647,
          25039355.703213807,
          25418929.334214747,
          25794727.652357098,
          26294961.95657028,
          26712392.907507665,
          27125023.462859772,
          27533759.581734918,
          28034022.088035464,
          28451391.000965,
          28864021.38680696,
          29296485.75765808,
          29820606.89093908,
          30261769.24456474,
          30698193.071106285,
          31161394.874651372,
          31716356.78193248,
          32188275.643476754,
          32696942.886014774,
          33201829.83707667,
          33808080.90050542,
          34331174.94316311,
          34987014.55586426,
          35639337.60563238,
          36383854.4042793,
          37044810.24763676,
          37701027.56391108,
          38353350.61367723,
          39097867.41231526,
          39758823.25567948,
          40415040.57194976,
          41067363.6217153,
          41811880.42036028,
          42472836.263717994,
          43129053.57998869,
          43781376.629757196,
          44525893.42839756,
          45186849.27176032,
          45843066.58802624,
          46495389.637792245,
          47239906.43644041,
          47900862.27979797,
          48557079.59607078,
          49209402.64583902,
          49953919.44447907,
          50614875.28783695,
          51271092.60410231,
          51923415.65387051,
          52667932.45251268,
          53328888.29587967,
          53985105.61214917,
          54637428.661909625,
          55381945.46056291,
          56042901.3039223,
          56699118.62019181,
          57351441.66995979,
          58095958.46859983,
          58756914.311953776,
          59413131.62822529,
          60065454.67799345,
          60809971.476633616,
          61470927.319992855,
          62127144.63626778,
          62779467.68603257,
          63523984.484674655,
          64184940.32804096,
          64841157.6443147,
          65493480.69408062,
          66237997.4927233,
          66898953.33607666,
          67555170.65234055,
          68207493.70210472,
          68952010.50075813,
          69612966.34411599,
          70269183.66039288,
          70921506.7101534,
          71666023.50879507,
          72326979.35216099,
          72983196.66843046,
          73635519.71819454,
          74380036.51683411,
          75040992.36020344,
          75697209.67646906,
          76349532.72622979,
          77094049.52488048,
          77755005.36823834,
          78411222.68450813,
          79063545.73426901,
          79808062.5329202,
          80469018.3762774,
          81125235.69253993,
          81777558.74230386,
          82522075.54095504,
          83183031.38431592,
          83839248.70059362,
          84491571.75035484,
          85236088.54899408,
          85897044.39235616,
          86553261.70863222,
          87205584.75839342,
          87950101.55703649,
          88611057.4003986,
          89267274.71666387,
          89919597.76643218,
          90664114.56508017,
          91325070.4084422,
          91981287.72468765,
          92633610.77446015,
          93378127.57311244,
          94039083.4164573,
          94695300.73274916,
          95347623.78249937,
          96092140.58116558,
          96753096.42452343,
          97409313.74079286,
          98061636.79055335
         ]
        },
        {
         "mode": "lines",
         "name": "World",
         "type": "scatter",
         "x": [
          "1970-01-01T00:00:00.000001",
          "1970-01-01T00:00:00.000001",
          "1970-01-01T00:00:00.000001",
          "1970-01-01T00:00:00.000001",
          "1970-01-01T00:00:00.000001",
          "1970-01-01T00:00:00.000001",
          "1970-01-01T00:00:00.000001",
          "1970-01-01T00:00:00.000001",
          "1970-01-01T00:00:00.000001",
          "1970-01-01T00:00:00.000001",
          "1970-01-01T00:00:00.000001",
          "1970-01-01T00:00:00.000001",
          "1970-01-01T00:00:00.000001",
          "1970-01-01T00:00:00.000001",
          "1970-01-01T00:00:00.000001",
          "1970-01-01T00:00:00.000001",
          "1970-01-01T00:00:00.000001",
          "1970-01-01T00:00:00.000001",
          "1970-01-01T00:00:00.000001",
          "1970-01-01T00:00:00.000001",
          "1970-01-01T00:00:00.000001",
          "1970-01-01T00:00:00.000001",
          "1970-01-01T00:00:00.000001",
          "1970-01-01T00:00:00.000001",
          "1970-01-01T00:00:00.000001",
          "1970-01-01T00:00:00.000001",
          "1970-01-01T00:00:00.000001",
          "1970-01-01T00:00:00.000001",
          "1970-01-01T00:00:00.000001",
          "1970-01-01T00:00:00.000001",
          "1970-01-01T00:00:00.000001",
          "1970-01-01T00:00:00.000001",
          "1970-01-01T00:00:00.000001",
          "1970-01-01T00:00:00.000001",
          "1970-01-01T00:00:00.000001",
          "1970-01-01T00:00:00.000001",
          "1970-01-01T00:00:00.000001",
          "1970-01-01T00:00:00.000001",
          "1970-01-01T00:00:00.000001",
          "1970-01-01T00:00:00.000001",
          "1970-01-01T00:00:00.000001",
          "1970-01-01T00:00:00.000001",
          "1970-01-01T00:00:00.000001",
          "1970-01-01T00:00:00.000001",
          "1970-01-01T00:00:00.000001",
          "1970-01-01T00:00:00.000001",
          "1970-01-01T00:00:00.000001",
          "1970-01-01T00:00:00.000001",
          "1970-01-01T00:00:00.000001",
          "1970-01-01T00:00:00.000001",
          "1970-01-01T00:00:00.000002",
          "1970-01-01T00:00:00.000002",
          "1970-01-01T00:00:00.000002",
          "1970-01-01T00:00:00.000002",
          "1970-01-01T00:00:00.000002",
          "1970-01-01T00:00:00.000002",
          "1970-01-01T00:00:00.000002",
          "1970-01-01T00:00:00.000002",
          "1970-01-01T00:00:00.000002",
          "1970-01-01T00:00:00.000002",
          "1970-01-01T00:00:00.000002",
          "1970-01-01T00:00:00.000002",
          "1970-01-01T00:00:00.000002",
          "1970-01-01T00:00:00.000002",
          "1970-01-01T00:00:00.000002",
          "1970-01-01T00:00:00.000002",
          "1970-01-01T00:00:00.000002",
          "1970-01-01T00:00:00.000002",
          "1970-01-01T00:00:00.000002",
          "1970-01-01T00:00:00.000002",
          "1970-01-01T00:00:00.000002",
          "1970-01-01T00:00:00.000002",
          "1970-12-31T00:00:00.000002",
          "1971-12-31T00:00:00.000002",
          "1972-12-31T00:00:00.000002",
          "1973-12-31T00:00:00.000002",
          "1974-12-31T00:00:00.000002",
          "1975-12-31T00:00:00.000002",
          "1976-12-31T00:00:00.000002",
          "1977-12-31T00:00:00.000002",
          "1978-12-31T00:00:00.000002",
          "1979-12-31T00:00:00.000002",
          "1980-12-31T00:00:00.000002",
          "1981-12-31T00:00:00.000002",
          "1982-12-31T00:00:00.000002",
          "1983-12-31T00:00:00.000002",
          "1984-12-31T00:00:00.000002",
          "1985-12-31T00:00:00.000002",
          "1986-12-31T00:00:00.000002",
          "1987-12-31T00:00:00.000002",
          "1988-12-31T00:00:00.000002",
          "1989-12-31T00:00:00.000002",
          "1990-12-31T00:00:00.000002",
          "1991-12-31T00:00:00.000002",
          "1992-12-31T00:00:00.000002",
          "1993-12-31T00:00:00.000002",
          "1994-12-31T00:00:00.000002",
          "1995-12-31T00:00:00.000002",
          "1996-12-31T00:00:00.000002",
          "1997-12-31T00:00:00.000002",
          "1998-12-31T00:00:00.000002",
          "1999-12-31T00:00:00.000002",
          "2000-12-31T00:00:00.000002",
          "2001-12-31T00:00:00.000002",
          "2002-12-31T00:00:00.000002",
          "2003-12-31T00:00:00.000002",
          "2004-12-31T00:00:00.000002",
          "2005-12-31T00:00:00.000002",
          "2006-12-31T00:00:00.000002",
          "2007-12-31T00:00:00.000002",
          "2008-12-31T00:00:00.000002",
          "2009-12-31T00:00:00.000002",
          "2010-12-31T00:00:00.000002",
          "2011-12-31T00:00:00.000002",
          "2012-12-31T00:00:00.000002",
          "2013-12-31T00:00:00.000002",
          "2014-12-31T00:00:00.000002",
          "2015-12-31T00:00:00.000002",
          "2016-12-31T00:00:00.000002",
          "2017-12-31T00:00:00.000002",
          "2018-12-31T00:00:00.000002",
          "2019-12-31T00:00:00.000002",
          "2020-12-31T00:00:00.000002",
          "2021-12-31T00:00:00.000002",
          "2022-12-31T00:00:00.000002",
          "2023-12-31T00:00:00.000002",
          "2024-12-31T00:00:00.000002",
          "2025-12-31T00:00:00.000002",
          "2026-12-31T00:00:00.000002",
          "2027-12-31T00:00:00.000002",
          "2028-12-31T00:00:00.000002",
          "2029-12-31T00:00:00.000002",
          "2030-12-31T00:00:00.000002",
          "2031-12-31T00:00:00.000002",
          "2032-12-31T00:00:00.000002",
          "2033-12-31T00:00:00.000002",
          "2034-12-31T00:00:00.000002",
          "2035-12-31T00:00:00.000002",
          "2036-12-31T00:00:00.000002",
          "2037-12-31T00:00:00.000002",
          "2038-12-31T00:00:00.000002",
          "2039-12-31T00:00:00.000002",
          "2040-12-31T00:00:00.000002",
          "2041-12-31T00:00:00.000002",
          "2042-12-31T00:00:00.000002",
          "2043-12-31T00:00:00.000002",
          "2044-12-31T00:00:00.000002",
          "2045-12-31T00:00:00.000002",
          "2046-12-31T00:00:00.000002",
          "2047-12-31T00:00:00.000002",
          "2048-12-31T00:00:00.000002",
          "2049-12-31T00:00:00.000002",
          "2050-12-31T00:00:00.000002",
          "2051-12-31T00:00:00.000002",
          "2052-12-31T00:00:00.000002",
          "2053-12-31T00:00:00.000002",
          "2054-12-31T00:00:00.000002",
          "2055-12-31T00:00:00.000002",
          "2056-12-31T00:00:00.000002",
          "2057-12-31T00:00:00.000002",
          "2058-12-31T00:00:00.000002",
          "2059-12-31T00:00:00.000002",
          "2060-12-31T00:00:00.000002",
          "2061-12-31T00:00:00.000002",
          "2062-12-31T00:00:00.000002",
          "2063-12-31T00:00:00.000002",
          "2064-12-31T00:00:00.000002",
          "2065-12-31T00:00:00.000002",
          "2066-12-31T00:00:00.000002",
          "2067-12-31T00:00:00.000002",
          "2068-12-31T00:00:00.000002",
          "2069-12-31T00:00:00.000002",
          "2070-12-31T00:00:00.000002",
          "2071-12-31T00:00:00.000002",
          "2072-12-31T00:00:00.000002",
          "2073-12-31T00:00:00.000002",
          "2074-12-31T00:00:00.000002",
          "2075-12-31T00:00:00.000002",
          "2076-12-31T00:00:00.000002",
          "2077-12-31T00:00:00.000002",
          "2078-12-31T00:00:00.000002",
          "2079-12-31T00:00:00.000002",
          "2080-12-31T00:00:00.000002",
          "2081-12-31T00:00:00.000002",
          "2082-12-31T00:00:00.000002",
          "2083-12-31T00:00:00.000002",
          "2084-12-31T00:00:00.000002",
          "2085-12-31T00:00:00.000002",
          "2086-12-31T00:00:00.000002",
          "2087-12-31T00:00:00.000002",
          "2088-12-31T00:00:00.000002",
          "2089-12-31T00:00:00.000002",
          "2090-12-31T00:00:00.000002",
          "2091-12-31T00:00:00.000002",
          "2092-12-31T00:00:00.000002",
          "2093-12-31T00:00:00.000002",
          "2094-12-31T00:00:00.000002",
          "2095-12-31T00:00:00.000002",
          "2096-12-31T00:00:00.000002",
          "2097-12-31T00:00:00.000002",
          "2098-12-31T00:00:00.000002",
          "2099-12-31T00:00:00.000002"
         ],
         "y": [
          3696458829.022431,
          3696458829.022431,
          3696458829.022431,
          3696458829.022431,
          3696458829.022431,
          3696458829.022431,
          3696458829.022431,
          3696458829.022431,
          3696458829.022431,
          3696458829.022431,
          3696458829.022431,
          3696458829.022431,
          3696458829.022431,
          3696458829.022431,
          3696458829.022431,
          3696458829.022431,
          3696458829.022431,
          3696458829.022431,
          3696458829.022431,
          3696458829.022431,
          3696458829.022431,
          3696458829.022431,
          3696458829.022431,
          3696458829.022431,
          3696458829.022431,
          3696458829.022431,
          3696458829.022431,
          3696458829.022431,
          3696458829.022431,
          3696458829.022431,
          3696458829.022431,
          3696458829.022431,
          3696458829.022431,
          3696458829.022431,
          3696458829.0224314,
          3696458829.0224314,
          3696458829.0224314,
          3696458829.0224314,
          3696458829.0224314,
          3696458829.0224314,
          3696458829.0224314,
          3696458829.0224314,
          3696458829.0224314,
          3696458829.0224314,
          3696458829.0224314,
          3696458829.0224314,
          3696458829.0224314,
          3696458829.0224314,
          3696458829.0224314,
          3696458829.0224314,
          3696458829.0224314,
          3696458829.0224314,
          3696458829.0224314,
          3696458829.0224314,
          3696458829.0224314,
          3696458829.0224314,
          3696458829.0224314,
          3696458829.0224314,
          3696458829.0224314,
          3696458829.0224314,
          3696458829.0224314,
          3696458829.0224314,
          3696458829.0224314,
          3696458829.0224314,
          3696458829.0224314,
          3696458829.0224314,
          3696458829.0224314,
          3696458829.0224314,
          3696458829.0224314,
          3696458829.0224314,
          3696458829.0224314,
          3696458829.0224314,
          3767567524.4256706,
          3842405032.768532,
          3918142032.4353027,
          3991482458.9317675,
          4065336030.350104,
          4139926295.727136,
          4215414694.9369264,
          4288507202.7677917,
          4362112855.526836,
          4442342833.718069,
          4523502616.136664,
          4605942764.300825,
          4688906199.57049,
          4772853570.77988,
          4861517059.686021,
          4947759016.891159,
          5038558539.4737015,
          5130353109.042414,
          5223093628.54315,
          5313391117.174386,
          5400730473.664188,
          5489044229.614797,
          5578294399.102491,
          5658809383.340076,
          5739820200.161772,
          5821737458.502455,
          5904573392.246319,
          5984790894.346156,
          6065520985.152106,
          6147235319.260942,
          6229867987.140113,
          6310085241.233405,
          6390953341.421234,
          6472805755.851098,
          6558558720.036381,
          6641895892.129,
          6727285915.164501,
          6813664104.104647,
          6900973403.657925,
          6985854511.735575,
          7071248764.738071,
          7157626953.677049,
          7244936253.225311,
          7329817361.306818,
          7415211614.307066,
          7501589803.245819,
          7588899102.797964,
          7673780210.875741,
          7759174463.876236,
          7845552652.816528,
          7932861952.366198,
          8017743060.446804,
          8103137313.444542,
          8189515502.383493,
          8276824801.937497,
          8361705910.015223,
          8447100163.016901,
          8533478351.957048,
          8620787651.506489,
          8705668759.584476,
          8791063012.581749,
          8877441201.522114,
          8964750501.072638,
          9049631609.155716,
          9135025862.155684,
          9221404051.09129,
          9308713350.648182,
          9393594458.726875,
          9478988711.726824,
          9565366900.6667,
          9652676200.216156,
          9737557308.291857,
          9822951561.292719,
          9909329750.233072,
          9996639049.782436,
          10081520157.86103,
          10166914410.863903,
          10253292599.802248,
          10340601899.352718,
          10425483007.435352,
          10510877260.437668,
          10597255449.376482,
          10684564748.927374,
          10769445857.002712,
          10854840109.999405,
          10941218298.937069,
          11028527598.49416,
          11113408706.572142,
          11198802959.576057,
          11285181148.512028,
          11372490448.06221,
          11457371556.144701,
          11542765809.144659,
          11629143998.08229,
          11716453297.631378,
          11801334405.71573,
          11886728658.71339,
          11973106847.649204,
          12060416147.204716,
          12145297255.282686,
          12230691508.282566,
          12317069697.218836,
          12404378996.774395,
          12489260104.85186,
          12574654357.847633,
          12661032546.785656,
          12748341846.341177,
          12833222954.420605,
          12918617207.425198,
          13004995396.36134,
          13092304695.910347,
          13177185803.990719,
          13262580056.994106,
          13348958245.930244,
          13436267545.48139,
          13521148653.561749,
          13606542906.559336,
          13692921095.49933,
          13780230395.053364,
          13865111503.133718,
          13950505756.119423,
          14036883945.062183,
          14124193244.618721,
          14209074352.689005,
          14294468605.70162,
          14380846794.631815,
          14468156094.19587,
          14553037202.273827,
          14638431455.273767,
          14724809644.2092
         ]
        }
       ],
       "layout": {
        "legend": {
         "title": {
          "text": "Continent"
         }
        },
        "template": {
         "data": {
          "bar": [
           {
            "error_x": {
             "color": "#2a3f5f"
            },
            "error_y": {
             "color": "#2a3f5f"
            },
            "marker": {
             "line": {
              "color": "#E5ECF6",
              "width": 0.5
             },
             "pattern": {
              "fillmode": "overlay",
              "size": 10,
              "solidity": 0.2
             }
            },
            "type": "bar"
           }
          ],
          "barpolar": [
           {
            "marker": {
             "line": {
              "color": "#E5ECF6",
              "width": 0.5
             },
             "pattern": {
              "fillmode": "overlay",
              "size": 10,
              "solidity": 0.2
             }
            },
            "type": "barpolar"
           }
          ],
          "carpet": [
           {
            "aaxis": {
             "endlinecolor": "#2a3f5f",
             "gridcolor": "white",
             "linecolor": "white",
             "minorgridcolor": "white",
             "startlinecolor": "#2a3f5f"
            },
            "baxis": {
             "endlinecolor": "#2a3f5f",
             "gridcolor": "white",
             "linecolor": "white",
             "minorgridcolor": "white",
             "startlinecolor": "#2a3f5f"
            },
            "type": "carpet"
           }
          ],
          "choropleth": [
           {
            "colorbar": {
             "outlinewidth": 0,
             "ticks": ""
            },
            "type": "choropleth"
           }
          ],
          "contour": [
           {
            "colorbar": {
             "outlinewidth": 0,
             "ticks": ""
            },
            "colorscale": [
             [
              0,
              "#0d0887"
             ],
             [
              0.1111111111111111,
              "#46039f"
             ],
             [
              0.2222222222222222,
              "#7201a8"
             ],
             [
              0.3333333333333333,
              "#9c179e"
             ],
             [
              0.4444444444444444,
              "#bd3786"
             ],
             [
              0.5555555555555556,
              "#d8576b"
             ],
             [
              0.6666666666666666,
              "#ed7953"
             ],
             [
              0.7777777777777778,
              "#fb9f3a"
             ],
             [
              0.8888888888888888,
              "#fdca26"
             ],
             [
              1,
              "#f0f921"
             ]
            ],
            "type": "contour"
           }
          ],
          "contourcarpet": [
           {
            "colorbar": {
             "outlinewidth": 0,
             "ticks": ""
            },
            "type": "contourcarpet"
           }
          ],
          "heatmap": [
           {
            "colorbar": {
             "outlinewidth": 0,
             "ticks": ""
            },
            "colorscale": [
             [
              0,
              "#0d0887"
             ],
             [
              0.1111111111111111,
              "#46039f"
             ],
             [
              0.2222222222222222,
              "#7201a8"
             ],
             [
              0.3333333333333333,
              "#9c179e"
             ],
             [
              0.4444444444444444,
              "#bd3786"
             ],
             [
              0.5555555555555556,
              "#d8576b"
             ],
             [
              0.6666666666666666,
              "#ed7953"
             ],
             [
              0.7777777777777778,
              "#fb9f3a"
             ],
             [
              0.8888888888888888,
              "#fdca26"
             ],
             [
              1,
              "#f0f921"
             ]
            ],
            "type": "heatmap"
           }
          ],
          "heatmapgl": [
           {
            "colorbar": {
             "outlinewidth": 0,
             "ticks": ""
            },
            "colorscale": [
             [
              0,
              "#0d0887"
             ],
             [
              0.1111111111111111,
              "#46039f"
             ],
             [
              0.2222222222222222,
              "#7201a8"
             ],
             [
              0.3333333333333333,
              "#9c179e"
             ],
             [
              0.4444444444444444,
              "#bd3786"
             ],
             [
              0.5555555555555556,
              "#d8576b"
             ],
             [
              0.6666666666666666,
              "#ed7953"
             ],
             [
              0.7777777777777778,
              "#fb9f3a"
             ],
             [
              0.8888888888888888,
              "#fdca26"
             ],
             [
              1,
              "#f0f921"
             ]
            ],
            "type": "heatmapgl"
           }
          ],
          "histogram": [
           {
            "marker": {
             "pattern": {
              "fillmode": "overlay",
              "size": 10,
              "solidity": 0.2
             }
            },
            "type": "histogram"
           }
          ],
          "histogram2d": [
           {
            "colorbar": {
             "outlinewidth": 0,
             "ticks": ""
            },
            "colorscale": [
             [
              0,
              "#0d0887"
             ],
             [
              0.1111111111111111,
              "#46039f"
             ],
             [
              0.2222222222222222,
              "#7201a8"
             ],
             [
              0.3333333333333333,
              "#9c179e"
             ],
             [
              0.4444444444444444,
              "#bd3786"
             ],
             [
              0.5555555555555556,
              "#d8576b"
             ],
             [
              0.6666666666666666,
              "#ed7953"
             ],
             [
              0.7777777777777778,
              "#fb9f3a"
             ],
             [
              0.8888888888888888,
              "#fdca26"
             ],
             [
              1,
              "#f0f921"
             ]
            ],
            "type": "histogram2d"
           }
          ],
          "histogram2dcontour": [
           {
            "colorbar": {
             "outlinewidth": 0,
             "ticks": ""
            },
            "colorscale": [
             [
              0,
              "#0d0887"
             ],
             [
              0.1111111111111111,
              "#46039f"
             ],
             [
              0.2222222222222222,
              "#7201a8"
             ],
             [
              0.3333333333333333,
              "#9c179e"
             ],
             [
              0.4444444444444444,
              "#bd3786"
             ],
             [
              0.5555555555555556,
              "#d8576b"
             ],
             [
              0.6666666666666666,
              "#ed7953"
             ],
             [
              0.7777777777777778,
              "#fb9f3a"
             ],
             [
              0.8888888888888888,
              "#fdca26"
             ],
             [
              1,
              "#f0f921"
             ]
            ],
            "type": "histogram2dcontour"
           }
          ],
          "mesh3d": [
           {
            "colorbar": {
             "outlinewidth": 0,
             "ticks": ""
            },
            "type": "mesh3d"
           }
          ],
          "parcoords": [
           {
            "line": {
             "colorbar": {
              "outlinewidth": 0,
              "ticks": ""
             }
            },
            "type": "parcoords"
           }
          ],
          "pie": [
           {
            "automargin": true,
            "type": "pie"
           }
          ],
          "scatter": [
           {
            "fillpattern": {
             "fillmode": "overlay",
             "size": 10,
             "solidity": 0.2
            },
            "type": "scatter"
           }
          ],
          "scatter3d": [
           {
            "line": {
             "colorbar": {
              "outlinewidth": 0,
              "ticks": ""
             }
            },
            "marker": {
             "colorbar": {
              "outlinewidth": 0,
              "ticks": ""
             }
            },
            "type": "scatter3d"
           }
          ],
          "scattercarpet": [
           {
            "marker": {
             "colorbar": {
              "outlinewidth": 0,
              "ticks": ""
             }
            },
            "type": "scattercarpet"
           }
          ],
          "scattergeo": [
           {
            "marker": {
             "colorbar": {
              "outlinewidth": 0,
              "ticks": ""
             }
            },
            "type": "scattergeo"
           }
          ],
          "scattergl": [
           {
            "marker": {
             "colorbar": {
              "outlinewidth": 0,
              "ticks": ""
             }
            },
            "type": "scattergl"
           }
          ],
          "scattermapbox": [
           {
            "marker": {
             "colorbar": {
              "outlinewidth": 0,
              "ticks": ""
             }
            },
            "type": "scattermapbox"
           }
          ],
          "scatterpolar": [
           {
            "marker": {
             "colorbar": {
              "outlinewidth": 0,
              "ticks": ""
             }
            },
            "type": "scatterpolar"
           }
          ],
          "scatterpolargl": [
           {
            "marker": {
             "colorbar": {
              "outlinewidth": 0,
              "ticks": ""
             }
            },
            "type": "scatterpolargl"
           }
          ],
          "scatterternary": [
           {
            "marker": {
             "colorbar": {
              "outlinewidth": 0,
              "ticks": ""
             }
            },
            "type": "scatterternary"
           }
          ],
          "surface": [
           {
            "colorbar": {
             "outlinewidth": 0,
             "ticks": ""
            },
            "colorscale": [
             [
              0,
              "#0d0887"
             ],
             [
              0.1111111111111111,
              "#46039f"
             ],
             [
              0.2222222222222222,
              "#7201a8"
             ],
             [
              0.3333333333333333,
              "#9c179e"
             ],
             [
              0.4444444444444444,
              "#bd3786"
             ],
             [
              0.5555555555555556,
              "#d8576b"
             ],
             [
              0.6666666666666666,
              "#ed7953"
             ],
             [
              0.7777777777777778,
              "#fb9f3a"
             ],
             [
              0.8888888888888888,
              "#fdca26"
             ],
             [
              1,
              "#f0f921"
             ]
            ],
            "type": "surface"
           }
          ],
          "table": [
           {
            "cells": {
             "fill": {
              "color": "#EBF0F8"
             },
             "line": {
              "color": "white"
             }
            },
            "header": {
             "fill": {
              "color": "#C8D4E3"
             },
             "line": {
              "color": "white"
             }
            },
            "type": "table"
           }
          ]
         },
         "layout": {
          "annotationdefaults": {
           "arrowcolor": "#2a3f5f",
           "arrowhead": 0,
           "arrowwidth": 1
          },
          "autotypenumbers": "strict",
          "coloraxis": {
           "colorbar": {
            "outlinewidth": 0,
            "ticks": ""
           }
          },
          "colorscale": {
           "diverging": [
            [
             0,
             "#8e0152"
            ],
            [
             0.1,
             "#c51b7d"
            ],
            [
             0.2,
             "#de77ae"
            ],
            [
             0.3,
             "#f1b6da"
            ],
            [
             0.4,
             "#fde0ef"
            ],
            [
             0.5,
             "#f7f7f7"
            ],
            [
             0.6,
             "#e6f5d0"
            ],
            [
             0.7,
             "#b8e186"
            ],
            [
             0.8,
             "#7fbc41"
            ],
            [
             0.9,
             "#4d9221"
            ],
            [
             1,
             "#276419"
            ]
           ],
           "sequential": [
            [
             0,
             "#0d0887"
            ],
            [
             0.1111111111111111,
             "#46039f"
            ],
            [
             0.2222222222222222,
             "#7201a8"
            ],
            [
             0.3333333333333333,
             "#9c179e"
            ],
            [
             0.4444444444444444,
             "#bd3786"
            ],
            [
             0.5555555555555556,
             "#d8576b"
            ],
            [
             0.6666666666666666,
             "#ed7953"
            ],
            [
             0.7777777777777778,
             "#fb9f3a"
            ],
            [
             0.8888888888888888,
             "#fdca26"
            ],
            [
             1,
             "#f0f921"
            ]
           ],
           "sequentialminus": [
            [
             0,
             "#0d0887"
            ],
            [
             0.1111111111111111,
             "#46039f"
            ],
            [
             0.2222222222222222,
             "#7201a8"
            ],
            [
             0.3333333333333333,
             "#9c179e"
            ],
            [
             0.4444444444444444,
             "#bd3786"
            ],
            [
             0.5555555555555556,
             "#d8576b"
            ],
            [
             0.6666666666666666,
             "#ed7953"
            ],
            [
             0.7777777777777778,
             "#fb9f3a"
            ],
            [
             0.8888888888888888,
             "#fdca26"
            ],
            [
             1,
             "#f0f921"
            ]
           ]
          },
          "colorway": [
           "#636efa",
           "#EF553B",
           "#00cc96",
           "#ab63fa",
           "#FFA15A",
           "#19d3f3",
           "#FF6692",
           "#B6E880",
           "#FF97FF",
           "#FECB52"
          ],
          "font": {
           "color": "#2a3f5f"
          },
          "geo": {
           "bgcolor": "white",
           "lakecolor": "white",
           "landcolor": "#E5ECF6",
           "showlakes": true,
           "showland": true,
           "subunitcolor": "white"
          },
          "hoverlabel": {
           "align": "left"
          },
          "hovermode": "closest",
          "mapbox": {
           "style": "light"
          },
          "paper_bgcolor": "white",
          "plot_bgcolor": "#E5ECF6",
          "polar": {
           "angularaxis": {
            "gridcolor": "white",
            "linecolor": "white",
            "ticks": ""
           },
           "bgcolor": "#E5ECF6",
           "radialaxis": {
            "gridcolor": "white",
            "linecolor": "white",
            "ticks": ""
           }
          },
          "scene": {
           "xaxis": {
            "backgroundcolor": "#E5ECF6",
            "gridcolor": "white",
            "gridwidth": 2,
            "linecolor": "white",
            "showbackground": true,
            "ticks": "",
            "zerolinecolor": "white"
           },
           "yaxis": {
            "backgroundcolor": "#E5ECF6",
            "gridcolor": "white",
            "gridwidth": 2,
            "linecolor": "white",
            "showbackground": true,
            "ticks": "",
            "zerolinecolor": "white"
           },
           "zaxis": {
            "backgroundcolor": "#E5ECF6",
            "gridcolor": "white",
            "gridwidth": 2,
            "linecolor": "white",
            "showbackground": true,
            "ticks": "",
            "zerolinecolor": "white"
           }
          },
          "shapedefaults": {
           "line": {
            "color": "#2a3f5f"
           }
          },
          "ternary": {
           "aaxis": {
            "gridcolor": "white",
            "linecolor": "white",
            "ticks": ""
           },
           "baxis": {
            "gridcolor": "white",
            "linecolor": "white",
            "ticks": ""
           },
           "bgcolor": "#E5ECF6",
           "caxis": {
            "gridcolor": "white",
            "linecolor": "white",
            "ticks": ""
           }
          },
          "title": {
           "x": 0.05
          },
          "xaxis": {
           "automargin": true,
           "gridcolor": "white",
           "linecolor": "white",
           "ticks": "",
           "title": {
            "standoff": 15
           },
           "zerolinecolor": "white",
           "zerolinewidth": 2
          },
          "yaxis": {
           "automargin": true,
           "gridcolor": "white",
           "linecolor": "white",
           "ticks": "",
           "title": {
            "standoff": 15
           },
           "zerolinecolor": "white",
           "zerolinewidth": 2
          }
         }
        },
        "title": {
         "text": "Population Forecast until 2100"
        },
        "xaxis": {
         "title": {
          "text": "Year"
         }
        },
        "yaxis": {
         "title": {
          "text": "Population"
         }
        }
       }
      }
     },
     "metadata": {},
     "output_type": "display_data"
    }
   ],
   "source": [
    "# Prepare DataFrame for Prophet\n",
    "pop_prophet = filtered_pop.rename(columns={'Year': 'ds', 'Population': 'y'})\n",
    "\n",
    "# Define a function to create forecasts for each continent\n",
    "def create_forecast(continent):\n",
    "    # Filter data for the continent\n",
    "    continent_data = pop_prophet[pop_prophet['Continents and World'] == continent]\n",
    "    \n",
    "    # Initialize Prophet model\n",
    "    model = Prophet()\n",
    "    \n",
    "    # Fit the model\n",
    "    model.fit(continent_data)\n",
    "    \n",
    "    # Make future DataFrame\n",
    "    future = model.make_future_dataframe(periods=2100-1970, freq='Y')  # Forecast until 2100\n",
    "    \n",
    "    # Make forecast\n",
    "    forecast = model.predict(future)\n",
    "    \n",
    "    return forecast\n",
    "# Create forecasts for each continent\n",
    "forecasts = {}\n",
    "for continent in filtered_pop['Continents and World'].unique():\n",
    "    forecasts[continent] = create_forecast(continent)\n",
    "\n",
    "# Plot the forecasts\n",
    "fig = go.Figure()\n",
    "for continent, forecast in forecasts.items():\n",
    "    fig.add_trace(go.Scatter(x=forecast['ds'], y=forecast['yhat'], mode='lines', name=continent))\n",
    "\n",
    "fig.update_layout(title='Population Forecast until 2100',\n",
    "                  xaxis_title='Year',\n",
    "                  yaxis_title='Population',\n",
    "                  legend_title='Continent')\n",
    "\n",
    "fig.show()"
   ]
  },
  {
   "cell_type": "markdown",
   "metadata": {},
   "source": [
    "The forecast shows a linear trend of the population based on the calculated global growth rate and average growth rate.\n",
    "\n",
    "However, this does not take into account that there could occur some sudden changes which affect the population growth, e.g. wars, pandemics, economic shocks. etc.\n",
    "\n",
    "Linear model is not the best way to present the forecast. A more advanced model could be used. "
   ]
  },
  {
   "cell_type": "markdown",
   "metadata": {},
   "source": [
    "# Conclusion"
   ]
  },
  {
   "cell_type": "markdown",
   "metadata": {},
   "source": [
    "Throughout this project we tried to show the evolution of the world population for the world itself but also in detail for each continent. \n",
    "\n",
    "We started by import the dat and clean it so that we only keep the relevant data, and from there we started to plot it in order to see the global trend of the growth of the population for the world and the continent. \n",
    "\n",
    "Then, we wanted to look in detail for some specific age groups of the population. We decided to keep only children under the age of 1, people between 20 and 29, 50 and 59, 80 and 89. From there, we can clearly see that in some continent such as Europe, the global population is getting older and that less children are made, which could lead to a problem in the upcoming decades because the population won't renew itself and we may encounter problems to maintain a certain economic growth with less workers. \n",
    "\n",
    "After that, we wanted to put in a histogram the evolution of the age groups through time for all continent and it confirms what we were thinking right above with the increase of the \"average age\" in some continent whereas some like Africa see their population become younger. \n",
    "Attached to that, we ploted the population distribution in order to show the difference of the growth between the continents.\n",
    "\n",
    "Next, we have claculated the population growth rates and we can retrieve our previous conclusions in it.\n",
    "\n",
    "Finally, we made a forecast of the population growth until 2100 to see the global trend of the population."
   ]
  }
 ],
 "metadata": {
  "kernelspec": {
   "display_name": "base",
   "language": "python",
   "name": "python3"
  },
  "language_info": {
   "codemirror_mode": {
    "name": "ipython",
    "version": 3
   },
   "file_extension": ".py",
   "mimetype": "text/x-python",
   "name": "python",
   "nbconvert_exporter": "python",
   "pygments_lexer": "ipython3",
   "version": "3.11.7"
  },
  "toc-autonumbering": true,
  "vscode": {
   "interpreter": {
    "hash": "47ef90cdf3004d3f859f1fb202523c65c07ba7c22eefd261b181f4744e2d0403"
   }
  }
 },
 "nbformat": 4,
 "nbformat_minor": 4
}
