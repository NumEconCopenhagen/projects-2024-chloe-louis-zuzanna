{
 "cells": [
  {
   "cell_type": "markdown",
   "metadata": {},
   "source": [
    "# YOUR PROJECT TITLE"
   ]
  },
  {
   "attachments": {},
   "cell_type": "markdown",
   "metadata": {},
   "source": [
    "> **Note the following:** \n",
    "> 1. This is *not* meant to be an example of an actual **model analysis project**, just an example of how to structure such a project.\n",
    "> 1. Remember the general advice on structuring and commenting your code\n",
    "> 1. The `modelproject.py` file includes a function which could be used multiple times in this notebook."
   ]
  },
  {
   "cell_type": "markdown",
   "metadata": {},
   "source": [
    "Imports and set magics:"
   ]
  },
  {
   "cell_type": "code",
   "execution_count": 1,
   "metadata": {},
   "outputs": [],
   "source": [
    "import numpy as np\n",
    "from scipy import optimize\n",
    "import sympy as sm\n",
    "\n",
    "# autoreload modules when code is run\n",
    "%load_ext autoreload\n",
    "%autoreload 2\n",
    "\n",
    "# local modules\n",
    "import modelproject"
   ]
  },
  {
   "cell_type": "markdown",
   "metadata": {},
   "source": [
    "# Model description"
   ]
  },
  {
   "cell_type": "markdown",
   "metadata": {},
   "source": [
    "**Write out the model in equations here.** \n",
    "\n",
    "Make sure you explain well the purpose of the model and comment so that other students who may not have seen it before can follow.  "
   ]
  },
  {
   "cell_type": "code",
   "execution_count": 6,
   "metadata": {},
   "outputs": [
    {
     "ename": "TypeError",
     "evalue": "unsupported operand type(s) for -: 'float' and 'function'",
     "output_type": "error",
     "traceback": [
      "\u001b[1;31m---------------------------------------------------------------------------\u001b[0m",
      "\u001b[1;31mTypeError\u001b[0m                                 Traceback (most recent call last)",
      "Cell \u001b[1;32mIn[6], line 64\u001b[0m\n\u001b[0;32m     61\u001b[0m periods \u001b[38;5;241m=\u001b[39m \u001b[38;5;241m50\u001b[39m\n\u001b[0;32m     63\u001b[0m \u001b[38;5;66;03m# Simulate\u001b[39;00m\n\u001b[1;32m---> 64\u001b[0m yt_values, pi_values, rt_values \u001b[38;5;241m=\u001b[39m simulate_model(yt_initial, Et_rt, Et_pi, sigma, rho, kappa, beta, phi_y, phi_pi, periods)\n\u001b[0;32m     66\u001b[0m \u001b[38;5;66;03m# Plotting\u001b[39;00m\n\u001b[0;32m     67\u001b[0m plt\u001b[38;5;241m.\u001b[39mfigure(figsize\u001b[38;5;241m=\u001b[39m(\u001b[38;5;241m10\u001b[39m, \u001b[38;5;241m6\u001b[39m))\n",
      "Cell \u001b[1;32mIn[6], line 45\u001b[0m, in \u001b[0;36msimulate_model\u001b[1;34m(yt_initial, Et_rt, Et_pi, sigma, rho, kappa, beta, phi_y, phi_pi, periods)\u001b[0m\n\u001b[0;32m     43\u001b[0m rt_values \u001b[38;5;241m=\u001b[39m [\u001b[38;5;241m0\u001b[39m]  \u001b[38;5;66;03m# Initial interest rate assumed to be 0\u001b[39;00m\n\u001b[0;32m     44\u001b[0m \u001b[38;5;28;01mfor\u001b[39;00m _ \u001b[38;5;129;01min\u001b[39;00m \u001b[38;5;28mrange\u001b[39m(periods):\n\u001b[1;32m---> 45\u001b[0m     yt, pi, rt \u001b[38;5;241m=\u001b[39m solve_model(yt_values[\u001b[38;5;241m-\u001b[39m\u001b[38;5;241m1\u001b[39m], Et_rt, Et_pi, sigma, rho, kappa, beta, phi_y, phi_pi)\n\u001b[0;32m     46\u001b[0m     yt_values\u001b[38;5;241m.\u001b[39mappend(yt)\n\u001b[0;32m     47\u001b[0m     pi_values\u001b[38;5;241m.\u001b[39mappend(pi)\n",
      "Cell \u001b[1;32mIn[6], line 33\u001b[0m, in \u001b[0;36msolve_model\u001b[1;34m(y_t1, Exp_r_t, Exp_pi, sigma, rho, kappa, beta, phi_y, phi_pi)\u001b[0m\n\u001b[0;32m     30\u001b[0m     \u001b[38;5;28;01mreturn\u001b[39;00m r_t(rho, phi_y, phi_pi, Exp_y_t1, Exp_pi_t1)\n\u001b[0;32m     32\u001b[0m \u001b[38;5;66;03m# Solve using fsolve\u001b[39;00m\n\u001b[1;32m---> 33\u001b[0m rt \u001b[38;5;241m=\u001b[39m fsolve(is_equation, \u001b[38;5;241m0\u001b[39m)[\u001b[38;5;241m0\u001b[39m]\n\u001b[0;32m     34\u001b[0m yt \u001b[38;5;241m=\u001b[39m fsolve(phillips_equation, \u001b[38;5;241m0\u001b[39m)[\u001b[38;5;241m0\u001b[39m]\n\u001b[0;32m     35\u001b[0m pi \u001b[38;5;241m=\u001b[39m kappa \u001b[38;5;241m*\u001b[39m yt  \u001b[38;5;66;03m# From Phillips curve\u001b[39;00m\n",
      "File \u001b[1;32mc:\\Users\\zuzuw\\anaconda3\\Lib\\site-packages\\scipy\\optimize\\_minpack_py.py:162\u001b[0m, in \u001b[0;36mfsolve\u001b[1;34m(func, x0, args, fprime, full_output, col_deriv, xtol, maxfev, band, epsfcn, factor, diag)\u001b[0m\n\u001b[0;32m     50\u001b[0m \u001b[38;5;250m\u001b[39m\u001b[38;5;124;03m\"\"\"\u001b[39;00m\n\u001b[0;32m     51\u001b[0m \u001b[38;5;124;03mFind the roots of a function.\u001b[39;00m\n\u001b[0;32m     52\u001b[0m \n\u001b[1;32m   (...)\u001b[0m\n\u001b[0;32m    152\u001b[0m \n\u001b[0;32m    153\u001b[0m \u001b[38;5;124;03m\"\"\"\u001b[39;00m\n\u001b[0;32m    154\u001b[0m options \u001b[38;5;241m=\u001b[39m {\u001b[38;5;124m'\u001b[39m\u001b[38;5;124mcol_deriv\u001b[39m\u001b[38;5;124m'\u001b[39m: col_deriv,\n\u001b[0;32m    155\u001b[0m            \u001b[38;5;124m'\u001b[39m\u001b[38;5;124mxtol\u001b[39m\u001b[38;5;124m'\u001b[39m: xtol,\n\u001b[0;32m    156\u001b[0m            \u001b[38;5;124m'\u001b[39m\u001b[38;5;124mmaxfev\u001b[39m\u001b[38;5;124m'\u001b[39m: maxfev,\n\u001b[1;32m   (...)\u001b[0m\n\u001b[0;32m    159\u001b[0m            \u001b[38;5;124m'\u001b[39m\u001b[38;5;124mfactor\u001b[39m\u001b[38;5;124m'\u001b[39m: factor,\n\u001b[0;32m    160\u001b[0m            \u001b[38;5;124m'\u001b[39m\u001b[38;5;124mdiag\u001b[39m\u001b[38;5;124m'\u001b[39m: diag}\n\u001b[1;32m--> 162\u001b[0m res \u001b[38;5;241m=\u001b[39m _root_hybr(func, x0, args, jac\u001b[38;5;241m=\u001b[39mfprime, \u001b[38;5;241m*\u001b[39m\u001b[38;5;241m*\u001b[39moptions)\n\u001b[0;32m    163\u001b[0m \u001b[38;5;28;01mif\u001b[39;00m full_output:\n\u001b[0;32m    164\u001b[0m     x \u001b[38;5;241m=\u001b[39m res[\u001b[38;5;124m'\u001b[39m\u001b[38;5;124mx\u001b[39m\u001b[38;5;124m'\u001b[39m]\n",
      "File \u001b[1;32mc:\\Users\\zuzuw\\anaconda3\\Lib\\site-packages\\scipy\\optimize\\_minpack_py.py:228\u001b[0m, in \u001b[0;36m_root_hybr\u001b[1;34m(func, x0, args, jac, col_deriv, xtol, maxfev, band, eps, factor, diag, **unknown_options)\u001b[0m\n\u001b[0;32m    226\u001b[0m \u001b[38;5;28;01mif\u001b[39;00m \u001b[38;5;129;01mnot\u001b[39;00m \u001b[38;5;28misinstance\u001b[39m(args, \u001b[38;5;28mtuple\u001b[39m):\n\u001b[0;32m    227\u001b[0m     args \u001b[38;5;241m=\u001b[39m (args,)\n\u001b[1;32m--> 228\u001b[0m shape, dtype \u001b[38;5;241m=\u001b[39m _check_func(\u001b[38;5;124m'\u001b[39m\u001b[38;5;124mfsolve\u001b[39m\u001b[38;5;124m'\u001b[39m, \u001b[38;5;124m'\u001b[39m\u001b[38;5;124mfunc\u001b[39m\u001b[38;5;124m'\u001b[39m, func, x0, args, n, (n,))\n\u001b[0;32m    229\u001b[0m \u001b[38;5;28;01mif\u001b[39;00m epsfcn \u001b[38;5;129;01mis\u001b[39;00m \u001b[38;5;28;01mNone\u001b[39;00m:\n\u001b[0;32m    230\u001b[0m     epsfcn \u001b[38;5;241m=\u001b[39m finfo(dtype)\u001b[38;5;241m.\u001b[39meps\n",
      "File \u001b[1;32mc:\\Users\\zuzuw\\anaconda3\\Lib\\site-packages\\scipy\\optimize\\_minpack_py.py:25\u001b[0m, in \u001b[0;36m_check_func\u001b[1;34m(checker, argname, thefunc, x0, args, numinputs, output_shape)\u001b[0m\n\u001b[0;32m     23\u001b[0m \u001b[38;5;28;01mdef\u001b[39;00m \u001b[38;5;21m_check_func\u001b[39m(checker, argname, thefunc, x0, args, numinputs,\n\u001b[0;32m     24\u001b[0m                 output_shape\u001b[38;5;241m=\u001b[39m\u001b[38;5;28;01mNone\u001b[39;00m):\n\u001b[1;32m---> 25\u001b[0m     res \u001b[38;5;241m=\u001b[39m atleast_1d(thefunc(\u001b[38;5;241m*\u001b[39m((x0[:numinputs],) \u001b[38;5;241m+\u001b[39m args)))\n\u001b[0;32m     26\u001b[0m     \u001b[38;5;28;01mif\u001b[39;00m (output_shape \u001b[38;5;129;01mis\u001b[39;00m \u001b[38;5;129;01mnot\u001b[39;00m \u001b[38;5;28;01mNone\u001b[39;00m) \u001b[38;5;129;01mand\u001b[39;00m (shape(res) \u001b[38;5;241m!=\u001b[39m output_shape):\n\u001b[0;32m     27\u001b[0m         \u001b[38;5;28;01mif\u001b[39;00m (output_shape[\u001b[38;5;241m0\u001b[39m] \u001b[38;5;241m!=\u001b[39m \u001b[38;5;241m1\u001b[39m):\n",
      "Cell \u001b[1;32mIn[6], line 22\u001b[0m, in \u001b[0;36msolve_model.<locals>.is_equation\u001b[1;34m(r_t)\u001b[0m\n\u001b[0;32m     21\u001b[0m \u001b[38;5;28;01mdef\u001b[39;00m \u001b[38;5;21mis_equation\u001b[39m(r_t):\n\u001b[1;32m---> 22\u001b[0m     \u001b[38;5;28;01mreturn\u001b[39;00m y_t(Exp_r_t, sigma, rho, y_t1)\n",
      "Cell \u001b[1;32mIn[6], line 8\u001b[0m, in \u001b[0;36my_t\u001b[1;34m(Exp_y_t1, sigma, Exp_r_t, rho)\u001b[0m\n\u001b[0;32m      7\u001b[0m \u001b[38;5;28;01mdef\u001b[39;00m \u001b[38;5;21my_t\u001b[39m (Exp_y_t1, sigma, Exp_r_t, rho):\n\u001b[1;32m----> 8\u001b[0m     \u001b[38;5;28;01mreturn\u001b[39;00m Exp_y_t1 \u001b[38;5;241m-\u001b[39m (\u001b[38;5;241m1\u001b[39m\u001b[38;5;241m/\u001b[39msigma)\u001b[38;5;241m*\u001b[39m(Exp_r_t\u001b[38;5;241m-\u001b[39mrho)\n",
      "\u001b[1;31mTypeError\u001b[0m: unsupported operand type(s) for -: 'float' and 'function'"
     ]
    }
   ],
   "source": [
    "import numpy as np\n",
    "import matplotlib.pyplot as plt\n",
    "from scipy.optimize import fsolve\n",
    "\n",
    "# Define the model equations\n",
    "#IS curve\n",
    "def y_t (Exp_y_t1, sigma, Exp_r_t, rho):\n",
    "    return Exp_y_t1 - (1/sigma)*(Exp_r_t-rho)\n",
    "\n",
    "#phillips_curve\n",
    "def pi_t (kappa, y_t, beta, Exp_pi_t1):\n",
    "    return kappa*y_t + beta* Exp_pi_t1\n",
    "\n",
    "#taylor_rule\n",
    "def r_t (rho, phi_y, phi_pi, Exp_y_t1, Exp_pi_t1):\n",
    "    return rho + phi_y * Exp_y_t1 + phi_pi * Exp_pi_t1\n",
    "\n",
    "# Solve the model equations\n",
    "def solve_model(y_t1, Exp_r_t, Exp_pi, sigma, rho, kappa, beta, phi_y, phi_pi):\n",
    "    # IS curve\n",
    "    def is_equation(r_t):\n",
    "        return y_t(Exp_r_t, sigma, rho, y_t1)\n",
    "    \n",
    "    # Phillips curve\n",
    "    def phillips_equation(y_t):\n",
    "        return pi_t(y_t, Exp_pi, kappa, beta)  \n",
    "    \n",
    "    # Taylor rule\n",
    "    def taylor_equation(r_t):\n",
    "        return r_t(rho, phi_y, phi_pi, Exp_y_t1, Exp_pi_t1)\n",
    "    \n",
    "    # Solve using fsolve\n",
    "    rt = fsolve(is_equation, 0)[0]\n",
    "    yt = fsolve(phillips_equation, 0)[0]\n",
    "    pi = kappa * yt  # From Phillips curve\n",
    "    \n",
    "    return y_t, pi_t, r_t\n",
    "\n",
    "# Simulation\n",
    "def simulate_model(yt_initial, Et_rt, Et_pi, sigma, rho, kappa, beta, phi_y, phi_pi, periods):\n",
    "    yt_values = [yt_initial]\n",
    "    pi_values = [0]  # Initial inflation assumed to be 0\n",
    "    rt_values = [0]  # Initial interest rate assumed to be 0\n",
    "    for _ in range(periods):\n",
    "        yt, pi, rt = solve_model(yt_values[-1], Et_rt, Et_pi, sigma, rho, kappa, beta, phi_y, phi_pi)\n",
    "        yt_values.append(yt)\n",
    "        pi_values.append(pi)\n",
    "        rt_values.append(rt)\n",
    "    return yt_values, pi_values, rt_values\n",
    "\n",
    "# Parameter values\n",
    "yt_initial = 100\n",
    "Et_rt = 0.02\n",
    "Et_pi = 0.02\n",
    "sigma = 1\n",
    "rho = 0.02\n",
    "kappa = 0.5\n",
    "beta = 0.5\n",
    "phi_y = 0.5\n",
    "phi_pi = 1\n",
    "periods = 50\n",
    "\n",
    "# Simulate\n",
    "yt_values, pi_values, rt_values = simulate_model(yt_initial, Et_rt, Et_pi, sigma, rho, kappa, beta, phi_y, phi_pi, periods)\n",
    "\n",
    "# Plotting\n",
    "plt.figure(figsize=(10, 6))\n",
    "\n",
    "plt.subplot(3, 1, 1)\n",
    "plt.plot(yt_values)\n",
    "plt.title('Output (y_t)')\n",
    "plt.xlabel('Period')\n",
    "plt.ylabel('Output')\n",
    "\n",
    "plt.subplot(3, 1, 2)\n",
    "plt.plot(pi_values)\n",
    "plt.title('Inflation (π_t)')\n",
    "plt.xlabel('Period')\n",
    "plt.ylabel('Inflation')\n",
    "\n",
    "plt.subplot(3, 1, 3)\n",
    "plt.plot(rt_values)\n",
    "plt.title('Interest Rate (r_t)')\n",
    "plt.xlabel('Period')\n",
    "plt.ylabel('Interest Rate')\n",
    "\n",
    "plt.tight_layout()\n",
    "plt.show()\n"
   ]
  },
  {
   "cell_type": "markdown",
   "metadata": {},
   "source": [
    "## Analytical solution"
   ]
  },
  {
   "cell_type": "markdown",
   "metadata": {},
   "source": [
    "If your model allows for an analytical solution, you should provide here.\n",
    "\n",
    "You may use Sympy for this. Then you can characterize the solution as a function of a parameter of the model.\n",
    "\n",
    "To characterize the solution, first derive a steady state equation as a function of a parameter using Sympy.solve and then turn it into a python function by Sympy.lambdify. See the lecture notes for details. "
   ]
  },
  {
   "cell_type": "markdown",
   "metadata": {},
   "source": [
    "## Numerical solution"
   ]
  },
  {
   "cell_type": "markdown",
   "metadata": {},
   "source": [
    "You can always solve a model numerically. \n",
    "\n",
    "Define first the set of parameters you need. \n",
    "\n",
    "Then choose one of the optimization algorithms that we have gone through in the lectures based on what you think is most fitting for your model.\n",
    "\n",
    "Are there any problems with convergence? Does the model converge for all starting values? Make a lot of testing to figure these things out. "
   ]
  },
  {
   "cell_type": "markdown",
   "metadata": {},
   "source": [
    "# Further analysis"
   ]
  },
  {
   "cell_type": "markdown",
   "metadata": {},
   "source": [
    "Make detailed vizualizations of how your model changes with parameter values. \n",
    "\n",
    "Try to make an extension of the model. "
   ]
  },
  {
   "cell_type": "markdown",
   "metadata": {},
   "source": [
    "# Conclusion"
   ]
  },
  {
   "cell_type": "markdown",
   "metadata": {},
   "source": [
    "Add concise conclusion. "
   ]
  }
 ],
 "metadata": {
  "kernelspec": {
   "display_name": "base",
   "language": "python",
   "name": "python3"
  },
  "language_info": {
   "codemirror_mode": {
    "name": "ipython",
    "version": 3
   },
   "file_extension": ".py",
   "mimetype": "text/x-python",
   "name": "python",
   "nbconvert_exporter": "python",
   "pygments_lexer": "ipython3",
   "version": "3.11.5"
  },
  "toc-autonumbering": true,
  "vscode": {
   "interpreter": {
    "hash": "47ef90cdf3004d3f859f1fb202523c65c07ba7c22eefd261b181f4744e2d0403"
   }
  }
 },
 "nbformat": 4,
 "nbformat_minor": 4
}
