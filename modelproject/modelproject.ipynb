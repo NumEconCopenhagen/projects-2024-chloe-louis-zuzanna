{
 "cells": [
  {
   "cell_type": "markdown",
   "metadata": {},
   "source": [
    "# THE NEW KEYNESIAN MODEL"
   ]
  },
  {
   "cell_type": "markdown",
   "metadata": {},
   "source": [
    "Imports and set magics:"
   ]
  },
  {
   "cell_type": "code",
   "execution_count": 30,
   "metadata": {},
   "outputs": [],
   "source": [
    "import numpy as np\n",
    "from scipy import optimize\n",
    "import matplotlib.pyplot as plt\n",
    "from scipy.optimize import fsolve\n",
    "from ipywidgets import interact, FloatSlider\n",
    "import sympy as sp\n",
    "from scipy.optimize import minimize\n"
   ]
  },
  {
   "cell_type": "markdown",
   "metadata": {},
   "source": [
    "# Model description"
   ]
  },
  {
   "cell_type": "markdown",
   "metadata": {},
   "source": [
    "A New Keynesian model is a framework used in macroeconomics to analyze the effects of various economic shocks on key macroeconomic variables such as output, inflation, and interest rates. It combines elements of Keynesian economics with modern macroeconomic theory. A typical New Keynesian model consists of three main equations:\n",
    "\n",
    "IS Curve:\n",
    "$$\n",
    "y_t = E_t[y_{t+1}] - 1/σ * (E_t[r_t] - ρ) \n",
    "$$\n",
    "Phillips Curve:\n",
    "$$\n",
    "π_t = κy_t + βE_t[π_{t+1}]\n",
    "$$\n",
    "Taylor Rule:\n",
    "$$\n",
    "r_t = ρ + ϕ_yE_t[y_{t+1}] + ϕ_πE_t[π_{t+1}] \n",
    "$$\n",
    "\n",
    "The IS Curve represents the aggregate demand equation which shows the relationship between output, expected future output, the real interest rate. It reflects how changes in interest rates and expectations about future output affect current output. The Phillips Curve is the inflation equation, which represents the relationship between inflation, the output gap and eexpected future inflation. It describes how deviations of actual output from potential output influence inflation. Taylor Rule or the Monetary Policy Rule represents the central bank's reaction function, where the nominal interest rate is set based on deviations of output from potential output and inflation from target inflation."
   ]
  },
  {
   "cell_type": "markdown",
   "metadata": {},
   "source": [
    "Firstly, the three equations of the model have been coded."
   ]
  },
  {
   "cell_type": "markdown",
   "metadata": {},
   "source": [
    "Next, the model has been solved using fsolve, which is an optimization function from scipy.optimize.The initial values of output, inflaton and interest rate have been assumed to be 0. Then the model has been simulated.\n",
    "\n",
    "The reason of using fsolve rather than defining y_t, pi_t and r_t directly from the three equations is that we are dealing with a system of nonlinear equations that are interdependent. The Taylor rule, Phillips curve, and IS curve must all hold. It would not be sufficient to define these variables straight from the equations to guarantee simultaneous satisfaction of the three requirements. \n",
    "\n",
    "This approach ensures that the interdependencies and nonlinearities are properly accounted for, providing a consistent solution for the model's variables."
   ]
  },
  {
   "cell_type": "markdown",
   "metadata": {},
   "source": [
    "\n",
    "Instead of simply displaying the values of each variable, we will plot the simulated paths for key macroeconomic variables in response to different shocks. This provides a more intuitive understanding of how the economy reacts over time. The plots will include:\n",
    "- Output Gap\n",
    "- Inflation Rate\n",
    "- Nominal Interest Rate\n",
    "- Comparison to steady state values"
   ]
  },
  {
   "cell_type": "markdown",
   "metadata": {},
   "source": [
    "Lastly, an interactive plot has been created. "
   ]
  },
  {
   "cell_type": "markdown",
   "metadata": {},
   "source": [
    "(If after running all the project the grpah does not appear, run the cell alone)"
   ]
  },
  {
   "cell_type": "code",
   "execution_count": 35,
   "metadata": {},
   "outputs": [
    {
     "data": {
      "application/vnd.jupyter.widget-view+json": {
       "model_id": "e19f5c8791bf4a65ac95957671542eae",
       "version_major": 2,
       "version_minor": 0
      },
      "text/plain": [
       "interactive(children=(FloatSlider(value=100.0, description='Periods', min=1.0, step=1.0), FloatSlider(value=0.…"
      ]
     },
     "metadata": {},
     "output_type": "display_data"
    },
    {
     "data": {
      "text/plain": [
       "<function __main__.interactive_plot(periods, Exp_y_t1_val, Exp_r_t_val, Exp_pi_t1_val, sigma_val, rho_val, kappa_val, beta_val, phi_y_val, phi_pi_val)>"
      ]
     },
     "execution_count": 35,
     "metadata": {},
     "output_type": "execute_result"
    }
   ],
   "source": [
    "# Defining the model equations:\n",
    "# IS curve\n",
    "def y_t(Exp_y_t1, sigma, Exp_r_t, rho):\n",
    "    return Exp_y_t1 - (1/sigma)*(Exp_r_t-rho)\n",
    "\n",
    "# Phillips curve\n",
    "def pi_t(kappa, y_t, beta, Exp_pi_t1):\n",
    "    return kappa*y_t + beta* Exp_pi_t1\n",
    "\n",
    "# Taylor rule\n",
    "def r_t(rho, phi_y, phi_pi, Exp_y_t1, Exp_pi_t1):\n",
    "    return rho + phi_y * Exp_y_t1 + phi_pi * Exp_pi_t1\n",
    "\n",
    "# Solving the model equations\n",
    "def solve_model(Exp_y_t1, Exp_r_t, Exp_pi_t1, sigma, rho, kappa, beta, phi_y, phi_pi):\n",
    "    # Define a function to solve using fsolve\n",
    "    def equations(vars):\n",
    "        yt, pi_t1, rt1 = vars\n",
    "        eq1 = y_t(Exp_y_t1, sigma, rt1, rho) - yt\n",
    "        eq2 = pi_t(kappa, yt, beta, Exp_pi_t1) - pi_t1\n",
    "        eq3 = r_t(rho, phi_y, phi_pi, Exp_y_t1, Exp_pi_t1) - rt1\n",
    "        return [eq1, eq2, eq3]\n",
    "    \n",
    "    # Initial guess\n",
    "    guess = [0, 0, 0]\n",
    "    \n",
    "    # Solve using fsolve\n",
    "    yt, pi_t1, rt1 = fsolve(equations, guess)\n",
    "    \n",
    "    return yt, pi_t1, rt1\n",
    "\n",
    "# Simulation\n",
    "def simulate_model(periods, Exp_y_t1, Exp_r_t, Exp_pi_t1, sigma, rho, kappa, beta, phi_y, phi_pi):\n",
    "    y_t_values = [0]  # Initial output assumed to be 0\n",
    "    pi_t_values = [0]  # Initial inflation assumed to be 0\n",
    "    r_t_values = [0]  # Initial interest rate assumed to be 0\n",
    "    for _ in range(int(periods)):  # Convert periods to integer\n",
    "        yt, pi_t1, rt1 = solve_model(Exp_y_t1, Exp_r_t, Exp_pi_t1, sigma, rho, kappa, beta, phi_y, phi_pi)\n",
    "        y_t_values.append(yt)\n",
    "        pi_t_values.append(pi_t1)\n",
    "        r_t_values.append(rt1)\n",
    "        # Update expected values for the next period\n",
    "        Exp_y_t1 = yt\n",
    "        Exp_r_t = rt1\n",
    "        Exp_pi_t1 = pi_t1\n",
    "    return y_t_values, pi_t_values, r_t_values\n",
    "\n",
    "# Interactive plot function\n",
    "def interactive_plot(periods, Exp_y_t1_val, Exp_r_t_val, Exp_pi_t1_val, sigma_val, rho_val, kappa_val, beta_val, phi_y_val, phi_pi_val):\n",
    "    y_t_values, pi_t_values, r_t_values = simulate_model(periods, Exp_y_t1_val, Exp_r_t_val, Exp_pi_t1_val, sigma_val, rho_val, kappa_val, beta_val, phi_y_val, phi_pi_val)\n",
    "    \n",
    "    plt.figure(figsize=(10, 6))\n",
    "\n",
    "    plt.subplot(3, 1, 1)\n",
    "    plt.plot(y_t_values)\n",
    "    plt.title('Output (y_t)')\n",
    "    plt.xlabel('Period')\n",
    "    plt.ylabel('Output')\n",
    "\n",
    "    plt.subplot(3, 1, 2)\n",
    "    plt.plot(pi_t_values)\n",
    "    plt.title('Inflation (π_t)')\n",
    "    plt.xlabel('Period')\n",
    "    plt.ylabel('Inflation')\n",
    "\n",
    "    plt.subplot(3, 1, 3)\n",
    "    plt.plot(r_t_values)\n",
    "    plt.title('Interest Rate (r_t)')\n",
    "    plt.xlabel('Period')\n",
    "    plt.ylabel('Interest Rate')\n",
    "\n",
    "    plt.tight_layout()\n",
    "    plt.show()\n",
    "\n",
    "# Set up the interactive widget\n",
    "interact(interactive_plot,\n",
    "         periods=FloatSlider(min=1, max=100, step=1, value=100, description='Periods'),\n",
    "         Exp_y_t1_val=FloatSlider(min=0, max=1, step=0.1, value=0.5, description='Exp_y_t1'),\n",
    "         Exp_r_t_val=FloatSlider(min=0, max=1, step=0.1, value=0.5, description='Exp_r_t'),\n",
    "         Exp_pi_t1_val=FloatSlider(min=0, max=1, step=0.1, value=0.5, description='Exp_pi_t1'),\n",
    "         sigma_val=FloatSlider(min=0, max=2, step=0.1, value=1.5, description='sigma'),\n",
    "         rho_val=FloatSlider(min=0, max=1, step=0.1, value=0.5, description='rho'),\n",
    "         kappa_val=FloatSlider(min=0, max=1, step=0.1, value=0.5, description='kappa'),\n",
    "         beta_val=FloatSlider(min=0, max=1, step=0.1, value=0.99, description='beta'),\n",
    "         phi_y_val=FloatSlider(min=0, max=1, step=0.1, value=0.5, description='phi_y'),\n",
    "         phi_pi_val=FloatSlider(min=0, max=2, step=0.1, value=1.5, description='phi_pi')\n",
    "        )"
   ]
  },
  {
   "cell_type": "markdown",
   "metadata": {},
   "source": [
    "## Analytical solution"
   ]
  },
  {
   "cell_type": "markdown",
   "metadata": {},
   "source": [
    "From the values ploted before, we will solve the model by choosing random values."
   ]
  },
  {
   "cell_type": "markdown",
   "metadata": {},
   "source": [
    "Here, we wanted first to solve the model as it is, so we wrote some code in order to find the optimal values for each variables we have defined above, except for \"periods\" which will be set as 100. \n",
    "\n",
    "We wanted to set all the variable as \"completely\" random so that we could find the steady state of the model. "
   ]
  },
  {
   "cell_type": "code",
   "execution_count": 32,
   "metadata": {},
   "outputs": [
    {
     "name": "stdout",
     "output_type": "stream",
     "text": [
      "Output (y_t) =  (-phi_pi*pi_t_1 - phi_y*y_t_1 + sigma*y_t_1)/sigma\n",
      "Inflation (pi_t) =  (beta*pi_t_1*sigma - kappa*phi_pi*pi_t_1 - kappa*phi_y*y_t_1 + kappa*sigma*y_t_1)/sigma\n",
      "Nominal Interest Rate (r_t) =  phi_pi*pi_t_1 + phi_y*y_t_1 + rho\n"
     ]
    }
   ],
   "source": [
    "# Define symbols\n",
    "y_t, y_t_1, pi_t, pi_t_1, r_t, rho, sigma, kappa, beta, phi_y, phi_pi = sp.symbols('y_t y_t_1 pi_t pi_t_1 r_t rho sigma kappa beta phi_y phi_pi')\n",
    "\n",
    "# Define equations\n",
    "is_curve = sp.Eq(y_t, y_t_1 - (1/sigma) * (r_t - rho))\n",
    "phillips_curve = sp.Eq(pi_t, kappa * y_t + beta * pi_t_1)\n",
    "taylor_rule = sp.Eq(r_t, rho + phi_y * y_t_1 + phi_pi * pi_t_1)\n",
    "\n",
    "# Solve the system of equations\n",
    "solution = sp.solve((is_curve, phillips_curve, taylor_rule), (y_t, pi_t, r_t))\n",
    "\n",
    "# Extract solutions\n",
    "y_t_solution = solution[y_t]\n",
    "pi_t_solution = solution[pi_t]\n",
    "r_t_solution = solution[r_t]\n",
    "\n",
    "# Print solutions\n",
    "print(\"Output (y_t) = \", y_t_solution)\n",
    "print(\"Inflation (pi_t) = \", pi_t_solution)\n",
    "print(\"Nominal Interest Rate (r_t) = \", r_t_solution)"
   ]
  },
  {
   "cell_type": "markdown",
   "metadata": {},
   "source": [
    "Here I only rewrote a nicer way the result stated above.\n",
    "\n",
    "$$\n",
    "y_{t} = (-ϕ_π * π_{t+1} - ϕ_y * y_{t+1} + σ * y_{t+1})/σ \n",
    "$$\n",
    "\n",
    "$$\n",
    "π_{t} = (β * π_{t+1} * σ - κ * ϕ_π * π_{t+1} - κ * ϕ_y * y_{t+1} + κ * σ * y_{t+1})/σ\n",
    "$$\n",
    "\n",
    "$$\n",
    "r_{t} = ϕ_π * π_{t+1} + ϕ_y * y_{t+1} + ρ\n",
    "$$"
   ]
  },
  {
   "cell_type": "code",
   "execution_count": 33,
   "metadata": {},
   "outputs": [
    {
     "name": "stdout",
     "output_type": "stream",
     "text": [
      "Steady-State Output (y) =  0\n",
      "Steady-State Inflation (pi) =  0\n",
      "Steady-State Nominal Interest Rate (r) =  rho\n"
     ]
    }
   ],
   "source": [
    "# Define symbols\n",
    "y, pi, r, rho, sigma, kappa, beta, phi_y, phi_pi = sp.symbols('y pi r rho sigma kappa beta phi_y phi_pi')\n",
    "\n",
    "# Define equations\n",
    "is_curve = sp.Eq(y, y - (1/sigma) * (r - rho))\n",
    "phillips_curve = sp.Eq(pi, kappa * y + beta * pi)\n",
    "taylor_rule = sp.Eq(r, rho + phi_y * y + phi_pi * pi)\n",
    "\n",
    "# Solve the system of equations for steady state\n",
    "steady_state_solution = sp.solve((is_curve, phillips_curve, taylor_rule), (y, pi, r))\n",
    "\n",
    "# Print steady-state solutions\n",
    "print(\"Steady-State Output (y) = \", steady_state_solution[y])\n",
    "print(\"Steady-State Inflation (pi) = \", steady_state_solution[pi])\n",
    "print(\"Steady-State Nominal Interest Rate (r) = \", steady_state_solution[r])"
   ]
  },
  {
   "cell_type": "markdown",
   "metadata": {},
   "source": [
    "Here we tried to find the equilibrium values, since we did not define any constant we gave the values with letters.\n",
    "\n",
    "But we wrote a code that should give us the steady-state for the output, inflation and interest rate.\n",
    "The first two one should be equal to 0 which is consistent with what we find in the interactive plot in the first part of the assignment on the long term. For the last variable we see that it should be equal to $\\rho$ which is again consistent with the values we have in the first part of the assignment."
   ]
  },
  {
   "cell_type": "markdown",
   "metadata": {},
   "source": [
    "## Numerical solution"
   ]
  },
  {
   "cell_type": "markdown",
   "metadata": {},
   "source": [
    "In here we are adding some shocks to our equations. We wanted to see how these shocks would affect the economy so we simulate them into a interactive plot. Like this we can see the impact of each shocks, for positive and negative values on a short and long run. \n",
    "\n",
    "For example, if the u_cp = -0.60 then the output will increase whereas if u_MP = 0.80 the output will decrease."
   ]
  },
  {
   "cell_type": "markdown",
   "metadata": {},
   "source": [
    "\n",
    "IS Curve:\n",
    "$$\n",
    "y_t = E_t[y_{t+1}] - 1/σ * (E_t[r_t] - ρ) + u_{IS}\n",
    "$$\n",
    "Phillips Curve:\n",
    "$$\n",
    "π_t = κy_t + βE_t[π_{t+1}] + u_{CP}\n",
    "$$\n",
    "Taylor Rule:\n",
    "$$\n",
    "r_t = ρ + ϕ_yE_t[y_{t+1}] + ϕ_πE_t[π_{t+1}] + u_{MP}\n",
    "$$"
   ]
  },
  {
   "cell_type": "markdown",
   "metadata": {},
   "source": [
    "(If after running all the project the graph does not appear, run the cell independently)"
   ]
  },
  {
   "cell_type": "code",
   "execution_count": 36,
   "metadata": {},
   "outputs": [
    {
     "data": {
      "application/vnd.jupyter.widget-view+json": {
       "model_id": "f3abf7e3f73f4b768fc85771ab1e77c3",
       "version_major": 2,
       "version_minor": 0
      },
      "text/plain": [
       "interactive(children=(FloatSlider(value=100.0, description='Periods', min=1.0, step=1.0), FloatSlider(value=0.…"
      ]
     },
     "metadata": {},
     "output_type": "display_data"
    },
    {
     "data": {
      "text/plain": [
       "<function __main__.interactive_plot(periods, Exp_y_t1_val, Exp_r_t_val, Exp_pi_t1_val, sigma_val, rho_val, kappa_val, beta_val, phi_y_val, phi_pi_val, uIS_val, uCP_val, uMP_val)>"
      ]
     },
     "execution_count": 36,
     "metadata": {},
     "output_type": "execute_result"
    }
   ],
   "source": [
    "# Defining the model equations with exogenous shocks\n",
    "def y_t(Exp_y_t1, sigma, Exp_r_t, rho, uIS):\n",
    "    return Exp_y_t1 - (1/sigma)*(Exp_r_t - rho) + uIS\n",
    "\n",
    "def pi_t(kappa, y_t, beta, Exp_pi_t1, uCP):\n",
    "    return kappa * y_t + beta * Exp_pi_t1 + uCP\n",
    "\n",
    "def r_t(rho, phi_y, phi_pi, Exp_y_t1, Exp_pi_t1, uMP):\n",
    "    return rho + phi_y * Exp_y_t1 + phi_pi * Exp_pi_t1 + uMP\n",
    "\n",
    "# Solving the model equations with exogenous shocks\n",
    "def solve_model(Exp_y_t1, Exp_r_t, Exp_pi_t1, sigma, rho, kappa, beta, phi_y, phi_pi, uIS, uCP, uMP):\n",
    "    def equations(vars):\n",
    "        yt, pi_t1, rt1 = vars\n",
    "        eq1 = y_t(Exp_y_t1, sigma, rt1, rho, uIS) - yt\n",
    "        eq2 = pi_t(kappa, yt, beta, Exp_pi_t1, uCP) - pi_t1\n",
    "        eq3 = r_t(rho, phi_y, phi_pi, Exp_y_t1, Exp_pi_t1, uMP) - rt1\n",
    "        return [eq1, eq2, eq3]\n",
    "    \n",
    "    guess = [0, 0, 0]\n",
    "    yt, pi_t1, rt1 = fsolve(equations, guess)\n",
    "    \n",
    "    return yt, pi_t1, rt1\n",
    "\n",
    "# Simulation with exogenous shocks\n",
    "def simulate_model(periods, Exp_y_t1, Exp_r_t, Exp_pi_t1, sigma, rho, kappa, beta, phi_y, phi_pi, uIS, uCP, uMP):\n",
    "    y_t_values = [0]\n",
    "    pi_t_values = [0]\n",
    "    r_t_values = [0]\n",
    "    for _ in range(int(periods)):\n",
    "        yt, pi_t1, rt1 = solve_model(Exp_y_t1, Exp_r_t, Exp_pi_t1, sigma, rho, kappa, beta, phi_y, phi_pi, uIS, uCP, uMP)\n",
    "        y_t_values.append(yt)\n",
    "        pi_t_values.append(pi_t1)\n",
    "        r_t_values.append(rt1)\n",
    "        # Update expected values for the next period\n",
    "        Exp_y_t1 = yt\n",
    "        Exp_r_t = rt1\n",
    "        Exp_pi_t1 = pi_t1\n",
    "    return y_t_values, pi_t_values, r_t_values\n",
    "\n",
    "# Interactive plot function\n",
    "def interactive_plot(periods, Exp_y_t1_val, Exp_r_t_val, Exp_pi_t1_val, sigma_val, rho_val, kappa_val, beta_val, phi_y_val, phi_pi_val, uIS_val, uCP_val, uMP_val):\n",
    "    y_t_values, pi_t_values, r_t_values = simulate_model(periods, Exp_y_t1_val, Exp_r_t_val, Exp_pi_t1_val, sigma_val, rho_val, kappa_val, beta_val, phi_y_val, phi_pi_val, uIS_val, uCP_val, uMP_val)\n",
    "    \n",
    "    plt.figure(figsize=(12, 10))\n",
    "\n",
    "    plt.subplot(4, 1, 1)\n",
    "    plt.plot(y_t_values)\n",
    "    plt.title('Output (y_t)')\n",
    "    plt.xlabel('Period')\n",
    "    plt.ylabel('Output')\n",
    "\n",
    "    plt.subplot(4, 1, 2)\n",
    "    plt.plot(pi_t_values)\n",
    "    plt.title('Inflation (π_t)')\n",
    "    plt.xlabel('Period')\n",
    "    plt.ylabel('Inflation')\n",
    "\n",
    "    plt.subplot(4, 1, 3)\n",
    "    plt.plot(r_t_values)\n",
    "    plt.title('Interest Rate (r_t)')\n",
    "    plt.xlabel('Period')\n",
    "    plt.ylabel('Interest Rate')\n",
    "\n",
    "    plt.subplot(4, 1, 4)\n",
    "    plt.plot(uIS_val * np.ones(len(y_t_values)), label='uIS')\n",
    "    plt.plot(uCP_val * np.ones(len(pi_t_values)), label='uCP')\n",
    "    plt.plot(uMP_val * np.ones(len(r_t_values)), label='uMP')\n",
    "    plt.title('Exogenous Shocks')\n",
    "    plt.xlabel('Period')\n",
    "    plt.ylabel('Shocks')\n",
    "    plt.legend()\n",
    "\n",
    "    plt.tight_layout()\n",
    "    plt.show()\n",
    "\n",
    "# Set up the interactive widget\n",
    "interact(interactive_plot,\n",
    "         periods=FloatSlider(min=1, max=100, step=1, value=100, description='Periods'),\n",
    "         Exp_y_t1_val=FloatSlider(min=0, max=1, step=0.1, value=0.5, description='Exp_y_t1'),\n",
    "         Exp_r_t_val=FloatSlider(min=0, max=1, step=0.1, value=0.5, description='Exp_r_t'),\n",
    "         Exp_pi_t1_val=FloatSlider(min=0, max=1, step=0.1, value=0.5, description='Exp_pi_t1'),\n",
    "         sigma_val=FloatSlider(min=0, max=2, step=0.1, value=1.5, description='sigma'),\n",
    "         rho_val=FloatSlider(min=0, max=1, step=0.1, value=0.5, description='rho'),\n",
    "         kappa_val=FloatSlider(min=0, max=1, step=0.1, value=0.5, description='kappa'),\n",
    "         beta_val=FloatSlider(min=0, max=1, step=0.1, value=0.99, description='beta'),\n",
    "         phi_y_val=FloatSlider(min=0, max=1, step=0.1, value=0.5, description='phi_y'),\n",
    "         phi_pi_val=FloatSlider(min=0, max=2, step=0.1, value=1.5, description='phi_pi'),\n",
    "         uIS_val=FloatSlider(min=-1, max=1, step=0.1, value=0, description='uIS'),\n",
    "         uCP_val=FloatSlider(min=-1, max=1, step=0.1, value=0, description='uCP'),\n",
    "         uMP_val=FloatSlider(min=-1, max=1, step=0.1, value=0, description='uMP')\n",
    "        )"
   ]
  },
  {
   "cell_type": "markdown",
   "metadata": {},
   "source": [
    "# Conclusion"
   ]
  },
  {
   "cell_type": "markdown",
   "metadata": {},
   "source": [
    "The purpose of the New Keynesian model is to analyze how various economic shocks (demand shock, cost-push shock, monetary policy shock) affect key macroeconomic variables such as output, inflation, and interest rates. It helps economists and policymakers understand the dynamics of the economy and design appropriate policy responses to stabilize the economy, such as monetary policy adjustments in response to changes in output and inflation. \n",
    "The model could be extended by a fourth equation known as the Output Gap Evolution Equation.It describes how potential output evolves over time and depends on exogenous factors like technological progress or demographic changes.\n",
    "\n",
    "Output Gap Evolution Equation:\n",
    "$$\n",
    "Y^*_{t+1} = Y^*_{t} +γ(Y_t - Y^*_{t+}) + ϵ\n",
    "$$\n",
    "The purpose of including this equation is to capture the long-term trends in the economy and how they influence short-term dynamics. \n",
    "​"
   ]
  }
 ],
 "metadata": {
  "kernelspec": {
   "display_name": "base",
   "language": "python",
   "name": "python3"
  },
  "language_info": {
   "codemirror_mode": {
    "name": "ipython",
    "version": 3
   },
   "file_extension": ".py",
   "mimetype": "text/x-python",
   "name": "python",
   "nbconvert_exporter": "python",
   "pygments_lexer": "ipython3",
   "version": "3.11.7"
  },
  "toc-autonumbering": true,
  "vscode": {
   "interpreter": {
    "hash": "47ef90cdf3004d3f859f1fb202523c65c07ba7c22eefd261b181f4744e2d0403"
   }
  }
 },
 "nbformat": 4,
 "nbformat_minor": 4
}
