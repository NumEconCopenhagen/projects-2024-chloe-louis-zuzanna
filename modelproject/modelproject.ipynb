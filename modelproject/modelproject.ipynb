{
 "cells": [
  {
   "cell_type": "markdown",
   "metadata": {},
   "source": [
    "# THE NEW KEYNESIAN MODEL"
   ]
  },
  {
   "attachments": {},
   "cell_type": "markdown",
   "metadata": {},
   "source": [
    "> **Note the following:** \n",
    "> 1. This is *not* meant to be an example of an actual **model analysis project**, just an example of how to structure such a project.\n",
    "> 1. Remember the general advice on structuring and commenting your code\n",
    "> 1. The `modelproject.py` file includes a function which could be used multiple times in this notebook."
   ]
  },
  {
   "cell_type": "markdown",
   "metadata": {},
   "source": [
    "Imports and set magics:"
   ]
  },
  {
   "cell_type": "code",
   "execution_count": 5,
   "metadata": {},
   "outputs": [
    {
     "name": "stdout",
     "output_type": "stream",
     "text": [
      "The autoreload extension is already loaded. To reload it, use:\n",
      "  %reload_ext autoreload\n"
     ]
    }
   ],
   "source": [
    "import numpy as np\n",
    "from scipy import optimize\n",
    "import matplotlib.pyplot as plt\n",
    "from scipy.optimize import fsolve\n",
    "from ipywidgets import interact, FloatSlider\n",
    "import sympy as sp\n",
    "from scipy.optimize import minimize\n",
    "\n",
    "# autoreload modules when code is run\n",
    "%load_ext autoreload\n",
    "%autoreload 2"
   ]
  },
  {
   "cell_type": "markdown",
   "metadata": {},
   "source": [
    "In order to run the numerical solution's code successfully the value for demand shock, cost-push shock and monetary policy shock should be input by hand in the command bar. It will be asked and you should see it appears when you run the code."
   ]
  },
  {
   "cell_type": "markdown",
   "metadata": {},
   "source": [
    "# Model description"
   ]
  },
  {
   "cell_type": "markdown",
   "metadata": {},
   "source": [
    "A New Keynesian model is a framework used in macroeconomics to analyze the effects of various economic shocks on key macroeconomic variables such as output, inflation, and interest rates. It combines elements of Keynesian economics with modern macroeconomic theory. A typical New Keynesian model consists of three main equations:\n",
    "\n",
    "IS Curve:\n",
    "$$\n",
    "y_t = E_t[y_{t+1}] - 1/σ * (E_t[r_t] - ρ) \n",
    "$$\n",
    "Phillips Curve:\n",
    "$$\n",
    "π_t = κy_t + βE_t[π_{t+1}]\n",
    "$$\n",
    "Taylor Rule:\n",
    "$$\n",
    "r_t = ρ + ϕ_yE_t[y_{t+1}] + ϕ_πE_t[π_{t+1}] \n",
    "$$\n",
    "\n",
    "The IS Curve represents the aggregate demand equation which shows the relationship between output, expected future output, the real interest rate. It reflects how changes in interest rates and expectations about future output affect current output. The Phillips Curve is the inflation equation, which represents the relationship between inflation, the output gap and eexpected future inflation. It describes how deviations of actual output from potential output influence inflation. Taylor Rule or the Monetary Policy Rule represents the central bank's reaction function, where the nominal interest rate is set based on deviations of output from potential output and inflation from target inflation."
   ]
  },
  {
   "cell_type": "markdown",
   "metadata": {},
   "source": [
    "Firstly, the three equations of the model have been coded."
   ]
  },
  {
   "cell_type": "code",
   "execution_count": 6,
   "metadata": {},
   "outputs": [],
   "source": [
    "# Defining the model equations:\n",
    "# IS curve\n",
    "def y_t(Exp_y_t1, sigma, Exp_r_t, rho):\n",
    "    return Exp_y_t1 - (1/sigma)*(Exp_r_t-rho)\n",
    "\n",
    "# Phillips curve\n",
    "def pi_t(kappa, y_t, beta, Exp_pi_t1):\n",
    "    return kappa*y_t + beta* Exp_pi_t1\n",
    "\n",
    "# Taylor rule\n",
    "def r_t(rho, phi_y, phi_pi, Exp_y_t1, Exp_pi_t1):\n",
    "    return rho + phi_y * Exp_y_t1 + phi_pi * Exp_pi_t1"
   ]
  },
  {
   "cell_type": "markdown",
   "metadata": {},
   "source": [
    "Next, the model has been solved using fsolve, which is an optimization function from scipy.optimize.The initial values of output, inflaton and interest rate have been assumed to be 0. Then the model has been simulated."
   ]
  },
  {
   "cell_type": "code",
   "execution_count": 7,
   "metadata": {},
   "outputs": [],
   "source": [
    "# Solving the model equations\n",
    "def solve_model(Exp_y_t1, Exp_r_t, Exp_pi_t1, sigma, rho, kappa, beta, phi_y, phi_pi):\n",
    "    # Define a function to solve using fsolve\n",
    "    def equations(vars):\n",
    "        yt, pi_t1, rt1 = vars\n",
    "        eq1 = y_t(Exp_y_t1, sigma, rt1, rho) - yt\n",
    "        eq2 = pi_t(kappa, yt, beta, Exp_pi_t1) - pi_t1\n",
    "        eq3 = r_t(rho, phi_y, phi_pi, Exp_y_t1, Exp_pi_t1) - rt1\n",
    "        return [eq1, eq2, eq3]\n",
    "    \n",
    "    # Initial guess\n",
    "    guess = [0, 0, 0]\n",
    "    \n",
    "    # Solve using fsolve\n",
    "    yt, pi_t1, rt1 = fsolve(equations, guess)\n",
    "    \n",
    "    return yt, pi_t1, rt1\n",
    "\n",
    "# Simulation\n",
    "def simulate_model(periods, Exp_y_t1, Exp_r_t, Exp_pi_t1, sigma, rho, kappa, beta, phi_y, phi_pi):\n",
    "    y_t_values = [0]  # Initial output assumed to be 0\n",
    "    pi_t_values = [0]  # Initial inflation assumed to be 0\n",
    "    r_t_values = [0]  # Initial interest rate assumed to be 0\n",
    "    for _ in range(int(periods)):  # Convert periods to integer\n",
    "        yt, pi_t1, rt1 = solve_model(Exp_y_t1, Exp_r_t, Exp_pi_t1, sigma, rho, kappa, beta, phi_y, phi_pi)\n",
    "        y_t_values.append(yt)\n",
    "        pi_t_values.append(pi_t1)\n",
    "        r_t_values.append(rt1)\n",
    "        # Update expected values for the next period\n",
    "        Exp_y_t1, Exp_r_t, Exp_pi_t1 = yt, rt1, pi_t1\n",
    "    return y_t_values, pi_t_values, r_t_values\n",
    "\n",
    "\n"
   ]
  },
  {
   "cell_type": "markdown",
   "metadata": {},
   "source": [
    "Lastly, an interactive plot has been created. "
   ]
  },
  {
   "cell_type": "code",
   "execution_count": 8,
   "metadata": {},
   "outputs": [
    {
     "data": {
      "application/vnd.jupyter.widget-view+json": {
       "model_id": "c72bd48f19bf4bba880755cb5d131992",
       "version_major": 2,
       "version_minor": 0
      },
      "text/plain": [
       "interactive(children=(FloatSlider(value=50.0, description='Periods', min=1.0, step=1.0), FloatSlider(value=0.5…"
      ]
     },
     "metadata": {},
     "output_type": "display_data"
    }
   ],
   "source": [
    "# Interactive plot function\n",
    "def interactive_plot(periods, Exp_y_t1_val, Exp_r_t_val, Exp_pi_t1_val, sigma_val, rho_val, kappa_val, beta_val, phi_y_val, phi_pi_val):\n",
    "    y_t_values, pi_t_values, r_t_values = simulate_model(periods, Exp_y_t1_val, Exp_r_t_val, Exp_pi_t1_val, sigma_val, rho_val, kappa_val, beta_val, phi_y_val, phi_pi_val)\n",
    "    \n",
    "    plt.figure(figsize=(10, 6))\n",
    "\n",
    "    plt.subplot(3, 1, 1)\n",
    "    plt.plot(y_t_values)\n",
    "    plt.title('Output (y_t)')\n",
    "    plt.xlabel('Period')\n",
    "    plt.ylabel('Output')\n",
    "\n",
    "    plt.subplot(3, 1, 2)\n",
    "    plt.plot(pi_t_values)\n",
    "    plt.title('Inflation (π_t)')\n",
    "    plt.xlabel('Period')\n",
    "    plt.ylabel('Inflation')\n",
    "\n",
    "    plt.subplot(3, 1, 3)\n",
    "    plt.plot(r_t_values)\n",
    "    plt.title('Interest Rate (r_t)')\n",
    "    plt.xlabel('Period')\n",
    "    plt.ylabel('Interest Rate')\n",
    "\n",
    "    plt.tight_layout()\n",
    "    plt.show()\n",
    "\n",
    "# Set up the interactive widget\n",
    "interact(interactive_plot,\n",
    "         periods=FloatSlider(min=1, max=100, step=1, value=50, description='Periods'),\n",
    "         Exp_y_t1_val=FloatSlider(min=0, max=1, step=0.1, value=0.5, description='Exp_y_t1'),\n",
    "         Exp_r_t_val=FloatSlider(min=0, max=1, step=0.1, value=0.5, description='Exp_r_t'),\n",
    "         Exp_pi_t1_val=FloatSlider(min=0, max=1, step=0.1, value=0.5, description='Exp_pi_t1'),\n",
    "         sigma_val=FloatSlider(min=0, max=1, step=0.1, value=0.5, description='sigma'),\n",
    "         rho_val=FloatSlider(min=0, max=1, step=0.1, value=0.5, description='rho'),\n",
    "         kappa_val=FloatSlider(min=0, max=1, step=0.1, value=0.5, description='kappa'),\n",
    "         beta_val=FloatSlider(min=0, max=1, step=0.1, value=0.5, description='beta'),\n",
    "         phi_y_val=FloatSlider(min=0, max=1, step=0.1, value=0.5, description='phi_y'),\n",
    "         phi_pi_val=FloatSlider(min=0, max=1, step=0.1, value=0.5, description='phi_pi')\n",
    "        );"
   ]
  },
  {
   "cell_type": "markdown",
   "metadata": {},
   "source": [
    "## Analytical solution"
   ]
  },
  {
   "cell_type": "markdown",
   "metadata": {},
   "source": [
    "From the values ploted before, we will solve the model by choosing random values."
   ]
  },
  {
   "cell_type": "markdown",
   "metadata": {},
   "source": [
    "Here, we wanted first to solve the model as it is, so we wrote some code in order to find the optimal values for each variables we have defined above, except for \"periods\" which will be set as 100. \n",
    "\n",
    "We wanted to set all the variable as \"completely\" random so that we could find the steady state of the model. "
   ]
  },
  {
   "cell_type": "code",
   "execution_count": 9,
   "metadata": {},
   "outputs": [
    {
     "data": {
      "image/png": "[encoded data removed]",
      "text/plain": [
       "<Figure size 1000x600 with 3 Axes>"
      ]
     },
     "metadata": {},
     "output_type": "display_data"
    },
    {
     "name": "stdout",
     "output_type": "stream",
     "text": [
      "Optimal values:\n",
      "Exp_y_t1: 0.31493405584250955\n",
      "Exp_r_t: 0.7340726489786371\n",
      "Exp_pi_t1: 0.6089075118785333\n",
      "sigma: 0.7793596860181942\n",
      "rho: 0.6529833974386916\n",
      "kappa: 0.3660209315913728\n",
      "beta: 0.5498990685764191\n",
      "phi_y: 0.2971288393516809\n",
      "phi_pi: 0.3044878377570209\n"
     ]
    }
   ],
   "source": [
    "\n",
    "# Define the model equations\n",
    "def y_t(Exp_y_t1, sigma, Exp_r_t, rho):\n",
    "    return Exp_y_t1 - (1/sigma)*(Exp_r_t - rho)\n",
    "\n",
    "def pi_t(kappa, y_t, beta, Exp_pi_t1):\n",
    "    return kappa * y_t + beta * Exp_pi_t1\n",
    "\n",
    "def r_t(rho, phi_y, phi_pi, Exp_y_t1, Exp_pi_t1):\n",
    "    return rho + phi_y * Exp_y_t1 + phi_pi * Exp_pi_t1\n",
    "\n",
    "# Simulation function\n",
    "def simulate_model(params):\n",
    "    Exp_y_t1, Exp_r_t, Exp_pi_t1, sigma, rho, kappa, beta, phi_y, phi_pi = params\n",
    "    periods = 100  # Assuming a fixed number of periods for simulation\n",
    "    y_t_values = [0]  # Initial output assumed to be 0\n",
    "    pi_t_values = [0]  # Initial inflation assumed to be 0\n",
    "    r_t_values = [0]  # Initial interest rate assumed to be 0\n",
    "    for _ in range(periods):\n",
    "        yt = y_t(Exp_y_t1, sigma, Exp_r_t, rho)\n",
    "        pi_t1 = pi_t(kappa, yt, beta, Exp_pi_t1)\n",
    "        rt1 = r_t(rho, phi_y, phi_pi, Exp_y_t1, Exp_pi_t1)\n",
    "        y_t_values.append(yt)\n",
    "        pi_t_values.append(pi_t1)\n",
    "        r_t_values.append(rt1)\n",
    "        Exp_y_t1, Exp_r_t, Exp_pi_t1 = yt, rt1, pi_t1\n",
    "    return y_t_values, pi_t_values, r_t_values\n",
    "\n",
    "# Define the objective function to minimize the sum of squared errors\n",
    "def objective_function(params):\n",
    "    simulated_y, simulated_pi, simulated_r = simulate_model(params)\n",
    "    # Random target values for demonstration\n",
    "    target_y = np.random.rand(len(simulated_y))\n",
    "    target_pi = np.random.rand(len(simulated_pi))\n",
    "    target_r = np.random.rand(len(simulated_r))\n",
    "    # Calculate sum of squared errors\n",
    "    error_y = np.sum((simulated_y - target_y) ** 2)\n",
    "    error_pi = np.sum((simulated_pi - target_pi) ** 2)\n",
    "    error_r = np.sum((simulated_r - target_r) ** 2)\n",
    "    return error_y + error_pi + error_r\n",
    "\n",
    "# Define initial guesses for the parameters\n",
    "initial_guess = [0.5, 0.5, 0.5, 0.5, 0.5, 0.5, 0.5, 0.5, 0.5]  # You may need to provide reasonable initial guesses\n",
    "\n",
    "# Perform optimization to find optimal values\n",
    "result = minimize(objective_function, initial_guess, method='Nelder-Mead')\n",
    "\n",
    "# Get the optimal values\n",
    "optimal_values = result.x\n",
    "\n",
    "# Simulate the model with optimal values\n",
    "simulated_y, simulated_pi, simulated_r = simulate_model(optimal_values)\n",
    "\n",
    "# Plot the simulated values\n",
    "plt.figure(figsize=(10, 6))\n",
    "\n",
    "plt.subplot(3, 1, 1)\n",
    "plt.plot(simulated_y)\n",
    "plt.title('Output (y_t)')\n",
    "plt.xlabel('Period')\n",
    "plt.ylabel('Output')\n",
    "\n",
    "plt.subplot(3, 1, 2)\n",
    "plt.plot(simulated_pi)\n",
    "plt.title('Inflation (π_t)')\n",
    "plt.xlabel('Period')\n",
    "plt.ylabel('Inflation')\n",
    "\n",
    "plt.subplot(3, 1, 3)\n",
    "plt.plot(simulated_r)\n",
    "plt.title('Interest Rate (r_t)')\n",
    "plt.xlabel('Period')\n",
    "plt.ylabel('Interest Rate')\n",
    "\n",
    "plt.tight_layout()\n",
    "plt.show()\n",
    "\n",
    "# Print the optimal values with variable names\n",
    "variable_names = [\"Exp_y_t1\", \"Exp_r_t\", \"Exp_pi_t1\", \"sigma\", \"rho\", \"kappa\", \"beta\", \"phi_y\", \"phi_pi\"]\n",
    "print(\"Optimal values:\")\n",
    "for name, value in zip(variable_names, optimal_values):\n",
    "    print(name + \":\", value)\n"
   ]
  },
  {
   "cell_type": "markdown",
   "metadata": {},
   "source": [
    "After finding the optimal values for every variables, we found our 3 optimized equations. \n",
    "\n",
    "This three equations are usefull as they are at the very heart of every DGSE (Dynamic Stochastic General Equilibrium) model. \n",
    "Also, this is micro-founded, so it can survive to the Lucas critics.\n",
    "\n",
    "Finally, with the optimal values, the three equations should look like the one ploted above. "
   ]
  },
  {
   "cell_type": "markdown",
   "metadata": {},
   "source": [
    "## Numerical solution"
   ]
  },
  {
   "cell_type": "markdown",
   "metadata": {},
   "source": [
    "In order to run the numerical solution's code successfully the value for demand shock, cost-push shock and monetary policy shock should be input by hand in the command bar. It will be asked and you should see it appears when you run the code."
   ]
  },
  {
   "cell_type": "markdown",
   "metadata": {},
   "source": [
    "\n",
    "IS Curve:\n",
    "$$\n",
    "y_t = E_t[y_{t+1}] - 1/σ * (E_t[r_t] - ρ) + u_{IS}\n",
    "$$\n",
    "Phillips Curve:\n",
    "$$\n",
    "π_t = κy_t + βE_t[π_{t+1}] + u_{CP}\n",
    "$$\n",
    "Taylor Rule:\n",
    "$$\n",
    "r_t = ρ + ϕ_yE_t[y_{t+1}] + ϕ_πE_t[π_{t+1}] + u_{MP}\n",
    "$$"
   ]
  },
  {
   "cell_type": "code",
   "execution_count": 10,
   "metadata": {},
   "outputs": [],
   "source": [
    "# Optimal expected values\n",
    "Exp_y_t1 = 0.32698473454219756\n",
    "Exp_r_t = 0.735243786811864\n",
    "Exp_pi_t1 = 0.610607097923002\n",
    "\n",
    "# Parameters\n",
    "sigma = 0.7638707782341321\n",
    "rho = 0.6593345132625752\n",
    "kappa = 0.3351455451896026\n",
    "beta = 0.5601533588416543\n",
    "phi_y = 0.2946023646250788\n",
    "phi_pi = 0.28832123649374375\n",
    "\n",
    "def model_system(vars, u_IS, u_CP, u_MP):\n",
    "    y, pi, r = vars\n",
    "\n",
    "    # IS curve equation (demand shock)\n",
    "    IS_eq = y - (Exp_y_t1 - (1 / sigma) * (Exp_r_t - rho) + u_IS)\n",
    "\n",
    "    # Phillips curve equation (cost-push shock)\n",
    "    PC_eq = pi - (kappa * y + beta * Exp_pi_t1 + u_CP)\n",
    "\n",
    "    # Monetary policy rule (monetary policy shock)\n",
    "    MP_eq = r - (rho + phi_y * Exp_y_t1 + phi_pi * Exp_pi_t1 + u_MP)\n",
    "\n",
    "    return [IS_eq, PC_eq, MP_eq]\n",
    "\n",
    "def solve_system(u_IS, u_CP, u_MP):\n",
    "    def wrapper(vars):\n",
    "        return model_system(vars, u_IS, u_CP, u_MP)\n",
    "\n",
    "    # Initial guess for the solver\n",
    "    initial_guess = [0, 0, 0]\n",
    "\n",
    "    # Solve the system with fsolve\n",
    "    return fsolve(wrapper, initial_guess)\n",
    "\n",
    "# Get shock inputs from the user or external source\n",
    "u_IS_input = float(input(\"Enter value for demand shock (u_IS): 0.2\"))\n",
    "u_CP_input = float(input(\"Enter value for cost-push shock (u_CP): 0.1\"))\n",
    "u_MP_input = float(input(\"Enter value for monetary policy shock (u_MP): 0.08\"))\n",
    "\n",
    "# Solve the system with provided shock values\n",
    "solution = solve_system(u_IS_input, u_CP_input, u_MP_input)\n",
    "\n",
    "# Extract the solutions\n",
    "output, inflation, interest_rate = solution\n",
    "\n",
    "# Print results\n",
    "print(f\"Output: {output}, Inflation: {inflation}, Interest Rate: {interest_rate}\")"
   ]
  },
  {
   "cell_type": "markdown",
   "metadata": {},
   "source": [
    "# Conclusion"
   ]
  },
  {
   "cell_type": "markdown",
   "metadata": {},
   "source": [
    "Add concise conclusion. "
   ]
  }
 ],
 "metadata": {
  "kernelspec": {
   "display_name": "base",
   "language": "python",
   "name": "python3"
  },
  "language_info": {
   "codemirror_mode": {
    "name": "ipython",
    "version": 3
   },
   "file_extension": ".py",
   "mimetype": "text/x-python",
   "name": "python",
   "nbconvert_exporter": "python",
   "pygments_lexer": "ipython3",
   "version": "3.11.5"
  },
  "toc-autonumbering": true,
  "vscode": {
   "interpreter": {
    "hash": "47ef90cdf3004d3f859f1fb202523c65c07ba7c22eefd261b181f4744e2d0403"
   }
  }
 },
 "nbformat": 4,
 "nbformat_minor": 4
}
